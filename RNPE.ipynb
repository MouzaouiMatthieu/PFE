{
 "cells": [
  {
   "cell_type": "code",
   "execution_count": 1,
   "metadata": {},
   "outputs": [
    {
     "name": "stderr",
     "output_type": "stream",
     "text": [
      "c:\\Users\\mmmat\\anaconda3\\envs\\sbi_env1\\lib\\site-packages\\numpy\\_distributor_init.py:30: UserWarning: loaded more than 1 DLL from .libs:\n",
      "c:\\Users\\mmmat\\anaconda3\\envs\\sbi_env1\\lib\\site-packages\\numpy\\.libs\\libopenblas.EL2C6PLE4ZYW3ECEVIV3OXXGRN2NRFM2.gfortran-win_amd64.dll\n",
      "c:\\Users\\mmmat\\anaconda3\\envs\\sbi_env1\\lib\\site-packages\\numpy\\.libs\\libopenblas.FB5AE2TYXYH2IJRDKGDGQ3XBKLKTF43H.gfortran-win_amd64.dll\n",
      "  warnings.warn(\"loaded more than 1 DLL from .libs:\"\n",
      "c:\\Users\\mmmat\\anaconda3\\envs\\sbi_env1\\lib\\site-packages\\scipy\\__init__.py:146: UserWarning: A NumPy version >=1.16.5 and <1.23.0 is required for this version of SciPy (detected version 1.23.5\n",
      "  warnings.warn(f\"A NumPy version >={np_minversion} and <{np_maxversion}\"\n"
     ]
    }
   ],
   "source": [
    "import torch\n",
    "import matplotlib.pyplot as plt\n",
    "import numpy as np\n",
    "import scipy.integrate as integrate\n",
    "\n",
    "import ipywidgets as widgets\n",
    "from IPython.display import display\n",
    "import pickle\n",
    "\n",
    "\n",
    "import torch\n",
    "from sbi import utils as utils\n",
    "from sbi import analysis as analysis\n",
    "from sbi.inference import SNPE, prepare_for_sbi, simulate_for_sbi\n",
    "from sbi.utils.get_nn_models import posterior_nn\n",
    "import matplotlib.pyplot as plt\n",
    "import seaborn as sns\n",
    "import pandas as pd\n",
    "from functools import partial\n",
    "\n",
    "import zuko\n",
    "import lampe.inference\n",
    "import lampe.utils\n",
    "from tqdm.notebook import tqdm_notebook as tqdm\n",
    "from lampe.utils import GDStep\n",
    "\n",
    "from itertools import islice\n",
    "from lampe.data import JointLoader"
   ]
  },
  {
   "cell_type": "code",
   "execution_count": 2,
   "metadata": {},
   "outputs": [],
   "source": [
    "theta_true = torch.Tensor([0])\n",
    "prior = torch.distributions.Normal(0, 5)\n",
    "N=100\n",
    "theta_grid = np.linspace(-8,8,1000)\n",
    "N_simu = 50_000"
   ]
  },
  {
   "cell_type": "code",
   "execution_count": 3,
   "metadata": {},
   "outputs": [],
   "source": [
    "zi = torch.distributions.Normal(theta_true, 1).sample((N,)).squeeze().tolist()\n",
    "z1, z2 = zi[0], zi[1]"
   ]
  },
  {
   "cell_type": "code",
   "execution_count": 4,
   "metadata": {},
   "outputs": [],
   "source": [
    "# To compute the true posteriors distributions for every summary statistics\n",
    "def posterior_z(thetas, z1=z1, z2=z2,sigma_y_2=1):\n",
    "    \"\"\"Posterior if we observe z1, z2\"\"\"\n",
    "    def improper_posterior_z(theta, z1=z1, z2=z2):\n",
    "        likelihood_part = -(np.square(theta-z1) + np.square(theta-z2))/(2*sigma_y_2**2)\n",
    "        prior_part = np.square(theta)/50\n",
    "        res = np.exp(likelihood_part)*np.exp(prior_part)\n",
    "        return res\n",
    "    Z_z1_z2, eps = integrate.quad(improper_posterior_z,-15,15) #Integral of p_impropre(θ|z1,z2)\n",
    "    return [improper_posterior_z(theta,z1,z2)/Z_z1_z2 for theta in thetas]\n",
    "x = (z1 + z2)/2\n",
    "def posterior_x(thetas, x=x, sigma_2_y=1):\n",
    "    \"\"\"Posterior when observing x=mean(z1, z2)\"\"\"\n",
    "    def improper_posterior_x(theta, x=x):\n",
    "        likelihood_part = -np.square(theta - x)/sigma_2_y**2\n",
    "        prior_part = -np.square(theta)/50\n",
    "        return np.exp(likelihood_part)*np.exp(prior_part)\n",
    "    z_x, eps = integrate.quad(improper_posterior_x, -15, 15)\n",
    "    return [improper_posterior_x(theta,x)/z_x for theta in thetas]\n",
    "x = np.mean(zi)\n",
    "def posterior_x_N(thetas, x=x,sigma_2_y=1):\n",
    "    \"\"\"Posterior when observing x= mean(z1, z2... ,zn)\"\"\"\n",
    "    def improper_posterior_x_N(theta, x=x):\n",
    "        likelihood_part = -N*np.square(theta -x)/(2*sigma_2_y**2)\n",
    "        prior_part = -np.square(theta)/50\n",
    "        return np.exp(likelihood_part)*np.exp(prior_part)\n",
    "    z_x_n, eps = integrate.quad(improper_posterior_x_N,-15, 15)\n",
    "    \n",
    "    return [improper_posterior_x_N(theta,x)/z_x_n for theta in thetas]\n",
    "x1 = np.mean(zi)\n",
    "x2 = np.var(zi)\n",
    "def posterior_summaries(thetas, x1=x1, x2=x2,sigma_2_y=1):\n",
    "\n",
    "    \"\"\"Posterior when observing x= mean(z1...zn), var(z1...zn)\"\"\"\n",
    "    def improper_posterior_summaries(theta,x1=x1,x2=x2):\n",
    "        likelihood_x1_part = -N*np.square(theta - x1)/(2*sigma_2_y**2)\n",
    "        likelihood_x2_part = -0.5*np.square(sigma_2_y - x2)/(2*np.square(sigma_2_y)/N)\n",
    "        prior_part = -np.square(theta)/50\n",
    "        return np.exp(likelihood_x1_part)*np.exp(likelihood_x2_part)*np.exp(prior_part)\n",
    "    z_summaries, eps = integrate.quad(improper_posterior_summaries, -25, 25)\n",
    "    return [improper_posterior_summaries(theta,x1,x2)/z_summaries for theta in thetas]\n",
    "\n",
    "#x=np.var(zi)\n",
    "def posterior_var(thetas, x=x):\n",
    "    \"\"\"Posterior when observing x= var(z1...zn)\"\"\"\n",
    "    def improper_posterior_var(theta,x=x):\n",
    "        likelihood_part = -N*np.square(x-1)\n",
    "        prior_part = -np.square(theta)/50\n",
    "        return np.exp(likelihood_part)*np.exp(prior_part)\n",
    "    z_summaries, eps = integrate.quad(improper_posterior_var, -25, 25)\n",
    "    return [improper_posterior_var(theta,x)/z_summaries for theta in thetas]\n"
   ]
  },
  {
   "cell_type": "code",
   "execution_count": 5,
   "metadata": {},
   "outputs": [],
   "source": [
    "def get_true_post(summaries, x_star,sigma_y_2=1):\n",
    "    theta_grid_t =theta_grid  # Convert theta_grid to a torch tensor\n",
    "\n",
    "    if \"two_z\" == summaries:\n",
    "        # We observe z1, z2\n",
    "        post = posterior_z(theta_grid_t, x_star[0], x_star[1],sigma_y_2) \n",
    "        dist = posterior_z\n",
    "    elif \"mean_two_z\" == summaries:\n",
    "        # We observed x = mean(z1, z2)\n",
    "        post = posterior_x(theta_grid_t, x_star,sigma_y_2) \n",
    "        dist = posterior_x\n",
    "    elif \"var\" == summaries:\n",
    "        # We observe x = var(z1...zn)\n",
    "        post = posterior_var(theta_grid_t, x_star,sigma_y_2) \n",
    "        dist = posterior_var\n",
    "    elif \"var\" in summaries and \"mean\" in summaries:\n",
    "        # We observe x = (x1, x2) = (mean, var)\n",
    "        post = posterior_summaries(theta_grid_t, x_star[0], x_star[1],sigma_y_2) \n",
    "        dist = posterior_summaries\n",
    "    elif \"mean\" == summaries:\n",
    "        # We observe x = mean(z1, ... z100)\n",
    "        post = posterior_x_N(theta_grid_t, x_star,sigma_y_2)\n",
    "        dist = posterior_x_N\n",
    "\n",
    "   # post = torch.stack(post).cuda()  # Move post to CUDA\n",
    "    return post\n"
   ]
  },
  {
   "cell_type": "code",
   "execution_count": 6,
   "metadata": {},
   "outputs": [],
   "source": [
    "device=torch.device(\"cuda\" if torch.cuda.is_available() else \"cpu\")\n",
    "device='cpu'\n"
   ]
  },
  {
   "cell_type": "code",
   "execution_count": 7,
   "metadata": {},
   "outputs": [],
   "source": [
    "def generate_data(thetas, sigma_y_2=1):\n",
    "    N = thetas.shape[0]\n",
    "    sigma_eps = sigma_y_2-1\n",
    "    res = {}\n",
    "    means = torch.zeros((N, 1), device=device)\n",
    "    means_two_z = torch.zeros((N, 1), device=device)\n",
    "    means_and_vars = torch.zeros((N, 2), device=device)\n",
    "    vars = torch.zeros((N, 1), device=device)\n",
    "    raws = torch.zeros((N, 1), device=device)\n",
    "    two_z_l = torch.zeros((N, 2), device=device)\n",
    "    \n",
    "    for i, theta in enumerate(thetas):\n",
    "        z = torch.distributions.Normal(theta, 1).sample((100,)).to(device)\n",
    "        mean = z.mean()\n",
    "        var = z.var()\n",
    "        z0, z1 = z[0], z[1]\n",
    "        mean_two_z = torch.mean(torch.stack([z0, z1]))\n",
    "        \n",
    "        means[i] = mean\n",
    "        means_two_z[i] = mean_two_z.unsqueeze_(0)\n",
    "        means_and_vars[i] = torch.stack([mean.unsqueeze_(0), var.unsqueeze_(0)]).squeeze_()\n",
    "        two_z_l[i] = torch.stack([z0, z1]).squeeze_()\n",
    "        vars[i] = var\n",
    "        raws[i] = z0\n",
    "            \n",
    "    res[\"mean\"] = {\"x\": means}\n",
    "    res[\"mean_two_z\"] = {\"x\": means_two_z}\n",
    "    res[\"mean_and_var\"] = {\"x\": means_and_vars}\n",
    "    res[\"two_z\"] = {\"x\": two_z_l}\n",
    "    res[\"raw_z\"] = {\"x\": raws}\n",
    "    res[\"var\"] = {\"x\": vars}\n",
    "    \n",
    "    for key in res.keys():\n",
    "        norm_min = np.inf\n",
    "        for n_run in range(10):\n",
    "            eps = torch.distributions.Normal(torch.zeros_like(res[key][\"x\"]), np.sqrt(sigma_eps)).sample().to(device)\n",
    "            if torch.norm(eps) < norm_min:\n",
    "                epsilons = eps\n",
    "                norm_min = torch.norm(eps)\n",
    "        res[key][\"eps\"] = epsilons\n",
    "        scale_mean, scale_std = res[key][\"x\"].mean(0), res[key][\"x\"].std(0)\n",
    "        res[key][\"scale_parameters\"] = scale_mean, scale_std\n",
    "        res[key][\"scaled_x\"] = (res[key][\"x\"] - scale_mean) / scale_std\n",
    "        \n",
    "    return res\n"
   ]
  },
  {
   "cell_type": "code",
   "execution_count": 8,
   "metadata": {},
   "outputs": [],
   "source": [
    "summary = \"mean_and_var\"\n",
    "sigma_2_y = 2"
   ]
  },
  {
   "cell_type": "code",
   "execution_count": 9,
   "metadata": {},
   "outputs": [],
   "source": [
    "def scale(quantity):\n",
    "    mean = quantity.mean(0)\n",
    "    std = quantity.std(0)\n",
    "    return (quantity-mean)/std, mean, std\n"
   ]
  },
  {
   "cell_type": "code",
   "execution_count": 10,
   "metadata": {},
   "outputs": [],
   "source": [
    "def build_nsf(features, context):\n",
    "    \"\"\"Callable to instantiate the NPE with NSFs\"\"\"\n",
    "    return zuko.flows.NSF(features, context, bins=10, transforms=5).to(device)\n",
    "\n",
    "def train_flow(flow, loss, theta, x, theta_test, x_test):\n",
    "    optimizer = torch.optim.Adam(flow.parameters(), lr=5e-3)\n",
    "    theta_test = theta_test.unsqueeze(-1).to(device)\n",
    "    data = lampe.data.JointDataset(theta.to(device), x.to(device))\n",
    "    loader = lampe.data.DataLoader(data, 256)\n",
    "    \n",
    "    with torch.no_grad():\n",
    "        min_loss = loss(theta_test, x_test.to(device))\n",
    "    min_loss_list = [min_loss.item()]  # Convert min_loss to a scalar\n",
    "    \n",
    "    flow.train()\n",
    "\n",
    "    for epoch in range(50):\n",
    "        for theta_batch, x_batch in loader:\n",
    "            theta_batch = theta_batch.unsqueeze(-1).to(device)\n",
    "            x_batch = x_batch.to(device)\n",
    "            losses = loss(theta_batch, x_batch)\n",
    "            optimizer.zero_grad()\n",
    "            losses.backward()\n",
    "            optimizer.step()\n",
    "        \n",
    "        # Checking for early stopping\n",
    "        with torch.no_grad():\n",
    "            loss_test = loss(theta_test, x_test.to(device))\n",
    "            min_loss_list.append(loss_test.item())  # Convert loss_test to a scalar\n",
    "            if len(min_loss_list) - np.argmin(min_loss_list) > 5: # No improvement in loss(test) for the last 5 iterations\n",
    "                # Early stop  \n",
    "\n",
    "                break\n",
    "\n",
    "    flow.eval()\n",
    "    return flow\n",
    "\n",
    "def create_train_flow(summaries, theta, data, theta_test, data_test):\n",
    "    shape_x = lambda x: 2 if x == \"mean_and_var\" or x == \"two_z\" else 1\n",
    "    flow = lampe.inference.NPE(theta_dim=1, x_dim=shape_x(summaries), build=build_nsf).to(device)\n",
    "    loss = lampe.inference.NPELoss(flow).to(device)\n",
    "    x = data[summaries][\"scaled_x\"].to(device)\n",
    "    x_test = data_test[summaries][\"scaled_x\"].to(device)\n",
    "    flow = train_flow(flow, loss, theta, x, theta_test, x_test)\n",
    "    return flow\n",
    "\n",
    "\n",
    "theta = prior.sample((N_simu, )).to(device)\n",
    "theta_test = prior.sample((N_simu // 10, )).to(device)\n",
    "theta_scaled, theta_means, theta_stds = scale(theta)\n",
    "theta_test_scaled, _, __ = scale(theta_test)\n",
    "data = generate_data(theta, sigma_2_y)\n",
    "data_test = generate_data(theta_test, sigma_2_y)\n",
    "q_NPE = create_train_flow(summary, theta, data, theta_test, data_test) #!\n"
   ]
  },
  {
   "cell_type": "code",
   "execution_count": 11,
   "metadata": {},
   "outputs": [],
   "source": [
    "true_obs_data = generate_data(theta_true, sigma_2_y)\n",
    "x0 = true_obs_data[summary][\"x\"].to(device)\n",
    "y0 = x0 + true_obs_data[summary][\"eps\"].to(device)\n",
    "\n",
    "x0_scaled = (x0 - data[summary][\"scale_parameters\"][0])/data[summary][\"scale_parameters\"][1]\n",
    "y0_scaled = (y0 - data[summary][\"scale_parameters\"][0])/data[summary][\"scale_parameters\"][1]"
   ]
  },
  {
   "cell_type": "code",
   "execution_count": 12,
   "metadata": {},
   "outputs": [],
   "source": [
    "def train_unconditional_flow(flow, loss, x, x_test):\n",
    "    optimizer = torch.optim.Adam(flow.parameters(), lr=1e-2)\n",
    "    loader = torch.utils.data.DataLoader(x.to(device), 256)\n",
    "    \n",
    "    with torch.no_grad():\n",
    "        min_loss = loss(x_test.to(device))\n",
    "    min_loss_list = [min_loss.item()]  # Convert min_loss to a scalar\n",
    "    \n",
    "    flow.train()\n",
    "\n",
    "\n",
    "    for epoch in range(50):\n",
    "        for x_batch in loader:\n",
    "            x_batch = x_batch.to(device)\n",
    "            losses = loss(x_batch)\n",
    "            optimizer.zero_grad()\n",
    "            losses.backward()\n",
    "            optimizer.step()\n",
    "        \n",
    "        # Checking for early stopping\n",
    "        with torch.no_grad():\n",
    "            loss_test = loss(x_test.to(device))\n",
    "            min_loss_list.append(loss_test.item())  # Convert loss_test to a scalar\n",
    "            if len(min_loss_list) - np.argmin(min_loss_list) > 5: # No improvement in loss(test) for the last 5 iterations\n",
    "                # Early stop  \n",
    "\n",
    "                break\n",
    "    flow.eval()\n",
    "    return flow\n",
    "\n",
    "def create_train_unconditional_flow(summaries, data, data_test):\n",
    "    shape_x = lambda x: 2 if x == \"mean_and_var\" or x == \"two_z\" else 1\n",
    "    flow = zuko.flows.NAF(features=shape_x(summaries), context=0).to(device) #!\n",
    "    loss = lambda x: -flow().log_prob(x).mean()\n",
    "    x = data[summaries][\"scaled_x\"].to(device)\n",
    "    x_test = data_test[summaries][\"scaled_x\"].to(device)\n",
    "    flow = train_unconditional_flow(flow, loss, x, x_test)\n",
    "    return flow\n",
    "\n",
    "\n",
    "\n",
    "q_x_NF = create_train_unconditional_flow(summary, data, data_test)\n"
   ]
  },
  {
   "cell_type": "code",
   "execution_count": 13,
   "metadata": {},
   "outputs": [
    {
     "data": {
      "text/plain": [
       "tensor(False)"
      ]
     },
     "execution_count": 13,
     "metadata": {},
     "output_type": "execute_result"
    }
   ],
   "source": [
    "q_x_NF().sample((10_000,)).isinf().any()"
   ]
  },
  {
   "cell_type": "code",
   "execution_count": null,
   "metadata": {},
   "outputs": [],
   "source": [
    "from sklearn.model_selection import train_test_split\n",
    "from sklearn.svm import SVC"
   ]
  },
  {
   "cell_type": "code",
   "execution_count": 34,
   "metadata": {},
   "outputs": [],
   "source": [
    "def train_classifier(clf,sample1, sample2):\n",
    "\n",
    "    y1 = np.zeros(len(sample1))\n",
    "    y2 = np.ones(len(sample2))\n",
    "    X = np.concatenate((sample1, sample2), axis=0)\n",
    "    y = np.concatenate((y1, y2), axis=0)\n",
    "    indices = np.random.permutation(len(X))\n",
    "    X = X[indices]\n",
    "    y = y[indices]\n",
    "    X_train, X_test, y_train, y_test = train_test_split(X, y, test_size=0.2, random_state=42)\n",
    "    classifier = clf()\n",
    "    classifier.fit(X_train, y_train)\n",
    "    accuracy = classifier.score(X_test, y_test)\n",
    "\n",
    "\n",
    "    return classifier, accuracy"
   ]
  },
  {
   "cell_type": "code",
   "execution_count": null,
   "metadata": {},
   "outputs": [],
   "source": [
    "clf = SVC()\n",
    "train_classifier(clf,data[summary][\"scaled_x\"],q_x_NF().sample((10_000,)))"
   ]
  },
  {
   "cell_type": "code",
   "execution_count": 14,
   "metadata": {},
   "outputs": [],
   "source": [
    "npe_samples_x = q_NPE.sample(x0_scaled,(20_000,))\n",
    "npe_samples_rescaled_x = (npe_samples_x+theta_means)*theta_stds\n",
    "true_post = get_true_post(summary,x0.squeeze().cpu().numpy())\n",
    "\n",
    "npe_samples_y = q_NPE.sample(y0_scaled,(20_000,))\n",
    "npe_samples_rescaled_y =(npe_samples_y+theta_means)*theta_stds\n",
    "theoritical_post_y = get_true_post(summary,y0.squeeze().cpu().numpy())"
   ]
  },
  {
   "cell_type": "code",
   "execution_count": 15,
   "metadata": {},
   "outputs": [
    {
     "data": {
      "image/png": "[encoded data removed]",
      "text/plain": [
       "<Figure size 640x480 with 1 Axes>"
      ]
     },
     "metadata": {},
     "output_type": "display_data"
    }
   ],
   "source": [
    "fig, ax = plt.subplots()\n",
    "ax.hist(npe_samples_x.cpu().squeeze().cpu(), bins=400, density=True, label=\"Samples from q_(θ|x=x0)\") #!\n",
    "ax.plot(theta_grid, true_post, label=\"Theoretical posterior p(θ|x=x0)\")\n",
    "ax.hist(npe_samples_y.cpu().squeeze(), bins=200, density=True, label=\"Samples from q(θ|x=y0)\")\n",
    "ax.plot(theta_grid, theoritical_post_y, label=\"Theoretical posterior p(θ|x=y0)\")\n",
    "\n",
    "ax.set_title(\"Posteriors q and p\")\n",
    "ax.set_xlim(-3, 3)\n",
    "ax.legend()\n",
    "plt.show()"
   ]
  },
  {
   "cell_type": "code",
   "execution_count": 16,
   "metadata": {},
   "outputs": [],
   "source": [
    "M = 100_000\n",
    "warm_up_steps = 20_000\n",
    "\n",
    "sigma = 0.01\n",
    "tau = 0.25\n",
    "rho = 1/2"
   ]
  },
  {
   "cell_type": "code",
   "execution_count": 17,
   "metadata": {},
   "outputs": [],
   "source": [
    "\n",
    "import torch.distributions as dist\n",
    "\n",
    "\n",
    "\n",
    "# Define the proposal function\n",
    "def proposal(x_curr):\n",
    "\n",
    "    return x_curr + dist.Normal(0, 1).sample(x_curr.shape).to(device)\n",
    "\n",
    "# Define the f function\n",
    "def f(y0, x, rho, sigma, tau, q_x_NF):\n",
    "    D = 2\n",
    "    res = torch.zeros_like(y0)\n",
    "\n",
    "    for j in range(D):\n",
    "        xj = x[j]\n",
    "        yj = y0[j]\n",
    "        zj = dist.Bernoulli(rho).sample().to(device)\n",
    "        if not zj:\n",
    "            spike_dist = dist.Normal(xj.detach(), torch.tensor(sigma).to(device))\n",
    "            res[j] = torch.exp(spike_dist.log_prob(yj))\n",
    "        else:\n",
    "            slab_dist = dist.Cauchy(xj.detach(), torch.tensor(tau).to(device))\n",
    "            res[j] = torch.exp(slab_dist.log_prob(yj))\n",
    "    return res * torch.exp(q_x_NF().log_prob(x))\n",
    "\n",
    "def mcmc(x0, warm_up_steps, M, y0, rho, sigma, tau, q_x_NF):\n",
    "\n",
    "    x_curr = x0.to(device)\n",
    "    my_samples = torch.empty((warm_up_steps + M, x0.shape[0])).to(device)\n",
    "    log_f_x_curr = f(y0, x_curr, rho, sigma, tau, q_x_NF).log()\n",
    "    \n",
    "    for i in tqdm(range(warm_up_steps + M)):\n",
    "        x_star = proposal(x_curr)\n",
    "        log_f_x_star = f(y0, x_star, rho, sigma, tau, q_x_NF).log()\n",
    "\n",
    "        log_a = log_f_x_star - log_f_x_curr\n",
    "\n",
    "        a = torch.exp(log_a)\n",
    "\n",
    "        u = torch.cuda.FloatTensor(a.shape).uniform_().to(device)\n",
    "\n",
    "        mask = u < a\n",
    "\n",
    "        x_curr = torch.where(mask, x_star, x_curr)\n",
    "        log_f_x_curr = torch.where(mask, log_f_x_star, log_f_x_curr)\n",
    "\n",
    "        my_samples[i] = x_curr\n",
    "\n",
    "\n",
    "    my_samples = my_samples[warm_up_steps:]\n",
    "    return my_samples\n",
    "\n"
   ]
  },
  {
   "cell_type": "code",
   "execution_count": 18,
   "metadata": {},
   "outputs": [
    {
     "data": {
      "text/plain": [
       "'cpu'"
      ]
     },
     "execution_count": 18,
     "metadata": {},
     "output_type": "execute_result"
    }
   ],
   "source": [
    "device"
   ]
  },
  {
   "cell_type": "code",
   "execution_count": 19,
   "metadata": {},
   "outputs": [
    {
     "data": {
      "application/vnd.jupyter.widget-view+json": {
       "model_id": "4bb827e8724f4f9eaf7e5debbf4b9217",
       "version_major": 2,
       "version_minor": 0
      },
      "text/plain": [
       "  0%|          | 0/120000 [00:00<?, ?it/s]"
      ]
     },
     "metadata": {},
     "output_type": "display_data"
    }
   ],
   "source": [
    "with torch.no_grad():\n",
    "    xm = mcmc(torch.zeros_like(data[summary][\"x\"][0]).to(device), warm_up_steps, M, y0_scaled.squeeze().to(device), rho, sigma, tau, q_x_NF)\n"
   ]
  },
  {
   "cell_type": "code",
   "execution_count": 20,
   "metadata": {},
   "outputs": [
    {
     "data": {
      "text/plain": [
       "tensor([0.0460, 1.0004])"
      ]
     },
     "execution_count": 20,
     "metadata": {},
     "output_type": "execute_result"
    }
   ],
   "source": [
    "xm[0]"
   ]
  },
  {
   "cell_type": "code",
   "execution_count": 21,
   "metadata": {},
   "outputs": [
    {
     "data": {
      "text/plain": [
       "<matplotlib.legend.Legend at 0x26be6ab3e20>"
      ]
     },
     "execution_count": 21,
     "metadata": {},
     "output_type": "execute_result"
    },
    {
     "data": {
      "image/png": "[encoded data removed]",
      "text/plain": [
       "<Figure size 640x480 with 1 Axes>"
      ]
     },
     "metadata": {},
     "output_type": "display_data"
    }
   ],
   "source": [
    "fig, ax = plt.subplots()\n",
    "\n",
    "ax.scatter(x=data[summary][\"scaled_x\"][:,0].cpu(),y=data[summary][\"scaled_x\"][:,1].cpu(), color=\"blue\", label=\"Simulator outputs\", s=1)\n",
    "ax.scatter(x=xm[:,0].cpu(),y=xm[:,1].cpu(), label=\"Denoised outputs from the MCMC sampler\", color=\"yellow\", s=1)\n",
    "ax.scatter(x=y0_scaled.cpu()[:,0],y=y0_scaled.cpu()[:,1], label=\"y0 scaled\", color=\"green\", s=20)\n",
    "ax.set_xlabel(\"Mean (z1,...,zn)\")\n",
    "ax.set_ylabel(\"Var(z1,...,zn)\")\n",
    "ax.set_title(\"Simulated and denoised x, scaled version\")\n",
    "ax.legend(bbox_to_anchor=(1.04, 1), loc=\"upper left\")"
   ]
  },
  {
   "cell_type": "code",
   "execution_count": 22,
   "metadata": {},
   "outputs": [],
   "source": [
    "rnpe_samples = q_NPE.sample(xm)\n",
    "rnpe_samples_unscaled = (rnpe_samples+theta_means)*theta_stds"
   ]
  },
  {
   "cell_type": "code",
   "execution_count": 23,
   "metadata": {},
   "outputs": [],
   "source": [
    "true_post_y = posterior_summaries(theta_grid, y0.cpu().squeeze()[0].item(),y0.cpu().squeeze()[1].item(),sigma_2_y)"
   ]
  },
  {
   "cell_type": "code",
   "execution_count": 24,
   "metadata": {},
   "outputs": [],
   "source": [
    "npe_samples = q_NPE.sample(y0_scaled,(20_000,))\n",
    "true_post = get_true_post(summary,y0.squeeze().cpu().numpy())"
   ]
  },
  {
   "cell_type": "code",
   "execution_count": 25,
   "metadata": {},
   "outputs": [
    {
     "data": {
      "text/plain": [
       "(-5.0, 5.0)"
      ]
     },
     "execution_count": 25,
     "metadata": {},
     "output_type": "execute_result"
    },
    {
     "data": {
      "image/png": "[encoded data removed]",
      "text/plain": [
       "<Figure size 640x480 with 1 Axes>"
      ]
     },
     "metadata": {},
     "output_type": "display_data"
    }
   ],
   "source": [
    "plt.hist(npe_samples.squeeze().cpu(),bins=200, density=True,color=\"green\",alpha=0.5,label=\"NPE samples q(θ|y0)\")\n",
    "plt.hist(rnpe_samples.squeeze().cpu(),bins=200, density=True, color=\"red\",alpha=0.5, label=\"RNPE samples q(θ|y0)\")\n",
    "plt.plot(theta_grid,true_post_y,color='yellow', label=\" p(θ|y0) under the true DGP\")\n",
    "plt.xlim(-5,5)"
   ]
  },
  {
   "cell_type": "code",
   "execution_count": 26,
   "metadata": {},
   "outputs": [
    {
     "data": {
      "text/plain": [
       "2"
      ]
     },
     "execution_count": 26,
     "metadata": {},
     "output_type": "execute_result"
    }
   ],
   "source": [
    "sigma_2_y"
   ]
  },
  {
   "cell_type": "code",
   "execution_count": 27,
   "metadata": {},
   "outputs": [
    {
     "data": {
      "text/plain": [
       "100000"
      ]
     },
     "execution_count": 27,
     "metadata": {},
     "output_type": "execute_result"
    }
   ],
   "source": [
    "M"
   ]
  },
  {
   "cell_type": "code",
   "execution_count": 28,
   "metadata": {},
   "outputs": [],
   "source": [
    "def compute_distances(true_post_density,sample):\n",
    "    true_post_samples = np.random.choice(theta_grid,size=100_000,p=true_post_density/sum(true_post_density))\n",
    "    mean_true, std_true = np.mean(true_post_samples), np.std(true_post_samples)\n",
    "    mean_sample, std_sample = np.mean(sample), np.std(sample)\n",
    "    return np.square(mean_true-mean_sample) +np.square(np.log(std_true/std_sample))"
   ]
  },
  {
   "cell_type": "code",
   "execution_count": 36,
   "metadata": {},
   "outputs": [],
   "source": [
    "def computes_and_prepare_graphs(sigma_2):\n",
    "    plt.close()\n",
    "    summaries = [\"two_z\",\"mean_two_z\",\"mean\",\"mean_and_var\"]\n",
    "    summaries = [\"mean_and_var\"]\n",
    "    summary = \"mean_and_var\" #! \n",
    "\n",
    "    fig, ax = plt.subplots(2,1, figsize=(10,10))\n",
    "    i=0\n",
    "    \n",
    "    n_runs = 10\n",
    "    x0_l = []\n",
    "    y0_l = []   \n",
    "    npe_samples_l =[]\n",
    "    rnpe_samples_l = []\n",
    "    distance_npe_l = []\n",
    "    distance_rnpe_l = []\n",
    "    data_l = []\n",
    "    xm_l = []\n",
    "    x0_scaled_l,y0_scaled_l = [], []\n",
    "    true_post_samples_l = []\n",
    "    true_post_y_l = []\n",
    "    distance_l = []\n",
    "    for i in range(n_runs):\n",
    "        #Simulating data\n",
    "        theta = prior.sample((N_simu,)).to(device)\n",
    "        theta_test = prior.sample((N_simu//10,))\n",
    "        data = generate_data(theta,sigma_2)\n",
    "        data_l.append(data)\n",
    "        data_test = generate_data(theta_test, sigma_2)\n",
    "        #Creating and training both flows\n",
    "        q_NPE = create_train_flow(summary, theta, data, theta_test, data_test)\n",
    "        q_x_NF = create_train_unconditional_flow(summary, data, data_test)\n",
    "        #Generating the observed data\n",
    "        true_obs_data_l = []\n",
    "\n",
    "        true_obs_data_l.append(generate_data(theta_true, sigma_2))\n",
    "        \n",
    "        x0_l.append(true_obs_data_l[-1][summary][\"x\"])\n",
    "        y0_l.append(x0_l[-1] + true_obs_data_l[-1][summary][\"eps\"])\n",
    "        x0_scaled_l.append((x0_l[-1] - data[summary][\"scale_parameters\"][0])/data[summary][\"scale_parameters\"][1])\n",
    "        y0_scaled_l.append((y0_l[-1] - data[summary][\"scale_parameters\"][0])/data[summary][\"scale_parameters\"][1])\n",
    "        #Denoising x from the observed y\n",
    "        with torch.no_grad():    \n",
    "            xm_l.append(mcmc(torch.zeros_like(data[summary][\"x\"][0]), warm_up_steps, M, y0_scaled_l[-1].squeeze().to(device), rho, sigma, tau, q_x_NF))\n",
    "        #Sampling\n",
    "        npe_samples_l.append(q_NPE.sample(y0_scaled_l[-1],(10_000,)))\n",
    "        rnpe_samples_l.append(q_NPE.sample(xm_l[-1]))\n",
    "        true_post_y_l.append(get_true_post(summary,y0_l[-1].squeeze().cpu().numpy(),sigma_2))\n",
    "        true_post_samples_l.append(np.random.choice(theta_grid, size=100_000, p=true_post_y_l[-1]/sum(true_post_y_l[-1])))\n",
    "        #Distance between the true expected distribution and the actual samples form the npe\n",
    "        distance_npe_l.append(compute_distances(true_post_y_l[-1], npe_samples_l[-1].squeeze().cpu().numpy()))\n",
    "        distance_rnpe_l.append(compute_distances(true_post_y_l[-1], rnpe_samples_l[-1].squeeze().cpu().numpy()))\n",
    "        distance_l.append(torch.norm(npe_samples_l[-1].mean(0) - rnpe_samples_l[-1]).mean(0).item())\n",
    "    distance_npe = np.mean(distance_npe_l)\n",
    "    distance_rnpe = np.mean(distance_rnpe_l)\n",
    "    argmax = np.argmax(distance_l)\n",
    "    x0 = x0_l[argmax]\n",
    "    y0 = y0_l[argmax]\n",
    "    npe_samples = npe_samples_l[argmax]\n",
    "    rnpe_samples = rnpe_samples_l[argmax]\n",
    "    true_post_y = true_post_y_l[argmax]\n",
    "    xm = xm_l[argmax]\n",
    "    y0_scaled = y0_scaled_l[argmax]\n",
    "    data = data_l[argmax]\n",
    "        \n",
    "        \n",
    "    ax[0].hist(npe_samples.squeeze(), bins=200, density=True, color='green',alpha=0.5,label=\"NPE samples q(θ|y0)\")\n",
    "    ax[0].hist(rnpe_samples.squeeze(),bins=200, density=True, color=\"red\",alpha=0.5, label=\"RNPE samples q(θ|y0)\")\n",
    "    ax[0].plot(theta_grid,true_post_y,color='yellow', label=\" p(θ|y0) under the true DGP\")\n",
    "    ax[0].set_xlim(-4,4)\n",
    "    ax[0].set_title(\"Samples from NPE and RNPE\")\n",
    "    ax[1].scatter(x=data[summary][\"scaled_x\"][:,0].cpu(),y=data[summary][\"scaled_x\"][:,1].cpu(), color=\"blue\", label=\"Simulator outputs\", s=1)\n",
    "    ax[1].scatter(x=xm[:,0].cpu(),y=xm[:,1].cpu(), label=\"Denoised outputs from the MCMC sampler\", color=\"yellow\", s=1)\n",
    "    ax[1].scatter(x=y0_scaled.cpu()[:,0],y=y0_scaled.cpu()[:,1], label=\"y0 scaled\", color=\"green\", s=20)\n",
    "    ax[1].set_title(\" Simulated and denoised x, scaled version\")\n",
    "    i +=1\n",
    "    fig.suptitle(f\"Estimations with sigma² = {sigma_2}\")\n",
    "    return fig, npe_samples, rnpe_samples, x0, y0, distance_npe, distance_rnpe"
   ]
  },
  {
   "cell_type": "code",
   "execution_count": 37,
   "metadata": {},
   "outputs": [
    {
     "data": {
      "application/vnd.jupyter.widget-view+json": {
       "model_id": "28cd1e163fbd44f6aef51788d4e09228",
       "version_major": 2,
       "version_minor": 0
      },
      "text/plain": [
       "Corruption:   0%|          | 0/6 [00:00<?, ?Sigma²/s]"
      ]
     },
     "metadata": {},
     "output_type": "display_data"
    },
    {
     "name": "stdout",
     "output_type": "stream",
     "text": [
      "1.0\n"
     ]
    },
    {
     "data": {
      "application/vnd.jupyter.widget-view+json": {
       "model_id": "67527e7ea59e4feba9854816d786df62",
       "version_major": 2,
       "version_minor": 0
      },
      "text/plain": [
       "  0%|          | 0/120000 [00:00<?, ?it/s]"
      ]
     },
     "metadata": {},
     "output_type": "display_data"
    },
    {
     "data": {
      "application/vnd.jupyter.widget-view+json": {
       "model_id": "dfaba075460b44d086c57b6fdf172972",
       "version_major": 2,
       "version_minor": 0
      },
      "text/plain": [
       "  0%|          | 0/120000 [00:00<?, ?it/s]"
      ]
     },
     "metadata": {},
     "output_type": "display_data"
    },
    {
     "data": {
      "application/vnd.jupyter.widget-view+json": {
       "model_id": "0af03fc2eb654750865fb281d8011b3a",
       "version_major": 2,
       "version_minor": 0
      },
      "text/plain": [
       "  0%|          | 0/120000 [00:00<?, ?it/s]"
      ]
     },
     "metadata": {},
     "output_type": "display_data"
    },
    {
     "data": {
      "application/vnd.jupyter.widget-view+json": {
       "model_id": "df11e4a3745b41ed83bfc0a51f95e6af",
       "version_major": 2,
       "version_minor": 0
      },
      "text/plain": [
       "  0%|          | 0/120000 [00:00<?, ?it/s]"
      ]
     },
     "metadata": {},
     "output_type": "display_data"
    },
    {
     "data": {
      "application/vnd.jupyter.widget-view+json": {
       "model_id": "3272a2eb16e24f068ad1478032849b7e",
       "version_major": 2,
       "version_minor": 0
      },
      "text/plain": [
       "  0%|          | 0/120000 [00:00<?, ?it/s]"
      ]
     },
     "metadata": {},
     "output_type": "display_data"
    },
    {
     "data": {
      "application/vnd.jupyter.widget-view+json": {
       "model_id": "8f8db39cb81049e9b04ea81515848f29",
       "version_major": 2,
       "version_minor": 0
      },
      "text/plain": [
       "  0%|          | 0/120000 [00:00<?, ?it/s]"
      ]
     },
     "metadata": {},
     "output_type": "display_data"
    },
    {
     "data": {
      "application/vnd.jupyter.widget-view+json": {
       "model_id": "fe210d3cf8564c88b88f696fe1474d5f",
       "version_major": 2,
       "version_minor": 0
      },
      "text/plain": [
       "  0%|          | 0/120000 [00:00<?, ?it/s]"
      ]
     },
     "metadata": {},
     "output_type": "display_data"
    },
    {
     "data": {
      "application/vnd.jupyter.widget-view+json": {
       "model_id": "b21d54701dd448bf8d0feb9216cad155",
       "version_major": 2,
       "version_minor": 0
      },
      "text/plain": [
       "  0%|          | 0/120000 [00:00<?, ?it/s]"
      ]
     },
     "metadata": {},
     "output_type": "display_data"
    },
    {
     "data": {
      "application/vnd.jupyter.widget-view+json": {
       "model_id": "deed13341ba8460bbf7e325dd9f71d80",
       "version_major": 2,
       "version_minor": 0
      },
      "text/plain": [
       "  0%|          | 0/120000 [00:00<?, ?it/s]"
      ]
     },
     "metadata": {},
     "output_type": "display_data"
    },
    {
     "data": {
      "application/vnd.jupyter.widget-view+json": {
       "model_id": "b412a01654f64286ac2aea367c2f49fd",
       "version_major": 2,
       "version_minor": 0
      },
      "text/plain": [
       "  0%|          | 0/120000 [00:00<?, ?it/s]"
      ]
     },
     "metadata": {},
     "output_type": "display_data"
    },
    {
     "name": "stdout",
     "output_type": "stream",
     "text": [
      "1.5\n"
     ]
    },
    {
     "data": {
      "application/vnd.jupyter.widget-view+json": {
       "model_id": "f7869d15b2874e77b6e67dffd913f554",
       "version_major": 2,
       "version_minor": 0
      },
      "text/plain": [
       "  0%|          | 0/120000 [00:00<?, ?it/s]"
      ]
     },
     "metadata": {},
     "output_type": "display_data"
    },
    {
     "data": {
      "application/vnd.jupyter.widget-view+json": {
       "model_id": "a24c3642a734434094be2a68626ce26f",
       "version_major": 2,
       "version_minor": 0
      },
      "text/plain": [
       "  0%|          | 0/120000 [00:00<?, ?it/s]"
      ]
     },
     "metadata": {},
     "output_type": "display_data"
    },
    {
     "data": {
      "application/vnd.jupyter.widget-view+json": {
       "model_id": "21094dee73ea40d1b5e6fdef50372e6b",
       "version_major": 2,
       "version_minor": 0
      },
      "text/plain": [
       "  0%|          | 0/120000 [00:00<?, ?it/s]"
      ]
     },
     "metadata": {},
     "output_type": "display_data"
    }
   ],
   "source": [
    "results = {}\n",
    "sigmas_2 = np.arange(1,4,0.5)\n",
    "with tqdm(sigmas_2, unit ='Sigma²', desc='Corruption') as tq:\n",
    "    for sigma_2 in tq:\n",
    "        print(sigma_2)\n",
    "        results[sigma_2] = {}\n",
    "        results[sigma_2][\"figure\"],results[sigma_2][\"npe_samples\"],results[sigma_2][\"rnpe_samples\"],results[sigma_2][\"x0\"], results[sigma_2][\"y0\"], results[sigma_2][\"distance_npe\"], results[sigma_2][\"distance_rnpe\"]  =  computes_and_prepare_graphs(sigma_2)"
   ]
  },
  {
   "cell_type": "code",
   "execution_count": null,
   "metadata": {},
   "outputs": [
    {
     "data": {
      "application/vnd.jupyter.widget-view+json": {
       "model_id": "65fcf43233294ebaabc905780f0d5c96",
       "version_major": 2,
       "version_minor": 0
      },
      "text/plain": [
       "interactive(children=(Dropdown(description='sigma_2', options=(1.0, 1.5, 2.0, 2.5, 3.0, 3.5), value=1.0), Outp…"
      ]
     },
     "metadata": {},
     "output_type": "display_data"
    }
   ],
   "source": [
    "@widgets.interact(sigma_2=sigmas_2)\n",
    "def plot_posteriors_widget(sigma_2=1):\n",
    "    plt.close()\n",
    "    return results[sigma_2][\"figure\"]"
   ]
  },
  {
   "cell_type": "code",
   "execution_count": 32,
   "metadata": {},
   "outputs": [],
   "source": [
    "np.save(\"results_\",results)"
   ]
  }
 ],
 "metadata": {
  "kernelspec": {
   "display_name": "sbi_env1",
   "language": "python",
   "name": "python3"
  },
  "language_info": {
   "codemirror_mode": {
    "name": "ipython",
    "version": 3
   },
   "file_extension": ".py",
   "mimetype": "text/x-python",
   "name": "python",
   "nbconvert_exporter": "python",
   "pygments_lexer": "ipython3",
   "version": "3.8.16"
  },
  "orig_nbformat": 4
 },
 "nbformat": 4,
 "nbformat_minor": 2
}
