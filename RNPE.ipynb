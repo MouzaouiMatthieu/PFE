{
 "cells": [
  {
   "cell_type": "code",
   "execution_count": 21,
   "metadata": {},
   "outputs": [],
   "source": [
    "import torch\n",
    "import matplotlib.pyplot as plt\n",
    "import numpy as np\n",
    "import scipy.integrate as integrate\n",
    "\n",
    "import ipywidgets as widgets\n",
    "from IPython.display import display\n",
    "import pickle\n",
    "\n",
    "\n",
    "import torch\n",
    "from sbi import utils as utils\n",
    "from sbi import analysis as analysis\n",
    "from sbi.inference import SNPE, prepare_for_sbi, simulate_for_sbi\n",
    "from sbi.utils.get_nn_models import posterior_nn\n",
    "import matplotlib.pyplot as plt\n",
    "import seaborn as sns\n",
    "import pandas as pd\n",
    "from functools import partial\n",
    "\n",
    "import zuko\n",
    "import lampe.inference\n",
    "import lampe.utils\n",
    "from tqdm.notebook import tqdm_notebook as tqdm\n",
    "from lampe.utils import GDStep\n",
    "\n",
    "from itertools import islice\n",
    "from lampe.data import JointLoader"
   ]
  },
  {
   "cell_type": "code",
   "execution_count": 22,
   "metadata": {},
   "outputs": [],
   "source": [
    "theta_true = torch.Tensor([0])\n",
    "prior = torch.distributions.Normal(0, 5)\n",
    "N = 100\n",
    "theta_grid = np.linspace(-8, 8, 1000)\n",
    "N_simu = 50_000"
   ]
  },
  {
   "cell_type": "code",
   "execution_count": 23,
   "metadata": {},
   "outputs": [],
   "source": [
    "zi = torch.distributions.Normal(theta_true, 1).sample((N,)).squeeze().tolist()\n",
    "z1, z2 = zi[0], zi[1]"
   ]
  },
  {
   "cell_type": "code",
   "execution_count": 24,
   "metadata": {},
   "outputs": [],
   "source": [
    "# To compute the true posteriors distributions for every summary statistics\n",
    "def posterior_z(thetas, z1=z1, z2=z2, sigma_y_2=1):\n",
    "    \"\"\"Posterior if we observe z1, z2\"\"\"\n",
    "\n",
    "    def improper_posterior_z(theta, z1=z1, z2=z2):\n",
    "        likelihood_part = -(np.square(theta - z1) + np.square(theta - z2)) / (\n",
    "            2 * sigma_y_2**2\n",
    "        )\n",
    "        prior_part = np.square(theta) / 50\n",
    "        res = np.exp(likelihood_part) * np.exp(prior_part)\n",
    "        return res\n",
    "\n",
    "    Z_z1_z2, eps = integrate.quad(\n",
    "        improper_posterior_z, -15, 15\n",
    "    )  # Integral of p_impropre(θ|z1,z2)\n",
    "    return [improper_posterior_z(theta, z1, z2) / Z_z1_z2 for theta in thetas]\n",
    "\n",
    "\n",
    "x = (z1 + z2) / 2\n",
    "\n",
    "\n",
    "def posterior_x(thetas, x=x, sigma_2_y=1):\n",
    "    \"\"\"Posterior when observing x=mean(z1, z2)\"\"\"\n",
    "\n",
    "    def improper_posterior_x(theta, x=x):\n",
    "        likelihood_part = -np.square(theta - x) / sigma_2_y**2\n",
    "        prior_part = -np.square(theta) / 50\n",
    "        return np.exp(likelihood_part) * np.exp(prior_part)\n",
    "\n",
    "    z_x, eps = integrate.quad(improper_posterior_x, -15, 15)\n",
    "    return [improper_posterior_x(theta, x) / z_x for theta in thetas]\n",
    "\n",
    "\n",
    "x = np.mean(zi)\n",
    "\n",
    "\n",
    "def posterior_x_N(thetas, x=x, sigma_2_y=1):\n",
    "    \"\"\"Posterior when observing x= mean(z1, z2... ,zn)\"\"\"\n",
    "\n",
    "    def improper_posterior_x_N(theta, x=x):\n",
    "        likelihood_part = -N * np.square(theta - x) / (2 * sigma_2_y**2)\n",
    "        prior_part = -np.square(theta) / 50\n",
    "        return np.exp(likelihood_part) * np.exp(prior_part)\n",
    "\n",
    "    z_x_n, eps = integrate.quad(improper_posterior_x_N, -15, 15)\n",
    "\n",
    "    return [improper_posterior_x_N(theta, x) / z_x_n for theta in thetas]\n",
    "\n",
    "\n",
    "x1 = np.mean(zi)\n",
    "x2 = np.var(zi)\n",
    "\n",
    "\n",
    "def posterior_summaries(thetas, x1=x1, x2=x2, sigma_2_y=1):\n",
    "    \"\"\"Posterior when observing x= mean(z1...zn), var(z1...zn)\"\"\"\n",
    "\n",
    "    def improper_posterior_summaries(theta, x1=x1, x2=x2):\n",
    "        likelihood_x1_part = -N * np.square(theta - x1) / (2 * sigma_2_y**2)\n",
    "        likelihood_x2_part = (\n",
    "            -0.5 * np.square(sigma_2_y - x2) / (2 * np.square(sigma_2_y) / N)\n",
    "        )\n",
    "        prior_part = -np.square(theta) / 50\n",
    "        return (\n",
    "            np.exp(likelihood_x1_part) * np.exp(likelihood_x2_part) * np.exp(prior_part)\n",
    "        )\n",
    "\n",
    "    z_summaries, eps = integrate.quad(improper_posterior_summaries, -25, 25)\n",
    "    return [\n",
    "        improper_posterior_summaries(theta, x1, x2) / z_summaries for theta in thetas\n",
    "    ]\n",
    "\n",
    "\n",
    "# x=np.var(zi)\n",
    "def posterior_var(thetas, x=x):\n",
    "    \"\"\"Posterior when observing x= var(z1...zn)\"\"\"\n",
    "\n",
    "    def improper_posterior_var(theta, x=x):\n",
    "        likelihood_part = -N * np.square(x - 1)\n",
    "        prior_part = -np.square(theta) / 50\n",
    "        return np.exp(likelihood_part) * np.exp(prior_part)\n",
    "\n",
    "    z_summaries, eps = integrate.quad(improper_posterior_var, -25, 25)\n",
    "    return [improper_posterior_var(theta, x) / z_summaries for theta in thetas]"
   ]
  },
  {
   "cell_type": "code",
   "execution_count": 25,
   "metadata": {},
   "outputs": [],
   "source": [
    "def get_true_post(summaries, x_star, sigma_y_2=1):\n",
    "    theta_grid_t = theta_grid  # Convert theta_grid to a torch tensor\n",
    "\n",
    "    if \"two_z\" == summaries:\n",
    "        # We observe z1, z2\n",
    "        post = posterior_z(theta_grid_t, x_star[0], x_star[1], sigma_y_2)\n",
    "        dist = posterior_z\n",
    "    elif \"mean_two_z\" == summaries:\n",
    "        # We observed x = mean(z1, z2)\n",
    "        post = posterior_x(theta_grid_t, x_star, sigma_y_2)\n",
    "        dist = posterior_x\n",
    "    elif \"var\" == summaries:\n",
    "        # We observe x = var(z1...zn)\n",
    "        post = posterior_var(theta_grid_t, x_star, sigma_y_2)\n",
    "        dist = posterior_var\n",
    "    elif \"var\" in summaries and \"mean\" in summaries:\n",
    "        # We observe x = (x1, x2) = (mean, var)\n",
    "        post = posterior_summaries(theta_grid_t, x_star[0], x_star[1], sigma_y_2)\n",
    "        dist = posterior_summaries\n",
    "    elif \"mean\" == summaries:\n",
    "        # We observe x = mean(z1, ... z100)\n",
    "        post = posterior_x_N(theta_grid_t, x_star, sigma_y_2)\n",
    "        dist = posterior_x_N\n",
    "\n",
    "    # post = torch.stack(post).cuda()  # Move post to CUDA\n",
    "    return post"
   ]
  },
  {
   "cell_type": "code",
   "execution_count": 26,
   "metadata": {},
   "outputs": [],
   "source": [
    "device = torch.device(\"cuda\" if torch.cuda.is_available() else \"cpu\")\n",
    "device = \"cpu\""
   ]
  },
  {
   "cell_type": "code",
   "execution_count": 27,
   "metadata": {},
   "outputs": [],
   "source": [
    "def generate_data(thetas, sigma_y_2=1):\n",
    "    N = thetas.shape[0]\n",
    "    sigma_eps = sigma_y_2 - 1\n",
    "    res = {}\n",
    "    means = torch.zeros((N, 1), device=device)\n",
    "    means_two_z = torch.zeros((N, 1), device=device)\n",
    "    means_and_vars = torch.zeros((N, 2), device=device)\n",
    "    vars = torch.zeros((N, 1), device=device)\n",
    "    raws = torch.zeros((N, 1), device=device)\n",
    "    two_z_l = torch.zeros((N, 2), device=device)\n",
    "\n",
    "    for i, theta in enumerate(thetas):\n",
    "        z = torch.distributions.Normal(theta, 1).sample((100,)).to(device)\n",
    "        mean = z.mean()\n",
    "        var = z.var()\n",
    "        z0, z1 = z[0], z[1]\n",
    "        mean_two_z = torch.mean(torch.stack([z0, z1]))\n",
    "\n",
    "        means[i] = mean\n",
    "        means_two_z[i] = mean_two_z.unsqueeze_(0)\n",
    "        means_and_vars[i] = torch.stack(\n",
    "            [mean.unsqueeze_(0), var.unsqueeze_(0)]\n",
    "        ).squeeze_()\n",
    "        two_z_l[i] = torch.stack([z0, z1]).squeeze_()\n",
    "        vars[i] = var\n",
    "        raws[i] = z0\n",
    "\n",
    "    res[\"mean\"] = {\"x\": means}\n",
    "    res[\"mean_two_z\"] = {\"x\": means_two_z}\n",
    "    res[\"mean_and_var\"] = {\"x\": means_and_vars}\n",
    "    res[\"two_z\"] = {\"x\": two_z_l}\n",
    "    res[\"raw_z\"] = {\"x\": raws}\n",
    "    res[\"var\"] = {\"x\": vars}\n",
    "\n",
    "    for key in res.keys():\n",
    "        norm_min = np.inf\n",
    "        for n_run in range(10):\n",
    "            eps = (\n",
    "                torch.distributions.Normal(\n",
    "                    torch.zeros_like(res[key][\"x\"]), np.sqrt(sigma_eps)\n",
    "                )\n",
    "                .sample()\n",
    "                .to(device)\n",
    "            )\n",
    "            if torch.norm(eps) < norm_min:\n",
    "                epsilons = eps\n",
    "                norm_min = torch.norm(eps)\n",
    "        res[key][\"eps\"] = epsilons\n",
    "        scale_mean, scale_std = res[key][\"x\"].mean(0), res[key][\"x\"].std(0)\n",
    "        res[key][\"scale_parameters\"] = scale_mean, scale_std\n",
    "        res[key][\"scaled_x\"] = (res[key][\"x\"] - scale_mean) / scale_std\n",
    "\n",
    "    return res"
   ]
  },
  {
   "cell_type": "code",
   "execution_count": 28,
   "metadata": {},
   "outputs": [],
   "source": [
    "summary = \"mean_and_var\"\n",
    "sigma_2_y = 2"
   ]
  },
  {
   "cell_type": "code",
   "execution_count": 29,
   "metadata": {},
   "outputs": [],
   "source": [
    "def scale(quantity):\n",
    "    mean = quantity.mean(0)\n",
    "    std = quantity.std(0)\n",
    "    return (quantity - mean) / std, mean, std"
   ]
  },
  {
   "cell_type": "code",
   "execution_count": 30,
   "metadata": {},
   "outputs": [],
   "source": [
    "def build_nsf(features, context):\n",
    "    \"\"\"Callable to instantiate the NPE with NSFs\"\"\"\n",
    "    return zuko.flows.NSF(features, context, bins=10, transforms=5).to(device)\n",
    "\n",
    "\n",
    "def train_flow(flow, loss, theta, x, theta_test, x_test):\n",
    "    optimizer = torch.optim.Adam(flow.parameters(), lr=5e-3)\n",
    "    theta_test = theta_test.unsqueeze(-1).to(device)\n",
    "    data = lampe.data.JointDataset(theta.to(device), x.to(device))\n",
    "    loader = lampe.data.DataLoader(data, 256)\n",
    "\n",
    "    with torch.no_grad():\n",
    "        min_loss = loss(theta_test, x_test.to(device))\n",
    "    min_loss_list = [min_loss.item()]  # Convert min_loss to a scalar\n",
    "\n",
    "    flow.train()\n",
    "\n",
    "    for epoch in range(50):\n",
    "        for theta_batch, x_batch in loader:\n",
    "            theta_batch = theta_batch.unsqueeze(-1).to(device)\n",
    "            x_batch = x_batch.to(device)\n",
    "            losses = loss(theta_batch, x_batch)\n",
    "            optimizer.zero_grad()\n",
    "            losses.backward()\n",
    "            optimizer.step()\n",
    "\n",
    "        # Checking for early stopping\n",
    "        with torch.no_grad():\n",
    "            loss_test = loss(theta_test, x_test.to(device))\n",
    "            min_loss_list.append(loss_test.item())  # Convert loss_test to a scalar\n",
    "            if (\n",
    "                len(min_loss_list) - np.argmin(min_loss_list) > 5\n",
    "            ):  # No improvement in loss(test) for the last 5 iterations\n",
    "                # Early stop\n",
    "\n",
    "                break\n",
    "\n",
    "    flow.eval()\n",
    "    return flow\n",
    "\n",
    "\n",
    "def create_train_flow(summaries, theta, data, theta_test, data_test):\n",
    "    shape_x = lambda x: 2 if x == \"mean_and_var\" or x == \"two_z\" else 1\n",
    "    flow = lampe.inference.NPE(\n",
    "        theta_dim=1, x_dim=shape_x(summaries), build=build_nsf\n",
    "    ).to(device)\n",
    "    loss = lampe.inference.NPELoss(flow).to(device)\n",
    "    x = data[summaries][\"scaled_x\"].to(device)\n",
    "    x_test = data_test[summaries][\"scaled_x\"].to(device)\n",
    "    flow = train_flow(flow, loss, theta, x, theta_test, x_test)\n",
    "    return flow\n",
    "\n",
    "\n",
    "theta = prior.sample((N_simu,)).to(device)\n",
    "theta_test = prior.sample((N_simu // 10,)).to(device)\n",
    "theta_scaled, theta_means, theta_stds = scale(theta)\n",
    "theta_test_scaled, _, __ = scale(theta_test)\n",
    "data = generate_data(theta, sigma_2_y)\n",
    "data_test = generate_data(theta_test, sigma_2_y)\n",
    "q_NPE = create_train_flow(summary, theta, data, theta_test, data_test)  #!"
   ]
  },
  {
   "cell_type": "code",
   "execution_count": 31,
   "metadata": {},
   "outputs": [],
   "source": [
    "true_obs_data = generate_data(theta_true, sigma_2_y)\n",
    "x0 = true_obs_data[summary][\"x\"].to(device)\n",
    "y0 = x0 + true_obs_data[summary][\"eps\"].to(device)\n",
    "\n",
    "x0_scaled = (x0 - data[summary][\"scale_parameters\"][0]) / data[summary][\n",
    "    \"scale_parameters\"\n",
    "][1]\n",
    "y0_scaled = (y0 - data[summary][\"scale_parameters\"][0]) / data[summary][\n",
    "    \"scale_parameters\"\n",
    "][1]"
   ]
  },
  {
   "cell_type": "code",
   "execution_count": 32,
   "metadata": {},
   "outputs": [],
   "source": [
    "def train_unconditional_flow(flow, loss, x, x_test):\n",
    "    optimizer = torch.optim.Adam(flow.parameters(), lr=1e-2)\n",
    "    loader = torch.utils.data.DataLoader(x.to(device), 256)\n",
    "\n",
    "    with torch.no_grad():\n",
    "        min_loss = loss(x_test.to(device))\n",
    "    min_loss_list = [min_loss.item()]  # Convert min_loss to a scalar\n",
    "\n",
    "    flow.train()\n",
    "\n",
    "    for epoch in range(50):\n",
    "        for x_batch in loader:\n",
    "            x_batch = x_batch.to(device)\n",
    "            losses = loss(x_batch)\n",
    "            optimizer.zero_grad()\n",
    "            losses.backward()\n",
    "            optimizer.step()\n",
    "\n",
    "        # Checking for early stopping\n",
    "        with torch.no_grad():\n",
    "            loss_test = loss(x_test.to(device))\n",
    "            min_loss_list.append(loss_test.item())  # Convert loss_test to a scalar\n",
    "            if (\n",
    "                len(min_loss_list) - np.argmin(min_loss_list) > 5\n",
    "            ):  # No improvement in loss(test) for the last 5 iterations\n",
    "                # Early stop\n",
    "\n",
    "                break\n",
    "    flow.eval()\n",
    "    return flow\n",
    "\n",
    "\n",
    "def create_train_unconditional_flow(summaries, data, data_test):\n",
    "    shape_x = lambda x: 2 if x == \"mean_and_var\" or x == \"two_z\" else 1\n",
    "    flow = zuko.flows.NAF(features=shape_x(summaries), context=0).to(device)  #!\n",
    "    loss = lambda x: -flow().log_prob(x).mean()\n",
    "    x = data[summaries][\"scaled_x\"].to(device)\n",
    "    x_test = data_test[summaries][\"scaled_x\"].to(device)\n",
    "    flow = train_unconditional_flow(flow, loss, x, x_test)\n",
    "    return flow\n",
    "\n",
    "\n",
    "q_x_NF = create_train_unconditional_flow(summary, data, data_test)"
   ]
  },
  {
   "cell_type": "code",
   "execution_count": 34,
   "metadata": {},
   "outputs": [],
   "source": [
    "npe_samples_x = q_NPE.flow(x0_scaled).sample((20_000,))\n",
    "npe_samples_rescaled_x = (npe_samples_x + theta_means) * theta_stds\n",
    "true_post = get_true_post(summary, x0.squeeze().cpu().numpy())\n",
    "\n",
    "npe_samples_y = q_NPE.flow(y0_scaled).sample( (20_000,))\n",
    "npe_samples_rescaled_y = (npe_samples_y + theta_means) * theta_stds\n",
    "theoritical_post_y = get_true_post(summary, y0.squeeze().cpu().numpy())"
   ]
  },
  {
   "cell_type": "code",
   "execution_count": 35,
   "metadata": {},
   "outputs": [
    {
     "data": {
      "image/png": "[encoded data removed]",
      "text/plain": [
       "<Figure size 640x480 with 1 Axes>"
      ]
     },
     "metadata": {},
     "output_type": "display_data"
    }
   ],
   "source": [
    "fig, ax = plt.subplots()\n",
    "ax.hist(\n",
    "    npe_samples_x.cpu().squeeze().cpu(),\n",
    "    bins=400,\n",
    "    density=True,\n",
    "    label=\"Samples from q_(θ|x=x0)\",\n",
    ")  #!\n",
    "ax.plot(theta_grid, true_post, label=\"Theoretical posterior p(θ|x=x0)\")\n",
    "ax.hist(\n",
    "    npe_samples_y.cpu().squeeze(),\n",
    "    bins=200,\n",
    "    density=True,\n",
    "    label=\"Samples from q(θ|x=y0)\",\n",
    ")\n",
    "ax.plot(theta_grid, theoritical_post_y, label=\"Theoretical posterior p(θ|x=y0)\")\n",
    "\n",
    "ax.set_title(\"Posteriors q and p\")\n",
    "ax.set_xlim(-3, 3)\n",
    "ax.legend()\n",
    "plt.show()"
   ]
  },
  {
   "cell_type": "code",
   "execution_count": 36,
   "metadata": {},
   "outputs": [],
   "source": [
    "M = 100_000\n",
    "warm_up_steps = 20_000\n",
    "\n",
    "sigma = 0.01\n",
    "tau = 0.25\n",
    "rho = 1 / 2"
   ]
  },
  {
   "cell_type": "code",
   "execution_count": 37,
   "metadata": {},
   "outputs": [],
   "source": [
    "import torch.distributions as dist\n",
    "\n",
    "\n",
    "# Define the proposal function\n",
    "def proposal(x_curr):\n",
    "    return x_curr + dist.Normal(0, 1).sample(x_curr.shape).to(device)\n",
    "\n",
    "\n",
    "# Define the f function\n",
    "def f(y0, x, rho, sigma, tau, q_x_NF):\n",
    "    D = 2\n",
    "    res = torch.zeros_like(y0)\n",
    "\n",
    "    for j in range(D):\n",
    "        xj = x[j]\n",
    "        yj = y0[j]\n",
    "        zj = dist.Bernoulli(rho).sample().to(device)\n",
    "        if not zj:\n",
    "            spike_dist = dist.Normal(xj.detach(), torch.tensor(sigma).to(device))\n",
    "            res[j] = torch.exp(spike_dist.log_prob(yj))\n",
    "        else:\n",
    "            slab_dist = dist.Cauchy(xj.detach(), torch.tensor(tau).to(device))\n",
    "            res[j] = torch.exp(slab_dist.log_prob(yj))\n",
    "    return res * torch.exp(q_x_NF().log_prob(x))\n",
    "\n",
    "\n",
    "def mcmc(x0, warm_up_steps, M, y0, rho, sigma, tau, q_x_NF):\n",
    "    x_curr = x0.to(device)\n",
    "    my_samples = torch.empty((warm_up_steps + M, x0.shape[0])).to(device)\n",
    "    log_f_x_curr = f(y0, x_curr, rho, sigma, tau, q_x_NF).log()\n",
    "\n",
    "    for i in tqdm(range(warm_up_steps + M)):\n",
    "        x_star = proposal(x_curr)\n",
    "        log_f_x_star = f(y0, x_star, rho, sigma, tau, q_x_NF).log()\n",
    "\n",
    "        log_a = log_f_x_star - log_f_x_curr\n",
    "\n",
    "        a = torch.exp(log_a)\n",
    "\n",
    "        u = torch.cuda.FloatTensor(a.shape).uniform_().to(device)\n",
    "\n",
    "        mask = u < a\n",
    "\n",
    "        x_curr = torch.where(mask, x_star, x_curr)\n",
    "        log_f_x_curr = torch.where(mask, log_f_x_star, log_f_x_curr)\n",
    "\n",
    "        my_samples[i] = x_curr\n",
    "\n",
    "    my_samples = my_samples[warm_up_steps:]\n",
    "    return my_samples"
   ]
  },
  {
   "cell_type": "code",
   "execution_count": 38,
   "metadata": {},
   "outputs": [
    {
     "data": {
      "application/vnd.jupyter.widget-view+json": {
       "model_id": "e7a0b873ffe44baab1fed20fb5779129",
       "version_major": 2,
       "version_minor": 0
      },
      "text/plain": [
       "  0%|          | 0/120000 [00:00<?, ?it/s]"
      ]
     },
     "metadata": {},
     "output_type": "display_data"
    }
   ],
   "source": [
    "with torch.no_grad():\n",
    "    xm = mcmc(\n",
    "        torch.zeros_like(data[summary][\"x\"][0]).to(device),\n",
    "        warm_up_steps,\n",
    "        M,\n",
    "        y0_scaled.squeeze().to(device),\n",
    "        rho,\n",
    "        sigma,\n",
    "        tau,\n",
    "        q_x_NF,\n",
    "    )"
   ]
  },
  {
   "cell_type": "code",
   "execution_count": 39,
   "metadata": {},
   "outputs": [
    {
     "data": {
      "text/plain": [
       "<matplotlib.legend.Legend at 0x1fc39b9d050>"
      ]
     },
     "execution_count": 39,
     "metadata": {},
     "output_type": "execute_result"
    },
    {
     "data": {
      "image/png": "[encoded data removed]",
      "text/plain": [
       "<Figure size 640x480 with 1 Axes>"
      ]
     },
     "metadata": {},
     "output_type": "display_data"
    }
   ],
   "source": [
    "fig, ax = plt.subplots()\n",
    "\n",
    "ax.scatter(\n",
    "    x=data[summary][\"scaled_x\"][:, 0].cpu(),\n",
    "    y=data[summary][\"scaled_x\"][:, 1].cpu(),\n",
    "    color=\"blue\",\n",
    "    label=\"Simulator outputs\",\n",
    "    s=1,\n",
    ")\n",
    "ax.scatter(\n",
    "    x=xm[:, 0].cpu(),\n",
    "    y=xm[:, 1].cpu(),\n",
    "    label=\"Denoised outputs from the MCMC sampler\",\n",
    "    color=\"yellow\",\n",
    "    s=1,\n",
    ")\n",
    "ax.scatter(\n",
    "    x=y0_scaled.cpu()[:, 0],\n",
    "    y=y0_scaled.cpu()[:, 1],\n",
    "    label=\"y0 scaled\",\n",
    "    color=\"green\",\n",
    "    s=20,\n",
    ")\n",
    "ax.set_xlabel(\"Mean (z1,...,zn)\")\n",
    "ax.set_ylabel(\"Var(z1,...,zn)\")\n",
    "ax.set_title(\"Simulated and denoised x, scaled version\")\n",
    "ax.legend(bbox_to_anchor=(1.04, 1), loc=\"upper left\")"
   ]
  },
  {
   "cell_type": "code",
   "execution_count": 42,
   "metadata": {},
   "outputs": [],
   "source": [
    "rnpe_samples = q_NPE.flow(xm).sample()\n",
    "rnpe_samples_unscaled = (rnpe_samples + theta_means) * theta_stds"
   ]
  },
  {
   "cell_type": "code",
   "execution_count": 43,
   "metadata": {},
   "outputs": [],
   "source": [
    "true_post_y = posterior_summaries(\n",
    "    theta_grid, y0.cpu().squeeze()[0].item(), y0.cpu().squeeze()[1].item(), sigma_2_y\n",
    ")"
   ]
  },
  {
   "cell_type": "code",
   "execution_count": 46,
   "metadata": {},
   "outputs": [],
   "source": [
    "npe_samples = q_NPE.flow(y0_scaled).sample((20_000,))\n",
    "true_post = get_true_post(summary, y0.squeeze().cpu().numpy())"
   ]
  },
  {
   "cell_type": "code",
   "execution_count": 47,
   "metadata": {},
   "outputs": [
    {
     "data": {
      "text/plain": [
       "(-5.0, 5.0)"
      ]
     },
     "execution_count": 47,
     "metadata": {},
     "output_type": "execute_result"
    },
    {
     "data": {
      "image/png": "[encoded data removed]",
      "text/plain": [
       "<Figure size 640x480 with 1 Axes>"
      ]
     },
     "metadata": {},
     "output_type": "display_data"
    }
   ],
   "source": [
    "plt.hist(\n",
    "    npe_samples.squeeze().cpu(),\n",
    "    bins=200,\n",
    "    density=True,\n",
    "    color=\"green\",\n",
    "    alpha=0.5,\n",
    "    label=\"NPE samples q(θ|y0)\",\n",
    ")\n",
    "plt.hist(\n",
    "    rnpe_samples.squeeze().cpu(),\n",
    "    bins=200,\n",
    "    density=True,\n",
    "    color=\"red\",\n",
    "    alpha=0.5,\n",
    "    label=\"RNPE samples q(θ|y0)\",\n",
    ")\n",
    "plt.plot(theta_grid, true_post_y, color=\"yellow\", label=\" p(θ|y0) under the true DGP\")\n",
    "plt.xlim(-5, 5)"
   ]
  },
  {
   "cell_type": "code",
   "execution_count": 48,
   "metadata": {},
   "outputs": [],
   "source": [
    "def compute_distances(true_post_density, sample):\n",
    "    true_post_samples = np.random.choice(\n",
    "        theta_grid, size=100_000, p=true_post_density / sum(true_post_density)\n",
    "    )\n",
    "    mean_true, std_true = np.mean(true_post_samples), np.std(true_post_samples)\n",
    "    mean_sample, std_sample = np.mean(sample), np.std(sample)\n",
    "    return np.square(mean_true - mean_sample) + np.square(np.log(std_true / std_sample))"
   ]
  },
  {
   "cell_type": "code",
   "execution_count": 56,
   "metadata": {},
   "outputs": [],
   "source": [
    "def computes_and_prepare_graphs(sigma_2):\n",
    "    plt.close()\n",
    "    summaries = [\"two_z\", \"mean_two_z\", \"mean\", \"mean_and_var\"]\n",
    "    summaries = [\"mean_and_var\"]\n",
    "    summary = \"mean_and_var\"  #!\n",
    "\n",
    "    fig, ax = plt.subplots(2, 1, figsize=(10, 10))\n",
    "    i = 0\n",
    "\n",
    "    n_runs = 10\n",
    "    x0_l = []\n",
    "    y0_l = []\n",
    "    npe_samples_l = []\n",
    "    rnpe_samples_l = []\n",
    "    distance_npe_l = []\n",
    "    distance_rnpe_l = []\n",
    "    data_l = []\n",
    "    xm_l = []\n",
    "    x0_scaled_l, y0_scaled_l = [], []\n",
    "    true_post_samples_l = []\n",
    "    true_post_y_l = []\n",
    "    distance_l = []\n",
    "    for i in range(n_runs):\n",
    "        # Simulating data\n",
    "        theta = prior.sample((N_simu,)).to(device)\n",
    "        theta_test = prior.sample((N_simu // 10,))\n",
    "        data = generate_data(theta, sigma_2)\n",
    "        data_l.append(data)\n",
    "        data_test = generate_data(theta_test, sigma_2)\n",
    "        # Creating and training both flows\n",
    "        q_NPE = create_train_flow(summary, theta, data, theta_test, data_test)\n",
    "        q_x_NF = create_train_unconditional_flow(summary, data, data_test)\n",
    "        # Generating the observed data\n",
    "        true_obs_data_l = []\n",
    "\n",
    "        true_obs_data_l.append(generate_data(theta_true, sigma_2))\n",
    "\n",
    "        x0_l.append(true_obs_data_l[-1][summary][\"x\"])\n",
    "        y0_l.append(x0_l[-1] + true_obs_data_l[-1][summary][\"eps\"])\n",
    "        x0_scaled_l.append(\n",
    "            (x0_l[-1] - data[summary][\"scale_parameters\"][0])\n",
    "            / data[summary][\"scale_parameters\"][1]\n",
    "        )\n",
    "        y0_scaled_l.append(\n",
    "            (y0_l[-1] - data[summary][\"scale_parameters\"][0])\n",
    "            / data[summary][\"scale_parameters\"][1]\n",
    "        )\n",
    "        # Denoising x from the observed y\n",
    "        with torch.no_grad():\n",
    "            xm_l.append(\n",
    "                mcmc(\n",
    "                    torch.zeros_like(data[summary][\"x\"][0]),\n",
    "                    warm_up_steps,\n",
    "                    M,\n",
    "                    y0_scaled_l[-1].squeeze().to(device),\n",
    "                    rho,\n",
    "                    sigma,\n",
    "                    tau,\n",
    "                    q_x_NF,\n",
    "                )\n",
    "            )\n",
    "        # Sampling\n",
    "        npe_samples_l.append(q_NPE.flow(y0_scaled_l[-1]).sample( (10_000,)))\n",
    "        rnpe_samples_l.append(q_NPE.flow(xm_l[-1]).sample())\n",
    "        true_post_y_l.append(\n",
    "            get_true_post(summary, y0_l[-1].squeeze().cpu().numpy(), sigma_2)\n",
    "        )\n",
    "        true_post_samples_l.append(\n",
    "            np.random.choice(\n",
    "                theta_grid, size=100_000, p=true_post_y_l[-1] / sum(true_post_y_l[-1])\n",
    "            )\n",
    "        )\n",
    "        # Distance between the true expected distribution and the actual samples form the npe\n",
    "        distance_npe_l.append(\n",
    "            compute_distances(\n",
    "                true_post_y_l[-1], npe_samples_l[-1].squeeze().cpu().numpy()\n",
    "            )\n",
    "        )\n",
    "        distance_rnpe_l.append(\n",
    "            compute_distances(\n",
    "                true_post_y_l[-1], rnpe_samples_l[-1].squeeze().cpu().numpy()\n",
    "            )\n",
    "        )\n",
    "        distance_l.append(\n",
    "            torch.norm(npe_samples_l[-1].mean(0) - rnpe_samples_l[-1]).mean(0).item()\n",
    "        )\n",
    "    distance_npe = np.mean(distance_npe_l)\n",
    "    distance_rnpe = np.mean(distance_rnpe_l)\n",
    "    argmax = np.argmax(distance_l)\n",
    "    x0 = x0_l[argmax]\n",
    "    y0 = y0_l[argmax]\n",
    "    npe_samples = npe_samples_l[argmax]\n",
    "    rnpe_samples = rnpe_samples_l[argmax]\n",
    "    true_post_y = true_post_y_l[argmax]\n",
    "    xm = xm_l[argmax]\n",
    "    y0_scaled = y0_scaled_l[argmax]\n",
    "    data = data_l[argmax]\n",
    "\n",
    "    ax[0].hist(\n",
    "        npe_samples.squeeze(),\n",
    "        bins=200,\n",
    "        density=True,\n",
    "        color=\"green\",\n",
    "        alpha=0.5,\n",
    "        label=\"NPE samples q(θ|y0)\",\n",
    "    )\n",
    "    ax[0].hist(\n",
    "        rnpe_samples.squeeze(),\n",
    "        bins=200,\n",
    "        density=True,\n",
    "        color=\"red\",\n",
    "        alpha=0.5,\n",
    "        label=\"RNPE samples q(θ|y0)\",\n",
    "    )\n",
    "    ax[0].plot(\n",
    "        theta_grid, true_post_y, color=\"yellow\", label=\" p(θ|y0) under the true DGP\"\n",
    "    )\n",
    "    ax[0].set_xlim(-4, 4)\n",
    "    ax[0].set_title(\"Samples from NPE and RNPE\")\n",
    "    ax[1].scatter(\n",
    "        x=data[summary][\"scaled_x\"][:, 0].cpu(),\n",
    "        y=data[summary][\"scaled_x\"][:, 1].cpu(),\n",
    "        color=\"blue\",\n",
    "        label=\"Simulator outputs\",\n",
    "        s=1,\n",
    "    )\n",
    "    ax[1].scatter(\n",
    "        x=xm[:, 0].cpu(),\n",
    "        y=xm[:, 1].cpu(),\n",
    "        label=\"Denoised outputs from the MCMC sampler\",\n",
    "        color=\"yellow\",\n",
    "        s=1,\n",
    "    )\n",
    "    ax[1].scatter(\n",
    "        x=y0_scaled.cpu()[:, 0],\n",
    "        y=y0_scaled.cpu()[:, 1],\n",
    "        label=\"y0 scaled\",\n",
    "        color=\"green\",\n",
    "        s=20,\n",
    "    )\n",
    "    ax[1].set_title(\" Simulated and denoised x, scaled version\")\n",
    "    i += 1\n",
    "    fig.suptitle(f\"Estimations with sigma² = {sigma_2}\")\n",
    "    return fig, npe_samples, rnpe_samples, x0, y0, distance_npe, distance_rnpe"
   ]
  },
  {
   "cell_type": "code",
   "execution_count": 57,
   "metadata": {},
   "outputs": [
    {
     "data": {
      "application/vnd.jupyter.widget-view+json": {
       "model_id": "a530c7c1a07145268b8b510cebb2124a",
       "version_major": 2,
       "version_minor": 0
      },
      "text/plain": [
       "Corruption:   0%|          | 0/6 [00:00<?, ?Sigma²/s]"
      ]
     },
     "metadata": {},
     "output_type": "display_data"
    },
    {
     "name": "stdout",
     "output_type": "stream",
     "text": [
      "1.0\n"
     ]
    },
    {
     "data": {
      "application/vnd.jupyter.widget-view+json": {
       "model_id": "08d42e187cf248fe805f8653dc65aab5",
       "version_major": 2,
       "version_minor": 0
      },
      "text/plain": [
       "  0%|          | 0/120000 [00:00<?, ?it/s]"
      ]
     },
     "metadata": {},
     "output_type": "display_data"
    },
    {
     "data": {
      "application/vnd.jupyter.widget-view+json": {
       "model_id": "ddef52e3b69b429bac60a5c6f1b61d48",
       "version_major": 2,
       "version_minor": 0
      },
      "text/plain": [
       "  0%|          | 0/120000 [00:00<?, ?it/s]"
      ]
     },
     "metadata": {},
     "output_type": "display_data"
    },
    {
     "data": {
      "application/vnd.jupyter.widget-view+json": {
       "model_id": "078d876c173e4d87bbb357e7ec68c668",
       "version_major": 2,
       "version_minor": 0
      },
      "text/plain": [
       "  0%|          | 0/120000 [00:00<?, ?it/s]"
      ]
     },
     "metadata": {},
     "output_type": "display_data"
    },
    {
     "data": {
      "application/vnd.jupyter.widget-view+json": {
       "model_id": "bbe1478063154b37812def4083666f17",
       "version_major": 2,
       "version_minor": 0
      },
      "text/plain": [
       "  0%|          | 0/120000 [00:00<?, ?it/s]"
      ]
     },
     "metadata": {},
     "output_type": "display_data"
    },
    {
     "data": {
      "application/vnd.jupyter.widget-view+json": {
       "model_id": "ae95f12085ad4a5780c63a5176e681c2",
       "version_major": 2,
       "version_minor": 0
      },
      "text/plain": [
       "  0%|          | 0/120000 [00:00<?, ?it/s]"
      ]
     },
     "metadata": {},
     "output_type": "display_data"
    },
    {
     "data": {
      "application/vnd.jupyter.widget-view+json": {
       "model_id": "de369107570f4bac85dc2682d2f8e021",
       "version_major": 2,
       "version_minor": 0
      },
      "text/plain": [
       "  0%|          | 0/120000 [00:00<?, ?it/s]"
      ]
     },
     "metadata": {},
     "output_type": "display_data"
    },
    {
     "data": {
      "application/vnd.jupyter.widget-view+json": {
       "model_id": "62a5e241077c47839953a21329287aeb",
       "version_major": 2,
       "version_minor": 0
      },
      "text/plain": [
       "  0%|          | 0/120000 [00:00<?, ?it/s]"
      ]
     },
     "metadata": {},
     "output_type": "display_data"
    },
    {
     "data": {
      "application/vnd.jupyter.widget-view+json": {
       "model_id": "c528a63601484d74b525c0a215ae2319",
       "version_major": 2,
       "version_minor": 0
      },
      "text/plain": [
       "  0%|          | 0/120000 [00:00<?, ?it/s]"
      ]
     },
     "metadata": {},
     "output_type": "display_data"
    },
    {
     "data": {
      "application/vnd.jupyter.widget-view+json": {
       "model_id": "fa79f41b6c44468db10e40550896477c",
       "version_major": 2,
       "version_minor": 0
      },
      "text/plain": [
       "  0%|          | 0/120000 [00:00<?, ?it/s]"
      ]
     },
     "metadata": {},
     "output_type": "display_data"
    },
    {
     "data": {
      "application/vnd.jupyter.widget-view+json": {
       "model_id": "419ae1be9199492989cb02aa44f42058",
       "version_major": 2,
       "version_minor": 0
      },
      "text/plain": [
       "  0%|          | 0/120000 [00:00<?, ?it/s]"
      ]
     },
     "metadata": {},
     "output_type": "display_data"
    },
    {
     "ename": "KeyboardInterrupt",
     "evalue": "",
     "output_type": "error",
     "traceback": [
      "\u001b[1;31m---------------------------------------------------------------------------\u001b[0m",
      "\u001b[1;31mKeyboardInterrupt\u001b[0m                         Traceback (most recent call last)",
      "Cell \u001b[1;32mIn[57], line 15\u001b[0m\n\u001b[0;32m      5\u001b[0m \u001b[39mprint\u001b[39m(sigma_2)\n\u001b[0;32m      6\u001b[0m results[sigma_2] \u001b[39m=\u001b[39m {}\n\u001b[0;32m      7\u001b[0m (\n\u001b[0;32m      8\u001b[0m     results[sigma_2][\u001b[39m\"\u001b[39m\u001b[39mfigure\u001b[39m\u001b[39m\"\u001b[39m],\n\u001b[0;32m      9\u001b[0m     results[sigma_2][\u001b[39m\"\u001b[39m\u001b[39mnpe_samples\u001b[39m\u001b[39m\"\u001b[39m],\n\u001b[0;32m     10\u001b[0m     results[sigma_2][\u001b[39m\"\u001b[39m\u001b[39mrnpe_samples\u001b[39m\u001b[39m\"\u001b[39m],\n\u001b[0;32m     11\u001b[0m     results[sigma_2][\u001b[39m\"\u001b[39m\u001b[39mx0\u001b[39m\u001b[39m\"\u001b[39m],\n\u001b[0;32m     12\u001b[0m     results[sigma_2][\u001b[39m\"\u001b[39m\u001b[39my0\u001b[39m\u001b[39m\"\u001b[39m],\n\u001b[0;32m     13\u001b[0m     results[sigma_2][\u001b[39m\"\u001b[39m\u001b[39mdistance_npe\u001b[39m\u001b[39m\"\u001b[39m],\n\u001b[0;32m     14\u001b[0m     results[sigma_2][\u001b[39m\"\u001b[39m\u001b[39mdistance_rnpe\u001b[39m\u001b[39m\"\u001b[39m],\n\u001b[1;32m---> 15\u001b[0m ) \u001b[39m=\u001b[39m computes_and_prepare_graphs(sigma_2)\n",
      "Cell \u001b[1;32mIn[56], line 51\u001b[0m, in \u001b[0;36mcomputes_and_prepare_graphs\u001b[1;34m(sigma_2)\u001b[0m\n\u001b[0;32m     48\u001b[0m \u001b[39m# Denoising x from the observed y\u001b[39;00m\n\u001b[0;32m     49\u001b[0m \u001b[39mwith\u001b[39;00m torch\u001b[39m.\u001b[39mno_grad():\n\u001b[0;32m     50\u001b[0m     xm_l\u001b[39m.\u001b[39mappend(\n\u001b[1;32m---> 51\u001b[0m         mcmc(\n\u001b[0;32m     52\u001b[0m             torch\u001b[39m.\u001b[39;49mzeros_like(data[summary][\u001b[39m\"\u001b[39;49m\u001b[39mx\u001b[39;49m\u001b[39m\"\u001b[39;49m][\u001b[39m0\u001b[39;49m]),\n\u001b[0;32m     53\u001b[0m             warm_up_steps,\n\u001b[0;32m     54\u001b[0m             M,\n\u001b[0;32m     55\u001b[0m             y0_scaled_l[\u001b[39m-\u001b[39;49m\u001b[39m1\u001b[39;49m]\u001b[39m.\u001b[39;49msqueeze()\u001b[39m.\u001b[39;49mto(device),\n\u001b[0;32m     56\u001b[0m             rho,\n\u001b[0;32m     57\u001b[0m             sigma,\n\u001b[0;32m     58\u001b[0m             tau,\n\u001b[0;32m     59\u001b[0m             q_x_NF,\n\u001b[0;32m     60\u001b[0m         )\n\u001b[0;32m     61\u001b[0m     )\n\u001b[0;32m     62\u001b[0m \u001b[39m# Sampling\u001b[39;00m\n\u001b[0;32m     63\u001b[0m npe_samples_l\u001b[39m.\u001b[39mappend(q_NPE\u001b[39m.\u001b[39mflow(y0_scaled_l[\u001b[39m-\u001b[39m\u001b[39m1\u001b[39m])\u001b[39m.\u001b[39msample( (\u001b[39m10_000\u001b[39m,)))\n",
      "Cell \u001b[1;32mIn[37], line 34\u001b[0m, in \u001b[0;36mmcmc\u001b[1;34m(x0, warm_up_steps, M, y0, rho, sigma, tau, q_x_NF)\u001b[0m\n\u001b[0;32m     32\u001b[0m \u001b[39mfor\u001b[39;00m i \u001b[39min\u001b[39;00m tqdm(\u001b[39mrange\u001b[39m(warm_up_steps \u001b[39m+\u001b[39m M)):\n\u001b[0;32m     33\u001b[0m     x_star \u001b[39m=\u001b[39m proposal(x_curr)\n\u001b[1;32m---> 34\u001b[0m     log_f_x_star \u001b[39m=\u001b[39m f(y0, x_star, rho, sigma, tau, q_x_NF)\u001b[39m.\u001b[39mlog()\n\u001b[0;32m     36\u001b[0m     log_a \u001b[39m=\u001b[39m log_f_x_star \u001b[39m-\u001b[39m log_f_x_curr\n\u001b[0;32m     38\u001b[0m     a \u001b[39m=\u001b[39m torch\u001b[39m.\u001b[39mexp(log_a)\n",
      "Cell \u001b[1;32mIn[37], line 24\u001b[0m, in \u001b[0;36mf\u001b[1;34m(y0, x, rho, sigma, tau, q_x_NF)\u001b[0m\n\u001b[0;32m     22\u001b[0m         slab_dist \u001b[39m=\u001b[39m dist\u001b[39m.\u001b[39mCauchy(xj\u001b[39m.\u001b[39mdetach(), torch\u001b[39m.\u001b[39mtensor(tau)\u001b[39m.\u001b[39mto(device))\n\u001b[0;32m     23\u001b[0m         res[j] \u001b[39m=\u001b[39m torch\u001b[39m.\u001b[39mexp(slab_dist\u001b[39m.\u001b[39mlog_prob(yj))\n\u001b[1;32m---> 24\u001b[0m \u001b[39mreturn\u001b[39;00m res \u001b[39m*\u001b[39m torch\u001b[39m.\u001b[39mexp(q_x_NF()\u001b[39m.\u001b[39;49mlog_prob(x))\n",
      "File \u001b[1;32mc:\\Users\\mmmat\\anaconda3\\envs\\sbi_env\\Lib\\site-packages\\zuko\\distributions.py:110\u001b[0m, in \u001b[0;36mNormalizingFlow.log_prob\u001b[1;34m(self, x)\u001b[0m\n\u001b[0;32m    109\u001b[0m \u001b[39mdef\u001b[39;00m \u001b[39mlog_prob\u001b[39m(\u001b[39mself\u001b[39m, x: Tensor) \u001b[39m-\u001b[39m\u001b[39m>\u001b[39m Tensor:\n\u001b[1;32m--> 110\u001b[0m     z, ladj \u001b[39m=\u001b[39m \u001b[39mself\u001b[39;49m\u001b[39m.\u001b[39;49mtransform\u001b[39m.\u001b[39;49mcall_and_ladj(x)\n\u001b[0;32m    111\u001b[0m     ladj \u001b[39m=\u001b[39m _sum_rightmost(ladj, \u001b[39mself\u001b[39m\u001b[39m.\u001b[39mreinterpreted)\n\u001b[0;32m    113\u001b[0m     \u001b[39mreturn\u001b[39;00m \u001b[39mself\u001b[39m\u001b[39m.\u001b[39mbase\u001b[39m.\u001b[39mlog_prob(z) \u001b[39m+\u001b[39m ladj\n",
      "File \u001b[1;32mc:\\Users\\mmmat\\anaconda3\\envs\\sbi_env\\Lib\\site-packages\\zuko\\transforms.py:141\u001b[0m, in \u001b[0;36mComposedTransform.call_and_ladj\u001b[1;34m(self, x)\u001b[0m\n\u001b[0;32m    138\u001b[0m acc \u001b[39m=\u001b[39m \u001b[39m0\u001b[39m\n\u001b[0;32m    140\u001b[0m \u001b[39mfor\u001b[39;00m t \u001b[39min\u001b[39;00m \u001b[39mself\u001b[39m\u001b[39m.\u001b[39mtransforms:\n\u001b[1;32m--> 141\u001b[0m     x, ladj \u001b[39m=\u001b[39m t\u001b[39m.\u001b[39;49mcall_and_ladj(x)\n\u001b[0;32m    142\u001b[0m     acc \u001b[39m=\u001b[39m acc \u001b[39m+\u001b[39m _sum_rightmost(ladj, event_dim \u001b[39m-\u001b[39m t\u001b[39m.\u001b[39mdomain\u001b[39m.\u001b[39mevent_dim)\n\u001b[0;32m    143\u001b[0m     event_dim \u001b[39m+\u001b[39m\u001b[39m=\u001b[39m t\u001b[39m.\u001b[39mcodomain\u001b[39m.\u001b[39mevent_dim \u001b[39m-\u001b[39m t\u001b[39m.\u001b[39mdomain\u001b[39m.\u001b[39mevent_dim\n",
      "File \u001b[1;32mc:\\Users\\mmmat\\anaconda3\\envs\\sbi_env\\Lib\\site-packages\\zuko\\transforms.py:742\u001b[0m, in \u001b[0;36mAutoregressiveTransform.call_and_ladj\u001b[1;34m(self, x)\u001b[0m\n\u001b[0;32m    741\u001b[0m \u001b[39mdef\u001b[39;00m \u001b[39mcall_and_ladj\u001b[39m(\u001b[39mself\u001b[39m, x: Tensor) \u001b[39m-\u001b[39m\u001b[39m>\u001b[39m Tuple[Tensor, Tensor]:\n\u001b[1;32m--> 742\u001b[0m     y, ladj \u001b[39m=\u001b[39m \u001b[39mself\u001b[39;49m\u001b[39m.\u001b[39;49mmeta(x)\u001b[39m.\u001b[39;49mcall_and_ladj(x)\n\u001b[0;32m    743\u001b[0m     \u001b[39mreturn\u001b[39;00m y, ladj\n",
      "File \u001b[1;32mc:\\Users\\mmmat\\anaconda3\\envs\\sbi_env\\Lib\\site-packages\\zuko\\transforms.py:206\u001b[0m, in \u001b[0;36mDependentTransform.call_and_ladj\u001b[1;34m(self, x)\u001b[0m\n\u001b[0;32m    205\u001b[0m \u001b[39mdef\u001b[39;00m \u001b[39mcall_and_ladj\u001b[39m(\u001b[39mself\u001b[39m, x: Tensor) \u001b[39m-\u001b[39m\u001b[39m>\u001b[39m Tuple[Tensor, Tensor]:\n\u001b[1;32m--> 206\u001b[0m     y, ladj \u001b[39m=\u001b[39m \u001b[39mself\u001b[39;49m\u001b[39m.\u001b[39;49mbase\u001b[39m.\u001b[39;49mcall_and_ladj(x)\n\u001b[0;32m    207\u001b[0m     ladj \u001b[39m=\u001b[39m ladj \u001b[39m=\u001b[39m _sum_rightmost(ladj, \u001b[39mself\u001b[39m\u001b[39m.\u001b[39mreinterpreted)\n\u001b[0;32m    209\u001b[0m     \u001b[39mreturn\u001b[39;00m y, ladj\n",
      "File \u001b[1;32mc:\\Users\\mmmat\\anaconda3\\envs\\sbi_env\\Lib\\site-packages\\zuko\\transforms.py:567\u001b[0m, in \u001b[0;36mMonotonicTransform.call_and_ladj\u001b[1;34m(self, x)\u001b[0m\n\u001b[0;32m    564\u001b[0m     x \u001b[39m=\u001b[39m x\u001b[39m.\u001b[39mview_as(x)\u001b[39m.\u001b[39mrequires_grad_()  \u001b[39m# shallow copy\u001b[39;00m\n\u001b[0;32m    565\u001b[0m     y \u001b[39m=\u001b[39m \u001b[39mself\u001b[39m\u001b[39m.\u001b[39mf(x)\n\u001b[1;32m--> 567\u001b[0m jacobian \u001b[39m=\u001b[39m torch\u001b[39m.\u001b[39;49mautograd\u001b[39m.\u001b[39;49mgrad(y, x, torch\u001b[39m.\u001b[39;49mones_like(y), create_graph\u001b[39m=\u001b[39;49m\u001b[39mTrue\u001b[39;49;00m)[\u001b[39m0\u001b[39m]\n\u001b[0;32m    569\u001b[0m \u001b[39mreturn\u001b[39;00m y, jacobian\u001b[39m.\u001b[39mlog()\n",
      "File \u001b[1;32mc:\\Users\\mmmat\\anaconda3\\envs\\sbi_env\\Lib\\site-packages\\torch\\autograd\\__init__.py:303\u001b[0m, in \u001b[0;36mgrad\u001b[1;34m(outputs, inputs, grad_outputs, retain_graph, create_graph, only_inputs, allow_unused, is_grads_batched)\u001b[0m\n\u001b[0;32m    301\u001b[0m     \u001b[39mreturn\u001b[39;00m _vmap_internals\u001b[39m.\u001b[39m_vmap(vjp, \u001b[39m0\u001b[39m, \u001b[39m0\u001b[39m, allow_none_pass_through\u001b[39m=\u001b[39m\u001b[39mTrue\u001b[39;00m)(grad_outputs_)\n\u001b[0;32m    302\u001b[0m \u001b[39melse\u001b[39;00m:\n\u001b[1;32m--> 303\u001b[0m     \u001b[39mreturn\u001b[39;00m Variable\u001b[39m.\u001b[39;49m_execution_engine\u001b[39m.\u001b[39;49mrun_backward(  \u001b[39m# Calls into the C++ engine to run the backward pass\u001b[39;49;00m\n\u001b[0;32m    304\u001b[0m         t_outputs, grad_outputs_, retain_graph, create_graph, t_inputs,\n\u001b[0;32m    305\u001b[0m         allow_unused, accumulate_grad\u001b[39m=\u001b[39;49m\u001b[39mFalse\u001b[39;49;00m)\n",
      "\u001b[1;31mKeyboardInterrupt\u001b[0m: "
     ]
    },
    {
     "data": {
      "image/png": "[encoded data removed]",
      "text/plain": [
       "<Figure size 1000x1000 with 2 Axes>"
      ]
     },
     "metadata": {},
     "output_type": "display_data"
    }
   ],
   "source": [
    "results = {}\n",
    "sigmas_2 = np.arange(1, 4, 0.5)\n",
    "with tqdm(sigmas_2, unit=\"Sigma²\", desc=\"Corruption\") as tq:\n",
    "    for sigma_2 in tq:\n",
    "        print(sigma_2)\n",
    "        results[sigma_2] = {}\n",
    "        (\n",
    "            results[sigma_2][\"figure\"],\n",
    "            results[sigma_2][\"npe_samples\"],\n",
    "            results[sigma_2][\"rnpe_samples\"],\n",
    "            results[sigma_2][\"x0\"],\n",
    "            results[sigma_2][\"y0\"],\n",
    "            results[sigma_2][\"distance_npe\"],\n",
    "            results[sigma_2][\"distance_rnpe\"],\n",
    "        ) = computes_and_prepare_graphs(sigma_2)"
   ]
  },
  {
   "cell_type": "code",
   "execution_count": null,
   "metadata": {},
   "outputs": [
    {
     "data": {
      "application/vnd.jupyter.widget-view+json": {
       "model_id": "65fcf43233294ebaabc905780f0d5c96",
       "version_major": 2,
       "version_minor": 0
      },
      "text/plain": [
       "interactive(children=(Dropdown(description='sigma_2', options=(1.0, 1.5, 2.0, 2.5, 3.0, 3.5), value=1.0), Outp…"
      ]
     },
     "metadata": {},
     "output_type": "display_data"
    }
   ],
   "source": [
    "@widgets.interact(sigma_2=sigmas_2)\n",
    "def plot_posteriors_widget(sigma_2=1):\n",
    "    plt.close()\n",
    "    return results[sigma_2][\"figure\"]"
   ]
  }
 ],
 "metadata": {
  "kernelspec": {
   "display_name": "sbi_env1",
   "language": "python",
   "name": "python3"
  },
  "language_info": {
   "codemirror_mode": {
    "name": "ipython",
    "version": 3
   },
   "file_extension": ".py",
   "mimetype": "text/x-python",
   "name": "python",
   "nbconvert_exporter": "python",
   "pygments_lexer": "ipython3",
   "version": "3.11.3"
  },
  "orig_nbformat": 4
 },
 "nbformat": 4,
 "nbformat_minor": 2
}
