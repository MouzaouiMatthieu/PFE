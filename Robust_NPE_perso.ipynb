{
 "cells": [
  {
   "cell_type": "code",
   "execution_count": 30,
   "metadata": {},
   "outputs": [],
   "source": [
    "import torch\n",
    "import numpy as np\n",
    "from torch.utils.data import TensorDataset, DataLoader\n",
    "import zuko\n",
    "import lampe.inference, lampe.utils\n",
    "from itertools import islice\n",
    "import flowjax\n",
    "from flowjax.flows import BlockNeuralAutoregressiveFlow, CouplingFlow\n",
    "from flowjax.train_utils import train_flow\n",
    "import jax.random as random\n",
    "import flowjax.distributions, flowjax.flows\n",
    "import jax\n",
    "from numpyro.distributions import (\n",
    "    Distribution,\n",
    "    Normal,\n",
    "    Bernoulli,\n",
    "    Cauchy,\n",
    "    constraints,\n",
    ")\n",
    "from flowjax.distributions import Distribution as FlowJaxDist\n",
    "import matplotlib.pyplot as plt"
   ]
  },
  {
   "cell_type": "code",
   "execution_count": 31,
   "metadata": {},
   "outputs": [],
   "source": [
    "N = 50000\n",
    "prior_over_mu = zuko.distributions.Normal(torch.Tensor([0.0]), torch.Tensor([25.0]))"
   ]
  },
  {
   "attachments": {},
   "cell_type": "markdown",
   "metadata": {},
   "source": [
    "Utils"
   ]
  },
  {
   "cell_type": "code",
   "execution_count": 32,
   "metadata": {},
   "outputs": [],
   "source": [
    "def true_data_generating_process():\n",
    "    \"\"\"Computes x = (mean,var) of a sample of size 100 drawn from N(mu, 2) and mu drawn from a prior\n",
    "\n",
    "    Returns:\n",
    "        tuple: x, mu\n",
    "    \"\"\"\n",
    "    mu = torch.distributions.Normal(torch.Tensor([0]), torch.Tensor([1])).sample((1, )).detach().item()\n",
    "    dist = torch.distributions.Normal(mu, 2.0)\n",
    "    sample = dist.sample((100, ))\n",
    "    mean, var = torch.mean(sample).item(), torch.var(sample).item()\n",
    "    x = mean, var\n",
    "    return x, mu"
   ]
  },
  {
   "attachments": {},
   "cell_type": "markdown",
   "metadata": {},
   "source": [
    "Simulation (line 1 & 2 of Algorithm 1)"
   ]
  },
  {
   "cell_type": "code",
   "execution_count": 33,
   "metadata": {},
   "outputs": [],
   "source": [
    "\n",
    "def simulator(thetas: torch.Tensor):\n",
    "    \"\"\"Simulator, maps theta -> x = (mean, var)\n",
    "\n",
    "    Args:\n",
    "        thetas (torch.Tensor): Parameters\n",
    "\n",
    "    Returns:\n",
    "        torch.Tensor: Tensor of size (theta.size, 2) of (mean, var)\n",
    "    \"\"\"\n",
    "    N = thetas.size()[0]\n",
    "    x = torch.empty((N, 2))\n",
    "    for i, theta in enumerate(thetas):\n",
    "        dist = torch.distributions.Normal(theta, 1.0)\n",
    "        samples = dist.sample((100,))\n",
    "        means, var = torch.mean(samples), torch.var(samples)\n",
    "        x[i][0], x[i][1] = means, var\n",
    "    return x\n",
    "\n",
    "def scale(quantity):\n",
    "    '''\n",
    "    Standardizes the quantity\n",
    "    '''\n",
    "    means, std = quantity.mean(axis=0), quantity.std(axis=0)\n",
    "    quantity = quantity - means\n",
    "    quantity = quantity/std\n",
    "    return quantity\n",
    "\n",
    "#Raw simulations\n",
    "theta_raw = prior_over_mu.sample((N, ))\n",
    "x_raw = simulator(theta_raw)\n",
    "#Standardized versions\n",
    "theta = scale(theta_raw)\n",
    "x = scale(x_raw)\n",
    "dataset = lampe.data.JointDataset(theta, x)\n",
    "\n",
    "\n",
    "#True observations \n",
    "y_raw = torch.tensor([true_data_generating_process()[0] for i in range(x.shape[1])])\n",
    "y = scale(y_raw)\n",
    "\n",
    "theta_test = scale(prior_over_mu.sample((N//10, )))\n",
    "x_test = scale(simulator(theta_test))\n",
    "dataset_test = lampe.data.JointDataset(theta_test, x_test)\n",
    "\n",
    "'''Creates a 'true' dataset (theta*, x*) ~ p(theta, x)'''\n",
    "y_star_list = []\n",
    "theta_star_list = []\n",
    "for i in range(10000):\n",
    "    y_star, theta_star = true_data_generating_process()\n",
    "    y_star_list.append(y_star)\n",
    "    theta_star_list.append(theta_star)\n",
    "y_star_raw = torch.tensor(y_star_list)\n",
    "theta_star_raw = torch.tensor(theta_star_list)\n",
    "theta_star = scale(theta_star_raw)\n",
    "y_star = scale(y_star_raw)\n",
    "dataset_star = lampe.data.JointDataset(theta_star.unsqueeze(1), y_star)"
   ]
  },
  {
   "attachments": {},
   "cell_type": "markdown",
   "metadata": {},
   "source": [
    "Train NPE q(theta|x) on the simulated dataset {(thetai, xi)}, i=1, ... N\n",
    "Uses a neural spline flow defining the transform on the interval [-5, 5] using 10  spline segments and 5 coupling layers. The base of the flow is a standard Gaussian distribution. "
   ]
  },
  {
   "cell_type": "code",
   "execution_count": 34,
   "metadata": {},
   "outputs": [],
   "source": [
    "def build_nsf(features, context):\n",
    "    \"\"\"Callable to isntanciate the NPE with NSFs\"\"\"\n",
    "    return zuko.flows.NSF(features, context, bins=10, transforms=5)\n",
    "q_NPE = lampe.inference.NPE(theta_dim = 1, x_dim=2, build=build_nsf)"
   ]
  },
  {
   "cell_type": "code",
   "execution_count": 35,
   "metadata": {},
   "outputs": [
    {
     "name": "stdout",
     "output_type": "stream",
     "text": [
      " Epoch 0 \n",
      " Epoch 1 \n",
      " Epoch 2 \n",
      " Epoch 3 \n",
      " Epoch 4 \n",
      " Epoch 5 \n",
      "Early stop at epoch 5\n"
     ]
    },
    {
     "data": {
      "text/plain": [
       "NPE(\n",
       "  (flow): NSF(\n",
       "    (transforms): ModuleList(\n",
       "      (0-4): 5 x MaskedAutoregressiveTransform(\n",
       "        (base): MonotonicRQSTransform(bins=10)\n",
       "        (order): [0]\n",
       "        (hyper): MaskedMLP(\n",
       "          (0): MaskedLinear(in_features=3, out_features=64, bias=True)\n",
       "          (1): ReLU()\n",
       "          (2): MaskedLinear(in_features=64, out_features=64, bias=True)\n",
       "          (3): ReLU()\n",
       "          (4): MaskedLinear(in_features=64, out_features=29, bias=True)\n",
       "        )\n",
       "      )\n",
       "    )\n",
       "    (base): DiagNormal(loc: tensor([0.]), scale: tensor([1.]))\n",
       "  )\n",
       ")"
      ]
     },
     "execution_count": 35,
     "metadata": {},
     "output_type": "execute_result"
    }
   ],
   "source": [
    "#Param for training\n",
    "max_epochs = 50\n",
    "learning_rate_NSF = 5*10e-4\n",
    "batch_size = 256\n",
    "#Optim\n",
    "optimizer = torch.optim.Adam(q_NPE.parameters(), learning_rate_NSF)\n",
    "step = lampe.utils.GDStep(optimizer)\n",
    "#Creates the loader\n",
    "loader = lampe.data.DataLoader(dataset, batch_size, shuffle=True)\n",
    "loss = lampe.inference.NPELoss(q_NPE)\n",
    "#For early stopping \n",
    "with torch.no_grad():\n",
    "    min_loss = loss(theta_test, x_test)\n",
    "time_to_min=1\n",
    "min_loss_list = [min_loss]\n",
    "patience = 5 \n",
    "\n",
    "q_NPE.train()\n",
    "\n",
    "for epoch in range(max_epochs):\n",
    "    loss_epoch = 0\n",
    "    for theta, x_batch in loader:\n",
    "        losses = loss(theta, x_batch)\n",
    "        optimizer.zero_grad()\n",
    "        losses.backward()\n",
    "        optimizer.step()\n",
    "        loss_epoch += losses\n",
    "    print(f\" Epoch {epoch} \")\n",
    "    \n",
    "    with torch.no_grad():\n",
    "        loss_test = loss(theta_test, x_test)\n",
    "        min_loss_list.append(loss_test)\n",
    "        \n",
    "        if len(min_loss_list) - np.argmin(min_loss_list) > patience:\n",
    "            print(f\"Early stop at epoch {epoch}\")\n",
    "            break\n",
    "q_NPE.eval()\n",
    "    "
   ]
  },
  {
   "cell_type": "code",
   "execution_count": 36,
   "metadata": {},
   "outputs": [],
   "source": [
    "#TODO Faire des sampling ici pour \" iii) NPE in which we assume no model errors\""
   ]
  },
  {
   "attachments": {},
   "cell_type": "markdown",
   "metadata": {},
   "source": [
    "Train q(x) on {xi} i=1, ... N (so first gen the x)\n",
    "For q(x) uses of a block neural autoregressive flow, single hidden layer of size 8D, x in R^d"
   ]
  },
  {
   "attachments": {},
   "cell_type": "markdown",
   "metadata": {},
   "source": [
    "NAF dans zuko? (mais pas \"block\" ... )"
   ]
  },
  {
   "cell_type": "code",
   "execution_count": 37,
   "metadata": {},
   "outputs": [],
   "source": [
    "key, subkey = random.split(random.PRNGKey(42))\n",
    "key, flow_key, train_key = random.split(key, 3)"
   ]
  },
  {
   "cell_type": "code",
   "execution_count": 38,
   "metadata": {},
   "outputs": [
    {
     "name": "stderr",
     "output_type": "stream",
     "text": [
      " 14%|█▍        | 7/50 [00:08<00:52,  1.22s/it, train=2.85, val=2.84]"
     ]
    },
    {
     "name": "stdout",
     "output_type": "stream",
     "text": [
      "Max patience reached.\n"
     ]
    },
    {
     "name": "stderr",
     "output_type": "stream",
     "text": [
      "\n"
     ]
    }
   ],
   "source": [
    "#Preparaing dataset & loader\n",
    "dataset = jax.numpy.array(x.detach().numpy())\n",
    "batch_size = 256\n",
    "base_dist_q_x = flowjax.distributions.Normal(x.shape[1])\n",
    "q_x = flowjax.flows.BlockNeuralAutoregressiveFlow(key, base_dist_q_x)\n",
    "\n",
    "#Training param\n",
    "max_epochs = 50\n",
    "learning_rate_BNAF = 10e-2\n",
    "epsilon = 1e-5\n",
    "\n",
    "q_x, x_losses = train_flow(\n",
    "        train_key,\n",
    "        q_x,\n",
    "        dataset,\n",
    "        learning_rate=learning_rate_BNAF,\n",
    "        batch_size=batch_size,\n",
    "        max_epochs=max_epochs,\n",
    "        show_progress=True,\n",
    "    )\n",
    "\n"
   ]
  },
  {
   "attachments": {},
   "cell_type": "markdown",
   "metadata": {},
   "source": [
    "Sample x~m from p(x | y0) % p(y0 \\ x) q(x), m = 1, ... M using MCMC"
   ]
  },
  {
   "attachments": {},
   "cell_type": "markdown",
   "metadata": {},
   "source": [
    "Spike and slab"
   ]
  },
  {
   "cell_type": "code",
   "execution_count": 39,
   "metadata": {},
   "outputs": [],
   "source": [
    "M = 100000\n",
    "warm_up_steps = 20000\n",
    "traj_length = 1\n",
    "target_acceptance_prob = 0.95"
   ]
  },
  {
   "cell_type": "code",
   "execution_count": 40,
   "metadata": {},
   "outputs": [],
   "source": [
    "\n",
    "class FlowDist(Distribution):\n",
    "    \"Wraps flow as numpyro compatible distribution for MCMC.\"\n",
    "    support = constraints.real\n",
    "\n",
    "    def __init__(self, flow: FlowJaxDist):\n",
    "        self.flow = flow\n",
    "        super().__init__(batch_shape=(), event_shape=(flow.dim,))\n",
    "\n",
    "    def sample(self, key, sample_shape=()):\n",
    "        raise NotImplementedError()\n",
    "\n",
    "    def log_prob(self, value):\n",
    "        batch_size = value.shape[:-1]\n",
    "        value = value.reshape(-1, self.flow.dim)\n",
    "        return self.flow.log_prob(value).reshape(batch_size)\n"
   ]
  },
  {
   "cell_type": "code",
   "execution_count": 41,
   "metadata": {},
   "outputs": [],
   "source": [
    "from numpyro import sample\n",
    "import numpyro\n",
    "def spike_and_slab_denoiser(\n",
    "    y_obs: jax.numpy.ndarray,\n",
    "    flow,\n",
    "    spike_std: float = 0.01,\n",
    "    slab_scale: float = 0.25,\n",
    "    misspecified_prob: float = 0.5,\n",
    "):\n",
    "    \"\"\"Model that uses Bernoulli random variable to index between using\n",
    "    a tight normal (for approximately well specified), and a Cauchy (for\n",
    "    misspecified) dimensions.\n",
    "\n",
    "    Args:\n",
    "        y_obs (jnp.ndarray): Observed data.\n",
    "        flow (FlowJaxDist): Flow from flowjax package.\n",
    "        misspecified_prob (float, optional): Prior probability of being in slab. Defaults to 0.5.\n",
    "    \"\"\"\n",
    "    with numpyro.plate(\"d\", len(y_obs)):\n",
    "        misspecified = sample(\"misspecified\", Bernoulli(probs=misspecified_prob))\n",
    "\n",
    "    x = sample(\"x\", FlowDist(flow))\n",
    "\n",
    "    with numpyro.handlers.mask(mask=~misspecified.astype(bool)):\n",
    "        sample(\"y_obs_w\", Normal(x, spike_std), obs=y_obs)\n",
    "\n",
    "    with numpyro.handlers.mask(mask=misspecified.astype(bool)):\n",
    "        sample(\"y_obs_m\", Cauchy(x, slab_scale), obs=y_obs)\n"
   ]
  },
  {
   "cell_type": "code",
   "execution_count": 42,
   "metadata": {},
   "outputs": [
    {
     "name": "stderr",
     "output_type": "stream",
     "text": [
      "sample: 100%|██████████| 120000/120000 [02:41<00:00, 741.93it/s, 5 steps of size 3.04e-01. acc. prob=0.95]\n"
     ]
    }
   ],
   "source": [
    "x_jax = jax.numpy.array(x.detach().numpy())\n",
    "y_jax = jax.numpy.array(y.detach().numpy())\n",
    "from numpyro.infer import MCMC, HMC, MixedHMC, init_to_value\n",
    "init = init_to_value(\n",
    "        values={\"x\": x_jax[0], \"misspecified\": jax.numpy.ones(len(y_jax), int)}\n",
    "    )\n",
    "denoiser = spike_and_slab_denoiser\n",
    "kernel = MixedHMC(\n",
    "        HMC(denoiser, trajectory_length=1, init_strategy=init, target_accept_prob=0.95,)\n",
    "    )\n",
    "mcmc = MCMC(\n",
    "        kernel,\n",
    "        num_warmup=warm_up_steps,\n",
    "        num_samples=M,\n",
    "        progress_bar=True,\n",
    "    )\n",
    "model_kwargs = {\"y_obs\": y_jax, \"flow\":q_x}\n",
    "key, mcmc_key = random.split(key)\n",
    "mcmc.run(mcmc_key, **model_kwargs)"
   ]
  },
  {
   "attachments": {},
   "cell_type": "markdown",
   "metadata": {},
   "source": [
    "Sample theta ~q(theta | xm), m = 1, ..., M"
   ]
  },
  {
   "cell_type": "code",
   "execution_count": 43,
   "metadata": {},
   "outputs": [],
   "source": [
    "xm = mcmc.get_samples()[\"x\"]\n",
    "xm_tensor = torch.Tensor(np.array(xm))\n",
    "thetas_m = q_NPE.flow(xm_tensor).sample()"
   ]
  },
  {
   "cell_type": "code",
   "execution_count": 44,
   "metadata": {},
   "outputs": [],
   "source": [
    "k = M//10\n",
    "perm = torch.randperm(xm_tensor.size()[0])\n",
    "idx = perm[:k]\n",
    "xm_sample = xm_tensor[idx]"
   ]
  },
  {
   "cell_type": "code",
   "execution_count": 45,
   "metadata": {},
   "outputs": [],
   "source": [
    "with torch.no_grad():\n",
    "    thetasm = q_NPE.sample(xm_sample)"
   ]
  },
  {
   "cell_type": "code",
   "execution_count": 46,
   "metadata": {},
   "outputs": [
    {
     "name": "stderr",
     "output_type": "stream",
     "text": [
      "100%|██████████| 10000/10000 [04:02<00:00, 41.24pair/s]\n"
     ]
    },
    {
     "data": {
      "image/png": "[encoded data removed]",
      "text/plain": [
       "<Figure size 320x320 with 1 Axes>"
      ]
     },
     "metadata": {},
     "output_type": "display_data"
    }
   ],
   "source": [
    "from lampe.diagnostics import expected_coverage_mc, expected_coverage_ni\n",
    "npe_levels, npe_coverages = expected_coverage_mc(q_NPE.flow, dataset_star)\n",
    "from lampe.plots import nice_rc, coverage_plot\n",
    "fig = coverage_plot(npe_levels, npe_coverages, legend='RNPE')"
   ]
  },
  {
   "cell_type": "code",
   "execution_count": 47,
   "metadata": {},
   "outputs": [],
   "source": [
    "def q_NPE_log_prob(flow, thetas, xm):\n",
    "    res = []\n",
    "    for i, theta in enumerate(thetas.unsqueeze_(1)):\n",
    "        xi = xm[i]\n",
    "        log_prob = flow.flow(xi).log_prob(theta) \n",
    "        res.append(log_prob.detach().item())\n",
    "    return res"
   ]
  },
  {
   "cell_type": "code",
   "execution_count": 48,
   "metadata": {},
   "outputs": [],
   "source": [
    "q_NPE.requires_grad_=False"
   ]
  },
  {
   "cell_type": "code",
   "execution_count": 49,
   "metadata": {},
   "outputs": [],
   "source": [
    "log_probs = q_NPE_log_prob(q_NPE, theta_star, y_star)"
   ]
  },
  {
   "cell_type": "code",
   "execution_count": 50,
   "metadata": {},
   "outputs": [
    {
     "data": {
      "text/plain": [
       "{'whiskers': [<matplotlib.lines.Line2D at 0x7fde504e2f10>,\n",
       "  <matplotlib.lines.Line2D at 0x7fde501844c0>],\n",
       " 'caps': [<matplotlib.lines.Line2D at 0x7fde50184430>,\n",
       "  <matplotlib.lines.Line2D at 0x7fde50184bb0>],\n",
       " 'boxes': [<matplotlib.lines.Line2D at 0x7fde504e2df0>],\n",
       " 'medians': [<matplotlib.lines.Line2D at 0x7fde50184d30>],\n",
       " 'fliers': [<matplotlib.lines.Line2D at 0x7fde5017aa00>],\n",
       " 'means': []}"
      ]
     },
     "execution_count": 50,
     "metadata": {},
     "output_type": "execute_result"
    },
    {
     "data": {
      "image/png": "[encoded data removed]",
      "text/plain": [
       "<Figure size 640x480 with 1 Axes>"
      ]
     },
     "metadata": {},
     "output_type": "display_data"
    }
   ],
   "source": [
    "plt.boxplot(log_probs)"
   ]
  },
  {
   "attachments": {},
   "cell_type": "markdown",
   "metadata": {},
   "source": [
    "Il faut aussi faire les 2 autres simu cad NPE (comme avant) et en mettant directement le modele d'erreur dans le simu"
   ]
  },
  {
   "cell_type": "code",
   "execution_count": 56,
   "metadata": {},
   "outputs": [],
   "source": [
    "def noisy_simulator():\n",
    "    #Sample the parameters theta [mu]\n",
    "    sigma = 0.01\n",
    "    tau = 0.25\n",
    "    rho = 1/2\n",
    "    x_noisy_raw, theta_noisy_raw = x_raw, theta_raw\n",
    "    x_noisy_test, theta_noisy_test = x_test, theta_test\n",
    "\n",
    "    for i, x in enumerate(x_noisy_raw):\n",
    "        spike_dist = torch.distributions.Normal(x, torch.Tensor([sigma]))\n",
    "        slab_dist = torch.distributions.Cauchy(x, torch.Tensor([tau]))\n",
    "        spike = ((1 - rho) *spike_dist.sample((1, )))[0]\n",
    "        slab = (rho * slab_dist.sample((1, )))[0]\n",
    "        x_noisy_raw[i] += spike + slab\n",
    "    for i, x in enumerate(x_noisy_test):\n",
    "        spike_dist = torch.distributions.Normal(x, torch.Tensor([sigma]))\n",
    "        slab_dist = torch.distributions.Cauchy(x, torch.Tensor([tau]))\n",
    "        spike = ((1 - rho) *spike_dist.sample((1, )))[0]\n",
    "        slab = (rho * slab_dist.sample((1, )))[0]\n",
    "        x_noisy_test += spike + slab\n",
    "    x_noisy = scale(x_noisy_test)\n",
    "    theta_noisy = scale(theta_noisy_raw)\n",
    "    return x_noisy, theta_noisy, x_noisy_test, theta_noisy_test\n",
    "        "
   ]
  },
  {
   "cell_type": "code",
   "execution_count": 57,
   "metadata": {},
   "outputs": [],
   "source": [
    "X_noisy, thetas, X_noisy_test, thetas_test = noisy_simulator()"
   ]
  },
  {
   "cell_type": "code",
   "execution_count": null,
   "metadata": {},
   "outputs": [],
   "source": [
    "q_NPE_noisy = zuko.flows.NSF(features=1, context=2, bins=10, transforms=5) #TODO! Continuer ICI"
   ]
  }
 ],
 "metadata": {
  "kernelspec": {
   "display_name": "rnpe_env",
   "language": "python",
   "name": "python3"
  },
  "language_info": {
   "codemirror_mode": {
    "name": "ipython",
    "version": 3
   },
   "file_extension": ".py",
   "mimetype": "text/x-python",
   "name": "python",
   "nbconvert_exporter": "python",
   "pygments_lexer": "ipython3",
   "version": "3.9.16"
  },
  "orig_nbformat": 4
 },
 "nbformat": 4,
 "nbformat_minor": 2
}
