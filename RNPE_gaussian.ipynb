{
 "cells": [
  {
   "cell_type": "code",
   "execution_count": 1,
   "metadata": {},
   "outputs": [],
   "source": [
    "import lampe\n",
    "import numpy as np\n",
    "import torch\n",
    "import zuko\n",
    "\n",
    "import matplotlib.pyplot as plt\n",
    "import ipywidgets as widgets\n",
    "import scipy.integrate as integrate\n",
    "\n",
    "from IPython.display import display\n",
    "import pickle\n",
    "from typing import Tuple, Callable, List, Dict\n",
    "from tqdm.notebook import tqdm_notebook as tqdm\n",
    "from torch import Tensor"
   ]
  },
  {
   "cell_type": "code",
   "execution_count": 2,
   "metadata": {},
   "outputs": [],
   "source": [
    "N = 100\n",
    "theta_grid = np.linspace(-8, 8, 1000)\n",
    "N_simu = 50_000\n",
    "M = 100_000\n",
    "warm_up_steps = 20_000\n",
    "sigma = 0.01\n",
    "tau = 0.25\n",
    "rho = 1 / 2"
   ]
  },
  {
   "cell_type": "code",
   "execution_count": 3,
   "metadata": {},
   "outputs": [],
   "source": [
    "def posterior_summaries(thetas: Tuple, x1: float, x2: float, sigma_2_y: float = 1):\n",
    "    r\"\"\"Compute the true posterior of :math:`p(\\theta | x)`.\n",
    "\n",
    "    Args:\n",
    "        thetas: points where we want the density function to be computed.\n",
    "        x1: First dimension of the observation.\n",
    "        x2: Second dimension of the observation.\n",
    "        sigma_2_y (optional): Corruption. Defaults to 1 (no corruption).\n",
    "    \"\"\"\n",
    "\n",
    "    def improper_posterior_summaries(theta, x1=x1, x2=x2):\n",
    "        likelihood_x1_part = -N * np.square(theta - x1) / (2 * sigma_2_y**2)\n",
    "        likelihood_x2_part = (\n",
    "            -0.5 * np.square(sigma_2_y - x2) / (2 * np.square(sigma_2_y) / N)\n",
    "        )\n",
    "        prior_part = -np.square(theta) / 50\n",
    "        return (\n",
    "            np.exp(likelihood_x1_part) * np.exp(likelihood_x2_part) * np.exp(prior_part)\n",
    "        )\n",
    "\n",
    "    z_summaries, eps = integrate.quad(improper_posterior_summaries, -25, 25)\n",
    "    return [\n",
    "        improper_posterior_summaries(theta, x1, x2) / z_summaries for theta in thetas\n",
    "    ]"
   ]
  },
  {
   "cell_type": "code",
   "execution_count": 4,
   "metadata": {},
   "outputs": [],
   "source": [
    "def get_true_post(task_name: str, x_star: Tensor, sigma_y_2: float = 1) -> Tuple:\n",
    "    r\"\"\"Get the true posterior of :math:`p(\\theta | x^*)`.\n",
    "\n",
    "    Args:\n",
    "        task_name: Name of the task.\n",
    "        x_star: Observation.\n",
    "        sigma_y_2 (optional): Corruption. Defaults to 1 (no corruption).\n",
    "\n",
    "    Returns:\n",
    "        Tuple: Density evaluated at points theta_grid.\n",
    "    \"\"\"\n",
    "    theta_grid  # Convert theta_grid to a torch tensor\n",
    "    post = None\n",
    "    if task_name == \"Gaussian\":\n",
    "        # We observe x = (x1, x2) = (mean, var)\n",
    "        post = posterior_summaries(theta_grid, x_star[0], x_star[1], sigma_y_2)\n",
    "    # post = torch.stack(post).cuda()  # Move post to CUDA\n",
    "    return post"
   ]
  },
  {
   "cell_type": "code",
   "execution_count": 5,
   "metadata": {},
   "outputs": [],
   "source": [
    "device = torch.device(\"cuda\" if torch.cuda.is_available() else \"cpu\")\n",
    "device = \"cpu\""
   ]
  },
  {
   "cell_type": "code",
   "execution_count": 6,
   "metadata": {},
   "outputs": [],
   "source": [
    "class CS():\n",
    "    \n",
    "    def __init__(self, N_simu, miss_specification_param=0.75, N_obs=M) -> None:\n",
    "        self.name = \"CS\"\n",
    "        self.prior_c = torch.distributions.Uniform(low=200, high=1500)\n",
    "        self.prior_p = torch.distributions.Uniform(low=3, high=20)\n",
    "        self.prior_d = torch.distributions.Uniform(low=10, high=20)\n",
    "        self.has_post = False\n",
    "        rate_c_0, rate_p_0, rate_d_0 = self.prior_sample()\n",
    "        self.theta0 = torch.tensor([rate_c_0, rate_p_0, rate_d_0])\n",
    "        self.miss_specification_param = miss_specification_param\n",
    "        \n",
    "        self.features_dim = 4\n",
    "        self.parameters_dim = 3\n",
    "        self.data = self.simulate_data(N_simu)\n",
    "        self.data_test = self.simulate_data(N_simu//10)\n",
    "        self.true_obs_data = self.gen_obs(N_obs, self.theta0)\n",
    "        self.y0 = self.true_obs_data[\"x\"][0]\n",
    "        \n",
    "        self.y0_scaled = (self.y0 - self.data[\"scale_parameters\"][0]) / self.data[\"scale_parameters\"][1]\n",
    "    \n",
    "    def prior_sample(self, n=1):\n",
    "        return self.prior_c.sample((n,)), self.prior_p.sample((n, )), self.prior_d.sample((n,))\n",
    "                \n",
    "    def simulate_data(self, N_simu, theta0=None, raw=False):\n",
    "        simu_data = {\"theta\": [], \"x\": [], \"cell_positions\": [], \"parent_positions\": [], \"cell_types\": []}\n",
    "        for _ in range(N_simu):\n",
    "            if theta0 is not None:\n",
    "                rate_c, rate_p, rate_d = theta0\n",
    "            else:\n",
    "                rate_c = self.prior_c.sample()\n",
    "                rate_p = self.prior_p.sample()\n",
    "                rate_d = self.prior_d.sample()\n",
    "\n",
    "            N_c = int(torch.distributions.Poisson(rate=rate_c).sample().item())\n",
    "            N_p = int(torch.distributions.Poisson(rate=rate_p).sample().item())\n",
    "            N_d = torch.distributions.Poisson(rate=rate_d).sample((N_c,))  # Modifier cette ligne\n",
    "\n",
    "            c = torch.distributions.Uniform(low=0, high=1).sample((N_c, 2))\n",
    "            p = torch.distributions.Uniform(low=0, high=1).sample((N_p, 2))\n",
    "\n",
    "            cell_types = torch.zeros(N_c, dtype=torch.bool)\n",
    "            for parent_idx in range(N_p):\n",
    "                parent = p[parent_idx]\n",
    "\n",
    "                num_daughters = int(N_d[parent_idx].item())\n",
    "                num_available_daughters = c.shape[0]\n",
    "\n",
    "                if num_daughters > num_available_daughters:\n",
    "                    num_daughters = num_available_daughters\n",
    "\n",
    "                _, daughters_idx = torch.topk(torch.cdist(c, parent.unsqueeze(0), p=2).squeeze(), num_daughters, largest=False)\n",
    "                daughters = c[daughters_idx]\n",
    "                r = torch.cdist(daughters, parent.unsqueeze_(0), p=2).max().item() if daughters.numel() !=0 else 0\n",
    "\n",
    "                distances = torch.cdist(c, parent.unsqueeze(0), p=2).squeeze()\n",
    "                cell_types[distances <= r] = 1\n",
    "                \n",
    "\n",
    "                # Calculate summary statistics\n",
    "            n_cancer_cells = torch.sum(cell_types).item()\n",
    "            n_stromal_cells = N_c - n_cancer_cells\n",
    "            stromal_cells = c[cell_types == 0]\n",
    "            cancer_cells = c[cell_types == 1]\n",
    "            if len(stromal_cells) > 0 and len(cancer_cells) > 0:\n",
    "                min_distances = torch.cdist(stromal_cells, cancer_cells, p=2).min(dim=1).values\n",
    "                mean_min_dist = torch.mean(min_distances).item()\n",
    "                max_min_dist = torch.max(min_distances).item()\n",
    "            else:\n",
    "                mean_min_dist = float('inf')\n",
    "                max_min_dist = float('inf')\n",
    "            theta = torch.tensor([rate_c, rate_p, rate_d])\n",
    "            x = torch.tensor([n_cancer_cells, n_stromal_cells, mean_min_dist, max_min_dist])\n",
    "            simu_data[\"theta\"].append(theta)\n",
    "            simu_data[\"x\"].append(x)\n",
    "            simu_data[\"cell_positions\"].append(c)\n",
    "            simu_data[\"parent_positions\"].append(p)\n",
    "            simu_data[\"cell_types\"].append(cell_types)\n",
    "\n",
    "        simu_data[\"theta\"] = torch.stack(simu_data[\"theta\"])\n",
    "        simu_data[\"x\"] = torch.stack(simu_data[\"x\"])\n",
    "        scale_mean, scale_std = simu_data[\"x\"].mean(0), simu_data[\"x\"].std(0)\n",
    "        simu_data[\"scale_parameters\"] = scale_mean, scale_std\n",
    "        simu_data[\"scaled_x\"] = (simu_data[\"x\"] - scale_mean) / scale_std\n",
    "\n",
    "        return simu_data\n",
    "    \n",
    "    def gen_obs(self, N_obs, theta0):\n",
    "        obs_data = {\"theta\": [], \"x\": [], \"cell_positions\": [], \"parent_positions\": [], \"cell_types\": [], \"cell_positions_raw\": [],\"cell_types_raw\": []}\n",
    "\n",
    "        for _ in range(N_obs):\n",
    "            if theta0 is not None:\n",
    "                rate_c, rate_p, rate_d = theta0\n",
    "            else:\n",
    "                rate_c = self.prior_c.sample()\n",
    "                rate_p = self.prior_p.sample()\n",
    "                rate_d = self.prior_d.sample()\n",
    "\n",
    "            N_c = int(torch.distributions.Poisson(rate=rate_c).sample().item())\n",
    "            N_p = int(torch.distributions.Poisson(rate=rate_p).sample().item())\n",
    "            N_d = torch.distributions.Poisson(rate=rate_d).sample((N_p,))\n",
    "\n",
    "            c = torch.distributions.Uniform(low=0, high=1).sample((N_c, 2))\n",
    "            p = torch.distributions.Uniform(low=0, high=1).sample((N_p, 2))\n",
    "\n",
    "            cell_types = torch.zeros(N_c, dtype=torch.bool)\n",
    "            for parent_idx in range(N_p):\n",
    "                parent = p[parent_idx]\n",
    "\n",
    "                num_daughters = int(N_d[parent_idx].item())\n",
    "                num_available_daughters = c.shape[0]\n",
    "\n",
    "                if num_daughters > num_available_daughters:\n",
    "                    num_daughters = num_available_daughters\n",
    "\n",
    "                _, daughters_idx = torch.topk(torch.cdist(c, parent.unsqueeze(0), p=2).squeeze(), num_daughters, largest=False)\n",
    "                daughters = c[daughters_idx]\n",
    "\n",
    "                r = torch.cdist(daughters, parent.unsqueeze_(0), p=2).max().item() if daughters.numel() != 0 else 0\n",
    "                \n",
    "                distances = torch.cdist(c, parent.unsqueeze(0), p=2).squeeze()\n",
    "\n",
    "                cell_types[distances <= r] = 1\n",
    "                obs_data[\"cell_positions_raw\"].append(c)\n",
    "                obs_data[\"cell_types_raw\"].append(cell_types)\n",
    "            \n",
    "            if torch.distributions.Bernoulli(self.miss_specification_param).sample():\n",
    "                removal_radius = r * 0.8\n",
    "                \n",
    "                \n",
    "                if cell_types.shape == distances.shape:  # Check if the mask shape matches cell_types shape\n",
    "                    mask = (cell_types == 1) & (distances <= removal_radius)\n",
    "                    c = c[~mask]\n",
    "                    cell_types = cell_types[~mask]\n",
    "\n",
    "                \n",
    "\n",
    "        # Calculate summary statistics\n",
    "            n_cancer_cells = torch.sum(cell_types).item()\n",
    "            n_stromal_cells = N_c - n_cancer_cells\n",
    "            stromal_cells = c[cell_types == 0]\n",
    "            cancer_cells = c[cell_types == 1]\n",
    "            if len(stromal_cells) > 0 and len(cancer_cells) > 0:\n",
    "                min_distances = torch.cdist(stromal_cells, cancer_cells, p=2).min(dim=1).values\n",
    "                mean_min_dist = torch.mean(min_distances).item()\n",
    "                max_min_dist = torch.max(min_distances).item()\n",
    "            else:\n",
    "                mean_min_dist = float('inf')\n",
    "                max_min_dist = float('inf')\n",
    "            theta = torch.tensor([rate_c, rate_p, rate_d])\n",
    "            x = torch.tensor([n_cancer_cells, n_stromal_cells, mean_min_dist, max_min_dist])\n",
    "            obs_data[\"theta\"].append(theta)\n",
    "            obs_data[\"x\"].append(x)\n",
    "            obs_data[\"cell_positions\"].append(c)\n",
    "            obs_data[\"parent_positions\"].append(p)\n",
    "            obs_data[\"cell_types\"].append(cell_types)\n",
    "\n",
    "        obs_data[\"theta\"] = torch.stack(obs_data[\"theta\"])\n",
    "        obs_data[\"x\"] = torch.stack(obs_data[\"x\"])\n",
    "        \n",
    "        scale_mean, scale_std = obs_data[\"x\"].mean(0), obs_data[\"x\"].std(0)\n",
    "        obs_data[\"scale_parameters\"] = scale_mean, scale_std\n",
    "        obs_data[\"scaled_x\"] = (obs_data[\"x\"] - scale_mean) / scale_std\n",
    "\n",
    "        return obs_data\n",
    "\n",
    "                \n",
    "        "
   ]
  },
  {
   "cell_type": "code",
   "execution_count": 7,
   "metadata": {},
   "outputs": [],
   "source": [
    "class Gaussian:\n",
    "    r\"\"\"Gaussian Task.\n",
    "        - Simulation: :math:`z_i \\sim \\mathcal{N}(\\theta, 1), i=1,...N_simu`\n",
    "        - TDGP: :math:`z_i \\sim \\mathcal{N}(\\theta, \\sigma^2), i=1,...N_simu`\n",
    "        - Feature space: Summary statistic :math:`x=\\left(mean(z_1,...z_{N_simu}); var(z_1,...z_{N_simu)\\right)`\n",
    "    NB: We can see the TDGP such that :math:`y = x + \\epsiolon, x \\sim \\mathcal{M}(\\theta), \\epsilon \\sim \\mathcal{N}(0, \\sigma_y^2).\n",
    "    \"\"\"\n",
    "\n",
    "    def __init__(\n",
    "        self, N_simu: int, sigma_y_2: float, true_theta: Tensor = torch.zeros(1)\n",
    "    ) -> None:\n",
    "        r\"\"\"Init the object, including datasets.\n",
    "\n",
    "        Args:\n",
    "            N_simu: total number of simulations\n",
    "            sigma_y_2: Corruption, Var of the observed data.\n",
    "        \"\"\"\n",
    "        self.name = \"Gaussian\"\n",
    "        self.prior = torch.distributions.Normal(0, 5)\n",
    "        self.sigma_y_2 = sigma_y_2\n",
    "        self.features_dim = 2\n",
    "        self.parameters_dim = 1\n",
    "        self.true_theta = true_theta\n",
    "        self.has_post = True\n",
    "        data = self.generate_data(N_simu, sigma_y_2)\n",
    "        data_test = self.generate_data(N_simu // 10, sigma_y_2)\n",
    "        true_obs_data = self.generate_data(1, sigma_y_2, true_theta)\n",
    "\n",
    "        x0 = true_obs_data[\"x\"]\n",
    "        y0 = x0 + true_obs_data[\"eps\"]\n",
    "        x0_scaled = (x0 - data[\"scale_parameters\"][0]) / data[\"scale_parameters\"][1]\n",
    "        y0_scaled = (y0 - data[\"scale_parameters\"][0]) / data[\"scale_parameters\"][1]\n",
    "\n",
    "        self.data = data\n",
    "        self.data_test = data_test\n",
    "        self.x0 = x0.squeeze()\n",
    "        self.y0 = y0.squeeze()\n",
    "        self.x0_scaled = x0_scaled\n",
    "        self.y0_scaled = y0_scaled.squeeze()\n",
    "\n",
    "    def prior_sample(self, n):\n",
    "        return self.prior.sample((n,1))\n",
    "\n",
    "    def generate_data(self, N: int, sigma_y_2: float = 1, thetas: Tensor = None):\n",
    "        \"\"\"Generates data according to #TODO Maths ici\n",
    "\n",
    "        Args:\n",
    "            N: Total number of simulations\n",
    "            sigma_y_2 (optional): Corruption. Defaults to 1.\n",
    "            theta (optional): Reference theta.\n",
    "\n",
    "        Returns:\n",
    "            res: dictionnary whose entries are parameters thetas, the raw simulations x, the corruption espilons as well as the scaled observations and the scale parameters.\n",
    "        \"\"\"\n",
    "        if thetas is None:\n",
    "            thetas = self.prior_sample(N)\n",
    "        sigma_eps = (\n",
    "            sigma_y_2 - 1\n",
    "        )  # If the TDGP has a variance of \\sigma^2, the corruption layer has \\sigma-1\n",
    "        res = {}\n",
    "        res[\"theta\"] = thetas\n",
    "        means_and_vars = torch.zeros((N, 2), device=device)\n",
    "\n",
    "        for i, theta in enumerate(thetas):\n",
    "            z = torch.distributions.Normal(theta, 1).sample((100,)).to(device)\n",
    "            mean = z.mean()\n",
    "            var = z.var()\n",
    "            means_and_vars[i] = torch.stack(\n",
    "                [mean.unsqueeze_(0), var.unsqueeze_(0)]\n",
    "            ).squeeze_()\n",
    "\n",
    "        res[\"x\"] = means_and_vars\n",
    "\n",
    "        norm_max = -1\n",
    "        for n_run in range(1):\n",
    "            # We take the run where the corruption has more effect, to be able to compare.\n",
    "            eps = (\n",
    "                torch.distributions.Normal(\n",
    "                    torch.zeros_like(res[\"x\"]), np.sqrt(sigma_eps)\n",
    "                )\n",
    "                .sample()\n",
    "                .to(device)\n",
    "            )\n",
    "            if torch.norm(eps) > norm_max:\n",
    "                epsilons = eps\n",
    "                norm_max = torch.norm(eps)\n",
    "        res[\"eps\"] = epsilons\n",
    "        scale_mean, scale_std = res[\"x\"].mean(0), res[\"x\"].std(0)\n",
    "        res[\"scale_parameters\"] = scale_mean, scale_std\n",
    "        res[\"scaled_x\"] = (res[\"x\"] - scale_mean) / scale_std\n",
    "        return res\n",
    "\n",
    "    def true_post(self, x_star: Tensor, sigma_2_y: float = None) -> Tuple:\n",
    "        \"\"\"Get the true posterior given an observation x_star.\n",
    "\n",
    "        Args:\n",
    "            x_star: An observation.\n",
    "            sigma_2_y (optional): Corruption. Defaults to None.\n",
    "\n",
    "        Returns:\n",
    "            post: Posterior density evaluated from -8 to 8.\n",
    "        \"\"\"\n",
    "        if sigma_2_y is None:\n",
    "            sigma_2_y = self.sigma_y_2\n",
    "        theta_grid_t = np.linspace(-8, 8, 1000)\n",
    "        post = posterior_summaries(theta_grid_t, x_star[0], x_star[1], sigma_2_y)\n",
    "        return post"
   ]
  },
  {
   "cell_type": "code",
   "execution_count": 8,
   "metadata": {},
   "outputs": [],
   "source": [
    "sigma_2_y = 2"
   ]
  },
  {
   "cell_type": "code",
   "execution_count": 9,
   "metadata": {},
   "outputs": [],
   "source": [
    "def build_nsf(features, context):\n",
    "    \"\"\"Callable to instantiate the NPE with NSFs\"\"\"\n",
    "    return zuko.flows.NSF(features, context, bins=10, transforms=5).to(device)\n",
    "\n",
    "\n",
    "def train_flow(\n",
    "    flow: lampe.inference.NPE,\n",
    "    loss: Callable[[Tensor, Tensor], float],\n",
    "    theta: Tensor,\n",
    "    x: Tensor,\n",
    "    theta_test: Tensor,\n",
    "    x_test: Tensor,\n",
    ") -> lampe.inference.NPE:\n",
    "    \"\"\"Training procedure for the instantiated NPE.\n",
    "\n",
    "    Args:\n",
    "        flow (lampe.inference.NPE): Flow object to be trained.\n",
    "        loss (Callable[[Tensor, Tensor], float]): Loss function used for training.\n",
    "        theta (Tensor): Parameters.\n",
    "        x (Tensor): Observations.\n",
    "        theta_test (Tensor): Parameters used for early stopping.\n",
    "        x_test (Tensor): Observations used for early stopping.\n",
    "\n",
    "    Returns:\n",
    "        lampe.inference.NPE: The trained flow.\n",
    "    \"\"\"\n",
    "    optimizer = torch.optim.Adam(flow.parameters(), lr=5e-3)\n",
    "    #theta_test = theta_test.unsqueeze(-1).to(device)\n",
    "    data = lampe.data.JointDataset(theta.to(device), x.to(device))\n",
    "    loader = lampe.data.DataLoader(data, batch_size=256)\n",
    "    with torch.no_grad():\n",
    "        min_loss = loss(theta_test, x_test.to(device))\n",
    "    min_loss_list = [min_loss.item()]  # Convert min_loss to a scalar\n",
    "\n",
    "    flow.train()\n",
    "\n",
    "    for epoch in range(50):\n",
    "        for theta_batch, x_batch in loader:\n",
    "            theta_batch = theta_batch#.unsqueeze(-1).to(device)\n",
    "            x_batch = x_batch.to(device)\n",
    "            losses = loss(theta_batch, x_batch)\n",
    "            optimizer.zero_grad()\n",
    "            losses.backward()\n",
    "            optimizer.step()\n",
    "\n",
    "        # Checking for early stopping\n",
    "        with torch.no_grad():\n",
    "            loss_test = loss(theta_test, x_test.to(device))\n",
    "            min_loss_list.append(loss_test.item())  # Convert loss_test to a scalar\n",
    "            if (\n",
    "                len(min_loss_list) - np.argmin(min_loss_list) > 5\n",
    "            ):  # No improvement in loss(test) for the last 5 iterations\n",
    "                # Early stop\n",
    "                break\n",
    "    flow.eval()\n",
    "    return flow\n",
    "\n",
    "\n",
    "def create_train_flow(task) -> lampe.inference.NPE:\n",
    "    \"\"\"Creates a conditional flow (NSF) and trains it on the task data.\n",
    "\n",
    "    Args:\n",
    "        task: A task object.\n",
    "\n",
    "    Returns:\n",
    "        lampe.inference.NPE: The trained flow.\n",
    "    \"\"\"\n",
    "    data = task.data\n",
    "    data_test = task.data_test\n",
    "    theta = data[\"theta\"]\n",
    "    theta_test = data_test[\"theta\"]\n",
    "    flow = lampe.inference.NPE(\n",
    "        theta_dim=task.parameters_dim, x_dim=task.features_dim, build=build_nsf\n",
    "    ).to(device)\n",
    "    loss = lampe.inference.NPELoss(flow).to(device)\n",
    "    x = data[\"scaled_x\"].to(device)\n",
    "    x_test = data_test[\"scaled_x\"].to(device)\n",
    "    flow = train_flow(flow, loss, theta, x, theta_test, x_test)\n",
    "    return flow\n",
    "\n",
    "\n",
    "task = Gaussian(N_simu=N_simu, sigma_y_2=sigma_2_y)\n",
    "#task = CS(N_simu, N_obs=10_000)\n",
    "\n",
    "q_NPE = create_train_flow(task)"
   ]
  },
  {
   "cell_type": "code",
   "execution_count": 10,
   "metadata": {},
   "outputs": [],
   "source": [
    "def train_unconditional_flow(\n",
    "    flow: zuko.flows, loss: Callable[[Tensor], float], x: Tensor, x_test: Tensor\n",
    ") -> zuko.flows:\n",
    "    \"\"\"Trains a unconditional flow on x.\n",
    "\n",
    "    Args:\n",
    "        flow: Object flow to be trained.\n",
    "        loss: Method to compute a loss.\n",
    "        x: Training data.\n",
    "        x_test: Test data, used for early stopping.\n",
    "\n",
    "    Returns:\n",
    "        flow: Trained flow object.\n",
    "    \"\"\"\n",
    "    optimizer = torch.optim.Adam(flow.parameters(), lr=1e-2)\n",
    "    loader = torch.utils.data.DataLoader(x.to(device), 256)\n",
    "\n",
    "    with torch.no_grad():\n",
    "        min_loss = loss(x_test.to(device))\n",
    "    min_loss_list = [min_loss.item()]  # Convert min_loss to a scalar\n",
    "\n",
    "    flow.train()\n",
    "\n",
    "    for epoch in range(50):\n",
    "        for x_batch in loader:\n",
    "            x_batch = x_batch.to(device)\n",
    "            losses = loss(x_batch)\n",
    "            optimizer.zero_grad()\n",
    "            losses.backward()\n",
    "            optimizer.step()\n",
    "\n",
    "        # Checking for early stopping\n",
    "        with torch.no_grad():\n",
    "            loss_test = loss(x_test.to(device))\n",
    "            min_loss_list.append(loss_test.item())  # Convert loss_test to a scalar\n",
    "            if (\n",
    "                len(min_loss_list) - np.argmin(min_loss_list) > 5\n",
    "            ):  # No improvement in loss(test) for the last 5 iterations\n",
    "                # Early stop\n",
    "\n",
    "                break\n",
    "    flow.eval()\n",
    "    return flow\n",
    "\n",
    "\n",
    "def create_train_unconditional_flow(task) -> zuko.flows:\n",
    "    \"\"\"Instanciate and trains an unconditional flow (MAF) on the task data.\n",
    "\n",
    "    Args:\n",
    "        task: A task, containing train and test data.\n",
    "\n",
    "    Returns:\n",
    "        flow: The trained flow.\n",
    "    \"\"\"\n",
    "    data = task.data\n",
    "    data_test = task.data_test\n",
    "    flow = zuko.flows.NAF(features=task.features_dim, context=0).to(device)  #!\n",
    "    loss = lambda x: -flow().log_prob(x).mean()\n",
    "    x = data[\"scaled_x\"].to(device)\n",
    "    x_test = data_test[\"scaled_x\"].to(device)\n",
    "    flow = train_unconditional_flow(flow, loss, x, x_test)\n",
    "    return flow\n",
    "\n",
    "q_x_NF = create_train_unconditional_flow(task)"
   ]
  },
  {
   "cell_type": "code",
   "execution_count": 11,
   "metadata": {},
   "outputs": [
    {
     "ename": "IndexError",
     "evalue": "index 1 is out of bounds for dimension 1 with size 1",
     "output_type": "error",
     "traceback": [
      "\u001b[1;31m---------------------------------------------------------------------------\u001b[0m",
      "\u001b[1;31mIndexError\u001b[0m                                Traceback (most recent call last)",
      "Cell \u001b[1;32mIn[11], line 11\u001b[0m\n\u001b[0;32m      8\u001b[0m plt\u001b[39m.\u001b[39mtitle(\u001b[39m'\u001b[39m\u001b[39mHistogramme Colonne 1\u001b[39m\u001b[39m'\u001b[39m)\n\u001b[0;32m     10\u001b[0m plt\u001b[39m.\u001b[39msubplot(\u001b[39m1\u001b[39m, \u001b[39m3\u001b[39m, \u001b[39m2\u001b[39m)\n\u001b[1;32m---> 11\u001b[0m plt\u001b[39m.\u001b[39mhist(npe_samples_y[:, \u001b[39m1\u001b[39;49m], bins\u001b[39m=\u001b[39m\u001b[39m200\u001b[39m, color\u001b[39m=\u001b[39m\u001b[39m'\u001b[39m\u001b[39mgreen\u001b[39m\u001b[39m'\u001b[39m, alpha\u001b[39m=\u001b[39m\u001b[39m0.5\u001b[39m)\n\u001b[0;32m     12\u001b[0m plt\u001b[39m.\u001b[39mtitle(\u001b[39m'\u001b[39m\u001b[39mHistogramme Colonne 2\u001b[39m\u001b[39m'\u001b[39m)\n\u001b[0;32m     14\u001b[0m plt\u001b[39m.\u001b[39msubplot(\u001b[39m1\u001b[39m, \u001b[39m3\u001b[39m, \u001b[39m3\u001b[39m)\n",
      "\u001b[1;31mIndexError\u001b[0m: index 1 is out of bounds for dimension 1 with size 1"
     ]
    },
    {
     "data": {
      "image/png": "[encoded data removed]",
      "text/plain": [
       "<Figure size 1000x600 with 2 Axes>"
      ]
     },
     "metadata": {},
     "output_type": "display_data"
    }
   ],
   "source": [
    "\n",
    "    \n",
    "npe_samples_y = q_NPE.flow(task.y0_scaled).sample((20_000,))\n",
    "\n",
    "    \n",
    "plt.figure(figsize=(10, 6))\n",
    "\n",
    "plt.subplot(1, 3, 1)\n",
    "plt.hist(npe_samples_y[:, 0], bins=200, color='blue', alpha=0.5)\n",
    "plt.title('Histogramme Colonne 1')\n",
    "\n",
    "plt.subplot(1, 3, 2)\n",
    "plt.hist(npe_samples_y[:, 1], bins=200, color='green', alpha=0.5)\n",
    "plt.title('Histogramme Colonne 2')\n",
    "\n",
    "plt.subplot(1, 3, 3)\n",
    "plt.hist(npe_samples_y[:, 2], bins=200, color='red', alpha=0.5)\n",
    "plt.title('Histogramme Colonne 3')\n",
    "\n",
    "plt.tight_layout()\n",
    "plt.show()"
   ]
  },
  {
   "cell_type": "code",
   "execution_count": 12,
   "metadata": {},
   "outputs": [],
   "source": [
    "# Define the proposal function\n",
    "proposal_data = q_x_NF().sample((M+warm_up_steps,))\n",
    "def proposal(x_curr):\n",
    "    idx = torch.randint(M+warm_up_steps,(1,))\n",
    "    return proposal_data[idx]\n",
    "    #return x_curr + torch.distributions.Normal(0, 1).sample(x_curr.shape).to(device)\n",
    "\n",
    "\n",
    "# Define the f function\n",
    "def f(y0, x, rho, sigma, tau, q_x_NF):\n",
    "    D = x.shape[-1]\n",
    "    res = torch.zeros_like(x)\n",
    "    for j in range(D):\n",
    "        xj = x[:, j]\n",
    "        yj = y0[j]\n",
    "        zj = torch.distributions.Bernoulli(rho).sample().to(device)\n",
    "        if not zj:\n",
    "            spike_dist = torch.distributions.Normal(\n",
    "                xj.detach(), torch.tensor(sigma).to(device)\n",
    "            )\n",
    "            res[:, j] = torch.exp(spike_dist.log_prob(yj))\n",
    "        else:\n",
    "            slab_dist = torch.distributions.Cauchy(\n",
    "                xj.detach(), torch.tensor(tau).to(device)\n",
    "            )\n",
    "            res[:, j] = torch.exp(slab_dist.log_prob(yj))\n",
    "    return res * torch.exp(q_x_NF().log_prob(x))\n",
    "\n",
    "\n",
    "def mcmc(x0, warm_up_steps, M, y0, rho, sigma, tau, q_x_NF):\n",
    "    x_curr = x0.to(device)\n",
    "    my_samples = torch.empty((warm_up_steps + M, x0.shape[1])).to(device)\n",
    "    log_f_x_curr = f(y0, x_curr, rho, sigma, tau, q_x_NF).log()\n",
    "\n",
    "    for i in tqdm(range(warm_up_steps + M), desc=\"MCMC sampling\"):\n",
    "        x_star = proposal(x_curr)\n",
    "        log_f_x_star = f(y0, x_star, rho, sigma, tau, q_x_NF).log()\n",
    "\n",
    "        log_a = log_f_x_star - log_f_x_curr\n",
    "\n",
    "        a = torch.exp(log_a)\n",
    "\n",
    "        u = torch.FloatTensor(a.shape).uniform_().to(device)\n",
    "\n",
    "        mask = u < a\n",
    "\n",
    "        x_curr = torch.where(mask, x_star, x_curr)\n",
    "        log_f_x_curr = torch.where(mask, log_f_x_star, log_f_x_curr)\n",
    "\n",
    "        #  my_samples[i] = x_curr\n",
    "        my_samples[i] = x_curr\n",
    "\n",
    "    my_samples = my_samples[warm_up_steps:]\n",
    "    # my_samples = torch.stack(my_samples)\n",
    "    return my_samples"
   ]
  },
  {
   "cell_type": "code",
   "execution_count": 13,
   "metadata": {},
   "outputs": [],
   "source": [
    "class MyMCMC():\n",
    "    r\"\"\"Class to sample from the posterior :math: `p(\\theta \\mid y)`\"\"\"\n",
    "    \n",
    "    def __init__(self, y0: Tensor, tau: float, sigma: float, rho: float, q_x_NF: zuko.flows) -> None:\n",
    "        \n",
    "        self.y0 = y0\n",
    "        self.tau = tau\n",
    "        self.sigma = sigma\n",
    "        self.rho = rho\n",
    "        self.q_x_NF = q_x_NF\n",
    "    \n",
    "    def f_density(self, y0: Tensor, x: Tensor) -> Tensor:\n",
    "        #print(x.shape)\n",
    "        D = x.shape[-1]\n",
    "        res = torch.zeros_like(x)\n",
    "        for j in range(D):\n",
    "            xj = x[:, j]\n",
    "            yj = y0[j]\n",
    "            zj = torch.distributions.Bernoulli(rho).sample().to(device)\n",
    "            if not zj:\n",
    "                spike_dist = torch.distributions.Normal(\n",
    "                    xj.detach(), torch.tensor(sigma).to(device)\n",
    "                )\n",
    "                res[:, j] = torch.exp(spike_dist.log_prob(yj))\n",
    "            else:\n",
    "                slab_dist = torch.distributions.Cauchy(\n",
    "                    xj.detach(), torch.tensor(tau).to(device)\n",
    "                )\n",
    "                res[:, j] = torch.exp(slab_dist.log_prob(yj))\n",
    "        return res #* torch.exp(q_x_NF().log_prob(x))[:,None]\n",
    "    \n",
    "    def proposal(self, M: int, warm_up_steps: int, proposal_data: Tensor) -> Tensor:\n",
    "        idx = torch.randint(M+warm_up_steps,(1,))\n",
    "        return proposal_data[idx]\n",
    "\n",
    "    def sample(self, M: int, warm_up_steps: int, features_dim: int) -> Tensor:\n",
    "        f_lampe = lambda x: self.f_density(self.y0, x)\n",
    "        n_chains= 4\n",
    "        x_curr = torch.FloatTensor(n_chains,features_dim).uniform_(-1,1).to(device)\n",
    "        my_samples = torch.empty((n_chains,warm_up_steps + M//n_chains, x_curr.shape[1])).to(device)\n",
    "        log_f_x_curr = f_lampe(x_curr).log()\n",
    "        \n",
    "        proposal_data = self.q_x_NF().sample((M+warm_up_steps,))\n",
    "        with torch.no_grad():\n",
    "            \n",
    "            for i in range(int(warm_up_steps + M//n_chains)):\n",
    "                x_star = self.proposal(M, warm_up_steps, proposal_data)\n",
    "                log_f_x_star = f_lampe(x_star).log()\n",
    "                log_a = log_f_x_star - log_f_x_curr\n",
    "                a = torch.exp(log_a)\n",
    "                u = torch.FloatTensor(a.shape).uniform_().to(device)\n",
    "                mask = u < a\n",
    "                x_curr = torch.where(mask, x_star, x_curr)\n",
    "                log_f_x_curr = torch.where(mask, log_f_x_star, log_f_x_curr)\n",
    "                my_samples[:,i] = x_curr\n",
    "            my_samples = my_samples[:,warm_up_steps:,:]\n",
    "            samples_mcmc = my_samples#[:,:M//n_chains,:]\n",
    "\n",
    "            samples_mcmc_ = samples_mcmc.reshape(1,M,x_curr.shape[-1]).squeeze()\n",
    "        return samples_mcmc_"
   ]
  },
  {
   "cell_type": "code",
   "execution_count": null,
   "metadata": {},
   "outputs": [
    {
     "data": {
      "text/plain": [
       "torch.Size([100, 2])"
      ]
     },
     "execution_count": 13,
     "metadata": {},
     "output_type": "execute_result"
    }
   ],
   "source": [
    "test = MyMCMC(task.y0, tau, sigma, rho, q_x_NF)\n",
    "test.sample(100,10,task.features_dim).shape"
   ]
  },
  {
   "cell_type": "code",
   "execution_count": null,
   "metadata": {},
   "outputs": [],
   "source": [
    "test_xm = MyMCMC(task.y0_scaled.squeeze(), tau, sigma, rho, q_x_NF)\n",
    "xm = test_xm.sample(M,warm_up_steps, task.features_dim)"
   ]
  },
  {
   "cell_type": "code",
   "execution_count": null,
   "metadata": {},
   "outputs": [
    {
     "data": {
      "text/plain": [
       "<matplotlib.legend.Legend at 0x20fff365890>"
      ]
     },
     "execution_count": 15,
     "metadata": {},
     "output_type": "execute_result"
    },
    {
     "data": {
      "image/png": "[encoded data removed]",
      "text/plain": [
       "<Figure size 640x480 with 1 Axes>"
      ]
     },
     "metadata": {},
     "output_type": "display_data"
    }
   ],
   "source": [
    "fig, ax = plt.subplots()\n",
    "\n",
    "ax.scatter(\n",
    "    x=task.data[\"scaled_x\"][:, 0].cpu(),\n",
    "    y=task.data[\"scaled_x\"][:, 1].cpu(),\n",
    "    color=\"blue\",\n",
    "    label=\"Simulator outputs\",\n",
    "    s=1,\n",
    ")\n",
    "ax.scatter(\n",
    "    x=xm[:, 0].cpu(),\n",
    "    y=xm[:, 1].cpu(),\n",
    "    label=\"Denoised outputs from the MCMC sampler\",\n",
    "    color=\"yellow\",\n",
    "    s=1,\n",
    ")\n",
    "ax.scatter(\n",
    "    x=task.y0_scaled.cpu()[ 0],\n",
    "    y=task.y0_scaled.cpu()[ 1],\n",
    "    label=\"y0 scaled\",\n",
    "    color=\"green\",\n",
    "    s=20,\n",
    ")\n",
    "ax.set_xlabel(\"Mean (z1,...,zn)\")\n",
    "ax.set_ylabel(\"Var(z1,...,zn)\")\n",
    "ax.set_title(\"Simulated and denoised x, scaled version\")\n",
    "ax.legend(bbox_to_anchor=(1.04, 1), loc=\"upper left\")"
   ]
  },
  {
   "cell_type": "code",
   "execution_count": null,
   "metadata": {},
   "outputs": [
    {
     "data": {
      "text/plain": [
       "tensor(0.0793)"
      ]
     },
     "execution_count": 16,
     "metadata": {},
     "output_type": "execute_result"
    }
   ],
   "source": [
    "task.y0_scaled.squeeze()[0]"
   ]
  },
  {
   "cell_type": "code",
   "execution_count": null,
   "metadata": {},
   "outputs": [],
   "source": [
    "rnpe_samples = q_NPE.flow(xm).sample()"
   ]
  },
  {
   "cell_type": "code",
   "execution_count": null,
   "metadata": {},
   "outputs": [],
   "source": [
    "true_post_y = posterior_summaries(\n",
    "    theta_grid,\n",
    "    task.y0.cpu().squeeze()[0].item(),\n",
    "    task.y0.cpu().squeeze()[1].item(),\n",
    "    sigma_2_y,\n",
    ")"
   ]
  },
  {
   "cell_type": "code",
   "execution_count": null,
   "metadata": {},
   "outputs": [],
   "source": [
    "npe_samples = q_NPE.flow(task.y0_scaled).sample((20_000,))\n",
    "true_post = task.true_post(task.y0.squeeze().cpu().numpy(), sigma_2_y)"
   ]
  },
  {
   "cell_type": "code",
   "execution_count": null,
   "metadata": {},
   "outputs": [
    {
     "data": {
      "text/plain": [
       "[<matplotlib.lines.Line2D at 0x20f8ef80250>]"
      ]
     },
     "execution_count": 20,
     "metadata": {},
     "output_type": "execute_result"
    },
    {
     "data": {
      "image/png": "[encoded data removed]",
      "text/plain": [
       "<Figure size 640x480 with 1 Axes>"
      ]
     },
     "metadata": {},
     "output_type": "display_data"
    }
   ],
   "source": [
    "plt.hist(\n",
    "    npe_samples.squeeze().cpu(),\n",
    "    bins=200,\n",
    "    density=True,\n",
    "    color=\"green\",\n",
    "    alpha=0.5,\n",
    "    label=\"NPE samples q(θ|y0)\",\n",
    ")\n",
    "plt.hist(\n",
    "    rnpe_samples.squeeze().cpu(),\n",
    "    bins=200,\n",
    "    density=True,\n",
    "    color=\"red\",\n",
    "    alpha=0.5,\n",
    "    label=\"RNPE samples q(θ|y0)\",\n",
    ")\n",
    "plt.plot(theta_grid, true_post_y, color=\"yellow\", label=\" p(θ|y0) under the true DGP\")\n",
    "#plt.xlim(2,4)"
   ]
  },
  {
   "cell_type": "code",
   "execution_count": 14,
   "metadata": {},
   "outputs": [],
   "source": [
    "def rbf_kernel(x: Tensor, y: Tensor, gamma: float):\n",
    "    r\"\"\"Computes the Radial Basis Function (RBF) Kernel, :math:`K(x,y) = \\left(- \\frac{\\lVert x - y \\rVert^2}{2\\sigma^2} \\right)`\n",
    "\n",
    "    Args:\n",
    "        x: Samples from population 1.\n",
    "        y: Samples from population 2.\n",
    "        gamma: Bandwidth.\n",
    "\n",
    "    Returns:\n",
    "        K(x, y)\n",
    "    \"\"\"\n",
    "    \n",
    "    pairwise_distance_squared = torch.square(torch.norm(x-y,dim=1)).squeeze()\n",
    "    return torch.exp(-gamma * pairwise_distance_squared)"
   ]
  },
  {
   "cell_type": "code",
   "execution_count": 57,
   "metadata": {},
   "outputs": [],
   "source": [
    "def mmd_two_samples(x: Tensor, y: Tensor, n_rep): #!Voir taille tenseur et adapter selon, ça pb pour CS ?\n",
    "    r\"\"\"Computes once the MMD for 2 samples #TODO ref\n",
    "    Args:\n",
    "        x: Samples from population 1.\n",
    "        y: Sampples from population 2.\n",
    "\n",
    "    Returns:\n",
    "        _type_: _description_\n",
    "    \"\"\"\n",
    "    perms_x = x[torch.randint(high=x.shape[0], size=(n_rep, 10_000)),:]\n",
    "    perms_y = y[torch.randint(high=y.shape[0], size=(n_rep, 10_000)),:]\n",
    "    \n",
    "\n",
    "    sigma2 = abs(torch.norm(perms_x- perms_y, dim=1)**2).max()\n",
    "    gamma = 1 / (2 * sigma2)\n",
    "    xx = rbf_kernel(perms_x, perms_x, gamma.item()) #! Lui aussi \n",
    "    yy = rbf_kernel(perms_y, perms_y, gamma.item())\n",
    "    xy = rbf_kernel(perms_x, perms_y, gamma.item())\n",
    "    return torch.tensor(xx.mean(-1) + yy.mean(-1) -2* xy.mean(-1))\n",
    "\n",
    "\n",
    "def MMD(x: Tensor, y: Tensor, n_rep: int = 1_000) -> Tuple[Tensor, bool]:\n",
    "    \"\"\"Computes the MMD between two samples x,y, use permutation trick to check whether the value can be considered to be 0.\n",
    "\n",
    "    H0= << t0 > t_{1-alhpa}.\n",
    "\n",
    "    Args:\n",
    "        x: Samples from population 1.\n",
    "        y: Samples from population 2.\n",
    "        n_rep: Number of repetition.\n",
    "\n",
    "    Returns:\n",
    "        t0, h0: Value of the MMD and wether or not H0 is accepted.\n",
    "    \"\"\"\n",
    "    \n",
    "    if x.shape[0] != y.shape[0]:\n",
    "        min_rows = min(x.shape[0], y.shape[0])\n",
    "        #x = x[torch.randperm(x.shape[0])][:min_rows]\n",
    "        #y = y[torch.randperm(y.shape[0])][:min_rows]\n",
    "        \n",
    "    t0 = mmd_two_samples(x, y,1)\n",
    "    t = mmd_two_samples(x, y, n_rep) \n",
    "    t.sort()\n",
    "    h0 = torch.searchsorted(t, t0) <= 989  # If Ho accepted or not\n",
    "    return t0, h0"
   ]
  },
  {
   "cell_type": "code",
   "execution_count": 16,
   "metadata": {},
   "outputs": [],
   "source": [
    "def compute_rnpe_npe(\n",
    "    task_name: str, sigma_2: float\n",
    ") -> Tuple[Tensor, Tensor, Tuple, Tensor]:\n",
    "    \"\"\"General pipeline to compute both NPE and RNPE samples for a given task and corruption.\n",
    "\n",
    "    Args:\n",
    "        task_name: Name of the task.\n",
    "        sigma_2: Corruption.\n",
    "\n",
    "    Returns:\n",
    "        Tuple[Tensor, Tensor, Tuple, Tensor]: NPE samples given x, y, theroritical given y and RNPE samples given y.\n",
    "    \"\"\"\n",
    "\n",
    "    n_runs = 2\n",
    "    task_l = []\n",
    "    xm_l = []\n",
    "    norm_npe_rnpe = []\n",
    "    npe_samples_y_l = []\n",
    "    theoritical_post_y_l = []\n",
    "    rnpe_samples_l = []\n",
    "\n",
    "    for _ in tqdm(range(n_runs), leave=True):\n",
    "        task = Gaussian(\n",
    "            N_simu=N_simu, sigma_y_2=sigma_2\n",
    "        ) if task_name == \"Gaussian\" else CS(N_simu=N_simu, miss_specification_param=sigma_2)\n",
    "        q_NPE = create_train_flow(task)\n",
    "        q_x_NF = create_train_unconditional_flow(task)\n",
    "        with torch.no_grad():\n",
    "            mcmc_sampler = MyMCMC(task.y0_scaled.squeeze(), tau, sigma, rho, q_x_NF)\n",
    "            xm = mcmc_sampler.sample(M, warm_up_steps, task.features_dim)\n",
    "\n",
    "        npe_samples_y = q_NPE.flow(task.y0_scaled).sample((M,))\n",
    "        theoritical_post_y = task.true_post(task.y0.squeeze().cpu().numpy(), sigma_2) if task.has_post else []\n",
    "        rnpe_samples = q_NPE.flow(xm).sample()\n",
    "        norm_npe_rnpe.append(npe_samples_y.mean() - rnpe_samples.mean())\n",
    "\n",
    "        task_l.append(task)\n",
    "        xm_l.append(xm)\n",
    "        npe_samples_y_l.append(npe_samples_y)\n",
    "        theoritical_post_y_l.append(theoritical_post_y)\n",
    "        rnpe_samples_l.append(rnpe_samples)\n",
    "    return {\n",
    "        \"task_l\": task_l,\n",
    "        \"npe_samples_y_l\": npe_samples_y_l,\n",
    "        \"theoritical_post_y_l\": theoritical_post_y_l,\n",
    "        \"rnpe_samples_l\": rnpe_samples_l,\n",
    "        \"xm_l\": xm_l,\n",
    "    }"
   ]
  },
  {
   "cell_type": "code",
   "execution_count": 92,
   "metadata": {},
   "outputs": [],
   "source": [
    "def compute_metrics(\n",
    "    task_l: List,\n",
    "    npe_samples_x_l, #! Legacy\n",
    "    npe_samples_y_l: List,\n",
    "    theoritical_post_y_l: List,\n",
    "    rnpe_samples_l: List,\n",
    "    xm_l: List,\n",
    ") -> Dict:\n",
    "    npe_mmd_t0_l, npe_mmd_h0_l, rnpe_mmd_t0_l, rnpe_mmd_h0_l, norm_npe_rnpe = (\n",
    "        [],\n",
    "        [],\n",
    "        [],\n",
    "        [],\n",
    "        [],\n",
    "    )\n",
    "    # Computiing MMD\n",
    "    for i in range(len(xm_l)):\n",
    "        xm_rescaled = (xm_l[i] + task_l[i].data[\"scale_parameters\"][0]) * task_l[\n",
    "            i\n",
    "        ].data[\"scale_parameters\"][1]\n",
    "        npe_mmd_t0, npe_mmd_h0 = MMD(\n",
    "            task_l[i].data[\"x\"], task_l[i].y0.expand(40_000, -1)\n",
    "        )\n",
    "        rnpe_mmd_t0, rnpe_mmd_h0 = MMD(xm_rescaled, task_l[i].y0.expand(40_000, -1))\n",
    "\n",
    "        npe_mmd_t0_l.append(npe_mmd_t0)\n",
    "        npe_mmd_h0_l.append(npe_mmd_h0)\n",
    "        rnpe_mmd_t0_l.append(rnpe_mmd_t0)\n",
    "        rnpe_mmd_h0_l.append(rnpe_mmd_h0)\n",
    "\n",
    "        norm_npe_rnpe.append(npe_samples_y_l[i].mean() - rnpe_samples_l[i].mean() + np.log(npe_samples_y_l[i].std()/rnpe_samples_l[i].std()))\n",
    "\n",
    "    imax = np.argmax(norm_npe_rnpe)\n",
    "    npe_samples_y = npe_samples_y_l[imax]\n",
    "    theoritical_post_y = theoritical_post_y_l[imax]\n",
    "    rnpe_samples = rnpe_samples_l[imax]\n",
    "    rnpe_mmd_t0 = np.mean(rnpe_mmd_t0_l)\n",
    "    rnpe_mmd_h0 = torch.sum(rnpe_mmd_h0).item() > torch.sum(~rnpe_mmd_h0).item()\n",
    "    npe_mmd_t0 = np.mean(npe_mmd_t0_l)\n",
    "    npe_mmd_h0 = torch.sum(npe_mmd_h0).item() > torch.sum(~npe_mmd_h0).item()\n",
    "\n",
    "    return {\n",
    "        \"npe_samples_y\": npe_samples_y,\n",
    "        \"theoritical_post_y\": theoritical_post_y,\n",
    "        \"rnpe_samples\": rnpe_samples,\n",
    "        \"rnpe_mmd_t0\": rnpe_mmd_t0,\n",
    "        \"rnpe_mmd_h0\": rnpe_mmd_h0,\n",
    "        \"npe_mmd_t0\": npe_mmd_t0,\n",
    "        \"npe_mmd_h0\": npe_mmd_h0,\n",
    "    }"
   ]
  },
  {
   "cell_type": "code",
   "execution_count": 50,
   "metadata": {},
   "outputs": [
    {
     "data": {
      "application/vnd.jupyter.widget-view+json": {
       "model_id": "dc0f09990f3b440abf47320089872853",
       "version_major": 2,
       "version_minor": 0
      },
      "text/plain": [
       "Corruption:   0%|          | 0/2 [00:00<?, ?Sigma²/s]"
      ]
     },
     "metadata": {},
     "output_type": "display_data"
    },
    {
     "name": "stdout",
     "output_type": "stream",
     "text": [
      "0.75\n"
     ]
    },
    {
     "data": {
      "application/vnd.jupyter.widget-view+json": {
       "model_id": "c4fa27bd5ed84a00b29695cca1691ae8",
       "version_major": 2,
       "version_minor": 0
      },
      "text/plain": [
       "  0%|          | 0/2 [00:00<?, ?it/s]"
      ]
     },
     "metadata": {},
     "output_type": "display_data"
    },
    {
     "ename": "KeyboardInterrupt",
     "evalue": "",
     "output_type": "error",
     "traceback": [
      "\u001b[1;31m---------------------------------------------------------------------------\u001b[0m",
      "\u001b[1;31mKeyboardInterrupt\u001b[0m                         Traceback (most recent call last)",
      "Cell \u001b[1;32mIn[50], line 7\u001b[0m\n\u001b[0;32m      5\u001b[0m \u001b[39mfor\u001b[39;00m sigma_2 \u001b[39min\u001b[39;00m tq:\n\u001b[0;32m      6\u001b[0m     \u001b[39mprint\u001b[39m(sigma_2)\n\u001b[1;32m----> 7\u001b[0m     donnees[sigma_2] \u001b[39m=\u001b[39m compute_rnpe_npe(\u001b[39m\"\u001b[39;49m\u001b[39mCS\u001b[39;49m\u001b[39m\"\u001b[39;49m, sigma_2)\n",
      "Cell \u001b[1;32mIn[16], line 25\u001b[0m, in \u001b[0;36mcompute_rnpe_npe\u001b[1;34m(task_name, sigma_2)\u001b[0m\n\u001b[0;32m     20\u001b[0m rnpe_samples_l \u001b[39m=\u001b[39m []\n\u001b[0;32m     22\u001b[0m \u001b[39mfor\u001b[39;00m _ \u001b[39min\u001b[39;00m tqdm(\u001b[39mrange\u001b[39m(n_runs), leave\u001b[39m=\u001b[39m\u001b[39mTrue\u001b[39;00m):\n\u001b[0;32m     23\u001b[0m     task \u001b[39m=\u001b[39m Gaussian(\n\u001b[0;32m     24\u001b[0m         N_simu\u001b[39m=\u001b[39mN_simu, sigma_y_2\u001b[39m=\u001b[39msigma_2\n\u001b[1;32m---> 25\u001b[0m     ) \u001b[39mif\u001b[39;00m task_name \u001b[39m==\u001b[39m \u001b[39m\"\u001b[39m\u001b[39mGaussian\u001b[39m\u001b[39m\"\u001b[39m \u001b[39melse\u001b[39;00m CS(N_simu\u001b[39m=\u001b[39;49mN_simu, miss_specification_param\u001b[39m=\u001b[39;49msigma_2)\n\u001b[0;32m     26\u001b[0m     q_NPE \u001b[39m=\u001b[39m create_train_flow(task)\n\u001b[0;32m     27\u001b[0m     q_x_NF \u001b[39m=\u001b[39m create_train_unconditional_flow(task)\n",
      "Cell \u001b[1;32mIn[6], line 15\u001b[0m, in \u001b[0;36mCS.__init__\u001b[1;34m(self, N_simu, miss_specification_param, N_obs)\u001b[0m\n\u001b[0;32m     13\u001b[0m \u001b[39mself\u001b[39m\u001b[39m.\u001b[39mfeatures_dim \u001b[39m=\u001b[39m \u001b[39m4\u001b[39m\n\u001b[0;32m     14\u001b[0m \u001b[39mself\u001b[39m\u001b[39m.\u001b[39mparameters_dim \u001b[39m=\u001b[39m \u001b[39m3\u001b[39m\n\u001b[1;32m---> 15\u001b[0m \u001b[39mself\u001b[39m\u001b[39m.\u001b[39mdata \u001b[39m=\u001b[39m \u001b[39mself\u001b[39;49m\u001b[39m.\u001b[39;49msimulate_data(N_simu)\n\u001b[0;32m     16\u001b[0m \u001b[39mself\u001b[39m\u001b[39m.\u001b[39mdata_test \u001b[39m=\u001b[39m \u001b[39mself\u001b[39m\u001b[39m.\u001b[39msimulate_data(N_simu\u001b[39m/\u001b[39m\u001b[39m/\u001b[39m\u001b[39m10\u001b[39m)\n\u001b[0;32m     17\u001b[0m \u001b[39mself\u001b[39m\u001b[39m.\u001b[39mtrue_obs_data \u001b[39m=\u001b[39m \u001b[39mself\u001b[39m\u001b[39m.\u001b[39mgen_obs(N_obs, \u001b[39mself\u001b[39m\u001b[39m.\u001b[39mtheta0)\n",
      "Cell \u001b[1;32mIn[6], line 67\u001b[0m, in \u001b[0;36mCS.simulate_data\u001b[1;34m(self, N_simu, theta0, raw)\u001b[0m\n\u001b[0;32m     65\u001b[0m \u001b[39mif\u001b[39;00m \u001b[39mlen\u001b[39m(stromal_cells) \u001b[39m>\u001b[39m \u001b[39m0\u001b[39m \u001b[39mand\u001b[39;00m \u001b[39mlen\u001b[39m(cancer_cells) \u001b[39m>\u001b[39m \u001b[39m0\u001b[39m:\n\u001b[0;32m     66\u001b[0m     min_distances \u001b[39m=\u001b[39m torch\u001b[39m.\u001b[39mcdist(stromal_cells, cancer_cells, p\u001b[39m=\u001b[39m\u001b[39m2\u001b[39m)\u001b[39m.\u001b[39mmin(dim\u001b[39m=\u001b[39m\u001b[39m1\u001b[39m)\u001b[39m.\u001b[39mvalues\n\u001b[1;32m---> 67\u001b[0m     mean_min_dist \u001b[39m=\u001b[39m torch\u001b[39m.\u001b[39;49mmean(min_distances)\u001b[39m.\u001b[39mitem()\n\u001b[0;32m     68\u001b[0m     max_min_dist \u001b[39m=\u001b[39m torch\u001b[39m.\u001b[39mmax(min_distances)\u001b[39m.\u001b[39mitem()\n\u001b[0;32m     69\u001b[0m \u001b[39melse\u001b[39;00m:\n",
      "\u001b[1;31mKeyboardInterrupt\u001b[0m: "
     ]
    }
   ],
   "source": [
    "donnees = {}\n",
    "sigmas_2 = np.arange(1, 2, 1)\n",
    "sigmas_2 = [0.75, 0.50]\n",
    "with tqdm(sigmas_2, unit=\"Sigma²\", desc=\"Corruption\") as tq:\n",
    "    for sigma_2 in tq:\n",
    "        print(sigma_2)\n",
    "        donnees[sigma_2] = compute_rnpe_npe(\"CS\", sigma_2)"
   ]
  },
  {
   "cell_type": "code",
   "execution_count": 27,
   "metadata": {},
   "outputs": [],
   "source": [
    "with open(\"CS_test\", \"wb\") as f:\n",
    "    pickle.dump(donnees, f)"
   ]
  },
  {
   "cell_type": "code",
   "execution_count": null,
   "metadata": {},
   "outputs": [],
   "source": []
  },
  {
   "cell_type": "code",
   "execution_count": 87,
   "metadata": {},
   "outputs": [],
   "source": [
    "with open(\"donnees_mcmc_upgrade\",\"rb\") as f:\n",
    "    donnees = pickle.load(f)"
   ]
  },
  {
   "cell_type": "code",
   "execution_count": 93,
   "metadata": {},
   "outputs": [
    {
     "data": {
      "application/vnd.jupyter.widget-view+json": {
       "model_id": "6559947d2cd94d6b93e36c83833a346e",
       "version_major": 2,
       "version_minor": 0
      },
      "text/plain": [
       "Corruption:   0%|          | 0/6 [00:00<?, ?Sigma²/s]"
      ]
     },
     "metadata": {},
     "output_type": "display_data"
    },
    {
     "name": "stdout",
     "output_type": "stream",
     "text": [
      "1.0\n"
     ]
    },
    {
     "name": "stderr",
     "output_type": "stream",
     "text": [
      "C:\\Users\\mmmat\\AppData\\Local\\Temp\\ipykernel_12792\\2009030885.py:19: UserWarning: To copy construct from a tensor, it is recommended to use sourceTensor.clone().detach() or sourceTensor.clone().detach().requires_grad_(True), rather than torch.tensor(sourceTensor).\n",
      "  return torch.tensor(xx.mean(-1) + yy.mean(-1) -2* xy.mean(-1))\n"
     ]
    },
    {
     "name": "stdout",
     "output_type": "stream",
     "text": [
      "1.5\n",
      "2.0\n",
      "2.5\n",
      "3.0\n",
      "3.5\n"
     ]
    }
   ],
   "source": [
    "results = {}\n",
    "with tqdm(donnees.keys(), unit=\"Sigma²\", desc=\"Corruption\") as tq:\n",
    "    for sigma_2 in tq:\n",
    "        print(sigma_2)\n",
    "        results[sigma_2] = compute_metrics(**donnees[sigma_2])"
   ]
  },
  {
   "cell_type": "code",
   "execution_count": 89,
   "metadata": {},
   "outputs": [
    {
     "data": {
      "application/vnd.jupyter.widget-view+json": {
       "model_id": "8135ff61dc4c456b99ef66796002c323",
       "version_major": 2,
       "version_minor": 0
      },
      "text/plain": [
       "interactive(children=(Dropdown(description='sigma_2', options=(1.0, 1.5, 2.0, 2.5, 3.0, 3.5), value=1.0), Outp…"
      ]
     },
     "metadata": {},
     "output_type": "display_data"
    }
   ],
   "source": [
    "@widgets.interact(sigma_2=donnees.keys())\n",
    "def plot_posteriors_widget(sigma_2=1):\n",
    "    plt.close()\n",
    "    fig, ax = plt.subplots()\n",
    "    ax.hist(\n",
    "        results[sigma_2][\"npe_samples_y\"].squeeze(),\n",
    "        bins=400,\n",
    "        color=\"green\",\n",
    "        density=True,\n",
    "        label=\"Posterior samples from NPE\",\n",
    "        alpha=0.5,\n",
    "    )\n",
    "    ax.hist(\n",
    "        results[sigma_2][\"rnpe_samples\"].squeeze(),\n",
    "        bins=400,\n",
    "        color=\"red\",\n",
    "        density=True,\n",
    "        label=\"Posterior samples from RNPE\",\n",
    "        alpha=0.5,\n",
    "    )\n",
    "    ax.plot(theta_grid, results[sigma_2][\"theoritical_post_y\"])\n",
    "    ax.legend()\n",
    "    ax.set_title(f\"NPE and RNPE samples, sigma_y² = {sigma_2}\")\n",
    "    plt.show()"
   ]
  },
  {
   "cell_type": "code",
   "execution_count": 94,
   "metadata": {},
   "outputs": [
    {
     "name": "stderr",
     "output_type": "stream",
     "text": [
      "No artists with labels found to put in legend.  Note that artists whose label start with an underscore are ignored when legend() is called with no argument.\n"
     ]
    },
    {
     "name": "stdout",
     "output_type": "stream",
     "text": [
      "False\n",
      "False\n",
      "False\n",
      "False\n",
      "False\n",
      "False\n"
     ]
    },
    {
     "data": {
      "text/plain": [
       "<matplotlib.legend.Legend at 0x1ea711a2a50>"
      ]
     },
     "execution_count": 94,
     "metadata": {},
     "output_type": "execute_result"
    },
    {
     "data": {
      "image/png": "[encoded data removed]",
      "text/plain": [
       "<Figure size 640x480 with 1 Axes>"
      ]
     },
     "metadata": {},
     "output_type": "display_data"
    }
   ],
   "source": [
    "for _ in results.keys():\n",
    "    print(results[_][\"npe_mmd_h0\"])\n",
    "    plt.scatter(_, results[_][\"npe_mmd_t0\"], c='g' if results[_][\"npe_mmd_h0\"] else 'r')\n",
    "plt.xlabel(\"sigmas2\")\n",
    "plt.ylabel(\"MMD(x, y)\")\n",
    "plt.legend()"
   ]
  },
  {
   "cell_type": "code",
   "execution_count": 95,
   "metadata": {},
   "outputs": [
    {
     "name": "stderr",
     "output_type": "stream",
     "text": [
      "No artists with labels found to put in legend.  Note that artists whose label start with an underscore are ignored when legend() is called with no argument.\n"
     ]
    },
    {
     "name": "stdout",
     "output_type": "stream",
     "text": [
      "False\n",
      "True\n",
      "False\n",
      "True\n",
      "False\n",
      "False\n"
     ]
    },
    {
     "data": {
      "text/plain": [
       "<matplotlib.legend.Legend at 0x1ea7119a3d0>"
      ]
     },
     "execution_count": 95,
     "metadata": {},
     "output_type": "execute_result"
    },
    {
     "data": {
      "image/png": "[encoded data removed]",
      "text/plain": [
       "<Figure size 640x480 with 1 Axes>"
      ]
     },
     "metadata": {},
     "output_type": "display_data"
    }
   ],
   "source": [
    "for _ in results.keys():\n",
    "    print(results[_][\"rnpe_mmd_h0\"])\n",
    "    plt.scatter(_, results[_][\"rnpe_mmd_t0\"], c='g' if results[_][\"rnpe_mmd_h0\"] else 'r')\n",
    "plt.xlabel(\"sigmas2\")\n",
    "plt.ylabel(\"MMD(xm, y)\")\n",
    "plt.legend()"
   ]
  }
 ],
 "metadata": {
  "kernelspec": {
   "display_name": "sbi_env1",
   "language": "python",
   "name": "python3"
  },
  "language_info": {
   "codemirror_mode": {
    "name": "ipython",
    "version": 3
   },
   "file_extension": ".py",
   "mimetype": "text/x-python",
   "name": "python",
   "nbconvert_exporter": "python",
   "pygments_lexer": "ipython3",
   "version": "3.11.3"
  },
  "orig_nbformat": 4
 },
 "nbformat": 4,
 "nbformat_minor": 2
}
