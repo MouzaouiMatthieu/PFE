{
 "cells": [
  {
   "cell_type": "code",
   "execution_count": 168,
   "metadata": {},
   "outputs": [],
   "source": [
    "import lampe\n",
    "import numpy as np\n",
    "import torch\n",
    "import zuko\n",
    "\n",
    "import matplotlib.pyplot as plt\n",
    "import ipywidgets as widgets\n",
    "import scipy.integrate as integrate\n",
    "\n",
    "from IPython.display import display\n",
    "from typing import Tuple, Callable, List, Dict\n",
    "from tqdm.notebook import tqdm_notebook as tqdm\n",
    "from torch import Tensor"
   ]
  },
  {
   "cell_type": "code",
   "execution_count": 169,
   "metadata": {},
   "outputs": [],
   "source": [
    "N = 100\n",
    "theta_grid = np.linspace(-8, 8, 1000)\n",
    "N_simu = 50_000\n",
    "M = 100_000\n",
    "warm_up_steps = 20_000\n",
    "sigma = 0.01\n",
    "tau = 0.25\n",
    "rho = 1 / 2"
   ]
  },
  {
   "cell_type": "code",
   "execution_count": 170,
   "metadata": {},
   "outputs": [],
   "source": [
    "def posterior_summaries(thetas: Tuple, x1: float, x2: float, sigma_2_y: float = 1):\n",
    "    r\"\"\"Compute the true posterior of :math:`p(\\theta | x)`.\n",
    "\n",
    "    Args:\n",
    "        thetas: points where we want the density function to be computed.\n",
    "        x1: First dimension of the observation.\n",
    "        x2: Second dimension of the observation.\n",
    "        sigma_2_y (optional): Corruption. Defaults to 1 (no corruption).\n",
    "    \"\"\"\n",
    "\n",
    "    def improper_posterior_summaries(theta, x1=x1, x2=x2):\n",
    "        likelihood_x1_part = -N * np.square(theta - x1) / (2 * sigma_2_y**2)\n",
    "        likelihood_x2_part = (\n",
    "            -0.5 * np.square(sigma_2_y - x2) / (2 * np.square(sigma_2_y) / N)\n",
    "        )\n",
    "        prior_part = -np.square(theta) / 50\n",
    "        return (\n",
    "            np.exp(likelihood_x1_part) * np.exp(likelihood_x2_part) * np.exp(prior_part)\n",
    "        )\n",
    "\n",
    "    z_summaries, eps = integrate.quad(improper_posterior_summaries, -25, 25)\n",
    "    return [\n",
    "        improper_posterior_summaries(theta, x1, x2) / z_summaries for theta in thetas\n",
    "    ]"
   ]
  },
  {
   "cell_type": "code",
   "execution_count": 171,
   "metadata": {},
   "outputs": [],
   "source": [
    "def get_true_post(task_name: str, x_star: Tensor, sigma_y_2: float = 1) -> Tuple:\n",
    "    r\"\"\"Get the true posterior of :math:`p(\\theta | x^*)`.\n",
    "\n",
    "    Args:\n",
    "        task_name: Name of the task.\n",
    "        x_star: Observation.\n",
    "        sigma_y_2 (optional): Corruption. Defaults to 1 (no corruption).\n",
    "\n",
    "    Returns:\n",
    "        Tuple: Density evaluated at points theta_grid.\n",
    "    \"\"\"\n",
    "    theta_grid  # Convert theta_grid to a torch tensor\n",
    "    post = None\n",
    "    if task_name == \"Gaussian\":\n",
    "        # We observe x = (x1, x2) = (mean, var)\n",
    "        post = posterior_summaries(theta_grid, x_star[0], x_star[1], sigma_y_2)\n",
    "    # post = torch.stack(post).cuda()  # Move post to CUDA\n",
    "    return post"
   ]
  },
  {
   "cell_type": "code",
   "execution_count": 172,
   "metadata": {},
   "outputs": [],
   "source": [
    "device = torch.device(\"cuda\" if torch.cuda.is_available() else \"cpu\")\n",
    "device = \"cpu\""
   ]
  },
  {
   "cell_type": "code",
   "execution_count": 173,
   "metadata": {},
   "outputs": [],
   "source": [
    "class Gaussian:\n",
    "    r\"\"\"Gaussian Task.\n",
    "        - Simulation: :math:`z_i \\sim \\mathcal{N}(\\theta, 1), i=1,...N_simu`\n",
    "        - TDGP: :math:`z_i \\sim \\mathcal{N}(\\theta, \\sigma^2), i=1,...N_simu`\n",
    "        - Feature space: Summary statistic :math:`x=\\left(mean(z_1,...z_{N_simu}); var(z_1,...z_{N_simu)\\right)`\n",
    "    NB: We can see the TDGP such that :math:`y = x + \\epsiolon, x \\sim \\mathcal{M}(\\theta), \\epsilon \\sim \\mathcal{N}(0, \\sigma_y^2).\n",
    "    \"\"\"\n",
    "\n",
    "    def __init__(\n",
    "        self, N_simu: int, sigma_y_2: float, true_theta: Tensor = torch.zeros(1)\n",
    "    ) -> None:\n",
    "        r\"\"\"Init the object, including datasets.\n",
    "\n",
    "        Args:\n",
    "            N_simu: total number of simulations\n",
    "            sigma_y_2: Corruption, Var of the observed data.\n",
    "        \"\"\"\n",
    "        self.name = \"Gaussian\"\n",
    "        self.prior = torch.distributions.Normal(0, 5)\n",
    "        self.sigma_y_2 = sigma_y_2\n",
    "        self.features_dim = 2\n",
    "        self.parameters_dim = 1\n",
    "        self.true_theta = true_theta\n",
    "        data = self.generate_data(N_simu, sigma_y_2)\n",
    "        data_test = self.generate_data(N_simu // 10, sigma_y_2)\n",
    "        true_obs_data = self.generate_data(1, sigma_y_2, true_theta)\n",
    "\n",
    "        x0 = true_obs_data[\"x\"]\n",
    "        y0 = x0 + true_obs_data[\"eps\"]\n",
    "        x0_scaled = (x0 - data[\"scale_parameters\"][0]) / data[\"scale_parameters\"][1]\n",
    "        y0_scaled = (y0 - data[\"scale_parameters\"][0]) / data[\"scale_parameters\"][1]\n",
    "\n",
    "        self.data = data\n",
    "        self.data_test = data_test\n",
    "        self.x0 = x0.squeeze()\n",
    "        self.y0 = y0.squeeze()\n",
    "        self.x0_scaled = x0_scaled\n",
    "        self.y0_scaled = y0_scaled\n",
    "\n",
    "    def prior_sample(self, n):\n",
    "        return self.prior.sample((n,))\n",
    "\n",
    "    def generate_data(self, N: int, sigma_y_2: float = 1, thetas: Tensor = None):\n",
    "        \"\"\"Generates data according to #TODO Maths ici\n",
    "\n",
    "        Args:\n",
    "            N: Total number of simulations\n",
    "            sigma_y_2 (optional): Corruption. Defaults to 1.\n",
    "            theta (optional): Reference theta.\n",
    "\n",
    "        Returns:\n",
    "            res: dictionnary whose entries are parameters thetas, the raw simulations x, the corruption espilons as well as the scaled observations and the scale parameters.\n",
    "        \"\"\"\n",
    "        if thetas is None:\n",
    "            thetas = self.prior_sample(N)\n",
    "        sigma_eps = (\n",
    "            sigma_y_2 - 1\n",
    "        )  # If the TDGP has a variance of \\sigma^2, the corruption layer has \\sigma-1\n",
    "        res = {}\n",
    "        res[\"theta\"] = thetas\n",
    "        means_and_vars = torch.zeros((N, 2), device=device)\n",
    "\n",
    "        for i, theta in enumerate(thetas):\n",
    "            z = torch.distributions.Normal(theta, 1).sample((100,)).to(device)\n",
    "            mean = z.mean()\n",
    "            var = z.var()\n",
    "            means_and_vars[i] = torch.stack(\n",
    "                [mean.unsqueeze_(0), var.unsqueeze_(0)]\n",
    "            ).squeeze_()\n",
    "\n",
    "        res[\"x\"] = means_and_vars\n",
    "\n",
    "        norm_max = -1\n",
    "        for n_run in range(1):\n",
    "            # We take the run where the corruption has more effect, to be able to compare.\n",
    "            eps = (\n",
    "                torch.distributions.Normal(\n",
    "                    torch.zeros_like(res[\"x\"]), np.sqrt(sigma_eps)\n",
    "                )\n",
    "                .sample()\n",
    "                .to(device)\n",
    "            )\n",
    "            if torch.norm(eps) > norm_max:\n",
    "                epsilons = eps\n",
    "                norm_max = torch.norm(eps)\n",
    "        res[\"eps\"] = epsilons\n",
    "        scale_mean, scale_std = res[\"x\"].mean(0), res[\"x\"].std(0)\n",
    "        res[\"scale_parameters\"] = scale_mean, scale_std\n",
    "        res[\"scaled_x\"] = (res[\"x\"] - scale_mean) / scale_std\n",
    "        return res\n",
    "\n",
    "    def true_post(self, x_star: Tensor, sigma_2_y: float = None) -> Tuple:\n",
    "        \"\"\"Get the true posterior given an observation x_star.\n",
    "\n",
    "        Args:\n",
    "            x_star: An observation.\n",
    "            sigma_2_y (optional): Corruption. Defaults to None.\n",
    "\n",
    "        Returns:\n",
    "            post: Posterior density evaluated from -8 to 8.\n",
    "        \"\"\"\n",
    "        if sigma_2_y is None:\n",
    "            sigma_2_y = self.sigma_y_2\n",
    "        theta_grid_t = np.linspace(-8, 8, 1000)\n",
    "        post = posterior_summaries(theta_grid_t, x_star[0], x_star[1], sigma_2_y)\n",
    "        return post"
   ]
  },
  {
   "cell_type": "code",
   "execution_count": 174,
   "metadata": {},
   "outputs": [],
   "source": [
    "sigma_2_y = 2"
   ]
  },
  {
   "cell_type": "code",
   "execution_count": 175,
   "metadata": {},
   "outputs": [],
   "source": [
    "def build_nsf(features, context):\n",
    "    \"\"\"Callable to instantiate the NPE with NSFs\"\"\"\n",
    "    return zuko.flows.NSF(features, context, bins=10, transforms=5).to(device)\n",
    "\n",
    "\n",
    "def train_flow(\n",
    "    flow: lampe.inference.NPE,\n",
    "    loss: Callable[[Tensor, Tensor], float],\n",
    "    theta: Tensor,\n",
    "    x: Tensor,\n",
    "    theta_test: Tensor,\n",
    "    x_test: Tensor,\n",
    ") -> lampe.inference.NPE:\n",
    "    \"\"\"Training procedure for the instantiated NPE.\n",
    "\n",
    "    Args:\n",
    "        flow (lampe.inference.NPE): Flow object to be trained.\n",
    "        loss (Callable[[Tensor, Tensor], float]): Loss function used for training.\n",
    "        theta (Tensor): Parameters.\n",
    "        x (Tensor): Observations.\n",
    "        theta_test (Tensor): Parameters used for early stopping.\n",
    "        x_test (Tensor): Observations used for early stopping.\n",
    "\n",
    "    Returns:\n",
    "        lampe.inference.NPE: The trained flow.\n",
    "    \"\"\"\n",
    "    optimizer = torch.optim.Adam(flow.parameters(), lr=5e-3)\n",
    "    theta_test = theta_test.unsqueeze(-1).to(device)\n",
    "    data = lampe.data.JointDataset(theta.to(device), x.to(device))\n",
    "    loader = lampe.data.DataLoader(data, batch_size=256)\n",
    "\n",
    "    with torch.no_grad():\n",
    "        min_loss = loss(theta_test, x_test.to(device))\n",
    "    min_loss_list = [min_loss.item()]  # Convert min_loss to a scalar\n",
    "\n",
    "    flow.train()\n",
    "\n",
    "    for epoch in range(50):\n",
    "        for theta_batch, x_batch in loader:\n",
    "            theta_batch = theta_batch.unsqueeze(-1).to(device)\n",
    "            x_batch = x_batch.to(device)\n",
    "            losses = loss(theta_batch, x_batch)\n",
    "            optimizer.zero_grad()\n",
    "            losses.backward()\n",
    "            optimizer.step()\n",
    "\n",
    "        # Checking for early stopping\n",
    "        with torch.no_grad():\n",
    "            loss_test = loss(theta_test, x_test.to(device))\n",
    "            min_loss_list.append(loss_test.item())  # Convert loss_test to a scalar\n",
    "            if (\n",
    "                len(min_loss_list) - np.argmin(min_loss_list) > 5\n",
    "            ):  # No improvement in loss(test) for the last 5 iterations\n",
    "                # Early stop\n",
    "                break\n",
    "    flow.eval()\n",
    "    return flow\n",
    "\n",
    "\n",
    "def create_train_flow(task) -> lampe.inference.NPE:\n",
    "    \"\"\"Creates a conditional flow (NSF) and trains it on the task data.\n",
    "\n",
    "    Args:\n",
    "        task: A task object.\n",
    "\n",
    "    Returns:\n",
    "        lampe.inference.NPE: The trained flow.\n",
    "    \"\"\"\n",
    "    data = task.data\n",
    "    data_test = task.data_test\n",
    "    theta = data[\"theta\"]\n",
    "    theta_test = data_test[\"theta\"]\n",
    "    shape_x = lambda x: 2 if x == \"Gaussian\" or x == \"two_z\" else 1\n",
    "    flow = lampe.inference.NPE(\n",
    "        theta_dim=1, x_dim=shape_x(task.name), build=build_nsf\n",
    "    ).to(device)\n",
    "    loss = lampe.inference.NPELoss(flow).to(device)\n",
    "    x = data[\"scaled_x\"].to(device)\n",
    "    x_test = data_test[\"scaled_x\"].to(device)\n",
    "    flow = train_flow(flow, loss, theta, x, theta_test, x_test)\n",
    "    return flow\n",
    "\n",
    "\n",
    "task = Gaussian(N_simu=N_simu, sigma_y_2=sigma_2_y)\n",
    "q_NPE = create_train_flow(task)"
   ]
  },
  {
   "cell_type": "code",
   "execution_count": 176,
   "metadata": {},
   "outputs": [],
   "source": [
    "def train_unconditional_flow(\n",
    "    flow: zuko.flows, loss: Callable[[Tensor], float], x: Tensor, x_test: Tensor\n",
    ") -> zuko.flows:\n",
    "    \"\"\"Trains a unconditional flow on x.\n",
    "\n",
    "    Args:\n",
    "        flow: Object flow to be trained.\n",
    "        loss: Method to compute a loss.\n",
    "        x: Training data.\n",
    "        x_test: Test data, used for early stopping.\n",
    "\n",
    "    Returns:\n",
    "        flow: Trained flow object.\n",
    "    \"\"\"\n",
    "    optimizer = torch.optim.Adam(flow.parameters(), lr=1e-2)\n",
    "    loader = torch.utils.data.DataLoader(x.to(device), 256)\n",
    "\n",
    "    with torch.no_grad():\n",
    "        min_loss = loss(x_test.to(device))\n",
    "    min_loss_list = [min_loss.item()]  # Convert min_loss to a scalar\n",
    "\n",
    "    flow.train()\n",
    "\n",
    "    for epoch in range(50):\n",
    "        for x_batch in loader:\n",
    "            x_batch = x_batch.to(device)\n",
    "            losses = loss(x_batch)\n",
    "            optimizer.zero_grad()\n",
    "            losses.backward()\n",
    "            optimizer.step()\n",
    "\n",
    "        # Checking for early stopping\n",
    "        with torch.no_grad():\n",
    "            loss_test = loss(x_test.to(device))\n",
    "            min_loss_list.append(loss_test.item())  # Convert loss_test to a scalar\n",
    "            if (\n",
    "                len(min_loss_list) - np.argmin(min_loss_list) > 5\n",
    "            ):  # No improvement in loss(test) for the last 5 iterations\n",
    "                # Early stop\n",
    "\n",
    "                break\n",
    "    flow.eval()\n",
    "    return flow\n",
    "\n",
    "\n",
    "def create_train_unconditional_flow(task) -> zuko.flows:\n",
    "    \"\"\"Instanciate and trains an unconditional flow (MAF) on the task data.\n",
    "\n",
    "    Args:\n",
    "        task: A task, containing train and test data.\n",
    "\n",
    "    Returns:\n",
    "        flow: The trained flow.\n",
    "    \"\"\"\n",
    "    data = task.data\n",
    "    data_test = task.data_test\n",
    "    shape_x = lambda x: 2 if x == \"Gaussian\" or x == \"two_z\" else 1\n",
    "    flow = zuko.flows.NAF(features=shape_x(task.name), context=0).to(device)  #!\n",
    "    loss = lambda x: -flow().log_prob(x).mean()\n",
    "    x = data[\"scaled_x\"].to(device)\n",
    "    x_test = data_test[\"scaled_x\"].to(device)\n",
    "    flow = train_unconditional_flow(flow, loss, x, x_test)\n",
    "    return flow\n",
    "\n",
    "q_x_NF = create_train_unconditional_flow(task)"
   ]
  },
  {
   "cell_type": "code",
   "execution_count": 177,
   "metadata": {},
   "outputs": [],
   "source": [
    "npe_samples_x = q_NPE.flow(task.x0_scaled).sample((20_000,))\n",
    "\n",
    "true_post = task.true_post(task.x0.squeeze().cpu().numpy())\n",
    "\n",
    "npe_samples_y = q_NPE.flow(task.y0_scaled).sample((20_000,))\n",
    "\n",
    "theoritical_post_y = task.true_post(task.y0.squeeze().cpu().numpy(), sigma_2_y)"
   ]
  },
  {
   "cell_type": "code",
   "execution_count": 178,
   "metadata": {},
   "outputs": [
    {
     "data": {
      "image/png": "[encoded data removed]",
      "text/plain": [
       "<Figure size 640x480 with 1 Axes>"
      ]
     },
     "metadata": {},
     "output_type": "display_data"
    }
   ],
   "source": [
    "fig, ax = plt.subplots()\n",
    "ax.hist(\n",
    "    npe_samples_x.cpu().squeeze().cpu().numpy(),\n",
    "    bins=400,\n",
    "    density=True,\n",
    "    label=\"Samples from q_(θ|x=x0)\",\n",
    ")  #!\n",
    "ax.plot(theta_grid, true_post, label=\"Theoretical posterior p(θ|x=x0)\")\n",
    "ax.hist(\n",
    "    npe_samples_y.cpu().squeeze().numpy(),\n",
    "    bins=400,\n",
    "    density=True,\n",
    "    label=\"Samples from q(θ|x=y0)\",\n",
    ")\n",
    "ax.plot(theta_grid, theoritical_post_y, label=\"Theoretical posterior p(θ|x=y0)\")\n",
    "\n",
    "ax.set_title(\"Posteriors q and p\")\n",
    "# ax.set_xlim(3, 6)\n",
    "ax.legend()\n",
    "plt.show()"
   ]
  },
  {
   "cell_type": "code",
   "execution_count": 179,
   "metadata": {},
   "outputs": [],
   "source": [
    "# Define the proposal function\n",
    "proposal_data = q_x_NF().sample((M+warm_up_steps,))\n",
    "def proposal(x_curr):\n",
    "    idx = torch.randint(M+warm_up_steps,(1,))\n",
    "    return proposal_data[idx]\n",
    "    #return x_curr + torch.distributions.Normal(0, 1).sample(x_curr.shape).to(device)\n",
    "\n",
    "\n",
    "# Define the f function\n",
    "def f(y0, x, rho, sigma, tau, q_x_NF):\n",
    "    D = x.shape[-1]\n",
    "    res = torch.zeros_like(x)\n",
    "    for j in range(D):\n",
    "        xj = x[:, j]\n",
    "        yj = y0[j]\n",
    "        zj = torch.distributions.Bernoulli(rho).sample().to(device)\n",
    "        if not zj:\n",
    "            spike_dist = torch.distributions.Normal(\n",
    "                xj.detach(), torch.tensor(sigma).to(device)\n",
    "            )\n",
    "            res[:, j] = torch.exp(spike_dist.log_prob(yj))\n",
    "        else:\n",
    "            slab_dist = torch.distributions.Cauchy(\n",
    "                xj.detach(), torch.tensor(tau).to(device)\n",
    "            )\n",
    "            res[:, j] = torch.exp(slab_dist.log_prob(yj))\n",
    "    return res * torch.exp(q_x_NF().log_prob(x))\n",
    "\n",
    "\n",
    "def mcmc(x0, warm_up_steps, M, y0, rho, sigma, tau, q_x_NF):\n",
    "    x_curr = x0.to(device)\n",
    "    my_samples = torch.empty((warm_up_steps + M, x0.shape[1])).to(device)\n",
    "    log_f_x_curr = f(y0, x_curr, rho, sigma, tau, q_x_NF).log()\n",
    "\n",
    "    for i in tqdm(range(warm_up_steps + M), desc=\"MCMC sampling\"):\n",
    "        x_star = proposal(x_curr)\n",
    "        log_f_x_star = f(y0, x_star, rho, sigma, tau, q_x_NF).log()\n",
    "\n",
    "        log_a = log_f_x_star - log_f_x_curr\n",
    "\n",
    "        a = torch.exp(log_a)\n",
    "\n",
    "        u = torch.FloatTensor(a.shape).uniform_().to(device)\n",
    "\n",
    "        mask = u < a\n",
    "\n",
    "        x_curr = torch.where(mask, x_star, x_curr)\n",
    "        log_f_x_curr = torch.where(mask, log_f_x_star, log_f_x_curr)\n",
    "\n",
    "        #  my_samples[i] = x_curr\n",
    "        my_samples[i] = x_curr\n",
    "\n",
    "    my_samples = my_samples[warm_up_steps:]\n",
    "    # my_samples = torch.stack(my_samples)\n",
    "    return my_samples"
   ]
  },
  {
   "cell_type": "code",
   "execution_count": 200,
   "metadata": {},
   "outputs": [],
   "source": [
    "class MyMCMC():\n",
    "    \n",
    "    def __init__(self, y0, tau, sigma, rho, q_x_NF):\n",
    "        \n",
    "        self.y0 = y0\n",
    "        self.tau = tau\n",
    "        self.sigma = sigma\n",
    "        self.rho = rho\n",
    "        self.q_x_NF = q_x_NF\n",
    "    \n",
    "    def f_density(self, y0, x):\n",
    "        #print(x.shape)\n",
    "        D = x.shape[-1]\n",
    "        res = torch.zeros_like(x)\n",
    "        for j in range(D):\n",
    "            xj = x[:, j]\n",
    "            yj = y0[j]\n",
    "            zj = torch.distributions.Bernoulli(rho).sample().to(device)\n",
    "            if not zj:\n",
    "                spike_dist = torch.distributions.Normal(\n",
    "                    xj.detach(), torch.tensor(sigma).to(device)\n",
    "                )\n",
    "                res[:, j] = torch.exp(spike_dist.log_prob(yj))\n",
    "            else:\n",
    "                slab_dist = torch.distributions.Cauchy(\n",
    "                    xj.detach(), torch.tensor(tau).to(device)\n",
    "                )\n",
    "                res[:, j] = torch.exp(slab_dist.log_prob(yj))\n",
    "        return res #* torch.exp(q_x_NF().log_prob(x))[:,None]\n",
    "    \n",
    "    def proposal(self, M, warm_up_steps, proposal_data):\n",
    "        idx = torch.randint(M+warm_up_steps,(1,))\n",
    "        return proposal_data[idx]\n",
    "\n",
    "    def sample(self, M, warm_up_steps, x0):\n",
    "        f_lampe = lambda x: self.f_density(self.y0, x)\n",
    "        n_chains=4\n",
    "        x_curr = torch.zeros(n_chains,2).to(device)\n",
    "        my_samples = torch.empty((n_chains,warm_up_steps + M//n_chains, x0.shape[1])).to(device)\n",
    "        log_f_x_curr = f_lampe(x_curr).log()\n",
    "        \n",
    "        proposal_data = self.q_x_NF().sample((M+warm_up_steps,))\n",
    "        with torch.no_grad():\n",
    "            \n",
    "            for i in tqdm(range(int(warm_up_steps + M//n_chains)), desc=\"MCMC sampling\"):\n",
    "                x_star = self.proposal(M, warm_up_steps, proposal_data)\n",
    "                log_f_x_star = f_lampe(x_star).log()\n",
    "                log_a = log_f_x_star - log_f_x_curr\n",
    "                a = torch.exp(log_a)\n",
    "                u = torch.FloatTensor(a.shape).uniform_().to(device)\n",
    "                mask = u < a\n",
    "                x_curr = torch.where(mask, x_star, x_curr)\n",
    "                log_f_x_curr = torch.where(mask, log_f_x_star, log_f_x_curr)\n",
    "                my_samples[:,i] = x_curr\n",
    "            my_samples = my_samples[:,warm_up_steps:,:]\n",
    "            samples_mcmc = my_samples#[:,:M//n_chains,:]\n",
    "\n",
    "            samples_mcmc_ = samples_mcmc.reshape(1,M,x_curr.shape[-1]).squeeze()\n",
    "        return samples_mcmc_"
   ]
  },
  {
   "cell_type": "code",
   "execution_count": 201,
   "metadata": {},
   "outputs": [
    {
     "data": {
      "application/vnd.jupyter.widget-view+json": {
       "model_id": "776e6483922f4d459cfaeb78c4f769ec",
       "version_major": 2,
       "version_minor": 0
      },
      "text/plain": [
       "MCMC sampling:   0%|          | 0/35 [00:00<?, ?it/s]"
      ]
     },
     "metadata": {},
     "output_type": "display_data"
    },
    {
     "data": {
      "text/plain": [
       "torch.Size([100, 2])"
      ]
     },
     "execution_count": 201,
     "metadata": {},
     "output_type": "execute_result"
    }
   ],
   "source": [
    "test = MyMCMC(task.y0, tau, sigma, rho, q_x_NF)\n",
    "test.sample(100,10,torch.zeros(2,2)).shape"
   ]
  },
  {
   "cell_type": "code",
   "execution_count": 202,
   "metadata": {},
   "outputs": [
    {
     "data": {
      "application/vnd.jupyter.widget-view+json": {
       "model_id": "e0580bd25a674342862fe61e1f3e7edd",
       "version_major": 2,
       "version_minor": 0
      },
      "text/plain": [
       "MCMC sampling:   0%|          | 0/45000 [00:00<?, ?it/s]"
      ]
     },
     "metadata": {},
     "output_type": "display_data"
    }
   ],
   "source": [
    "test_xm = MyMCMC(task.y0_scaled.squeeze(), tau, sigma, rho, q_x_NF)\n",
    "xm = test_xm.sample(M,warm_up_steps, torch.zeros(1,2))"
   ]
  },
  {
   "cell_type": "code",
   "execution_count": null,
   "metadata": {},
   "outputs": [
    {
     "data": {
      "application/vnd.jupyter.widget-view+json": {
       "model_id": "88ab9410506843358bcdab74a04d5de9",
       "version_major": 2,
       "version_minor": 0
      },
      "text/plain": [
       "MCMC sampling:   0%|          | 0/120000 [00:00<?, ?it/s]"
      ]
     },
     "metadata": {},
     "output_type": "display_data"
    }
   ],
   "source": [
    "with torch.no_grad():\n",
    "    xm = mcmc(\n",
    "        torch.zeros(1, 2).to(device),\n",
    "        warm_up_steps,\n",
    "        M,\n",
    "        task.y0_scaled.squeeze().to(device),\n",
    "        rho,\n",
    "        sigma,\n",
    "        tau,\n",
    "        q_x_NF,\n",
    "    )"
   ]
  },
  {
   "cell_type": "code",
   "execution_count": 203,
   "metadata": {},
   "outputs": [
    {
     "data": {
      "text/plain": [
       "<matplotlib.legend.Legend at 0x21508c939d0>"
      ]
     },
     "execution_count": 203,
     "metadata": {},
     "output_type": "execute_result"
    },
    {
     "data": {
      "image/png": "[encoded data removed]",
      "text/plain": [
       "<Figure size 640x480 with 1 Axes>"
      ]
     },
     "metadata": {},
     "output_type": "display_data"
    }
   ],
   "source": [
    "fig, ax = plt.subplots()\n",
    "\n",
    "ax.scatter(\n",
    "    x=task.data[\"scaled_x\"][:, 0].cpu(),\n",
    "    y=task.data[\"scaled_x\"][:, 1].cpu(),\n",
    "    color=\"blue\",\n",
    "    label=\"Simulator outputs\",\n",
    "    s=1,\n",
    ")\n",
    "ax.scatter(\n",
    "    x=xm[:, 0].cpu(),\n",
    "    y=xm[:, 1].cpu(),\n",
    "    label=\"Denoised outputs from the MCMC sampler\",\n",
    "    color=\"yellow\",\n",
    "    s=1,\n",
    ")\n",
    "ax.scatter(\n",
    "    x=task.y0_scaled.cpu()[:, 0],\n",
    "    y=task.y0_scaled.cpu()[:, 1],\n",
    "    label=\"y0 scaled\",\n",
    "    color=\"green\",\n",
    "    s=20,\n",
    ")\n",
    "ax.set_xlabel(\"Mean (z1,...,zn)\")\n",
    "ax.set_ylabel(\"Var(z1,...,zn)\")\n",
    "ax.set_title(\"Simulated and denoised x, scaled version\")\n",
    "ax.legend(bbox_to_anchor=(1.04, 1), loc=\"upper left\")"
   ]
  },
  {
   "cell_type": "code",
   "execution_count": 204,
   "metadata": {},
   "outputs": [],
   "source": [
    "rnpe_samples = q_NPE.flow(xm).sample()"
   ]
  },
  {
   "cell_type": "code",
   "execution_count": 205,
   "metadata": {},
   "outputs": [],
   "source": [
    "true_post_y = posterior_summaries(\n",
    "    theta_grid,\n",
    "    task.y0.cpu().squeeze()[0].item(),\n",
    "    task.y0.cpu().squeeze()[1].item(),\n",
    "    sigma_2_y,\n",
    ")"
   ]
  },
  {
   "cell_type": "code",
   "execution_count": 206,
   "metadata": {},
   "outputs": [],
   "source": [
    "npe_samples = q_NPE.flow(task.y0_scaled).sample((20_000,))\n",
    "true_post = task.true_post(task.y0.squeeze().cpu().numpy(), sigma_2_y)"
   ]
  },
  {
   "cell_type": "code",
   "execution_count": 207,
   "metadata": {},
   "outputs": [
    {
     "data": {
      "text/plain": [
       "[<matplotlib.lines.Line2D at 0x2150d5bc410>]"
      ]
     },
     "execution_count": 207,
     "metadata": {},
     "output_type": "execute_result"
    },
    {
     "data": {
      "image/png": "[encoded data removed]",
      "text/plain": [
       "<Figure size 640x480 with 1 Axes>"
      ]
     },
     "metadata": {},
     "output_type": "display_data"
    }
   ],
   "source": [
    "plt.hist(\n",
    "    npe_samples.squeeze().cpu(),\n",
    "    bins=200,\n",
    "    density=True,\n",
    "    color=\"green\",\n",
    "    alpha=0.5,\n",
    "    label=\"NPE samples q(θ|y0)\",\n",
    ")\n",
    "plt.hist(\n",
    "    rnpe_samples.squeeze().cpu(),\n",
    "    bins=200,\n",
    "    density=True,\n",
    "    color=\"red\",\n",
    "    alpha=0.5,\n",
    "    label=\"RNPE samples q(θ|y0)\",\n",
    ")\n",
    "plt.plot(theta_grid, true_post_y, color=\"yellow\", label=\" p(θ|y0) under the true DGP\")\n",
    "#plt.xlim(2,4)"
   ]
  },
  {
   "cell_type": "code",
   "execution_count": 189,
   "metadata": {},
   "outputs": [],
   "source": [
    "def compute_distances(true_post_density, sample):\n",
    "    true_post_samples = np.random.choice(\n",
    "        theta_grid, size=100_000, p=true_post_density / sum(true_post_density)\n",
    "    )\n",
    "    mean_true, std_true = np.mean(true_post_samples), np.std(true_post_samples)\n",
    "    mean_sample, std_sample = np.mean(sample), np.std(sample)\n",
    "    return np.square(mean_true - mean_sample) + np.square(np.log(std_true / std_sample))"
   ]
  },
  {
   "cell_type": "code",
   "execution_count": null,
   "metadata": {},
   "outputs": [
    {
     "ename": "NameError",
     "evalue": "name 'true_post_y' is not defined",
     "output_type": "error",
     "traceback": [
      "\u001b[1;31m---------------------------------------------------------------------------\u001b[0m",
      "\u001b[1;31mNameError\u001b[0m                                 Traceback (most recent call last)",
      "Cell \u001b[1;32mIn[14], line 1\u001b[0m\n\u001b[1;32m----> 1\u001b[0m compute_distances(true_post_y, rnpe_samples\u001b[39m.\u001b[39mcpu()\u001b[39m.\u001b[39mnumpy())\n",
      "\u001b[1;31mNameError\u001b[0m: name 'true_post_y' is not defined"
     ]
    }
   ],
   "source": [
    "compute_distances(true_post_y, rnpe_samples.cpu().numpy())"
   ]
  },
  {
   "cell_type": "code",
   "execution_count": 208,
   "metadata": {},
   "outputs": [],
   "source": [
    "def rbf_kernel(x: Tensor, y: Tensor, gamma: float):\n",
    "    r\"\"\"Computes the Radial Basis Function (RBF) Kernel, :math:`K(x,y) = \\left(- \\frac{\\lVert x - y \\rVert^2}{2\\sigma^2} \\right)`\n",
    "\n",
    "    Args:\n",
    "        x: Samples from population 1.\n",
    "        y: Samples from population 2.\n",
    "        gamma: Bandwidth.\n",
    "\n",
    "    Returns:\n",
    "        K(x, y)\n",
    "    \"\"\"\n",
    "    pairwise_distance_squared = torch.cdist(x, y, p=2) ** 2\n",
    "    return torch.exp(-gamma * pairwise_distance_squared)"
   ]
  },
  {
   "cell_type": "code",
   "execution_count": null,
   "metadata": {},
   "outputs": [
    {
     "data": {
      "text/plain": [
       "tensor([-1.1197, -0.0405])"
      ]
     },
     "execution_count": 23,
     "metadata": {},
     "output_type": "execute_result"
    }
   ],
   "source": [
    "mean, std = task.data[\"scale_parameters\"]\n",
    "\n",
    "test = (xm + mean) * std\n",
    "\n",
    "test.mean(0)"
   ]
  },
  {
   "cell_type": "code",
   "execution_count": 209,
   "metadata": {},
   "outputs": [],
   "source": [
    "def mmd_two_samples(x: Tensor, y: Tensor):\n",
    "    r\"\"\"Computes once the MMD for 2 samples #TODO ref\n",
    "    Args:\n",
    "        x: Samples from population 1.\n",
    "        y: Sampples from population 2.\n",
    "\n",
    "    Returns:\n",
    "        _type_: _description_\n",
    "    \"\"\"\n",
    "    diff = x - y\n",
    "    sigma2 = abs((torch.norm(diff, dim=1) ** 2).max())\n",
    "    gamma = 1 / (2 * sigma2)\n",
    "    xx = rbf_kernel(x, x, gamma.item())\n",
    "    yy = rbf_kernel(y, y, gamma.item())\n",
    "    xy = rbf_kernel(x, y, gamma.item())\n",
    "\n",
    "    return torch.tensor(xx.mean() + yy.mean() + xy.mean())\n",
    "\n",
    "\n",
    "def MMD(x: Tensor, y: Tensor, n_rep: int = 1_000) -> Tuple[Tensor, bool]:\n",
    "    \"\"\"Computes the MMD between two samples x,y, use permutation trick to check whether the value can be considered to be 0.\n",
    "\n",
    "    H0= << t0 > t_{1-alhpa}.\n",
    "\n",
    "    Args:\n",
    "        x: Samples from population 1.\n",
    "        y: Samples from population 2.\n",
    "        n_rep: Number of repetition.\n",
    "\n",
    "    Returns:\n",
    "        t0, h0: Value of the MMD and wether or not H0 is accepted.\n",
    "    \"\"\"\n",
    "    if x.shape[0] != y.shape[0]:\n",
    "        min_rows = min(x.shape[0], y.shape[0])\n",
    "        x = x[torch.randperm(x.shape[0])][:min_rows]\n",
    "        y = y[torch.randperm(y.shape[0])][:min_rows]\n",
    "    t0 = mmd_two_samples(x, y)\n",
    "    t = torch.zeros((n_rep))\n",
    "\n",
    "    for i in tqdm(range(n_rep)):\n",
    "        x_perm = x[torch.randperm(5_000)]\n",
    "        y_perm = y[torch.randperm(5_000)]\n",
    "        t[i] = mmd_two_samples(x_perm, y_perm)\n",
    "    t.sort()\n",
    "    h0 = torch.searchsorted(t, t0) > 989  # If Ho accepted or not\n",
    "    return t0, h0"
   ]
  },
  {
   "cell_type": "markdown",
   "metadata": {},
   "source": [
    "tensor(908)\n",
    "(tensor(2.9059), tensor(False))\n",
    "\n",
    "tensor(375)\n",
    "(tensor(2.9179), tensor(False))"
   ]
  },
  {
   "cell_type": "code",
   "execution_count": 211,
   "metadata": {},
   "outputs": [],
   "source": [
    "def compute_rnpe_npe(\n",
    "    task_name: str, sigma_2: float\n",
    ") -> Tuple[Tensor, Tensor, Tuple, Tensor]:\n",
    "    \"\"\"General pipeline to compute both NPE and RNPE samples for a given task and corruption.\n",
    "\n",
    "    Args:\n",
    "        task_name: Name of the task.\n",
    "        sigma_2: Corruption.\n",
    "\n",
    "    Returns:\n",
    "        Tuple[Tensor, Tensor, Tuple, Tensor]: NPE samples given x, y, theroritical given y and RNPE samples given y.\n",
    "    \"\"\"\n",
    "\n",
    "    n_runs = 3\n",
    "    task_l = []\n",
    "    xm_l = []\n",
    "    norm_npe_rnpe = []\n",
    "    npe_samples_x_l = []\n",
    "    npe_samples_y_l = []\n",
    "    theoritical_post_y_l = []\n",
    "    rnpe_samples_l = []\n",
    "\n",
    "    rnpe_mmd_t0_l = []\n",
    "    rnpe_mmd_h0_l = []\n",
    "    npe_mmd_t0_l = []\n",
    "    npe_mmd_h0_l = []\n",
    "    for _ in tqdm(range(n_runs), leave=True):\n",
    "        task = Gaussian(\n",
    "            N_simu=N_simu, sigma_y_2=sigma_2\n",
    "        )  # TODO Changer selon task_name\n",
    "        q_NPE = create_train_flow(task)\n",
    "        q_x_NF = create_train_unconditional_flow(task)\n",
    "        with torch.no_grad():\n",
    "            print()\n",
    "            mcmc_sampler = MyMCMC(task.y0_scaled.squeeze(), tau, sigma, rho, q_x_NF)\n",
    "            xm = mcmc_sampler.sample(M, warm_up_steps, torch.zeros(1, 2))\n",
    "\n",
    "        npe_samples_x = q_NPE.flow(task.x0_scaled).sample((M,))\n",
    "        npe_samples_y = q_NPE.flow(task.y0_scaled).sample((M,))\n",
    "        theoritical_post_y = task.true_post(task.y0.squeeze().cpu().numpy(), sigma_2)\n",
    "        rnpe_samples = q_NPE.flow(xm).sample()\n",
    "        norm_npe_rnpe.append(npe_samples_y.mean() - rnpe_samples.mean())\n",
    "\n",
    "        task_l.append(task)\n",
    "        xm_l.append(xm)\n",
    "        npe_samples_x_l.append(npe_samples_x)\n",
    "        npe_samples_y_l.append(npe_samples_y)\n",
    "        theoritical_post_y_l.append(theoritical_post_y)\n",
    "        rnpe_samples_l.append(rnpe_samples)\n",
    "\n",
    "    return {\n",
    "        \"task_l\": task_l,\n",
    "        \"npe_samples_x_l\": npe_samples_x_l,\n",
    "        \"npe_samples_y_l\": npe_samples_y_l,\n",
    "        \"theoritical_post_y_l\": theoritical_post_y_l,\n",
    "        \"rnpe_samples_l\": rnpe_samples_l,\n",
    "        \"xm_l\": xm_l,\n",
    "    }"
   ]
  },
  {
   "cell_type": "code",
   "execution_count": 212,
   "metadata": {},
   "outputs": [],
   "source": [
    "def compute_metrics(\n",
    "    task_l: List,\n",
    "    npe_samples_x_l: List,\n",
    "    npe_samples_y_l: List,\n",
    "    theoritical_post_y_l: List,\n",
    "    rnpe_samples_l: List,\n",
    "    xm_l: List,\n",
    ") -> Dict:\n",
    "    npe_mmd_t0_l, npe_mmd_h0_l, rnpe_mmd_t0_l, rnpe_mmd_h0_l, norm_npe_rnpe = (\n",
    "        [],\n",
    "        [],\n",
    "        [],\n",
    "        [],\n",
    "        [],\n",
    "    )\n",
    "    # Computiing MMD\n",
    "    for i in range(len(xm_l)):\n",
    "        xm_rescaled = (xm_l[i] + task_l[i].data[\"scale_parameters\"][0]) * task_l[\n",
    "            i\n",
    "        ].data[\"scale_parameters\"][1]\n",
    "        npe_mmd_t0, npe_mmd_h0 = MMD(\n",
    "            task_l[i].data[\"x\"], task_l[i].y0.expand(5_000, -1)\n",
    "        )\n",
    "        rnpe_mmd_t0, rnpe_mmd_h0 = MMD(xm_rescaled, task_l[i].y0.expand(5_000, -1))\n",
    "\n",
    "        npe_mmd_t0_l.append(npe_mmd_t0)\n",
    "        npe_mmd_h0_l.append(npe_mmd_h0)\n",
    "        rnpe_mmd_t0_l.append(rnpe_mmd_t0)\n",
    "        rnpe_mmd_h0_l.append(rnpe_mmd_h0)\n",
    "\n",
    "        norm_npe_rnpe.append(npe_samples_y_l[i].mean() - rnpe_samples_l[i].mean())\n",
    "\n",
    "    imax = np.argmax(norm_npe_rnpe)\n",
    "    npe_samples_x = npe_samples_x_l[imax]\n",
    "    npe_samples_y = npe_samples_y_l[imax]\n",
    "    theoritical_post_y = theoritical_post_y_l[imax]\n",
    "    rnpe_samples = rnpe_samples_l[imax]\n",
    "    rnpe_mmd_t0 = np.mean(rnpe_mmd_t0_l)\n",
    "    rnpe_mmd_h0 = torch.sum(rnpe_mmd_h0).item() > torch.sum(~rnpe_mmd_h0).item()\n",
    "    npe_mmd_t0 = np.mean(npe_mmd_t0_l)\n",
    "    npe_mmd_h0 = torch.sum(npe_mmd_h0).item() > torch.sum(~npe_mmd_h0).item()\n",
    "\n",
    "    return {\n",
    "        \"npe_samples_x\": npe_samples_x,\n",
    "        \"npe_samples_y\": npe_samples_y,\n",
    "        \"theoritical_post_y\": theoritical_post_y,\n",
    "        \"rnpe_samples\": rnpe_samples,\n",
    "        \"rnpe_mmd_t0\": rnpe_mmd_t0,\n",
    "        \"rnpe_mmd_h0\": rnpe_mmd_h0,\n",
    "        \"npe_mmd_t0\": npe_mmd_t0,\n",
    "        \"npe_mmd_h0\": npe_mmd_h0,\n",
    "    }"
   ]
  },
  {
   "cell_type": "code",
   "execution_count": 213,
   "metadata": {},
   "outputs": [
    {
     "data": {
      "application/vnd.jupyter.widget-view+json": {
       "model_id": "bcff7d2d4282446e863be4fc70a08667",
       "version_major": 2,
       "version_minor": 0
      },
      "text/plain": [
       "Corruption:   0%|          | 0/6 [00:00<?, ?Sigma²/s]"
      ]
     },
     "metadata": {},
     "output_type": "display_data"
    },
    {
     "name": "stdout",
     "output_type": "stream",
     "text": [
      "1.0\n"
     ]
    },
    {
     "data": {
      "application/vnd.jupyter.widget-view+json": {
       "model_id": "54dab5c5d4a349a9aa796e3c2280cfd9",
       "version_major": 2,
       "version_minor": 0
      },
      "text/plain": [
       "  0%|          | 0/3 [00:00<?, ?it/s]"
      ]
     },
     "metadata": {},
     "output_type": "display_data"
    },
    {
     "name": "stdout",
     "output_type": "stream",
     "text": [
      "\n"
     ]
    },
    {
     "data": {
      "application/vnd.jupyter.widget-view+json": {
       "model_id": "a95ff0f5a9524cfd821f3ab350d7301b",
       "version_major": 2,
       "version_minor": 0
      },
      "text/plain": [
       "MCMC sampling:   0%|          | 0/45000 [00:00<?, ?it/s]"
      ]
     },
     "metadata": {},
     "output_type": "display_data"
    },
    {
     "name": "stdout",
     "output_type": "stream",
     "text": [
      "\n"
     ]
    },
    {
     "data": {
      "application/vnd.jupyter.widget-view+json": {
       "model_id": "d9796423016f4bf282aa9ccb0d1654b2",
       "version_major": 2,
       "version_minor": 0
      },
      "text/plain": [
       "MCMC sampling:   0%|          | 0/45000 [00:00<?, ?it/s]"
      ]
     },
     "metadata": {},
     "output_type": "display_data"
    },
    {
     "name": "stdout",
     "output_type": "stream",
     "text": [
      "\n"
     ]
    },
    {
     "data": {
      "application/vnd.jupyter.widget-view+json": {
       "model_id": "fcfe053d58724104aaed5dc2dc6fe7f9",
       "version_major": 2,
       "version_minor": 0
      },
      "text/plain": [
       "MCMC sampling:   0%|          | 0/45000 [00:00<?, ?it/s]"
      ]
     },
     "metadata": {},
     "output_type": "display_data"
    },
    {
     "name": "stdout",
     "output_type": "stream",
     "text": [
      "1.5\n"
     ]
    },
    {
     "data": {
      "application/vnd.jupyter.widget-view+json": {
       "model_id": "997607637dca4705b149bc8de80929e9",
       "version_major": 2,
       "version_minor": 0
      },
      "text/plain": [
       "  0%|          | 0/3 [00:00<?, ?it/s]"
      ]
     },
     "metadata": {},
     "output_type": "display_data"
    },
    {
     "name": "stdout",
     "output_type": "stream",
     "text": [
      "\n"
     ]
    },
    {
     "data": {
      "application/vnd.jupyter.widget-view+json": {
       "model_id": "38a7ef3f67f84f5aafcaafc1ab9917ef",
       "version_major": 2,
       "version_minor": 0
      },
      "text/plain": [
       "MCMC sampling:   0%|          | 0/45000 [00:00<?, ?it/s]"
      ]
     },
     "metadata": {},
     "output_type": "display_data"
    },
    {
     "name": "stdout",
     "output_type": "stream",
     "text": [
      "\n"
     ]
    },
    {
     "data": {
      "application/vnd.jupyter.widget-view+json": {
       "model_id": "97859b6998ee4cf6b4287c9abae88554",
       "version_major": 2,
       "version_minor": 0
      },
      "text/plain": [
       "MCMC sampling:   0%|          | 0/45000 [00:00<?, ?it/s]"
      ]
     },
     "metadata": {},
     "output_type": "display_data"
    },
    {
     "name": "stdout",
     "output_type": "stream",
     "text": [
      "\n"
     ]
    },
    {
     "data": {
      "application/vnd.jupyter.widget-view+json": {
       "model_id": "2ee26ea41ae748d9856f373d6d8396ba",
       "version_major": 2,
       "version_minor": 0
      },
      "text/plain": [
       "MCMC sampling:   0%|          | 0/45000 [00:00<?, ?it/s]"
      ]
     },
     "metadata": {},
     "output_type": "display_data"
    },
    {
     "name": "stdout",
     "output_type": "stream",
     "text": [
      "2.0\n"
     ]
    },
    {
     "data": {
      "application/vnd.jupyter.widget-view+json": {
       "model_id": "33bcf4326bb04da499eb942cfdf36014",
       "version_major": 2,
       "version_minor": 0
      },
      "text/plain": [
       "  0%|          | 0/3 [00:00<?, ?it/s]"
      ]
     },
     "metadata": {},
     "output_type": "display_data"
    },
    {
     "name": "stdout",
     "output_type": "stream",
     "text": [
      "\n"
     ]
    },
    {
     "data": {
      "application/vnd.jupyter.widget-view+json": {
       "model_id": "aeeaf22322664cfe81f5e927367c6263",
       "version_major": 2,
       "version_minor": 0
      },
      "text/plain": [
       "MCMC sampling:   0%|          | 0/45000 [00:00<?, ?it/s]"
      ]
     },
     "metadata": {},
     "output_type": "display_data"
    },
    {
     "name": "stdout",
     "output_type": "stream",
     "text": [
      "\n"
     ]
    },
    {
     "data": {
      "application/vnd.jupyter.widget-view+json": {
       "model_id": "4fdc2077846f4c6bbc2a0034f2a0f8d0",
       "version_major": 2,
       "version_minor": 0
      },
      "text/plain": [
       "MCMC sampling:   0%|          | 0/45000 [00:00<?, ?it/s]"
      ]
     },
     "metadata": {},
     "output_type": "display_data"
    },
    {
     "name": "stdout",
     "output_type": "stream",
     "text": [
      "\n"
     ]
    },
    {
     "data": {
      "application/vnd.jupyter.widget-view+json": {
       "model_id": "4cb77ba8c1444db08fa21bd023a977f2",
       "version_major": 2,
       "version_minor": 0
      },
      "text/plain": [
       "MCMC sampling:   0%|          | 0/45000 [00:00<?, ?it/s]"
      ]
     },
     "metadata": {},
     "output_type": "display_data"
    },
    {
     "name": "stdout",
     "output_type": "stream",
     "text": [
      "2.5\n"
     ]
    },
    {
     "data": {
      "application/vnd.jupyter.widget-view+json": {
       "model_id": "beff473302ec4fe69ad28f9d41f35139",
       "version_major": 2,
       "version_minor": 0
      },
      "text/plain": [
       "  0%|          | 0/3 [00:00<?, ?it/s]"
      ]
     },
     "metadata": {},
     "output_type": "display_data"
    },
    {
     "name": "stdout",
     "output_type": "stream",
     "text": [
      "\n"
     ]
    },
    {
     "data": {
      "application/vnd.jupyter.widget-view+json": {
       "model_id": "3fcdc3cc75b24399b83e80648c80f7ff",
       "version_major": 2,
       "version_minor": 0
      },
      "text/plain": [
       "MCMC sampling:   0%|          | 0/45000 [00:00<?, ?it/s]"
      ]
     },
     "metadata": {},
     "output_type": "display_data"
    },
    {
     "name": "stdout",
     "output_type": "stream",
     "text": [
      "\n"
     ]
    },
    {
     "data": {
      "application/vnd.jupyter.widget-view+json": {
       "model_id": "1da3063354044bc8b3b8793c384fc904",
       "version_major": 2,
       "version_minor": 0
      },
      "text/plain": [
       "MCMC sampling:   0%|          | 0/45000 [00:00<?, ?it/s]"
      ]
     },
     "metadata": {},
     "output_type": "display_data"
    },
    {
     "name": "stdout",
     "output_type": "stream",
     "text": [
      "\n"
     ]
    },
    {
     "data": {
      "application/vnd.jupyter.widget-view+json": {
       "model_id": "6dccc25e3df64fabb46b0c8479573a2a",
       "version_major": 2,
       "version_minor": 0
      },
      "text/plain": [
       "MCMC sampling:   0%|          | 0/45000 [00:00<?, ?it/s]"
      ]
     },
     "metadata": {},
     "output_type": "display_data"
    },
    {
     "name": "stdout",
     "output_type": "stream",
     "text": [
      "3.0\n"
     ]
    },
    {
     "data": {
      "application/vnd.jupyter.widget-view+json": {
       "model_id": "e0c1c58037b94f0cbb016fe30c14cee9",
       "version_major": 2,
       "version_minor": 0
      },
      "text/plain": [
       "  0%|          | 0/3 [00:00<?, ?it/s]"
      ]
     },
     "metadata": {},
     "output_type": "display_data"
    },
    {
     "name": "stdout",
     "output_type": "stream",
     "text": [
      "\n"
     ]
    },
    {
     "data": {
      "application/vnd.jupyter.widget-view+json": {
       "model_id": "af3e746052ef4c52ac6a1220edd6396d",
       "version_major": 2,
       "version_minor": 0
      },
      "text/plain": [
       "MCMC sampling:   0%|          | 0/45000 [00:00<?, ?it/s]"
      ]
     },
     "metadata": {},
     "output_type": "display_data"
    },
    {
     "name": "stdout",
     "output_type": "stream",
     "text": [
      "\n"
     ]
    },
    {
     "data": {
      "application/vnd.jupyter.widget-view+json": {
       "model_id": "3baf0aed11144664a9faba266486fc87",
       "version_major": 2,
       "version_minor": 0
      },
      "text/plain": [
       "MCMC sampling:   0%|          | 0/45000 [00:00<?, ?it/s]"
      ]
     },
     "metadata": {},
     "output_type": "display_data"
    },
    {
     "name": "stdout",
     "output_type": "stream",
     "text": [
      "\n"
     ]
    },
    {
     "data": {
      "application/vnd.jupyter.widget-view+json": {
       "model_id": "1f79e5fc69fe40b492e7763839177619",
       "version_major": 2,
       "version_minor": 0
      },
      "text/plain": [
       "MCMC sampling:   0%|          | 0/45000 [00:00<?, ?it/s]"
      ]
     },
     "metadata": {},
     "output_type": "display_data"
    },
    {
     "name": "stdout",
     "output_type": "stream",
     "text": [
      "3.5\n"
     ]
    },
    {
     "data": {
      "application/vnd.jupyter.widget-view+json": {
       "model_id": "9be459cba7eb4b7ea7e8a896b4dcae95",
       "version_major": 2,
       "version_minor": 0
      },
      "text/plain": [
       "  0%|          | 0/3 [00:00<?, ?it/s]"
      ]
     },
     "metadata": {},
     "output_type": "display_data"
    }
   ],
   "source": [
    "donnees = {}\n",
    "sigmas_2 = np.arange(1, 4, 0.5)\n",
    "with tqdm(sigmas_2, unit=\"Sigma²\", desc=\"Corruption\") as tq:\n",
    "    for sigma_2 in tq:\n",
    "        print(sigma_2)\n",
    "        donnees[sigma_2] = compute_rnpe_npe(Gaussian, sigma_2)"
   ]
  },
  {
   "cell_type": "code",
   "execution_count": null,
   "metadata": {},
   "outputs": [],
   "source": [
    "import pickle\n",
    "with open(\"donnees_mcmc_upgrade\", \"wb\") as f:\n",
    "    pickle.dump(donnees, f)"
   ]
  },
  {
   "cell_type": "code",
   "execution_count": null,
   "metadata": {},
   "outputs": [],
   "source": [
    "import pickle\n",
    "\n",
    "with open(\"donnees\",\"rb\") as f:\n",
    "    donnees = pickle.load(f)"
   ]
  },
  {
   "cell_type": "code",
   "execution_count": null,
   "metadata": {},
   "outputs": [
    {
     "data": {
      "application/vnd.jupyter.widget-view+json": {
       "model_id": "81376b895ded4500b072daaf0a08be7f",
       "version_major": 2,
       "version_minor": 0
      },
      "text/plain": [
       "Corruption:   0%|          | 0/6 [00:00<?, ?Sigma²/s]"
      ]
     },
     "metadata": {},
     "output_type": "display_data"
    },
    {
     "name": "stdout",
     "output_type": "stream",
     "text": [
      "1.0\n"
     ]
    },
    {
     "name": "stderr",
     "output_type": "stream",
     "text": [
      "C:\\Users\\mmmat\\AppData\\Local\\Temp\\ipykernel_26484\\283848427.py:17: UserWarning: To copy construct from a tensor, it is recommended to use sourceTensor.clone().detach() or sourceTensor.clone().detach().requires_grad_(True), rather than torch.tensor(sourceTensor).\n",
      "  return torch.tensor(xx.mean() + yy.mean() + xy.mean())\n"
     ]
    },
    {
     "data": {
      "application/vnd.jupyter.widget-view+json": {
       "model_id": "0fdc48217a2c44c4b21e349c4155f5b7",
       "version_major": 2,
       "version_minor": 0
      },
      "text/plain": [
       "  0%|          | 0/1000 [00:00<?, ?it/s]"
      ]
     },
     "metadata": {},
     "output_type": "display_data"
    },
    {
     "data": {
      "application/vnd.jupyter.widget-view+json": {
       "model_id": "1adffdea9fee4a769887891cba108050",
       "version_major": 2,
       "version_minor": 0
      },
      "text/plain": [
       "  0%|          | 0/1000 [00:00<?, ?it/s]"
      ]
     },
     "metadata": {},
     "output_type": "display_data"
    },
    {
     "data": {
      "application/vnd.jupyter.widget-view+json": {
       "model_id": "c5b58cd4a4d94c39b0c4dcc7d0923721",
       "version_major": 2,
       "version_minor": 0
      },
      "text/plain": [
       "  0%|          | 0/1000 [00:00<?, ?it/s]"
      ]
     },
     "metadata": {},
     "output_type": "display_data"
    },
    {
     "data": {
      "application/vnd.jupyter.widget-view+json": {
       "model_id": "8e73be4fd3694e39825f8a5f86de3e05",
       "version_major": 2,
       "version_minor": 0
      },
      "text/plain": [
       "  0%|          | 0/1000 [00:00<?, ?it/s]"
      ]
     },
     "metadata": {},
     "output_type": "display_data"
    },
    {
     "data": {
      "application/vnd.jupyter.widget-view+json": {
       "model_id": "9943c57a0d574b3fb5809d4cd68e6817",
       "version_major": 2,
       "version_minor": 0
      },
      "text/plain": [
       "  0%|          | 0/1000 [00:00<?, ?it/s]"
      ]
     },
     "metadata": {},
     "output_type": "display_data"
    },
    {
     "data": {
      "application/vnd.jupyter.widget-view+json": {
       "model_id": "43376dade73147c88a97bbcfa5ebfc0a",
       "version_major": 2,
       "version_minor": 0
      },
      "text/plain": [
       "  0%|          | 0/1000 [00:00<?, ?it/s]"
      ]
     },
     "metadata": {},
     "output_type": "display_data"
    },
    {
     "name": "stdout",
     "output_type": "stream",
     "text": [
      "1.5\n"
     ]
    },
    {
     "data": {
      "application/vnd.jupyter.widget-view+json": {
       "model_id": "7a9b3dad6b604ae19fc5e7f225bdd126",
       "version_major": 2,
       "version_minor": 0
      },
      "text/plain": [
       "  0%|          | 0/1000 [00:00<?, ?it/s]"
      ]
     },
     "metadata": {},
     "output_type": "display_data"
    },
    {
     "data": {
      "application/vnd.jupyter.widget-view+json": {
       "model_id": "89a0760d4b4b4e12a909aec7fb047581",
       "version_major": 2,
       "version_minor": 0
      },
      "text/plain": [
       "  0%|          | 0/1000 [00:00<?, ?it/s]"
      ]
     },
     "metadata": {},
     "output_type": "display_data"
    },
    {
     "data": {
      "application/vnd.jupyter.widget-view+json": {
       "model_id": "95eac59af39c4f5ba12aed9cd24e6362",
       "version_major": 2,
       "version_minor": 0
      },
      "text/plain": [
       "  0%|          | 0/1000 [00:00<?, ?it/s]"
      ]
     },
     "metadata": {},
     "output_type": "display_data"
    },
    {
     "data": {
      "application/vnd.jupyter.widget-view+json": {
       "model_id": "cf362b6f703e4b76bc9c27fd0b5822db",
       "version_major": 2,
       "version_minor": 0
      },
      "text/plain": [
       "  0%|          | 0/1000 [00:00<?, ?it/s]"
      ]
     },
     "metadata": {},
     "output_type": "display_data"
    },
    {
     "data": {
      "application/vnd.jupyter.widget-view+json": {
       "model_id": "71bbff34910f40699b286b04e1512e76",
       "version_major": 2,
       "version_minor": 0
      },
      "text/plain": [
       "  0%|          | 0/1000 [00:00<?, ?it/s]"
      ]
     },
     "metadata": {},
     "output_type": "display_data"
    },
    {
     "data": {
      "application/vnd.jupyter.widget-view+json": {
       "model_id": "acdef2f2ffc541179ec67aaa2797ee7e",
       "version_major": 2,
       "version_minor": 0
      },
      "text/plain": [
       "  0%|          | 0/1000 [00:00<?, ?it/s]"
      ]
     },
     "metadata": {},
     "output_type": "display_data"
    },
    {
     "name": "stdout",
     "output_type": "stream",
     "text": [
      "2.0\n"
     ]
    },
    {
     "data": {
      "application/vnd.jupyter.widget-view+json": {
       "model_id": "a831c32cb93143ecbfae71952847a044",
       "version_major": 2,
       "version_minor": 0
      },
      "text/plain": [
       "  0%|          | 0/1000 [00:00<?, ?it/s]"
      ]
     },
     "metadata": {},
     "output_type": "display_data"
    },
    {
     "data": {
      "application/vnd.jupyter.widget-view+json": {
       "model_id": "b9de7cab399c488b8235e14fdd8d2fcd",
       "version_major": 2,
       "version_minor": 0
      },
      "text/plain": [
       "  0%|          | 0/1000 [00:00<?, ?it/s]"
      ]
     },
     "metadata": {},
     "output_type": "display_data"
    },
    {
     "data": {
      "application/vnd.jupyter.widget-view+json": {
       "model_id": "aff3a53a15844333a8d6fca2c5bbb744",
       "version_major": 2,
       "version_minor": 0
      },
      "text/plain": [
       "  0%|          | 0/1000 [00:00<?, ?it/s]"
      ]
     },
     "metadata": {},
     "output_type": "display_data"
    },
    {
     "data": {
      "application/vnd.jupyter.widget-view+json": {
       "model_id": "e2e95708116340019b46d51d3c807766",
       "version_major": 2,
       "version_minor": 0
      },
      "text/plain": [
       "  0%|          | 0/1000 [00:00<?, ?it/s]"
      ]
     },
     "metadata": {},
     "output_type": "display_data"
    },
    {
     "data": {
      "application/vnd.jupyter.widget-view+json": {
       "model_id": "4ababd1bf31c470686f6e94c947ed0b3",
       "version_major": 2,
       "version_minor": 0
      },
      "text/plain": [
       "  0%|          | 0/1000 [00:00<?, ?it/s]"
      ]
     },
     "metadata": {},
     "output_type": "display_data"
    },
    {
     "data": {
      "application/vnd.jupyter.widget-view+json": {
       "model_id": "34e88989b6384474af7a3eea1bb0f066",
       "version_major": 2,
       "version_minor": 0
      },
      "text/plain": [
       "  0%|          | 0/1000 [00:00<?, ?it/s]"
      ]
     },
     "metadata": {},
     "output_type": "display_data"
    },
    {
     "name": "stdout",
     "output_type": "stream",
     "text": [
      "2.5\n"
     ]
    },
    {
     "data": {
      "application/vnd.jupyter.widget-view+json": {
       "model_id": "725ec7d5267640ff99cb0320d126f525",
       "version_major": 2,
       "version_minor": 0
      },
      "text/plain": [
       "  0%|          | 0/1000 [00:00<?, ?it/s]"
      ]
     },
     "metadata": {},
     "output_type": "display_data"
    },
    {
     "data": {
      "application/vnd.jupyter.widget-view+json": {
       "model_id": "006106c7ed514c15b84e8a84d2705fd3",
       "version_major": 2,
       "version_minor": 0
      },
      "text/plain": [
       "  0%|          | 0/1000 [00:00<?, ?it/s]"
      ]
     },
     "metadata": {},
     "output_type": "display_data"
    },
    {
     "data": {
      "application/vnd.jupyter.widget-view+json": {
       "model_id": "047c1fd50fec4e73a573b9e5593307a2",
       "version_major": 2,
       "version_minor": 0
      },
      "text/plain": [
       "  0%|          | 0/1000 [00:00<?, ?it/s]"
      ]
     },
     "metadata": {},
     "output_type": "display_data"
    },
    {
     "data": {
      "application/vnd.jupyter.widget-view+json": {
       "model_id": "bd59d958d0664f9585e738d2df303f9b",
       "version_major": 2,
       "version_minor": 0
      },
      "text/plain": [
       "  0%|          | 0/1000 [00:00<?, ?it/s]"
      ]
     },
     "metadata": {},
     "output_type": "display_data"
    },
    {
     "data": {
      "application/vnd.jupyter.widget-view+json": {
       "model_id": "0b25aad5e20642dfab22102f6e092129",
       "version_major": 2,
       "version_minor": 0
      },
      "text/plain": [
       "  0%|          | 0/1000 [00:00<?, ?it/s]"
      ]
     },
     "metadata": {},
     "output_type": "display_data"
    },
    {
     "data": {
      "application/vnd.jupyter.widget-view+json": {
       "model_id": "38f848027b044ede90784cb7d7883f2a",
       "version_major": 2,
       "version_minor": 0
      },
      "text/plain": [
       "  0%|          | 0/1000 [00:00<?, ?it/s]"
      ]
     },
     "metadata": {},
     "output_type": "display_data"
    },
    {
     "name": "stdout",
     "output_type": "stream",
     "text": [
      "3.0\n"
     ]
    },
    {
     "data": {
      "application/vnd.jupyter.widget-view+json": {
       "model_id": "c663cb1e1a9744aa874e14469ad91f28",
       "version_major": 2,
       "version_minor": 0
      },
      "text/plain": [
       "  0%|          | 0/1000 [00:00<?, ?it/s]"
      ]
     },
     "metadata": {},
     "output_type": "display_data"
    },
    {
     "data": {
      "application/vnd.jupyter.widget-view+json": {
       "model_id": "76b6332ed4744bc1aed69c59d8ec124a",
       "version_major": 2,
       "version_minor": 0
      },
      "text/plain": [
       "  0%|          | 0/1000 [00:00<?, ?it/s]"
      ]
     },
     "metadata": {},
     "output_type": "display_data"
    },
    {
     "data": {
      "application/vnd.jupyter.widget-view+json": {
       "model_id": "e47a70754c624ff594da70a158766603",
       "version_major": 2,
       "version_minor": 0
      },
      "text/plain": [
       "  0%|          | 0/1000 [00:00<?, ?it/s]"
      ]
     },
     "metadata": {},
     "output_type": "display_data"
    },
    {
     "data": {
      "application/vnd.jupyter.widget-view+json": {
       "model_id": "beb47151c10f40efae0603f3975156b0",
       "version_major": 2,
       "version_minor": 0
      },
      "text/plain": [
       "  0%|          | 0/1000 [00:00<?, ?it/s]"
      ]
     },
     "metadata": {},
     "output_type": "display_data"
    },
    {
     "data": {
      "application/vnd.jupyter.widget-view+json": {
       "model_id": "f22c4ed3504a4de4a372b14316823d81",
       "version_major": 2,
       "version_minor": 0
      },
      "text/plain": [
       "  0%|          | 0/1000 [00:00<?, ?it/s]"
      ]
     },
     "metadata": {},
     "output_type": "display_data"
    },
    {
     "data": {
      "application/vnd.jupyter.widget-view+json": {
       "model_id": "013ef06f7b1a48bf95e197ad9cd8d118",
       "version_major": 2,
       "version_minor": 0
      },
      "text/plain": [
       "  0%|          | 0/1000 [00:00<?, ?it/s]"
      ]
     },
     "metadata": {},
     "output_type": "display_data"
    },
    {
     "name": "stdout",
     "output_type": "stream",
     "text": [
      "3.5\n"
     ]
    },
    {
     "data": {
      "application/vnd.jupyter.widget-view+json": {
       "model_id": "30470c8fb09f46159028608532842e99",
       "version_major": 2,
       "version_minor": 0
      },
      "text/plain": [
       "  0%|          | 0/1000 [00:00<?, ?it/s]"
      ]
     },
     "metadata": {},
     "output_type": "display_data"
    },
    {
     "data": {
      "application/vnd.jupyter.widget-view+json": {
       "model_id": "d47729add6514343908ff658d61450a7",
       "version_major": 2,
       "version_minor": 0
      },
      "text/plain": [
       "  0%|          | 0/1000 [00:00<?, ?it/s]"
      ]
     },
     "metadata": {},
     "output_type": "display_data"
    },
    {
     "data": {
      "application/vnd.jupyter.widget-view+json": {
       "model_id": "eb93747b87724531a1c0bfa19a717c4a",
       "version_major": 2,
       "version_minor": 0
      },
      "text/plain": [
       "  0%|          | 0/1000 [00:00<?, ?it/s]"
      ]
     },
     "metadata": {},
     "output_type": "display_data"
    },
    {
     "data": {
      "application/vnd.jupyter.widget-view+json": {
       "model_id": "61a2e202aef84927b2ed4a732ec88386",
       "version_major": 2,
       "version_minor": 0
      },
      "text/plain": [
       "  0%|          | 0/1000 [00:00<?, ?it/s]"
      ]
     },
     "metadata": {},
     "output_type": "display_data"
    },
    {
     "data": {
      "application/vnd.jupyter.widget-view+json": {
       "model_id": "45f25a570d044826bdc1daa6e24fbaf7",
       "version_major": 2,
       "version_minor": 0
      },
      "text/plain": [
       "  0%|          | 0/1000 [00:00<?, ?it/s]"
      ]
     },
     "metadata": {},
     "output_type": "display_data"
    },
    {
     "data": {
      "application/vnd.jupyter.widget-view+json": {
       "model_id": "eb1f92a65cfd45b0ba07dc63391eab0f",
       "version_major": 2,
       "version_minor": 0
      },
      "text/plain": [
       "  0%|          | 0/1000 [00:00<?, ?it/s]"
      ]
     },
     "metadata": {},
     "output_type": "display_data"
    }
   ],
   "source": [
    "results = {}\n",
    "sigmas_2 = np.arange(1, 4, 0.5)\n",
    "with tqdm(sigmas_2, unit=\"Sigma²\", desc=\"Corruption\") as tq:\n",
    "    for sigma_2 in tq:\n",
    "        print(sigma_2)\n",
    "        results[sigma_2] = compute_metrics(**donnees[sigma_2])"
   ]
  },
  {
   "cell_type": "code",
   "execution_count": null,
   "metadata": {},
   "outputs": [
    {
     "data": {
      "application/vnd.jupyter.widget-view+json": {
       "model_id": "2d9c02b3f2dd40598157ba36fa71012d",
       "version_major": 2,
       "version_minor": 0
      },
      "text/plain": [
       "Corruption:   0%|          | 0/6 [00:00<?, ?Sigma²/s]"
      ]
     },
     "metadata": {},
     "output_type": "display_data"
    },
    {
     "name": "stdout",
     "output_type": "stream",
     "text": [
      "1.0\n"
     ]
    },
    {
     "data": {
      "application/vnd.jupyter.widget-view+json": {
       "model_id": "d015e7dfa49342a5a1ce04875bcaf4be",
       "version_major": 2,
       "version_minor": 0
      },
      "text/plain": [
       "  0%|          | 0/3 [00:00<?, ?it/s]"
      ]
     },
     "metadata": {},
     "output_type": "display_data"
    },
    {
     "name": "stdout",
     "output_type": "stream",
     "text": [
      "\n"
     ]
    },
    {
     "data": {
      "application/vnd.jupyter.widget-view+json": {
       "model_id": "00dfcc8e2dca4fbead53684b23718cd4",
       "version_major": 2,
       "version_minor": 0
      },
      "text/plain": [
       "  0%|          | 0/12000 [00:00<?, ?it/s]"
      ]
     },
     "metadata": {},
     "output_type": "display_data"
    },
    {
     "name": "stderr",
     "output_type": "stream",
     "text": [
      "C:\\Users\\mmmat\\AppData\\Local\\Temp\\ipykernel_10332\\2263681875.py:17: UserWarning: To copy construct from a tensor, it is recommended to use sourceTensor.clone().detach() or sourceTensor.clone().detach().requires_grad_(True), rather than torch.tensor(sourceTensor).\n",
      "  return torch.tensor(xx.mean() + yy.mean() + xy.mean())\n"
     ]
    },
    {
     "data": {
      "application/vnd.jupyter.widget-view+json": {
       "model_id": "8360529875c94b7099b8e3b9d4adb8d1",
       "version_major": 2,
       "version_minor": 0
      },
      "text/plain": [
       "  0%|          | 0/1000 [00:00<?, ?it/s]"
      ]
     },
     "metadata": {},
     "output_type": "display_data"
    },
    {
     "data": {
      "application/vnd.jupyter.widget-view+json": {
       "model_id": "bc8f87505dbb4852807226f3645b828d",
       "version_major": 2,
       "version_minor": 0
      },
      "text/plain": [
       "  0%|          | 0/1000 [00:00<?, ?it/s]"
      ]
     },
     "metadata": {},
     "output_type": "display_data"
    },
    {
     "name": "stdout",
     "output_type": "stream",
     "text": [
      "\n"
     ]
    },
    {
     "data": {
      "application/vnd.jupyter.widget-view+json": {
       "model_id": "9cafdfec9fdd46cd897050995c1fa254",
       "version_major": 2,
       "version_minor": 0
      },
      "text/plain": [
       "  0%|          | 0/12000 [00:00<?, ?it/s]"
      ]
     },
     "metadata": {},
     "output_type": "display_data"
    },
    {
     "data": {
      "application/vnd.jupyter.widget-view+json": {
       "model_id": "f96f5e08f8be4d3ea75b88ea2d7db60c",
       "version_major": 2,
       "version_minor": 0
      },
      "text/plain": [
       "  0%|          | 0/1000 [00:00<?, ?it/s]"
      ]
     },
     "metadata": {},
     "output_type": "display_data"
    },
    {
     "data": {
      "application/vnd.jupyter.widget-view+json": {
       "model_id": "c2e817d582344b909c3698b8b1eaa8ad",
       "version_major": 2,
       "version_minor": 0
      },
      "text/plain": [
       "  0%|          | 0/1000 [00:00<?, ?it/s]"
      ]
     },
     "metadata": {},
     "output_type": "display_data"
    },
    {
     "name": "stdout",
     "output_type": "stream",
     "text": [
      "\n"
     ]
    },
    {
     "data": {
      "application/vnd.jupyter.widget-view+json": {
       "model_id": "bf6abb2d70c74a6c88037710dd8ade39",
       "version_major": 2,
       "version_minor": 0
      },
      "text/plain": [
       "  0%|          | 0/12000 [00:00<?, ?it/s]"
      ]
     },
     "metadata": {},
     "output_type": "display_data"
    },
    {
     "data": {
      "application/vnd.jupyter.widget-view+json": {
       "model_id": "3bf810127c78403e85353718287121f8",
       "version_major": 2,
       "version_minor": 0
      },
      "text/plain": [
       "  0%|          | 0/1000 [00:00<?, ?it/s]"
      ]
     },
     "metadata": {},
     "output_type": "display_data"
    },
    {
     "data": {
      "application/vnd.jupyter.widget-view+json": {
       "model_id": "f8ae019a332a44feb691f2fd49dd90c8",
       "version_major": 2,
       "version_minor": 0
      },
      "text/plain": [
       "  0%|          | 0/1000 [00:00<?, ?it/s]"
      ]
     },
     "metadata": {},
     "output_type": "display_data"
    },
    {
     "name": "stdout",
     "output_type": "stream",
     "text": [
      "1.5\n"
     ]
    },
    {
     "data": {
      "application/vnd.jupyter.widget-view+json": {
       "model_id": "4d208b0b95734e77b69a4379750206b0",
       "version_major": 2,
       "version_minor": 0
      },
      "text/plain": [
       "  0%|          | 0/3 [00:00<?, ?it/s]"
      ]
     },
     "metadata": {},
     "output_type": "display_data"
    },
    {
     "name": "stdout",
     "output_type": "stream",
     "text": [
      "\n"
     ]
    },
    {
     "data": {
      "application/vnd.jupyter.widget-view+json": {
       "model_id": "33c3c246a4ad4aefba4aa2eea5816a41",
       "version_major": 2,
       "version_minor": 0
      },
      "text/plain": [
       "  0%|          | 0/12000 [00:00<?, ?it/s]"
      ]
     },
     "metadata": {},
     "output_type": "display_data"
    },
    {
     "data": {
      "application/vnd.jupyter.widget-view+json": {
       "model_id": "f32a46ff3d7a419aa4176004d0eee9ce",
       "version_major": 2,
       "version_minor": 0
      },
      "text/plain": [
       "  0%|          | 0/1000 [00:00<?, ?it/s]"
      ]
     },
     "metadata": {},
     "output_type": "display_data"
    },
    {
     "data": {
      "application/vnd.jupyter.widget-view+json": {
       "model_id": "5be48a86de6c48d1a1e67234dafa202f",
       "version_major": 2,
       "version_minor": 0
      },
      "text/plain": [
       "  0%|          | 0/1000 [00:00<?, ?it/s]"
      ]
     },
     "metadata": {},
     "output_type": "display_data"
    },
    {
     "name": "stdout",
     "output_type": "stream",
     "text": [
      "\n"
     ]
    },
    {
     "data": {
      "application/vnd.jupyter.widget-view+json": {
       "model_id": "0fb63265e06a4e2e8234ae2164c5f46e",
       "version_major": 2,
       "version_minor": 0
      },
      "text/plain": [
       "  0%|          | 0/12000 [00:00<?, ?it/s]"
      ]
     },
     "metadata": {},
     "output_type": "display_data"
    },
    {
     "data": {
      "application/vnd.jupyter.widget-view+json": {
       "model_id": "66e70c75af784ebaa9023127c29f9e46",
       "version_major": 2,
       "version_minor": 0
      },
      "text/plain": [
       "  0%|          | 0/1000 [00:00<?, ?it/s]"
      ]
     },
     "metadata": {},
     "output_type": "display_data"
    },
    {
     "data": {
      "application/vnd.jupyter.widget-view+json": {
       "model_id": "c7eb7008ff14452288a26bc775ce15f0",
       "version_major": 2,
       "version_minor": 0
      },
      "text/plain": [
       "  0%|          | 0/1000 [00:00<?, ?it/s]"
      ]
     },
     "metadata": {},
     "output_type": "display_data"
    },
    {
     "ename": "KeyboardInterrupt",
     "evalue": "",
     "output_type": "error",
     "traceback": [
      "\u001b[1;31m---------------------------------------------------------------------------\u001b[0m",
      "\u001b[1;31mKeyboardInterrupt\u001b[0m                         Traceback (most recent call last)",
      "Cell \u001b[1;32mIn[29], line 16\u001b[0m\n\u001b[0;32m      5\u001b[0m \u001b[39mprint\u001b[39m(sigma_2)\n\u001b[0;32m      6\u001b[0m results[sigma_2] \u001b[39m=\u001b[39m {}\n\u001b[0;32m      7\u001b[0m (\n\u001b[0;32m      8\u001b[0m     results[sigma_2][\u001b[39m\"\u001b[39m\u001b[39mnpe_samples_x\u001b[39m\u001b[39m\"\u001b[39m],\n\u001b[0;32m      9\u001b[0m     results[sigma_2][\u001b[39m\"\u001b[39m\u001b[39mnpe_samples_y\u001b[39m\u001b[39m\"\u001b[39m],\n\u001b[0;32m     10\u001b[0m     results[sigma_2][\u001b[39m\"\u001b[39m\u001b[39mtheoritical_post_y_l\u001b[39m\u001b[39m\"\u001b[39m],\n\u001b[0;32m     11\u001b[0m     results[sigma_2][\u001b[39m\"\u001b[39m\u001b[39mrnpe_samples\u001b[39m\u001b[39m\"\u001b[39m],\n\u001b[0;32m     12\u001b[0m     results[sigma_2][\u001b[39m\"\u001b[39m\u001b[39mrnpe_mmd_t0\u001b[39m\u001b[39m\"\u001b[39m],\n\u001b[0;32m     13\u001b[0m     results[sigma_2][\u001b[39m\"\u001b[39m\u001b[39mrnpe_mmd_h0\u001b[39m\u001b[39m\"\u001b[39m],\n\u001b[0;32m     14\u001b[0m     results[sigma_2][\u001b[39m\"\u001b[39m\u001b[39mnpe_mmd_t0\u001b[39m\u001b[39m\"\u001b[39m],\n\u001b[0;32m     15\u001b[0m     results[sigma_2][\u001b[39m\"\u001b[39m\u001b[39mnpe_mmd_h0\u001b[39m\u001b[39m\"\u001b[39m],\n\u001b[1;32m---> 16\u001b[0m ) \u001b[39m=\u001b[39m compute_rnpe_npe(Gaussian, sigma_2)\n",
      "Cell \u001b[1;32mIn[14], line 52\u001b[0m, in \u001b[0;36mcompute_rnpe_npe\u001b[1;34m(task_name, sigma_2)\u001b[0m\n\u001b[0;32m     50\u001b[0m xm_rescaled \u001b[39m=\u001b[39m (xm \u001b[39m+\u001b[39m task\u001b[39m.\u001b[39mdata[\u001b[39m\"\u001b[39m\u001b[39mscale_parameters\u001b[39m\u001b[39m\"\u001b[39m][\u001b[39m0\u001b[39m]) \u001b[39m*\u001b[39m task\u001b[39m.\u001b[39mdata[\u001b[39m\"\u001b[39m\u001b[39mscale_parameters\u001b[39m\u001b[39m\"\u001b[39m][\u001b[39m1\u001b[39m]\n\u001b[0;32m     51\u001b[0m rnpe_mmd_t0, rnpe_mmd_h0 \u001b[39m=\u001b[39m MMD(xm_rescaled, task\u001b[39m.\u001b[39my0\u001b[39m.\u001b[39mexpand(\u001b[39m5_000\u001b[39m, \u001b[39m-\u001b[39m\u001b[39m1\u001b[39m))\n\u001b[1;32m---> 52\u001b[0m npe_mmd_t0, npe_mmd_h0 \u001b[39m=\u001b[39m MMD(task\u001b[39m.\u001b[39;49mdata[\u001b[39m\"\u001b[39;49m\u001b[39mx\u001b[39;49m\u001b[39m\"\u001b[39;49m], task\u001b[39m.\u001b[39;49my0\u001b[39m.\u001b[39;49mexpand(\u001b[39m5_000\u001b[39;49m, \u001b[39m-\u001b[39;49m\u001b[39m1\u001b[39;49m))\n\u001b[0;32m     54\u001b[0m npe_samples_x_l\u001b[39m.\u001b[39mappend(npe_samples_x)\n\u001b[0;32m     55\u001b[0m npe_samples_y_l\u001b[39m.\u001b[39mappend(npe_samples_y)\n",
      "Cell \u001b[1;32mIn[28], line 44\u001b[0m, in \u001b[0;36mMMD\u001b[1;34m(x, y, n_rep)\u001b[0m\n\u001b[0;32m     42\u001b[0m     x_perm \u001b[39m=\u001b[39m x[torch\u001b[39m.\u001b[39mrandperm(\u001b[39m5_000\u001b[39m)]\n\u001b[0;32m     43\u001b[0m     y_perm \u001b[39m=\u001b[39m y[torch\u001b[39m.\u001b[39mrandperm(\u001b[39m5_000\u001b[39m)]\n\u001b[1;32m---> 44\u001b[0m     t[i] \u001b[39m=\u001b[39m mmd_two_samples(x_perm, y_perm)\n\u001b[0;32m     45\u001b[0m t\u001b[39m.\u001b[39msort()\n\u001b[0;32m     46\u001b[0m h0 \u001b[39m=\u001b[39m torch\u001b[39m.\u001b[39msearchsorted(t, t0) \u001b[39m>\u001b[39m \u001b[39m989\u001b[39m  \u001b[39m# If Ho accepted or not\u001b[39;00m\n",
      "Cell \u001b[1;32mIn[28], line 17\u001b[0m, in \u001b[0;36mmmd_two_samples\u001b[1;34m(x, y)\u001b[0m\n\u001b[0;32m     14\u001b[0m yy \u001b[39m=\u001b[39m rbf_kernel(y, y, gamma\u001b[39m.\u001b[39mitem())\n\u001b[0;32m     15\u001b[0m xy \u001b[39m=\u001b[39m rbf_kernel(x, y, gamma\u001b[39m.\u001b[39mitem())\n\u001b[1;32m---> 17\u001b[0m \u001b[39mreturn\u001b[39;00m torch\u001b[39m.\u001b[39mtensor(xx\u001b[39m.\u001b[39;49mmean() \u001b[39m+\u001b[39m yy\u001b[39m.\u001b[39mmean() \u001b[39m+\u001b[39m xy\u001b[39m.\u001b[39mmean())\n",
      "\u001b[1;31mKeyboardInterrupt\u001b[0m: "
     ]
    }
   ],
   "source": [
    "results = {}\n",
    "sigmas_2 = np.arange(1, 4, 0.5)\n",
    "with tqdm(sigmas_2, unit=\"Sigma²\", desc=\"Corruption\") as tq:\n",
    "    for sigma_2 in tq:\n",
    "        print(sigma_2)\n",
    "        results[sigma_2] = {}\n",
    "        (\n",
    "            results[sigma_2][\"npe_samples_x\"],\n",
    "            results[sigma_2][\"npe_samples_y\"],\n",
    "            results[sigma_2][\"theoritical_post_y_l\"],\n",
    "            results[sigma_2][\"rnpe_samples\"],\n",
    "            results[sigma_2][\"rnpe_mmd_t0\"],\n",
    "            results[sigma_2][\"rnpe_mmd_h0\"],\n",
    "            results[sigma_2][\"npe_mmd_t0\"],\n",
    "            results[sigma_2][\"npe_mmd_h0\"],\n",
    "        ) = compute_rnpe_npe(Gaussian, sigma_2)"
   ]
  },
  {
   "cell_type": "code",
   "execution_count": null,
   "metadata": {},
   "outputs": [
    {
     "data": {
      "application/vnd.jupyter.widget-view+json": {
       "model_id": "b0fbeae4854c40c0ae690f35d96c0de5",
       "version_major": 2,
       "version_minor": 0
      },
      "text/plain": [
       "interactive(children=(Dropdown(description='sigma_2', options=(1.0, 1.5, 2.0, 2.5, 3.0, 3.5), value=1.0), Outp…"
      ]
     },
     "metadata": {},
     "output_type": "display_data"
    }
   ],
   "source": [
    "@widgets.interact(sigma_2=sigmas_2)\n",
    "def plot_posteriors_widget(sigma_2=1):\n",
    "    plt.close()\n",
    "    fig, ax = plt.subplots()\n",
    "    ax.hist(\n",
    "        results[sigma_2][\"npe_samples_y\"].squeeze(),\n",
    "        bins=400,\n",
    "        color=\"green\",\n",
    "        density=True,\n",
    "        label=\"Posterior samples from NPE\",\n",
    "        alpha=0.5,\n",
    "    )\n",
    "    ax.hist(\n",
    "        results[sigma_2][\"rnpe_samples\"].squeeze(),\n",
    "        bins=400,\n",
    "        color=\"red\",\n",
    "        density=True,\n",
    "        label=\"Posterior samples from RNPE\",\n",
    "        alpha=0.5,\n",
    "    )\n",
    "    ax.plot(theta_grid, results[sigma_2][\"theoritical_post_y\"])\n",
    "    ax.legend()\n",
    "    ax.set_title(f\"NPE and RNPE samples, sigma_y² = {sigma_2}\")\n",
    "    plt.show()"
   ]
  },
  {
   "cell_type": "code",
   "execution_count": null,
   "metadata": {},
   "outputs": [
    {
     "data": {
      "text/plain": [
       "dict_keys(['npe_samples_x', 'npe_samples_y', 'theoritical_post_y', 'rnpe_samples', 'rnpe_mmd_t0', 'rnpe_mmd_h0', 'npe_mmd_t0', 'npe_mmd_h0'])"
      ]
     },
     "execution_count": 28,
     "metadata": {},
     "output_type": "execute_result"
    }
   ],
   "source": [
    "results[1].keys()"
   ]
  },
  {
   "cell_type": "code",
   "execution_count": null,
   "metadata": {},
   "outputs": [
    {
     "name": "stdout",
     "output_type": "stream",
     "text": [
      "False\n",
      "False\n",
      "False\n",
      "False\n",
      "False\n",
      "False\n"
     ]
    },
    {
     "data": {
      "image/png": "[encoded data removed]",
      "text/plain": [
       "<Figure size 640x480 with 1 Axes>"
      ]
     },
     "metadata": {},
     "output_type": "display_data"
    }
   ],
   "source": [
    "for _ in sigmas_2:\n",
    "    print(results[_][\"npe_mmd_h0\"])\n",
    "    plt.scatter(_, results[_][\"npe_mmd_t0\"], c=results[_][\"npe_mmd_h0\"])"
   ]
  },
  {
   "cell_type": "code",
   "execution_count": null,
   "metadata": {},
   "outputs": [
    {
     "name": "stdout",
     "output_type": "stream",
     "text": [
      "False\n",
      "False\n",
      "False\n",
      "False\n",
      "False\n",
      "False\n"
     ]
    },
    {
     "data": {
      "image/png": "[encoded data removed]",
      "text/plain": [
       "<Figure size 640x480 with 1 Axes>"
      ]
     },
     "metadata": {},
     "output_type": "display_data"
    }
   ],
   "source": [
    "for _ in sigmas_2:\n",
    "    print(results[_][\"rnpe_mmd_h0\"])\n",
    "    plt.scatter(_, results[_][\"rnpe_mmd_t0\"], c=results[_][\"rnpe_mmd_h0\"])"
   ]
  }
 ],
 "metadata": {
  "kernelspec": {
   "display_name": "sbi_env1",
   "language": "python",
   "name": "python3"
  },
  "language_info": {
   "codemirror_mode": {
    "name": "ipython",
    "version": 3
   },
   "file_extension": ".py",
   "mimetype": "text/x-python",
   "name": "python",
   "nbconvert_exporter": "python",
   "pygments_lexer": "ipython3",
   "version": "3.11.3"
  },
  "orig_nbformat": 4
 },
 "nbformat": 4,
 "nbformat_minor": 2
}
