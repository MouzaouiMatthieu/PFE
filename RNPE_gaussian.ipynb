{
 "cells": [
  {
   "cell_type": "code",
   "execution_count": 1,
   "metadata": {},
   "outputs": [],
   "source": [
    "import torch\n",
    "import matplotlib.pyplot as plt\n",
    "import numpy as np\n",
    "import scipy.integrate as integrate\n",
    "\n",
    "import ipywidgets as widgets\n",
    "from IPython.display import display\n",
    "import pickle\n",
    "\n",
    "\n",
    "import torch\n",
    "\n",
    "import matplotlib.pyplot as plt\n",
    "\n",
    "import pandas as pd\n",
    "from functools import partial\n",
    "\n",
    "import zuko\n",
    "import lampe.inference\n",
    "import lampe.utils\n",
    "from tqdm.notebook import tqdm_notebook as tqdm\n",
    "from lampe.utils import GDStep\n",
    "\n",
    "from itertools import islice\n",
    "from lampe.data import JointLoader"
   ]
  },
  {
   "cell_type": "code",
   "execution_count": 2,
   "metadata": {},
   "outputs": [],
   "source": [
    "theta_true = torch.Tensor([0])\n",
    "prior = torch.distributions.Normal(0, 5)\n",
    "N=100\n",
    "theta_grid = np.linspace(-8,8,1000)\n",
    "N_simu =  50_000"
   ]
  },
  {
   "cell_type": "code",
   "execution_count": 3,
   "metadata": {},
   "outputs": [],
   "source": [
    "M = 100_000\n",
    "warm_up_steps =  20_000\n",
    "\n",
    "sigma = 0.01\n",
    "tau = 0.25\n",
    "rho = 1/2"
   ]
  },
  {
   "cell_type": "code",
   "execution_count": 4,
   "metadata": {},
   "outputs": [],
   "source": [
    "\n",
    "def posterior_summaries(thetas, x1, x2,sigma_2_y=1):\n",
    "\n",
    "    \"\"\"Posterior when observing x= mean(z1...zn), var(z1...zn)\"\"\"\n",
    "    def improper_posterior_summaries(theta,x1=x1,x2=x2):\n",
    "        likelihood_x1_part = -N*np.square(theta - x1)/(2*sigma_2_y**2)\n",
    "        likelihood_x2_part = -0.5*np.square(sigma_2_y - x2)/(2*np.square(sigma_2_y)/N)\n",
    "        prior_part = -np.square(theta)/50\n",
    "        return np.exp(likelihood_x1_part)*np.exp(likelihood_x2_part)*np.exp(prior_part)\n",
    "    z_summaries, eps = integrate.quad(improper_posterior_summaries, -25, 25)\n",
    "    return [improper_posterior_summaries(theta,x1,x2)/z_summaries for theta in thetas]"
   ]
  },
  {
   "cell_type": "code",
   "execution_count": 5,
   "metadata": {},
   "outputs": [],
   "source": [
    "def get_true_post(task_name, x_star,sigma_y_2=1):\n",
    "    theta_grid_t =theta_grid  # Convert theta_grid to a torch tensor\n",
    "\n",
    "\n",
    "    # We observe x = (x1, x2) = (mean, var)\n",
    "    post = posterior_summaries(theta_grid_t, x_star[0], x_star[1],sigma_y_2) \n",
    "\n",
    "   # post = torch.stack(post).cuda()  # Move post to CUDA\n",
    "    return post\n"
   ]
  },
  {
   "cell_type": "code",
   "execution_count": 6,
   "metadata": {},
   "outputs": [],
   "source": [
    "device=torch.device(\"cuda\" if torch.cuda.is_available() else \"cpu\")"
   ]
  },
  {
   "cell_type": "code",
   "execution_count": 7,
   "metadata": {},
   "outputs": [],
   "source": [
    "class Gaussian():\n",
    "    \n",
    "    def __init__(self, theta_true, N_simu, sigma_y_2) -> None:\n",
    "        self.name = \"Gaussian\"\n",
    "        self.prior = torch.distributions.Normal(0,5)\n",
    "        self.theta_true = theta_true\n",
    "        self.sigma_y_2 = sigma_y_2\n",
    "        data = self.generate_data(N_simu, sigma_y_2)\n",
    "        data_test = self.generate_data(N_simu//10, sigma_y_2)\n",
    "        true_obs_data = self.generate_data(1,sigma_y_2)\n",
    "        x0 = true_obs_data[\"x\"]\n",
    "        y0 = x0 + true_obs_data[\"eps\"]\n",
    "        x0_scaled = (x0 - data[\"scale_parameters\"][0])/data[\"scale_parameters\"][1]\n",
    "        y0_scaled = (y0 - data[\"scale_parameters\"][0])/data[\"scale_parameters\"][1]\n",
    "        \n",
    "        self.data = data\n",
    "        self.data_test= data_test\n",
    "        self.x0 = x0.squeeze()\n",
    "        self.y0 = y0.squeeze()\n",
    "        self.x0_scaled = x0_scaled\n",
    "        self.y0_scaled = y0_scaled\n",
    "    def prior_sample(self, n):\n",
    "        return self.prior.sample((n, ))\n",
    "    \n",
    "    def generate_data(self, N, sigma_y_2=1):\n",
    "        thetas = self.prior_sample(N)\n",
    "        sigma_eps = sigma_y_2-1\n",
    "        res = {}\n",
    "        res[\"theta\"] = thetas\n",
    "        means_and_vars = torch.zeros((N, 2), device=device)\n",
    "        \n",
    "        for i, theta in enumerate(thetas):\n",
    "            z = torch.distributions.Normal(theta, 1).sample((100,)).to(device)\n",
    "            mean = z.mean()\n",
    "            var = z.var()\n",
    "            means_and_vars[i] = torch.stack([mean.unsqueeze_(0), var.unsqueeze_(0)]).squeeze_()\n",
    "\n",
    "        res[\"x\"] = means_and_vars\n",
    "\n",
    "        norm_max = -1\n",
    "        for n_run in range(10):\n",
    "            eps = torch.distributions.Normal(torch.zeros_like(res[\"x\"]), np.sqrt(sigma_eps)).sample().to(device)\n",
    "            if torch.norm(eps) > norm_max:\n",
    "                epsilons = eps\n",
    "                norm_max = torch.norm(eps)\n",
    "        res[\"eps\"] = epsilons\n",
    "        scale_mean, scale_std = res[\"x\"].mean(0), res[\"x\"].std(0)\n",
    "        res[\"scale_parameters\"] = scale_mean, scale_std\n",
    "        res[\"scaled_x\"] = (res[\"x\"] - scale_mean) / scale_std\n",
    "        return res\n",
    "    \n",
    "    def true_post(self, x_star, sigma_2_y=None):\n",
    "        if sigma_2_y is None:\n",
    "            sigma_2_y = self.sigma_y_2\n",
    "        theta_grid_t = np.linspace(-8,8,1000)\n",
    "        post = posterior_summaries(theta_grid_t, x_star[0], x_star[1],sigma_2_y) \n",
    "        return post\n",
    "        "
   ]
  },
  {
   "cell_type": "code",
   "execution_count": 8,
   "metadata": {},
   "outputs": [],
   "source": [
    "sigma_2_y = 2"
   ]
  },
  {
   "cell_type": "code",
   "execution_count": 9,
   "metadata": {},
   "outputs": [],
   "source": [
    "def scale(quantity):\n",
    "    mean = quantity.mean(0)\n",
    "    std = quantity.std(0)\n",
    "    return (quantity-mean)/std, mean, std\n"
   ]
  },
  {
   "cell_type": "code",
   "execution_count": 10,
   "metadata": {},
   "outputs": [],
   "source": [
    "def build_nsf(features, context):\n",
    "    \"\"\"Callable to instantiate the NPE with NSFs\"\"\"\n",
    "    return zuko.flows.NSF(features, context, bins=10, transforms=5).to(device)\n",
    "\n",
    "def train_flow(flow, loss, theta, x, theta_test, x_test):\n",
    "    optimizer = torch.optim.Adam(flow.parameters(), lr=5e-3)\n",
    "    theta_test = theta_test.unsqueeze(-1).to(device)\n",
    "    data = lampe.data.JointDataset(theta.to(device), x.to(device))\n",
    "    loader = lampe.data.DataLoader(data, 256)\n",
    "    \n",
    "    with torch.no_grad():\n",
    "        min_loss = loss(theta_test, x_test.to(device))\n",
    "    min_loss_list = [min_loss.item()]  # Convert min_loss to a scalar\n",
    "    \n",
    "    flow.train()\n",
    "\n",
    "    for epoch in range(50):\n",
    "        for theta_batch, x_batch in loader:\n",
    "            theta_batch = theta_batch.unsqueeze(-1).to(device)\n",
    "            x_batch = x_batch.to(device)\n",
    "            losses = loss(theta_batch, x_batch)\n",
    "            optimizer.zero_grad()\n",
    "            losses.backward()\n",
    "            optimizer.step()\n",
    "        \n",
    "        # Checking for early stopping\n",
    "        with torch.no_grad():\n",
    "            loss_test = loss(theta_test, x_test.to(device))\n",
    "            min_loss_list.append(loss_test.item())  # Convert loss_test to a scalar\n",
    "            if len(min_loss_list) - np.argmin(min_loss_list) > 5: # No improvement in loss(test) for the last 5 iterations\n",
    "                # Early stop  \n",
    "\n",
    "                break\n",
    "\n",
    "    flow.eval()\n",
    "    return flow\n",
    "\n",
    "def create_train_flow(task, data, data_test):\n",
    "    theta = data[\"theta\"]\n",
    "    theta_test = data_test[\"theta\"]\n",
    "    shape_x = lambda x: 2 if x == \"Gaussian\" or x == \"two_z\" else 1\n",
    "    flow = lampe.inference.NPE(theta_dim=1, x_dim=shape_x(task.name), build=build_nsf).to(device)\n",
    "    loss = lampe.inference.NPELoss(flow).to(device)\n",
    "    x = data[\"scaled_x\"].to(device)\n",
    "    x_test = data_test[\"scaled_x\"].to(device)\n",
    "    flow = train_flow(flow, loss, theta, x, theta_test, x_test)\n",
    "    return flow\n",
    "\n",
    "\n",
    "task = Gaussian(theta_true=0,N_simu=N_simu,sigma_y_2= sigma_2_y)\n",
    "data = task.data\n",
    "data_test = task.data_test\n",
    "q_NPE = create_train_flow(task, data, data_test) \n"
   ]
  },
  {
   "cell_type": "code",
   "execution_count": 11,
   "metadata": {},
   "outputs": [],
   "source": [
    "def train_unconditional_flow(flow, loss, x, x_test):\n",
    "    optimizer = torch.optim.Adam(flow.parameters(), lr=1e-2)\n",
    "    loader = torch.utils.data.DataLoader(x.to(device), 256)\n",
    "    \n",
    "    with torch.no_grad():\n",
    "        min_loss = loss(x_test.to(device))\n",
    "    min_loss_list = [min_loss.item()]  # Convert min_loss to a scalar\n",
    "    \n",
    "    flow.train()\n",
    "\n",
    "\n",
    "    for epoch in range(50):\n",
    "        for x_batch in loader:\n",
    "            x_batch = x_batch.to(device)\n",
    "            losses = loss(x_batch)\n",
    "            optimizer.zero_grad()\n",
    "            losses.backward()\n",
    "            optimizer.step()\n",
    "        \n",
    "        # Checking for early stopping\n",
    "        with torch.no_grad():\n",
    "            loss_test = loss(x_test.to(device))\n",
    "            min_loss_list.append(loss_test.item())  # Convert loss_test to a scalar\n",
    "            if len(min_loss_list) - np.argmin(min_loss_list) > 5: # No improvement in loss(test) for the last 5 iterations\n",
    "                # Early stop  \n",
    "\n",
    "                break\n",
    "    flow.eval()\n",
    "    return flow\n",
    "\n",
    "def create_train_unconditional_flow(task, data, data_test):\n",
    "    shape_x = lambda x: 2 if x == \"Gaussian\" or x == \"two_z\" else 1\n",
    "    flow = zuko.flows.NAF(features=shape_x(task.name), context=0).to(device) #!\n",
    "    loss = lambda x: -flow().log_prob(x).mean()\n",
    "    x = data[\"scaled_x\"].to(device)\n",
    "    x_test = data_test[\"scaled_x\"].to(device)\n",
    "    flow = train_unconditional_flow(flow, loss, x, x_test)\n",
    "    return flow\n",
    "\n",
    "\n",
    "q_x_NF = create_train_unconditional_flow(task, data, data_test)\n"
   ]
  },
  {
   "cell_type": "code",
   "execution_count": 12,
   "metadata": {},
   "outputs": [],
   "source": [
    "npe_samples_x = q_NPE.flow(task.x0_scaled).sample((20_000,))\n",
    "\n",
    "true_post = task.true_post(task.x0.squeeze().cpu().numpy())\n",
    "\n",
    "npe_samples_y = q_NPE.flow(task.y0_scaled).sample((20_000,))\n",
    "\n",
    "theoritical_post_y = task.true_post(task.y0.squeeze().cpu().numpy(),sigma_2_y)"
   ]
  },
  {
   "cell_type": "code",
   "execution_count": 13,
   "metadata": {},
   "outputs": [
    {
     "data": {
      "image/png": "[encoded data removed]",
      "text/plain": [
       "<Figure size 640x480 with 1 Axes>"
      ]
     },
     "metadata": {},
     "output_type": "display_data"
    }
   ],
   "source": [
    "fig, ax = plt.subplots()\n",
    "ax.hist(npe_samples_x.cpu().squeeze().cpu().numpy(), bins=400, density=True, label=\"Samples from q_(θ|x=x0)\") #!\n",
    "ax.plot(theta_grid, true_post, label=\"Theoretical posterior p(θ|x=x0)\")\n",
    "ax.hist(npe_samples_y.cpu().squeeze().numpy(), bins=400, density=True, label=\"Samples from q(θ|x=y0)\")\n",
    "ax.plot(theta_grid, theoritical_post_y, label=\"Theoretical posterior p(θ|x=y0)\")\n",
    "\n",
    "ax.set_title(\"Posteriors q and p\")\n",
    "#ax.set_xlim(3, 6)\n",
    "ax.legend()\n",
    "plt.show()"
   ]
  },
  {
   "cell_type": "code",
   "execution_count": 14,
   "metadata": {},
   "outputs": [],
   "source": [
    "from itertools import islice"
   ]
  },
  {
   "cell_type": "code",
   "execution_count": 15,
   "metadata": {},
   "outputs": [],
   "source": [
    "\n",
    "import torch.distributions as dist\n",
    "\n",
    "\n",
    "\n",
    "# Define the proposal function\n",
    "def proposal(x_curr):\n",
    "\n",
    "    return x_curr + dist.Normal(0, 1).sample(x_curr.shape).to(device)\n",
    "\n",
    "# Define the f function\n",
    "def f(y0, x, rho, sigma, tau, q_x_NF):\n",
    "    D = x.shape[-1]\n",
    "    res = torch.zeros_like(x)\n",
    "    for j in range(D):\n",
    "        xj = x[:,j]\n",
    "        yj = y0[j]\n",
    "        zj = dist.Bernoulli(rho).sample().to(device)\n",
    "        if not zj:\n",
    "            spike_dist = dist.Normal(xj.detach(), torch.tensor(sigma).to(device))\n",
    "            res[:,j] = torch.exp(spike_dist.log_prob(yj))\n",
    "        else:\n",
    "            slab_dist = dist.Cauchy(xj.detach(), torch.tensor(tau).to(device))\n",
    "            res[:,j] = torch.exp(slab_dist.log_prob(yj))\n",
    "    return res * torch.exp(q_x_NF().log_prob(x))\n",
    "\n",
    "def mcmc(x0, warm_up_steps, M, y0, rho, sigma, tau, q_x_NF):\n",
    "\n",
    "    x_curr = x0.to(device)\n",
    "    my_samples = torch.empty((warm_up_steps + M, x0.shape[1])).to(device)\n",
    "    log_f_x_curr = f(y0, x_curr, rho, sigma, tau, q_x_NF).log()\n",
    "    \n",
    "    for i in tqdm(range(warm_up_steps + M)):\n",
    "        x_star = proposal(x_curr)\n",
    "        log_f_x_star = f(y0, x_star, rho, sigma, tau, q_x_NF).log()\n",
    "\n",
    "        log_a = log_f_x_star - log_f_x_curr\n",
    "\n",
    "        a = torch.exp(log_a)\n",
    "\n",
    "        u = torch.FloatTensor(a.shape).uniform_().to(device)\n",
    "\n",
    "        mask = u < a\n",
    "\n",
    "        x_curr = torch.where(mask, x_star, x_curr)\n",
    "        log_f_x_curr = torch.where(mask, log_f_x_star, log_f_x_curr)\n",
    "\n",
    "      #  my_samples[i] = x_curr\n",
    "        my_samples[i] = x_curr\n",
    "\n",
    "\n",
    "    my_samples = my_samples[warm_up_steps:]\n",
    "    #my_samples = torch.stack(my_samples)\n",
    "    return my_samples\n",
    "\n"
   ]
  },
  {
   "cell_type": "code",
   "execution_count": 16,
   "metadata": {},
   "outputs": [
    {
     "data": {
      "application/vnd.jupyter.widget-view+json": {
       "model_id": "9efc27a1e76048839cafda9232d6ea15",
       "version_major": 2,
       "version_minor": 0
      },
      "text/plain": [
       "  0%|          | 0/120000 [00:00<?, ?it/s]"
      ]
     },
     "metadata": {},
     "output_type": "display_data"
    }
   ],
   "source": [
    "with torch.no_grad():\n",
    "    xm = mcmc(torch.zeros(1,2).to(device), warm_up_steps, M, task.y0_scaled.squeeze().to(device), rho, sigma, tau, q_x_NF)\n"
   ]
  },
  {
   "cell_type": "code",
   "execution_count": 17,
   "metadata": {},
   "outputs": [
    {
     "data": {
      "text/plain": [
       "<matplotlib.legend.Legend at 0x1da48481110>"
      ]
     },
     "execution_count": 17,
     "metadata": {},
     "output_type": "execute_result"
    },
    {
     "data": {
      "image/png": "[encoded data removed]",
      "text/plain": [
       "<Figure size 640x480 with 1 Axes>"
      ]
     },
     "metadata": {},
     "output_type": "display_data"
    }
   ],
   "source": [
    "fig, ax = plt.subplots()\n",
    "\n",
    "ax.scatter(x=data[\"scaled_x\"][:,0].cpu(),y=data[\"scaled_x\"][:,1].cpu(), color=\"blue\", label=\"Simulator outputs\", s=1)\n",
    "ax.scatter(x=xm[:,0].cpu(),y=xm[:,1].cpu(), label=\"Denoised outputs from the MCMC sampler\", color=\"yellow\", s=1)\n",
    "ax.scatter(x=task.y0_scaled.cpu()[:,0],y=task.y0_scaled.cpu()[:,1], label=\"y0 scaled\", color=\"green\", s=20)\n",
    "ax.set_xlabel(\"Mean (z1,...,zn)\")\n",
    "ax.set_ylabel(\"Var(z1,...,zn)\")\n",
    "ax.set_title(\"Simulated and denoised x, scaled version\")\n",
    "ax.legend(bbox_to_anchor=(1.04, 1), loc=\"upper left\")"
   ]
  },
  {
   "cell_type": "code",
   "execution_count": 18,
   "metadata": {},
   "outputs": [],
   "source": [
    "rnpe_samples = q_NPE.flow(xm).sample()"
   ]
  },
  {
   "cell_type": "code",
   "execution_count": 19,
   "metadata": {},
   "outputs": [],
   "source": [
    "true_post_y = posterior_summaries(theta_grid, task.y0.cpu().squeeze()[0].item(),task.y0.cpu().squeeze()[1].item(),sigma_2_y)"
   ]
  },
  {
   "cell_type": "code",
   "execution_count": 20,
   "metadata": {},
   "outputs": [],
   "source": [
    "npe_samples = q_NPE.flow(task.y0_scaled).sample((20_000,))\n",
    "true_post = task.true_post(task.y0.squeeze().cpu().numpy(),sigma_2_y)\n"
   ]
  },
  {
   "cell_type": "code",
   "execution_count": 21,
   "metadata": {},
   "outputs": [
    {
     "data": {
      "text/plain": [
       "(-2.0, 2.0)"
      ]
     },
     "execution_count": 21,
     "metadata": {},
     "output_type": "execute_result"
    },
    {
     "data": {
      "image/png": "[encoded data removed]",
      "text/plain": [
       "<Figure size 640x480 with 1 Axes>"
      ]
     },
     "metadata": {},
     "output_type": "display_data"
    }
   ],
   "source": [
    "plt.hist(npe_samples.squeeze().cpu(),bins=200, density=True,color=\"green\",alpha=0.5,label=\"NPE samples q(θ|y0)\")\n",
    "plt.hist(rnpe_samples.squeeze().cpu(),bins=200, density=True, color=\"red\",alpha=0.5, label=\"RNPE samples q(θ|y0)\")\n",
    "plt.plot(theta_grid,true_post_y,color='yellow', label=\" p(θ|y0) under the true DGP\")\n",
    "plt.xlim(-2,2)"
   ]
  },
  {
   "cell_type": "code",
   "execution_count": 22,
   "metadata": {},
   "outputs": [
    {
     "data": {
      "text/plain": [
       "2"
      ]
     },
     "execution_count": 22,
     "metadata": {},
     "output_type": "execute_result"
    }
   ],
   "source": [
    "sigma_2_y"
   ]
  },
  {
   "cell_type": "code",
   "execution_count": 23,
   "metadata": {},
   "outputs": [],
   "source": [
    "def compute_distances(true_post_density,sample):\n",
    "    true_post_samples = np.random.choice(theta_grid,size=100_000,p=true_post_density/sum(true_post_density))\n",
    "    mean_true, std_true = np.mean(true_post_samples), np.std(true_post_samples)\n",
    "    mean_sample, std_sample = np.mean(sample), np.std(sample)\n",
    "    return np.square(mean_true-mean_sample) +np.square(np.log(std_true/std_sample))"
   ]
  },
  {
   "cell_type": "code",
   "execution_count": 24,
   "metadata": {},
   "outputs": [
    {
     "data": {
      "text/plain": [
       "11.215393563252244"
      ]
     },
     "execution_count": 24,
     "metadata": {},
     "output_type": "execute_result"
    }
   ],
   "source": [
    "compute_distances(true_post_y, rnpe_samples.cpu().numpy())"
   ]
  },
  {
   "cell_type": "code",
   "execution_count": 25,
   "metadata": {},
   "outputs": [
    {
     "data": {
      "application/vnd.jupyter.widget-view+json": {
       "model_id": "2b3aa77e532941a4937581ee4c0fdef9",
       "version_major": 2,
       "version_minor": 0
      },
      "text/plain": [
       "  0%|          | 0/5 [00:00<?, ?it/s]"
      ]
     },
     "metadata": {},
     "output_type": "display_data"
    },
    {
     "name": "stdout",
     "output_type": "stream",
     "text": [
      "\n"
     ]
    },
    {
     "data": {
      "application/vnd.jupyter.widget-view+json": {
       "model_id": "2912013e0d0941aa8db148f33223e6ca",
       "version_major": 2,
       "version_minor": 0
      },
      "text/plain": [
       "  0%|          | 0/120000 [00:00<?, ?it/s]"
      ]
     },
     "metadata": {},
     "output_type": "display_data"
    },
    {
     "name": "stdout",
     "output_type": "stream",
     "text": [
      "\n"
     ]
    },
    {
     "data": {
      "application/vnd.jupyter.widget-view+json": {
       "model_id": "1113daf4125f4854a2239e63923df6be",
       "version_major": 2,
       "version_minor": 0
      },
      "text/plain": [
       "  0%|          | 0/120000 [00:00<?, ?it/s]"
      ]
     },
     "metadata": {},
     "output_type": "display_data"
    },
    {
     "name": "stdout",
     "output_type": "stream",
     "text": [
      "\n"
     ]
    },
    {
     "data": {
      "application/vnd.jupyter.widget-view+json": {
       "model_id": "fa73609fafb244e2b60e17f187f29605",
       "version_major": 2,
       "version_minor": 0
      },
      "text/plain": [
       "  0%|          | 0/120000 [00:00<?, ?it/s]"
      ]
     },
     "metadata": {},
     "output_type": "display_data"
    },
    {
     "name": "stdout",
     "output_type": "stream",
     "text": [
      "\n"
     ]
    },
    {
     "data": {
      "application/vnd.jupyter.widget-view+json": {
       "model_id": "b8ac7debdbf546cbb93c8421a259d4ef",
       "version_major": 2,
       "version_minor": 0
      },
      "text/plain": [
       "  0%|          | 0/120000 [00:00<?, ?it/s]"
      ]
     },
     "metadata": {},
     "output_type": "display_data"
    },
    {
     "name": "stdout",
     "output_type": "stream",
     "text": [
      "\n"
     ]
    },
    {
     "data": {
      "application/vnd.jupyter.widget-view+json": {
       "model_id": "d28b8ecb73564f41a221f3c9c67f80cf",
       "version_major": 2,
       "version_minor": 0
      },
      "text/plain": [
       "  0%|          | 0/120000 [00:00<?, ?it/s]"
      ]
     },
     "metadata": {},
     "output_type": "display_data"
    }
   ],
   "source": [
    "def compute_rnpe_npe(task_name, sigma_2):\n",
    "    \n",
    "    n_runs = 5\n",
    "    \n",
    "    norm_npe_rnpe = []\n",
    "    npe_samples_x_l=  []\n",
    "    npe_samples_y_l= []\n",
    "    theoritical_post_y_l = []\n",
    "    rnpe_samples_l = []\n",
    "    \n",
    "    for _ in tqdm(range(n_runs), leave=False):\n",
    "        task = Gaussian(theta_true=0, N_simu=N_simu, sigma_y_2= sigma_2) #TODO Changer selon task_name\n",
    "        data = task.data\n",
    "        data_test = task.data_test\n",
    "        q_NPE = create_train_flow(task, data, data_test)\n",
    "        q_x_NF = create_train_unconditional_flow(task, data, data_test)\n",
    "        with torch.no_grad():\n",
    "            print()\n",
    "            xm = mcmc(torch.zeros(1,2).to(device), warm_up_steps, M, task.y0_scaled.squeeze().to(device), rho, sigma, tau, q_x_NF)\n",
    "        \n",
    "        npe_samples_x = q_NPE.flow(task.x0_scaled).sample((M, ))\n",
    "        npe_samples_y = q_NPE.flow(task.y0_scaled).sample((M,))\n",
    "        theoritical_post_y = task.true_post(task.y0.squeeze().cpu().numpy(), sigma_2)\n",
    "        rnpe_samples = q_NPE.flow(xm).sample()\n",
    "        norm_npe_rnpe.append(npe_samples_y.mean() - rnpe_samples.mean())\n",
    "        \n",
    "        npe_samples_x_l.append(npe_samples_x)\n",
    "        npe_samples_y_l.append(npe_samples_x)\n",
    "        theoritical_post_y_l.append(theoritical_post_y)\n",
    "        rnpe_samples_l.append(rnpe_samples)\n",
    "    imax = np.argmax(norm_npe_rnpe)\n",
    "    npe_samples_x = npe_samples_x_l[imax]\n",
    "    npe_samples_y = npe_samples_y_l[imax]\n",
    "    theoritical_post_y = theoritical_post_y_l[imax]\n",
    "    rnpe_samples = rnpe_samples_l[imax]\n",
    "    return npe_samples_x, npe_samples_y, theoritical_post_y_l, rnpe_samples\n",
    "            \n",
    "npe_samples_x, npe_samples_y, theoritical_post_y_l, rnpe_samples = compute_rnpe_npe(\"Gaussian\", 2)         "
   ]
  },
  {
   "cell_type": "code",
   "execution_count": 26,
   "metadata": {},
   "outputs": [
    {
     "data": {
      "application/vnd.jupyter.widget-view+json": {
       "model_id": "803c4d50e00b414a8592d5c13a08543e",
       "version_major": 2,
       "version_minor": 0
      },
      "text/plain": [
       "Corruption:   0%|          | 0/6 [00:00<?, ?Sigma²/s]"
      ]
     },
     "metadata": {},
     "output_type": "display_data"
    },
    {
     "name": "stdout",
     "output_type": "stream",
     "text": [
      "1.0\n"
     ]
    },
    {
     "data": {
      "application/vnd.jupyter.widget-view+json": {
       "model_id": "ba0fc08eb81a493a9097c7310430a50d",
       "version_major": 2,
       "version_minor": 0
      },
      "text/plain": [
       "  0%|          | 0/5 [00:00<?, ?it/s]"
      ]
     },
     "metadata": {},
     "output_type": "display_data"
    },
    {
     "name": "stdout",
     "output_type": "stream",
     "text": [
      "\n"
     ]
    },
    {
     "data": {
      "application/vnd.jupyter.widget-view+json": {
       "model_id": "bd32aa3c5bc249b2ac0144a4d704bd60",
       "version_major": 2,
       "version_minor": 0
      },
      "text/plain": [
       "  0%|          | 0/120000 [00:00<?, ?it/s]"
      ]
     },
     "metadata": {},
     "output_type": "display_data"
    },
    {
     "name": "stdout",
     "output_type": "stream",
     "text": [
      "\n"
     ]
    },
    {
     "data": {
      "application/vnd.jupyter.widget-view+json": {
       "model_id": "c69e4c8f0c21472c8a55822c3c5230d2",
       "version_major": 2,
       "version_minor": 0
      },
      "text/plain": [
       "  0%|          | 0/120000 [00:00<?, ?it/s]"
      ]
     },
     "metadata": {},
     "output_type": "display_data"
    },
    {
     "name": "stdout",
     "output_type": "stream",
     "text": [
      "\n"
     ]
    },
    {
     "data": {
      "application/vnd.jupyter.widget-view+json": {
       "model_id": "c1c1fe5ae341465fb39727bd11c36af6",
       "version_major": 2,
       "version_minor": 0
      },
      "text/plain": [
       "  0%|          | 0/120000 [00:00<?, ?it/s]"
      ]
     },
     "metadata": {},
     "output_type": "display_data"
    },
    {
     "name": "stdout",
     "output_type": "stream",
     "text": [
      "\n"
     ]
    },
    {
     "data": {
      "application/vnd.jupyter.widget-view+json": {
       "model_id": "b13f7325be4f466caf351f9b69479f61",
       "version_major": 2,
       "version_minor": 0
      },
      "text/plain": [
       "  0%|          | 0/120000 [00:00<?, ?it/s]"
      ]
     },
     "metadata": {},
     "output_type": "display_data"
    },
    {
     "name": "stdout",
     "output_type": "stream",
     "text": [
      "\n"
     ]
    },
    {
     "data": {
      "application/vnd.jupyter.widget-view+json": {
       "model_id": "e87767a301874728bdba30c7b792c5de",
       "version_major": 2,
       "version_minor": 0
      },
      "text/plain": [
       "  0%|          | 0/120000 [00:00<?, ?it/s]"
      ]
     },
     "metadata": {},
     "output_type": "display_data"
    },
    {
     "name": "stdout",
     "output_type": "stream",
     "text": [
      "1.5\n"
     ]
    },
    {
     "data": {
      "application/vnd.jupyter.widget-view+json": {
       "model_id": "a46acfe794ec45149d98d07c2f77c96e",
       "version_major": 2,
       "version_minor": 0
      },
      "text/plain": [
       "  0%|          | 0/5 [00:00<?, ?it/s]"
      ]
     },
     "metadata": {},
     "output_type": "display_data"
    },
    {
     "name": "stdout",
     "output_type": "stream",
     "text": [
      "\n"
     ]
    },
    {
     "data": {
      "application/vnd.jupyter.widget-view+json": {
       "model_id": "d087e2b77ce3454f903bab516c2d8bb2",
       "version_major": 2,
       "version_minor": 0
      },
      "text/plain": [
       "  0%|          | 0/120000 [00:00<?, ?it/s]"
      ]
     },
     "metadata": {},
     "output_type": "display_data"
    },
    {
     "name": "stdout",
     "output_type": "stream",
     "text": [
      "\n"
     ]
    },
    {
     "data": {
      "application/vnd.jupyter.widget-view+json": {
       "model_id": "befbb5c53d504ce6b38c34de5ba599cb",
       "version_major": 2,
       "version_minor": 0
      },
      "text/plain": [
       "  0%|          | 0/120000 [00:00<?, ?it/s]"
      ]
     },
     "metadata": {},
     "output_type": "display_data"
    },
    {
     "name": "stdout",
     "output_type": "stream",
     "text": [
      "\n"
     ]
    },
    {
     "data": {
      "application/vnd.jupyter.widget-view+json": {
       "model_id": "0bdd278a7ad844ee947739884fd1e985",
       "version_major": 2,
       "version_minor": 0
      },
      "text/plain": [
       "  0%|          | 0/120000 [00:00<?, ?it/s]"
      ]
     },
     "metadata": {},
     "output_type": "display_data"
    },
    {
     "name": "stdout",
     "output_type": "stream",
     "text": [
      "\n"
     ]
    },
    {
     "data": {
      "application/vnd.jupyter.widget-view+json": {
       "model_id": "a36db88e1468496cb5a1de189ff4223c",
       "version_major": 2,
       "version_minor": 0
      },
      "text/plain": [
       "  0%|          | 0/120000 [00:00<?, ?it/s]"
      ]
     },
     "metadata": {},
     "output_type": "display_data"
    },
    {
     "name": "stdout",
     "output_type": "stream",
     "text": [
      "\n"
     ]
    },
    {
     "data": {
      "application/vnd.jupyter.widget-view+json": {
       "model_id": "610bcaad8115495b9b7e4ae86883174a",
       "version_major": 2,
       "version_minor": 0
      },
      "text/plain": [
       "  0%|          | 0/120000 [00:00<?, ?it/s]"
      ]
     },
     "metadata": {},
     "output_type": "display_data"
    },
    {
     "name": "stdout",
     "output_type": "stream",
     "text": [
      "2.0\n"
     ]
    },
    {
     "data": {
      "application/vnd.jupyter.widget-view+json": {
       "model_id": "a97e81fe456d4f38bf3b6af851f72ab4",
       "version_major": 2,
       "version_minor": 0
      },
      "text/plain": [
       "  0%|          | 0/5 [00:00<?, ?it/s]"
      ]
     },
     "metadata": {},
     "output_type": "display_data"
    },
    {
     "name": "stdout",
     "output_type": "stream",
     "text": [
      "\n"
     ]
    },
    {
     "data": {
      "application/vnd.jupyter.widget-view+json": {
       "model_id": "80aa4ddba13749d2a28754d66481d124",
       "version_major": 2,
       "version_minor": 0
      },
      "text/plain": [
       "  0%|          | 0/120000 [00:00<?, ?it/s]"
      ]
     },
     "metadata": {},
     "output_type": "display_data"
    },
    {
     "name": "stdout",
     "output_type": "stream",
     "text": [
      "\n"
     ]
    },
    {
     "data": {
      "application/vnd.jupyter.widget-view+json": {
       "model_id": "c6c9ed43905f4f019c789929e89a4e5d",
       "version_major": 2,
       "version_minor": 0
      },
      "text/plain": [
       "  0%|          | 0/120000 [00:00<?, ?it/s]"
      ]
     },
     "metadata": {},
     "output_type": "display_data"
    },
    {
     "name": "stdout",
     "output_type": "stream",
     "text": [
      "\n"
     ]
    },
    {
     "data": {
      "application/vnd.jupyter.widget-view+json": {
       "model_id": "652c7f6063cc4548b68b50defd535085",
       "version_major": 2,
       "version_minor": 0
      },
      "text/plain": [
       "  0%|          | 0/120000 [00:00<?, ?it/s]"
      ]
     },
     "metadata": {},
     "output_type": "display_data"
    },
    {
     "name": "stdout",
     "output_type": "stream",
     "text": [
      "\n"
     ]
    },
    {
     "data": {
      "application/vnd.jupyter.widget-view+json": {
       "model_id": "f1f68b889446401b8243a633eef0933e",
       "version_major": 2,
       "version_minor": 0
      },
      "text/plain": [
       "  0%|          | 0/120000 [00:00<?, ?it/s]"
      ]
     },
     "metadata": {},
     "output_type": "display_data"
    },
    {
     "name": "stdout",
     "output_type": "stream",
     "text": [
      "\n"
     ]
    },
    {
     "data": {
      "application/vnd.jupyter.widget-view+json": {
       "model_id": "bfae8bd7c7a74e648642dbde1979e2d4",
       "version_major": 2,
       "version_minor": 0
      },
      "text/plain": [
       "  0%|          | 0/120000 [00:00<?, ?it/s]"
      ]
     },
     "metadata": {},
     "output_type": "display_data"
    },
    {
     "name": "stdout",
     "output_type": "stream",
     "text": [
      "2.5\n"
     ]
    },
    {
     "data": {
      "application/vnd.jupyter.widget-view+json": {
       "model_id": "fc390fd429b7407c8806d890a7fcbe01",
       "version_major": 2,
       "version_minor": 0
      },
      "text/plain": [
       "  0%|          | 0/5 [00:00<?, ?it/s]"
      ]
     },
     "metadata": {},
     "output_type": "display_data"
    },
    {
     "name": "stdout",
     "output_type": "stream",
     "text": [
      "\n"
     ]
    },
    {
     "data": {
      "application/vnd.jupyter.widget-view+json": {
       "model_id": "e6f236478380490fa14d1db8cee1939b",
       "version_major": 2,
       "version_minor": 0
      },
      "text/plain": [
       "  0%|          | 0/120000 [00:00<?, ?it/s]"
      ]
     },
     "metadata": {},
     "output_type": "display_data"
    },
    {
     "name": "stdout",
     "output_type": "stream",
     "text": [
      "\n"
     ]
    },
    {
     "data": {
      "application/vnd.jupyter.widget-view+json": {
       "model_id": "c6ad68cc0b814509bd86e6bfac25c638",
       "version_major": 2,
       "version_minor": 0
      },
      "text/plain": [
       "  0%|          | 0/120000 [00:00<?, ?it/s]"
      ]
     },
     "metadata": {},
     "output_type": "display_data"
    },
    {
     "name": "stdout",
     "output_type": "stream",
     "text": [
      "\n"
     ]
    },
    {
     "data": {
      "application/vnd.jupyter.widget-view+json": {
       "model_id": "4d063a052fb143eeb94a290aa576924f",
       "version_major": 2,
       "version_minor": 0
      },
      "text/plain": [
       "  0%|          | 0/120000 [00:00<?, ?it/s]"
      ]
     },
     "metadata": {},
     "output_type": "display_data"
    },
    {
     "name": "stdout",
     "output_type": "stream",
     "text": [
      "\n"
     ]
    },
    {
     "data": {
      "application/vnd.jupyter.widget-view+json": {
       "model_id": "7f4a147d731241fa9476e02120c86eb2",
       "version_major": 2,
       "version_minor": 0
      },
      "text/plain": [
       "  0%|          | 0/120000 [00:00<?, ?it/s]"
      ]
     },
     "metadata": {},
     "output_type": "display_data"
    }
   ],
   "source": [
    "results = {}\n",
    "sigmas_2 = np.arange(1,4,0.5)\n",
    "with tqdm(sigmas_2, unit ='Sigma²', desc='Corruption') as tq:\n",
    "    for sigma_2 in tq:\n",
    "        print(sigma_2)\n",
    "        results[sigma_2] = {}\n",
    "        results[sigma_2][\"npe_samples_x\"],results[sigma_2][\"npe_samples_y\"],results[sigma_2][\"theoritical_post_y_l\"],results[sigma_2][\"rnpe_samples\"] =  compute_rnpe_npe(Gaussian, sigma_2)"
   ]
  },
  {
   "cell_type": "code",
   "execution_count": null,
   "metadata": {},
   "outputs": [
    {
     "data": {
      "text/plain": [
       "(array([0.30363359, 0.05320589, 0.03080341, 0.01840168, 0.01200133,\n",
       "        0.01240137, 0.00680075, 0.00760084, 0.00640071, 0.00600066,\n",
       "        0.00680062, 0.00600066, 0.00560062, 0.00600066, 0.00560062,\n",
       "        0.00520058, 0.0072008 , 0.00680062, 0.00600066, 0.01000111,\n",
       "        0.01040115, 0.00600066, 0.00800089, 0.00960106, 0.00680062,\n",
       "        0.01000111, 0.00960106, 0.01240137, 0.01000111, 0.01000111,\n",
       "        0.01240137, 0.00960088, 0.01040115, 0.00840093, 0.01160128,\n",
       "        0.00960106, 0.01240137, 0.01080099, 0.01120124, 0.01000111,\n",
       "        0.01280142, 0.01120124, 0.0136015 , 0.01600162, 0.01400155,\n",
       "        0.01440159, 0.01320133, 0.01200133, 0.01280142, 0.01320146,\n",
       "        0.01520154, 0.01320146, 0.01480164, 0.00880089, 0.01280142,\n",
       "        0.01240137, 0.01120113, 0.01400155, 0.01440159, 0.00920102,\n",
       "        0.0148015 , 0.01520168, 0.01880208, 0.01080109, 0.02240248,\n",
       "        0.0172019 , 0.01560173, 0.01800182, 0.0172019 , 0.02160239,\n",
       "        0.01960198, 0.0208023 , 0.0172019 , 0.02000221, 0.02040206,\n",
       "        0.02000221, 0.01520168, 0.01640166, 0.02120235, 0.01680186,\n",
       "        0.01680186, 0.0208021 , 0.02560283, 0.01800199, 0.02680271,\n",
       "        0.02480274, 0.02400266, 0.02320235, 0.0208023 , 0.03240358,\n",
       "        0.03120345, 0.02320235, 0.02480274, 0.02880319, 0.03080311,\n",
       "        0.02760305, 0.02960327, 0.02560283, 0.02560259, 0.03080341,\n",
       "        0.0316035 , 0.04240429, 0.03080341, 0.03680407, 0.0316035 ,\n",
       "        0.03320336, 0.03400376, 0.02920323, 0.03240328, 0.03920434,\n",
       "        0.03040336, 0.02880319, 0.03440348, 0.02600288, 0.02960327,\n",
       "        0.02960299, 0.03040336, 0.03600398, 0.03440348, 0.03280363,\n",
       "        0.03400376, 0.03760398, 0.0380042 , 0.03560377, 0.03040336,\n",
       "        0.03880411, 0.03960419, 0.03680407, 0.04080432, 0.04360482,\n",
       "        0.04240449, 0.04360462, 0.04640513, 0.04520479, 0.0560062 ,\n",
       "        0.05720606, 0.05560615, 0.05400572, 0.05800614, 0.0524058 ,\n",
       "        0.05840618, 0.0560062 , 0.0652069 , 0.06560695, 0.06440713,\n",
       "        0.07320775, 0.06880761, 0.07920838, 0.07800863, 0.08160864,\n",
       "        0.07720817, 0.07080783, 0.06600699, 0.07080783, 0.08040851,\n",
       "        0.0804089 , 0.075608  , 0.07920838, 0.08560947, 0.07520796,\n",
       "        0.08080875, 0.0896097 , 0.09361013, 0.09561035, 0.09200996,\n",
       "        0.10801143, 0.11561251, 0.11441238, 0.11601256, 0.11721269,\n",
       "        0.12041303, 0.13561436, 0.13001407, 0.14641585, 0.13361446,\n",
       "        0.14281546, 0.12881394, 0.14961619, 0.14041486, 0.12961403,\n",
       "        0.14001516, 0.15401667, 0.16761794, 0.14961619, 0.15041628,\n",
       "        0.1756188 , 0.16961836, 0.16921832, 0.17121853, 0.19962137,\n",
       "        0.23522546, 0.27522963, 0.32243471, 0.39204244, 0.54205835,\n",
       "        0.66207147, 0.80448684, 0.99370712, 1.16372553, 1.35974668,\n",
       "        1.54176631, 1.63937684, 1.69778301, 1.74338819, 1.69538301,\n",
       "        1.56496846, 1.38454987, 1.25053462, 1.07131532, 0.90569803,\n",
       "        0.72807794, 0.58006279, 0.44844854, 0.37364044, 0.317634  ,\n",
       "        0.25242732, 0.19602122, 0.20522197, 0.16161749, 0.16281762,\n",
       "        0.14881611, 0.14801567, 0.15721702, 0.13561468, 0.13801494,\n",
       "        0.1376149 , 0.1404152 , 0.13921507, 0.13401419, 0.13681481,\n",
       "        0.13441455, 0.12801386, 0.11521247, 0.11801277, 0.10881152,\n",
       "        0.10681156, 0.10001083, 0.0988107 , 0.11001191, 0.09761057,\n",
       "        0.10281088, 0.10241133, 0.10241084, 0.09120966, 0.0868096 ,\n",
       "        0.07480792, 0.08520943, 0.0784083 , 0.06320699, 0.06920733,\n",
       "        0.06880728, 0.07080783, 0.06040639, 0.06680739, 0.06240661,\n",
       "        0.07800863, 0.0576061 , 0.06040639, 0.05880651, 0.04360462,\n",
       "        0.05640624, 0.05400572, 0.05240555, 0.04920544, 0.04480474,\n",
       "        0.03960438, 0.04560483, 0.04400487, 0.03800402, 0.03800402,\n",
       "        0.03840425, 0.03920415, 0.04120456, 0.03360356, 0.03240343,\n",
       "        0.02960327, 0.03760398, 0.02720301, 0.02800296, 0.03680407,\n",
       "        0.03360372, 0.02640267, 0.03440381, 0.02760305, 0.03200324,\n",
       "        0.02840314, 0.03080341, 0.02560259, 0.02360261, 0.02840314,\n",
       "        0.02320257, 0.02680271, 0.02480274, 0.01680186, 0.02200222,\n",
       "        0.02360261, 0.03040336, 0.02320257, 0.01960198, 0.01920212,\n",
       "        0.01960217, 0.0188019 , 0.02280252, 0.02320257, 0.02400266,\n",
       "        0.02400243, 0.0244027 , 0.01880208, 0.01520154, 0.0208023 ,\n",
       "        0.02000221, 0.01520168, 0.02040206, 0.0172019 , 0.01560173,\n",
       "        0.01800182, 0.01680186, 0.01440159, 0.01360137, 0.01400155,\n",
       "        0.0136015 , 0.01160128, 0.01360137, 0.01400155, 0.01080119,\n",
       "        0.01240125, 0.0136015 , 0.01000111, 0.01400155, 0.00960097,\n",
       "        0.01440159, 0.01240137, 0.00880089, 0.00920102, 0.01080119,\n",
       "        0.01200133, 0.01000101, 0.01160128, 0.01000111, 0.00960097,\n",
       "        0.01000111, 0.01200133, 0.00880097, 0.00880089, 0.00640071,\n",
       "        0.00880097, 0.00520053, 0.00800089, 0.0072008 , 0.00920093,\n",
       "        0.00520058, 0.00600066, 0.00680075, 0.00360036, 0.00560062,\n",
       "        0.00680075, 0.00600061, 0.00640071, 0.00640071, 0.00640071,\n",
       "        0.00640071, 0.00400044, 0.00360033, 0.00440049, 0.00560062,\n",
       "        0.00320035, 0.00400044, 0.00320035, 0.00360033, 0.00440049,\n",
       "        0.00520058, 0.00520058, 0.00440049, 0.00400044, 0.00680075,\n",
       "        0.00680062, 0.0072008 , 0.00520058, 0.00800089, 0.00840093,\n",
       "        0.0036004 , 0.00520058, 0.0044004 , 0.00760084, 0.00560062,\n",
       "        0.00600066, 0.00640071, 0.00520058, 0.00480053, 0.00360033,\n",
       "        0.00480053, 0.00800089, 0.00480053, 0.00600066, 0.00520058,\n",
       "        0.00560062, 0.00560051, 0.00960106, 0.02640292, 0.13401483]),\n",
       " array([-4.99990273e+00, -4.97490549e+00, -4.94990826e+00, -4.92491102e+00,\n",
       "        -4.89991331e+00, -4.87491608e+00, -4.84991884e+00, -4.82492161e+00,\n",
       "        -4.79992437e+00, -4.77492714e+00, -4.74992990e+00, -4.72493219e+00,\n",
       "        -4.69993496e+00, -4.67493773e+00, -4.64994049e+00, -4.62494326e+00,\n",
       "        -4.59994602e+00, -4.57494879e+00, -4.54995108e+00, -4.52495384e+00,\n",
       "        -4.49995661e+00, -4.47495937e+00, -4.44996214e+00, -4.42496490e+00,\n",
       "        -4.39996767e+00, -4.37496996e+00, -4.34997272e+00, -4.32497549e+00,\n",
       "        -4.29997826e+00, -4.27498102e+00, -4.24998379e+00, -4.22498655e+00,\n",
       "        -4.19998884e+00, -4.17499161e+00, -4.14999437e+00, -4.12499714e+00,\n",
       "        -4.09999990e+00, -4.07500267e+00, -4.05000496e+00, -4.02500772e+00,\n",
       "        -4.00001049e+00, -3.97501326e+00, -3.95001602e+00, -3.92501879e+00,\n",
       "        -3.90002131e+00, -3.87502408e+00, -3.85002685e+00, -3.82502937e+00,\n",
       "        -3.80003214e+00, -3.77503490e+00, -3.75003767e+00, -3.72504020e+00,\n",
       "        -3.70004296e+00, -3.67504573e+00, -3.65004826e+00, -3.62505102e+00,\n",
       "        -3.60005379e+00, -3.57505631e+00, -3.55005908e+00, -3.52506185e+00,\n",
       "        -3.50006461e+00, -3.47506714e+00, -3.45006990e+00, -3.42507267e+00,\n",
       "        -3.40007520e+00, -3.37507796e+00, -3.35008073e+00, -3.32508349e+00,\n",
       "        -3.30008602e+00, -3.27508879e+00, -3.25009155e+00, -3.22509408e+00,\n",
       "        -3.20009685e+00, -3.17509961e+00, -3.15010238e+00, -3.12510490e+00,\n",
       "        -3.10010767e+00, -3.07511044e+00, -3.05011296e+00, -3.02511573e+00,\n",
       "        -3.00011849e+00, -2.97512126e+00, -2.95012379e+00, -2.92512655e+00,\n",
       "        -2.90012932e+00, -2.87513185e+00, -2.85013461e+00, -2.82513738e+00,\n",
       "        -2.80013990e+00, -2.77514267e+00, -2.75014544e+00, -2.72514820e+00,\n",
       "        -2.70015073e+00, -2.67515349e+00, -2.65015626e+00, -2.62515879e+00,\n",
       "        -2.60016155e+00, -2.57516432e+00, -2.55016708e+00, -2.52516961e+00,\n",
       "        -2.50017238e+00, -2.47517514e+00, -2.45017767e+00, -2.42518044e+00,\n",
       "        -2.40018320e+00, -2.37518597e+00, -2.35018849e+00, -2.32519126e+00,\n",
       "        -2.30019403e+00, -2.27519655e+00, -2.25019932e+00, -2.22520208e+00,\n",
       "        -2.20020485e+00, -2.17520738e+00, -2.15021014e+00, -2.12521291e+00,\n",
       "        -2.10021544e+00, -2.07521820e+00, -2.05022097e+00, -2.02522349e+00,\n",
       "        -2.00022626e+00, -1.97522902e+00, -1.95023167e+00, -1.92523444e+00,\n",
       "        -1.90023708e+00, -1.87523985e+00, -1.85024250e+00, -1.82524514e+00,\n",
       "        -1.80024791e+00, -1.77525055e+00, -1.75025332e+00, -1.72525597e+00,\n",
       "        -1.70025861e+00, -1.67526138e+00, -1.65026402e+00, -1.62526679e+00,\n",
       "        -1.60026944e+00, -1.57527220e+00, -1.55027485e+00, -1.52527750e+00,\n",
       "        -1.50028026e+00, -1.47528291e+00, -1.45028567e+00, -1.42528832e+00,\n",
       "        -1.40029097e+00, -1.37529373e+00, -1.35029638e+00, -1.32529914e+00,\n",
       "        -1.30030179e+00, -1.27530456e+00, -1.25030720e+00, -1.22530985e+00,\n",
       "        -1.20031261e+00, -1.17531526e+00, -1.15031803e+00, -1.12532067e+00,\n",
       "        -1.10032344e+00, -1.07532609e+00, -1.05032873e+00, -1.02533150e+00,\n",
       "        -1.00033414e+00, -9.75336850e-01, -9.50339556e-01, -9.25342262e-01,\n",
       "        -9.00344968e-01, -8.75347674e-01, -8.50350320e-01, -8.25353026e-01,\n",
       "        -8.00355732e-01, -7.75358438e-01, -7.50361145e-01, -7.25363851e-01,\n",
       "        -7.00366497e-01, -6.75369203e-01, -6.50371909e-01, -6.25374615e-01,\n",
       "        -6.00377321e-01, -5.75380027e-01, -5.50382733e-01, -5.25385380e-01,\n",
       "        -5.00388086e-01, -4.75390792e-01, -4.50393498e-01, -4.25396174e-01,\n",
       "        -4.00398880e-01, -3.75401586e-01, -3.50404263e-01, -3.25406969e-01,\n",
       "        -3.00409675e-01, -2.75412381e-01, -2.50415057e-01, -2.25417763e-01,\n",
       "        -2.00420454e-01, -1.75423145e-01, -1.50425851e-01, -1.25428542e-01,\n",
       "        -1.00431241e-01, -7.54339397e-02, -5.04366346e-02, -2.54393313e-02,\n",
       "        -4.42028046e-04,  2.45552752e-02,  4.95525785e-02,  7.45498836e-02,\n",
       "         9.95471850e-02,  1.24544486e-01,  1.49541795e-01,  1.74539089e-01,\n",
       "         1.99536398e-01,  2.24533707e-01,  2.49531001e-01,  2.74528325e-01,\n",
       "         2.99525619e-01,  3.24522913e-01,  3.49520206e-01,  3.74517530e-01,\n",
       "         3.99514824e-01,  4.24512118e-01,  4.49509442e-01,  4.74506736e-01,\n",
       "         4.99504030e-01,  5.24501324e-01,  5.49498677e-01,  5.74495971e-01,\n",
       "         5.99493265e-01,  6.24490559e-01,  6.49487853e-01,  6.74485147e-01,\n",
       "         6.99482441e-01,  7.24479795e-01,  7.49477088e-01,  7.74474382e-01,\n",
       "         7.99471676e-01,  8.24468970e-01,  8.49466264e-01,  8.74463618e-01,\n",
       "         8.99460912e-01,  9.24458206e-01,  9.49455500e-01,  9.74452794e-01,\n",
       "         9.99450088e-01,  1.02444744e+00,  1.04944468e+00,  1.07444203e+00,\n",
       "         1.09943938e+00,  1.12443662e+00,  1.14943397e+00,  1.17443120e+00,\n",
       "         1.19942856e+00,  1.22442579e+00,  1.24942315e+00,  1.27442050e+00,\n",
       "         1.29941773e+00,  1.32441509e+00,  1.34941232e+00,  1.37440968e+00,\n",
       "         1.39940691e+00,  1.42440426e+00,  1.44940162e+00,  1.47439885e+00,\n",
       "         1.49939620e+00,  1.52439344e+00,  1.54939079e+00,  1.57438815e+00,\n",
       "         1.59938538e+00,  1.62438273e+00,  1.64937997e+00,  1.67437732e+00,\n",
       "         1.69937456e+00,  1.72437191e+00,  1.74936926e+00,  1.77436650e+00,\n",
       "         1.79936385e+00,  1.82436109e+00,  1.84935844e+00,  1.87435579e+00,\n",
       "         1.89935303e+00,  1.92435038e+00,  1.94934762e+00,  1.97434497e+00,\n",
       "         1.99934220e+00,  2.02433944e+00,  2.04933691e+00,  2.07433414e+00,\n",
       "         2.09933138e+00,  2.12432885e+00,  2.14932609e+00,  2.17432332e+00,\n",
       "         2.19932079e+00,  2.22431803e+00,  2.24931526e+00,  2.27431250e+00,\n",
       "         2.29930997e+00,  2.32430720e+00,  2.34930444e+00,  2.37430191e+00,\n",
       "         2.39929914e+00,  2.42429638e+00,  2.44929361e+00,  2.47429109e+00,\n",
       "         2.49928832e+00,  2.52428555e+00,  2.54928303e+00,  2.57428026e+00,\n",
       "         2.59927750e+00,  2.62427473e+00,  2.64927220e+00,  2.67426944e+00,\n",
       "         2.69926667e+00,  2.72426414e+00,  2.74926138e+00,  2.77425861e+00,\n",
       "         2.79925585e+00,  2.82425332e+00,  2.84925056e+00,  2.87424779e+00,\n",
       "         2.89924526e+00,  2.92424250e+00,  2.94923973e+00,  2.97423720e+00,\n",
       "         2.99923444e+00,  3.02423167e+00,  3.04922891e+00,  3.07422638e+00,\n",
       "         3.09922361e+00,  3.12422085e+00,  3.14921832e+00,  3.17421556e+00,\n",
       "         3.19921279e+00,  3.22421002e+00,  3.24920750e+00,  3.27420473e+00,\n",
       "         3.29920197e+00,  3.32419944e+00,  3.34919667e+00,  3.37419391e+00,\n",
       "         3.39919114e+00,  3.42418861e+00,  3.44918585e+00,  3.47418308e+00,\n",
       "         3.49918056e+00,  3.52417779e+00,  3.54917502e+00,  3.57417226e+00,\n",
       "         3.59916973e+00,  3.62416697e+00,  3.64916420e+00,  3.67416167e+00,\n",
       "         3.69915891e+00,  3.72415614e+00,  3.74915361e+00,  3.77415085e+00,\n",
       "         3.79914808e+00,  3.82414532e+00,  3.84914279e+00,  3.87414002e+00,\n",
       "         3.89913726e+00,  3.92413473e+00,  3.94913197e+00,  3.97412920e+00,\n",
       "         3.99912643e+00,  4.02412367e+00,  4.04912090e+00,  4.07411861e+00,\n",
       "         4.09911585e+00,  4.12411308e+00,  4.14911032e+00,  4.17410755e+00,\n",
       "         4.19910479e+00,  4.22410250e+00,  4.24909973e+00,  4.27409697e+00,\n",
       "         4.29909420e+00,  4.32409143e+00,  4.34908867e+00,  4.37408590e+00,\n",
       "         4.39908361e+00,  4.42408085e+00,  4.44907808e+00,  4.47407532e+00,\n",
       "         4.49907255e+00,  4.52406979e+00,  4.54906702e+00,  4.57406473e+00,\n",
       "         4.59906197e+00,  4.62405920e+00,  4.64905643e+00,  4.67405367e+00,\n",
       "         4.69905090e+00,  4.72404814e+00,  4.74904585e+00,  4.77404308e+00,\n",
       "         4.79904032e+00,  4.82403755e+00,  4.84903479e+00,  4.87403202e+00,\n",
       "         4.89902925e+00,  4.92402697e+00,  4.94902420e+00,  4.97402143e+00,\n",
       "         4.99901867e+00]),\n",
       " <BarContainer object of 400 artists>)"
      ]
     },
     "execution_count": 286,
     "metadata": {},
     "output_type": "execute_result"
    },
    {
     "data": {
      "image/png": "[encoded data removed]",
      "text/plain": [
       "<Figure size 640x480 with 1 Axes>"
      ]
     },
     "metadata": {},
     "output_type": "display_data"
    }
   ],
   "source": [
    "plt.hist(npe_samples_y.squeeze().cpu().numpy(), bins=400, density=True)\n",
    "plt.hist(rnpe_samples.cpu().numpy(), bins=400, density=True)"
   ]
  }
 ],
 "metadata": {
  "kernelspec": {
   "display_name": "sbi_env1",
   "language": "python",
   "name": "python3"
  },
  "language_info": {
   "codemirror_mode": {
    "name": "ipython",
    "version": 3
   },
   "file_extension": ".py",
   "mimetype": "text/x-python",
   "name": "python",
   "nbconvert_exporter": "python",
   "pygments_lexer": "ipython3",
   "version": "3.11.3"
  },
  "orig_nbformat": 4
 },
 "nbformat": 4,
 "nbformat_minor": 2
}
