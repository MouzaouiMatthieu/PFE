{
 "cells": [
  {
   "cell_type": "code",
   "execution_count": 16,
   "metadata": {},
   "outputs": [],
   "source": [
    "import lampe\n",
    "import numpy as np\n",
    "import torch\n",
    "import zuko\n",
    "\n",
    "import matplotlib.pyplot as plt\n",
    "import ipywidgets as widgets\n",
    "import scipy.integrate as integrate\n",
    "\n",
    "from IPython.display import display\n",
    "from typing import Tuple, Callable\n",
    "from tqdm.notebook import tqdm_notebook as tqdm\n",
    "from torch import Tensor\n"
   ]
  },
  {
   "cell_type": "code",
   "execution_count": 17,
   "metadata": {},
   "outputs": [],
   "source": [
    "N=100\n",
    "theta_grid = np.linspace(-8,8,1000)\n",
    "N_simu =  50_000\n",
    "M = 100_000\n",
    "warm_up_steps =  20_000\n",
    "sigma = 0.01\n",
    "tau = 0.25\n",
    "rho = 1/2"
   ]
  },
  {
   "cell_type": "code",
   "execution_count": 18,
   "metadata": {},
   "outputs": [],
   "source": [
    "def posterior_summaries(thetas: Tuple, x1: float, x2: float, sigma_2_y:float =1):\n",
    "    r\"\"\"Compute the true posterior of :math:`p(\\theta | x)`. \n",
    "\n",
    "    Args:\n",
    "        thetas: points where we want the density function to be computed.\n",
    "        x1: First dimension of the observation. \n",
    "        x2: Second dimension of the observation. \n",
    "        sigma_2_y (optional): Corruption. Defaults to 1 (no corruption).\n",
    "    \"\"\"\n",
    "    def improper_posterior_summaries(theta,x1=x1,x2=x2):\n",
    "        likelihood_x1_part = -N*np.square(theta - x1)/(2*sigma_2_y**2)\n",
    "        likelihood_x2_part = -0.5*np.square(sigma_2_y - x2)/(2*np.square(sigma_2_y)/N)\n",
    "        prior_part = -np.square(theta)/50\n",
    "        return np.exp(likelihood_x1_part)*np.exp(likelihood_x2_part)*np.exp(prior_part)\n",
    "    z_summaries, eps = integrate.quad(improper_posterior_summaries, -25, 25)\n",
    "    return [improper_posterior_summaries(theta,x1,x2)/z_summaries for theta in thetas]"
   ]
  },
  {
   "cell_type": "code",
   "execution_count": 19,
   "metadata": {},
   "outputs": [],
   "source": [
    "def get_true_post(task_name: str, x_star: Tensor, sigma_y_2: float=1) -> Tuple:\n",
    "    r\"\"\"Get the true posterior of :math:`p(\\theta | x^*)`. \n",
    "\n",
    "    Args:\n",
    "        task_name: Name of the task. \n",
    "        x_star: Observation.\n",
    "        sigma_y_2 (optional): Corruption. Defaults to 1 (no corruption).\n",
    "\n",
    "    Returns:\n",
    "        Tuple: Density evaluated at points theta_grid. \n",
    "    \"\"\"\n",
    "    theta_grid   # Convert theta_grid to a torch tensor\n",
    "    post = None\n",
    "    if task_name == \"Gaussian\":\n",
    "        # We observe x = (x1, x2) = (mean, var)\n",
    "        post = posterior_summaries(theta_grid, x_star[0], x_star[1],sigma_y_2) \n",
    "    # post = torch.stack(post).cuda()  # Move post to CUDA\n",
    "    return post\n"
   ]
  },
  {
   "cell_type": "code",
   "execution_count": 20,
   "metadata": {},
   "outputs": [],
   "source": [
    "device=torch.device(\"cuda\" if torch.cuda.is_available() else \"cpu\")"
   ]
  },
  {
   "cell_type": "code",
   "execution_count": 21,
   "metadata": {},
   "outputs": [],
   "source": [
    "class Gaussian():\n",
    "    r\"\"\"Gaussian Task. \n",
    "        - Simulation: :math:`z_i \\sim \\mathcal{N}(\\theta, 1), i=1,...N_simu`\n",
    "        - TDGP: :math:`z_i \\sim \\mathcal{N}(\\theta, \\sigma^2), i=1,...N_simu`\n",
    "        - Feature space: Summary statistic :math:`x=\\left(mean(z_1,...z_{N_simu}); var(z_1,...z_{N_simu))`\n",
    "    NB: We can see the TDGP such that :math:`y = x + \\epsiolon, x \\sim \\mathcal{M}(\\theta), \\epsilon \\sim \\mathcal{N}(0, \\sigma_y^2).\n",
    "    \"\"\"\n",
    "    \n",
    "    def __init__(self, N_simu: int, sigma_y_2: float, true_theta:Tensor=torch.zeros(1)) -> None:\n",
    "        r\"\"\"Init the object, including datasets.\n",
    "\n",
    "        Args:\n",
    "            N_simu: total number of simulations\n",
    "            sigma_y_2: Corruption, Var of the observed data. \n",
    "        \"\"\"\n",
    "        self.name = \"Gaussian\"\n",
    "        self.prior = torch.distributions.Normal(0,5)\n",
    "        self.sigma_y_2 = sigma_y_2\n",
    "        self.features_dim = 2\n",
    "        self.parameters_dim = 1\n",
    "        self.true_theta = true_theta\n",
    "        data = self.generate_data(N_simu, sigma_y_2)\n",
    "        data_test = self.generate_data(N_simu//10, sigma_y_2)\n",
    "        true_obs_data = self.generate_data(1,sigma_y_2, true_theta)\n",
    "        \n",
    "        x0 = true_obs_data[\"x\"]\n",
    "        y0 = x0 + true_obs_data[\"eps\"]\n",
    "        x0_scaled = (x0 - data[\"scale_parameters\"][0])/data[\"scale_parameters\"][1]\n",
    "        y0_scaled = (y0 - data[\"scale_parameters\"][0])/data[\"scale_parameters\"][1]\n",
    "        \n",
    "        self.data = data\n",
    "        self.data_test= data_test\n",
    "        self.x0 = x0.squeeze()\n",
    "        self.y0 = y0.squeeze()\n",
    "        self.x0_scaled = x0_scaled\n",
    "        self.y0_scaled = y0_scaled\n",
    "        \n",
    "    def prior_sample(self, n):\n",
    "        return self.prior.sample((n, ))\n",
    "    \n",
    "    def generate_data(self, N: int, sigma_y_2: float=1, thetas: Tensor=None):\n",
    "        \"\"\"Generates data according to #TODO Maths ici\n",
    "\n",
    "        Args:\n",
    "            N: Total number of simulations\n",
    "            sigma_y_2 (optional): Corruption. Defaults to 1.\n",
    "            theta (optional): Reference theta. \n",
    "\n",
    "        Returns:\n",
    "            res: dictionnary whose entries are parameters thetas, the raw simulations x, the corruption espilons as well as the scaled observations and the scale parameters.\n",
    "        \"\"\"\n",
    "        if thetas is None:\n",
    "            thetas = self.prior_sample(N)\n",
    "        sigma_eps = sigma_y_2-1 #If the TDGP has a variance of \\sigma^2, the corruption layer has \\sigma-1\n",
    "        res = {}\n",
    "        res[\"theta\"] = thetas\n",
    "        means_and_vars = torch.zeros((N, 2), device=device)\n",
    "        \n",
    "        for i, theta in enumerate(thetas):\n",
    "            z = torch.distributions.Normal(theta, 1).sample((100,)).to(device)\n",
    "            mean = z.mean()\n",
    "            var = z.var()\n",
    "            means_and_vars[i] = torch.stack([mean.unsqueeze_(0), var.unsqueeze_(0)]).squeeze_()\n",
    "\n",
    "        res[\"x\"] = means_and_vars\n",
    "\n",
    "        norm_max = -1\n",
    "        for n_run in range(1):\n",
    "            #We take the run where the corruption has more effect, to be able to compare. \n",
    "            eps = torch.distributions.Normal(torch.zeros_like(res[\"x\"]), np.sqrt(sigma_eps)).sample().to(device)\n",
    "            if torch.norm(eps) > norm_max:\n",
    "                epsilons = eps\n",
    "                norm_max = torch.norm(eps)\n",
    "        res[\"eps\"] = epsilons\n",
    "        scale_mean, scale_std = res[\"x\"].mean(0), res[\"x\"].std(0)\n",
    "        res[\"scale_parameters\"] = scale_mean, scale_std\n",
    "        res[\"scaled_x\"] = (res[\"x\"] - scale_mean) / scale_std\n",
    "        return res\n",
    "    \n",
    "    def true_post(self, x_star: Tensor, sigma_2_y: float=None) -> Tuple:\n",
    "        \"\"\"Get the true posterior given an observation x_star. \n",
    "\n",
    "        Args:\n",
    "            x_star: An observation. \n",
    "            sigma_2_y (optional): Corruption. Defaults to None.\n",
    "\n",
    "        Returns:\n",
    "            post: Posterior density evaluated from -8 to 8. \n",
    "        \"\"\"\n",
    "        if sigma_2_y is None:\n",
    "            sigma_2_y = self.sigma_y_2\n",
    "        theta_grid_t = np.linspace(-8,8,1000)\n",
    "        post = posterior_summaries(theta_grid_t, x_star[0], x_star[1],sigma_2_y) \n",
    "        return post\n",
    "        "
   ]
  },
  {
   "cell_type": "code",
   "execution_count": 22,
   "metadata": {},
   "outputs": [],
   "source": [
    "sigma_2_y = 2"
   ]
  },
  {
   "cell_type": "code",
   "execution_count": 23,
   "metadata": {},
   "outputs": [],
   "source": [
    "def build_nsf(features, context):\n",
    "    \"\"\"Callable to instantiate the NPE with NSFs\"\"\"\n",
    "    return zuko.flows.NSF(features, context, bins=10, transforms=5).to(device)\n",
    "\n",
    "\n",
    "def train_flow(flow: lampe.inference.NPE, loss: Callable[[Tensor, Tensor], float], theta: Tensor, x: Tensor, theta_test: Tensor, x_test: Tensor) -> lampe.inference.NPE:\n",
    "    \"\"\"Training procedure for the instantiated NPE.\n",
    "\n",
    "    Args:\n",
    "        flow (lampe.inference.NPE): Flow object to be trained.\n",
    "        loss (Callable[[Tensor, Tensor], float]): Loss function used for training.\n",
    "        theta (Tensor): Parameters.\n",
    "        x (Tensor): Observations.\n",
    "        theta_test (Tensor): Parameters used for early stopping.\n",
    "        x_test (Tensor): Observations used for early stopping.\n",
    "\n",
    "    Returns:\n",
    "        lampe.inference.NPE: The trained flow.\n",
    "    \"\"\"\n",
    "    optimizer = torch.optim.Adam(flow.parameters(), lr=5e-3)\n",
    "    theta_test = theta_test.unsqueeze(-1).to(device)\n",
    "    data = lampe.data.JointDataset(theta.to(device), x.to(device))\n",
    "    loader = lampe.data.DataLoader(data, batch_size=256)\n",
    "\n",
    "    with torch.no_grad():\n",
    "        min_loss = loss(theta_test, x_test.to(device))\n",
    "    min_loss_list = [min_loss.item()]  # Convert min_loss to a scalar\n",
    "\n",
    "    flow.train()\n",
    "\n",
    "    for epoch in range(50):\n",
    "        for theta_batch, x_batch in loader:\n",
    "            theta_batch = theta_batch.unsqueeze(-1).to(device)\n",
    "            x_batch = x_batch.to(device)\n",
    "            losses = loss(theta_batch, x_batch)\n",
    "            optimizer.zero_grad()\n",
    "            losses.backward()\n",
    "            optimizer.step()\n",
    "\n",
    "        # Checking for early stopping\n",
    "        with torch.no_grad():\n",
    "            loss_test = loss(theta_test, x_test.to(device))\n",
    "            min_loss_list.append(loss_test.item())  # Convert loss_test to a scalar\n",
    "            if len(min_loss_list) - np.argmin(min_loss_list) > 5:  # No improvement in loss(test) for the last 5 iterations\n",
    "                # Early stop\n",
    "                break\n",
    "    flow.eval()\n",
    "    return flow\n",
    "\n",
    "\n",
    "def create_train_flow(task) -> lampe.inference.NPE:\n",
    "    \"\"\"Creates a conditional flow (NSF) and trains it on the task data.\n",
    "\n",
    "    Args:\n",
    "        task: A task object.\n",
    "\n",
    "    Returns:\n",
    "        lampe.inference.NPE: The trained flow.\n",
    "    \"\"\"\n",
    "    data = task.data\n",
    "    data_test = task.data_test\n",
    "    theta = data[\"theta\"]\n",
    "    theta_test = data_test[\"theta\"]\n",
    "    shape_x = lambda x: 2 if x == \"Gaussian\" or x == \"two_z\" else 1\n",
    "    flow = lampe.inference.NPE(theta_dim=1, x_dim=shape_x(task.name), build=build_nsf).to(device)\n",
    "    loss = lampe.inference.NPELoss(flow).to(device)\n",
    "    x = data[\"scaled_x\"].to(device)\n",
    "    x_test = data_test[\"scaled_x\"].to(device)\n",
    "    flow = train_flow(flow, loss, theta, x, theta_test, x_test)\n",
    "    return flow\n",
    "\n",
    "\n",
    "task = Gaussian(N_simu=N_simu, sigma_y_2=sigma_2_y)\n",
    "q_NPE = create_train_flow(task)\n"
   ]
  },
  {
   "cell_type": "code",
   "execution_count": 24,
   "metadata": {},
   "outputs": [],
   "source": [
    "def train_unconditional_flow(flow: zuko.flows, loss: Callable[[Tensor], float], x: Tensor, x_test: Tensor) -> zuko.flows:\n",
    "    \"\"\"Trains a unconditional flow on x. \n",
    "\n",
    "    Args:\n",
    "        flow: Object flow to be trained. \n",
    "        loss: Method to compute a loss. \n",
    "        x: Training data. \n",
    "        x_test: Test data, used for early stopping. \n",
    "\n",
    "    Returns:\n",
    "        flow: Trained flow object. \n",
    "    \"\"\"\n",
    "    optimizer = torch.optim.Adam(flow.parameters(), lr=1e-2)\n",
    "    loader = torch.utils.data.DataLoader(x.to(device), 256)\n",
    "    \n",
    "    with torch.no_grad():\n",
    "        min_loss = loss(x_test.to(device))\n",
    "    min_loss_list = [min_loss.item()]  # Convert min_loss to a scalar\n",
    "    \n",
    "    flow.train()\n",
    "\n",
    "\n",
    "    for epoch in range(50):\n",
    "        for x_batch in loader:\n",
    "            x_batch = x_batch.to(device)\n",
    "            losses = loss(x_batch)\n",
    "            optimizer.zero_grad()\n",
    "            losses.backward()\n",
    "            optimizer.step()\n",
    "        \n",
    "        # Checking for early stopping\n",
    "        with torch.no_grad():\n",
    "            loss_test = loss(x_test.to(device))\n",
    "            min_loss_list.append(loss_test.item())  # Convert loss_test to a scalar\n",
    "            if len(min_loss_list) - np.argmin(min_loss_list) > 5: # No improvement in loss(test) for the last 5 iterations\n",
    "                # Early stop  \n",
    "\n",
    "                break\n",
    "    flow.eval()\n",
    "    return flow\n",
    "\n",
    "def create_train_unconditional_flow(task) -> zuko.flows:\n",
    "    \"\"\"Instanciate and trains an unconditional flow (MAF) on the task data. \n",
    "\n",
    "    Args:\n",
    "        task: A task, containing train and test data. \n",
    "\n",
    "    Returns:\n",
    "        flow: The trained flow. \n",
    "    \"\"\"\n",
    "    data = task.data\n",
    "    data_test = task.data_test\n",
    "    shape_x = lambda x: 2 if x == \"Gaussian\" or x == \"two_z\" else 1\n",
    "    flow = zuko.flows.NAF(features=shape_x(task.name), context=0).to(device) #!\n",
    "    loss = lambda x: -flow().log_prob(x).mean()\n",
    "    x = data[\"scaled_x\"].to(device)\n",
    "    x_test = data_test[\"scaled_x\"].to(device)\n",
    "    flow = train_unconditional_flow(flow, loss, x, x_test)\n",
    "    return flow\n",
    "\n",
    "\n",
    "q_x_NF = create_train_unconditional_flow(task)\n"
   ]
  },
  {
   "cell_type": "code",
   "execution_count": 25,
   "metadata": {},
   "outputs": [],
   "source": [
    "npe_samples_x = q_NPE.flow(task.x0_scaled).sample((20_000,))\n",
    "\n",
    "true_post = task.true_post(task.x0.squeeze().cpu().numpy())\n",
    "\n",
    "npe_samples_y = q_NPE.flow(task.y0_scaled).sample((20_000,))\n",
    "\n",
    "theoritical_post_y = task.true_post(task.y0.squeeze().cpu().numpy(),sigma_2_y)"
   ]
  },
  {
   "cell_type": "code",
   "execution_count": 26,
   "metadata": {},
   "outputs": [
    {
     "data": {
      "image/png": "[encoded data removed]",
      "text/plain": [
       "<Figure size 640x480 with 1 Axes>"
      ]
     },
     "metadata": {},
     "output_type": "display_data"
    }
   ],
   "source": [
    "fig, ax = plt.subplots()\n",
    "ax.hist(npe_samples_x.cpu().squeeze().cpu().numpy(), bins=400, density=True, label=\"Samples from q_(θ|x=x0)\") #!\n",
    "ax.plot(theta_grid, true_post, label=\"Theoretical posterior p(θ|x=x0)\")\n",
    "ax.hist(npe_samples_y.cpu().squeeze().numpy(), bins=400, density=True, label=\"Samples from q(θ|x=y0)\")\n",
    "ax.plot(theta_grid, theoritical_post_y, label=\"Theoretical posterior p(θ|x=y0)\")\n",
    "\n",
    "ax.set_title(\"Posteriors q and p\")\n",
    "#ax.set_xlim(3, 6)\n",
    "ax.legend()\n",
    "plt.show()"
   ]
  },
  {
   "cell_type": "code",
   "execution_count": 27,
   "metadata": {},
   "outputs": [],
   "source": [
    "\n",
    "\n",
    "\n",
    "# Define the proposal function\n",
    "def proposal(x_curr):\n",
    "\n",
    "    return x_curr + torch.distributions.Normal(0, 1).sample(x_curr.shape).to(device)\n",
    "\n",
    "# Define the f function\n",
    "def f(y0, x, rho, sigma, tau, q_x_NF):\n",
    "    D = x.shape[-1]\n",
    "    res = torch.zeros_like(x)\n",
    "    for j in range(D):\n",
    "        xj = x[:,j]\n",
    "        yj = y0[j]\n",
    "        zj = torch.distributions.Bernoulli(rho).sample().to(device)\n",
    "        if not zj:\n",
    "            spike_dist = torch.distributions.Normal(xj.detach(), torch.tensor(sigma).to(device))\n",
    "            res[:,j] = torch.exp(spike_dist.log_prob(yj))\n",
    "        else:\n",
    "            slab_dist = torch.distributions.Cauchy(xj.detach(), torch.tensor(tau).to(device))\n",
    "            res[:,j] = torch.exp(slab_dist.log_prob(yj))\n",
    "    return res * torch.exp(q_x_NF().log_prob(x))\n",
    "\n",
    "def mcmc(x0, warm_up_steps, M, y0, rho, sigma, tau, q_x_NF):\n",
    "\n",
    "    x_curr = x0.to(device)\n",
    "    my_samples = torch.empty((warm_up_steps + M, x0.shape[1])).to(device)\n",
    "    log_f_x_curr = f(y0, x_curr, rho, sigma, tau, q_x_NF).log()\n",
    "    \n",
    "    for i in tqdm(range(warm_up_steps + M)):\n",
    "        x_star = proposal(x_curr)\n",
    "        log_f_x_star = f(y0, x_star, rho, sigma, tau, q_x_NF).log()\n",
    "\n",
    "        log_a = log_f_x_star - log_f_x_curr\n",
    "\n",
    "        a = torch.exp(log_a)\n",
    "\n",
    "        u = torch.FloatTensor(a.shape).uniform_().to(device)\n",
    "\n",
    "        mask = u < a\n",
    "\n",
    "        x_curr = torch.where(mask, x_star, x_curr)\n",
    "        log_f_x_curr = torch.where(mask, log_f_x_star, log_f_x_curr)\n",
    "\n",
    "      #  my_samples[i] = x_curr\n",
    "        my_samples[i] = x_curr\n",
    "\n",
    "\n",
    "    my_samples = my_samples[warm_up_steps:]\n",
    "    #my_samples = torch.stack(my_samples)\n",
    "    return my_samples\n",
    "\n"
   ]
  },
  {
   "cell_type": "code",
   "execution_count": 28,
   "metadata": {},
   "outputs": [
    {
     "data": {
      "application/vnd.jupyter.widget-view+json": {
       "model_id": "b09bc001222848158225a7bea6a70f53",
       "version_major": 2,
       "version_minor": 0
      },
      "text/plain": [
       "  0%|          | 0/120000 [00:00<?, ?it/s]"
      ]
     },
     "metadata": {},
     "output_type": "display_data"
    }
   ],
   "source": [
    "with torch.no_grad():\n",
    "    xm = mcmc(torch.zeros(1,2).to(device), warm_up_steps, M, task.y0_scaled.squeeze().to(device), rho, sigma, tau, q_x_NF)"
   ]
  },
  {
   "cell_type": "code",
   "execution_count": 29,
   "metadata": {},
   "outputs": [
    {
     "ename": "NameError",
     "evalue": "name 'data' is not defined",
     "output_type": "error",
     "traceback": [
      "\u001b[1;31m---------------------------------------------------------------------------\u001b[0m",
      "\u001b[1;31mNameError\u001b[0m                                 Traceback (most recent call last)",
      "Cell \u001b[1;32mIn[29], line 3\u001b[0m\n\u001b[0;32m      1\u001b[0m fig, ax \u001b[39m=\u001b[39m plt\u001b[39m.\u001b[39msubplots()\n\u001b[1;32m----> 3\u001b[0m ax\u001b[39m.\u001b[39mscatter(x\u001b[39m=\u001b[39mdata[\u001b[39m\"\u001b[39m\u001b[39mscaled_x\u001b[39m\u001b[39m\"\u001b[39m][:,\u001b[39m0\u001b[39m]\u001b[39m.\u001b[39mcpu(),y\u001b[39m=\u001b[39mdata[\u001b[39m\"\u001b[39m\u001b[39mscaled_x\u001b[39m\u001b[39m\"\u001b[39m][:,\u001b[39m1\u001b[39m]\u001b[39m.\u001b[39mcpu(), color\u001b[39m=\u001b[39m\u001b[39m\"\u001b[39m\u001b[39mblue\u001b[39m\u001b[39m\"\u001b[39m, label\u001b[39m=\u001b[39m\u001b[39m\"\u001b[39m\u001b[39mSimulator outputs\u001b[39m\u001b[39m\"\u001b[39m, s\u001b[39m=\u001b[39m\u001b[39m1\u001b[39m)\n\u001b[0;32m      4\u001b[0m ax\u001b[39m.\u001b[39mscatter(x\u001b[39m=\u001b[39mxm[:,\u001b[39m0\u001b[39m]\u001b[39m.\u001b[39mcpu(),y\u001b[39m=\u001b[39mxm[:,\u001b[39m1\u001b[39m]\u001b[39m.\u001b[39mcpu(), label\u001b[39m=\u001b[39m\u001b[39m\"\u001b[39m\u001b[39mDenoised outputs from the MCMC sampler\u001b[39m\u001b[39m\"\u001b[39m, color\u001b[39m=\u001b[39m\u001b[39m\"\u001b[39m\u001b[39myellow\u001b[39m\u001b[39m\"\u001b[39m, s\u001b[39m=\u001b[39m\u001b[39m1\u001b[39m)\n\u001b[0;32m      5\u001b[0m ax\u001b[39m.\u001b[39mscatter(x\u001b[39m=\u001b[39mtask\u001b[39m.\u001b[39my0_scaled\u001b[39m.\u001b[39mcpu()[:,\u001b[39m0\u001b[39m],y\u001b[39m=\u001b[39mtask\u001b[39m.\u001b[39my0_scaled\u001b[39m.\u001b[39mcpu()[:,\u001b[39m1\u001b[39m], label\u001b[39m=\u001b[39m\u001b[39m\"\u001b[39m\u001b[39my0 scaled\u001b[39m\u001b[39m\"\u001b[39m, color\u001b[39m=\u001b[39m\u001b[39m\"\u001b[39m\u001b[39mgreen\u001b[39m\u001b[39m\"\u001b[39m, s\u001b[39m=\u001b[39m\u001b[39m20\u001b[39m)\n",
      "\u001b[1;31mNameError\u001b[0m: name 'data' is not defined"
     ]
    },
    {
     "data": {
      "image/png": "[encoded data removed]",
      "text/plain": [
       "<Figure size 640x480 with 1 Axes>"
      ]
     },
     "metadata": {},
     "output_type": "display_data"
    }
   ],
   "source": [
    "fig, ax = plt.subplots()\n",
    "\n",
    "ax.scatter(x=data[\"scaled_x\"][:,0].cpu(),y=data[\"scaled_x\"][:,1].cpu(), color=\"blue\", label=\"Simulator outputs\", s=1)\n",
    "ax.scatter(x=xm[:,0].cpu(),y=xm[:,1].cpu(), label=\"Denoised outputs from the MCMC sampler\", color=\"yellow\", s=1)\n",
    "ax.scatter(x=task.y0_scaled.cpu()[:,0],y=task.y0_scaled.cpu()[:,1], label=\"y0 scaled\", color=\"green\", s=20)\n",
    "ax.set_xlabel(\"Mean (z1,...,zn)\")\n",
    "ax.set_ylabel(\"Var(z1,...,zn)\")\n",
    "ax.set_title(\"Simulated and denoised x, scaled version\")\n",
    "ax.legend(bbox_to_anchor=(1.04, 1), loc=\"upper left\")"
   ]
  },
  {
   "cell_type": "code",
   "execution_count": 30,
   "metadata": {},
   "outputs": [],
   "source": [
    "rnpe_samples = q_NPE.flow(xm).sample()"
   ]
  },
  {
   "cell_type": "code",
   "execution_count": 31,
   "metadata": {},
   "outputs": [],
   "source": [
    "true_post_y = posterior_summaries(theta_grid, task.y0.cpu().squeeze()[0].item(),task.y0.cpu().squeeze()[1].item(),sigma_2_y)"
   ]
  },
  {
   "cell_type": "code",
   "execution_count": 32,
   "metadata": {},
   "outputs": [],
   "source": [
    "npe_samples = q_NPE.flow(task.y0_scaled).sample((20_000,))\n",
    "true_post = task.true_post(task.y0.squeeze().cpu().numpy(),sigma_2_y)\n"
   ]
  },
  {
   "cell_type": "code",
   "execution_count": 33,
   "metadata": {},
   "outputs": [
    {
     "data": {
      "text/plain": [
       "[<matplotlib.lines.Line2D at 0x15e2964e410>]"
      ]
     },
     "execution_count": 33,
     "metadata": {},
     "output_type": "execute_result"
    },
    {
     "data": {
      "image/png": "[encoded data removed]",
      "text/plain": [
       "<Figure size 640x480 with 1 Axes>"
      ]
     },
     "metadata": {},
     "output_type": "display_data"
    }
   ],
   "source": [
    "plt.hist(npe_samples.squeeze().cpu(),bins=200, density=True,color=\"green\",alpha=0.5,label=\"NPE samples q(θ|y0)\")\n",
    "plt.hist(rnpe_samples.squeeze().cpu(),bins=200, density=True, color=\"red\",alpha=0.5, label=\"RNPE samples q(θ|y0)\")\n",
    "plt.plot(theta_grid,true_post_y,color='yellow', label=\" p(θ|y0) under the true DGP\")\n",
    "#plt.xlim(-2,2)"
   ]
  },
  {
   "cell_type": "code",
   "execution_count": 34,
   "metadata": {},
   "outputs": [
    {
     "data": {
      "text/plain": [
       "2"
      ]
     },
     "execution_count": 34,
     "metadata": {},
     "output_type": "execute_result"
    }
   ],
   "source": [
    "sigma_2_y"
   ]
  },
  {
   "cell_type": "code",
   "execution_count": 35,
   "metadata": {},
   "outputs": [],
   "source": [
    "def compute_distances(true_post_density,sample):\n",
    "    true_post_samples = np.random.choice(theta_grid,size=100_000,p=true_post_density/sum(true_post_density))\n",
    "    mean_true, std_true = np.mean(true_post_samples), np.std(true_post_samples)\n",
    "    mean_sample, std_sample = np.mean(sample), np.std(sample)\n",
    "    return np.square(mean_true-mean_sample) +np.square(np.log(std_true/std_sample))"
   ]
  },
  {
   "cell_type": "code",
   "execution_count": 36,
   "metadata": {},
   "outputs": [
    {
     "data": {
      "text/plain": [
       "8.002668602572108"
      ]
     },
     "execution_count": 36,
     "metadata": {},
     "output_type": "execute_result"
    }
   ],
   "source": [
    "compute_distances(true_post_y, rnpe_samples.cpu().numpy())"
   ]
  },
  {
   "cell_type": "code",
   "execution_count": 37,
   "metadata": {},
   "outputs": [],
   "source": [
    "def compute_rnpe_npe(task_name: str, sigma_2: float) -> Tuple[Tensor, Tensor, Tuple, Tensor]:\n",
    "    \"\"\"General pipeline to compute both NPE and RNPE samples for a given task and corruption.\n",
    "\n",
    "    Args:\n",
    "        task_name: Name of the task. \n",
    "        sigma_2: Corruption. \n",
    "\n",
    "    Returns:\n",
    "        Tuple[Tensor, Tensor, Tuple, Tensor]: NPE samples given x, y, theroritical given y and RNPE samples given y.\n",
    "    \"\"\"\n",
    "    \n",
    "    n_runs = 2\n",
    "    \n",
    "    norm_npe_rnpe = []\n",
    "    npe_samples_x_l=  []\n",
    "    npe_samples_y_l= []\n",
    "    theoritical_post_y_l = []\n",
    "    rnpe_samples_l = []\n",
    "    \n",
    "    for _ in tqdm(range(n_runs), leave=False):\n",
    "        task = Gaussian(N_simu=N_simu, sigma_y_2= sigma_2) #TODO Changer selon task_name\n",
    "        q_NPE = create_train_flow(task)\n",
    "        q_x_NF = create_train_unconditional_flow(task)\n",
    "        with torch.no_grad():\n",
    "            print()\n",
    "            xm = mcmc(torch.zeros(1,2).to(device), warm_up_steps, M, task.y0_scaled.squeeze().to(device), rho, sigma, tau, q_x_NF)\n",
    "        \n",
    "        npe_samples_x = q_NPE.flow(task.x0_scaled).sample((M, ))\n",
    "        npe_samples_y = q_NPE.flow(task.y0_scaled).sample((M,))\n",
    "        theoritical_post_y = task.true_post(task.y0.squeeze().cpu().numpy(), sigma_2)\n",
    "        rnpe_samples = q_NPE.flow(xm).sample()\n",
    "        norm_npe_rnpe.append(npe_samples_y.mean() - rnpe_samples.mean())\n",
    "        \n",
    "        npe_samples_x_l.append(npe_samples_x)\n",
    "        npe_samples_y_l.append(npe_samples_x)\n",
    "        theoritical_post_y_l.append(theoritical_post_y)\n",
    "        rnpe_samples_l.append(rnpe_samples)\n",
    "    imax = np.argmax(norm_npe_rnpe)\n",
    "    npe_samples_x = npe_samples_x_l[imax]\n",
    "    npe_samples_y = npe_samples_y_l[imax]\n",
    "    theoritical_post_y = theoritical_post_y_l[imax]\n",
    "    rnpe_samples = rnpe_samples_l[imax]\n",
    "    return npe_samples_x, npe_samples_y, theoritical_post_y, rnpe_samples\n",
    "            \n",
    "    "
   ]
  },
  {
   "cell_type": "code",
   "execution_count": 38,
   "metadata": {},
   "outputs": [
    {
     "data": {
      "application/vnd.jupyter.widget-view+json": {
       "model_id": "bf57ee90f3d442fba8181ec99d39fe60",
       "version_major": 2,
       "version_minor": 0
      },
      "text/plain": [
       "Corruption:   0%|          | 0/2 [00:00<?, ?Sigma²/s]"
      ]
     },
     "metadata": {},
     "output_type": "display_data"
    },
    {
     "name": "stdout",
     "output_type": "stream",
     "text": [
      "1\n"
     ]
    },
    {
     "data": {
      "application/vnd.jupyter.widget-view+json": {
       "model_id": "cbad2213e3d849a1ab42ebcada2960d8",
       "version_major": 2,
       "version_minor": 0
      },
      "text/plain": [
       "  0%|          | 0/2 [00:00<?, ?it/s]"
      ]
     },
     "metadata": {},
     "output_type": "display_data"
    },
    {
     "name": "stdout",
     "output_type": "stream",
     "text": [
      "\n"
     ]
    },
    {
     "data": {
      "application/vnd.jupyter.widget-view+json": {
       "model_id": "0e57fec6b29246aa957d5ac648759d1f",
       "version_major": 2,
       "version_minor": 0
      },
      "text/plain": [
       "  0%|          | 0/120000 [00:00<?, ?it/s]"
      ]
     },
     "metadata": {},
     "output_type": "display_data"
    },
    {
     "name": "stdout",
     "output_type": "stream",
     "text": [
      "\n"
     ]
    },
    {
     "data": {
      "application/vnd.jupyter.widget-view+json": {
       "model_id": "125ddd12f41e42f59c8f141fd3718b4c",
       "version_major": 2,
       "version_minor": 0
      },
      "text/plain": [
       "  0%|          | 0/120000 [00:00<?, ?it/s]"
      ]
     },
     "metadata": {},
     "output_type": "display_data"
    },
    {
     "name": "stdout",
     "output_type": "stream",
     "text": [
      "3\n"
     ]
    },
    {
     "data": {
      "application/vnd.jupyter.widget-view+json": {
       "model_id": "f316cbc73c6f4a309f71de0de650fa93",
       "version_major": 2,
       "version_minor": 0
      },
      "text/plain": [
       "  0%|          | 0/2 [00:00<?, ?it/s]"
      ]
     },
     "metadata": {},
     "output_type": "display_data"
    },
    {
     "name": "stdout",
     "output_type": "stream",
     "text": [
      "\n"
     ]
    },
    {
     "data": {
      "application/vnd.jupyter.widget-view+json": {
       "model_id": "6c582ed35b0246a080de8dfe86089795",
       "version_major": 2,
       "version_minor": 0
      },
      "text/plain": [
       "  0%|          | 0/120000 [00:00<?, ?it/s]"
      ]
     },
     "metadata": {},
     "output_type": "display_data"
    },
    {
     "name": "stdout",
     "output_type": "stream",
     "text": [
      "\n"
     ]
    },
    {
     "data": {
      "application/vnd.jupyter.widget-view+json": {
       "model_id": "8271dfa7fe6a41a3806b9d6e3f01c4ab",
       "version_major": 2,
       "version_minor": 0
      },
      "text/plain": [
       "  0%|          | 0/120000 [00:00<?, ?it/s]"
      ]
     },
     "metadata": {},
     "output_type": "display_data"
    }
   ],
   "source": [
    "results = {}\n",
    "sigmas_2 = np.arange(1,4,0.5)\n",
    "sigmas_2 = np.arange(1,4,2)\n",
    "with tqdm(sigmas_2, unit ='Sigma²', desc='Corruption') as tq:\n",
    "    for sigma_2 in tq:\n",
    "        print(sigma_2)\n",
    "        results[sigma_2] = {}\n",
    "        results[sigma_2][\"npe_samples_x\"],results[sigma_2][\"npe_samples_y\"],results[sigma_2][\"theoritical_post_y_l\"],results[sigma_2][\"rnpe_samples\"] =  compute_rnpe_npe(Gaussian, sigma_2)"
   ]
  },
  {
   "cell_type": "code",
   "execution_count": 43,
   "metadata": {},
   "outputs": [
    {
     "data": {
      "application/vnd.jupyter.widget-view+json": {
       "model_id": "48c0716672bd4e21af01d454b2d99f7d",
       "version_major": 2,
       "version_minor": 0
      },
      "text/plain": [
       "interactive(children=(Dropdown(description='sigma_2', options=(1, 3), value=1), Output()), _dom_classes=('widg…"
      ]
     },
     "metadata": {},
     "output_type": "display_data"
    }
   ],
   "source": [
    "@widgets.interact(sigma_2=sigmas_2)\n",
    "def plot_posteriors_widget(sigma_2=1):\n",
    "    plt.close()\n",
    "    fig, ax = plt.subplots()\n",
    "    ax.hist(results[sigma_2][\"npe_samples_y\"].squeeze(), bins=400, color=\"green\", density=True, label=\"Posterior samples from NPE\", alpha=0.5)\n",
    "    ax.hist(results[sigma_2][\"rnpe_samples\"].squeeze(), bins=400, color='red', density=True, label=\"Posterior samples from RNPE\", alpha=0.5)\n",
    "    ax.plot(theta_grid, results[sigma_2][\"theoritical_post_y_l\"])\n",
    "    ax.legend()\n",
    "    ax.set_title(f\"NPE and RNPE samples, sigma_y² = {sigma_2}\")\n",
    "    plt.show()"
   ]
  },
  {
   "cell_type": "code",
   "execution_count": 40,
   "metadata": {},
   "outputs": [
    {
     "data": {
      "text/plain": [
       "(array([1.53759413e+00, 1.38802118e-01, 7.07997299e-02, 3.80005798e-02,\n",
       "        3.27998749e-02, 2.75998947e-02, 2.92004456e-02, 2.71998962e-02,\n",
       "        2.68004089e-02, 2.59999008e-02, 2.20003357e-02, 3.51998657e-02,\n",
       "        2.35999100e-02, 2.80004273e-02, 3.07998825e-02, 2.12003235e-02,\n",
       "        3.07998825e-02, 2.79998932e-02, 3.12004761e-02, 3.11998810e-02,\n",
       "        3.04004639e-02, 3.55998642e-02, 3.79998550e-02, 2.72004150e-02,\n",
       "        3.39998703e-02, 3.52005371e-02, 3.99998474e-02, 3.11998810e-02,\n",
       "        2.96004517e-02, 3.51998657e-02, 2.88004395e-02, 3.99998474e-02,\n",
       "        3.16004822e-02, 2.55999023e-02, 3.43998688e-02, 4.28006531e-02,\n",
       "        2.99998856e-02, 3.60005493e-02, 2.95998871e-02, 3.72002129e-02,\n",
       "        3.16001808e-02, 3.15998795e-02, 3.08001762e-02, 3.72002129e-02,\n",
       "        3.52002014e-02, 3.28001877e-02, 2.88001648e-02, 3.23998764e-02,\n",
       "        3.12001785e-02, 3.64002083e-02, 3.84002197e-02, 4.08002335e-02,\n",
       "        4.31998352e-02, 4.04002312e-02, 4.12002357e-02, 3.84002197e-02,\n",
       "        5.60003204e-02, 3.52002014e-02, 4.11998428e-02, 3.92002243e-02,\n",
       "        3.64002083e-02, 4.00002289e-02, 4.60002632e-02, 3.59998627e-02,\n",
       "        4.72002701e-02, 3.80002174e-02, 3.28001877e-02, 3.52002014e-02,\n",
       "        4.36002495e-02, 4.07998444e-02, 5.16002953e-02, 5.04002884e-02,\n",
       "        4.76002724e-02, 4.44002541e-02, 5.44003113e-02, 5.19998016e-02,\n",
       "        5.08002907e-02, 5.52003159e-02, 5.76003296e-02, 5.36003067e-02,\n",
       "        5.95997726e-02, 5.60003204e-02, 4.92002815e-02, 6.04003456e-02,\n",
       "        6.36003639e-02, 6.32003616e-02, 5.43997925e-02, 6.20003548e-02,\n",
       "        5.80003319e-02, 6.52003731e-02, 6.92003960e-02, 6.47997528e-02,\n",
       "        6.88003937e-02, 7.08004051e-02, 7.44004257e-02, 7.16004097e-02,\n",
       "        8.00004578e-02, 6.99997330e-02, 7.24004143e-02, 8.32004761e-02,\n",
       "        9.24005287e-02, 7.56004326e-02, 8.55996735e-02, 8.20004692e-02,\n",
       "        7.52004303e-02, 8.28004738e-02, 1.02000584e-01, 1.12800645e-01,\n",
       "        1.04399602e-01, 1.04000595e-01, 1.14000652e-01, 1.13600650e-01,\n",
       "        1.00800577e-01, 1.00799615e-01, 1.10800634e-01, 1.12000641e-01,\n",
       "        1.18400677e-01, 1.20000687e-01, 1.23200705e-01, 1.16800111e-01,\n",
       "        1.16400111e-01, 1.12400643e-01, 1.20000687e-01, 1.18400113e-01,\n",
       "        1.20000687e-01, 1.12800645e-01, 1.20000114e-01, 1.09600627e-01,\n",
       "        1.23600707e-01, 1.35600129e-01, 1.44000824e-01, 1.27200121e-01,\n",
       "        1.33200762e-01, 1.45200831e-01, 1.49600143e-01, 1.44800829e-01,\n",
       "        1.56800897e-01, 1.42800136e-01, 1.31600753e-01, 1.54800886e-01,\n",
       "        1.50800144e-01, 1.59600913e-01, 1.47600845e-01, 1.58000151e-01,\n",
       "        1.55200888e-01, 1.75200167e-01, 1.78801023e-01, 1.79601028e-01,\n",
       "        1.78000170e-01, 2.00001144e-01, 2.23201277e-01, 2.19600209e-01,\n",
       "        2.10001202e-01, 2.16801241e-01, 2.24000214e-01, 2.37201357e-01,\n",
       "        2.30800220e-01, 2.30401318e-01, 2.58001476e-01, 2.37600793e-01,\n",
       "        2.66400889e-01, 2.49200832e-01, 2.72001556e-01, 2.64800884e-01,\n",
       "        2.63200879e-01, 2.66800891e-01, 2.77601588e-01, 2.62800877e-01,\n",
       "        2.66800891e-01, 2.65201517e-01, 2.88400963e-01, 2.58000861e-01,\n",
       "        2.74400916e-01, 2.52401444e-01, 2.62400876e-01, 2.55600853e-01,\n",
       "        2.54001453e-01, 2.66800891e-01, 2.62800877e-01, 2.50800837e-01,\n",
       "        2.49201129e-01, 2.42401098e-01, 2.48800830e-01, 2.36001069e-01,\n",
       "        2.41601094e-01, 2.38800797e-01, 2.54001151e-01, 2.35200785e-01,\n",
       "        2.54801154e-01, 2.44400816e-01, 2.55601158e-01, 2.38800939e-01,\n",
       "        2.40400946e-01, 2.56401009e-01, 2.68401056e-01, 2.46801044e-01,\n",
       "        2.69601061e-01, 2.48401014e-01, 2.37600952e-01, 2.51601009e-01,\n",
       "        2.39200959e-01, 2.27600912e-01, 2.26800926e-01, 2.25600887e-01,\n",
       "        1.90400749e-01, 1.96400831e-01, 1.78000700e-01, 1.98800782e-01,\n",
       "        1.82400718e-01, 1.78800703e-01, 1.81600714e-01, 1.85200839e-01,\n",
       "        1.62800543e-01, 1.56400708e-01, 1.49600499e-01, 1.54000698e-01,\n",
       "        1.40400636e-01, 1.28400429e-01, 1.26800574e-01, 1.21600406e-01,\n",
       "        1.16400527e-01, 1.08800363e-01, 1.01200338e-01, 1.00400574e-01,\n",
       "        1.08000360e-01, 9.84003284e-02, 9.76005585e-02, 9.88003298e-02,\n",
       "        1.04400348e-01, 9.88003298e-02, 1.14800657e-01, 1.27200425e-01,\n",
       "        1.35200451e-01, 1.62000927e-01, 1.98000661e-01, 2.41200805e-01,\n",
       "        2.93200979e-01, 3.74802145e-01, 4.51201506e-01, 5.41601808e-01,\n",
       "        6.01202007e-01, 6.54003742e-01, 7.14404088e-01, 6.96800665e-01,\n",
       "        6.92403962e-01, 6.62000631e-01, 5.92403390e-01, 5.30003033e-01,\n",
       "        4.34400414e-01, 3.53602023e-01, 2.83201620e-01, 2.08800199e-01,\n",
       "        1.59200911e-01, 1.10400632e-01, 8.24000786e-02, 6.84003914e-02,\n",
       "        5.32000507e-02, 4.68002678e-02, 3.60002060e-02, 2.36000225e-02,\n",
       "        2.36001350e-02, 1.44000824e-02, 1.92000183e-02, 2.60001488e-02,\n",
       "        1.92001099e-02, 1.60000153e-02, 1.68000961e-02, 1.92001099e-02,\n",
       "        1.36000130e-02, 1.52000870e-02, 1.52000145e-02, 1.60000916e-02,\n",
       "        1.40000801e-02, 1.64000156e-02, 1.92001099e-02, 1.52000870e-02,\n",
       "        1.40000134e-02, 1.16000664e-02, 1.32000755e-02, 1.84000175e-02,\n",
       "        9.20000877e-03, 1.36000778e-02, 8.40004807e-03, 5.20002975e-03,\n",
       "        1.00000572e-02, 1.00000572e-02, 8.39996796e-03, 1.00000572e-02,\n",
       "        1.12000641e-02, 8.80005035e-03, 8.80005035e-03, 1.07999588e-02,\n",
       "        6.80003891e-03, 6.80003891e-03, 7.20004120e-03, 7.60004349e-03,\n",
       "        6.40003662e-03, 4.79998169e-03, 8.80005035e-03, 5.20002975e-03,\n",
       "        7.60004349e-03, 7.20004120e-03, 8.39996796e-03, 7.20004120e-03,\n",
       "        8.00004578e-03, 6.40003662e-03, 4.40002518e-03, 7.20004120e-03,\n",
       "        8.79996643e-03, 5.60003204e-03, 3.60002060e-03, 8.40004807e-03,\n",
       "        6.80003891e-03, 6.79997406e-03, 5.60003204e-03, 5.20002975e-03,\n",
       "        2.80001602e-03, 4.40002518e-03, 4.40002518e-03, 2.79998932e-03,\n",
       "        4.80002747e-03, 2.00001144e-03, 4.40002518e-03, 3.60002060e-03,\n",
       "        3.19998779e-03, 1.60000916e-03, 4.40002518e-03, 3.60002060e-03,\n",
       "        2.80001602e-03, 3.20001831e-03, 2.79998932e-03, 2.80001602e-03,\n",
       "        2.40001373e-03, 3.20001831e-03, 3.20001831e-03, 3.60002060e-03,\n",
       "        2.39999084e-03, 3.60002060e-03, 4.00002289e-03, 1.20000687e-03,\n",
       "        3.60002060e-03, 4.79998169e-03, 2.40001373e-03, 3.20001831e-03,\n",
       "        5.20002975e-03, 2.40001373e-03, 2.00001144e-03, 2.79998932e-03,\n",
       "        2.00001144e-03, 3.60002060e-03, 4.80002747e-03, 3.60002060e-03,\n",
       "        3.19998779e-03, 2.80001602e-03, 2.40001373e-03, 1.20000687e-03,\n",
       "        3.20001831e-03, 3.60002060e-03, 2.39999084e-03, 1.60000916e-03,\n",
       "        1.60000916e-03, 1.99999237e-03, 8.00012207e-04, 1.99999237e-03,\n",
       "        8.00012207e-04, 1.59999390e-03, 1.59999390e-03, 2.40003662e-03,\n",
       "        2.39999084e-03, 2.00003052e-03, 1.19999542e-03, 2.80004273e-03,\n",
       "        2.39999084e-03, 1.19999542e-03, 8.00012207e-04, 1.99999237e-03,\n",
       "        1.60002441e-03, 7.99996948e-04, 2.79998932e-03, 1.60002441e-03,\n",
       "        1.59999390e-03, 2.80004273e-03, 2.39999084e-03, 2.39999084e-03,\n",
       "        2.40003662e-03, 3.59998627e-03, 3.60005493e-03, 2.39999084e-03,\n",
       "        4.39998322e-03, 3.60005493e-03, 3.19998779e-03, 2.80004273e-03,\n",
       "        3.19998779e-03, 4.40006714e-03, 5.99997711e-03, 4.39998322e-03,\n",
       "        3.20004883e-03, 3.19998779e-03, 5.60008545e-03, 1.67599361e-01]),\n",
       " array([-4.99998379e+00, -4.97498369e+00, -4.94998407e+00, -4.92498398e+00,\n",
       "        -4.89998436e+00, -4.87498426e+00, -4.84998417e+00, -4.82498455e+00,\n",
       "        -4.79998446e+00, -4.77498484e+00, -4.74998474e+00, -4.72498512e+00,\n",
       "        -4.69998503e+00, -4.67498493e+00, -4.64998531e+00, -4.62498522e+00,\n",
       "        -4.59998560e+00, -4.57498550e+00, -4.54998541e+00, -4.52498579e+00,\n",
       "        -4.49998569e+00, -4.47498608e+00, -4.44998598e+00, -4.42498589e+00,\n",
       "        -4.39998627e+00, -4.37498617e+00, -4.34998655e+00, -4.32498646e+00,\n",
       "        -4.29998636e+00, -4.27498674e+00, -4.24998665e+00, -4.22498703e+00,\n",
       "        -4.19998693e+00, -4.17498732e+00, -4.14998722e+00, -4.12498713e+00,\n",
       "        -4.09998751e+00, -4.07498741e+00, -4.04998779e+00, -4.02498770e+00,\n",
       "        -3.99998784e+00, -3.97498798e+00, -3.94998789e+00, -3.92498803e+00,\n",
       "        -3.89998817e+00, -3.87498832e+00, -3.84998846e+00, -3.82498860e+00,\n",
       "        -3.79998851e+00, -3.77498865e+00, -3.74998879e+00, -3.72498894e+00,\n",
       "        -3.69998908e+00, -3.67498899e+00, -3.64998913e+00, -3.62498927e+00,\n",
       "        -3.59998941e+00, -3.57498956e+00, -3.54998970e+00, -3.52498960e+00,\n",
       "        -3.49998975e+00, -3.47498989e+00, -3.44999003e+00, -3.42499018e+00,\n",
       "        -3.39999008e+00, -3.37499022e+00, -3.34999037e+00, -3.32499051e+00,\n",
       "        -3.29999065e+00, -3.27499080e+00, -3.24999070e+00, -3.22499084e+00,\n",
       "        -3.19999099e+00, -3.17499113e+00, -3.14999127e+00, -3.12499142e+00,\n",
       "        -3.09999132e+00, -3.07499146e+00, -3.04999161e+00, -3.02499175e+00,\n",
       "        -2.99999189e+00, -2.97499180e+00, -2.94999194e+00, -2.92499208e+00,\n",
       "        -2.89999223e+00, -2.87499237e+00, -2.84999251e+00, -2.82499242e+00,\n",
       "        -2.79999256e+00, -2.77499270e+00, -2.74999285e+00, -2.72499299e+00,\n",
       "        -2.69999290e+00, -2.67499304e+00, -2.64999318e+00, -2.62499332e+00,\n",
       "        -2.59999347e+00, -2.57499361e+00, -2.54999352e+00, -2.52499366e+00,\n",
       "        -2.49999380e+00, -2.47499394e+00, -2.44999409e+00, -2.42499399e+00,\n",
       "        -2.39999413e+00, -2.37499428e+00, -2.34999442e+00, -2.32499456e+00,\n",
       "        -2.29999471e+00, -2.27499461e+00, -2.24999475e+00, -2.22499490e+00,\n",
       "        -2.19999504e+00, -2.17499518e+00, -2.14999509e+00, -2.12499523e+00,\n",
       "        -2.09999537e+00, -2.07499552e+00, -2.04999566e+00, -2.02499580e+00,\n",
       "        -1.99999583e+00, -1.97499585e+00, -1.94999599e+00, -1.92499614e+00,\n",
       "        -1.89999616e+00, -1.87499630e+00, -1.84999645e+00, -1.82499647e+00,\n",
       "        -1.79999661e+00, -1.77499676e+00, -1.74999678e+00, -1.72499692e+00,\n",
       "        -1.69999695e+00, -1.67499709e+00, -1.64999723e+00, -1.62499726e+00,\n",
       "        -1.59999740e+00, -1.57499754e+00, -1.54999757e+00, -1.52499771e+00,\n",
       "        -1.49999785e+00, -1.47499788e+00, -1.44999802e+00, -1.42499816e+00,\n",
       "        -1.39999819e+00, -1.37499833e+00, -1.34999835e+00, -1.32499850e+00,\n",
       "        -1.29999864e+00, -1.27499866e+00, -1.24999881e+00, -1.22499895e+00,\n",
       "        -1.19999897e+00, -1.17499912e+00, -1.14999926e+00, -1.12499928e+00,\n",
       "        -1.09999943e+00, -1.07499945e+00, -1.04999959e+00, -1.02499974e+00,\n",
       "        -9.99999821e-01, -9.74999905e-01, -9.49999988e-01, -9.25000131e-01,\n",
       "        -9.00000215e-01, -8.75000298e-01, -8.50000381e-01, -8.25000525e-01,\n",
       "        -8.00000608e-01, -7.75000691e-01, -7.50000834e-01, -7.25000918e-01,\n",
       "        -7.00001001e-01, -6.75001085e-01, -6.50001228e-01, -6.25001311e-01,\n",
       "        -6.00001395e-01, -5.75001538e-01, -5.50001621e-01, -5.25001705e-01,\n",
       "        -5.00001788e-01, -4.75001901e-01, -4.50002015e-01, -4.25002098e-01,\n",
       "        -4.00002211e-01, -3.75002325e-01, -3.50002408e-01, -3.25002521e-01,\n",
       "        -3.00002605e-01, -2.75002718e-01, -2.50002801e-01, -2.25002915e-01,\n",
       "        -2.00003013e-01, -1.75003111e-01, -1.50003210e-01, -1.25003308e-01,\n",
       "        -1.00003414e-01, -7.50035122e-02, -5.00036143e-02, -2.50037145e-02,\n",
       "        -3.81469727e-06,  2.49960851e-02,  4.99959849e-02,  7.49958828e-02,\n",
       "         9.99957845e-02,  1.24995686e-01,  1.49995580e-01,  1.74995482e-01,\n",
       "         1.99995384e-01,  2.24995285e-01,  2.49995187e-01,  2.74995089e-01,\n",
       "         2.99994975e-01,  3.24994892e-01,  3.49994779e-01,  3.74994695e-01,\n",
       "         3.99994582e-01,  4.24994469e-01,  4.49994385e-01,  4.74994272e-01,\n",
       "         4.99994189e-01,  5.24994075e-01,  5.49993992e-01,  5.74993908e-01,\n",
       "         5.99993765e-01,  6.24993682e-01,  6.49993598e-01,  6.74993455e-01,\n",
       "         6.99993372e-01,  7.24993289e-01,  7.49993205e-01,  7.74993062e-01,\n",
       "         7.99992979e-01,  8.24992895e-01,  8.49992752e-01,  8.74992669e-01,\n",
       "         8.99992585e-01,  9.24992502e-01,  9.49992359e-01,  9.74992275e-01,\n",
       "         9.99992192e-01,  1.02499211e+00,  1.04999197e+00,  1.07499182e+00,\n",
       "         1.09999180e+00,  1.12499166e+00,  1.14999163e+00,  1.17499149e+00,\n",
       "         1.19999135e+00,  1.22499132e+00,  1.24999118e+00,  1.27499104e+00,\n",
       "         1.29999101e+00,  1.32499087e+00,  1.34999073e+00,  1.37499070e+00,\n",
       "         1.39999056e+00,  1.42499053e+00,  1.44999039e+00,  1.47499025e+00,\n",
       "         1.49999022e+00,  1.52499008e+00,  1.54998994e+00,  1.57498991e+00,\n",
       "         1.59998977e+00,  1.62498963e+00,  1.64998960e+00,  1.67498946e+00,\n",
       "         1.69998932e+00,  1.72498930e+00,  1.74998915e+00,  1.77498913e+00,\n",
       "         1.79998899e+00,  1.82498884e+00,  1.84998882e+00,  1.87498868e+00,\n",
       "         1.89998853e+00,  1.92498851e+00,  1.94998837e+00,  1.97498822e+00,\n",
       "         1.99998820e+00,  2.02498817e+00,  2.04998803e+00,  2.07498789e+00,\n",
       "         2.09998775e+00,  2.12498760e+00,  2.14998746e+00,  2.17498755e+00,\n",
       "         2.19998741e+00,  2.22498727e+00,  2.24998713e+00,  2.27498698e+00,\n",
       "         2.29998708e+00,  2.32498693e+00,  2.34998679e+00,  2.37498665e+00,\n",
       "         2.39998651e+00,  2.42498636e+00,  2.44998646e+00,  2.47498631e+00,\n",
       "         2.49998617e+00,  2.52498603e+00,  2.54998589e+00,  2.57498598e+00,\n",
       "         2.59998584e+00,  2.62498569e+00,  2.64998555e+00,  2.67498541e+00,\n",
       "         2.69998527e+00,  2.72498536e+00,  2.74998522e+00,  2.77498507e+00,\n",
       "         2.79998493e+00,  2.82498479e+00,  2.84998488e+00,  2.87498474e+00,\n",
       "         2.89998460e+00,  2.92498446e+00,  2.94998431e+00,  2.97498417e+00,\n",
       "         2.99998426e+00,  3.02498412e+00,  3.04998398e+00,  3.07498384e+00,\n",
       "         3.09998369e+00,  3.12498379e+00,  3.14998364e+00,  3.17498350e+00,\n",
       "         3.19998336e+00,  3.22498322e+00,  3.24998307e+00,  3.27498317e+00,\n",
       "         3.29998302e+00,  3.32498288e+00,  3.34998274e+00,  3.37498260e+00,\n",
       "         3.39998245e+00,  3.42498255e+00,  3.44998240e+00,  3.47498226e+00,\n",
       "         3.49998212e+00,  3.52498198e+00,  3.54998207e+00,  3.57498193e+00,\n",
       "         3.59998178e+00,  3.62498164e+00,  3.64998150e+00,  3.67498136e+00,\n",
       "         3.69998145e+00,  3.72498131e+00,  3.74998116e+00,  3.77498102e+00,\n",
       "         3.79998088e+00,  3.82498097e+00,  3.84998083e+00,  3.87498069e+00,\n",
       "         3.89998055e+00,  3.92498040e+00,  3.94998026e+00,  3.97498035e+00,\n",
       "         3.99998021e+00,  4.02498007e+00,  4.04998016e+00,  4.07497978e+00,\n",
       "         4.09997988e+00,  4.12497950e+00,  4.14997959e+00,  4.17497969e+00,\n",
       "         4.19997931e+00,  4.22497940e+00,  4.24997902e+00,  4.27497911e+00,\n",
       "         4.29997873e+00,  4.32497883e+00,  4.34997892e+00,  4.37497854e+00,\n",
       "         4.39997864e+00,  4.42497826e+00,  4.44997835e+00,  4.47497845e+00,\n",
       "         4.49997807e+00,  4.52497816e+00,  4.54997778e+00,  4.57497787e+00,\n",
       "         4.59997797e+00,  4.62497759e+00,  4.64997768e+00,  4.67497730e+00,\n",
       "         4.69997740e+00,  4.72497749e+00,  4.74997711e+00,  4.77497721e+00,\n",
       "         4.79997683e+00,  4.82497692e+00,  4.84997654e+00,  4.87497663e+00,\n",
       "         4.89997673e+00,  4.92497635e+00,  4.94997644e+00,  4.97497606e+00,\n",
       "         4.99997616e+00]),\n",
       " <BarContainer object of 400 artists>)"
      ]
     },
     "execution_count": 40,
     "metadata": {},
     "output_type": "execute_result"
    },
    {
     "data": {
      "image/png": "[encoded data removed]",
      "text/plain": [
       "<Figure size 640x480 with 1 Axes>"
      ]
     },
     "metadata": {},
     "output_type": "display_data"
    }
   ],
   "source": [
    "plt.hist(npe_samples_y.squeeze().cpu().numpy(), bins=400, density=True)\n",
    "plt.hist(rnpe_samples.cpu().numpy(), bins=400, density=True)"
   ]
  }
 ],
 "metadata": {
  "kernelspec": {
   "display_name": "sbi_env1",
   "language": "python",
   "name": "python3"
  },
  "language_info": {
   "codemirror_mode": {
    "name": "ipython",
    "version": 3
   },
   "file_extension": ".py",
   "mimetype": "text/x-python",
   "name": "python",
   "nbconvert_exporter": "python",
   "pygments_lexer": "ipython3",
   "version": "3.11.3"
  },
  "orig_nbformat": 4
 },
 "nbformat": 4,
 "nbformat_minor": 2
}
