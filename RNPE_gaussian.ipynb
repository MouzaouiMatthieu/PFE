{
 "cells": [
  {
   "cell_type": "code",
   "execution_count": 1,
   "metadata": {},
   "outputs": [],
   "source": [
    "import lampe\n",
    "import numpy as np\n",
    "import torch\n",
    "import zuko\n",
    "\n",
    "import matplotlib.pyplot as plt\n",
    "import ipywidgets as widgets\n",
    "import scipy.integrate as integrate\n",
    "\n",
    "from IPython.display import display\n",
    "from typing import Tuple, Callable, List, Dict\n",
    "from tqdm.notebook import tqdm_notebook as tqdm\n",
    "from torch import Tensor"
   ]
  },
  {
   "cell_type": "code",
   "execution_count": 2,
   "metadata": {},
   "outputs": [],
   "source": [
    "N = 100\n",
    "theta_grid = np.linspace(-8, 8, 1000)\n",
    "N_simu = 50_000\n",
    "M = 100_000\n",
    "warm_up_steps = 20_000\n",
    "sigma = 0.01\n",
    "tau = 0.25\n",
    "rho = 1 / 2"
   ]
  },
  {
   "cell_type": "code",
   "execution_count": 3,
   "metadata": {},
   "outputs": [],
   "source": [
    "def posterior_summaries(thetas: Tuple, x1: float, x2: float, sigma_2_y: float = 1):\n",
    "    r\"\"\"Compute the true posterior of :math:`p(\\theta | x)`.\n",
    "\n",
    "    Args:\n",
    "        thetas: points where we want the density function to be computed.\n",
    "        x1: First dimension of the observation.\n",
    "        x2: Second dimension of the observation.\n",
    "        sigma_2_y (optional): Corruption. Defaults to 1 (no corruption).\n",
    "    \"\"\"\n",
    "\n",
    "    def improper_posterior_summaries(theta, x1=x1, x2=x2):\n",
    "        likelihood_x1_part = -N * np.square(theta - x1) / (2 * sigma_2_y**2)\n",
    "        likelihood_x2_part = (\n",
    "            -0.5 * np.square(sigma_2_y - x2) / (2 * np.square(sigma_2_y) / N)\n",
    "        )\n",
    "        prior_part = -np.square(theta) / 50\n",
    "        return (\n",
    "            np.exp(likelihood_x1_part) * np.exp(likelihood_x2_part) * np.exp(prior_part)\n",
    "        )\n",
    "\n",
    "    z_summaries, eps = integrate.quad(improper_posterior_summaries, -25, 25)\n",
    "    return [\n",
    "        improper_posterior_summaries(theta, x1, x2) / z_summaries for theta in thetas\n",
    "    ]"
   ]
  },
  {
   "cell_type": "code",
   "execution_count": 4,
   "metadata": {},
   "outputs": [],
   "source": [
    "def get_true_post(task_name: str, x_star: Tensor, sigma_y_2: float = 1) -> Tuple:\n",
    "    r\"\"\"Get the true posterior of :math:`p(\\theta | x^*)`.\n",
    "\n",
    "    Args:\n",
    "        task_name: Name of the task.\n",
    "        x_star: Observation.\n",
    "        sigma_y_2 (optional): Corruption. Defaults to 1 (no corruption).\n",
    "\n",
    "    Returns:\n",
    "        Tuple: Density evaluated at points theta_grid.\n",
    "    \"\"\"\n",
    "    theta_grid  # Convert theta_grid to a torch tensor\n",
    "    post = None\n",
    "    if task_name == \"Gaussian\":\n",
    "        # We observe x = (x1, x2) = (mean, var)\n",
    "        post = posterior_summaries(theta_grid, x_star[0], x_star[1], sigma_y_2)\n",
    "    # post = torch.stack(post).cuda()  # Move post to CUDA\n",
    "    return post"
   ]
  },
  {
   "cell_type": "code",
   "execution_count": 5,
   "metadata": {},
   "outputs": [],
   "source": [
    "device = torch.device(\"cuda\" if torch.cuda.is_available() else \"cpu\")\n",
    "device = \"cpu\""
   ]
  },
  {
   "cell_type": "code",
   "execution_count": 6,
   "metadata": {},
   "outputs": [],
   "source": [
    "class Gaussian:\n",
    "    r\"\"\"Gaussian Task.\n",
    "        - Simulation: :math:`z_i \\sim \\mathcal{N}(\\theta, 1), i=1,...N_simu`\n",
    "        - TDGP: :math:`z_i \\sim \\mathcal{N}(\\theta, \\sigma^2), i=1,...N_simu`\n",
    "        - Feature space: Summary statistic :math:`x=\\left(mean(z_1,...z_{N_simu}); var(z_1,...z_{N_simu)\\right)`\n",
    "    NB: We can see the TDGP such that :math:`y = x + \\epsiolon, x \\sim \\mathcal{M}(\\theta), \\epsilon \\sim \\mathcal{N}(0, \\sigma_y^2).\n",
    "    \"\"\"\n",
    "\n",
    "    def __init__(\n",
    "        self, N_simu: int, sigma_y_2: float, true_theta: Tensor = torch.zeros(1)\n",
    "    ) -> None:\n",
    "        r\"\"\"Init the object, including datasets.\n",
    "\n",
    "        Args:\n",
    "            N_simu: total number of simulations\n",
    "            sigma_y_2: Corruption, Var of the observed data.\n",
    "        \"\"\"\n",
    "        self.name = \"Gaussian\"\n",
    "        self.prior = torch.distributions.Normal(0, 5)\n",
    "        self.sigma_y_2 = sigma_y_2\n",
    "        self.features_dim = 2\n",
    "        self.parameters_dim = 1\n",
    "        self.true_theta = true_theta\n",
    "        data = self.generate_data(N_simu, sigma_y_2)\n",
    "        data_test = self.generate_data(N_simu // 10, sigma_y_2)\n",
    "        true_obs_data = self.generate_data(1, sigma_y_2, true_theta)\n",
    "\n",
    "        x0 = true_obs_data[\"x\"]\n",
    "        y0 = x0 + true_obs_data[\"eps\"]\n",
    "        x0_scaled = (x0 - data[\"scale_parameters\"][0]) / data[\"scale_parameters\"][1]\n",
    "        y0_scaled = (y0 - data[\"scale_parameters\"][0]) / data[\"scale_parameters\"][1]\n",
    "\n",
    "        self.data = data\n",
    "        self.data_test = data_test\n",
    "        self.x0 = x0.squeeze()\n",
    "        self.y0 = y0.squeeze()\n",
    "        self.x0_scaled = x0_scaled\n",
    "        self.y0_scaled = y0_scaled\n",
    "\n",
    "    def prior_sample(self, n):\n",
    "        return self.prior.sample((n,))\n",
    "\n",
    "    def generate_data(self, N: int, sigma_y_2: float = 1, thetas: Tensor = None):\n",
    "        \"\"\"Generates data according to #TODO Maths ici\n",
    "\n",
    "        Args:\n",
    "            N: Total number of simulations\n",
    "            sigma_y_2 (optional): Corruption. Defaults to 1.\n",
    "            theta (optional): Reference theta.\n",
    "\n",
    "        Returns:\n",
    "            res: dictionnary whose entries are parameters thetas, the raw simulations x, the corruption espilons as well as the scaled observations and the scale parameters.\n",
    "        \"\"\"\n",
    "        if thetas is None:\n",
    "            thetas = self.prior_sample(N)\n",
    "        sigma_eps = (\n",
    "            sigma_y_2 - 1\n",
    "        )  # If the TDGP has a variance of \\sigma^2, the corruption layer has \\sigma-1\n",
    "        res = {}\n",
    "        res[\"theta\"] = thetas\n",
    "        means_and_vars = torch.zeros((N, 2), device=device)\n",
    "\n",
    "        for i, theta in enumerate(thetas):\n",
    "            z = torch.distributions.Normal(theta, 1).sample((100,)).to(device)\n",
    "            mean = z.mean()\n",
    "            var = z.var()\n",
    "            means_and_vars[i] = torch.stack(\n",
    "                [mean.unsqueeze_(0), var.unsqueeze_(0)]\n",
    "            ).squeeze_()\n",
    "\n",
    "        res[\"x\"] = means_and_vars\n",
    "\n",
    "        norm_max = -1\n",
    "        for n_run in range(1):\n",
    "            # We take the run where the corruption has more effect, to be able to compare.\n",
    "            eps = (\n",
    "                torch.distributions.Normal(\n",
    "                    torch.zeros_like(res[\"x\"]), np.sqrt(sigma_eps)\n",
    "                )\n",
    "                .sample()\n",
    "                .to(device)\n",
    "            )\n",
    "            if torch.norm(eps) > norm_max:\n",
    "                epsilons = eps\n",
    "                norm_max = torch.norm(eps)\n",
    "        res[\"eps\"] = epsilons\n",
    "        scale_mean, scale_std = res[\"x\"].mean(0), res[\"x\"].std(0)\n",
    "        res[\"scale_parameters\"] = scale_mean, scale_std\n",
    "        res[\"scaled_x\"] = (res[\"x\"] - scale_mean) / scale_std\n",
    "        return res\n",
    "\n",
    "    def true_post(self, x_star: Tensor, sigma_2_y: float = None) -> Tuple:\n",
    "        \"\"\"Get the true posterior given an observation x_star.\n",
    "\n",
    "        Args:\n",
    "            x_star: An observation.\n",
    "            sigma_2_y (optional): Corruption. Defaults to None.\n",
    "\n",
    "        Returns:\n",
    "            post: Posterior density evaluated from -8 to 8.\n",
    "        \"\"\"\n",
    "        if sigma_2_y is None:\n",
    "            sigma_2_y = self.sigma_y_2\n",
    "        theta_grid_t = np.linspace(-8, 8, 1000)\n",
    "        post = posterior_summaries(theta_grid_t, x_star[0], x_star[1], sigma_2_y)\n",
    "        return post"
   ]
  },
  {
   "cell_type": "code",
   "execution_count": 7,
   "metadata": {},
   "outputs": [],
   "source": [
    "sigma_2_y = 2"
   ]
  },
  {
   "cell_type": "code",
   "execution_count": 8,
   "metadata": {},
   "outputs": [],
   "source": [
    "def build_nsf(features, context):\n",
    "    \"\"\"Callable to instantiate the NPE with NSFs\"\"\"\n",
    "    return zuko.flows.NSF(features, context, bins=10, transforms=5).to(device)\n",
    "\n",
    "\n",
    "def train_flow(\n",
    "    flow: lampe.inference.NPE,\n",
    "    loss: Callable[[Tensor, Tensor], float],\n",
    "    theta: Tensor,\n",
    "    x: Tensor,\n",
    "    theta_test: Tensor,\n",
    "    x_test: Tensor,\n",
    ") -> lampe.inference.NPE:\n",
    "    \"\"\"Training procedure for the instantiated NPE.\n",
    "\n",
    "    Args:\n",
    "        flow (lampe.inference.NPE): Flow object to be trained.\n",
    "        loss (Callable[[Tensor, Tensor], float]): Loss function used for training.\n",
    "        theta (Tensor): Parameters.\n",
    "        x (Tensor): Observations.\n",
    "        theta_test (Tensor): Parameters used for early stopping.\n",
    "        x_test (Tensor): Observations used for early stopping.\n",
    "\n",
    "    Returns:\n",
    "        lampe.inference.NPE: The trained flow.\n",
    "    \"\"\"\n",
    "    optimizer = torch.optim.Adam(flow.parameters(), lr=5e-3)\n",
    "    theta_test = theta_test.unsqueeze(-1).to(device)\n",
    "    data = lampe.data.JointDataset(theta.to(device), x.to(device))\n",
    "    loader = lampe.data.DataLoader(data, batch_size=256)\n",
    "\n",
    "    with torch.no_grad():\n",
    "        min_loss = loss(theta_test, x_test.to(device))\n",
    "    min_loss_list = [min_loss.item()]  # Convert min_loss to a scalar\n",
    "\n",
    "    flow.train()\n",
    "\n",
    "    for epoch in range(50):\n",
    "        for theta_batch, x_batch in loader:\n",
    "            theta_batch = theta_batch.unsqueeze(-1).to(device)\n",
    "            x_batch = x_batch.to(device)\n",
    "            losses = loss(theta_batch, x_batch)\n",
    "            optimizer.zero_grad()\n",
    "            losses.backward()\n",
    "            optimizer.step()\n",
    "\n",
    "        # Checking for early stopping\n",
    "        with torch.no_grad():\n",
    "            loss_test = loss(theta_test, x_test.to(device))\n",
    "            min_loss_list.append(loss_test.item())  # Convert loss_test to a scalar\n",
    "            if (\n",
    "                len(min_loss_list) - np.argmin(min_loss_list) > 5\n",
    "            ):  # No improvement in loss(test) for the last 5 iterations\n",
    "                # Early stop\n",
    "                break\n",
    "    flow.eval()\n",
    "    return flow\n",
    "\n",
    "\n",
    "def create_train_flow(task) -> lampe.inference.NPE:\n",
    "    \"\"\"Creates a conditional flow (NSF) and trains it on the task data.\n",
    "\n",
    "    Args:\n",
    "        task: A task object.\n",
    "\n",
    "    Returns:\n",
    "        lampe.inference.NPE: The trained flow.\n",
    "    \"\"\"\n",
    "    data = task.data\n",
    "    data_test = task.data_test\n",
    "    theta = data[\"theta\"]\n",
    "    theta_test = data_test[\"theta\"]\n",
    "    shape_x = lambda x: 2 if x == \"Gaussian\" or x == \"two_z\" else 1\n",
    "    flow = lampe.inference.NPE(\n",
    "        theta_dim=1, x_dim=shape_x(task.name), build=build_nsf\n",
    "    ).to(device)\n",
    "    loss = lampe.inference.NPELoss(flow).to(device)\n",
    "    x = data[\"scaled_x\"].to(device)\n",
    "    x_test = data_test[\"scaled_x\"].to(device)\n",
    "    flow = train_flow(flow, loss, theta, x, theta_test, x_test)\n",
    "    return flow\n",
    "\n",
    "\n",
    "task = Gaussian(N_simu=N_simu, sigma_y_2=sigma_2_y)\n",
    "q_NPE = create_train_flow(task)"
   ]
  },
  {
   "cell_type": "code",
   "execution_count": 9,
   "metadata": {},
   "outputs": [],
   "source": [
    "def train_unconditional_flow(\n",
    "    flow: zuko.flows, loss: Callable[[Tensor], float], x: Tensor, x_test: Tensor\n",
    ") -> zuko.flows:\n",
    "    \"\"\"Trains a unconditional flow on x.\n",
    "\n",
    "    Args:\n",
    "        flow: Object flow to be trained.\n",
    "        loss: Method to compute a loss.\n",
    "        x: Training data.\n",
    "        x_test: Test data, used for early stopping.\n",
    "\n",
    "    Returns:\n",
    "        flow: Trained flow object.\n",
    "    \"\"\"\n",
    "    optimizer = torch.optim.Adam(flow.parameters(), lr=1e-2)\n",
    "    loader = torch.utils.data.DataLoader(x.to(device), 256)\n",
    "\n",
    "    with torch.no_grad():\n",
    "        min_loss = loss(x_test.to(device))\n",
    "    min_loss_list = [min_loss.item()]  # Convert min_loss to a scalar\n",
    "\n",
    "    flow.train()\n",
    "\n",
    "    for epoch in range(50):\n",
    "        for x_batch in loader:\n",
    "            x_batch = x_batch.to(device)\n",
    "            losses = loss(x_batch)\n",
    "            optimizer.zero_grad()\n",
    "            losses.backward()\n",
    "            optimizer.step()\n",
    "\n",
    "        # Checking for early stopping\n",
    "        with torch.no_grad():\n",
    "            loss_test = loss(x_test.to(device))\n",
    "            min_loss_list.append(loss_test.item())  # Convert loss_test to a scalar\n",
    "            if (\n",
    "                len(min_loss_list) - np.argmin(min_loss_list) > 5\n",
    "            ):  # No improvement in loss(test) for the last 5 iterations\n",
    "                # Early stop\n",
    "\n",
    "                break\n",
    "    flow.eval()\n",
    "    return flow\n",
    "\n",
    "\n",
    "def create_train_unconditional_flow(task) -> zuko.flows:\n",
    "    \"\"\"Instanciate and trains an unconditional flow (MAF) on the task data.\n",
    "\n",
    "    Args:\n",
    "        task: A task, containing train and test data.\n",
    "\n",
    "    Returns:\n",
    "        flow: The trained flow.\n",
    "    \"\"\"\n",
    "    data = task.data\n",
    "    data_test = task.data_test\n",
    "    shape_x = lambda x: 2 if x == \"Gaussian\" or x == \"two_z\" else 1\n",
    "    flow = zuko.flows.NAF(features=shape_x(task.name), context=0).to(device)  #!\n",
    "    loss = lambda x: -flow().log_prob(x).mean()\n",
    "    x = data[\"scaled_x\"].to(device)\n",
    "    x_test = data_test[\"scaled_x\"].to(device)\n",
    "    flow = train_unconditional_flow(flow, loss, x, x_test)\n",
    "    return flow\n",
    "\n",
    "\n",
    "q_x_NF = create_train_unconditional_flow(task)"
   ]
  },
  {
   "cell_type": "code",
   "execution_count": 10,
   "metadata": {},
   "outputs": [],
   "source": [
    "npe_samples_x = q_NPE.flow(task.x0_scaled).sample((20_000,))\n",
    "\n",
    "true_post = task.true_post(task.x0.squeeze().cpu().numpy())\n",
    "\n",
    "npe_samples_y = q_NPE.flow(task.y0_scaled).sample((20_000,))\n",
    "\n",
    "theoritical_post_y = task.true_post(task.y0.squeeze().cpu().numpy(), sigma_2_y)"
   ]
  },
  {
   "cell_type": "code",
   "execution_count": 11,
   "metadata": {},
   "outputs": [
    {
     "data": {
      "image/png": "[encoded data removed]",
      "text/plain": [
       "<Figure size 640x480 with 1 Axes>"
      ]
     },
     "metadata": {},
     "output_type": "display_data"
    }
   ],
   "source": [
    "fig, ax = plt.subplots()\n",
    "ax.hist(\n",
    "    npe_samples_x.cpu().squeeze().cpu().numpy(),\n",
    "    bins=400,\n",
    "    density=True,\n",
    "    label=\"Samples from q_(θ|x=x0)\",\n",
    ")  #!\n",
    "ax.plot(theta_grid, true_post, label=\"Theoretical posterior p(θ|x=x0)\")\n",
    "ax.hist(\n",
    "    npe_samples_y.cpu().squeeze().numpy(),\n",
    "    bins=400,\n",
    "    density=True,\n",
    "    label=\"Samples from q(θ|x=y0)\",\n",
    ")\n",
    "ax.plot(theta_grid, theoritical_post_y, label=\"Theoretical posterior p(θ|x=y0)\")\n",
    "\n",
    "ax.set_title(\"Posteriors q and p\")\n",
    "# ax.set_xlim(3, 6)\n",
    "ax.legend()\n",
    "plt.show()"
   ]
  },
  {
   "cell_type": "code",
   "execution_count": 14,
   "metadata": {},
   "outputs": [],
   "source": [
    "# Define the proposal function\n",
    "def proposal(x_curr):\n",
    "    return x_curr + torch.distributions.Normal(0, 1).sample(x_curr.shape).to(device)\n",
    "\n",
    "\n",
    "# Define the f function\n",
    "def f(y0, x, rho, sigma, tau, q_x_NF):\n",
    "    D = x.shape[-1]\n",
    "    res = torch.zeros_like(x)\n",
    "    for j in range(D):\n",
    "        xj = x[:, j]\n",
    "        yj = y0[j]\n",
    "        zj = torch.distributions.Bernoulli(rho).sample().to(device)\n",
    "        if not zj:\n",
    "            spike_dist = torch.distributions.Normal(\n",
    "                xj.detach(), torch.tensor(sigma).to(device)\n",
    "            )\n",
    "            res[:, j] = torch.exp(spike_dist.log_prob(yj))\n",
    "        else:\n",
    "            slab_dist = torch.distributions.Cauchy(\n",
    "                xj.detach(), torch.tensor(tau).to(device)\n",
    "            )\n",
    "            res[:, j] = torch.exp(slab_dist.log_prob(yj))\n",
    "    return res * torch.exp(q_x_NF().log_prob(x))\n",
    "\n",
    "\n",
    "def mcmc(x0, warm_up_steps, M, y0, rho, sigma, tau, q_x_NF):\n",
    "    x_curr = x0.to(device)\n",
    "    my_samples = torch.empty((warm_up_steps + M, x0.shape[1])).to(device)\n",
    "    log_f_x_curr = f(y0, x_curr, rho, sigma, tau, q_x_NF).log()\n",
    "\n",
    "    for i in tqdm(range(warm_up_steps + M), desc=\"MCMC sampling\"):\n",
    "        x_star = proposal(x_curr)\n",
    "        log_f_x_star = f(y0, x_star, rho, sigma, tau, q_x_NF).log()\n",
    "\n",
    "        log_a = log_f_x_star - log_f_x_curr\n",
    "\n",
    "        a = torch.exp(log_a)\n",
    "\n",
    "        u = torch.FloatTensor(a.shape).uniform_().to(device)\n",
    "\n",
    "        mask = u < a\n",
    "\n",
    "        x_curr = torch.where(mask, x_star, x_curr)\n",
    "        log_f_x_curr = torch.where(mask, log_f_x_star, log_f_x_curr)\n",
    "\n",
    "        #  my_samples[i] = x_curr\n",
    "        my_samples[i] = x_curr\n",
    "\n",
    "    my_samples = my_samples[warm_up_steps:]\n",
    "    # my_samples = torch.stack(my_samples)\n",
    "    return my_samples"
   ]
  },
  {
   "cell_type": "code",
   "execution_count": 15,
   "metadata": {},
   "outputs": [
    {
     "data": {
      "application/vnd.jupyter.widget-view+json": {
       "model_id": "037d6b0c584641b0a7191efbc6a294f5",
       "version_major": 2,
       "version_minor": 0
      },
      "text/plain": [
       "MCMC sampling:   0%|          | 0/120000 [00:00<?, ?it/s]"
      ]
     },
     "metadata": {},
     "output_type": "display_data"
    },
    {
     "ename": "KeyboardInterrupt",
     "evalue": "",
     "output_type": "error",
     "traceback": [
      "\u001b[1;31m---------------------------------------------------------------------------\u001b[0m",
      "\u001b[1;31mKeyboardInterrupt\u001b[0m                         Traceback (most recent call last)",
      "Cell \u001b[1;32mIn[15], line 2\u001b[0m\n\u001b[0;32m      1\u001b[0m \u001b[39mwith\u001b[39;00m torch\u001b[39m.\u001b[39mno_grad():\n\u001b[1;32m----> 2\u001b[0m     xm \u001b[39m=\u001b[39m mcmc(\n\u001b[0;32m      3\u001b[0m         torch\u001b[39m.\u001b[39;49mzeros(\u001b[39m1\u001b[39;49m, \u001b[39m2\u001b[39;49m)\u001b[39m.\u001b[39;49mto(device),\n\u001b[0;32m      4\u001b[0m         warm_up_steps,\n\u001b[0;32m      5\u001b[0m         M,\n\u001b[0;32m      6\u001b[0m         task\u001b[39m.\u001b[39;49my0_scaled\u001b[39m.\u001b[39;49msqueeze()\u001b[39m.\u001b[39;49mto(device),\n\u001b[0;32m      7\u001b[0m         rho,\n\u001b[0;32m      8\u001b[0m         sigma,\n\u001b[0;32m      9\u001b[0m         tau,\n\u001b[0;32m     10\u001b[0m         q_x_NF,\n\u001b[0;32m     11\u001b[0m     )\n",
      "Cell \u001b[1;32mIn[14], line 34\u001b[0m, in \u001b[0;36mmcmc\u001b[1;34m(x0, warm_up_steps, M, y0, rho, sigma, tau, q_x_NF)\u001b[0m\n\u001b[0;32m     32\u001b[0m \u001b[39mfor\u001b[39;00m i \u001b[39min\u001b[39;00m tqdm(\u001b[39mrange\u001b[39m(warm_up_steps \u001b[39m+\u001b[39m M), desc\u001b[39m=\u001b[39m\u001b[39m\"\u001b[39m\u001b[39mMCMC sampling\u001b[39m\u001b[39m\"\u001b[39m):\n\u001b[0;32m     33\u001b[0m     x_star \u001b[39m=\u001b[39m proposal(x_curr)\n\u001b[1;32m---> 34\u001b[0m     log_f_x_star \u001b[39m=\u001b[39m f(y0, x_star, rho, sigma, tau, q_x_NF)\u001b[39m.\u001b[39mlog()\n\u001b[0;32m     36\u001b[0m     log_a \u001b[39m=\u001b[39m log_f_x_star \u001b[39m-\u001b[39m log_f_x_curr\n\u001b[0;32m     38\u001b[0m     a \u001b[39m=\u001b[39m torch\u001b[39m.\u001b[39mexp(log_a)\n",
      "Cell \u001b[1;32mIn[14], line 24\u001b[0m, in \u001b[0;36mf\u001b[1;34m(y0, x, rho, sigma, tau, q_x_NF)\u001b[0m\n\u001b[0;32m     20\u001b[0m         slab_dist \u001b[39m=\u001b[39m torch\u001b[39m.\u001b[39mdistributions\u001b[39m.\u001b[39mCauchy(\n\u001b[0;32m     21\u001b[0m             xj\u001b[39m.\u001b[39mdetach(), torch\u001b[39m.\u001b[39mtensor(tau)\u001b[39m.\u001b[39mto(device)\n\u001b[0;32m     22\u001b[0m         )\n\u001b[0;32m     23\u001b[0m         res[:, j] \u001b[39m=\u001b[39m torch\u001b[39m.\u001b[39mexp(slab_dist\u001b[39m.\u001b[39mlog_prob(yj))\n\u001b[1;32m---> 24\u001b[0m \u001b[39mreturn\u001b[39;00m res \u001b[39m*\u001b[39m torch\u001b[39m.\u001b[39mexp(q_x_NF()\u001b[39m.\u001b[39;49mlog_prob(x))\n",
      "File \u001b[1;32mc:\\Users\\mmmat\\anaconda3\\envs\\sbi_env\\Lib\\site-packages\\zuko\\distributions.py:110\u001b[0m, in \u001b[0;36mNormalizingFlow.log_prob\u001b[1;34m(self, x)\u001b[0m\n\u001b[0;32m    109\u001b[0m \u001b[39mdef\u001b[39;00m \u001b[39mlog_prob\u001b[39m(\u001b[39mself\u001b[39m, x: Tensor) \u001b[39m-\u001b[39m\u001b[39m>\u001b[39m Tensor:\n\u001b[1;32m--> 110\u001b[0m     z, ladj \u001b[39m=\u001b[39m \u001b[39mself\u001b[39;49m\u001b[39m.\u001b[39;49mtransform\u001b[39m.\u001b[39;49mcall_and_ladj(x)\n\u001b[0;32m    111\u001b[0m     ladj \u001b[39m=\u001b[39m _sum_rightmost(ladj, \u001b[39mself\u001b[39m\u001b[39m.\u001b[39mreinterpreted)\n\u001b[0;32m    113\u001b[0m     \u001b[39mreturn\u001b[39;00m \u001b[39mself\u001b[39m\u001b[39m.\u001b[39mbase\u001b[39m.\u001b[39mlog_prob(z) \u001b[39m+\u001b[39m ladj\n",
      "File \u001b[1;32mc:\\Users\\mmmat\\anaconda3\\envs\\sbi_env\\Lib\\site-packages\\zuko\\transforms.py:140\u001b[0m, in \u001b[0;36mComposedTransform.call_and_ladj\u001b[1;34m(self, x)\u001b[0m\n\u001b[0;32m    137\u001b[0m acc \u001b[39m=\u001b[39m \u001b[39m0\u001b[39m\n\u001b[0;32m    139\u001b[0m \u001b[39mfor\u001b[39;00m t \u001b[39min\u001b[39;00m \u001b[39mself\u001b[39m\u001b[39m.\u001b[39mtransforms:\n\u001b[1;32m--> 140\u001b[0m     x, ladj \u001b[39m=\u001b[39m t\u001b[39m.\u001b[39;49mcall_and_ladj(x)\n\u001b[0;32m    141\u001b[0m     acc \u001b[39m=\u001b[39m acc \u001b[39m+\u001b[39m _sum_rightmost(ladj, event_dim \u001b[39m-\u001b[39m t\u001b[39m.\u001b[39mdomain\u001b[39m.\u001b[39mevent_dim)\n\u001b[0;32m    142\u001b[0m     event_dim \u001b[39m+\u001b[39m\u001b[39m=\u001b[39m t\u001b[39m.\u001b[39mcodomain\u001b[39m.\u001b[39mevent_dim \u001b[39m-\u001b[39m t\u001b[39m.\u001b[39mdomain\u001b[39m.\u001b[39mevent_dim\n",
      "File \u001b[1;32mc:\\Users\\mmmat\\anaconda3\\envs\\sbi_env\\Lib\\site-packages\\zuko\\transforms.py:787\u001b[0m, in \u001b[0;36mAutoregressiveTransform.call_and_ladj\u001b[1;34m(self, x)\u001b[0m\n\u001b[0;32m    786\u001b[0m \u001b[39mdef\u001b[39;00m \u001b[39mcall_and_ladj\u001b[39m(\u001b[39mself\u001b[39m, x: Tensor) \u001b[39m-\u001b[39m\u001b[39m>\u001b[39m Tuple[Tensor, Tensor]:\n\u001b[1;32m--> 787\u001b[0m     y, ladj \u001b[39m=\u001b[39m \u001b[39mself\u001b[39;49m\u001b[39m.\u001b[39;49mmeta(x)\u001b[39m.\u001b[39mcall_and_ladj(x)\n\u001b[0;32m    788\u001b[0m     \u001b[39mreturn\u001b[39;00m y, ladj\n",
      "File \u001b[1;32mc:\\Users\\mmmat\\anaconda3\\envs\\sbi_env\\Lib\\site-packages\\zuko\\flows.py:380\u001b[0m, in \u001b[0;36mMaskedAutoregressiveTransform.meta\u001b[1;34m(self, c, x)\u001b[0m\n\u001b[0;32m    377\u001b[0m \u001b[39mif\u001b[39;00m c \u001b[39mis\u001b[39;00m \u001b[39mnot\u001b[39;00m \u001b[39mNone\u001b[39;00m:\n\u001b[0;32m    378\u001b[0m     x \u001b[39m=\u001b[39m torch\u001b[39m.\u001b[39mcat(broadcast(x, c, ignore\u001b[39m=\u001b[39m\u001b[39m1\u001b[39m), dim\u001b[39m=\u001b[39m\u001b[39m-\u001b[39m\u001b[39m1\u001b[39m)\n\u001b[1;32m--> 380\u001b[0m phi \u001b[39m=\u001b[39m \u001b[39mself\u001b[39;49m\u001b[39m.\u001b[39;49mhyper(x)\n\u001b[0;32m    381\u001b[0m phi \u001b[39m=\u001b[39m phi\u001b[39m.\u001b[39munflatten(\u001b[39m-\u001b[39m\u001b[39m1\u001b[39m, (\u001b[39m-\u001b[39m\u001b[39m1\u001b[39m, \u001b[39mself\u001b[39m\u001b[39m.\u001b[39mtotal))\n\u001b[0;32m    382\u001b[0m phi \u001b[39m=\u001b[39m unpack(phi, \u001b[39mself\u001b[39m\u001b[39m.\u001b[39mshapes)\n",
      "File \u001b[1;32mc:\\Users\\mmmat\\anaconda3\\envs\\sbi_env\\Lib\\site-packages\\torch\\nn\\modules\\module.py:1501\u001b[0m, in \u001b[0;36mModule._call_impl\u001b[1;34m(self, *args, **kwargs)\u001b[0m\n\u001b[0;32m   1496\u001b[0m \u001b[39m# If we don't have any hooks, we want to skip the rest of the logic in\u001b[39;00m\n\u001b[0;32m   1497\u001b[0m \u001b[39m# this function, and just call forward.\u001b[39;00m\n\u001b[0;32m   1498\u001b[0m \u001b[39mif\u001b[39;00m \u001b[39mnot\u001b[39;00m (\u001b[39mself\u001b[39m\u001b[39m.\u001b[39m_backward_hooks \u001b[39mor\u001b[39;00m \u001b[39mself\u001b[39m\u001b[39m.\u001b[39m_backward_pre_hooks \u001b[39mor\u001b[39;00m \u001b[39mself\u001b[39m\u001b[39m.\u001b[39m_forward_hooks \u001b[39mor\u001b[39;00m \u001b[39mself\u001b[39m\u001b[39m.\u001b[39m_forward_pre_hooks\n\u001b[0;32m   1499\u001b[0m         \u001b[39mor\u001b[39;00m _global_backward_pre_hooks \u001b[39mor\u001b[39;00m _global_backward_hooks\n\u001b[0;32m   1500\u001b[0m         \u001b[39mor\u001b[39;00m _global_forward_hooks \u001b[39mor\u001b[39;00m _global_forward_pre_hooks):\n\u001b[1;32m-> 1501\u001b[0m     \u001b[39mreturn\u001b[39;00m forward_call(\u001b[39m*\u001b[39;49margs, \u001b[39m*\u001b[39;49m\u001b[39m*\u001b[39;49mkwargs)\n\u001b[0;32m   1502\u001b[0m \u001b[39m# Do not call functions when jit is used\u001b[39;00m\n\u001b[0;32m   1503\u001b[0m full_backward_hooks, non_full_backward_hooks \u001b[39m=\u001b[39m [], []\n",
      "File \u001b[1;32mc:\\Users\\mmmat\\anaconda3\\envs\\sbi_env\\Lib\\site-packages\\torch\\nn\\modules\\container.py:217\u001b[0m, in \u001b[0;36mSequential.forward\u001b[1;34m(self, input)\u001b[0m\n\u001b[0;32m    215\u001b[0m \u001b[39mdef\u001b[39;00m \u001b[39mforward\u001b[39m(\u001b[39mself\u001b[39m, \u001b[39minput\u001b[39m):\n\u001b[0;32m    216\u001b[0m     \u001b[39mfor\u001b[39;00m module \u001b[39min\u001b[39;00m \u001b[39mself\u001b[39m:\n\u001b[1;32m--> 217\u001b[0m         \u001b[39minput\u001b[39m \u001b[39m=\u001b[39m module(\u001b[39minput\u001b[39;49m)\n\u001b[0;32m    218\u001b[0m     \u001b[39mreturn\u001b[39;00m \u001b[39minput\u001b[39m\n",
      "File \u001b[1;32mc:\\Users\\mmmat\\anaconda3\\envs\\sbi_env\\Lib\\site-packages\\torch\\nn\\modules\\module.py:1501\u001b[0m, in \u001b[0;36mModule._call_impl\u001b[1;34m(self, *args, **kwargs)\u001b[0m\n\u001b[0;32m   1496\u001b[0m \u001b[39m# If we don't have any hooks, we want to skip the rest of the logic in\u001b[39;00m\n\u001b[0;32m   1497\u001b[0m \u001b[39m# this function, and just call forward.\u001b[39;00m\n\u001b[0;32m   1498\u001b[0m \u001b[39mif\u001b[39;00m \u001b[39mnot\u001b[39;00m (\u001b[39mself\u001b[39m\u001b[39m.\u001b[39m_backward_hooks \u001b[39mor\u001b[39;00m \u001b[39mself\u001b[39m\u001b[39m.\u001b[39m_backward_pre_hooks \u001b[39mor\u001b[39;00m \u001b[39mself\u001b[39m\u001b[39m.\u001b[39m_forward_hooks \u001b[39mor\u001b[39;00m \u001b[39mself\u001b[39m\u001b[39m.\u001b[39m_forward_pre_hooks\n\u001b[0;32m   1499\u001b[0m         \u001b[39mor\u001b[39;00m _global_backward_pre_hooks \u001b[39mor\u001b[39;00m _global_backward_hooks\n\u001b[0;32m   1500\u001b[0m         \u001b[39mor\u001b[39;00m _global_forward_hooks \u001b[39mor\u001b[39;00m _global_forward_pre_hooks):\n\u001b[1;32m-> 1501\u001b[0m     \u001b[39mreturn\u001b[39;00m forward_call(\u001b[39m*\u001b[39;49margs, \u001b[39m*\u001b[39;49m\u001b[39m*\u001b[39;49mkwargs)\n\u001b[0;32m   1502\u001b[0m \u001b[39m# Do not call functions when jit is used\u001b[39;00m\n\u001b[0;32m   1503\u001b[0m full_backward_hooks, non_full_backward_hooks \u001b[39m=\u001b[39m [], []\n",
      "File \u001b[1;32mc:\\Users\\mmmat\\anaconda3\\envs\\sbi_env\\Lib\\site-packages\\zuko\\nn.py:127\u001b[0m, in \u001b[0;36mMaskedLinear.forward\u001b[1;34m(self, x)\u001b[0m\n\u001b[0;32m    126\u001b[0m \u001b[39mdef\u001b[39;00m \u001b[39mforward\u001b[39m(\u001b[39mself\u001b[39m, x: Tensor) \u001b[39m-\u001b[39m\u001b[39m>\u001b[39m Tensor:\n\u001b[1;32m--> 127\u001b[0m     \u001b[39mreturn\u001b[39;00m F\u001b[39m.\u001b[39mlinear(x, \u001b[39mself\u001b[39m\u001b[39m.\u001b[39mmask \u001b[39m*\u001b[39m \u001b[39mself\u001b[39m\u001b[39m.\u001b[39mweight, \u001b[39mself\u001b[39;49m\u001b[39m.\u001b[39;49mbias)\n",
      "File \u001b[1;32mc:\\Users\\mmmat\\anaconda3\\envs\\sbi_env\\Lib\\site-packages\\torch\\nn\\modules\\module.py:1601\u001b[0m, in \u001b[0;36mModule.__getattr__\u001b[1;34m(self, name)\u001b[0m\n\u001b[0;32m   1598\u001b[0m     \u001b[39mif\u001b[39;00m \u001b[39m'\u001b[39m\u001b[39m_backward_pre_hooks\u001b[39m\u001b[39m'\u001b[39m \u001b[39mnot\u001b[39;00m \u001b[39min\u001b[39;00m \u001b[39mself\u001b[39m\u001b[39m.\u001b[39m\u001b[39m__dict__\u001b[39m:\n\u001b[0;32m   1599\u001b[0m         \u001b[39mself\u001b[39m\u001b[39m.\u001b[39m_backward_pre_hooks \u001b[39m=\u001b[39m OrderedDict()\n\u001b[1;32m-> 1601\u001b[0m \u001b[39mdef\u001b[39;00m \u001b[39m__getattr__\u001b[39m(\u001b[39mself\u001b[39m, name: \u001b[39mstr\u001b[39m) \u001b[39m-\u001b[39m\u001b[39m>\u001b[39m Union[Tensor, \u001b[39m'\u001b[39m\u001b[39mModule\u001b[39m\u001b[39m'\u001b[39m]:\n\u001b[0;32m   1602\u001b[0m     \u001b[39mif\u001b[39;00m \u001b[39m'\u001b[39m\u001b[39m_parameters\u001b[39m\u001b[39m'\u001b[39m \u001b[39min\u001b[39;00m \u001b[39mself\u001b[39m\u001b[39m.\u001b[39m\u001b[39m__dict__\u001b[39m:\n\u001b[0;32m   1603\u001b[0m         _parameters \u001b[39m=\u001b[39m \u001b[39mself\u001b[39m\u001b[39m.\u001b[39m\u001b[39m__dict__\u001b[39m[\u001b[39m'\u001b[39m\u001b[39m_parameters\u001b[39m\u001b[39m'\u001b[39m]\n",
      "\u001b[1;31mKeyboardInterrupt\u001b[0m: "
     ]
    }
   ],
   "source": [
    "with torch.no_grad():\n",
    "    xm = mcmc(\n",
    "        torch.zeros(1, 2).to(device),\n",
    "        warm_up_steps,\n",
    "        M,\n",
    "        task.y0_scaled.squeeze().to(device),\n",
    "        rho,\n",
    "        sigma,\n",
    "        tau,\n",
    "        q_x_NF,\n",
    "    )"
   ]
  },
  {
   "cell_type": "code",
   "execution_count": 14,
   "metadata": {},
   "outputs": [
    {
     "data": {
      "text/plain": [
       "<matplotlib.legend.Legend at 0x24afc8d4090>"
      ]
     },
     "execution_count": 14,
     "metadata": {},
     "output_type": "execute_result"
    },
    {
     "data": {
      "image/png": "[encoded data removed]",
      "text/plain": [
       "<Figure size 640x480 with 1 Axes>"
      ]
     },
     "metadata": {},
     "output_type": "display_data"
    }
   ],
   "source": [
    "fig, ax = plt.subplots()\n",
    "\n",
    "ax.scatter(\n",
    "    x=task.data[\"scaled_x\"][:, 0].cpu(),\n",
    "    y=task.data[\"scaled_x\"][:, 1].cpu(),\n",
    "    color=\"blue\",\n",
    "    label=\"Simulator outputs\",\n",
    "    s=1,\n",
    ")\n",
    "ax.scatter(\n",
    "    x=xm[:, 0].cpu(),\n",
    "    y=xm[:, 1].cpu(),\n",
    "    label=\"Denoised outputs from the MCMC sampler\",\n",
    "    color=\"yellow\",\n",
    "    s=1,\n",
    ")\n",
    "ax.scatter(\n",
    "    x=task.y0_scaled.cpu()[:, 0],\n",
    "    y=task.y0_scaled.cpu()[:, 1],\n",
    "    label=\"y0 scaled\",\n",
    "    color=\"green\",\n",
    "    s=20,\n",
    ")\n",
    "ax.set_xlabel(\"Mean (z1,...,zn)\")\n",
    "ax.set_ylabel(\"Var(z1,...,zn)\")\n",
    "ax.set_title(\"Simulated and denoised x, scaled version\")\n",
    "ax.legend(bbox_to_anchor=(1.04, 1), loc=\"upper left\")"
   ]
  },
  {
   "cell_type": "code",
   "execution_count": 15,
   "metadata": {},
   "outputs": [],
   "source": [
    "rnpe_samples = q_NPE.flow(xm).sample()"
   ]
  },
  {
   "cell_type": "code",
   "execution_count": 16,
   "metadata": {},
   "outputs": [],
   "source": [
    "true_post_y = posterior_summaries(\n",
    "    theta_grid,\n",
    "    task.y0.cpu().squeeze()[0].item(),\n",
    "    task.y0.cpu().squeeze()[1].item(),\n",
    "    sigma_2_y,\n",
    ")"
   ]
  },
  {
   "cell_type": "code",
   "execution_count": 17,
   "metadata": {},
   "outputs": [],
   "source": [
    "npe_samples = q_NPE.flow(task.y0_scaled).sample((20_000,))\n",
    "true_post = task.true_post(task.y0.squeeze().cpu().numpy(), sigma_2_y)"
   ]
  },
  {
   "cell_type": "code",
   "execution_count": 18,
   "metadata": {},
   "outputs": [
    {
     "data": {
      "text/plain": [
       "[<matplotlib.lines.Line2D at 0x24afc127050>]"
      ]
     },
     "execution_count": 18,
     "metadata": {},
     "output_type": "execute_result"
    },
    {
     "data": {
      "image/png": "[encoded data removed]",
      "text/plain": [
       "<Figure size 640x480 with 1 Axes>"
      ]
     },
     "metadata": {},
     "output_type": "display_data"
    }
   ],
   "source": [
    "plt.hist(\n",
    "    npe_samples.squeeze().cpu(),\n",
    "    bins=200,\n",
    "    density=True,\n",
    "    color=\"green\",\n",
    "    alpha=0.5,\n",
    "    label=\"NPE samples q(θ|y0)\",\n",
    ")\n",
    "plt.hist(\n",
    "    rnpe_samples.squeeze().cpu(),\n",
    "    bins=200,\n",
    "    density=True,\n",
    "    color=\"red\",\n",
    "    alpha=0.5,\n",
    "    label=\"RNPE samples q(θ|y0)\",\n",
    ")\n",
    "plt.plot(theta_grid, true_post_y, color=\"yellow\", label=\" p(θ|y0) under the true DGP\")\n",
    "# plt.xlim(-2,2)"
   ]
  },
  {
   "cell_type": "code",
   "execution_count": 19,
   "metadata": {},
   "outputs": [
    {
     "data": {
      "text/plain": [
       "2"
      ]
     },
     "execution_count": 19,
     "metadata": {},
     "output_type": "execute_result"
    }
   ],
   "source": [
    "sigma_2_y"
   ]
  },
  {
   "cell_type": "code",
   "execution_count": 11,
   "metadata": {},
   "outputs": [],
   "source": [
    "def compute_distances(true_post_density, sample):\n",
    "    true_post_samples = np.random.choice(\n",
    "        theta_grid, size=100_000, p=true_post_density / sum(true_post_density)\n",
    "    )\n",
    "    mean_true, std_true = np.mean(true_post_samples), np.std(true_post_samples)\n",
    "    mean_sample, std_sample = np.mean(sample), np.std(sample)\n",
    "    return np.square(mean_true - mean_sample) + np.square(np.log(std_true / std_sample))"
   ]
  },
  {
   "cell_type": "code",
   "execution_count": 21,
   "metadata": {},
   "outputs": [
    {
     "data": {
      "text/plain": [
       "3.7477046296372034"
      ]
     },
     "execution_count": 21,
     "metadata": {},
     "output_type": "execute_result"
    }
   ],
   "source": [
    "compute_distances(true_post_y, rnpe_samples.cpu().numpy())"
   ]
  },
  {
   "cell_type": "code",
   "execution_count": 16,
   "metadata": {},
   "outputs": [],
   "source": [
    "def rbf_kernel(x: Tensor, y: Tensor, gamma: float):\n",
    "    r\"\"\"Computes the Radial Basis Function (RBF) Kernel, :math:`K(x,y) = \\left(- \\frac{\\lVert x - y \\rVert^2}{2\\sigma^2} \\right)`\n",
    "\n",
    "    Args:\n",
    "        x: Samples from population 1.\n",
    "        y: Samples from population 2.\n",
    "        gamma: Bandwidth.\n",
    "\n",
    "    Returns:\n",
    "        K(x, y)\n",
    "    \"\"\"\n",
    "    pairwise_distance_squared = torch.cdist(x, y, p=2) ** 2\n",
    "    return torch.exp(-gamma * pairwise_distance_squared)"
   ]
  },
  {
   "cell_type": "code",
   "execution_count": 23,
   "metadata": {},
   "outputs": [
    {
     "data": {
      "text/plain": [
       "tensor([-0.5648,  0.1892])"
      ]
     },
     "execution_count": 23,
     "metadata": {},
     "output_type": "execute_result"
    }
   ],
   "source": [
    "mean, std = task.data[\"scale_parameters\"]\n",
    "\n",
    "test = (xm + mean) * std\n",
    "\n",
    "test.mean(0)"
   ]
  },
  {
   "cell_type": "code",
   "execution_count": 17,
   "metadata": {},
   "outputs": [],
   "source": [
    "def mmd_two_samples(x: Tensor, y: Tensor):\n",
    "    r\"\"\"Computes once the MMD for 2 samples #TODO ref\n",
    "    Args:\n",
    "        x: Samples from population 1.\n",
    "        y: Sampples from population 2.\n",
    "\n",
    "    Returns:\n",
    "        _type_: _description_\n",
    "    \"\"\"\n",
    "    diff = x - y\n",
    "    sigma2 = abs((torch.norm(diff, dim=1) ** 2).max())\n",
    "    gamma = 1 / (2 * sigma2)\n",
    "    xx = rbf_kernel(x, x, gamma.item())\n",
    "    yy = rbf_kernel(y, y, gamma.item())\n",
    "    xy = rbf_kernel(x, y, gamma.item())\n",
    "\n",
    "    return torch.tensor(xx.mean() + yy.mean() + xy.mean())\n",
    "\n",
    "\n",
    "def MMD(x: Tensor, y: Tensor, n_rep: int = 1_000) -> Tuple[Tensor, bool]:\n",
    "    \"\"\"Computes the MMD between two samples x,y, use permutation trick to check whether the value can be considered to be 0.\n",
    "\n",
    "    H0= << t0 > t_{1-alhpa}.\n",
    "\n",
    "    Args:\n",
    "        x: Samples from population 1.\n",
    "        y: Samples from population 2.\n",
    "        n_rep: Number of repetition.\n",
    "\n",
    "    Returns:\n",
    "        t0, h0: Value of the MMD and wether or not H0 is accepted.\n",
    "    \"\"\"\n",
    "    if x.shape[0] != y.shape[0]:\n",
    "        min_rows = min(x.shape[0], y.shape[0])\n",
    "        x = x[torch.randperm(x.shape[0])][:min_rows]\n",
    "        y = y[torch.randperm(y.shape[0])][:min_rows]\n",
    "    t0 = mmd_two_samples(x, y)\n",
    "    t = torch.zeros((n_rep))\n",
    "\n",
    "    for i in tqdm(range(n_rep)):\n",
    "        x_perm = x[torch.randperm(5_000)]\n",
    "        y_perm = y[torch.randperm(5_000)]\n",
    "        t[i] = mmd_two_samples(x_perm, y_perm)\n",
    "    t.sort()\n",
    "    h0 = torch.searchsorted(t, t0) > 989  # If Ho accepted or not\n",
    "    return t0, h0"
   ]
  },
  {
   "cell_type": "markdown",
   "metadata": {},
   "source": [
    "tensor(908)\n",
    "(tensor(2.9059), tensor(False))\n",
    "\n",
    "tensor(375)\n",
    "(tensor(2.9179), tensor(False))"
   ]
  },
  {
   "cell_type": "code",
   "execution_count": 19,
   "metadata": {},
   "outputs": [],
   "source": [
    "def compute_rnpe_npe(\n",
    "    task_name: str, sigma_2: float\n",
    ") -> Tuple[Tensor, Tensor, Tuple, Tensor]:\n",
    "    \"\"\"General pipeline to compute both NPE and RNPE samples for a given task and corruption.\n",
    "\n",
    "    Args:\n",
    "        task_name: Name of the task.\n",
    "        sigma_2: Corruption.\n",
    "\n",
    "    Returns:\n",
    "        Tuple[Tensor, Tensor, Tuple, Tensor]: NPE samples given x, y, theroritical given y and RNPE samples given y.\n",
    "    \"\"\"\n",
    "\n",
    "    n_runs = 3\n",
    "    task_l = []\n",
    "    xm_l = []\n",
    "    norm_npe_rnpe = []\n",
    "    npe_samples_x_l = []\n",
    "    npe_samples_y_l = []\n",
    "    theoritical_post_y_l = []\n",
    "    rnpe_samples_l = []\n",
    "\n",
    "    rnpe_mmd_t0_l = []\n",
    "    rnpe_mmd_h0_l = []\n",
    "    npe_mmd_t0_l = []\n",
    "    npe_mmd_h0_l = []\n",
    "    for _ in tqdm(range(n_runs), leave=True):\n",
    "        task = Gaussian(\n",
    "            N_simu=N_simu, sigma_y_2=sigma_2\n",
    "        )  # TODO Changer selon task_name\n",
    "        q_NPE = create_train_flow(task)\n",
    "        q_x_NF = create_train_unconditional_flow(task)\n",
    "        with torch.no_grad():\n",
    "            print()\n",
    "            xm = mcmc(\n",
    "                torch.zeros(1, 2).to(device),\n",
    "                warm_up_steps,\n",
    "                M,\n",
    "                task.y0_scaled.squeeze().to(device),\n",
    "                rho,\n",
    "                sigma,\n",
    "                tau,\n",
    "                q_x_NF,\n",
    "            )\n",
    "\n",
    "        npe_samples_x = q_NPE.flow(task.x0_scaled).sample((M,))\n",
    "        npe_samples_y = q_NPE.flow(task.y0_scaled).sample((M,))\n",
    "        theoritical_post_y = task.true_post(task.y0.squeeze().cpu().numpy(), sigma_2)\n",
    "        rnpe_samples = q_NPE.flow(xm).sample()\n",
    "        norm_npe_rnpe.append(npe_samples_y.mean() - rnpe_samples.mean())\n",
    "\n",
    "        task_l.append(task)\n",
    "        xm_l.append(xm)\n",
    "        npe_samples_x_l.append(npe_samples_x)\n",
    "        npe_samples_y_l.append(npe_samples_y)\n",
    "        theoritical_post_y_l.append(theoritical_post_y)\n",
    "        rnpe_samples_l.append(rnpe_samples)\n",
    "\n",
    "    return {\n",
    "        \"task_l\": task_l,\n",
    "        \"npe_samples_x_l\": npe_samples_x_l,\n",
    "        \"npe_samples_y_l\": npe_samples_y_l,\n",
    "        \"theoritical_post_y_l\": theoritical_post_y_l,\n",
    "        \"rnpe_samples_l\": rnpe_samples_l,\n",
    "        \"xm_l\": xm_l,\n",
    "    }"
   ]
  },
  {
   "cell_type": "code",
   "execution_count": 38,
   "metadata": {},
   "outputs": [],
   "source": [
    "def compute_metrics(\n",
    "    task_l: List,\n",
    "    npe_samples_x_l: List,\n",
    "    npe_samples_y_l: List,\n",
    "    theoritical_post_y_l: List,\n",
    "    rnpe_samples_l: List,\n",
    "    xm_l: List,\n",
    ") -> Dict:\n",
    "    npe_mmd_t0_l, npe_mmd_h0_l, rnpe_mmd_t0_l, rnpe_mmd_h0_l, norm_npe_rnpe = (\n",
    "        [],\n",
    "        [],\n",
    "        [],\n",
    "        [],\n",
    "        [],\n",
    "    )\n",
    "    # Computiing MMD\n",
    "    for i in range(len(xm_l)):\n",
    "        xm_rescaled = (xm_l[i] + task_l[i].data[\"scale_parameters\"][0]) * task_l[\n",
    "            i\n",
    "        ].data[\"scale_parameters\"][1]\n",
    "        npe_mmd_t0, npe_mmd_h0 = MMD(\n",
    "            task_l[i].data[\"x\"], task_l[i].y0.expand(5_000, -1)\n",
    "        )\n",
    "        rnpe_mmd_t0, rnpe_mmd_h0 = MMD(xm_rescaled, task_l[i].y0.expand(5_000, -1))\n",
    "\n",
    "        npe_mmd_t0_l.append(npe_mmd_t0)\n",
    "        npe_mmd_h0_l.append(npe_mmd_h0)\n",
    "        rnpe_mmd_t0_l.append(rnpe_mmd_t0)\n",
    "        rnpe_mmd_h0_l.append(rnpe_mmd_h0)\n",
    "\n",
    "        norm_npe_rnpe.append(npe_samples_y_l[i].mean() - rnpe_samples_l[i].mean())\n",
    "\n",
    "    imax = np.argmax(norm_npe_rnpe)\n",
    "    npe_samples_x = npe_samples_x_l[imax]\n",
    "    npe_samples_y = npe_samples_y_l[imax]\n",
    "    theoritical_post_y = theoritical_post_y_l[imax]\n",
    "    rnpe_samples = rnpe_samples_l[imax]\n",
    "    rnpe_mmd_t0 = np.mean(rnpe_mmd_t0_l)\n",
    "    rnpe_mmd_h0 = torch.sum(rnpe_mmd_h0).item() > torch.sum(~rnpe_mmd_h0).item()\n",
    "    npe_mmd_t0 = np.mean(npe_mmd_t0_l)\n",
    "    npe_mmd_h0 = torch.sum(npe_mmd_h0).item() > torch.sum(~npe_mmd_h0).item()\n",
    "\n",
    "    return {\n",
    "        \"npe_samples_x\": npe_samples_x,\n",
    "        \"npe_samples_y\": npe_samples_y,\n",
    "        \"theoritical_post_y\": theoritical_post_y,\n",
    "        \"rnpe_samples\": rnpe_samples,\n",
    "        \"rnpe_mmd_t0\": rnpe_mmd_t0,\n",
    "        \"rnpe_mmd_h0\": rnpe_mmd_h0,\n",
    "        \"npe_mmd_t0\": npe_mmd_t0,\n",
    "        \"npe_mmd_h0\": npe_mmd_h0,\n",
    "    }"
   ]
  },
  {
   "cell_type": "code",
   "execution_count": 21,
   "metadata": {},
   "outputs": [],
   "source": [
    "N_simu = 10_000\n",
    "M = 7_000\n",
    "warm_up_steps = 5_000"
   ]
  },
  {
   "cell_type": "code",
   "execution_count": 22,
   "metadata": {},
   "outputs": [
    {
     "data": {
      "application/vnd.jupyter.widget-view+json": {
       "model_id": "3bb498156ad34e8f9124cc46a073c663",
       "version_major": 2,
       "version_minor": 0
      },
      "text/plain": [
       "Corruption:   0%|          | 0/6 [00:00<?, ?Sigma²/s]"
      ]
     },
     "metadata": {},
     "output_type": "display_data"
    },
    {
     "name": "stdout",
     "output_type": "stream",
     "text": [
      "1.0\n"
     ]
    },
    {
     "data": {
      "application/vnd.jupyter.widget-view+json": {
       "model_id": "35350ccc64694fb2b52c78c512a1e347",
       "version_major": 2,
       "version_minor": 0
      },
      "text/plain": [
       "  0%|          | 0/3 [00:00<?, ?it/s]"
      ]
     },
     "metadata": {},
     "output_type": "display_data"
    },
    {
     "name": "stdout",
     "output_type": "stream",
     "text": [
      "\n"
     ]
    },
    {
     "data": {
      "application/vnd.jupyter.widget-view+json": {
       "model_id": "cc649f9697d043878ac9b1b6972a63b0",
       "version_major": 2,
       "version_minor": 0
      },
      "text/plain": [
       "MCMC sampling:   0%|          | 0/12000 [00:00<?, ?it/s]"
      ]
     },
     "metadata": {},
     "output_type": "display_data"
    },
    {
     "name": "stdout",
     "output_type": "stream",
     "text": [
      "\n"
     ]
    },
    {
     "data": {
      "application/vnd.jupyter.widget-view+json": {
       "model_id": "6ccb28cc44764ff3943912e20ce8379d",
       "version_major": 2,
       "version_minor": 0
      },
      "text/plain": [
       "MCMC sampling:   0%|          | 0/12000 [00:00<?, ?it/s]"
      ]
     },
     "metadata": {},
     "output_type": "display_data"
    },
    {
     "name": "stdout",
     "output_type": "stream",
     "text": [
      "\n"
     ]
    },
    {
     "data": {
      "application/vnd.jupyter.widget-view+json": {
       "model_id": "0e36f90c080c43b3beba141f086356b1",
       "version_major": 2,
       "version_minor": 0
      },
      "text/plain": [
       "MCMC sampling:   0%|          | 0/12000 [00:00<?, ?it/s]"
      ]
     },
     "metadata": {},
     "output_type": "display_data"
    },
    {
     "name": "stdout",
     "output_type": "stream",
     "text": [
      "1.5\n"
     ]
    },
    {
     "data": {
      "application/vnd.jupyter.widget-view+json": {
       "model_id": "6a3b23af6eb7432bb74aa655a872f974",
       "version_major": 2,
       "version_minor": 0
      },
      "text/plain": [
       "  0%|          | 0/3 [00:00<?, ?it/s]"
      ]
     },
     "metadata": {},
     "output_type": "display_data"
    },
    {
     "name": "stdout",
     "output_type": "stream",
     "text": [
      "\n"
     ]
    },
    {
     "data": {
      "application/vnd.jupyter.widget-view+json": {
       "model_id": "846fccab964b4ee1a418bb61b5899af6",
       "version_major": 2,
       "version_minor": 0
      },
      "text/plain": [
       "MCMC sampling:   0%|          | 0/12000 [00:00<?, ?it/s]"
      ]
     },
     "metadata": {},
     "output_type": "display_data"
    },
    {
     "name": "stdout",
     "output_type": "stream",
     "text": [
      "\n"
     ]
    },
    {
     "data": {
      "application/vnd.jupyter.widget-view+json": {
       "model_id": "cfb2d452170c4786a6ba599a772eae81",
       "version_major": 2,
       "version_minor": 0
      },
      "text/plain": [
       "MCMC sampling:   0%|          | 0/12000 [00:00<?, ?it/s]"
      ]
     },
     "metadata": {},
     "output_type": "display_data"
    },
    {
     "name": "stdout",
     "output_type": "stream",
     "text": [
      "\n"
     ]
    },
    {
     "data": {
      "application/vnd.jupyter.widget-view+json": {
       "model_id": "4acfa5dbffd242c6861844ec985a0c69",
       "version_major": 2,
       "version_minor": 0
      },
      "text/plain": [
       "MCMC sampling:   0%|          | 0/12000 [00:00<?, ?it/s]"
      ]
     },
     "metadata": {},
     "output_type": "display_data"
    },
    {
     "name": "stdout",
     "output_type": "stream",
     "text": [
      "2.0\n"
     ]
    },
    {
     "data": {
      "application/vnd.jupyter.widget-view+json": {
       "model_id": "cc84702b77d64b799c0b3ce291becc5f",
       "version_major": 2,
       "version_minor": 0
      },
      "text/plain": [
       "  0%|          | 0/3 [00:00<?, ?it/s]"
      ]
     },
     "metadata": {},
     "output_type": "display_data"
    },
    {
     "name": "stdout",
     "output_type": "stream",
     "text": [
      "\n"
     ]
    },
    {
     "data": {
      "application/vnd.jupyter.widget-view+json": {
       "model_id": "916ffc9a8e9c4dbda6b2c19431acce08",
       "version_major": 2,
       "version_minor": 0
      },
      "text/plain": [
       "MCMC sampling:   0%|          | 0/12000 [00:00<?, ?it/s]"
      ]
     },
     "metadata": {},
     "output_type": "display_data"
    },
    {
     "name": "stdout",
     "output_type": "stream",
     "text": [
      "\n"
     ]
    },
    {
     "data": {
      "application/vnd.jupyter.widget-view+json": {
       "model_id": "fac7153bc2fc4a8aaa6af7f654b7e3ab",
       "version_major": 2,
       "version_minor": 0
      },
      "text/plain": [
       "MCMC sampling:   0%|          | 0/12000 [00:00<?, ?it/s]"
      ]
     },
     "metadata": {},
     "output_type": "display_data"
    },
    {
     "name": "stdout",
     "output_type": "stream",
     "text": [
      "\n"
     ]
    },
    {
     "data": {
      "application/vnd.jupyter.widget-view+json": {
       "model_id": "9b47c91d2b88483687b522d09fc0333b",
       "version_major": 2,
       "version_minor": 0
      },
      "text/plain": [
       "MCMC sampling:   0%|          | 0/12000 [00:00<?, ?it/s]"
      ]
     },
     "metadata": {},
     "output_type": "display_data"
    },
    {
     "name": "stdout",
     "output_type": "stream",
     "text": [
      "2.5\n"
     ]
    },
    {
     "data": {
      "application/vnd.jupyter.widget-view+json": {
       "model_id": "fe89173ef4c94feb83b4f567b0a6ae7b",
       "version_major": 2,
       "version_minor": 0
      },
      "text/plain": [
       "  0%|          | 0/3 [00:00<?, ?it/s]"
      ]
     },
     "metadata": {},
     "output_type": "display_data"
    },
    {
     "name": "stdout",
     "output_type": "stream",
     "text": [
      "\n"
     ]
    },
    {
     "data": {
      "application/vnd.jupyter.widget-view+json": {
       "model_id": "bb4d1d44d22049f2803d7c6b1ead1e17",
       "version_major": 2,
       "version_minor": 0
      },
      "text/plain": [
       "MCMC sampling:   0%|          | 0/12000 [00:00<?, ?it/s]"
      ]
     },
     "metadata": {},
     "output_type": "display_data"
    },
    {
     "name": "stdout",
     "output_type": "stream",
     "text": [
      "\n"
     ]
    },
    {
     "data": {
      "application/vnd.jupyter.widget-view+json": {
       "model_id": "c5133ea344f54d63bf7eddb1ada753e0",
       "version_major": 2,
       "version_minor": 0
      },
      "text/plain": [
       "MCMC sampling:   0%|          | 0/12000 [00:00<?, ?it/s]"
      ]
     },
     "metadata": {},
     "output_type": "display_data"
    },
    {
     "name": "stdout",
     "output_type": "stream",
     "text": [
      "\n"
     ]
    },
    {
     "data": {
      "application/vnd.jupyter.widget-view+json": {
       "model_id": "805bc45da9ae45beac1d1b1c6a67c4a2",
       "version_major": 2,
       "version_minor": 0
      },
      "text/plain": [
       "MCMC sampling:   0%|          | 0/12000 [00:00<?, ?it/s]"
      ]
     },
     "metadata": {},
     "output_type": "display_data"
    },
    {
     "name": "stdout",
     "output_type": "stream",
     "text": [
      "3.0\n"
     ]
    },
    {
     "data": {
      "application/vnd.jupyter.widget-view+json": {
       "model_id": "26ecc58c0dc448eab203ce9321ac0a50",
       "version_major": 2,
       "version_minor": 0
      },
      "text/plain": [
       "  0%|          | 0/3 [00:00<?, ?it/s]"
      ]
     },
     "metadata": {},
     "output_type": "display_data"
    },
    {
     "name": "stdout",
     "output_type": "stream",
     "text": [
      "\n"
     ]
    },
    {
     "data": {
      "application/vnd.jupyter.widget-view+json": {
       "model_id": "c41cab41d17f4b10914d3cd50808fca4",
       "version_major": 2,
       "version_minor": 0
      },
      "text/plain": [
       "MCMC sampling:   0%|          | 0/12000 [00:00<?, ?it/s]"
      ]
     },
     "metadata": {},
     "output_type": "display_data"
    },
    {
     "name": "stdout",
     "output_type": "stream",
     "text": [
      "\n"
     ]
    },
    {
     "data": {
      "application/vnd.jupyter.widget-view+json": {
       "model_id": "ff5a458994d34b0397d58006fec57dbb",
       "version_major": 2,
       "version_minor": 0
      },
      "text/plain": [
       "MCMC sampling:   0%|          | 0/12000 [00:00<?, ?it/s]"
      ]
     },
     "metadata": {},
     "output_type": "display_data"
    },
    {
     "name": "stdout",
     "output_type": "stream",
     "text": [
      "\n"
     ]
    },
    {
     "data": {
      "application/vnd.jupyter.widget-view+json": {
       "model_id": "a2fde049ac8f42a1abe4e0bc779c9026",
       "version_major": 2,
       "version_minor": 0
      },
      "text/plain": [
       "MCMC sampling:   0%|          | 0/12000 [00:00<?, ?it/s]"
      ]
     },
     "metadata": {},
     "output_type": "display_data"
    },
    {
     "name": "stdout",
     "output_type": "stream",
     "text": [
      "3.5\n"
     ]
    },
    {
     "data": {
      "application/vnd.jupyter.widget-view+json": {
       "model_id": "2017f100191448d2992c1e494d98e8f8",
       "version_major": 2,
       "version_minor": 0
      },
      "text/plain": [
       "  0%|          | 0/3 [00:00<?, ?it/s]"
      ]
     },
     "metadata": {},
     "output_type": "display_data"
    },
    {
     "name": "stdout",
     "output_type": "stream",
     "text": [
      "\n"
     ]
    },
    {
     "data": {
      "application/vnd.jupyter.widget-view+json": {
       "model_id": "8885bb93ae4f46bea4dcd29b2ceabb68",
       "version_major": 2,
       "version_minor": 0
      },
      "text/plain": [
       "MCMC sampling:   0%|          | 0/12000 [00:00<?, ?it/s]"
      ]
     },
     "metadata": {},
     "output_type": "display_data"
    },
    {
     "name": "stdout",
     "output_type": "stream",
     "text": [
      "\n"
     ]
    },
    {
     "data": {
      "application/vnd.jupyter.widget-view+json": {
       "model_id": "3fb4dc5d6a0143968437482b8e562929",
       "version_major": 2,
       "version_minor": 0
      },
      "text/plain": [
       "MCMC sampling:   0%|          | 0/12000 [00:00<?, ?it/s]"
      ]
     },
     "metadata": {},
     "output_type": "display_data"
    },
    {
     "name": "stdout",
     "output_type": "stream",
     "text": [
      "\n"
     ]
    },
    {
     "data": {
      "application/vnd.jupyter.widget-view+json": {
       "model_id": "1e616862b1f64bd080a42b4ab368bb03",
       "version_major": 2,
       "version_minor": 0
      },
      "text/plain": [
       "MCMC sampling:   0%|          | 0/12000 [00:00<?, ?it/s]"
      ]
     },
     "metadata": {},
     "output_type": "display_data"
    }
   ],
   "source": [
    "donnees = {}\n",
    "sigmas_2 = np.arange(1, 4, 0.5)\n",
    "with tqdm(sigmas_2, unit=\"Sigma²\", desc=\"Corruption\") as tq:\n",
    "    for sigma_2 in tq:\n",
    "        print(sigma_2)\n",
    "        donnees[sigma_2] = compute_rnpe_npe(Gaussian, sigma_2)"
   ]
  },
  {
   "cell_type": "code",
   "execution_count": 39,
   "metadata": {},
   "outputs": [
    {
     "data": {
      "application/vnd.jupyter.widget-view+json": {
       "model_id": "e66524c906814d3091112709d8f79aa5",
       "version_major": 2,
       "version_minor": 0
      },
      "text/plain": [
       "Corruption:   0%|          | 0/6 [00:00<?, ?Sigma²/s]"
      ]
     },
     "metadata": {},
     "output_type": "display_data"
    },
    {
     "name": "stdout",
     "output_type": "stream",
     "text": [
      "1.0\n"
     ]
    },
    {
     "name": "stderr",
     "output_type": "stream",
     "text": [
      "C:\\Users\\mmmat\\AppData\\Local\\Temp\\ipykernel_15772\\2263681875.py:17: UserWarning: To copy construct from a tensor, it is recommended to use sourceTensor.clone().detach() or sourceTensor.clone().detach().requires_grad_(True), rather than torch.tensor(sourceTensor).\n",
      "  return torch.tensor(xx.mean() + yy.mean() + xy.mean())\n"
     ]
    },
    {
     "data": {
      "application/vnd.jupyter.widget-view+json": {
       "model_id": "3835c913587742689c559155c5eb45f6",
       "version_major": 2,
       "version_minor": 0
      },
      "text/plain": [
       "  0%|          | 0/1000 [00:00<?, ?it/s]"
      ]
     },
     "metadata": {},
     "output_type": "display_data"
    },
    {
     "data": {
      "application/vnd.jupyter.widget-view+json": {
       "model_id": "84b3999bb3644fe2a5e3e7a652e2d2bf",
       "version_major": 2,
       "version_minor": 0
      },
      "text/plain": [
       "  0%|          | 0/1000 [00:00<?, ?it/s]"
      ]
     },
     "metadata": {},
     "output_type": "display_data"
    },
    {
     "data": {
      "application/vnd.jupyter.widget-view+json": {
       "model_id": "420ee4bf28a048f89a7afcece441d73c",
       "version_major": 2,
       "version_minor": 0
      },
      "text/plain": [
       "  0%|          | 0/1000 [00:00<?, ?it/s]"
      ]
     },
     "metadata": {},
     "output_type": "display_data"
    },
    {
     "data": {
      "application/vnd.jupyter.widget-view+json": {
       "model_id": "3c800bddd533465c849770694139756e",
       "version_major": 2,
       "version_minor": 0
      },
      "text/plain": [
       "  0%|          | 0/1000 [00:00<?, ?it/s]"
      ]
     },
     "metadata": {},
     "output_type": "display_data"
    },
    {
     "data": {
      "application/vnd.jupyter.widget-view+json": {
       "model_id": "74677213d8134c16ad49b8f4f9312d9b",
       "version_major": 2,
       "version_minor": 0
      },
      "text/plain": [
       "  0%|          | 0/1000 [00:00<?, ?it/s]"
      ]
     },
     "metadata": {},
     "output_type": "display_data"
    },
    {
     "data": {
      "application/vnd.jupyter.widget-view+json": {
       "model_id": "f2c7ce1e034f4d1c8753cd0d84e9898f",
       "version_major": 2,
       "version_minor": 0
      },
      "text/plain": [
       "  0%|          | 0/1000 [00:00<?, ?it/s]"
      ]
     },
     "metadata": {},
     "output_type": "display_data"
    },
    {
     "name": "stdout",
     "output_type": "stream",
     "text": [
      "1.5\n"
     ]
    },
    {
     "data": {
      "application/vnd.jupyter.widget-view+json": {
       "model_id": "ecaac50aeaa942f28f97e659815587a6",
       "version_major": 2,
       "version_minor": 0
      },
      "text/plain": [
       "  0%|          | 0/1000 [00:00<?, ?it/s]"
      ]
     },
     "metadata": {},
     "output_type": "display_data"
    }
   ],
   "source": [
    "results = {}\n",
    "sigmas_2 = np.arange(1, 4, 0.5)\n",
    "with tqdm(sigmas_2, unit=\"Sigma²\", desc=\"Corruption\") as tq:\n",
    "    for sigma_2 in tq:\n",
    "        print(sigma_2)\n",
    "        results[sigma_2] = compute_metrics(**donnees[sigma_2])"
   ]
  },
  {
   "cell_type": "code",
   "execution_count": 29,
   "metadata": {},
   "outputs": [
    {
     "data": {
      "application/vnd.jupyter.widget-view+json": {
       "model_id": "2d9c02b3f2dd40598157ba36fa71012d",
       "version_major": 2,
       "version_minor": 0
      },
      "text/plain": [
       "Corruption:   0%|          | 0/6 [00:00<?, ?Sigma²/s]"
      ]
     },
     "metadata": {},
     "output_type": "display_data"
    },
    {
     "name": "stdout",
     "output_type": "stream",
     "text": [
      "1.0\n"
     ]
    },
    {
     "data": {
      "application/vnd.jupyter.widget-view+json": {
       "model_id": "d015e7dfa49342a5a1ce04875bcaf4be",
       "version_major": 2,
       "version_minor": 0
      },
      "text/plain": [
       "  0%|          | 0/3 [00:00<?, ?it/s]"
      ]
     },
     "metadata": {},
     "output_type": "display_data"
    },
    {
     "name": "stdout",
     "output_type": "stream",
     "text": [
      "\n"
     ]
    },
    {
     "data": {
      "application/vnd.jupyter.widget-view+json": {
       "model_id": "00dfcc8e2dca4fbead53684b23718cd4",
       "version_major": 2,
       "version_minor": 0
      },
      "text/plain": [
       "  0%|          | 0/12000 [00:00<?, ?it/s]"
      ]
     },
     "metadata": {},
     "output_type": "display_data"
    },
    {
     "name": "stderr",
     "output_type": "stream",
     "text": [
      "C:\\Users\\mmmat\\AppData\\Local\\Temp\\ipykernel_10332\\2263681875.py:17: UserWarning: To copy construct from a tensor, it is recommended to use sourceTensor.clone().detach() or sourceTensor.clone().detach().requires_grad_(True), rather than torch.tensor(sourceTensor).\n",
      "  return torch.tensor(xx.mean() + yy.mean() + xy.mean())\n"
     ]
    },
    {
     "data": {
      "application/vnd.jupyter.widget-view+json": {
       "model_id": "8360529875c94b7099b8e3b9d4adb8d1",
       "version_major": 2,
       "version_minor": 0
      },
      "text/plain": [
       "  0%|          | 0/1000 [00:00<?, ?it/s]"
      ]
     },
     "metadata": {},
     "output_type": "display_data"
    },
    {
     "data": {
      "application/vnd.jupyter.widget-view+json": {
       "model_id": "bc8f87505dbb4852807226f3645b828d",
       "version_major": 2,
       "version_minor": 0
      },
      "text/plain": [
       "  0%|          | 0/1000 [00:00<?, ?it/s]"
      ]
     },
     "metadata": {},
     "output_type": "display_data"
    },
    {
     "name": "stdout",
     "output_type": "stream",
     "text": [
      "\n"
     ]
    },
    {
     "data": {
      "application/vnd.jupyter.widget-view+json": {
       "model_id": "9cafdfec9fdd46cd897050995c1fa254",
       "version_major": 2,
       "version_minor": 0
      },
      "text/plain": [
       "  0%|          | 0/12000 [00:00<?, ?it/s]"
      ]
     },
     "metadata": {},
     "output_type": "display_data"
    },
    {
     "data": {
      "application/vnd.jupyter.widget-view+json": {
       "model_id": "f96f5e08f8be4d3ea75b88ea2d7db60c",
       "version_major": 2,
       "version_minor": 0
      },
      "text/plain": [
       "  0%|          | 0/1000 [00:00<?, ?it/s]"
      ]
     },
     "metadata": {},
     "output_type": "display_data"
    },
    {
     "data": {
      "application/vnd.jupyter.widget-view+json": {
       "model_id": "c2e817d582344b909c3698b8b1eaa8ad",
       "version_major": 2,
       "version_minor": 0
      },
      "text/plain": [
       "  0%|          | 0/1000 [00:00<?, ?it/s]"
      ]
     },
     "metadata": {},
     "output_type": "display_data"
    },
    {
     "name": "stdout",
     "output_type": "stream",
     "text": [
      "\n"
     ]
    },
    {
     "data": {
      "application/vnd.jupyter.widget-view+json": {
       "model_id": "bf6abb2d70c74a6c88037710dd8ade39",
       "version_major": 2,
       "version_minor": 0
      },
      "text/plain": [
       "  0%|          | 0/12000 [00:00<?, ?it/s]"
      ]
     },
     "metadata": {},
     "output_type": "display_data"
    },
    {
     "data": {
      "application/vnd.jupyter.widget-view+json": {
       "model_id": "3bf810127c78403e85353718287121f8",
       "version_major": 2,
       "version_minor": 0
      },
      "text/plain": [
       "  0%|          | 0/1000 [00:00<?, ?it/s]"
      ]
     },
     "metadata": {},
     "output_type": "display_data"
    },
    {
     "data": {
      "application/vnd.jupyter.widget-view+json": {
       "model_id": "f8ae019a332a44feb691f2fd49dd90c8",
       "version_major": 2,
       "version_minor": 0
      },
      "text/plain": [
       "  0%|          | 0/1000 [00:00<?, ?it/s]"
      ]
     },
     "metadata": {},
     "output_type": "display_data"
    },
    {
     "name": "stdout",
     "output_type": "stream",
     "text": [
      "1.5\n"
     ]
    },
    {
     "data": {
      "application/vnd.jupyter.widget-view+json": {
       "model_id": "4d208b0b95734e77b69a4379750206b0",
       "version_major": 2,
       "version_minor": 0
      },
      "text/plain": [
       "  0%|          | 0/3 [00:00<?, ?it/s]"
      ]
     },
     "metadata": {},
     "output_type": "display_data"
    },
    {
     "name": "stdout",
     "output_type": "stream",
     "text": [
      "\n"
     ]
    },
    {
     "data": {
      "application/vnd.jupyter.widget-view+json": {
       "model_id": "33c3c246a4ad4aefba4aa2eea5816a41",
       "version_major": 2,
       "version_minor": 0
      },
      "text/plain": [
       "  0%|          | 0/12000 [00:00<?, ?it/s]"
      ]
     },
     "metadata": {},
     "output_type": "display_data"
    },
    {
     "data": {
      "application/vnd.jupyter.widget-view+json": {
       "model_id": "f32a46ff3d7a419aa4176004d0eee9ce",
       "version_major": 2,
       "version_minor": 0
      },
      "text/plain": [
       "  0%|          | 0/1000 [00:00<?, ?it/s]"
      ]
     },
     "metadata": {},
     "output_type": "display_data"
    },
    {
     "data": {
      "application/vnd.jupyter.widget-view+json": {
       "model_id": "5be48a86de6c48d1a1e67234dafa202f",
       "version_major": 2,
       "version_minor": 0
      },
      "text/plain": [
       "  0%|          | 0/1000 [00:00<?, ?it/s]"
      ]
     },
     "metadata": {},
     "output_type": "display_data"
    },
    {
     "name": "stdout",
     "output_type": "stream",
     "text": [
      "\n"
     ]
    },
    {
     "data": {
      "application/vnd.jupyter.widget-view+json": {
       "model_id": "0fb63265e06a4e2e8234ae2164c5f46e",
       "version_major": 2,
       "version_minor": 0
      },
      "text/plain": [
       "  0%|          | 0/12000 [00:00<?, ?it/s]"
      ]
     },
     "metadata": {},
     "output_type": "display_data"
    },
    {
     "data": {
      "application/vnd.jupyter.widget-view+json": {
       "model_id": "66e70c75af784ebaa9023127c29f9e46",
       "version_major": 2,
       "version_minor": 0
      },
      "text/plain": [
       "  0%|          | 0/1000 [00:00<?, ?it/s]"
      ]
     },
     "metadata": {},
     "output_type": "display_data"
    },
    {
     "data": {
      "application/vnd.jupyter.widget-view+json": {
       "model_id": "c7eb7008ff14452288a26bc775ce15f0",
       "version_major": 2,
       "version_minor": 0
      },
      "text/plain": [
       "  0%|          | 0/1000 [00:00<?, ?it/s]"
      ]
     },
     "metadata": {},
     "output_type": "display_data"
    },
    {
     "ename": "KeyboardInterrupt",
     "evalue": "",
     "output_type": "error",
     "traceback": [
      "\u001b[1;31m---------------------------------------------------------------------------\u001b[0m",
      "\u001b[1;31mKeyboardInterrupt\u001b[0m                         Traceback (most recent call last)",
      "Cell \u001b[1;32mIn[29], line 16\u001b[0m\n\u001b[0;32m      5\u001b[0m \u001b[39mprint\u001b[39m(sigma_2)\n\u001b[0;32m      6\u001b[0m results[sigma_2] \u001b[39m=\u001b[39m {}\n\u001b[0;32m      7\u001b[0m (\n\u001b[0;32m      8\u001b[0m     results[sigma_2][\u001b[39m\"\u001b[39m\u001b[39mnpe_samples_x\u001b[39m\u001b[39m\"\u001b[39m],\n\u001b[0;32m      9\u001b[0m     results[sigma_2][\u001b[39m\"\u001b[39m\u001b[39mnpe_samples_y\u001b[39m\u001b[39m\"\u001b[39m],\n\u001b[0;32m     10\u001b[0m     results[sigma_2][\u001b[39m\"\u001b[39m\u001b[39mtheoritical_post_y_l\u001b[39m\u001b[39m\"\u001b[39m],\n\u001b[0;32m     11\u001b[0m     results[sigma_2][\u001b[39m\"\u001b[39m\u001b[39mrnpe_samples\u001b[39m\u001b[39m\"\u001b[39m],\n\u001b[0;32m     12\u001b[0m     results[sigma_2][\u001b[39m\"\u001b[39m\u001b[39mrnpe_mmd_t0\u001b[39m\u001b[39m\"\u001b[39m],\n\u001b[0;32m     13\u001b[0m     results[sigma_2][\u001b[39m\"\u001b[39m\u001b[39mrnpe_mmd_h0\u001b[39m\u001b[39m\"\u001b[39m],\n\u001b[0;32m     14\u001b[0m     results[sigma_2][\u001b[39m\"\u001b[39m\u001b[39mnpe_mmd_t0\u001b[39m\u001b[39m\"\u001b[39m],\n\u001b[0;32m     15\u001b[0m     results[sigma_2][\u001b[39m\"\u001b[39m\u001b[39mnpe_mmd_h0\u001b[39m\u001b[39m\"\u001b[39m],\n\u001b[1;32m---> 16\u001b[0m ) \u001b[39m=\u001b[39m compute_rnpe_npe(Gaussian, sigma_2)\n",
      "Cell \u001b[1;32mIn[14], line 52\u001b[0m, in \u001b[0;36mcompute_rnpe_npe\u001b[1;34m(task_name, sigma_2)\u001b[0m\n\u001b[0;32m     50\u001b[0m xm_rescaled \u001b[39m=\u001b[39m (xm \u001b[39m+\u001b[39m task\u001b[39m.\u001b[39mdata[\u001b[39m\"\u001b[39m\u001b[39mscale_parameters\u001b[39m\u001b[39m\"\u001b[39m][\u001b[39m0\u001b[39m]) \u001b[39m*\u001b[39m task\u001b[39m.\u001b[39mdata[\u001b[39m\"\u001b[39m\u001b[39mscale_parameters\u001b[39m\u001b[39m\"\u001b[39m][\u001b[39m1\u001b[39m]\n\u001b[0;32m     51\u001b[0m rnpe_mmd_t0, rnpe_mmd_h0 \u001b[39m=\u001b[39m MMD(xm_rescaled, task\u001b[39m.\u001b[39my0\u001b[39m.\u001b[39mexpand(\u001b[39m5_000\u001b[39m, \u001b[39m-\u001b[39m\u001b[39m1\u001b[39m))\n\u001b[1;32m---> 52\u001b[0m npe_mmd_t0, npe_mmd_h0 \u001b[39m=\u001b[39m MMD(task\u001b[39m.\u001b[39;49mdata[\u001b[39m\"\u001b[39;49m\u001b[39mx\u001b[39;49m\u001b[39m\"\u001b[39;49m], task\u001b[39m.\u001b[39;49my0\u001b[39m.\u001b[39;49mexpand(\u001b[39m5_000\u001b[39;49m, \u001b[39m-\u001b[39;49m\u001b[39m1\u001b[39;49m))\n\u001b[0;32m     54\u001b[0m npe_samples_x_l\u001b[39m.\u001b[39mappend(npe_samples_x)\n\u001b[0;32m     55\u001b[0m npe_samples_y_l\u001b[39m.\u001b[39mappend(npe_samples_y)\n",
      "Cell \u001b[1;32mIn[28], line 44\u001b[0m, in \u001b[0;36mMMD\u001b[1;34m(x, y, n_rep)\u001b[0m\n\u001b[0;32m     42\u001b[0m     x_perm \u001b[39m=\u001b[39m x[torch\u001b[39m.\u001b[39mrandperm(\u001b[39m5_000\u001b[39m)]\n\u001b[0;32m     43\u001b[0m     y_perm \u001b[39m=\u001b[39m y[torch\u001b[39m.\u001b[39mrandperm(\u001b[39m5_000\u001b[39m)]\n\u001b[1;32m---> 44\u001b[0m     t[i] \u001b[39m=\u001b[39m mmd_two_samples(x_perm, y_perm)\n\u001b[0;32m     45\u001b[0m t\u001b[39m.\u001b[39msort()\n\u001b[0;32m     46\u001b[0m h0 \u001b[39m=\u001b[39m torch\u001b[39m.\u001b[39msearchsorted(t, t0) \u001b[39m>\u001b[39m \u001b[39m989\u001b[39m  \u001b[39m# If Ho accepted or not\u001b[39;00m\n",
      "Cell \u001b[1;32mIn[28], line 17\u001b[0m, in \u001b[0;36mmmd_two_samples\u001b[1;34m(x, y)\u001b[0m\n\u001b[0;32m     14\u001b[0m yy \u001b[39m=\u001b[39m rbf_kernel(y, y, gamma\u001b[39m.\u001b[39mitem())\n\u001b[0;32m     15\u001b[0m xy \u001b[39m=\u001b[39m rbf_kernel(x, y, gamma\u001b[39m.\u001b[39mitem())\n\u001b[1;32m---> 17\u001b[0m \u001b[39mreturn\u001b[39;00m torch\u001b[39m.\u001b[39mtensor(xx\u001b[39m.\u001b[39;49mmean() \u001b[39m+\u001b[39m yy\u001b[39m.\u001b[39mmean() \u001b[39m+\u001b[39m xy\u001b[39m.\u001b[39mmean())\n",
      "\u001b[1;31mKeyboardInterrupt\u001b[0m: "
     ]
    }
   ],
   "source": [
    "results = {}\n",
    "sigmas_2 = np.arange(1, 4, 0.5)\n",
    "with tqdm(sigmas_2, unit=\"Sigma²\", desc=\"Corruption\") as tq:\n",
    "    for sigma_2 in tq:\n",
    "        print(sigma_2)\n",
    "        results[sigma_2] = {}\n",
    "        (\n",
    "            results[sigma_2][\"npe_samples_x\"],\n",
    "            results[sigma_2][\"npe_samples_y\"],\n",
    "            results[sigma_2][\"theoritical_post_y_l\"],\n",
    "            results[sigma_2][\"rnpe_samples\"],\n",
    "            results[sigma_2][\"rnpe_mmd_t0\"],\n",
    "            results[sigma_2][\"rnpe_mmd_h0\"],\n",
    "            results[sigma_2][\"npe_mmd_t0\"],\n",
    "            results[sigma_2][\"npe_mmd_h0\"],\n",
    "        ) = compute_rnpe_npe(Gaussian, sigma_2)"
   ]
  },
  {
   "cell_type": "code",
   "execution_count": null,
   "metadata": {},
   "outputs": [
    {
     "data": {
      "application/vnd.jupyter.widget-view+json": {
       "model_id": "6a1531c381ba4260be5ef5ec15613a62",
       "version_major": 2,
       "version_minor": 0
      },
      "text/plain": [
       "interactive(children=(Dropdown(description='sigma_2', options=(1, 3), value=1), Output()), _dom_classes=('widg…"
      ]
     },
     "metadata": {},
     "output_type": "display_data"
    }
   ],
   "source": [
    "@widgets.interact(sigma_2=sigmas_2)\n",
    "def plot_posteriors_widget(sigma_2=1):\n",
    "    plt.close()\n",
    "    fig, ax = plt.subplots()\n",
    "    ax.hist(\n",
    "        results[sigma_2][\"npe_samples_y\"].squeeze(),\n",
    "        bins=400,\n",
    "        color=\"green\",\n",
    "        density=True,\n",
    "        label=\"Posterior samples from NPE\",\n",
    "        alpha=0.5,\n",
    "    )\n",
    "    ax.hist(\n",
    "        results[sigma_2][\"rnpe_samples\"].squeeze(),\n",
    "        bins=400,\n",
    "        color=\"red\",\n",
    "        density=True,\n",
    "        label=\"Posterior samples from RNPE\",\n",
    "        alpha=0.5,\n",
    "    )\n",
    "    ax.plot(theta_grid, results[sigma_2][\"theoritical_post_y_l\"])\n",
    "    ax.legend()\n",
    "    ax.set_title(f\"NPE and RNPE samples, sigma_y² = {sigma_2}\")\n",
    "    plt.show()"
   ]
  },
  {
   "cell_type": "code",
   "execution_count": null,
   "metadata": {},
   "outputs": [
    {
     "data": {
      "text/plain": [
       "(array([3.97458873e-04, 0.00000000e+00, 1.27586716e-01, 1.02146930e-01,\n",
       "        4.01433462e-02, 3.21941688e-02, 1.51034372e-02, 6.75680085e-03,\n",
       "        7.94932813e-03, 1.07313896e-02, 5.16696536e-03, 1.27186840e-02,\n",
       "        9.14155409e-03, 9.53901296e-03, 7.94932813e-03, 1.11288485e-02,\n",
       "        7.94917747e-03, 4.76950648e-03, 9.14155409e-03, 6.35934198e-03,\n",
       "        5.56452969e-03, 7.94917747e-03, 9.93647184e-03, 6.75680085e-03,\n",
       "        6.75680085e-03, 6.35934198e-03, 7.94932813e-03, 7.15425972e-03,\n",
       "        7.15425972e-03, 6.75680085e-03, 6.75680085e-03, 8.34663634e-03,\n",
       "        1.07315930e-02, 8.34663634e-03, 9.93647184e-03, 9.53901296e-03,\n",
       "        9.14155409e-03, 4.37204761e-03, 8.74426094e-03, 7.15425972e-03,\n",
       "        7.15425972e-03, 5.56442423e-03, 1.03339307e-02, 9.93656600e-03,\n",
       "        6.35934198e-03, 7.94917747e-03, 7.94925280e-03, 7.15425972e-03,\n",
       "        9.53901296e-03, 1.15264166e-02, 1.03339307e-02, 1.11288485e-02,\n",
       "        9.14164072e-03, 1.07313896e-02, 8.74409522e-03, 1.11289539e-02,\n",
       "        1.07313896e-02, 7.94917747e-03, 8.74417808e-03, 1.15263073e-02,\n",
       "        1.15263073e-02, 1.39111924e-02, 1.23212251e-02, 1.27186840e-02,\n",
       "        1.39111924e-02, 1.27186840e-02, 8.34663634e-03, 1.51035803e-02,\n",
       "        9.14155409e-03, 1.31161428e-02, 1.31162671e-02, 1.51034372e-02,\n",
       "        1.35136017e-02, 1.51035803e-02, 1.23212251e-02, 1.47059783e-02,\n",
       "        1.43086550e-02, 1.27186840e-02, 1.27186840e-02, 1.70908935e-02,\n",
       "        1.78856493e-02, 1.27186840e-02, 1.51035803e-02, 1.55008961e-02,\n",
       "        1.62958138e-02, 2.02705946e-02, 1.35136017e-02, 1.62958138e-02,\n",
       "        1.94756694e-02, 1.90780259e-02, 1.70907316e-02, 1.98731320e-02,\n",
       "        1.35136017e-02, 1.98729437e-02, 1.90782067e-02, 2.38475324e-02,\n",
       "        2.02704025e-02, 1.70908935e-02, 1.86805671e-02, 2.06680573e-02,\n",
       "        1.94754848e-02, 2.18602380e-02, 2.62325342e-02, 2.30526147e-02,\n",
       "        2.22576969e-02, 2.02705946e-02, 2.42449913e-02, 2.50399090e-02,\n",
       "        2.38477584e-02, 2.66297445e-02, 2.34500735e-02, 2.58350716e-02,\n",
       "        2.86170389e-02, 2.98094155e-02, 2.30528331e-02, 2.94119566e-02,\n",
       "        2.78221211e-02, 2.86173101e-02, 2.74246623e-02, 2.90144978e-02,\n",
       "        3.29893991e-02, 3.65662164e-02, 3.17967099e-02, 2.94120960e-02,\n",
       "        2.62324099e-02, 2.62322856e-02, 2.42451062e-02, 3.02070175e-02,\n",
       "        3.65662164e-02, 2.82197137e-02, 2.30527239e-02, 3.02068744e-02,\n",
       "        3.37841643e-02, 3.53740073e-02, 3.41814631e-02, 2.62324099e-02,\n",
       "        3.06044783e-02, 3.06043333e-02, 3.61689289e-02, 3.61689289e-02,\n",
       "        3.61687575e-02, 3.17968605e-02, 3.33867036e-02, 3.89509696e-02,\n",
       "        4.45156047e-02, 3.93486149e-02, 3.61687575e-02, 4.92851338e-02,\n",
       "        5.08749769e-02, 5.00800553e-02, 5.40544068e-02, 6.43886426e-02,\n",
       "        5.60419667e-02, 6.83629262e-02, 5.96191135e-02, 5.76318097e-02,\n",
       "        7.03502206e-02, 6.47861033e-02, 6.75683286e-02, 7.31324327e-02,\n",
       "        6.91581717e-02, 6.87605480e-02, 6.71707087e-02, 7.82997691e-02,\n",
       "        7.79021238e-02, 7.39275256e-02, 7.63124653e-02, 8.14792621e-02,\n",
       "        9.53903556e-02, 9.89677284e-02, 9.53903556e-02, 1.06916690e-01,\n",
       "        1.04134718e-01, 9.73776547e-02, 1.09698909e-01, 1.16456002e-01,\n",
       "        1.04134472e-01, 1.13673776e-01, 1.12878587e-01, 1.13276047e-01,\n",
       "        1.18443305e-01, 1.16853186e-01, 1.17648105e-01, 1.11686340e-01,\n",
       "        1.31161894e-01, 1.41098234e-01, 1.25597450e-01, 1.17648245e-01,\n",
       "        1.23212689e-01, 1.29571900e-01, 1.21225387e-01, 1.28379596e-01,\n",
       "        1.35136417e-01, 1.17250784e-01, 1.25994836e-01, 1.27982212e-01,\n",
       "        1.31956737e-01, 1.37918678e-01, 1.64548485e-01, 1.93563073e-01,\n",
       "        2.25359899e-01, 2.80209398e-01, 3.13993486e-01, 3.97857628e-01,\n",
       "        4.90863308e-01, 6.57001463e-01, 7.89356128e-01, 9.38005719e-01,\n",
       "        1.11924750e+00, 1.32115799e+00, 1.50875835e+00, 1.66376777e+00,\n",
       "        1.81997065e+00, 1.83427922e+00, 1.83427705e+00, 1.84699795e+00,\n",
       "        1.65939669e+00, 1.47099878e+00, 1.26273133e+00, 1.05843674e+00,\n",
       "        7.73854260e-01, 6.15267794e-01, 4.48733194e-01, 3.53739235e-01,\n",
       "        2.77825069e-01, 1.89985792e-01, 1.75279778e-01, 1.51432548e-01,\n",
       "        1.35931257e-01, 1.39508395e-01, 1.12083933e-01, 1.17648105e-01,\n",
       "        1.23212543e-01, 1.17250923e-01, 1.12878587e-01, 1.24802382e-01,\n",
       "        1.20430609e-01, 1.03737012e-01, 1.10096369e-01, 1.05724561e-01,\n",
       "        1.04929391e-01, 1.07314150e-01, 9.18134348e-02, 9.10180820e-02,\n",
       "        1.07314404e-01, 1.00557571e-01, 8.98257054e-02, 9.34032778e-02,\n",
       "        1.00160111e-01, 9.77753461e-02, 9.26079175e-02, 8.58515234e-02,\n",
       "        9.14159740e-02, 7.98892336e-02, 6.59784856e-02, 7.55175438e-02,\n",
       "        7.82993981e-02, 6.59784856e-02, 7.75048476e-02, 5.28620302e-02,\n",
       "        5.88241920e-02, 6.16064173e-02, 5.80289955e-02, 5.76318097e-02,\n",
       "        4.92851338e-02, 5.28620302e-02, 5.92216527e-02, 4.96825946e-02,\n",
       "        4.21306406e-02, 4.84902123e-02, 3.41816251e-02, 4.01433462e-02,\n",
       "        4.05409972e-02, 4.37206832e-02, 3.61687575e-02, 3.77587719e-02,\n",
       "        4.25283010e-02, 3.89509696e-02, 3.37841643e-02, 3.21943213e-02,\n",
       "        3.49763809e-02, 3.53738397e-02, 4.09386519e-02, 3.89509696e-02,\n",
       "        4.21306406e-02, 4.25285025e-02, 3.06043333e-02, 3.69636752e-02,\n",
       "        3.89513387e-02, 4.29255583e-02, 3.81560519e-02, 3.73614881e-02,\n",
       "        3.33865454e-02, 2.82195800e-02, 3.57716376e-02, 3.10017921e-02,\n",
       "        2.46424502e-02, 3.37843244e-02, 3.06043333e-02, 3.02071606e-02,\n",
       "        2.66297445e-02, 2.94119566e-02, 3.06046233e-02, 2.58348268e-02,\n",
       "        2.58348268e-02, 2.62325342e-02, 2.98094155e-02, 3.25916276e-02,\n",
       "        2.42452210e-02, 3.02068744e-02, 2.74246623e-02, 2.70274595e-02,\n",
       "        2.90144978e-02, 1.94754848e-02, 2.10655199e-02, 1.90780259e-02,\n",
       "        2.30526147e-02, 2.30528331e-02, 1.74881904e-02, 1.78856493e-02,\n",
       "        1.94756694e-02, 2.10653203e-02, 2.02704025e-02, 1.39111924e-02,\n",
       "        1.51034372e-02, 2.06678614e-02, 1.47061177e-02, 1.35136017e-02,\n",
       "        1.31161428e-02, 9.53910336e-03, 1.35136017e-02, 1.58983549e-02,\n",
       "        1.66934309e-02, 1.27186840e-02, 1.74881904e-02, 2.02705946e-02,\n",
       "        1.58983549e-02, 1.55008961e-02, 9.53910336e-03, 1.51034372e-02,\n",
       "        1.23212251e-02, 1.31162671e-02, 8.34663634e-03, 8.34663634e-03,\n",
       "        1.03340286e-02, 1.15263073e-02, 1.11288485e-02, 1.11289539e-02,\n",
       "        9.14155409e-03, 1.03339307e-02, 9.93656600e-03, 8.74409522e-03,\n",
       "        5.96188310e-03, 7.94925280e-03, 5.96188310e-03, 8.34663634e-03,\n",
       "        6.75686488e-03, 8.34663634e-03, 4.37204761e-03, 5.56447696e-03,\n",
       "        5.96182661e-03, 2.38479844e-03, 5.56442423e-03, 5.56442423e-03,\n",
       "        5.56442423e-03, 6.75680085e-03, 3.57712986e-03, 4.76959688e-03,\n",
       "        4.37204761e-03, 4.76950648e-03, 1.03339307e-02, 4.76950648e-03,\n",
       "        4.76950648e-03, 5.56452969e-03, 5.56442423e-03, 5.16696536e-03,\n",
       "        4.76950648e-03, 6.35934198e-03, 6.75680085e-03, 4.76959688e-03,\n",
       "        5.56442423e-03, 4.37204761e-03, 4.37204761e-03, 3.97458873e-03,\n",
       "        4.37204761e-03, 7.94932813e-03, 7.94917747e-03, 5.56442423e-03,\n",
       "        7.15425972e-03, 6.35934198e-03, 3.97458873e-03, 8.34679453e-03,\n",
       "        4.76950648e-03, 9.93647184e-03, 9.53901296e-03, 1.51034372e-02,\n",
       "        1.74881904e-02, 3.57719766e-02, 3.53738397e-02, 1.29969052e-01]),\n",
       " array([-5.06534719, -5.04018736, -5.01502752, -4.98986816, -4.96470833,\n",
       "        -4.93954849, -4.91438866, -4.88922882, -4.86406898, -4.83890963,\n",
       "        -4.81374979, -4.78858995, -4.76343012, -4.73827028, -4.71311045,\n",
       "        -4.68795109, -4.66279125, -4.63763142, -4.61247158, -4.58731174,\n",
       "        -4.56215191, -4.53699255, -4.51183271, -4.48667288, -4.46151304,\n",
       "        -4.43635321, -4.41119337, -4.38603401, -4.36087418, -4.33571434,\n",
       "        -4.3105545 , -4.28539467, -4.26023483, -4.23507547, -4.20991564,\n",
       "        -4.1847558 , -4.15959597, -4.13443613, -4.10927629, -4.08411694,\n",
       "        -4.0589571 , -4.03379726, -4.00863743, -3.98347759, -3.958318  ,\n",
       "        -3.93315816, -3.90799832, -3.88283873, -3.85767889, -3.83251905,\n",
       "        -3.80735946, -3.78219962, -3.75703979, -3.73188019, -3.70672035,\n",
       "        -3.68156052, -3.65640092, -3.63124108, -3.60608125, -3.58092165,\n",
       "        -3.55576181, -3.53060198, -3.50544238, -3.48028255, -3.45512271,\n",
       "        -3.42996311, -3.40480328, -3.37964344, -3.35448384, -3.32932401,\n",
       "        -3.30416417, -3.27900457, -3.25384474, -3.2286849 , -3.2035253 ,\n",
       "        -3.17836547, -3.15320563, -3.12804604, -3.1028862 , -3.07772636,\n",
       "        -3.05256677, -3.02740693, -3.0022471 , -2.9770875 , -2.95192766,\n",
       "        -2.92676783, -2.90160823, -2.87644839, -2.85128856, -2.82612896,\n",
       "        -2.80096912, -2.77580929, -2.75064969, -2.72548985, -2.70033002,\n",
       "        -2.67517042, -2.65001059, -2.62485075, -2.59969115, -2.57453132,\n",
       "        -2.54937172, -2.52421188, -2.49905205, -2.47389245, -2.44873261,\n",
       "        -2.42357278, -2.39841318, -2.37325335, -2.34809351, -2.32293391,\n",
       "        -2.29777408, -2.27261424, -2.24745464, -2.22229481, -2.19713497,\n",
       "        -2.17197537, -2.14681554, -2.1216557 , -2.09649611, -2.07133627,\n",
       "        -2.04617643, -2.02101684, -1.995857  , -1.97069716, -1.94553745,\n",
       "        -1.92037773, -1.8952179 , -1.87005818, -1.84489846, -1.81973863,\n",
       "        -1.79457891, -1.76941919, -1.74425936, -1.71909964, -1.69393992,\n",
       "        -1.66878009, -1.64362037, -1.61846066, -1.59330082, -1.5681411 ,\n",
       "        -1.54298139, -1.51782155, -1.49266183, -1.46750212, -1.44234228,\n",
       "        -1.41718256, -1.39202285, -1.36686301, -1.3417033 , -1.31654358,\n",
       "        -1.29138386, -1.26622403, -1.24106431, -1.21590459, -1.19074476,\n",
       "        -1.16558504, -1.14042532, -1.11526549, -1.09010577, -1.06494606,\n",
       "        -1.03978622, -1.0146265 , -0.98946673, -0.96430695, -0.93914723,\n",
       "        -0.91398746, -0.88882768, -0.86366796, -0.83850819, -0.81334841,\n",
       "        -0.7881887 , -0.76302892, -0.73786914, -0.71270943, -0.68754965,\n",
       "        -0.66238987, -0.63723016, -0.61207038, -0.58691067, -0.56175089,\n",
       "        -0.53659111, -0.5114314 , -0.48627162, -0.46111184, -0.4359521 ,\n",
       "        -0.41079235, -0.38563257, -0.36047283, -0.33531308, -0.31015334,\n",
       "        -0.28499356, -0.25983381, -0.23467405, -0.20951429, -0.18435454,\n",
       "        -0.15919478, -0.13403504, -0.10887527, -0.08371552, -0.05855576,\n",
       "        -0.03339601, -0.00823625,  0.01692351,  0.04208326,  0.06724302,\n",
       "         0.09240277,  0.11756253,  0.14272228,  0.16788204,  0.1930418 ,\n",
       "         0.21820155,  0.24336131,  0.26852107,  0.29368082,  0.31884056,\n",
       "         0.34400034,  0.36916009,  0.39431983,  0.41947961,  0.44463935,\n",
       "         0.4697991 ,  0.49495888,  0.52011865,  0.54527837,  0.57043815,\n",
       "         0.59559786,  0.62075764,  0.64591742,  0.67107713,  0.69623691,\n",
       "         0.72139668,  0.7465564 ,  0.77171618,  0.79687595,  0.82203567,\n",
       "         0.84719545,  0.87235522,  0.89751494,  0.92267472,  0.94783449,\n",
       "         0.97299421,  0.99815398,  1.02331376,  1.04847348,  1.07363331,\n",
       "         1.09879303,  1.12395275,  1.14911258,  1.1742723 ,  1.19943202,\n",
       "         1.22459173,  1.24975157,  1.27491128,  1.300071  ,  1.32523084,\n",
       "         1.35039055,  1.37555027,  1.40071011,  1.42586982,  1.45102954,\n",
       "         1.47618937,  1.50134909,  1.52650881,  1.55166864,  1.57682836,\n",
       "         1.60198808,  1.62714791,  1.65230763,  1.67746735,  1.70262718,\n",
       "         1.7277869 ,  1.75294662,  1.77810645,  1.80326617,  1.82842588,\n",
       "         1.85358572,  1.87874544,  1.90390515,  1.92906499,  1.95422471,\n",
       "         1.97938442,  2.00454426,  2.02970409,  2.05486369,  2.08002353,\n",
       "         2.10518336,  2.13034296,  2.1555028 ,  2.18066263,  2.20582223,\n",
       "         2.23098207,  2.2561419 ,  2.2813015 ,  2.30646133,  2.33162117,\n",
       "         2.35678077,  2.3819406 ,  2.40710044,  2.43226004,  2.45741987,\n",
       "         2.48257947,  2.50773931,  2.53289914,  2.55805874,  2.58321857,\n",
       "         2.60837841,  2.63353801,  2.65869784,  2.68385768,  2.70901728,\n",
       "         2.73417711,  2.75933695,  2.78449655,  2.80965638,  2.83481622,\n",
       "         2.85997581,  2.88513565,  2.91029549,  2.93545508,  2.96061492,\n",
       "         2.98577476,  3.01093435,  3.03609419,  3.06125402,  3.08641362,\n",
       "         3.11157346,  3.13673329,  3.16189289,  3.18705273,  3.21221256,\n",
       "         3.23737216,  3.262532  ,  3.28769183,  3.31285143,  3.33801126,\n",
       "         3.3631711 ,  3.3883307 ,  3.41349053,  3.43865037,  3.46380997,\n",
       "         3.4889698 ,  3.51412964,  3.53928924,  3.56444907,  3.58960891,\n",
       "         3.61476851,  3.63992834,  3.66508818,  3.69024777,  3.71540761,\n",
       "         3.74056745,  3.76572704,  3.79088688,  3.81604671,  3.84120631,\n",
       "         3.86636615,  3.89152598,  3.91668558,  3.94184542,  3.96700525,\n",
       "         3.99216485,  4.01732492,  4.04248428,  4.06764412,  4.09280396,\n",
       "         4.11796379,  4.14312363,  4.16828346,  4.19344282,  4.21860266,\n",
       "         4.24376249,  4.26892233,  4.29408216,  4.319242  ,  4.34440136,\n",
       "         4.3695612 ,  4.39472103,  4.41988087,  4.4450407 ,  4.47020054,\n",
       "         4.4953599 ,  4.52051973,  4.54567957,  4.57083941,  4.59599924,\n",
       "         4.62115908,  4.64631844,  4.67147827,  4.69663811,  4.72179794,\n",
       "         4.74695778,  4.77211761,  4.79727697,  4.82243681,  4.84759665,\n",
       "         4.87275648,  4.89791632,  4.92307615,  4.94823551,  4.97339535,\n",
       "         4.99855518]),\n",
       " <BarContainer object of 400 artists>)"
      ]
     },
     "execution_count": 47,
     "metadata": {},
     "output_type": "execute_result"
    },
    {
     "data": {
      "image/png": "[encoded data removed]",
      "text/plain": [
       "<Figure size 640x480 with 1 Axes>"
      ]
     },
     "metadata": {},
     "output_type": "display_data"
    }
   ],
   "source": [
    "plt.hist(npe_samples_y.squeeze().cpu().numpy(), bins=400, density=True)\n",
    "plt.hist(rnpe_samples.cpu().numpy(), bins=400, density=True)"
   ]
  },
  {
   "cell_type": "code",
   "execution_count": null,
   "metadata": {},
   "outputs": [
    {
     "name": "stdout",
     "output_type": "stream",
     "text": [
      "False\n",
      "False\n"
     ]
    },
    {
     "data": {
      "image/png": "[encoded data removed]",
      "text/plain": [
       "<Figure size 640x480 with 1 Axes>"
      ]
     },
     "metadata": {},
     "output_type": "display_data"
    }
   ],
   "source": [
    "for _ in sigmas_2:\n",
    "    print(results[_][\"rnpe_mmd_h0\"])\n",
    "    plt.scatter(_, results[_][\"npe_mmd_t0\"])"
   ]
  }
 ],
 "metadata": {
  "kernelspec": {
   "display_name": "sbi_env1",
   "language": "python",
   "name": "python3"
  },
  "language_info": {
   "codemirror_mode": {
    "name": "ipython",
    "version": 3
   },
   "file_extension": ".py",
   "mimetype": "text/x-python",
   "name": "python",
   "nbconvert_exporter": "python",
   "pygments_lexer": "ipython3",
   "version": "3.11.3"
  },
  "orig_nbformat": 4
 },
 "nbformat": 4,
 "nbformat_minor": 2
}
