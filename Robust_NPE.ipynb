{
 "cells": [
  {
   "cell_type": "code",
   "execution_count": 79,
   "metadata": {},
   "outputs": [],
   "source": [
    "import torch\n",
    "import numpy as np\n",
    "from torch.utils.data import TensorDataset, DataLoader\n",
    "import zuko\n",
    "import lampe.inference, lampe.utils\n",
    "import matplotlib.pyplot as plt\n",
    "import tqdm"
   ]
  },
  {
   "cell_type": "code",
   "execution_count": 80,
   "metadata": {},
   "outputs": [],
   "source": [
    "N = 50000\n",
    "prior_over_mu = zuko.distributions.Normal(torch.Tensor([0.0]), torch.Tensor([25.0]))\n",
    "mu=0"
   ]
  },
  {
   "attachments": {},
   "cell_type": "markdown",
   "metadata": {},
   "source": [
    "Utils"
   ]
  },
  {
   "cell_type": "code",
   "execution_count": 81,
   "metadata": {},
   "outputs": [],
   "source": [
    "def true_dgp(mus):\n",
    "    \"\"\" True data generating process\"\"\"\n",
    "    res = torch.empty((mus.shape[0], 2))\n",
    "    for i, mu in enumerate(mus):\n",
    "        \n",
    "        dist=  torch.distributions.Normal(mu, 2)\n",
    "        sample = dist.sample((100, ))\n",
    "        mean, var = torch.mean(sample).item(), torch.var(sample).item()\n",
    "        x = mean, var\n",
    "        res[i] = torch.tensor(x)\n",
    "    return res"
   ]
  },
  {
   "attachments": {},
   "cell_type": "markdown",
   "metadata": {},
   "source": [
    "Simulation (line 1 & 2 of Algorithm 1)"
   ]
  },
  {
   "cell_type": "code",
   "execution_count": 82,
   "metadata": {},
   "outputs": [],
   "source": [
    "def simulator(thetas: torch.Tensor):\n",
    "    \"\"\"Simulator, maps theta -> x = (mean, var)\n",
    "\n",
    "    Args:\n",
    "        thetas (torch.Tensor): Parameters\n",
    "\n",
    "    Returns:\n",
    "        torch.Tensor: Tensor of size (theta.size, 2) of (mean, var)\n",
    "    \"\"\"\n",
    "    N = thetas.size()[0]\n",
    "    x = torch.empty((N, 2))\n",
    "    for i, theta in enumerate(thetas):\n",
    "        dist = torch.distributions.Normal(theta, 1.0)\n",
    "        samples = dist.sample((100,))\n",
    "        means, var = torch.mean(samples), torch.var(samples)\n",
    "        x[i][0], x[i][1] = means, var\n",
    "    return x\n",
    "\n",
    "def scale(quantity):\n",
    "    '''\n",
    "    Standardizes the quantity\n",
    "    '''\n",
    "    means, std = quantity.mean(axis=0), quantity.std(axis=0)\n",
    "    quantity = quantity - means\n",
    "    quantity = quantity/std\n",
    "    return quantity\n",
    "\n",
    "\n",
    "#Raw simulations\n",
    "theta = prior_over_mu.sample((N, ))\n",
    "x_raw = simulator(theta)\n",
    "#Standardized versions\n",
    "\n",
    "x = scale(x_raw)\n",
    "dataset = lampe.data.JointDataset(theta, x)\n",
    "\n",
    "\n",
    "theta_test = scale(prior_over_mu.sample((N//10, )))\n",
    "x_test = scale(simulator(theta_test))\n",
    "dataset_test = lampe.data.JointDataset(theta_test, x_test)\n",
    "\n",
    "'''Creates a 'true' dataset (theta*, x*) ~ p(theta, x)'''\n",
    "\n",
    "\n",
    "thetas_star = torch.ones((N//10, )) * mu\n",
    "y_star_raw = true_dgp(thetas_star_raw)\n",
    "y_star = scale(y_star_raw)\n",
    "dataset_star = lampe.data.JointDataset(thetas_star.unsqueeze(1), y_star)\n",
    "\n",
    "def noisy_simulator():\n",
    "    #Sample the parameters theta [mu]\n",
    "    sigma = 0.01\n",
    "    tau = 0.25\n",
    "    rho = 1/2\n",
    "    x_noisy_raw, theta_noisy = x_raw.clone(), theta.clone()\n",
    "    x_noisy_test_raw, theta_noisy_test = x_test.clone(), theta_test.clone()\n",
    "\n",
    "    for i, x in enumerate(x_noisy_raw):\n",
    "        spike_dist = torch.distributions.Normal(x, sigma)\n",
    "        slab_dist = torch.distributions.Cauchy(x, tau)\n",
    "        spike = (1 - rho) *spike_dist.sample()\n",
    "        slab = rho * slab_dist.sample()\n",
    "        x_noisy_raw[i] += spike + slab\n",
    "    for i, x in enumerate(x_noisy_test_raw):\n",
    "        spike_dist = torch.distributions.Normal(x, torch.Tensor([sigma]))\n",
    "        slab_dist = torch.distributions.Cauchy(x, torch.Tensor([tau]))\n",
    "        spike = ((1 - rho) *spike_dist.sample((1, )))[0]\n",
    "        slab = (rho * slab_dist.sample((1, )))[0]\n",
    "        x_noisy_test_raw[i] += spike + slab\n",
    "    x_noisy = scale(x_noisy_raw)\n",
    "    return x_noisy, theta_noisy, x_noisy_test_raw, theta_noisy_test\n",
    "\n",
    "x_noisy, thetas_noisy, x_test_noisy, thetas_test_noisy = noisy_simulator()\n",
    "\n",
    "dataset_noisy = lampe.data.JointDataset(thetas_noisy, x_noisy)"
   ]
  },
  {
   "cell_type": "code",
   "execution_count": 83,
   "metadata": {},
   "outputs": [],
   "source": [
    "def train_NPE(flow, data, loss,theta_test, x_test, learning_rate=5*10e-4, max_epochs=50,batch_size=256,patience=5):\n",
    "    \n",
    "    #Optim\n",
    "    optimizer = torch.optim.Adam(flow.parameters(), learning_rate)\n",
    "    step = lampe.utils.GDStep(optimizer)\n",
    "    #Creates the loader\n",
    "    loader = lampe.data.DataLoader(data, batch_size)\n",
    "    #For early stopping\n",
    "    with torch.no_grad():\n",
    "        min_loss = loss(theta_test,x_test)\n",
    "    time_to_min = 1\n",
    "    min_loss_list = [min_loss]\n",
    "    \n",
    "    flow.train()\n",
    "    \n",
    "    for epoch in tqdm.tqdm(range(max_epochs)):\n",
    "        \n",
    "        for theta_batch, x_batch in loader:\n",
    "            \n",
    "            losses = loss(theta_batch, x_batch)\n",
    "            optimizer.zero_grad()\n",
    "            losses.backward()\n",
    "            optimizer.step()\n",
    "        \n",
    "        #Checking for early stopping\n",
    "        with torch.no_grad():\n",
    "            loss_test = loss(theta_test, x_test)\n",
    "            min_loss_list.append(loss_test)\n",
    "            if len(min_loss_list) - np.argmin(min_loss_list) > patience:\n",
    "                print(f\" Early stop at epoch {epoch}\")\n",
    "                break\n",
    "    flow.eval()\n",
    "    return flow\n",
    "    "
   ]
  },
  {
   "cell_type": "code",
   "execution_count": 84,
   "metadata": {},
   "outputs": [],
   "source": [
    "def train_unconditional(flow, x, x_test, loss, learning_rate=1e-3,max_epochs=50, batch_size=256, patience=5):\n",
    "    \n",
    "    #Optim\n",
    "    optimizer = torch.optim.Adam(flow.parameters(), learning_rate)\n",
    "    \n",
    "    #Creates the loader\n",
    "    loader = torch.utils.data.DataLoader(x, batch_size)\n",
    "    min_loss_list = []\n",
    "    #Early stopping\n",
    "    with torch.no_grad():\n",
    "        min_loss = -loss(x_test)\n",
    "    min_loss_list = [min_loss]\n",
    "    \n",
    "    flow.train()\n",
    "    for epoch in tqdm.tqdm(range(max_epochs)):\n",
    "        \n",
    "        for x_batch in loader:\n",
    "                \n",
    "            losses = loss(x_batch)\n",
    "            optimizer.zero_grad()\n",
    "            losses.backward()\n",
    "            optimizer.step()\n",
    "        #Checking for early stopping\n",
    "        with torch.no_grad():\n",
    "            loss_test = loss(x_test)\n",
    "            min_loss_list.append(loss_test)\n",
    "            if len(min_loss_list) - np.argmin(min_loss_list) > patience:\n",
    "                print(f\"Early stop at epoch {epoch}\")\n",
    "                break\n",
    "    return flow"
   ]
  },
  {
   "attachments": {},
   "cell_type": "markdown",
   "metadata": {},
   "source": [
    "Train NPE q(theta|x) on the simulated dataset {(thetai, xi)}, i=1, ... N\n",
    "Uses a neural spline flow defining the transform on the interval [-5, 5] using 10  spline segments and 5 coupling layers. The base of the flow is a standard Gaussian distribution. "
   ]
  },
  {
   "cell_type": "code",
   "execution_count": 85,
   "metadata": {},
   "outputs": [
    {
     "name": "stderr",
     "output_type": "stream",
     "text": [
      "  4%|▍         | 2/50 [00:08<03:28,  4.34s/it]"
     ]
    }
   ],
   "source": [
    "def build_nsf(features, context):\n",
    "    \"\"\"Callable to instanciate the NPE with NSFs\"\"\"\n",
    "    return zuko.flows.NSF(features, context, bins=10, transforms=5)\n",
    "q_NPE = lampe.inference.NPE(theta_dim = 1, x_dim=2, build=build_nsf)\n",
    "loss_NPE = lampe.inference.NPELoss(q_NPE)\n",
    "q_NPE = train_NPE(q_NPE, dataset, loss_NPE, theta_test, x_test)\n",
    "\n",
    "q_NPE_noisy = lampe.inference.NPE(theta_dim=1,x_dim=2,build=build_nsf)\n",
    "loss_NPE_noisy = lampe.inference.NPELoss(q_NPE_noisy)\n",
    "q_NPE_noisy = train_NPE(q_NPE_noisy, dataset_noisy, loss_NPE_noisy, thetas_test_noisy,x_test_noisy)\n"
   ]
  },
  {
   "attachments": {},
   "cell_type": "markdown",
   "metadata": {},
   "source": [
    "### Sampling theta here as in the 'classic' NPE framework (i.e. assuming no error)"
   ]
  },
  {
   "cell_type": "code",
   "execution_count": null,
   "metadata": {},
   "outputs": [],
   "source": [
    "thetas_NPE = q_NPE.sample(x)"
   ]
  },
  {
   "attachments": {},
   "cell_type": "markdown",
   "metadata": {},
   "source": [
    "Train q(x) on {xi} i=1, ... N (so first gen the x)\n",
    "For q(x) uses of a block neural autoregressive flow, single hidden layer of size 8D, x in R^d"
   ]
  },
  {
   "cell_type": "code",
   "execution_count": null,
   "metadata": {},
   "outputs": [
    {
     "name": "stderr",
     "output_type": "stream",
     "text": [
      "  8%|▊         | 4/50 [00:08<01:35,  2.09s/it]"
     ]
    },
    {
     "name": "stdout",
     "output_type": "stream",
     "text": [
      "Early stop at epoch 4\n"
     ]
    },
    {
     "name": "stderr",
     "output_type": "stream",
     "text": [
      "\n"
     ]
    }
   ],
   "source": [
    "q_x_NF = zuko.flows.NAF(features = 2, context=0, hidden_features=[8]*2,transforms=1)\n",
    "loss_q_x = lambda x: -q_x_NF().log_prob(x).mean()\n",
    "q_x_NF = train_unconditional(q_x_NF, x, x_test, loss_q_x)"
   ]
  },
  {
   "attachments": {},
   "cell_type": "markdown",
   "metadata": {},
   "source": [
    "Sample x~m from p(x | y0) % p(y0 \\ x) q(x), m = 1, ... M using MCMC"
   ]
  },
  {
   "attachments": {},
   "cell_type": "markdown",
   "metadata": {},
   "source": [
    "Spike and slab"
   ]
  },
  {
   "cell_type": "code",
   "execution_count": null,
   "metadata": {},
   "outputs": [],
   "source": [
    "M = 100000\n",
    "warm_up_steps = 20000\n",
    "traj_length = 1\n",
    "target_acceptance_prob = 0.95"
   ]
  },
  {
   "cell_type": "code",
   "execution_count": null,
   "metadata": {},
   "outputs": [],
   "source": [
    "class MHQTransition(lampe.inference.MetropolisHastings):\n",
    "    def q(self, x:torch.Tensor):\n",
    "        return q_x_NF()"
   ]
  },
  {
   "cell_type": "code",
   "execution_count": null,
   "metadata": {},
   "outputs": [],
   "source": [
    "def p_y_given_x(x):\n",
    "    z = torch.distributions.Bernoulli(1/2).sample(x.shape)\n",
    "    res = 1\n",
    "    for j,x_j in enumerate(x):\n",
    "        zj=z[j]\n",
    "        if not zj:\n",
    "            dist=  torch.distributions.Normal(x_j, 0.01)\n",
    "        else:\n",
    "            dist = torch.distributions.Cauchy(x_j, 0.25)\n",
    "        res *= dist.log_prob(y_star).exp().sum()\n",
    "    return res\n",
    "\n",
    "def f(x):\n",
    "    qx = q_x_NF().log_prob(x).exp()\n",
    "    pyx = p_y_given_x(x)\n",
    "    return qx*pyx           \n",
    "            "
   ]
  },
  {
   "cell_type": "code",
   "execution_count": null,
   "metadata": {},
   "outputs": [
    {
     "name": "stderr",
     "output_type": "stream",
     "text": [
      "100000it [10:46, 154.75it/s]\n"
     ]
    }
   ],
   "source": [
    "sampler = lampe.inference.MetropolisHastings(q_x_NF().sample(),f=f)\n",
    "with torch.no_grad():\n",
    "    xm_samples = [s for s in tqdm.tqdm(sampler(M+warm_up_steps,burn=warm_up_steps))]\n",
    "    xm_samples = torch.stack(xm_samples)"
   ]
  },
  {
   "cell_type": "code",
   "execution_count": null,
   "metadata": {},
   "outputs": [
    {
     "data": {
      "text/plain": [
       "tensor([ 0.1127, -0.5875])"
      ]
     },
     "execution_count": 30,
     "metadata": {},
     "output_type": "execute_result"
    }
   ],
   "source": [
    "x_samples_arr = x_samples.detach().numpy()\n",
    "x_samples_arr.shape\n",
    "class0 = x_samples\n",
    "class0.mean(0)"
   ]
  },
  {
   "cell_type": "code",
   "execution_count": null,
   "metadata": {},
   "outputs": [
    {
     "data": {
      "text/plain": [
       "tensor([0.0149])"
      ]
     },
     "execution_count": 42,
     "metadata": {},
     "output_type": "execute_result"
    }
   ],
   "source": [
    "class0 = q_NPE.flow(x_noisy).sample()\n",
    "class0.mean(0)"
   ]
  },
  {
   "cell_type": "code",
   "execution_count": null,
   "metadata": {},
   "outputs": [],
   "source": [
    "import sklearn\n",
    "from sklearn.discriminant_analysis import QuadraticDiscriminantAnalysis\n",
    "from sklearn.model_selection import train_test_split\n",
    "from sklearn.svm import SVC\n",
    "def compare(flow,x,file):\n",
    "    class1 = file\n",
    "    post = flow.flow(x).sample()\n",
    "    post = scale(post)\n",
    "    post_array = post.detach().numpy()\n",
    "    class0 = post_array\n",
    "    class0_labels = np.zeros(len(class0))\n",
    "    class1_labels = np.ones(len(class1))\n",
    "    data = np.concatenate((class0,class1), axis=0)\n",
    "    labels = np.concatenate((class0_labels, class1_labels), axis=0)\n",
    "    X_train, X_test, y_train, y_test = train_test_split(data,labels)\n",
    "\n",
    "    clf = QuadraticDiscriminantAnalysis()\n",
    "    clf.fit(X_train, y_train)\n",
    "\n",
    "    y_pred = clf.predict(X_test)\n",
    "    acc = sklearn.metrics.accuracy_score(y_test,y_pred)\n",
    "    return acc\n",
    "    "
   ]
  },
  {
   "cell_type": "code",
   "execution_count": null,
   "metadata": {},
   "outputs": [
    {
     "data": {
      "text/plain": [
       "0.9086545454545455"
      ]
     },
     "execution_count": 70,
     "metadata": {},
     "output_type": "execute_result"
    }
   ],
   "source": [
    "file = np.load(\"/home/tux/rnpe/robust_samples_paper.npy\", allow_pickle=True)\n",
    "compare(q_NPE,xm_samples,file)"
   ]
  },
  {
   "cell_type": "code",
   "execution_count": null,
   "metadata": {},
   "outputs": [
    {
     "data": {
      "text/plain": [
       "0.8333333333333334"
      ]
     },
     "execution_count": 46,
     "metadata": {},
     "output_type": "execute_result"
    }
   ],
   "source": [
    "\n",
    "#class0 = np.load(\"/home/tux/rnpe/mycode/xmMCMCLampe.npy\")\n",
    "#class0 = x_samples\n",
    "#class1 = np.load(\"/home/tux/rnpe/denoise_xm_paper.npy\",allow_pickle=True)\n",
    "#class0 = q_x_NF.forward().sample(class1.shape).detach().numpy()\n",
    "class0_labels = np.zeros(len(class0))\n",
    "class1_labels = np.ones(class1.shape[0])\n",
    "data = np.concatenate((class0,class1), axis=0)\n",
    "labels = np.concatenate((class0_labels, class1_labels), axis=0)\n",
    "X_train, X_test, y_train, y_test = train_test_split(data,labels)\n",
    "\n",
    "clf = QuadraticDiscriminantAnalysis()\n",
    "clf.fit(X_train, y_train)\n",
    "\n",
    "y_pred = clf.predict(X_test)\n",
    "acc = sklearn.metrics.accuracy_score(y_test,y_pred)\n",
    "acc"
   ]
  },
  {
   "cell_type": "code",
   "execution_count": null,
   "metadata": {},
   "outputs": [],
   "source": [
    "# Define the log-posterior distribution\n",
    "D = x.shape[1]\n",
    "def log_posterior(x, y):\n",
    "    z = torch.distributions.Bernoulli(1/2).sample(x.shape)\n",
    "    log_prob = 0\n",
    "    for j, x_j in enumerate(x):\n",
    "        z_j = z[j]\n",
    "        if not z_j:\n",
    "            dist = torch.distributions.Normal(x_j, 0.01)\n",
    "        else:\n",
    "            dist = torch.distributions.Cauchy(x_j, 0.25)\n",
    "        log_prob += dist.log_prob(y[j]).sum()\n",
    "    return log_prob\n",
    "\n",
    "# Define the proposal distribution\n",
    "def proposal(x):\n",
    "    return torch.distributions.Normal(x, 0.1).sample()\n",
    "\n",
    "# Set the initial state and number of iterations\n",
    "x_init = torch.zeros(D)\n",
    "n_iter = M+warm_up_steps\n",
    "\n",
    "# Run the Metropolis-Hastings algorithm\n",
    "x_samples = []\n",
    "x_current = x_init.clone()\n",
    "for i in range(n_iter):\n",
    "    # Propose a new state\n",
    "    x_proposal = proposal(x_current)\n",
    "    \n",
    "    # Compute the acceptance probability\n",
    "    log_prob_current = log_posterior(x_current, y_star)\n",
    "    log_prob_proposal = log_posterior(x_proposal, y_star)\n",
    "    log_prob_accept = log_prob_proposal - log_prob_current\n",
    "    \n",
    "    # Accept or reject the proposal\n",
    "    if log_prob_accept > torch.log(torch.rand(1)):\n",
    "        x_current = x_proposal\n",
    "    x_samples.append(x_current.clone())\n",
    "\n",
    "# Convert the samples to a tensor\n",
    "x_samples = x_samples[warm_up_steps:len(x_samples)]\n",
    "x_samples = torch.stack(x_samples)\n"
   ]
  },
  {
   "cell_type": "code",
   "execution_count": null,
   "metadata": {},
   "outputs": [
    {
     "data": {
      "text/plain": [
       "tensor([ 0.1127, -0.5875])"
      ]
     },
     "execution_count": 22,
     "metadata": {},
     "output_type": "execute_result"
    }
   ],
   "source": [
    "x_samples.mean(0)"
   ]
  },
  {
   "attachments": {},
   "cell_type": "markdown",
   "metadata": {},
   "source": [
    "Sample theta ~q(theta | xm), m = 1, ..., M"
   ]
  },
  {
   "cell_type": "code",
   "execution_count": null,
   "metadata": {},
   "outputs": [],
   "source": [
    "with torch.no_grad():\n",
    "    thetasm = q_NPE.sample(xm_samples)"
   ]
  },
  {
   "cell_type": "code",
   "execution_count": null,
   "metadata": {},
   "outputs": [
    {
     "name": "stderr",
     "output_type": "stream",
     "text": [
      "100%|██████████| 5000/5000 [04:14<00:00, 19.65pair/s]\n",
      "100%|██████████| 5000/5000 [04:05<00:00, 20.35pair/s]\n"
     ]
    },
    {
     "data": {
      "image/png": "[encoded data removed]",
      "text/plain": [
       "<Figure size 320x320 with 1 Axes>"
      ]
     },
     "metadata": {},
     "output_type": "display_data"
    },
    {
     "data": {
      "image/png": "[encoded data removed]",
      "text/plain": [
       "<Figure size 320x320 with 1 Axes>"
      ]
     },
     "metadata": {},
     "output_type": "display_data"
    }
   ],
   "source": [
    "from lampe.diagnostics import expected_coverage_mc, expected_coverage_ni\n",
    "from lampe.plots import nice_rc, coverage_plot\n",
    "npe_levels, npe_coverages = expected_coverage_mc(q_NPE.flow, dataset_star)\n",
    "nnpe_levels, nnpe_coverages = expected_coverage_mc(q_NPE_noisy.flow, dataset_star)\n",
    "\n",
    "fig = coverage_plot(npe_levels, npe_coverages, legend='NPE')\n",
    "fig = coverage_plot(nnpe_levels, nnpe_coverages, legend='NNPE')"
   ]
  },
  {
   "cell_type": "code",
   "execution_count": null,
   "metadata": {},
   "outputs": [],
   "source": [
    "xm_samples_ = xm_samples[0:5000]"
   ]
  },
  {
   "cell_type": "code",
   "execution_count": null,
   "metadata": {},
   "outputs": [],
   "source": [
    "def compute_log_prob(flow, thetas, x):\n",
    "    res = []\n",
    "    for i, xi in enumerate(x):\n",
    "        log_prob = flow.flow(xi).log_prob(thetas)\n",
    "        res.append(log_prob.detach().item())\n",
    "    return res"
   ]
  },
  {
   "cell_type": "code",
   "execution_count": null,
   "metadata": {},
   "outputs": [
    {
     "ename": "RuntimeError",
     "evalue": "torch.searchsorted(): boundaries tensor should be 1 dimension or the first N-1 dimensions of boundaries tensor and input value tensor must match, but we got boundaries tensor [100000, 1, 11] and input value tensor [1, 1, 1]",
     "output_type": "error",
     "traceback": [
      "\u001b[0;31m---------------------------------------------------------------------------\u001b[0m",
      "\u001b[0;31mRuntimeError\u001b[0m                              Traceback (most recent call last)",
      "Cell \u001b[0;32mIn[22], line 1\u001b[0m\n\u001b[0;32m----> 1\u001b[0m log_probs_RNPE \u001b[39m=\u001b[39m compute_log_prob(q_NPE, thetas_star, xm_samples)\n\u001b[1;32m      2\u001b[0m log_probs_NPE \u001b[39m=\u001b[39m compute_log_prob(q_NPE, thetas_star, x)\n\u001b[1;32m      3\u001b[0m log_probs_NNPE \u001b[39m=\u001b[39m compute_log_prob(q_NPE_noisy, thetas_star, x_noisy)\n",
      "Cell \u001b[0;32mIn[21], line 5\u001b[0m, in \u001b[0;36mcompute_log_prob\u001b[0;34m(flow, thetas, x)\u001b[0m\n\u001b[1;32m      3\u001b[0m \u001b[39mfor\u001b[39;00m i, theta \u001b[39min\u001b[39;00m \u001b[39menumerate\u001b[39m(thetas\u001b[39m.\u001b[39munsqueeze_(\u001b[39m1\u001b[39m)):\n\u001b[1;32m      4\u001b[0m     xi \u001b[39m=\u001b[39m x[i]\n\u001b[0;32m----> 5\u001b[0m     log_prob \u001b[39m=\u001b[39m flow\u001b[39m.\u001b[39;49mflow(x)\u001b[39m.\u001b[39;49mlog_prob(theta)\u001b[39m.\u001b[39msum()\n\u001b[1;32m      6\u001b[0m     res\u001b[39m.\u001b[39mappend(log_prob\u001b[39m.\u001b[39mdetach()\u001b[39m.\u001b[39mitem())\n\u001b[1;32m      7\u001b[0m \u001b[39mreturn\u001b[39;00m res\n",
      "File \u001b[0;32m~/miniconda3/envs/rnpe_env/lib/python3.9/site-packages/zuko/distributions.py:110\u001b[0m, in \u001b[0;36mNormalizingFlow.log_prob\u001b[0;34m(self, x)\u001b[0m\n\u001b[1;32m    109\u001b[0m \u001b[39mdef\u001b[39;00m \u001b[39mlog_prob\u001b[39m(\u001b[39mself\u001b[39m, x: Tensor) \u001b[39m-\u001b[39m\u001b[39m>\u001b[39m Tensor:\n\u001b[0;32m--> 110\u001b[0m     z, ladj \u001b[39m=\u001b[39m \u001b[39mself\u001b[39;49m\u001b[39m.\u001b[39;49mtransform\u001b[39m.\u001b[39;49mcall_and_ladj(x)\n\u001b[1;32m    111\u001b[0m     ladj \u001b[39m=\u001b[39m _sum_rightmost(ladj, \u001b[39mself\u001b[39m\u001b[39m.\u001b[39mreinterpreted)\n\u001b[1;32m    113\u001b[0m     \u001b[39mreturn\u001b[39;00m \u001b[39mself\u001b[39m\u001b[39m.\u001b[39mbase\u001b[39m.\u001b[39mlog_prob(z) \u001b[39m+\u001b[39m ladj\n",
      "File \u001b[0;32m~/miniconda3/envs/rnpe_env/lib/python3.9/site-packages/zuko/transforms.py:136\u001b[0m, in \u001b[0;36mComposedTransform.call_and_ladj\u001b[0;34m(self, x)\u001b[0m\n\u001b[1;32m    133\u001b[0m acc \u001b[39m=\u001b[39m \u001b[39m0\u001b[39m\n\u001b[1;32m    135\u001b[0m \u001b[39mfor\u001b[39;00m t \u001b[39min\u001b[39;00m \u001b[39mself\u001b[39m\u001b[39m.\u001b[39mtransforms:\n\u001b[0;32m--> 136\u001b[0m     x, ladj \u001b[39m=\u001b[39m t\u001b[39m.\u001b[39;49mcall_and_ladj(x)\n\u001b[1;32m    137\u001b[0m     acc \u001b[39m=\u001b[39m acc \u001b[39m+\u001b[39m _sum_rightmost(ladj, event_dim \u001b[39m-\u001b[39m t\u001b[39m.\u001b[39mdomain\u001b[39m.\u001b[39mevent_dim)\n\u001b[1;32m    138\u001b[0m     event_dim \u001b[39m+\u001b[39m\u001b[39m=\u001b[39m t\u001b[39m.\u001b[39mcodomain\u001b[39m.\u001b[39mevent_dim \u001b[39m-\u001b[39m t\u001b[39m.\u001b[39mdomain\u001b[39m.\u001b[39mevent_dim\n",
      "File \u001b[0;32m~/miniconda3/envs/rnpe_env/lib/python3.9/site-packages/zuko/transforms.py:725\u001b[0m, in \u001b[0;36mAutoregressiveTransform.call_and_ladj\u001b[0;34m(self, x)\u001b[0m\n\u001b[1;32m    724\u001b[0m \u001b[39mdef\u001b[39;00m \u001b[39mcall_and_ladj\u001b[39m(\u001b[39mself\u001b[39m, x: Tensor) \u001b[39m-\u001b[39m\u001b[39m>\u001b[39m Tuple[Tensor, Tensor]:\n\u001b[0;32m--> 725\u001b[0m     y, ladj \u001b[39m=\u001b[39m \u001b[39mself\u001b[39;49m\u001b[39m.\u001b[39;49mmeta(x)\u001b[39m.\u001b[39;49mcall_and_ladj(x)\n\u001b[1;32m    726\u001b[0m     \u001b[39mreturn\u001b[39;00m y, ladj\u001b[39m.\u001b[39msum(dim\u001b[39m=\u001b[39m\u001b[39m-\u001b[39m\u001b[39m1\u001b[39m)\n",
      "File \u001b[0;32m~/miniconda3/envs/rnpe_env/lib/python3.9/site-packages/zuko/transforms.py:430\u001b[0m, in \u001b[0;36mMonotonicRQSTransform.call_and_ladj\u001b[0;34m(self, x)\u001b[0m\n\u001b[1;32m    429\u001b[0m \u001b[39mdef\u001b[39;00m \u001b[39mcall_and_ladj\u001b[39m(\u001b[39mself\u001b[39m, x: Tensor) \u001b[39m-\u001b[39m\u001b[39m>\u001b[39m Tuple[Tensor, Tensor]:\n\u001b[0;32m--> 430\u001b[0m     k \u001b[39m=\u001b[39m \u001b[39mself\u001b[39;49m\u001b[39m.\u001b[39;49msearchsorted(\u001b[39mself\u001b[39;49m\u001b[39m.\u001b[39;49mhorizontal, x) \u001b[39m-\u001b[39m \u001b[39m1\u001b[39m\n\u001b[1;32m    431\u001b[0m     mask, x0, x1, y0, y1, d0, d1, s \u001b[39m=\u001b[39m \u001b[39mself\u001b[39m\u001b[39m.\u001b[39mbin(k)\n\u001b[1;32m    433\u001b[0m     z \u001b[39m=\u001b[39m mask \u001b[39m*\u001b[39m (x \u001b[39m-\u001b[39m x0) \u001b[39m/\u001b[39m (x1 \u001b[39m-\u001b[39m x0)\n",
      "File \u001b[0;32m~/miniconda3/envs/rnpe_env/lib/python3.9/site-packages/zuko/transforms.py:395\u001b[0m, in \u001b[0;36mMonotonicRQSTransform.searchsorted\u001b[0;34m(seq, value)\u001b[0m\n\u001b[1;32m    393\u001b[0m \u001b[39m@staticmethod\u001b[39m\n\u001b[1;32m    394\u001b[0m \u001b[39mdef\u001b[39;00m \u001b[39msearchsorted\u001b[39m(seq: Tensor, value: Tensor) \u001b[39m-\u001b[39m\u001b[39m>\u001b[39m LongTensor:\n\u001b[0;32m--> 395\u001b[0m     \u001b[39mreturn\u001b[39;00m torch\u001b[39m.\u001b[39;49msearchsorted(seq, value[\u001b[39m.\u001b[39;49m\u001b[39m.\u001b[39;49m\u001b[39m.\u001b[39;49m, \u001b[39mNone\u001b[39;49;00m])\u001b[39m.\u001b[39msqueeze(dim\u001b[39m=\u001b[39m\u001b[39m-\u001b[39m\u001b[39m1\u001b[39m)\n",
      "\u001b[0;31mRuntimeError\u001b[0m: torch.searchsorted(): boundaries tensor should be 1 dimension or the first N-1 dimensions of boundaries tensor and input value tensor must match, but we got boundaries tensor [100000, 1, 11] and input value tensor [1, 1, 1]"
     ]
    }
   ],
   "source": [
    "log_probs_RNPE = compute_log_prob(q_NPE, thetas_star, xm_samples)\n",
    "log_probs_NPE = compute_log_prob(q_NPE, thetas_star, x)\n",
    "log_probs_NNPE = compute_log_prob(q_NPE_noisy, thetas_star, x_noisy)"
   ]
  },
  {
   "cell_type": "code",
   "execution_count": null,
   "metadata": {},
   "outputs": [
    {
     "ename": "AttributeError",
     "evalue": "'Axes' object has no attribute 'set_ylabels'",
     "output_type": "error",
     "traceback": [
      "\u001b[0;31m---------------------------------------------------------------------------\u001b[0m",
      "\u001b[0;31mAttributeError\u001b[0m                            Traceback (most recent call last)",
      "Cell \u001b[0;32mIn[208], line 4\u001b[0m\n\u001b[1;32m      2\u001b[0m ax\u001b[39m.\u001b[39mboxplot([log_probs_RNPE, log_probs_NPE, log_probs_NNPE])\n\u001b[1;32m      3\u001b[0m ax\u001b[39m.\u001b[39mset_xticklabels([\u001b[39m\"\u001b[39m\u001b[39mlog-probs RNPE\u001b[39m\u001b[39m\"\u001b[39m,\u001b[39m\"\u001b[39m\u001b[39mlog-probs NPE\u001b[39m\u001b[39m\"\u001b[39m, \u001b[39m\"\u001b[39m\u001b[39mlog-probs NNPE\u001b[39m\u001b[39m\"\u001b[39m])\n\u001b[0;32m----> 4\u001b[0m ax\u001b[39m.\u001b[39;49mset_ylabels(\u001b[39m\"\u001b[39m\u001b[39mLog-probs\u001b[39m\u001b[39m\"\u001b[39m)\n",
      "\u001b[0;31mAttributeError\u001b[0m: 'Axes' object has no attribute 'set_ylabels'"
     ]
    },
    {
     "data": {
      "image/png": "[encoded data removed]",
      "text/plain": [
       "<Figure size 640x480 with 1 Axes>"
      ]
     },
     "metadata": {},
     "output_type": "display_data"
    }
   ],
   "source": [
    "fig, ax = plt.subplots()\n",
    "ax.boxplot([log_probs_RNPE, log_probs_NPE, log_probs_NNPE])\n"
   ]
  },
  {
   "attachments": {},
   "cell_type": "markdown",
   "metadata": {},
   "source": [
    "Il faut aussi faire les 2 autres simu cad NPE (comme avant) et en mettant directement le modele d'erreur dans le simu"
   ]
  }
 ],
 "metadata": {
  "kernelspec": {
   "display_name": "rnpe_env",
   "language": "python",
   "name": "python3"
  },
  "language_info": {
   "codemirror_mode": {
    "name": "ipython",
    "version": 3
   },
   "file_extension": ".py",
   "mimetype": "text/x-python",
   "name": "python",
   "nbconvert_exporter": "python",
   "pygments_lexer": "ipython3",
   "version": "3.9.16"
  },
  "orig_nbformat": 4
 },
 "nbformat": 4,
 "nbformat_minor": 2
}
