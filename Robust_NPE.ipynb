{
 "cells": [
  {
   "cell_type": "code",
   "execution_count": 3,
   "metadata": {},
   "outputs": [],
   "source": [
    "import torch\n",
    "import numpy as np\n",
    "from torch.utils.data import TensorDataset, DataLoader\n",
    "import zuko\n",
    "import lampe.inference, lampe.utils\n",
    "from itertools import islice\n",
    "import flowjax\n",
    "from flowjax.flows import BlockNeuralAutoregressiveFlow, CouplingFlow\n",
    "from flowjax.train_utils import train_flow\n",
    "import jax.random as random\n",
    "import flowjax.distributions, flowjax.flows\n",
    "import jax\n",
    "from numpyro.distributions import (\n",
    "    Distribution,\n",
    "    Normal,\n",
    "    Bernoulli,\n",
    "    Cauchy,\n",
    "    constraints,\n",
    ")\n",
    "from flowjax.distributions import Distribution as FlowJaxDist\n",
    "import matplotlib.pyplot as plt"
   ]
  },
  {
   "cell_type": "code",
   "execution_count": 4,
   "metadata": {},
   "outputs": [],
   "source": [
    "N = 50000\n",
    "prior_over_mu = zuko.distributions.Normal(torch.Tensor([0.0]), torch.Tensor([25.0]))"
   ]
  },
  {
   "attachments": {},
   "cell_type": "markdown",
   "metadata": {},
   "source": [
    "Utils"
   ]
  },
  {
   "cell_type": "code",
   "execution_count": 5,
   "metadata": {},
   "outputs": [],
   "source": [
    "def true_data_generating_process():\n",
    "    \"\"\"Computes x = (mean,var) of a sample of size 100 drawn from N(mu, 2) and mu drawn from a prior\n",
    "\n",
    "    Returns:\n",
    "        tuple: x, mu\n",
    "    \"\"\"\n",
    "    mu = torch.distributions.Normal(torch.Tensor([0]), torch.Tensor([1])).sample((1, )).detach().item()\n",
    "    dist = torch.distributions.Normal(mu, 2.0)\n",
    "    sample = dist.sample((100, ))\n",
    "    mean, var = torch.mean(sample).item(), torch.var(sample).item()\n",
    "    x = mean, var\n",
    "    return x, mu"
   ]
  },
  {
   "attachments": {},
   "cell_type": "markdown",
   "metadata": {},
   "source": [
    "Simulation (line 1 & 2 of Algorithm 1)"
   ]
  },
  {
   "cell_type": "code",
   "execution_count": 6,
   "metadata": {},
   "outputs": [],
   "source": [
    "def simulator(thetas: torch.Tensor):\n",
    "    \"\"\"Simulator, maps theta -> x = (mean, var)\n",
    "\n",
    "    Args:\n",
    "        thetas (torch.Tensor): Parameters\n",
    "\n",
    "    Returns:\n",
    "        torch.Tensor: Tensor of size (theta.size, 2) of (mean, var)\n",
    "    \"\"\"\n",
    "    N = thetas.size()[0]\n",
    "    x = torch.empty((N, 2))\n",
    "    for i, theta in enumerate(thetas):\n",
    "        dist = torch.distributions.Normal(theta, 1.0)\n",
    "        samples = dist.sample((100,))\n",
    "        means, var = torch.mean(samples), torch.var(samples)\n",
    "        x[i][0], x[i][1] = means, var\n",
    "    return x\n",
    "\n",
    "def scale(quantity):\n",
    "    '''\n",
    "    Standardizes the quantity\n",
    "    '''\n",
    "    means, std = quantity.mean(axis=0), quantity.std(axis=0)\n",
    "    quantity = quantity - means\n",
    "    quantity = quantity/std\n",
    "    return quantity\n",
    "\n",
    "\n",
    "#Raw simulations\n",
    "theta_raw = prior_over_mu.sample((N, ))\n",
    "x_raw = simulator(theta_raw)\n",
    "#Standardized versions\n",
    "theta = scale(theta_raw)\n",
    "x = scale(x_raw)\n",
    "dataset = lampe.data.JointDataset(theta, x)\n",
    "\n",
    "\n",
    "#True observations \n",
    "y_raw = torch.tensor([ true_data_generating_process()[0] for j in range(N//10) ])\n",
    "y = scale(y_raw)\n",
    "\n",
    "theta_test = scale(prior_over_mu.sample((N//10, )))\n",
    "x_test = scale(simulator(theta_test))\n",
    "dataset_test = lampe.data.JointDataset(theta_test, x_test)\n",
    "\n",
    "'''Creates a 'true' dataset (theta*, x*) ~ p(theta, x)'''\n",
    "y_star_list = []\n",
    "theta_star_list = []\n",
    "for i in range(N//10):\n",
    "    y_star, theta_star = true_data_generating_process()\n",
    "    y_star_list.append(y_star)\n",
    "    theta_star_list.append(theta_star)\n",
    "y_star_raw = torch.tensor(y_star_list)\n",
    "theta_star_raw = torch.tensor(theta_star_list)\n",
    "theta_star = scale(theta_star_raw)\n",
    "y_star = scale(y_star_raw)\n",
    "dataset_star = lampe.data.JointDataset(theta_star.unsqueeze(1), y_star)"
   ]
  },
  {
   "attachments": {},
   "cell_type": "markdown",
   "metadata": {},
   "source": [
    "Train NPE q(theta|x) on the simulated dataset {(thetai, xi)}, i=1, ... N\n",
    "Uses a neural spline flow defining the transform on the interval [-5, 5] using 10  spline segments and 5 coupling layers. The base of the flow is a standard Gaussian distribution. "
   ]
  },
  {
   "cell_type": "code",
   "execution_count": 7,
   "metadata": {},
   "outputs": [],
   "source": [
    "def build_nsf(features, context):\n",
    "    \"\"\"Callable to isntanciate the NPE with NSFs\"\"\"\n",
    "    return zuko.flows.NSF(features, context, bins=10, transforms=5)\n",
    "q_NPE = lampe.inference.NPE(theta_dim = 1, x_dim=2, build=build_nsf)"
   ]
  },
  {
   "cell_type": "code",
   "execution_count": 8,
   "metadata": {},
   "outputs": [
    {
     "name": "stdout",
     "output_type": "stream",
     "text": [
      " Epoch 0 \n",
      " Epoch 1 \n",
      " Epoch 2 \n",
      " Epoch 3 \n",
      " Epoch 4 \n",
      " Epoch 5 \n",
      "Early stop at epoch 5\n"
     ]
    },
    {
     "data": {
      "text/plain": [
       "NPE(\n",
       "  (flow): NSF(\n",
       "    (transforms): ModuleList(\n",
       "      (0-4): 5 x MaskedAutoregressiveTransform(\n",
       "        (base): MonotonicRQSTransform(bins=10)\n",
       "        (order): [0]\n",
       "        (hyper): MaskedMLP(\n",
       "          (0): MaskedLinear(in_features=3, out_features=64, bias=True)\n",
       "          (1): ReLU()\n",
       "          (2): MaskedLinear(in_features=64, out_features=64, bias=True)\n",
       "          (3): ReLU()\n",
       "          (4): MaskedLinear(in_features=64, out_features=29, bias=True)\n",
       "        )\n",
       "      )\n",
       "    )\n",
       "    (base): DiagNormal(loc: tensor([0.]), scale: tensor([1.]))\n",
       "  )\n",
       ")"
      ]
     },
     "execution_count": 8,
     "metadata": {},
     "output_type": "execute_result"
    }
   ],
   "source": [
    "#Param for training\n",
    "max_epochs = 50\n",
    "learning_rate_NSF = 5*10e-4\n",
    "batch_size = 256\n",
    "#Optim\n",
    "optimizer = torch.optim.Adam(q_NPE.parameters(), learning_rate_NSF)\n",
    "step = lampe.utils.GDStep(optimizer)\n",
    "#Creates the loader\n",
    "loader = lampe.data.DataLoader(dataset, batch_size, shuffle=True)\n",
    "loss = lampe.inference.NPELoss(q_NPE)\n",
    "\n",
    "#For early stopping \n",
    "with torch.no_grad():\n",
    "    min_loss = loss(theta_test, x_test)\n",
    "time_to_min=1\n",
    "min_loss_list = [min_loss]\n",
    "patience = 5 \n",
    "\n",
    "q_NPE.train()\n",
    "\n",
    "for epoch in range(max_epochs):\n",
    "    loss_epoch = 0\n",
    "    for theta, x_batch in loader:\n",
    "        losses = loss(theta, x_batch)\n",
    "        optimizer.zero_grad()\n",
    "        losses.backward()\n",
    "        optimizer.step()\n",
    "        loss_epoch += losses\n",
    "    print(f\" Epoch {epoch} \")\n",
    "    \n",
    "    with torch.no_grad():\n",
    "        loss_test = loss(theta_test, x_test)\n",
    "        min_loss_list.append(loss_test)\n",
    "        \n",
    "        if len(min_loss_list) - np.argmin(min_loss_list) > patience:\n",
    "            print(f\"Early stop at epoch {epoch}\")\n",
    "            break\n",
    "        \n",
    "q_NPE.eval()"
   ]
  },
  {
   "attachments": {},
   "cell_type": "markdown",
   "metadata": {},
   "source": [
    "### Sampling theta here as in the 'classic' NPE framework (i.e. assuming no error)"
   ]
  },
  {
   "cell_type": "code",
   "execution_count": null,
   "metadata": {},
   "outputs": [],
   "source": [
    "thetas_NPE = q_NPE.sample(x)"
   ]
  },
  {
   "attachments": {},
   "cell_type": "markdown",
   "metadata": {},
   "source": [
    "Train q(x) on {xi} i=1, ... N (so first gen the x)\n",
    "For q(x) uses of a block neural autoregressive flow, single hidden layer of size 8D, x in R^d"
   ]
  },
  {
   "cell_type": "code",
   "execution_count": 11,
   "metadata": {},
   "outputs": [
    {
     "name": "stdout",
     "output_type": "stream",
     "text": [
      "Epoch = 0\n",
      "Epoch = 1\n",
      "Epoch = 2\n",
      "Epoch = 3\n",
      "Epoch = 4\n",
      "Epoch = 5\n",
      "Epoch = 6\n",
      "Epoch = 7\n",
      "Epoch = 8\n",
      "Early stop at epoch 8\n"
     ]
    }
   ],
   "source": [
    "\n",
    "batch_size = 256\n",
    "max_epochs = 50\n",
    "learning_rate_BNAF = 1e-2\n",
    "epsilon = 1e-5\n",
    "q_x_NF = zuko.flows.NAF(features = 2, context=0, hidden_features=[8]*2,transforms=1)\n",
    "loader_x = torch.utils.data.DataLoader(x, batch_size=batch_size)\n",
    "\n",
    "optimizer = torch.optim.Adam(q_x_NF.parameters(), 1e-2)\n",
    "\n",
    "with torch.no_grad():\n",
    "    min_loss = -q_x_NF().log_prob(x_test).mean()\n",
    "min_loss_list = [min_loss]\n",
    "for epoch in range(max_epochs):\n",
    "    loss_epoch = 0\n",
    "    print(f\"Epoch = {epoch}\")\n",
    "    for x_batch in loader_x:\n",
    "        loss =-q_x_NF().log_prob(x_batch).mean()\n",
    "        optimizer.zero_grad()\n",
    "        loss.backward()\n",
    "        optimizer.step()\n",
    "        \n",
    "    with torch.no_grad():\n",
    "        loss_test = -q_x_NF().log_prob(x_test).mean()\n",
    "        min_loss_list.append(loss_test)\n",
    "        if len(min_loss_list) - np.argmin(min_loss_list) > patience:\n",
    "            print(f\"Early stop at epoch {epoch}\")\n",
    "            break\n"
   ]
  },
  {
   "attachments": {},
   "cell_type": "markdown",
   "metadata": {},
   "source": [
    "Sample x~m from p(x | y0) % p(y0 \\ x) q(x), m = 1, ... M using MCMC"
   ]
  },
  {
   "attachments": {},
   "cell_type": "markdown",
   "metadata": {},
   "source": [
    "Spike and slab"
   ]
  },
  {
   "cell_type": "code",
   "execution_count": 14,
   "metadata": {},
   "outputs": [],
   "source": [
    "M = 100000\n",
    "warm_up_steps = 20000\n",
    "traj_length = 1\n",
    "target_acceptance_prob = 0.95"
   ]
  },
  {
   "cell_type": "code",
   "execution_count": 15,
   "metadata": {},
   "outputs": [],
   "source": [
    "def spike_slab(y):\n",
    "    rho = 1/2\n",
    "    sigma = 0.01\n",
    "    tau = 0.25\n",
    "    x = q_x_NF().sample()\n",
    "    z = torch.distributions.Bernoulli(rho).sample(y.shape)\n",
    "    normal = torch.distributions.Normal(x,sigma)\n",
    "    cauchy = torch.distributions.Cauchy(x, tau)\n",
    "    mask = torch.zeros_like(z)\n",
    "    mask[z==1] = 1\n",
    "    mask[z==0] = 0\n",
    "    sampled_values = torch.where(mask==1, cauchy.sample(z.shape), normal.sample(z.shape))\n",
    "    return sampled_values.sum()\n",
    "    "
   ]
  },
  {
   "cell_type": "code",
   "execution_count": 17,
   "metadata": {},
   "outputs": [],
   "source": [
    "\n",
    "class MHQTransition(lampe.inference.MetropolisHastings):\n",
    "    def q(self, x:torch.Tensor):\n",
    "        return q_x_NF()"
   ]
  },
  {
   "cell_type": "code",
   "execution_count": 24,
   "metadata": {},
   "outputs": [],
   "source": [
    "def p_y_given_x(x):\n",
    "    z = torch.distributions.Bernoulli(1/2).sample(x.shape)\n",
    "    res = 1\n",
    "    for j,x_j in enumerate(x):\n",
    "        zj=z[j]\n",
    "        if not zj:\n",
    "            dist=  torch.distributions.Normal(x_j, 0.01)\n",
    "        else:\n",
    "            dist = torch.distributions.Cauchy(x_j, 0.25)\n",
    "        res *= dist.log_prob(y).exp().sum()\n",
    "    return res\n",
    "            \n",
    "            "
   ]
  },
  {
   "cell_type": "code",
   "execution_count": null,
   "metadata": {},
   "outputs": [],
   "source": [
    "import tqdm"
   ]
  },
  {
   "cell_type": "code",
   "execution_count": 44,
   "metadata": {},
   "outputs": [
    {
     "name": "stderr",
     "output_type": "stream",
     "text": [
      "53548it [22:23, 39.85it/s]\n"
     ]
    },
    {
     "ename": "KeyboardInterrupt",
     "evalue": "",
     "output_type": "error",
     "traceback": [
      "\u001b[0;31m---------------------------------------------------------------------------\u001b[0m",
      "\u001b[0;31mKeyboardInterrupt\u001b[0m                         Traceback (most recent call last)",
      "Cell \u001b[0;32mIn[44], line 3\u001b[0m\n\u001b[1;32m      1\u001b[0m sampler \u001b[39m=\u001b[39m MHQTransition(q_x_NF()\u001b[39m.\u001b[39msample(),f\u001b[39m=\u001b[39mp_y_given_x)\n\u001b[1;32m      2\u001b[0m \u001b[39mwith\u001b[39;00m torch\u001b[39m.\u001b[39mno_grad():\n\u001b[0;32m----> 3\u001b[0m     xm_samples_ \u001b[39m=\u001b[39m [s \u001b[39mfor\u001b[39;00m s \u001b[39min\u001b[39;00m tqdm\u001b[39m.\u001b[39mtqdm(sampler(M\u001b[39m+\u001b[39mwarm_up_steps,burn\u001b[39m=\u001b[39mwarm_up_steps))]\n\u001b[1;32m      4\u001b[0m     xm_samples_ \u001b[39m=\u001b[39m torch\u001b[39m.\u001b[39mstack(xm_samples_)\n",
      "Cell \u001b[0;32mIn[44], line 3\u001b[0m, in \u001b[0;36m<listcomp>\u001b[0;34m(.0)\u001b[0m\n\u001b[1;32m      1\u001b[0m sampler \u001b[39m=\u001b[39m MHQTransition(q_x_NF()\u001b[39m.\u001b[39msample(),f\u001b[39m=\u001b[39mp_y_given_x)\n\u001b[1;32m      2\u001b[0m \u001b[39mwith\u001b[39;00m torch\u001b[39m.\u001b[39mno_grad():\n\u001b[0;32m----> 3\u001b[0m     xm_samples_ \u001b[39m=\u001b[39m [s \u001b[39mfor\u001b[39;00m s \u001b[39min\u001b[39;00m tqdm\u001b[39m.\u001b[39mtqdm(sampler(M\u001b[39m+\u001b[39mwarm_up_steps,burn\u001b[39m=\u001b[39mwarm_up_steps))]\n\u001b[1;32m      4\u001b[0m     xm_samples_ \u001b[39m=\u001b[39m torch\u001b[39m.\u001b[39mstack(xm_samples_)\n",
      "File \u001b[0;32m~/miniconda3/envs/rnpe_env/lib/python3.9/site-packages/tqdm/std.py:1178\u001b[0m, in \u001b[0;36mtqdm.__iter__\u001b[0;34m(self)\u001b[0m\n\u001b[1;32m   1175\u001b[0m time \u001b[39m=\u001b[39m \u001b[39mself\u001b[39m\u001b[39m.\u001b[39m_time\n\u001b[1;32m   1177\u001b[0m \u001b[39mtry\u001b[39;00m:\n\u001b[0;32m-> 1178\u001b[0m     \u001b[39mfor\u001b[39;00m obj \u001b[39min\u001b[39;00m iterable:\n\u001b[1;32m   1179\u001b[0m         \u001b[39myield\u001b[39;00m obj\n\u001b[1;32m   1180\u001b[0m         \u001b[39m# Update and possibly print the progressbar.\u001b[39;00m\n\u001b[1;32m   1181\u001b[0m         \u001b[39m# Note: does not call self.update(1) for speed optimisation.\u001b[39;00m\n",
      "File \u001b[0;32m~/miniconda3/envs/rnpe_env/lib/python3.9/site-packages/lampe/inference.py:764\u001b[0m, in \u001b[0;36mMetropolisHastings.__iter__\u001b[0;34m(self)\u001b[0m\n\u001b[1;32m    760\u001b[0m log_f_x \u001b[39m=\u001b[39m \u001b[39mself\u001b[39m\u001b[39m.\u001b[39mlog_f(x)\n\u001b[1;32m    762\u001b[0m \u001b[39mwhile\u001b[39;00m \u001b[39mTrue\u001b[39;00m:\n\u001b[1;32m    763\u001b[0m     \u001b[39m# y ~ q(y | x)\u001b[39;00m\n\u001b[0;32m--> 764\u001b[0m     y \u001b[39m=\u001b[39m \u001b[39mself\u001b[39;49m\u001b[39m.\u001b[39;49mq(x)\u001b[39m.\u001b[39;49msample()\n\u001b[1;32m    766\u001b[0m     \u001b[39m# log f(y)\u001b[39;00m\n\u001b[1;32m    767\u001b[0m     log_f_y \u001b[39m=\u001b[39m \u001b[39mself\u001b[39m\u001b[39m.\u001b[39mlog_f(y)\n",
      "File \u001b[0;32m~/miniconda3/envs/rnpe_env/lib/python3.9/site-packages/torch/distributions/distribution.py:158\u001b[0m, in \u001b[0;36mDistribution.sample\u001b[0;34m(self, sample_shape)\u001b[0m\n\u001b[1;32m    153\u001b[0m \u001b[39m\"\"\"\u001b[39;00m\n\u001b[1;32m    154\u001b[0m \u001b[39mGenerates a sample_shape shaped sample or sample_shape shaped batch of\u001b[39;00m\n\u001b[1;32m    155\u001b[0m \u001b[39msamples if the distribution parameters are batched.\u001b[39;00m\n\u001b[1;32m    156\u001b[0m \u001b[39m\"\"\"\u001b[39;00m\n\u001b[1;32m    157\u001b[0m \u001b[39mwith\u001b[39;00m torch\u001b[39m.\u001b[39mno_grad():\n\u001b[0;32m--> 158\u001b[0m     \u001b[39mreturn\u001b[39;00m \u001b[39mself\u001b[39;49m\u001b[39m.\u001b[39;49mrsample(sample_shape)\n",
      "File \u001b[0;32m~/miniconda3/envs/rnpe_env/lib/python3.9/site-packages/zuko/distributions.py:121\u001b[0m, in \u001b[0;36mNormalizingFlow.rsample\u001b[0;34m(self, shape)\u001b[0m\n\u001b[1;32m    118\u001b[0m \u001b[39melse\u001b[39;00m:\n\u001b[1;32m    119\u001b[0m     z \u001b[39m=\u001b[39m \u001b[39mself\u001b[39m\u001b[39m.\u001b[39mbase\u001b[39m.\u001b[39msample(shape)\n\u001b[0;32m--> 121\u001b[0m \u001b[39mreturn\u001b[39;00m \u001b[39mself\u001b[39;49m\u001b[39m.\u001b[39;49mtransform\u001b[39m.\u001b[39;49minv(z)\n",
      "File \u001b[0;32m~/miniconda3/envs/rnpe_env/lib/python3.9/site-packages/torch/distributions/transforms.py:152\u001b[0m, in \u001b[0;36mTransform.__call__\u001b[0;34m(self, x)\u001b[0m\n\u001b[1;32m    148\u001b[0m \u001b[39m\"\"\"\u001b[39;00m\n\u001b[1;32m    149\u001b[0m \u001b[39mComputes the transform `x => y`.\u001b[39;00m\n\u001b[1;32m    150\u001b[0m \u001b[39m\"\"\"\u001b[39;00m\n\u001b[1;32m    151\u001b[0m \u001b[39mif\u001b[39;00m \u001b[39mself\u001b[39m\u001b[39m.\u001b[39m_cache_size \u001b[39m==\u001b[39m \u001b[39m0\u001b[39m:\n\u001b[0;32m--> 152\u001b[0m     \u001b[39mreturn\u001b[39;00m \u001b[39mself\u001b[39;49m\u001b[39m.\u001b[39;49m_call(x)\n\u001b[1;32m    153\u001b[0m x_old, y_old \u001b[39m=\u001b[39m \u001b[39mself\u001b[39m\u001b[39m.\u001b[39m_cached_x_y\n\u001b[1;32m    154\u001b[0m \u001b[39mif\u001b[39;00m x \u001b[39mis\u001b[39;00m x_old:\n",
      "File \u001b[0;32m~/miniconda3/envs/rnpe_env/lib/python3.9/site-packages/zuko/transforms.py:108\u001b[0m, in \u001b[0;36mComposedTransform._call\u001b[0;34m(self, x)\u001b[0m\n\u001b[1;32m    106\u001b[0m \u001b[39mdef\u001b[39;00m \u001b[39m_call\u001b[39m(\u001b[39mself\u001b[39m, x: Tensor) \u001b[39m-\u001b[39m\u001b[39m>\u001b[39m Tensor:\n\u001b[1;32m    107\u001b[0m     \u001b[39mfor\u001b[39;00m t \u001b[39min\u001b[39;00m \u001b[39mself\u001b[39m\u001b[39m.\u001b[39mtransforms:\n\u001b[0;32m--> 108\u001b[0m         x \u001b[39m=\u001b[39m t(x)\n\u001b[1;32m    109\u001b[0m     \u001b[39mreturn\u001b[39;00m x\n",
      "File \u001b[0;32m~/miniconda3/envs/rnpe_env/lib/python3.9/site-packages/torch/distributions/transforms.py:257\u001b[0m, in \u001b[0;36m_InverseTransform.__call__\u001b[0;34m(self, x)\u001b[0m\n\u001b[1;32m    255\u001b[0m \u001b[39mdef\u001b[39;00m \u001b[39m__call__\u001b[39m(\u001b[39mself\u001b[39m, x):\n\u001b[1;32m    256\u001b[0m     \u001b[39massert\u001b[39;00m \u001b[39mself\u001b[39m\u001b[39m.\u001b[39m_inv \u001b[39mis\u001b[39;00m \u001b[39mnot\u001b[39;00m \u001b[39mNone\u001b[39;00m\n\u001b[0;32m--> 257\u001b[0m     \u001b[39mreturn\u001b[39;00m \u001b[39mself\u001b[39;49m\u001b[39m.\u001b[39;49m_inv\u001b[39m.\u001b[39;49m_inv_call(x)\n",
      "File \u001b[0;32m~/miniconda3/envs/rnpe_env/lib/python3.9/site-packages/torch/distributions/transforms.py:165\u001b[0m, in \u001b[0;36mTransform._inv_call\u001b[0;34m(self, y)\u001b[0m\n\u001b[1;32m    161\u001b[0m \u001b[39m\"\"\"\u001b[39;00m\n\u001b[1;32m    162\u001b[0m \u001b[39mInverts the transform `y => x`.\u001b[39;00m\n\u001b[1;32m    163\u001b[0m \u001b[39m\"\"\"\u001b[39;00m\n\u001b[1;32m    164\u001b[0m \u001b[39mif\u001b[39;00m \u001b[39mself\u001b[39m\u001b[39m.\u001b[39m_cache_size \u001b[39m==\u001b[39m \u001b[39m0\u001b[39m:\n\u001b[0;32m--> 165\u001b[0m     \u001b[39mreturn\u001b[39;00m \u001b[39mself\u001b[39;49m\u001b[39m.\u001b[39;49m_inverse(y)\n\u001b[1;32m    166\u001b[0m x_old, y_old \u001b[39m=\u001b[39m \u001b[39mself\u001b[39m\u001b[39m.\u001b[39m_cached_x_y\n\u001b[1;32m    167\u001b[0m \u001b[39mif\u001b[39;00m y \u001b[39mis\u001b[39;00m y_old:\n",
      "File \u001b[0;32m~/miniconda3/envs/rnpe_env/lib/python3.9/site-packages/zuko/transforms.py:717\u001b[0m, in \u001b[0;36mAutoregressiveTransform._inverse\u001b[0;34m(self, y)\u001b[0m\n\u001b[1;32m    715\u001b[0m x \u001b[39m=\u001b[39m torch\u001b[39m.\u001b[39mzeros_like(y)\n\u001b[1;32m    716\u001b[0m \u001b[39mfor\u001b[39;00m _ \u001b[39min\u001b[39;00m \u001b[39mrange\u001b[39m(\u001b[39mself\u001b[39m\u001b[39m.\u001b[39mpasses):\n\u001b[0;32m--> 717\u001b[0m     x \u001b[39m=\u001b[39m \u001b[39mself\u001b[39;49m\u001b[39m.\u001b[39;49mmeta(x)\u001b[39m.\u001b[39;49minv(y)\n\u001b[1;32m    719\u001b[0m \u001b[39mreturn\u001b[39;00m x\n",
      "File \u001b[0;32m~/miniconda3/envs/rnpe_env/lib/python3.9/site-packages/torch/distributions/transforms.py:257\u001b[0m, in \u001b[0;36m_InverseTransform.__call__\u001b[0;34m(self, x)\u001b[0m\n\u001b[1;32m    255\u001b[0m \u001b[39mdef\u001b[39;00m \u001b[39m__call__\u001b[39m(\u001b[39mself\u001b[39m, x):\n\u001b[1;32m    256\u001b[0m     \u001b[39massert\u001b[39;00m \u001b[39mself\u001b[39m\u001b[39m.\u001b[39m_inv \u001b[39mis\u001b[39;00m \u001b[39mnot\u001b[39;00m \u001b[39mNone\u001b[39;00m\n\u001b[0;32m--> 257\u001b[0m     \u001b[39mreturn\u001b[39;00m \u001b[39mself\u001b[39;49m\u001b[39m.\u001b[39;49m_inv\u001b[39m.\u001b[39;49m_inv_call(x)\n",
      "File \u001b[0;32m~/miniconda3/envs/rnpe_env/lib/python3.9/site-packages/torch/distributions/transforms.py:165\u001b[0m, in \u001b[0;36mTransform._inv_call\u001b[0;34m(self, y)\u001b[0m\n\u001b[1;32m    161\u001b[0m \u001b[39m\"\"\"\u001b[39;00m\n\u001b[1;32m    162\u001b[0m \u001b[39mInverts the transform `y => x`.\u001b[39;00m\n\u001b[1;32m    163\u001b[0m \u001b[39m\"\"\"\u001b[39;00m\n\u001b[1;32m    164\u001b[0m \u001b[39mif\u001b[39;00m \u001b[39mself\u001b[39m\u001b[39m.\u001b[39m_cache_size \u001b[39m==\u001b[39m \u001b[39m0\u001b[39m:\n\u001b[0;32m--> 165\u001b[0m     \u001b[39mreturn\u001b[39;00m \u001b[39mself\u001b[39;49m\u001b[39m.\u001b[39;49m_inverse(y)\n\u001b[1;32m    166\u001b[0m x_old, y_old \u001b[39m=\u001b[39m \u001b[39mself\u001b[39m\u001b[39m.\u001b[39m_cached_x_y\n\u001b[1;32m    167\u001b[0m \u001b[39mif\u001b[39;00m y \u001b[39mis\u001b[39;00m y_old:\n",
      "File \u001b[0;32m~/miniconda3/envs/rnpe_env/lib/python3.9/site-packages/zuko/transforms.py:484\u001b[0m, in \u001b[0;36mMonotonicTransform._inverse\u001b[0;34m(self, y)\u001b[0m\n\u001b[1;32m    483\u001b[0m \u001b[39mdef\u001b[39;00m \u001b[39m_inverse\u001b[39m(\u001b[39mself\u001b[39m, y: Tensor) \u001b[39m-\u001b[39m\u001b[39m>\u001b[39m Tensor:\n\u001b[0;32m--> 484\u001b[0m     \u001b[39mreturn\u001b[39;00m bisection(\n\u001b[1;32m    485\u001b[0m         f\u001b[39m=\u001b[39;49m\u001b[39mself\u001b[39;49m\u001b[39m.\u001b[39;49mf,\n\u001b[1;32m    486\u001b[0m         y\u001b[39m=\u001b[39;49my,\n\u001b[1;32m    487\u001b[0m         a\u001b[39m=\u001b[39;49mtorch\u001b[39m.\u001b[39;49mfull_like(y, \u001b[39m-\u001b[39;49m\u001b[39mself\u001b[39;49m\u001b[39m.\u001b[39;49mbound),\n\u001b[1;32m    488\u001b[0m         b\u001b[39m=\u001b[39;49mtorch\u001b[39m.\u001b[39;49mfull_like(y, \u001b[39mself\u001b[39;49m\u001b[39m.\u001b[39;49mbound),\n\u001b[1;32m    489\u001b[0m         n\u001b[39m=\u001b[39;49mmath\u001b[39m.\u001b[39;49mceil(math\u001b[39m.\u001b[39;49mlog2(\u001b[39m2\u001b[39;49m \u001b[39m*\u001b[39;49m \u001b[39mself\u001b[39;49m\u001b[39m.\u001b[39;49mbound \u001b[39m/\u001b[39;49m \u001b[39mself\u001b[39;49m\u001b[39m.\u001b[39;49meps)),\n\u001b[1;32m    490\u001b[0m         phi\u001b[39m=\u001b[39;49m\u001b[39mself\u001b[39;49m\u001b[39m.\u001b[39;49mphi,\n\u001b[1;32m    491\u001b[0m     )\n",
      "File \u001b[0;32m~/miniconda3/envs/rnpe_env/lib/python3.9/site-packages/zuko/utils.py:53\u001b[0m, in \u001b[0;36mbisection\u001b[0;34m(f, y, a, b, n, phi)\u001b[0m\n\u001b[1;32m     50\u001b[0m a \u001b[39m=\u001b[39m torch\u001b[39m.\u001b[39mas_tensor(a)\u001b[39m.\u001b[39mto(y)\n\u001b[1;32m     51\u001b[0m b \u001b[39m=\u001b[39m torch\u001b[39m.\u001b[39mas_tensor(b)\u001b[39m.\u001b[39mto(y)\n\u001b[0;32m---> 53\u001b[0m \u001b[39mreturn\u001b[39;00m Bisection\u001b[39m.\u001b[39;49mapply(f, y, a, b, n, \u001b[39m*\u001b[39;49mphi)\n",
      "File \u001b[0;32m~/miniconda3/envs/rnpe_env/lib/python3.9/site-packages/torch/autograd/function.py:506\u001b[0m, in \u001b[0;36mFunction.apply\u001b[0;34m(cls, *args, **kwargs)\u001b[0m\n\u001b[1;32m    503\u001b[0m \u001b[39mif\u001b[39;00m \u001b[39mnot\u001b[39;00m torch\u001b[39m.\u001b[39m_C\u001b[39m.\u001b[39m_are_functorch_transforms_active():\n\u001b[1;32m    504\u001b[0m     \u001b[39m# See NOTE: [functorch vjp and autograd interaction]\u001b[39;00m\n\u001b[1;32m    505\u001b[0m     args \u001b[39m=\u001b[39m _functorch\u001b[39m.\u001b[39mutils\u001b[39m.\u001b[39munwrap_dead_wrappers(args)\n\u001b[0;32m--> 506\u001b[0m     \u001b[39mreturn\u001b[39;00m \u001b[39msuper\u001b[39;49m()\u001b[39m.\u001b[39;49mapply(\u001b[39m*\u001b[39;49margs, \u001b[39m*\u001b[39;49m\u001b[39m*\u001b[39;49mkwargs)  \u001b[39m# type: ignore[misc]\u001b[39;00m\n\u001b[1;32m    508\u001b[0m \u001b[39mif\u001b[39;00m \u001b[39mcls\u001b[39m\u001b[39m.\u001b[39msetup_context \u001b[39m==\u001b[39m _SingleLevelFunction\u001b[39m.\u001b[39msetup_context:\n\u001b[1;32m    509\u001b[0m     \u001b[39mraise\u001b[39;00m \u001b[39mRuntimeError\u001b[39;00m(\n\u001b[1;32m    510\u001b[0m         \u001b[39m'\u001b[39m\u001b[39mIn order to use an autograd.Function with functorch transforms \u001b[39m\u001b[39m'\u001b[39m\n\u001b[1;32m    511\u001b[0m         \u001b[39m'\u001b[39m\u001b[39m(vmap, grad, jvp, jacrev, ...), it must override the setup_context \u001b[39m\u001b[39m'\u001b[39m\n\u001b[1;32m    512\u001b[0m         \u001b[39m'\u001b[39m\u001b[39mstaticmethod. For more details, please see \u001b[39m\u001b[39m'\u001b[39m\n\u001b[1;32m    513\u001b[0m         \u001b[39m'\u001b[39m\u001b[39mhttps://pytorch.org/docs/master/notes/extending.func.html\u001b[39m\u001b[39m'\u001b[39m)\n",
      "File \u001b[0;32m~/miniconda3/envs/rnpe_env/lib/python3.9/site-packages/zuko/utils.py:73\u001b[0m, in \u001b[0;36mBisection.forward\u001b[0;34m(ctx, f, y, a, b, n, *phi)\u001b[0m\n\u001b[1;32m     70\u001b[0m \u001b[39mfor\u001b[39;00m _ \u001b[39min\u001b[39;00m \u001b[39mrange\u001b[39m(n):\n\u001b[1;32m     71\u001b[0m     c \u001b[39m=\u001b[39m (a \u001b[39m+\u001b[39m b) \u001b[39m/\u001b[39m \u001b[39m2\u001b[39m\n\u001b[0;32m---> 73\u001b[0m     mask \u001b[39m=\u001b[39m f(c) \u001b[39m<\u001b[39m y\n\u001b[1;32m     75\u001b[0m     a \u001b[39m=\u001b[39m torch\u001b[39m.\u001b[39mwhere(mask, c, a)\n\u001b[1;32m     76\u001b[0m     b \u001b[39m=\u001b[39m torch\u001b[39m.\u001b[39mwhere(mask, b, c)\n",
      "File \u001b[0;32m~/miniconda3/envs/rnpe_env/lib/python3.9/site-packages/zuko/flows.py:600\u001b[0m, in \u001b[0;36mNeuralAutoregressiveTransform.f\u001b[0;34m(self, signal, x)\u001b[0m\n\u001b[1;32m    599\u001b[0m \u001b[39mdef\u001b[39;00m \u001b[39mf\u001b[39m(\u001b[39mself\u001b[39m, signal: Tensor, x: Tensor) \u001b[39m-\u001b[39m\u001b[39m>\u001b[39m Tensor:\n\u001b[0;32m--> 600\u001b[0m     \u001b[39mreturn\u001b[39;00m \u001b[39mself\u001b[39;49m\u001b[39m.\u001b[39;49mnetwork(\n\u001b[1;32m    601\u001b[0m         torch\u001b[39m.\u001b[39;49mcat(broadcast(x[\u001b[39m.\u001b[39;49m\u001b[39m.\u001b[39;49m\u001b[39m.\u001b[39;49m, \u001b[39mNone\u001b[39;49;00m], signal, ignore\u001b[39m=\u001b[39;49m\u001b[39m1\u001b[39;49m), dim\u001b[39m=\u001b[39;49m\u001b[39m-\u001b[39;49m\u001b[39m1\u001b[39;49m)\n\u001b[1;32m    602\u001b[0m     )\u001b[39m.\u001b[39msqueeze(dim\u001b[39m=\u001b[39m\u001b[39m-\u001b[39m\u001b[39m1\u001b[39m)\n",
      "File \u001b[0;32m~/miniconda3/envs/rnpe_env/lib/python3.9/site-packages/torch/nn/modules/module.py:1501\u001b[0m, in \u001b[0;36mModule._call_impl\u001b[0;34m(self, *args, **kwargs)\u001b[0m\n\u001b[1;32m   1496\u001b[0m \u001b[39m# If we don't have any hooks, we want to skip the rest of the logic in\u001b[39;00m\n\u001b[1;32m   1497\u001b[0m \u001b[39m# this function, and just call forward.\u001b[39;00m\n\u001b[1;32m   1498\u001b[0m \u001b[39mif\u001b[39;00m \u001b[39mnot\u001b[39;00m (\u001b[39mself\u001b[39m\u001b[39m.\u001b[39m_backward_hooks \u001b[39mor\u001b[39;00m \u001b[39mself\u001b[39m\u001b[39m.\u001b[39m_backward_pre_hooks \u001b[39mor\u001b[39;00m \u001b[39mself\u001b[39m\u001b[39m.\u001b[39m_forward_hooks \u001b[39mor\u001b[39;00m \u001b[39mself\u001b[39m\u001b[39m.\u001b[39m_forward_pre_hooks\n\u001b[1;32m   1499\u001b[0m         \u001b[39mor\u001b[39;00m _global_backward_pre_hooks \u001b[39mor\u001b[39;00m _global_backward_hooks\n\u001b[1;32m   1500\u001b[0m         \u001b[39mor\u001b[39;00m _global_forward_hooks \u001b[39mor\u001b[39;00m _global_forward_pre_hooks):\n\u001b[0;32m-> 1501\u001b[0m     \u001b[39mreturn\u001b[39;00m forward_call(\u001b[39m*\u001b[39;49margs, \u001b[39m*\u001b[39;49m\u001b[39m*\u001b[39;49mkwargs)\n\u001b[1;32m   1502\u001b[0m \u001b[39m# Do not call functions when jit is used\u001b[39;00m\n\u001b[1;32m   1503\u001b[0m full_backward_hooks, non_full_backward_hooks \u001b[39m=\u001b[39m [], []\n",
      "File \u001b[0;32m~/miniconda3/envs/rnpe_env/lib/python3.9/site-packages/torch/nn/modules/container.py:217\u001b[0m, in \u001b[0;36mSequential.forward\u001b[0;34m(self, input)\u001b[0m\n\u001b[1;32m    215\u001b[0m \u001b[39mdef\u001b[39;00m \u001b[39mforward\u001b[39m(\u001b[39mself\u001b[39m, \u001b[39minput\u001b[39m):\n\u001b[1;32m    216\u001b[0m     \u001b[39mfor\u001b[39;00m module \u001b[39min\u001b[39;00m \u001b[39mself\u001b[39m:\n\u001b[0;32m--> 217\u001b[0m         \u001b[39minput\u001b[39m \u001b[39m=\u001b[39m module(\u001b[39minput\u001b[39;49m)\n\u001b[1;32m    218\u001b[0m     \u001b[39mreturn\u001b[39;00m \u001b[39minput\u001b[39m\n",
      "File \u001b[0;32m~/miniconda3/envs/rnpe_env/lib/python3.9/site-packages/torch/nn/modules/module.py:1501\u001b[0m, in \u001b[0;36mModule._call_impl\u001b[0;34m(self, *args, **kwargs)\u001b[0m\n\u001b[1;32m   1496\u001b[0m \u001b[39m# If we don't have any hooks, we want to skip the rest of the logic in\u001b[39;00m\n\u001b[1;32m   1497\u001b[0m \u001b[39m# this function, and just call forward.\u001b[39;00m\n\u001b[1;32m   1498\u001b[0m \u001b[39mif\u001b[39;00m \u001b[39mnot\u001b[39;00m (\u001b[39mself\u001b[39m\u001b[39m.\u001b[39m_backward_hooks \u001b[39mor\u001b[39;00m \u001b[39mself\u001b[39m\u001b[39m.\u001b[39m_backward_pre_hooks \u001b[39mor\u001b[39;00m \u001b[39mself\u001b[39m\u001b[39m.\u001b[39m_forward_hooks \u001b[39mor\u001b[39;00m \u001b[39mself\u001b[39m\u001b[39m.\u001b[39m_forward_pre_hooks\n\u001b[1;32m   1499\u001b[0m         \u001b[39mor\u001b[39;00m _global_backward_pre_hooks \u001b[39mor\u001b[39;00m _global_backward_hooks\n\u001b[1;32m   1500\u001b[0m         \u001b[39mor\u001b[39;00m _global_forward_hooks \u001b[39mor\u001b[39;00m _global_forward_pre_hooks):\n\u001b[0;32m-> 1501\u001b[0m     \u001b[39mreturn\u001b[39;00m forward_call(\u001b[39m*\u001b[39;49margs, \u001b[39m*\u001b[39;49m\u001b[39m*\u001b[39;49mkwargs)\n\u001b[1;32m   1502\u001b[0m \u001b[39m# Do not call functions when jit is used\u001b[39;00m\n\u001b[1;32m   1503\u001b[0m full_backward_hooks, non_full_backward_hooks \u001b[39m=\u001b[39m [], []\n",
      "File \u001b[0;32m~/miniconda3/envs/rnpe_env/lib/python3.9/site-packages/zuko/nn.py:239\u001b[0m, in \u001b[0;36mTwoWayELU.forward\u001b[0;34m(self, x)\u001b[0m\n\u001b[1;32m    238\u001b[0m \u001b[39mdef\u001b[39;00m \u001b[39mforward\u001b[39m(\u001b[39mself\u001b[39m, x: Tensor) \u001b[39m-\u001b[39m\u001b[39m>\u001b[39m Tensor:\n\u001b[0;32m--> 239\u001b[0m     x0, x1 \u001b[39m=\u001b[39m torch\u001b[39m.\u001b[39;49mchunk(x, \u001b[39m2\u001b[39;49m, dim\u001b[39m=\u001b[39;49m\u001b[39m-\u001b[39;49m\u001b[39m1\u001b[39;49m)\n\u001b[1;32m    241\u001b[0m     \u001b[39mreturn\u001b[39;00m torch\u001b[39m.\u001b[39mcat((\n\u001b[1;32m    242\u001b[0m         \u001b[39msuper\u001b[39m()\u001b[39m.\u001b[39mforward(x0),\n\u001b[1;32m    243\u001b[0m         \u001b[39m-\u001b[39m\u001b[39msuper\u001b[39m()\u001b[39m.\u001b[39mforward(\u001b[39m-\u001b[39mx1),\n\u001b[1;32m    244\u001b[0m     ), dim\u001b[39m=\u001b[39m\u001b[39m-\u001b[39m\u001b[39m1\u001b[39m)\n",
      "\u001b[0;31mKeyboardInterrupt\u001b[0m: "
     ]
    }
   ],
   "source": [
    "sampler = MHQTransition(q_x_NF().sample(),f=p_y_given_x)\n",
    "with torch.no_grad():\n",
    "    xm_samples_ = [s for s in tqdm.tqdm(sampler(M+warm_up_steps,burn=warm_up_steps))]\n",
    "    xm_samples_ = torch.stack(xm_samples_)"
   ]
  },
  {
   "cell_type": "code",
   "execution_count": 14,
   "metadata": {},
   "outputs": [
    {
     "ename": "KeyboardInterrupt",
     "evalue": "",
     "output_type": "error",
     "traceback": [
      "\u001b[0;31m---------------------------------------------------------------------------\u001b[0m",
      "\u001b[0;31mKeyboardInterrupt\u001b[0m                         Traceback (most recent call last)",
      "Cell \u001b[0;32mIn[14], line 3\u001b[0m\n\u001b[1;32m      1\u001b[0m sampler \u001b[39m=\u001b[39m lampe\u001b[39m.\u001b[39minference\u001b[39m.\u001b[39mMetropolisHastings(q_x_NF()\u001b[39m.\u001b[39msample(),f\u001b[39m=\u001b[39mspike_slab)\n\u001b[1;32m      2\u001b[0m \u001b[39mwith\u001b[39;00m torch\u001b[39m.\u001b[39mno_grad():\n\u001b[0;32m----> 3\u001b[0m     xm_samples \u001b[39m=\u001b[39m [s \u001b[39mfor\u001b[39;00m s \u001b[39min\u001b[39;00m sampler(M\u001b[39m+\u001b[39mwarm_up_steps,burn\u001b[39m=\u001b[39mwarm_up_steps)]\n\u001b[1;32m      4\u001b[0m     xm_samples \u001b[39m=\u001b[39m torch\u001b[39m.\u001b[39mstack(xm_samples)\n\u001b[1;32m      5\u001b[0m     xm_samples\u001b[39m.\u001b[39mshape\n",
      "Cell \u001b[0;32mIn[14], line 3\u001b[0m, in \u001b[0;36m<listcomp>\u001b[0;34m(.0)\u001b[0m\n\u001b[1;32m      1\u001b[0m sampler \u001b[39m=\u001b[39m lampe\u001b[39m.\u001b[39minference\u001b[39m.\u001b[39mMetropolisHastings(q_x_NF()\u001b[39m.\u001b[39msample(),f\u001b[39m=\u001b[39mspike_slab)\n\u001b[1;32m      2\u001b[0m \u001b[39mwith\u001b[39;00m torch\u001b[39m.\u001b[39mno_grad():\n\u001b[0;32m----> 3\u001b[0m     xm_samples \u001b[39m=\u001b[39m [s \u001b[39mfor\u001b[39;00m s \u001b[39min\u001b[39;00m sampler(M\u001b[39m+\u001b[39mwarm_up_steps,burn\u001b[39m=\u001b[39mwarm_up_steps)]\n\u001b[1;32m      4\u001b[0m     xm_samples \u001b[39m=\u001b[39m torch\u001b[39m.\u001b[39mstack(xm_samples)\n\u001b[1;32m      5\u001b[0m     xm_samples\u001b[39m.\u001b[39mshape\n",
      "File \u001b[0;32m~/miniconda3/envs/rnpe_env/lib/python3.9/site-packages/lampe/inference.py:767\u001b[0m, in \u001b[0;36mMetropolisHastings.__iter__\u001b[0;34m(self)\u001b[0m\n\u001b[1;32m    764\u001b[0m y \u001b[39m=\u001b[39m \u001b[39mself\u001b[39m\u001b[39m.\u001b[39mq(x)\u001b[39m.\u001b[39msample()\n\u001b[1;32m    766\u001b[0m \u001b[39m# log f(y)\u001b[39;00m\n\u001b[0;32m--> 767\u001b[0m log_f_y \u001b[39m=\u001b[39m \u001b[39mself\u001b[39;49m\u001b[39m.\u001b[39;49mlog_f(y)\n\u001b[1;32m    769\u001b[0m \u001b[39m#     f(y)   q(x | y)\u001b[39;00m\n\u001b[1;32m    770\u001b[0m \u001b[39m# a = ---- * --------\u001b[39;00m\n\u001b[1;32m    771\u001b[0m \u001b[39m#     f(x)   q(y | x)\u001b[39;00m\n\u001b[1;32m    772\u001b[0m log_a \u001b[39m=\u001b[39m log_f_y \u001b[39m-\u001b[39m log_f_x\n",
      "File \u001b[0;32m~/miniconda3/envs/rnpe_env/lib/python3.9/site-packages/lampe/inference.py:745\u001b[0m, in \u001b[0;36mMetropolisHastings.__init__.<locals>.<lambda>\u001b[0;34m(x)\u001b[0m\n\u001b[1;32m    743\u001b[0m     \u001b[39mself\u001b[39m\u001b[39m.\u001b[39mlog_f \u001b[39m=\u001b[39m log_f\n\u001b[1;32m    744\u001b[0m \u001b[39melse\u001b[39;00m:\n\u001b[0;32m--> 745\u001b[0m     \u001b[39mself\u001b[39m\u001b[39m.\u001b[39mlog_f \u001b[39m=\u001b[39m \u001b[39mlambda\u001b[39;00m x: f(x)\u001b[39m.\u001b[39mlog()\n\u001b[1;32m    747\u001b[0m \u001b[39mself\u001b[39m\u001b[39m.\u001b[39msigma \u001b[39m=\u001b[39m sigma\n",
      "Cell \u001b[0;32mIn[13], line 5\u001b[0m, in \u001b[0;36mspike_slab\u001b[0;34m(y)\u001b[0m\n\u001b[1;32m      3\u001b[0m sigma \u001b[39m=\u001b[39m \u001b[39m0.01\u001b[39m\n\u001b[1;32m      4\u001b[0m tau \u001b[39m=\u001b[39m \u001b[39m0.25\u001b[39m\n\u001b[0;32m----> 5\u001b[0m x \u001b[39m=\u001b[39m q_x_NF()\u001b[39m.\u001b[39;49msample()\n\u001b[1;32m      6\u001b[0m z \u001b[39m=\u001b[39m torch\u001b[39m.\u001b[39mdistributions\u001b[39m.\u001b[39mBernoulli(rho)\u001b[39m.\u001b[39msample(y\u001b[39m.\u001b[39mshape)\n\u001b[1;32m      7\u001b[0m normal \u001b[39m=\u001b[39m torch\u001b[39m.\u001b[39mdistributions\u001b[39m.\u001b[39mNormal(x,sigma)\n",
      "File \u001b[0;32m~/miniconda3/envs/rnpe_env/lib/python3.9/site-packages/torch/distributions/distribution.py:158\u001b[0m, in \u001b[0;36mDistribution.sample\u001b[0;34m(self, sample_shape)\u001b[0m\n\u001b[1;32m    153\u001b[0m \u001b[39m\"\"\"\u001b[39;00m\n\u001b[1;32m    154\u001b[0m \u001b[39mGenerates a sample_shape shaped sample or sample_shape shaped batch of\u001b[39;00m\n\u001b[1;32m    155\u001b[0m \u001b[39msamples if the distribution parameters are batched.\u001b[39;00m\n\u001b[1;32m    156\u001b[0m \u001b[39m\"\"\"\u001b[39;00m\n\u001b[1;32m    157\u001b[0m \u001b[39mwith\u001b[39;00m torch\u001b[39m.\u001b[39mno_grad():\n\u001b[0;32m--> 158\u001b[0m     \u001b[39mreturn\u001b[39;00m \u001b[39mself\u001b[39;49m\u001b[39m.\u001b[39;49mrsample(sample_shape)\n",
      "File \u001b[0;32m~/miniconda3/envs/rnpe_env/lib/python3.9/site-packages/zuko/distributions.py:121\u001b[0m, in \u001b[0;36mNormalizingFlow.rsample\u001b[0;34m(self, shape)\u001b[0m\n\u001b[1;32m    118\u001b[0m \u001b[39melse\u001b[39;00m:\n\u001b[1;32m    119\u001b[0m     z \u001b[39m=\u001b[39m \u001b[39mself\u001b[39m\u001b[39m.\u001b[39mbase\u001b[39m.\u001b[39msample(shape)\n\u001b[0;32m--> 121\u001b[0m \u001b[39mreturn\u001b[39;00m \u001b[39mself\u001b[39;49m\u001b[39m.\u001b[39;49mtransform\u001b[39m.\u001b[39;49minv(z)\n",
      "File \u001b[0;32m~/miniconda3/envs/rnpe_env/lib/python3.9/site-packages/torch/distributions/transforms.py:152\u001b[0m, in \u001b[0;36mTransform.__call__\u001b[0;34m(self, x)\u001b[0m\n\u001b[1;32m    148\u001b[0m \u001b[39m\"\"\"\u001b[39;00m\n\u001b[1;32m    149\u001b[0m \u001b[39mComputes the transform `x => y`.\u001b[39;00m\n\u001b[1;32m    150\u001b[0m \u001b[39m\"\"\"\u001b[39;00m\n\u001b[1;32m    151\u001b[0m \u001b[39mif\u001b[39;00m \u001b[39mself\u001b[39m\u001b[39m.\u001b[39m_cache_size \u001b[39m==\u001b[39m \u001b[39m0\u001b[39m:\n\u001b[0;32m--> 152\u001b[0m     \u001b[39mreturn\u001b[39;00m \u001b[39mself\u001b[39;49m\u001b[39m.\u001b[39;49m_call(x)\n\u001b[1;32m    153\u001b[0m x_old, y_old \u001b[39m=\u001b[39m \u001b[39mself\u001b[39m\u001b[39m.\u001b[39m_cached_x_y\n\u001b[1;32m    154\u001b[0m \u001b[39mif\u001b[39;00m x \u001b[39mis\u001b[39;00m x_old:\n",
      "File \u001b[0;32m~/miniconda3/envs/rnpe_env/lib/python3.9/site-packages/zuko/transforms.py:108\u001b[0m, in \u001b[0;36mComposedTransform._call\u001b[0;34m(self, x)\u001b[0m\n\u001b[1;32m    106\u001b[0m \u001b[39mdef\u001b[39;00m \u001b[39m_call\u001b[39m(\u001b[39mself\u001b[39m, x: Tensor) \u001b[39m-\u001b[39m\u001b[39m>\u001b[39m Tensor:\n\u001b[1;32m    107\u001b[0m     \u001b[39mfor\u001b[39;00m t \u001b[39min\u001b[39;00m \u001b[39mself\u001b[39m\u001b[39m.\u001b[39mtransforms:\n\u001b[0;32m--> 108\u001b[0m         x \u001b[39m=\u001b[39m t(x)\n\u001b[1;32m    109\u001b[0m     \u001b[39mreturn\u001b[39;00m x\n",
      "File \u001b[0;32m~/miniconda3/envs/rnpe_env/lib/python3.9/site-packages/torch/distributions/transforms.py:257\u001b[0m, in \u001b[0;36m_InverseTransform.__call__\u001b[0;34m(self, x)\u001b[0m\n\u001b[1;32m    255\u001b[0m \u001b[39mdef\u001b[39;00m \u001b[39m__call__\u001b[39m(\u001b[39mself\u001b[39m, x):\n\u001b[1;32m    256\u001b[0m     \u001b[39massert\u001b[39;00m \u001b[39mself\u001b[39m\u001b[39m.\u001b[39m_inv \u001b[39mis\u001b[39;00m \u001b[39mnot\u001b[39;00m \u001b[39mNone\u001b[39;00m\n\u001b[0;32m--> 257\u001b[0m     \u001b[39mreturn\u001b[39;00m \u001b[39mself\u001b[39;49m\u001b[39m.\u001b[39;49m_inv\u001b[39m.\u001b[39;49m_inv_call(x)\n",
      "File \u001b[0;32m~/miniconda3/envs/rnpe_env/lib/python3.9/site-packages/torch/distributions/transforms.py:165\u001b[0m, in \u001b[0;36mTransform._inv_call\u001b[0;34m(self, y)\u001b[0m\n\u001b[1;32m    161\u001b[0m \u001b[39m\"\"\"\u001b[39;00m\n\u001b[1;32m    162\u001b[0m \u001b[39mInverts the transform `y => x`.\u001b[39;00m\n\u001b[1;32m    163\u001b[0m \u001b[39m\"\"\"\u001b[39;00m\n\u001b[1;32m    164\u001b[0m \u001b[39mif\u001b[39;00m \u001b[39mself\u001b[39m\u001b[39m.\u001b[39m_cache_size \u001b[39m==\u001b[39m \u001b[39m0\u001b[39m:\n\u001b[0;32m--> 165\u001b[0m     \u001b[39mreturn\u001b[39;00m \u001b[39mself\u001b[39;49m\u001b[39m.\u001b[39;49m_inverse(y)\n\u001b[1;32m    166\u001b[0m x_old, y_old \u001b[39m=\u001b[39m \u001b[39mself\u001b[39m\u001b[39m.\u001b[39m_cached_x_y\n\u001b[1;32m    167\u001b[0m \u001b[39mif\u001b[39;00m y \u001b[39mis\u001b[39;00m y_old:\n",
      "File \u001b[0;32m~/miniconda3/envs/rnpe_env/lib/python3.9/site-packages/zuko/transforms.py:717\u001b[0m, in \u001b[0;36mAutoregressiveTransform._inverse\u001b[0;34m(self, y)\u001b[0m\n\u001b[1;32m    715\u001b[0m x \u001b[39m=\u001b[39m torch\u001b[39m.\u001b[39mzeros_like(y)\n\u001b[1;32m    716\u001b[0m \u001b[39mfor\u001b[39;00m _ \u001b[39min\u001b[39;00m \u001b[39mrange\u001b[39m(\u001b[39mself\u001b[39m\u001b[39m.\u001b[39mpasses):\n\u001b[0;32m--> 717\u001b[0m     x \u001b[39m=\u001b[39m \u001b[39mself\u001b[39;49m\u001b[39m.\u001b[39;49mmeta(x)\u001b[39m.\u001b[39;49minv(y)\n\u001b[1;32m    719\u001b[0m \u001b[39mreturn\u001b[39;00m x\n",
      "File \u001b[0;32m~/miniconda3/envs/rnpe_env/lib/python3.9/site-packages/torch/distributions/transforms.py:257\u001b[0m, in \u001b[0;36m_InverseTransform.__call__\u001b[0;34m(self, x)\u001b[0m\n\u001b[1;32m    255\u001b[0m \u001b[39mdef\u001b[39;00m \u001b[39m__call__\u001b[39m(\u001b[39mself\u001b[39m, x):\n\u001b[1;32m    256\u001b[0m     \u001b[39massert\u001b[39;00m \u001b[39mself\u001b[39m\u001b[39m.\u001b[39m_inv \u001b[39mis\u001b[39;00m \u001b[39mnot\u001b[39;00m \u001b[39mNone\u001b[39;00m\n\u001b[0;32m--> 257\u001b[0m     \u001b[39mreturn\u001b[39;00m \u001b[39mself\u001b[39;49m\u001b[39m.\u001b[39;49m_inv\u001b[39m.\u001b[39;49m_inv_call(x)\n",
      "File \u001b[0;32m~/miniconda3/envs/rnpe_env/lib/python3.9/site-packages/torch/distributions/transforms.py:165\u001b[0m, in \u001b[0;36mTransform._inv_call\u001b[0;34m(self, y)\u001b[0m\n\u001b[1;32m    161\u001b[0m \u001b[39m\"\"\"\u001b[39;00m\n\u001b[1;32m    162\u001b[0m \u001b[39mInverts the transform `y => x`.\u001b[39;00m\n\u001b[1;32m    163\u001b[0m \u001b[39m\"\"\"\u001b[39;00m\n\u001b[1;32m    164\u001b[0m \u001b[39mif\u001b[39;00m \u001b[39mself\u001b[39m\u001b[39m.\u001b[39m_cache_size \u001b[39m==\u001b[39m \u001b[39m0\u001b[39m:\n\u001b[0;32m--> 165\u001b[0m     \u001b[39mreturn\u001b[39;00m \u001b[39mself\u001b[39;49m\u001b[39m.\u001b[39;49m_inverse(y)\n\u001b[1;32m    166\u001b[0m x_old, y_old \u001b[39m=\u001b[39m \u001b[39mself\u001b[39m\u001b[39m.\u001b[39m_cached_x_y\n\u001b[1;32m    167\u001b[0m \u001b[39mif\u001b[39;00m y \u001b[39mis\u001b[39;00m y_old:\n",
      "File \u001b[0;32m~/miniconda3/envs/rnpe_env/lib/python3.9/site-packages/zuko/transforms.py:484\u001b[0m, in \u001b[0;36mMonotonicTransform._inverse\u001b[0;34m(self, y)\u001b[0m\n\u001b[1;32m    483\u001b[0m \u001b[39mdef\u001b[39;00m \u001b[39m_inverse\u001b[39m(\u001b[39mself\u001b[39m, y: Tensor) \u001b[39m-\u001b[39m\u001b[39m>\u001b[39m Tensor:\n\u001b[0;32m--> 484\u001b[0m     \u001b[39mreturn\u001b[39;00m bisection(\n\u001b[1;32m    485\u001b[0m         f\u001b[39m=\u001b[39;49m\u001b[39mself\u001b[39;49m\u001b[39m.\u001b[39;49mf,\n\u001b[1;32m    486\u001b[0m         y\u001b[39m=\u001b[39;49my,\n\u001b[1;32m    487\u001b[0m         a\u001b[39m=\u001b[39;49mtorch\u001b[39m.\u001b[39;49mfull_like(y, \u001b[39m-\u001b[39;49m\u001b[39mself\u001b[39;49m\u001b[39m.\u001b[39;49mbound),\n\u001b[1;32m    488\u001b[0m         b\u001b[39m=\u001b[39;49mtorch\u001b[39m.\u001b[39;49mfull_like(y, \u001b[39mself\u001b[39;49m\u001b[39m.\u001b[39;49mbound),\n\u001b[1;32m    489\u001b[0m         n\u001b[39m=\u001b[39;49mmath\u001b[39m.\u001b[39;49mceil(math\u001b[39m.\u001b[39;49mlog2(\u001b[39m2\u001b[39;49m \u001b[39m*\u001b[39;49m \u001b[39mself\u001b[39;49m\u001b[39m.\u001b[39;49mbound \u001b[39m/\u001b[39;49m \u001b[39mself\u001b[39;49m\u001b[39m.\u001b[39;49meps)),\n\u001b[1;32m    490\u001b[0m         phi\u001b[39m=\u001b[39;49m\u001b[39mself\u001b[39;49m\u001b[39m.\u001b[39;49mphi,\n\u001b[1;32m    491\u001b[0m     )\n",
      "File \u001b[0;32m~/miniconda3/envs/rnpe_env/lib/python3.9/site-packages/zuko/utils.py:53\u001b[0m, in \u001b[0;36mbisection\u001b[0;34m(f, y, a, b, n, phi)\u001b[0m\n\u001b[1;32m     50\u001b[0m a \u001b[39m=\u001b[39m torch\u001b[39m.\u001b[39mas_tensor(a)\u001b[39m.\u001b[39mto(y)\n\u001b[1;32m     51\u001b[0m b \u001b[39m=\u001b[39m torch\u001b[39m.\u001b[39mas_tensor(b)\u001b[39m.\u001b[39mto(y)\n\u001b[0;32m---> 53\u001b[0m \u001b[39mreturn\u001b[39;00m Bisection\u001b[39m.\u001b[39;49mapply(f, y, a, b, n, \u001b[39m*\u001b[39;49mphi)\n",
      "File \u001b[0;32m~/miniconda3/envs/rnpe_env/lib/python3.9/site-packages/torch/autograd/function.py:506\u001b[0m, in \u001b[0;36mFunction.apply\u001b[0;34m(cls, *args, **kwargs)\u001b[0m\n\u001b[1;32m    503\u001b[0m \u001b[39mif\u001b[39;00m \u001b[39mnot\u001b[39;00m torch\u001b[39m.\u001b[39m_C\u001b[39m.\u001b[39m_are_functorch_transforms_active():\n\u001b[1;32m    504\u001b[0m     \u001b[39m# See NOTE: [functorch vjp and autograd interaction]\u001b[39;00m\n\u001b[1;32m    505\u001b[0m     args \u001b[39m=\u001b[39m _functorch\u001b[39m.\u001b[39mutils\u001b[39m.\u001b[39munwrap_dead_wrappers(args)\n\u001b[0;32m--> 506\u001b[0m     \u001b[39mreturn\u001b[39;00m \u001b[39msuper\u001b[39;49m()\u001b[39m.\u001b[39;49mapply(\u001b[39m*\u001b[39;49margs, \u001b[39m*\u001b[39;49m\u001b[39m*\u001b[39;49mkwargs)  \u001b[39m# type: ignore[misc]\u001b[39;00m\n\u001b[1;32m    508\u001b[0m \u001b[39mif\u001b[39;00m \u001b[39mcls\u001b[39m\u001b[39m.\u001b[39msetup_context \u001b[39m==\u001b[39m _SingleLevelFunction\u001b[39m.\u001b[39msetup_context:\n\u001b[1;32m    509\u001b[0m     \u001b[39mraise\u001b[39;00m \u001b[39mRuntimeError\u001b[39;00m(\n\u001b[1;32m    510\u001b[0m         \u001b[39m'\u001b[39m\u001b[39mIn order to use an autograd.Function with functorch transforms \u001b[39m\u001b[39m'\u001b[39m\n\u001b[1;32m    511\u001b[0m         \u001b[39m'\u001b[39m\u001b[39m(vmap, grad, jvp, jacrev, ...), it must override the setup_context \u001b[39m\u001b[39m'\u001b[39m\n\u001b[1;32m    512\u001b[0m         \u001b[39m'\u001b[39m\u001b[39mstaticmethod. For more details, please see \u001b[39m\u001b[39m'\u001b[39m\n\u001b[1;32m    513\u001b[0m         \u001b[39m'\u001b[39m\u001b[39mhttps://pytorch.org/docs/master/notes/extending.func.html\u001b[39m\u001b[39m'\u001b[39m)\n",
      "File \u001b[0;32m~/miniconda3/envs/rnpe_env/lib/python3.9/site-packages/zuko/utils.py:73\u001b[0m, in \u001b[0;36mBisection.forward\u001b[0;34m(ctx, f, y, a, b, n, *phi)\u001b[0m\n\u001b[1;32m     70\u001b[0m \u001b[39mfor\u001b[39;00m _ \u001b[39min\u001b[39;00m \u001b[39mrange\u001b[39m(n):\n\u001b[1;32m     71\u001b[0m     c \u001b[39m=\u001b[39m (a \u001b[39m+\u001b[39m b) \u001b[39m/\u001b[39m \u001b[39m2\u001b[39m\n\u001b[0;32m---> 73\u001b[0m     mask \u001b[39m=\u001b[39m f(c) \u001b[39m<\u001b[39m y\n\u001b[1;32m     75\u001b[0m     a \u001b[39m=\u001b[39m torch\u001b[39m.\u001b[39mwhere(mask, c, a)\n\u001b[1;32m     76\u001b[0m     b \u001b[39m=\u001b[39m torch\u001b[39m.\u001b[39mwhere(mask, b, c)\n",
      "File \u001b[0;32m~/miniconda3/envs/rnpe_env/lib/python3.9/site-packages/zuko/flows.py:600\u001b[0m, in \u001b[0;36mNeuralAutoregressiveTransform.f\u001b[0;34m(self, signal, x)\u001b[0m\n\u001b[1;32m    599\u001b[0m \u001b[39mdef\u001b[39;00m \u001b[39mf\u001b[39m(\u001b[39mself\u001b[39m, signal: Tensor, x: Tensor) \u001b[39m-\u001b[39m\u001b[39m>\u001b[39m Tensor:\n\u001b[0;32m--> 600\u001b[0m     \u001b[39mreturn\u001b[39;00m \u001b[39mself\u001b[39;49m\u001b[39m.\u001b[39;49mnetwork(\n\u001b[1;32m    601\u001b[0m         torch\u001b[39m.\u001b[39;49mcat(broadcast(x[\u001b[39m.\u001b[39;49m\u001b[39m.\u001b[39;49m\u001b[39m.\u001b[39;49m, \u001b[39mNone\u001b[39;49;00m], signal, ignore\u001b[39m=\u001b[39;49m\u001b[39m1\u001b[39;49m), dim\u001b[39m=\u001b[39;49m\u001b[39m-\u001b[39;49m\u001b[39m1\u001b[39;49m)\n\u001b[1;32m    602\u001b[0m     )\u001b[39m.\u001b[39msqueeze(dim\u001b[39m=\u001b[39m\u001b[39m-\u001b[39m\u001b[39m1\u001b[39m)\n",
      "File \u001b[0;32m~/miniconda3/envs/rnpe_env/lib/python3.9/site-packages/torch/nn/modules/module.py:1501\u001b[0m, in \u001b[0;36mModule._call_impl\u001b[0;34m(self, *args, **kwargs)\u001b[0m\n\u001b[1;32m   1496\u001b[0m \u001b[39m# If we don't have any hooks, we want to skip the rest of the logic in\u001b[39;00m\n\u001b[1;32m   1497\u001b[0m \u001b[39m# this function, and just call forward.\u001b[39;00m\n\u001b[1;32m   1498\u001b[0m \u001b[39mif\u001b[39;00m \u001b[39mnot\u001b[39;00m (\u001b[39mself\u001b[39m\u001b[39m.\u001b[39m_backward_hooks \u001b[39mor\u001b[39;00m \u001b[39mself\u001b[39m\u001b[39m.\u001b[39m_backward_pre_hooks \u001b[39mor\u001b[39;00m \u001b[39mself\u001b[39m\u001b[39m.\u001b[39m_forward_hooks \u001b[39mor\u001b[39;00m \u001b[39mself\u001b[39m\u001b[39m.\u001b[39m_forward_pre_hooks\n\u001b[1;32m   1499\u001b[0m         \u001b[39mor\u001b[39;00m _global_backward_pre_hooks \u001b[39mor\u001b[39;00m _global_backward_hooks\n\u001b[1;32m   1500\u001b[0m         \u001b[39mor\u001b[39;00m _global_forward_hooks \u001b[39mor\u001b[39;00m _global_forward_pre_hooks):\n\u001b[0;32m-> 1501\u001b[0m     \u001b[39mreturn\u001b[39;00m forward_call(\u001b[39m*\u001b[39;49margs, \u001b[39m*\u001b[39;49m\u001b[39m*\u001b[39;49mkwargs)\n\u001b[1;32m   1502\u001b[0m \u001b[39m# Do not call functions when jit is used\u001b[39;00m\n\u001b[1;32m   1503\u001b[0m full_backward_hooks, non_full_backward_hooks \u001b[39m=\u001b[39m [], []\n",
      "File \u001b[0;32m~/miniconda3/envs/rnpe_env/lib/python3.9/site-packages/torch/nn/modules/container.py:217\u001b[0m, in \u001b[0;36mSequential.forward\u001b[0;34m(self, input)\u001b[0m\n\u001b[1;32m    215\u001b[0m \u001b[39mdef\u001b[39;00m \u001b[39mforward\u001b[39m(\u001b[39mself\u001b[39m, \u001b[39minput\u001b[39m):\n\u001b[1;32m    216\u001b[0m     \u001b[39mfor\u001b[39;00m module \u001b[39min\u001b[39;00m \u001b[39mself\u001b[39m:\n\u001b[0;32m--> 217\u001b[0m         \u001b[39minput\u001b[39m \u001b[39m=\u001b[39m module(\u001b[39minput\u001b[39;49m)\n\u001b[1;32m    218\u001b[0m     \u001b[39mreturn\u001b[39;00m \u001b[39minput\u001b[39m\n",
      "File \u001b[0;32m~/miniconda3/envs/rnpe_env/lib/python3.9/site-packages/torch/nn/modules/module.py:1501\u001b[0m, in \u001b[0;36mModule._call_impl\u001b[0;34m(self, *args, **kwargs)\u001b[0m\n\u001b[1;32m   1496\u001b[0m \u001b[39m# If we don't have any hooks, we want to skip the rest of the logic in\u001b[39;00m\n\u001b[1;32m   1497\u001b[0m \u001b[39m# this function, and just call forward.\u001b[39;00m\n\u001b[1;32m   1498\u001b[0m \u001b[39mif\u001b[39;00m \u001b[39mnot\u001b[39;00m (\u001b[39mself\u001b[39m\u001b[39m.\u001b[39m_backward_hooks \u001b[39mor\u001b[39;00m \u001b[39mself\u001b[39m\u001b[39m.\u001b[39m_backward_pre_hooks \u001b[39mor\u001b[39;00m \u001b[39mself\u001b[39m\u001b[39m.\u001b[39m_forward_hooks \u001b[39mor\u001b[39;00m \u001b[39mself\u001b[39m\u001b[39m.\u001b[39m_forward_pre_hooks\n\u001b[1;32m   1499\u001b[0m         \u001b[39mor\u001b[39;00m _global_backward_pre_hooks \u001b[39mor\u001b[39;00m _global_backward_hooks\n\u001b[1;32m   1500\u001b[0m         \u001b[39mor\u001b[39;00m _global_forward_hooks \u001b[39mor\u001b[39;00m _global_forward_pre_hooks):\n\u001b[0;32m-> 1501\u001b[0m     \u001b[39mreturn\u001b[39;00m forward_call(\u001b[39m*\u001b[39;49margs, \u001b[39m*\u001b[39;49m\u001b[39m*\u001b[39;49mkwargs)\n\u001b[1;32m   1502\u001b[0m \u001b[39m# Do not call functions when jit is used\u001b[39;00m\n\u001b[1;32m   1503\u001b[0m full_backward_hooks, non_full_backward_hooks \u001b[39m=\u001b[39m [], []\n",
      "File \u001b[0;32m~/miniconda3/envs/rnpe_env/lib/python3.9/site-packages/zuko/nn.py:239\u001b[0m, in \u001b[0;36mTwoWayELU.forward\u001b[0;34m(self, x)\u001b[0m\n\u001b[1;32m    238\u001b[0m \u001b[39mdef\u001b[39;00m \u001b[39mforward\u001b[39m(\u001b[39mself\u001b[39m, x: Tensor) \u001b[39m-\u001b[39m\u001b[39m>\u001b[39m Tensor:\n\u001b[0;32m--> 239\u001b[0m     x0, x1 \u001b[39m=\u001b[39m torch\u001b[39m.\u001b[39;49mchunk(x, \u001b[39m2\u001b[39;49m, dim\u001b[39m=\u001b[39;49m\u001b[39m-\u001b[39;49m\u001b[39m1\u001b[39;49m)\n\u001b[1;32m    241\u001b[0m     \u001b[39mreturn\u001b[39;00m torch\u001b[39m.\u001b[39mcat((\n\u001b[1;32m    242\u001b[0m         \u001b[39msuper\u001b[39m()\u001b[39m.\u001b[39mforward(x0),\n\u001b[1;32m    243\u001b[0m         \u001b[39m-\u001b[39m\u001b[39msuper\u001b[39m()\u001b[39m.\u001b[39mforward(\u001b[39m-\u001b[39mx1),\n\u001b[1;32m    244\u001b[0m     ), dim\u001b[39m=\u001b[39m\u001b[39m-\u001b[39m\u001b[39m1\u001b[39m)\n",
      "\u001b[0;31mKeyboardInterrupt\u001b[0m: "
     ]
    }
   ],
   "source": [
    "sampler = lampe.inference.MetropolisHastings(q_x_NF().sample(),f=spike_slab)\n",
    "with torch.no_grad():\n",
    "    xm_samples = [s for s in sampler(M+warm_up_steps,burn=warm_up_steps)]\n",
    "    xm_samples = torch.stack(xm_samples)"
   ]
  },
  {
   "cell_type": "code",
   "execution_count": 36,
   "metadata": {},
   "outputs": [
    {
     "data": {
      "text/plain": [
       "array([[ 0.8244139 ,  0.01038768],\n",
       "       [-0.59854394, -0.6725981 ],\n",
       "       [-1.0299511 , -0.4994842 ],\n",
       "       ...,\n",
       "       [ 0.8339483 , -0.62175727],\n",
       "       [ 0.35281512, -0.27730352],\n",
       "       [ 0.39325714, -0.8362903 ]], dtype=float32)"
      ]
     },
     "execution_count": 36,
     "metadata": {},
     "output_type": "execute_result"
    }
   ],
   "source": [
    "xm_samples_arr = xm_samples.detach().numpy()\n",
    "xm_samples_arr"
   ]
  },
  {
   "cell_type": "code",
   "execution_count": 37,
   "metadata": {},
   "outputs": [],
   "source": [
    "class1 = np.load(\"/home/tux/rnpe/denoise_xm_paper.npy\",allow_pickle=True)"
   ]
  },
  {
   "cell_type": "code",
   "execution_count": 38,
   "metadata": {},
   "outputs": [],
   "source": [
    "class0 = xm_samples_arr"
   ]
  },
  {
   "cell_type": "code",
   "execution_count": 39,
   "metadata": {},
   "outputs": [
    {
     "data": {
      "text/plain": [
       "0.9547636363636364"
      ]
     },
     "execution_count": 39,
     "metadata": {},
     "output_type": "execute_result"
    }
   ],
   "source": [
    "import sklearn\n",
    "from sklearn.discriminant_analysis import QuadraticDiscriminantAnalysis\n",
    "from sklearn.model_selection import train_test_split\n",
    "from sklearn.svm import SVC\n",
    "#class0 = np.load(\"/home/tux/rnpe/mycode/xmMCMCLampe.npy\")\n",
    "#class0 = x_samples\n",
    "#class1 = np.load(\"/home/tux/rnpe/denoise_xm_paper.npy\",allow_pickle=True)\n",
    "#class0 = q_x_NF.forward().sample(class1.shape).detach().numpy()\n",
    "class0_labels = np.zeros(len(class0))\n",
    "class1_labels = np.ones(class1.shape[0])\n",
    "data = np.concatenate((class0,class1), axis=0)\n",
    "labels = np.concatenate((class0_labels, class1_labels), axis=0)\n",
    "X_train, X_test, y_train, y_test = train_test_split(data,labels)\n",
    "\n",
    "clf = QuadraticDiscriminantAnalysis()\n",
    "clf.fit(X_train, y_train)\n",
    "\n",
    "y_pred = clf.predict(X_test)\n",
    "acc = sklearn.metrics.accuracy_score(y_test,y_pred)\n",
    "acc"
   ]
  },
  {
   "attachments": {},
   "cell_type": "markdown",
   "metadata": {},
   "source": [
    "Sample theta ~q(theta | xm), m = 1, ..., M"
   ]
  },
  {
   "cell_type": "code",
   "execution_count": null,
   "metadata": {},
   "outputs": [],
   "source": [
    "with torch.no_grad():\n",
    "    thetasm = q_NPE.sample(xm_samples)"
   ]
  },
  {
   "cell_type": "code",
   "execution_count": null,
   "metadata": {},
   "outputs": [],
   "source": [
    "def my_coverage(q_NPE, theta_star, y_star, alpha):\n",
    "    cov = 0\n",
    "    for i in range(len(theta_star)):\n",
    "        q = q_NPE(theta_star[i], y_star[i])\n",
    "        cr = np.percentile(q.detach().numpy(), [100*alpha/2, 100*(1-alpha/2)])\n",
    "        if theta_star[i] >= cr[0] and theta_star[i] <= cr[1]:\n",
    "            cov +=1\n",
    "    return cov"
   ]
  },
  {
   "cell_type": "code",
   "execution_count": null,
   "metadata": {},
   "outputs": [],
   "source": [
    "xm_samples_ = xm_samples[0:5000]"
   ]
  },
  {
   "cell_type": "code",
   "execution_count": null,
   "metadata": {},
   "outputs": [],
   "source": [
    "test = lampe.data.JointDataset(theta_star.unsqueeze_(1),xm_samples_)"
   ]
  },
  {
   "cell_type": "code",
   "execution_count": null,
   "metadata": {},
   "outputs": [
    {
     "name": "stderr",
     "output_type": "stream",
     "text": [
      "100%|██████████| 5000/5000 [02:25<00:00, 34.31pair/s]\n"
     ]
    },
    {
     "data": {
      "image/png": "[encoded data removed]",
      "text/plain": [
       "<Figure size 320x320 with 1 Axes>"
      ]
     },
     "metadata": {},
     "output_type": "display_data"
    }
   ],
   "source": [
    "from lampe.diagnostics import expected_coverage_mc, expected_coverage_ni\n",
    "npe_levels, npe_coverages = expected_coverage_mc(q_NPE.flow, dataset_star)#TODO essayer ici de changer params\n",
    "from lampe.plots import nice_rc, coverage_plot\n",
    "fig = coverage_plot(npe_levels, npe_coverages, legend='NPE')"
   ]
  },
  {
   "cell_type": "code",
   "execution_count": null,
   "metadata": {},
   "outputs": [
    {
     "name": "stderr",
     "output_type": "stream",
     "text": [
      "  0%|          | 0/5000 [00:00<?, ?pair/s]\n"
     ]
    },
    {
     "ename": "TypeError",
     "evalue": "forward() missing 1 required positional argument: 'x'",
     "output_type": "error",
     "traceback": [
      "\u001b[0;31m---------------------------------------------------------------------------\u001b[0m",
      "\u001b[0;31mTypeError\u001b[0m                                 Traceback (most recent call last)",
      "Cell \u001b[0;32mIn[192], line 4\u001b[0m\n\u001b[1;32m      1\u001b[0m \u001b[39m#TODO Plot le NPE aussi mais il faut faire prendre les xm ?\u001b[39;00m\n\u001b[1;32m      3\u001b[0m \u001b[39mfrom\u001b[39;00m \u001b[39mlampe\u001b[39;00m\u001b[39m.\u001b[39;00m\u001b[39mdiagnostics\u001b[39;00m \u001b[39mimport\u001b[39;00m expected_coverage_mc, expected_coverage_ni\n\u001b[0;32m----> 4\u001b[0m npe_levels, npe_coverages \u001b[39m=\u001b[39m expected_coverage_mc(q_NPE, test)\u001b[39m#TODO essayer ici de changer params\u001b[39;00m\n\u001b[1;32m      5\u001b[0m \u001b[39mfrom\u001b[39;00m \u001b[39mlampe\u001b[39;00m\u001b[39m.\u001b[39;00m\u001b[39mplots\u001b[39;00m \u001b[39mimport\u001b[39;00m nice_rc, coverage_plot\n\u001b[1;32m      6\u001b[0m fig \u001b[39m=\u001b[39m coverage_plot(npe_levels, npe_coverages, legend\u001b[39m=\u001b[39m\u001b[39m'\u001b[39m\u001b[39mNPE\u001b[39m\u001b[39m'\u001b[39m)\n",
      "File \u001b[0;32m~/miniconda3/envs/rnpe_env/lib/python3.9/site-packages/lampe/diagnostics.py:62\u001b[0m, in \u001b[0;36mexpected_coverage_mc\u001b[0;34m(posterior, pairs, n)\u001b[0m\n\u001b[1;32m     60\u001b[0m \u001b[39mwith\u001b[39;00m torch\u001b[39m.\u001b[39mno_grad():\n\u001b[1;32m     61\u001b[0m     \u001b[39mfor\u001b[39;00m theta, x \u001b[39min\u001b[39;00m tqdm(pairs, unit\u001b[39m=\u001b[39m\u001b[39m'\u001b[39m\u001b[39mpair\u001b[39m\u001b[39m'\u001b[39m):\n\u001b[0;32m---> 62\u001b[0m         dist \u001b[39m=\u001b[39m posterior(x)\n\u001b[1;32m     64\u001b[0m         samples \u001b[39m=\u001b[39m dist\u001b[39m.\u001b[39msample((n,))\n\u001b[1;32m     65\u001b[0m         mask \u001b[39m=\u001b[39m dist\u001b[39m.\u001b[39mlog_prob(theta) \u001b[39m<\u001b[39m dist\u001b[39m.\u001b[39mlog_prob(samples)\n",
      "File \u001b[0;32m~/miniconda3/envs/rnpe_env/lib/python3.9/site-packages/torch/nn/modules/module.py:1501\u001b[0m, in \u001b[0;36mModule._call_impl\u001b[0;34m(self, *args, **kwargs)\u001b[0m\n\u001b[1;32m   1496\u001b[0m \u001b[39m# If we don't have any hooks, we want to skip the rest of the logic in\u001b[39;00m\n\u001b[1;32m   1497\u001b[0m \u001b[39m# this function, and just call forward.\u001b[39;00m\n\u001b[1;32m   1498\u001b[0m \u001b[39mif\u001b[39;00m \u001b[39mnot\u001b[39;00m (\u001b[39mself\u001b[39m\u001b[39m.\u001b[39m_backward_hooks \u001b[39mor\u001b[39;00m \u001b[39mself\u001b[39m\u001b[39m.\u001b[39m_backward_pre_hooks \u001b[39mor\u001b[39;00m \u001b[39mself\u001b[39m\u001b[39m.\u001b[39m_forward_hooks \u001b[39mor\u001b[39;00m \u001b[39mself\u001b[39m\u001b[39m.\u001b[39m_forward_pre_hooks\n\u001b[1;32m   1499\u001b[0m         \u001b[39mor\u001b[39;00m _global_backward_pre_hooks \u001b[39mor\u001b[39;00m _global_backward_hooks\n\u001b[1;32m   1500\u001b[0m         \u001b[39mor\u001b[39;00m _global_forward_hooks \u001b[39mor\u001b[39;00m _global_forward_pre_hooks):\n\u001b[0;32m-> 1501\u001b[0m     \u001b[39mreturn\u001b[39;00m forward_call(\u001b[39m*\u001b[39;49margs, \u001b[39m*\u001b[39;49m\u001b[39m*\u001b[39;49mkwargs)\n\u001b[1;32m   1502\u001b[0m \u001b[39m# Do not call functions when jit is used\u001b[39;00m\n\u001b[1;32m   1503\u001b[0m full_backward_hooks, non_full_backward_hooks \u001b[39m=\u001b[39m [], []\n",
      "\u001b[0;31mTypeError\u001b[0m: forward() missing 1 required positional argument: 'x'"
     ]
    }
   ],
   "source": [
    "#TODO Plot le NPE aussi mais il faut faire prendre les xm ?\n",
    "\n",
    "from lampe.diagnostics import expected_coverage_mc, expected_coverage_ni\n",
    "npe_levels, npe_coverages = expected_coverage_mc(q_NPE, test)#TODO essayer ici de changer params\n",
    "from lampe.plots import nice_rc, coverage_plot\n",
    "fig = coverage_plot(npe_levels, npe_coverages, legend='NPE')"
   ]
  },
  {
   "cell_type": "code",
   "execution_count": null,
   "metadata": {},
   "outputs": [
    {
     "data": {
      "text/plain": [
       "(Array([-0.85242  ,  0.5124575], dtype=float32),\n",
       " Array(-0.03808814, dtype=float32))"
      ]
     },
     "execution_count": 144,
     "metadata": {},
     "output_type": "execute_result"
    }
   ],
   "source": [
    "q_x.bijection.inverse_and_log_abs_det_jacobian(x_jax[0])"
   ]
  },
  {
   "cell_type": "code",
   "execution_count": null,
   "metadata": {},
   "outputs": [],
   "source": [
    "def compute_log_prob(flow, thetas, x):\n",
    "    res = []\n",
    "    for i, theta in enumerate(thetas.unsqueeze_(1)):\n",
    "        xi = x[i]\n",
    "        log_prob = flow.flow(xi).log_prob(theta) \n",
    "        res.append(log_prob.detach().item())\n",
    "    return res"
   ]
  },
  {
   "cell_type": "code",
   "execution_count": null,
   "metadata": {},
   "outputs": [],
   "source": [
    "log_probs_RNPE = compute_log_prob(q_NPE, theta_star, xm_samples)\n",
    "log_probs_NPE = compute_log_prob(q_NPE, theta_star, x)"
   ]
  },
  {
   "cell_type": "code",
   "execution_count": null,
   "metadata": {},
   "outputs": [
    {
     "data": {
      "text/plain": [
       "{'whiskers': [<matplotlib.lines.Line2D at 0x7fe1d77dcaf0>,\n",
       "  <matplotlib.lines.Line2D at 0x7fe1d77dcd90>,\n",
       "  <matplotlib.lines.Line2D at 0x7fe1d77ebdc0>,\n",
       "  <matplotlib.lines.Line2D at 0x7fe1d78210a0>],\n",
       " 'caps': [<matplotlib.lines.Line2D at 0x7fe1d77eb070>,\n",
       "  <matplotlib.lines.Line2D at 0x7fe1d77eb310>,\n",
       "  <matplotlib.lines.Line2D at 0x7fe1d7821340>,\n",
       "  <matplotlib.lines.Line2D at 0x7fe1d78215e0>],\n",
       " 'boxes': [<matplotlib.lines.Line2D at 0x7fe1d77dc850>,\n",
       "  <matplotlib.lines.Line2D at 0x7fe1d77ebb20>],\n",
       " 'medians': [<matplotlib.lines.Line2D at 0x7fe1d77eb5b0>,\n",
       "  <matplotlib.lines.Line2D at 0x7fe1d7821880>],\n",
       " 'fliers': [<matplotlib.lines.Line2D at 0x7fe1d77eb850>,\n",
       "  <matplotlib.lines.Line2D at 0x7fe1d7821b20>],\n",
       " 'means': []}"
      ]
     },
     "execution_count": 167,
     "metadata": {},
     "output_type": "execute_result"
    },
    {
     "data": {
      "image/png": "[encoded data removed]",
      "text/plain": [
       "<Figure size 640x480 with 1 Axes>"
      ]
     },
     "metadata": {},
     "output_type": "display_data"
    }
   ],
   "source": [
    "plt.boxplot([log_probs_NPE, log_probs_RNPE])"
   ]
  },
  {
   "attachments": {},
   "cell_type": "markdown",
   "metadata": {},
   "source": [
    "Il faut aussi faire les 2 autres simu cad NPE (comme avant) et en mettant directement le modele d'erreur dans le simu"
   ]
  },
  {
   "cell_type": "code",
   "execution_count": null,
   "metadata": {},
   "outputs": [],
   "source": [
    "def noisy_simulator():\n",
    "    #Sample the parameters theta [mu]\n",
    "    sigma = 0.01\n",
    "    tau = 0.25\n",
    "    rho = 1/2\n",
    "    x_noisy_raw, theta_noisy_raw = x_raw, theta_raw\n",
    "    x_noisy_test, theta_noisy_test = x_test, theta_test\n",
    "\n",
    "    for i, x in enumerate(x_noisy_raw):\n",
    "        spike_dist = torch.distributions.Normal(x, torch.Tensor([sigma]))\n",
    "        slab_dist = torch.distributions.Cauchy(x, torch.Tensor([tau]))\n",
    "        spike = ((1 - rho) *spike_dist.sample((1, )))[0]\n",
    "        slab = (rho * slab_dist.sample((1, )))[0]\n",
    "        x_noisy_raw[i] += spike + slab\n",
    "    for i, x in enumerate(x_noisy_test):\n",
    "        spike_dist = torch.distributions.Normal(x, torch.Tensor([sigma]))\n",
    "        slab_dist = torch.distributions.Cauchy(x, torch.Tensor([tau]))\n",
    "        spike = ((1 - rho) *spike_dist.sample((1, )))[0]\n",
    "        slab = (rho * slab_dist.sample((1, )))[0]\n",
    "        x_noisy_test += spike + slab\n",
    "    x_noisy = scale(x_noisy_test)\n",
    "    theta_noisy = scale(theta_noisy_raw)\n",
    "    return x_noisy, theta_noisy, x_noisy_test, theta_noisy_test\n",
    "        "
   ]
  },
  {
   "cell_type": "code",
   "execution_count": null,
   "metadata": {},
   "outputs": [],
   "source": [
    "X_noisy, thetas, X_noisy_test, thetas_test = noisy_simulator()"
   ]
  },
  {
   "cell_type": "code",
   "execution_count": null,
   "metadata": {},
   "outputs": [],
   "source": [
    "q_NPE_noisy = zuko.flows.NSF(features=1, context=2, bins=10, transforms=5) #TODO! Continuer ICI"
   ]
  }
 ],
 "metadata": {
  "kernelspec": {
   "display_name": "rnpe_env",
   "language": "python",
   "name": "python3"
  },
  "language_info": {
   "codemirror_mode": {
    "name": "ipython",
    "version": 3
   },
   "file_extension": ".py",
   "mimetype": "text/x-python",
   "name": "python",
   "nbconvert_exporter": "python",
   "pygments_lexer": "ipython3",
   "version": "3.9.16"
  },
  "orig_nbformat": 4
 },
 "nbformat": 4,
 "nbformat_minor": 2
}
