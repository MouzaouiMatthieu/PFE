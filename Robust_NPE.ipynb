{
 "cells": [
  {
   "cell_type": "code",
   "execution_count": 41,
   "metadata": {},
   "outputs": [],
   "source": [
    "import os\n",
    "from itertools import islice\n",
    "\n",
    "import numpy as np\n",
    "import matplotlib.pyplot as plt\n",
    "import tqdm\n",
    "\n",
    "import torch\n",
    "from torch.utils.data import TensorDataset, DataLoader\n",
    "\n",
    "import sklearn\n",
    "from sklearn.discriminant_analysis import QuadraticDiscriminantAnalysis, LinearDiscriminantAnalysis\n",
    "from sklearn.model_selection import train_test_split\n",
    "from sklearn.svm import SVC\n",
    "\n",
    "import zuko\n",
    "import lampe.inference\n",
    "import lampe.utils\n"
   ]
  },
  {
   "cell_type": "code",
   "execution_count": 42,
   "metadata": {},
   "outputs": [
    {
     "data": {
      "text/plain": [
       "dict_keys(['theta', 'theta_true', 'x', 'y', 'y_raw'])"
      ]
     },
     "execution_count": 42,
     "metadata": {},
     "output_type": "execute_result"
    }
   ],
   "source": [
    "data_papier = np.load(\"/home/tux/rnpe/data.npy\",allow_pickle=True)\n",
    "data_papier.item().keys()"
   ]
  },
  {
   "cell_type": "code",
   "execution_count": 43,
   "metadata": {},
   "outputs": [],
   "source": [
    "prior_over_mu = torch.distributions.Normal(torch.zeros(1), torch.ones(1)*5)"
   ]
  },
  {
   "cell_type": "code",
   "execution_count": 44,
   "metadata": {},
   "outputs": [],
   "source": [
    "mu = data_papier.item()['theta_true'].item()\n",
    "mu = prior_over_mu.sample().item()\n",
    "\n",
    "theta_papier = data_papier.item()['theta']\n",
    "\n",
    "x_papier = data_papier.item()['x']\n",
    "\n",
    "y_papier = data_papier.item()['y']\n",
    "\n",
    "y_raw_papier = data_papier.item()['y_raw']"
   ]
  },
  {
   "cell_type": "code",
   "execution_count": 45,
   "metadata": {},
   "outputs": [],
   "source": [
    "mu=0"
   ]
  },
  {
   "cell_type": "code",
   "execution_count": 46,
   "metadata": {},
   "outputs": [],
   "source": [
    "N = 50000\n",
    "sigma = 0.01\n",
    "tau = 0.25\n",
    "rho = 1/2"
   ]
  },
  {
   "attachments": {},
   "cell_type": "markdown",
   "metadata": {},
   "source": [
    "Utils"
   ]
  },
  {
   "cell_type": "code",
   "execution_count": 47,
   "metadata": {},
   "outputs": [],
   "source": [
    "def generate_observed_corrupted_data(N: int, mu: float, epsilon: float) -> torch.Tensor:\n",
    "    \"\"\"Generates the corrupted \"y\" from N(mu, 1+epsilon)\n",
    "\n",
    "    Args:\n",
    "        N (int): Number of observations\n",
    "        mu (float): True parameter\n",
    "        epsilon (float): Added corruption\n",
    "\n",
    "    Returns:\n",
    "        torch.Tensor: tensor of y, dim(N, 2)\n",
    "    \"\"\"\n",
    "    zx = mu + torch.distributions.Normal(0, 1).sample((N, 100)) #N(mu,1)\n",
    "    zy = zx + torch.distributions.Normal(0, epsilon).sample(zx.shape)#N(mu, 1+epsilon)\n",
    "    y_raw = torch.cat((zy.mean(dim=1, keepdim=True), zy.var(dim=1, keepdim=True)), dim=-1)\n",
    "    return y_raw"
   ]
  },
  {
   "cell_type": "code",
   "execution_count": 48,
   "metadata": {},
   "outputs": [],
   "source": [
    "def simulator(N_train: int,N_test: int, prior: torch.distributions) -> tuple:\n",
    "    \"\"\"Generates x as a summary (mea, var) of samples from N(theta, 1), theta ~ prior\n",
    "\n",
    "    Args:\n",
    "        N_train (int): Number of simulation for the train\n",
    "        N_test (int): Number of simulation for the test\n",
    "        prior (torch.distributions): prior over theta\n",
    "\n",
    "    Returns:\n",
    "        tuple (torch.Tensor, torch.Tensor): theta dim(N,), x_raw dim(N,2): the thetas and their correspond x\n",
    "    \"\"\"\n",
    "    N = N_train + N_test\n",
    "    theta = prior.sample((N, ))\n",
    "    sample = torch.distributions.Normal(theta, 1.0).sample((100, )) #N(theta,1)\n",
    "    x_raw = torch.cat((sample.mean(dim=0, keepdim=True), sample.var(dim=0, keepdim=True)), dim=-1).squeeze_()\n",
    "    return theta, x_raw\n"
   ]
  },
  {
   "cell_type": "code",
   "execution_count": 49,
   "metadata": {},
   "outputs": [],
   "source": [
    "def scale(quantity):\n",
    "    means = quantity.mean(0)\n",
    "    stds = quantity.std(0)\n",
    "    return (quantity-means)/stds, means, stds"
   ]
  },
  {
   "cell_type": "code",
   "execution_count": 50,
   "metadata": {},
   "outputs": [],
   "source": [
    "#Splitting theta,x into train & test sets, and scaling them\n",
    "theta_raw_f, x_raw_f = simulator(N, N//10, prior_over_mu)\n",
    "x, x_test = x_raw_f.split(N)\n",
    "x, x_mean, x_std = scale(x)\n",
    "x_test, x_test_mean, x_test_std = scale(x_test)\n",
    "theta, theta_test = theta_raw_f.split(N)\n",
    "theta, theta_mean, theta_std = scale(theta)\n",
    "theta_test, theta_test_mean, theta_test_std = scale(theta_test)\n",
    "\n",
    "dataset = lampe.data.JointDataset(theta, x)\n",
    "dataset_test = lampe.data.JointDataset(theta_test, x_test)"
   ]
  },
  {
   "cell_type": "code",
   "execution_count": 51,
   "metadata": {},
   "outputs": [
    {
     "data": {
      "text/plain": [
       "tensor([-0.0388,  5.9182])"
      ]
     },
     "execution_count": 51,
     "metadata": {},
     "output_type": "execute_result"
    }
   ],
   "source": [
    "#Generating the observed corrupted data y \n",
    "epsilon = 1\n",
    "y_raw = generate_observed_corrupted_data(N, mu, epsilon)\n",
    "#Taking y0 a particular observation\n",
    "y = (y_raw[0] - x_mean) / x_std\n",
    "y"
   ]
  },
  {
   "attachments": {},
   "cell_type": "markdown",
   "metadata": {},
   "source": [
    "Simulation (line 1 & 2 of Algorithm 1)"
   ]
  },
  {
   "cell_type": "code",
   "execution_count": 52,
   "metadata": {},
   "outputs": [],
   "source": [
    "def train_NPE(flow: lampe.inference.NPE, data: lampe.data.JointDataset, loss: callable,theta_test: torch.Tensor, x_test: torch.Tensor, learning_rate: float=5*10e-4, max_epochs: int=50,batch_size: int=256, patience: int=5) -> lampe.inference.NPE:\n",
    "    \"\"\"Trains a NPE.\n",
    "\n",
    "    Args:\n",
    "        flow (lampe.inference.NPE): A instanciated flow\n",
    "        data (lampe.data.JointDataset): dataset (theta, x)\n",
    "        loss (callable): a loss function\n",
    "        theta_test (torch.Tensor): test batch\n",
    "        x_test (torch.Tensor): test batch\n",
    "        learning_rate (float, optional): Default is 5*10e-4.\n",
    "        max_epochs (int, optional): Default is 50.\n",
    "        batch_size (int, optional): Default is 256.\n",
    "        patience (int, optional): Default is 5.\n",
    "\n",
    "    Returns:\n",
    "        lampe.inference.NPE: the trained NPE\n",
    "    \"\"\"\n",
    "    \n",
    "    #Optim\n",
    "    optimizer = torch.optim.Adam(flow.parameters(), learning_rate)\n",
    "    step = lampe.utils.GDStep(optimizer)\n",
    "    #Creates the loader\n",
    "    loader = lampe.data.DataLoader(data, batch_size)\n",
    "    #For early stopping\n",
    "    with torch.no_grad():\n",
    "        min_loss = loss(theta_test,x_test)\n",
    "    min_loss_list = [min_loss]\n",
    "    \n",
    "    flow.train()\n",
    "\n",
    "    for epoch in tqdm.tqdm(range(max_epochs),\"q_NPE training\"):\n",
    "        \n",
    "        for theta_batch, x_batch in loader:\n",
    "            \n",
    "            losses = loss(theta_batch, x_batch)\n",
    "            optimizer.zero_grad()\n",
    "            losses.backward()\n",
    "            optimizer.step()\n",
    "        \n",
    "        #Checking for early stopping\n",
    "        with torch.no_grad():\n",
    "            loss_test = loss(theta_test, x_test)\n",
    "            min_loss_list.append(loss_test)\n",
    "            if len(min_loss_list) - np.argmin(min_loss_list) > patience:\n",
    "                print(f\" Early stop at epoch {epoch}\")\n",
    "                break\n",
    "    flow.eval()\n",
    "    return flow"
   ]
  },
  {
   "cell_type": "code",
   "execution_count": 53,
   "metadata": {},
   "outputs": [],
   "source": [
    "def train_unconditional(flow: zuko.flows, x: torch.Tensor, x_test: torch.Tensor, loss: callable, learning_rate: float=1e-2,max_epochs: int=50, batch_size: int=256, patience: int=5) -> zuko.flows:\n",
    "    \"\"\"Train an unconditional flow\n",
    "\n",
    "    Args:\n",
    "        flow (zuko.flows): A instanciated flow\n",
    "        x (torch.Tensor): \n",
    "        x_test (torch.Tensor): test batch\n",
    "        loss (callable): a loss function\n",
    "        learning_rate (float, optional): Defaults to 1e-3.\n",
    "        max_epochs (int, optional): Defaults to 50.\n",
    "        batch_size (int, optional): Defaults to 256.\n",
    "        patience (int, optional): Defaults to 5.\n",
    "\n",
    "    Returns:\n",
    "        zuko.flow: the trained flow\n",
    "    \"\"\"\n",
    "    \n",
    "    #Optim\n",
    "    optimizer = torch.optim.Adam(flow.parameters(), learning_rate)\n",
    "    \n",
    "    #Creates the loader\n",
    "    loader = torch.utils.data.DataLoader(x, batch_size)\n",
    "    min_loss_list = []\n",
    "    #Early stopping\n",
    "    with torch.no_grad():\n",
    "        min_loss = loss(x_test)\n",
    "    min_loss_list = [min_loss]\n",
    "    \n",
    "    flow.train()\n",
    "    for epoch in tqdm.tqdm(range(max_epochs),\"q_x training\"):\n",
    "        \n",
    "        for x_batch in loader:\n",
    "        \n",
    "            losses = loss(x_batch)\n",
    "            optimizer.zero_grad()\n",
    "            losses.backward()\n",
    "            optimizer.step()\n",
    "        #Checking for early stopping\n",
    "        with torch.no_grad():\n",
    "            loss_test = loss(x_test)\n",
    "            min_loss_list.append(loss_test)\n",
    "            if len(min_loss_list) - np.argmin(min_loss_list) > patience:\n",
    "                print(f\"Early stop at epoch {epoch}\")\n",
    "                break\n",
    "    return flow"
   ]
  },
  {
   "attachments": {},
   "cell_type": "markdown",
   "metadata": {},
   "source": [
    "Train NPE q(theta|x) on the simulated dataset {(thetai, xi)}, i=1, ... N\n",
    "Uses a neural spline flow defining the transform on the interval [-5, 5] using 10  spline segments and 5 coupling layers. The base of the flow is a standard Gaussian distribution. "
   ]
  },
  {
   "cell_type": "code",
   "execution_count": 54,
   "metadata": {},
   "outputs": [
    {
     "name": "stderr",
     "output_type": "stream",
     "text": [
      "q_NPE training:  28%|██▊       | 14/50 [01:11<03:04,  5.12s/it]"
     ]
    },
    {
     "name": "stdout",
     "output_type": "stream",
     "text": [
      " Early stop at epoch 14\n"
     ]
    },
    {
     "name": "stderr",
     "output_type": "stream",
     "text": [
      "\n"
     ]
    }
   ],
   "source": [
    "def build_nsf(features, context):\n",
    "    \"\"\"Callable to instanciate the NPE with NSFs\"\"\"\n",
    "    return zuko.flows.NSF(features, context, bins=10, transforms=5)\n",
    "\n",
    "q_NPE = lampe.inference.NPE(theta_dim = 1, x_dim=2, build=build_nsf)\n",
    "loss_NPE = lampe.inference.NPELoss(q_NPE)\n",
    "q_NPE = train_NPE(q_NPE, dataset, loss_NPE, theta_test, x_test)"
   ]
  },
  {
   "cell_type": "code",
   "execution_count": 55,
   "metadata": {},
   "outputs": [
    {
     "name": "stderr",
     "output_type": "stream",
     "text": [
      "/home/tux/miniconda3/envs/rnpe_env/lib/python3.9/site-packages/matplotlib/cbook/__init__.py:1335: FutureWarning: The input object of type 'Tensor' is an array-like implementing one of the corresponding protocols (`__array__`, `__array_interface__` or `__array_struct__`); but not a sequence (or 0-D). In the future, this object will be coerced as if it was first converted using `np.array(obj)`. To retain the old behaviour, you have to either modify the type 'Tensor', or assign to an empty array created with `np.empty(correct_shape, dtype=object)`.\n",
      "  return np.asarray(x, float)\n"
     ]
    },
    {
     "data": {
      "image/png": "[encoded data removed]",
      "text/plain": [
       "<Figure size 640x480 with 1 Axes>"
      ]
     },
     "metadata": {},
     "output_type": "display_data"
    }
   ],
   "source": [
    "def plot_corruption_effect(epsilons: list, npe: lampe.inference.NPE) -> None:\n",
    "    \"\"\"Plots θ~q(θ|y), y~N(mu, 1+epsilon)\n",
    "\n",
    "    Args:\n",
    "        epsilons (list)\n",
    "        npe (lampe.inference.NPE)\n",
    "    \"\"\"\n",
    "    d = {}    \n",
    "    for epsilon in epsilons:\n",
    "        #Generating the y\n",
    "        y = generate_observed_corrupted_data(N,mu,epsilon)[0]\n",
    "        y = (y-x_mean)/x_std\n",
    "        d[epsilon] = npe.sample(y, (N, ))\n",
    "\n",
    "    colors = plt.cm.rainbow_r(np.linspace(0, 1, len(d)))\n",
    "    for i, (epsilon, posterior) in enumerate(d.items()):\n",
    "        plt.hist(posterior.detach().numpy(), bins=800, alpha=0.5, color=colors[i], label=f\"epsilon={epsilon}\", density=True)\n",
    "    plt.axvline((mu-theta_mean)/theta_std,color='purple')\n",
    "    plt.legend()\n",
    "    plt.ylim(top=10)\n",
    "    plt.xlim(-1,1)\n",
    "    plt.title(f\"Effects of epsilon on q(theta|y), mu = {mu}\")\n",
    "    plt.show()\n",
    "        \n",
    "plot_corruption_effect([0,1,2,3,4], q_NPE)\n",
    "        "
   ]
  },
  {
   "attachments": {},
   "cell_type": "markdown",
   "metadata": {},
   "source": [
    "### Sampling theta here as in the classic NPE framework"
   ]
  },
  {
   "cell_type": "code",
   "execution_count": 56,
   "metadata": {},
   "outputs": [],
   "source": [
    "thetas_NPE = q_NPE.sample(y, (N, ))"
   ]
  },
  {
   "attachments": {},
   "cell_type": "markdown",
   "metadata": {},
   "source": [
    "Train q(x) on {xi} i=1, ... N (so first gen the x)\n",
    "For q(x) uses of a block neural autoregressive flow, single hidden layer of size 8D, x in R^d"
   ]
  },
  {
   "cell_type": "code",
   "execution_count": 57,
   "metadata": {},
   "outputs": [
    {
     "name": "stderr",
     "output_type": "stream",
     "text": [
      "q_x training:  32%|███▏      | 16/50 [01:05<02:19,  4.11s/it]"
     ]
    },
    {
     "name": "stdout",
     "output_type": "stream",
     "text": [
      "Early stop at epoch 16\n"
     ]
    },
    {
     "name": "stderr",
     "output_type": "stream",
     "text": [
      "\n"
     ]
    }
   ],
   "source": [
    "q_x_NF = zuko.flows.NAF(features = 2, context=0, hidden_features=[8]*2)\n",
    "loss_q_x = lambda x: -q_x_NF().log_prob(x).mean()\n",
    "q_x_NF = train_unconditional(q_x_NF, x, x_test, loss_q_x)"
   ]
  },
  {
   "attachments": {},
   "cell_type": "markdown",
   "metadata": {},
   "source": [
    "Sample x~m from p(x | y0) % p(y0 \\ x) q(x), m = 1, ... M using MCMC"
   ]
  },
  {
   "attachments": {},
   "cell_type": "markdown",
   "metadata": {},
   "source": [
    "Spike and slab"
   ]
  },
  {
   "cell_type": "code",
   "execution_count": 58,
   "metadata": {},
   "outputs": [],
   "source": [
    "M = 100000\n",
    "warm_up_steps = 20000\n",
    "traj_length = 1\n",
    "target_acceptance_prob = 0.95"
   ]
  },
  {
   "attachments": {},
   "cell_type": "markdown",
   "metadata": {},
   "source": [
    "Suppose we observe y0"
   ]
  },
  {
   "attachments": {},
   "cell_type": "markdown",
   "metadata": {},
   "source": [
    "Sampling thetasm "
   ]
  },
  {
   "attachments": {},
   "cell_type": "markdown",
   "metadata": {},
   "source": [
    "Comparaisons"
   ]
  },
  {
   "cell_type": "code",
   "execution_count": 59,
   "metadata": {},
   "outputs": [],
   "source": [
    "def compare(flow,x,file):\n",
    "    class1 = file\n",
    "    post = flow.flow(x).sample((class1.shape[0], ))\n",
    "    print(post.shape)\n",
    "    #post = scale(post)\n",
    "    post_array = post.detach().numpy()\n",
    "    class0 = post_array\n",
    "    class0_labels = np.zeros(len(class0))\n",
    "    class1_labels = np.ones(len(class1))\n",
    "    data = np.concatenate((class0,class1), axis=0)\n",
    "    labels = np.concatenate((class0_labels, class1_labels), axis=0)\n",
    "    X_train, X_test, y_train, y_test = train_test_split(data,labels)\n",
    "\n",
    "    clf = QuadraticDiscriminantAnalysis()\n",
    "    clf.fit(X_train, y_train)\n",
    "\n",
    "    y_pred = clf.predict(X_test)\n",
    "    acc = sklearn.metrics.accuracy_score(y_test,y_pred)\n",
    "    return acc\n",
    "    "
   ]
  },
  {
   "attachments": {},
   "cell_type": "markdown",
   "metadata": {},
   "source": [
    "NPE "
   ]
  },
  {
   "cell_type": "code",
   "execution_count": 60,
   "metadata": {},
   "outputs": [
    {
     "data": {
      "image/png": "[encoded data removed]",
      "text/plain": [
       "<Figure size 640x480 with 1 Axes>"
      ]
     },
     "metadata": {},
     "output_type": "display_data"
    }
   ],
   "source": [
    "import seaborn as sns\n",
    "sns.kdeplot(thetas_NPE.squeeze().detach().numpy(),color='red', label='thetas_NPE 1')\n",
    "sns.kdeplot(np.load(\"/home/tux/rnpe/naive_samples_papers.npy\"),color='blue', label='thetas_NPE 2')\n",
    "\n",
    "plt.legend()\n",
    "plt.show()"
   ]
  },
  {
   "attachments": {},
   "cell_type": "markdown",
   "metadata": {},
   "source": [
    "Les thetasm directement"
   ]
  },
  {
   "cell_type": "code",
   "execution_count": 61,
   "metadata": {},
   "outputs": [],
   "source": [
    "#file = np.load(\"/home/tux/rnpe/robust_samples_paper.npy\", allow_pickle=True)\n",
    "#compare(q_NPE,xm_samples,file)"
   ]
  },
  {
   "cell_type": "code",
   "execution_count": 62,
   "metadata": {},
   "outputs": [],
   "source": [
    "x_props = q_x_NF().sample((warm_up_steps+M, ))"
   ]
  },
  {
   "cell_type": "code",
   "execution_count": 63,
   "metadata": {},
   "outputs": [],
   "source": [
    "x_props = x_props[~x_props.isinf().any(dim=1)]"
   ]
  },
  {
   "cell_type": "code",
   "execution_count": 64,
   "metadata": {},
   "outputs": [
    {
     "name": "stderr",
     "output_type": "stream",
     "text": [
      "Sampling xm using MH algorithm: 100%|██████████| 120000/120000 [00:46<00:00, 2581.80it/s]\n"
     ]
    }
   ],
   "source": [
    "def proposal(x_curr):\n",
    "    random_x = torch.randint(low=0, high= x_props.shape[0], size=(1, ))\n",
    "    return x_props[random_x][0]\n",
    "    #return q_x_NF().sample()\n",
    "    return x_curr + torch.distributions.Normal(0,1).sample(x_curr.shape)\n",
    "\n",
    "\n",
    "def f(y0, x): #% to p(x |y0)\n",
    "    D = 2\n",
    "    res = torch.zeros_like(y0)\n",
    "\n",
    "    \n",
    "    for j in range(D):\n",
    "        xj = x[j]\n",
    "        yj = y0[j]\n",
    "        zj = torch.distributions.Bernoulli(rho).sample()\n",
    "        if not zj:\n",
    "            spike_dist =  torch.distributions.Normal(xj.detach(), torch.tensor(sigma))\n",
    "            res[j] = torch.exp(spike_dist.log_prob(yj))\n",
    "\n",
    "            \n",
    "        else:\n",
    "            \n",
    "            slab_dist = torch.distributions.Cauchy(xj.detach(), torch.tensor(tau))\n",
    "            res[j] = torch.exp(slab_dist.log_prob(yj))\n",
    "\n",
    "    return res\n",
    "\n",
    "\n",
    "def mcmc(x0, warm_up_steps, M, y0):\n",
    "    x_curr = x0\n",
    "    my_samples = torch.empty((warm_up_steps+M, x0.shape[0]))\n",
    "    log_f_x_curr = f(y0, x_curr).log()\n",
    "    for i in tqdm.tqdm(range(warm_up_steps+M),\"Sampling xm using MH algorithm\"):\n",
    "        x_star = proposal(x_curr)\n",
    "        log_f_x_star = f(y0, x_star).log()\n",
    "\n",
    "        log_a = log_f_x_star - log_f_x_curr\n",
    "\n",
    "        a = torch.exp(log_a)\n",
    "\n",
    "    \n",
    "        u = torch.rand(a.shape).to(a)\n",
    "\n",
    "        mask = u < a\n",
    "\n",
    "        x_curr = torch.where(mask, x_star, x_curr)\n",
    "        log_f_x_curr = torch.where(mask, log_f_x_star, log_f_x_curr)\n",
    "    \n",
    "        my_samples[i] = x_curr\n",
    "    my_samples = my_samples[warm_up_steps:]\n",
    "    return my_samples\n",
    "\n",
    "my_samples = mcmc(torch.zeros_like(x[0]), warm_up_steps, M, y)"
   ]
  },
  {
   "cell_type": "code",
   "execution_count": 65,
   "metadata": {},
   "outputs": [],
   "source": [
    "x_0 = torch.rand_like(x[0])\n",
    "def f_lampe(x):\n",
    "    res = torch.rand_like(x_0)\n",
    "    for j, xj in enumerate(x):\n",
    "        zj = torch.distributions.Bernoulli(rho).sample()\n",
    "        if not zj:\n",
    "            dist=  torch.distributions.Normal(xj, sigma)\n",
    "        else:\n",
    "            dist = torch.distributions.Cauchy(xj, tau)\n",
    "        res[j] =  torch.exp(dist.log_prob(xj))\n",
    "    return torch.prod(res).detach()*torch.exp(q_x_NF().log_prob(x)).detach()\n",
    "sampler = lampe.inference.MetropolisHastings(x_0,f=f_lampe)\n",
    "#samples = [xmi for xmi in tqdm.tqdm(sampler(M,warm_up_steps),total=M)]"
   ]
  },
  {
   "cell_type": "code",
   "execution_count": 66,
   "metadata": {},
   "outputs": [],
   "source": [
    "\n",
    "thetas_m = q_NPE.sample(my_samples)"
   ]
  },
  {
   "cell_type": "code",
   "execution_count": 67,
   "metadata": {},
   "outputs": [
    {
     "data": {
      "text/plain": [
       "<Axes: ylabel='Density'>"
      ]
     },
     "execution_count": 67,
     "metadata": {},
     "output_type": "execute_result"
    },
    {
     "data": {
      "image/png": "[encoded data removed]",
      "text/plain": [
       "<Figure size 640x480 with 1 Axes>"
      ]
     },
     "metadata": {},
     "output_type": "display_data"
    }
   ],
   "source": [
    "sns.kdeplot(thetas_m)\n",
    "sns.kdeplot(thetas_NPE.squeeze(),c='red')"
   ]
  },
  {
   "cell_type": "code",
   "execution_count": 68,
   "metadata": {},
   "outputs": [
    {
     "name": "stderr",
     "output_type": "stream",
     "text": [
      "/home/tux/miniconda3/envs/rnpe_env/lib/python3.9/site-packages/matplotlib/cbook/__init__.py:1335: FutureWarning: The input object of type 'Tensor' is an array-like implementing one of the corresponding protocols (`__array__`, `__array_interface__` or `__array_struct__`); but not a sequence (or 0-D). In the future, this object will be coerced as if it was first converted using `np.array(obj)`. To retain the old behaviour, you have to either modify the type 'Tensor', or assign to an empty array created with `np.empty(correct_shape, dtype=object)`.\n",
      "  return np.asarray(x, float)\n"
     ]
    },
    {
     "data": {
      "image/png": "[encoded data removed]",
      "text/plain": [
       "<Figure size 900x300 with 2 Axes>"
      ]
     },
     "metadata": {},
     "output_type": "display_data"
    }
   ],
   "source": [
    "def plot_thetas_scaled(thetas_NPE, thetasm, theta_mean, theta_std, epsilon): #,thetas_NPE_noisy\n",
    "    plt.close()\n",
    "    n_bins= 300\n",
    "    plt.close()\n",
    "    fig, (ax1, ax2) = plt.subplots(1,2, figsize=(9, 3))\n",
    "    \n",
    "    ax1.hist(thetas_NPE.squeeze().detach().numpy(),bins=n_bins, alpha=0.5, color='r', label='NPE', density=True)\n",
    "    ax1.hist(thetasm.squeeze().detach().numpy(),bins=n_bins, alpha = 0.5, color='g', label='RNPE', density=True)\n",
    "    mu_sclaled = (mu - theta_mean)/theta_std\n",
    "    ax1.axvline(x=mu_sclaled,color=\"purple\")\n",
    "    ax1.axis(xmin=-5,xmax= 5)\n",
    "    ax1.axis(ymax=5)\n",
    "    ax1.legend()\n",
    "    ax1.set_title(\"Posterior density estimation\")\n",
    "    \n",
    "    ax2.hist(((thetas_NPE.squeeze() + theta_mean)*theta_std).detach().numpy(), bins=n_bins,alpha=0.5, color='r', label='NPE',density=True)\n",
    "    ax2.hist(((thetasm.squeeze()+theta_mean)*theta_std).detach().numpy(), bins=n_bins, alpha=0.5, color='g', label='RNPE', density=True)\n",
    "    ax2.axis(xmin=-7,xmax= 7)\n",
    "    ax2.axis(ymax=5)\n",
    "    ax2.axvline(x=mu,color=\"purple\")\n",
    "    ax2.legend()\n",
    "    ax2.set_title(\"Posterior density estimation, rescaled\")\n",
    "    \n",
    "    fig.suptitle(f\" Estimated thetas for epsilon = {epsilon}\")\n",
    "    fig.show()\n",
    "    \n",
    "\n",
    "plot_thetas_scaled(thetas_NPE, thetas_m, theta_mean, theta_std, epsilon)#,thetas_NPE_noisy)\n"
   ]
  },
  {
   "cell_type": "code",
   "execution_count": 69,
   "metadata": {},
   "outputs": [
    {
     "data": {
      "text/plain": [
       "<matplotlib.legend.Legend at 0x7efb77bd5fd0>"
      ]
     },
     "execution_count": 69,
     "metadata": {},
     "output_type": "execute_result"
    },
    {
     "data": {
      "image/png": "[encoded data removed]",
      "text/plain": [
       "<Figure size 640x480 with 1 Axes>"
      ]
     },
     "metadata": {},
     "output_type": "display_data"
    }
   ],
   "source": [
    "plt.scatter(x=x[:,0], y=x[:,1], color='blue', label=\"x\")\n",
    "plt.scatter(x=(y_raw[:,0]-x_mean[0])/x_std[0],y=(y_raw[:,1]-x_mean[1])/x_std[1],color='green',label=\"y\")\n",
    "#plt.scatter(x=my_samples[:,0], y=my_samples[:,1], color='yellow')\n",
    "plt.legend()"
   ]
  },
  {
   "cell_type": "code",
   "execution_count": 70,
   "metadata": {},
   "outputs": [
    {
     "data": {
      "text/plain": [
       "<Axes: ylabel='Density'>"
      ]
     },
     "execution_count": 70,
     "metadata": {},
     "output_type": "execute_result"
    },
    {
     "data": {
      "image/png": "[encoded data removed]",
      "text/plain": [
       "<Figure size 640x480 with 1 Axes>"
      ]
     },
     "metadata": {},
     "output_type": "display_data"
    }
   ],
   "source": [
    "n = 1\n",
    "mu_theory = ((y[0]*n)/(1+epsilon)) * (1/25 + n/(1+epsilon)**(-1))\n",
    "std_theory = np.sqrt((1/25 + n/(1+epsilon)**(-1)))\n",
    "true_post = torch.distributions.Normal(mu_theory, std_theory)\n",
    "true_post_samples = (true_post.sample((N, )) - theta_mean)/theta_std\n",
    "\n",
    "sns.kdeplot(true_post_samples.detach().numpy(), color='purple')\n",
    "sns.kdeplot(thetas_NPE.detach().numpy(), color='red')"
   ]
  },
  {
   "cell_type": "code",
   "execution_count": 71,
   "metadata": {},
   "outputs": [
    {
     "ename": "NameError",
     "evalue": "name 'stop' is not defined",
     "output_type": "error",
     "traceback": [
      "\u001b[0;31m---------------------------------------------------------------------------\u001b[0m",
      "\u001b[0;31mNameError\u001b[0m                                 Traceback (most recent call last)",
      "Cell \u001b[0;32mIn[71], line 1\u001b[0m\n\u001b[0;32m----> 1\u001b[0m stop\n",
      "\u001b[0;31mNameError\u001b[0m: name 'stop' is not defined"
     ]
    }
   ],
   "source": [
    "stop"
   ]
  },
  {
   "cell_type": "code",
   "execution_count": 73,
   "metadata": {},
   "outputs": [
    {
     "name": "stdout",
     "output_type": "stream",
     "text": [
      "Simulations\n"
     ]
    },
    {
     "name": "stderr",
     "output_type": "stream",
     "text": [
      "q_NPE training:  14%|█▍        | 7/50 [00:38<03:55,  5.48s/it]\n"
     ]
    },
    {
     "name": "stdout",
     "output_type": "stream",
     "text": [
      " Early stop at epoch 7\n"
     ]
    },
    {
     "name": "stderr",
     "output_type": "stream",
     "text": [
      "q_x training:  24%|██▍       | 12/50 [00:52<02:47,  4.40s/it]"
     ]
    },
    {
     "name": "stdout",
     "output_type": "stream",
     "text": [
      "Early stop at epoch 12\n",
      "Sampling from q_x\n"
     ]
    },
    {
     "name": "stderr",
     "output_type": "stream",
     "text": [
      "\n",
      "  0%|          | 0/6 [00:00<?, ?it/s]"
     ]
    },
    {
     "name": "stdout",
     "output_type": "stream",
     "text": [
      "Epsilon = 0\n",
      "\n"
     ]
    },
    {
     "name": "stderr",
     "output_type": "stream",
     "text": [
      "Sampling xm using MH algorithm: 100%|██████████| 120000/120000 [00:53<00:00, 2231.17it/s]\n"
     ]
    },
    {
     "name": "stdout",
     "output_type": "stream",
     "text": [
      "Sampling theta_m\n"
     ]
    },
    {
     "name": "stderr",
     "output_type": "stream",
     "text": [
      " 17%|█▋        | 1/6 [00:54<04:32, 54.53s/it]"
     ]
    },
    {
     "name": "stdout",
     "output_type": "stream",
     "text": [
      "Sampling from q_NPE\n",
      "Epsilon = 1\n",
      "\n"
     ]
    },
    {
     "name": "stderr",
     "output_type": "stream",
     "text": [
      "Sampling xm using MH algorithm: 100%|██████████| 120000/120000 [00:52<00:00, 2290.53it/s]\n"
     ]
    },
    {
     "name": "stdout",
     "output_type": "stream",
     "text": [
      "Sampling theta_m\n"
     ]
    },
    {
     "name": "stderr",
     "output_type": "stream",
     "text": [
      " 33%|███▎      | 2/6 [01:47<03:34, 53.75s/it]"
     ]
    },
    {
     "name": "stdout",
     "output_type": "stream",
     "text": [
      "Sampling from q_NPE\n",
      "Epsilon = 2\n",
      "\n"
     ]
    },
    {
     "name": "stderr",
     "output_type": "stream",
     "text": [
      "Sampling xm using MH algorithm: 100%|██████████| 120000/120000 [00:54<00:00, 2208.95it/s]\n"
     ]
    },
    {
     "name": "stdout",
     "output_type": "stream",
     "text": [
      "Sampling theta_m\n",
      "Sampling from q_NPE\n"
     ]
    },
    {
     "name": "stderr",
     "output_type": "stream",
     "text": [
      " 50%|█████     | 3/6 [02:42<02:43, 54.42s/it]"
     ]
    },
    {
     "name": "stdout",
     "output_type": "stream",
     "text": [
      "Epsilon = 3\n",
      "\n"
     ]
    },
    {
     "name": "stderr",
     "output_type": "stream",
     "text": [
      "Sampling xm using MH algorithm: 100%|██████████| 120000/120000 [00:47<00:00, 2543.54it/s]\n"
     ]
    },
    {
     "name": "stdout",
     "output_type": "stream",
     "text": [
      "Sampling theta_m\n"
     ]
    },
    {
     "name": "stderr",
     "output_type": "stream",
     "text": [
      " 67%|██████▋   | 4/6 [03:30<01:43, 51.87s/it]"
     ]
    },
    {
     "name": "stdout",
     "output_type": "stream",
     "text": [
      "Sampling from q_NPE\n",
      "Epsilon = 4\n",
      "\n"
     ]
    },
    {
     "name": "stderr",
     "output_type": "stream",
     "text": [
      "Sampling xm using MH algorithm: 100%|██████████| 120000/120000 [01:35<00:00, 1253.53it/s]\n"
     ]
    },
    {
     "name": "stdout",
     "output_type": "stream",
     "text": [
      "Sampling theta_m\n",
      "Sampling from q_NPE\n"
     ]
    },
    {
     "name": "stderr",
     "output_type": "stream",
     "text": [
      " 83%|████████▎ | 5/6 [05:07<01:07, 68.00s/it]"
     ]
    },
    {
     "name": "stdout",
     "output_type": "stream",
     "text": [
      "Epsilon = 5\n",
      "\n"
     ]
    },
    {
     "name": "stderr",
     "output_type": "stream",
     "text": [
      "Sampling xm using MH algorithm: 100%|██████████| 120000/120000 [02:27<00:00, 811.47it/s]\n"
     ]
    },
    {
     "name": "stdout",
     "output_type": "stream",
     "text": [
      "Sampling theta_m\n",
      "Sampling from q_NPE\n"
     ]
    },
    {
     "name": "stderr",
     "output_type": "stream",
     "text": [
      "100%|██████████| 6/6 [07:36<00:00, 76.08s/it]\n"
     ]
    }
   ],
   "source": [
    "def pipeline(epsilons, mu):\n",
    "    res = {}\n",
    "    M = 100000\n",
    "    warm_up_steps = 20000\n",
    "    print(\"Simulations\")\n",
    "    theta_raw_f, x_raw_f = simulator(N, N//10, prior_over_mu)\n",
    "    x, x_test = x_raw_f.split(N)\n",
    "    x, x_mean, x_std = scale(x)\n",
    "    x_test, x_test_mean, x_test_std = scale(x_test)\n",
    "    theta, theta_test = theta_raw_f.split(N)\n",
    "    theta, theta_mean, theta_std = scale(theta)\n",
    "    res['theta_mean'] = theta_mean\n",
    "    res['theta_std'] = theta_std\n",
    "    theta_test, theta_test_mean, theta_test_std = scale(theta_test)\n",
    "    dataset = lampe.data.JointDataset(theta, x)\n",
    "    dataset_test = lampe.data.JointDataset(theta_test, x_test)\n",
    "\n",
    "    q_NPE = lampe.inference.NPE(theta_dim = 1, x_dim=2, build=build_nsf)\n",
    "    loss_NPE = lampe.inference.NPELoss(q_NPE)\n",
    "    q_NPE = train_NPE(q_NPE, dataset, loss_NPE, theta_test, x_test)\n",
    "    \n",
    "    q_x_NF = zuko.flows.NAF(features = 2, context=0, hidden_features=[8]*2)\n",
    "    loss_q_x = lambda x: -q_x_NF().log_prob(x).mean()\n",
    "    q_x_NF = train_unconditional(q_x_NF, x, x_test, loss_q_x, patience=10)\n",
    "    \n",
    "    \n",
    "    print(\"Sampling from q_x\")\n",
    "    x_props = q_x_NF().sample((warm_up_steps+M, ))\n",
    "    x_props = x_props[~x_props.isinf().any(dim=1)]\n",
    "\n",
    "    for epsilon in tqdm.tqdm(epsilons, nested=True):\n",
    "        res[epsilon] = {}\n",
    "        print(f\"Epsilon = {epsilon}\\n\")\n",
    "        y_raw = generate_observed_corrupted_data(N, mu, epsilon)\n",
    "        y = (y_raw[0] - x_mean) / x_std\n",
    "        xm = mcmc(torch.zeros_like(x[0]), warm_up_steps, M, y)\n",
    "        print(\"Sampling theta_m\")\n",
    "        thetas_m = q_NPE.sample(xm)\n",
    "        print(\"Sampling from q_NPE\")\n",
    "        thetas_NPE = q_NPE.sample(y, (N, ))\n",
    "        res[epsilon]['theta_NPE'] = thetas_NPE\n",
    "        res[epsilon]['theta_RNPE'] = thetas_m\n",
    "    return res\n",
    "\n",
    "res = pipeline([0, 1, 2, 3, 4, 5],0)\n",
    "        "
   ]
  },
  {
   "cell_type": "code",
   "execution_count": 74,
   "metadata": {},
   "outputs": [
    {
     "name": "stdout",
     "output_type": "stream",
     "text": [
      "Overwriting\n"
     ]
    }
   ],
   "source": [
    "\n",
    "res_path = \"results.npy\"\n",
    "\n",
    "if os.path.isfile(res_path):\n",
    "    user_input = input(\"Overwrite results ? (y/n): \")\n",
    "    if user_input.lower() != \"y\":\n",
    "        exit()\n",
    "    else:\n",
    "        print(\"Overwriting\")\n",
    "        os.remove(res_path)\n",
    "        np.save(res_path, res)\n",
    "\n"
   ]
  },
  {
   "cell_type": "code",
   "execution_count": 75,
   "metadata": {},
   "outputs": [],
   "source": [
    "np.save(\"results\",res)"
   ]
  },
  {
   "cell_type": "code",
   "execution_count": 76,
   "metadata": {},
   "outputs": [],
   "source": [
    "import ipywidgets as widgets\n",
    "%matplotlib inline"
   ]
  },
  {
   "cell_type": "code",
   "execution_count": 77,
   "metadata": {},
   "outputs": [
    {
     "data": {
      "application/vnd.jupyter.widget-view+json": {
       "model_id": "b8dcae69450f48e9a64da62f030f1d75",
       "version_major": 2,
       "version_minor": 0
      },
      "text/plain": [
       "interactive(children=(IntSlider(value=2, description='epsilon', max=5), Output()), _dom_classes=('widget-inter…"
      ]
     },
     "metadata": {},
     "output_type": "display_data"
    }
   ],
   "source": [
    "@widgets.interact(epsilon=(0,5,1))\n",
    "def plot_npe_rnpe(epsilon=2):\n",
    "    \n",
    "    res_path = \"results.npy\"\n",
    "    res = np.load(res_path, allow_pickle=True)\n",
    "    npe = res.item()[epsilon]['theta_NPE']\n",
    "    rnpe = res.item()[epsilon]['theta_RNPE']\n",
    "    theta_mean = res.item()['theta_mean']\n",
    "    theta_std = res.item()['theta_std']\n",
    "    plot_thetas_scaled(npe,rnpe,theta_mean,theta_std,epsilon)\n"
   ]
  },
  {
   "cell_type": "code",
   "execution_count": 78,
   "metadata": {},
   "outputs": [
    {
     "ename": "NameError",
     "evalue": "name 'y0' is not defined",
     "output_type": "error",
     "traceback": [
      "\u001b[0;31m---------------------------------------------------------------------------\u001b[0m",
      "\u001b[0;31mNameError\u001b[0m                                 Traceback (most recent call last)",
      "Cell \u001b[0;32mIn[78], line 11\u001b[0m\n\u001b[1;32m      9\u001b[0m log_probs_NPE \u001b[39m=\u001b[39m []\n\u001b[1;32m     10\u001b[0m log_probs_RNPE \u001b[39m=\u001b[39m []\n\u001b[0;32m---> 11\u001b[0m \u001b[39mfor\u001b[39;00m y0 \u001b[39min\u001b[39;00m tqdm\u001b[39m.\u001b[39mtqdm(y_scaled[torch\u001b[39m.\u001b[39mrandperm(y_scaled\u001b[39m.\u001b[39mshape[\u001b[39m0\u001b[39m])[:\u001b[39m100\u001b[39m]],\u001b[39mf\u001b[39m\u001b[39m\"\u001b[39m\u001b[39m y = \u001b[39m\u001b[39m{\u001b[39;00my0\u001b[39m}\u001b[39;00m\u001b[39m\"\u001b[39m):\n\u001b[1;32m     12\u001b[0m     xm \u001b[39m=\u001b[39m mcmc(torch\u001b[39m.\u001b[39mones_like(x[\u001b[39m0\u001b[39m]),warm_up_steps, M, y0)\n\u001b[1;32m     13\u001b[0m     log_prob_NPE \u001b[39m=\u001b[39m q_NPE\u001b[39m.\u001b[39mflow(y0)\u001b[39m.\u001b[39mlog_prob(theta_star)\n",
      "\u001b[0;31mNameError\u001b[0m: name 'y0' is not defined"
     ]
    }
   ],
   "source": [
    "#TODO plot log probs : pour NPE ok pour RNPE sample les xm pour chaque y obs...\n",
    "\n",
    "\n",
    "\n",
    "\n",
    "#TODO Prendre un subset des y\n",
    "y_scaled = (y_raw - x_mean) / x_std\n",
    "theta_star = torch.Tensor([(mu-theta_mean)/theta_std])\n",
    "log_probs_NPE = []\n",
    "log_probs_RNPE = []\n",
    "for y0 in tqdm.tqdm(y_scaled[torch.randperm(y_scaled.shape[0])[:100]],f\" y = {y0}\"):\n",
    "    xm = mcmc(torch.ones_like(x[0]),warm_up_steps, M, y0)\n",
    "    log_prob_NPE = q_NPE.flow(y0).log_prob(theta_star)\n",
    "    log_prob_RNPE = q_NPE.flow(xm).log_prob(theta_star)\n",
    "    log_probs_NPE.append(log_prob_NPE.item())\n",
    "    log_probs_RNPE.append(log_prob_RNPE.item())\n",
    "    "
   ]
  }
 ],
 "metadata": {
  "kernelspec": {
   "display_name": "rnpe_env",
   "language": "python",
   "name": "python3"
  },
  "language_info": {
   "codemirror_mode": {
    "name": "ipython",
    "version": 3
   },
   "file_extension": ".py",
   "mimetype": "text/x-python",
   "name": "python",
   "nbconvert_exporter": "python",
   "pygments_lexer": "ipython3",
   "version": "3.9.16"
  },
  "orig_nbformat": 4
 },
 "nbformat": 4,
 "nbformat_minor": 2
}
