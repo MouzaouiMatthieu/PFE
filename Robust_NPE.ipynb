{
 "cells": [
  {
   "cell_type": "code",
   "execution_count": 69,
   "metadata": {},
   "outputs": [],
   "source": [
    "import torch\n",
    "import numpy as np\n",
    "from torch.utils.data import TensorDataset, DataLoader\n",
    "import zuko\n",
    "import lampe.inference, lampe.utils\n",
    "import matplotlib.pyplot as plt\n",
    "import tqdm"
   ]
  },
  {
   "cell_type": "code",
   "execution_count": 70,
   "metadata": {},
   "outputs": [],
   "source": [
    "N = 50000\n",
    "mu=0\n",
    "sigma = 0.01\n",
    "tau = 0.25\n",
    "rho = 1/2"
   ]
  },
  {
   "attachments": {},
   "cell_type": "markdown",
   "metadata": {},
   "source": [
    "Utils"
   ]
  },
  {
   "cell_type": "code",
   "execution_count": 71,
   "metadata": {},
   "outputs": [],
   "source": [
    "def generate_data(N, mu):\n",
    "    \n",
    "    sample = mu + torch.distributions.Normal(0, 1).sample((N, 100 ))\n",
    "    x_raw = torch.cat((sample.mean(dim=1, keepdim=True), sample.std(dim=1, keepdim=True)), dim=1)\n",
    "    \n",
    "    y_raw = x_raw + torch.distributions.Normal(0, 1).sample()\n",
    "    \n",
    "    return x_raw, y_raw\n",
    "    "
   ]
  },
  {
   "cell_type": "code",
   "execution_count": 72,
   "metadata": {},
   "outputs": [],
   "source": [
    "prior_over_mu = torch.distributions.Normal(torch.zeros(1), torch.ones(1)*25)"
   ]
  },
  {
   "cell_type": "code",
   "execution_count": 73,
   "metadata": {},
   "outputs": [],
   "source": [
    "def simulator(N_train,N_test, prior):\n",
    "    N = N_train + N_test\n",
    "    theta = prior.sample((N, ))\n",
    "    \n",
    "    sample = torch.distributions.Normal(theta.unsqueeze(1), 1.0).sample((100, ))\n",
    "    \n",
    "    x_raw = torch.cat((sample.mean(dim=0, keepdim=True), sample.std(dim=0, keepdim=True)), dim=2).squeeze_()\n",
    "    theta, theta_test = theta.split(N_train)\n",
    "    x_raw, x_raw_test = x_raw.split(N_train)\n",
    "    return theta, theta_test, x_raw, x_raw_test"
   ]
  },
  {
   "cell_type": "code",
   "execution_count": 74,
   "metadata": {},
   "outputs": [
    {
     "data": {
      "text/plain": [
       "tensor([-4.8828e-09,  5.3040e-07])"
      ]
     },
     "execution_count": 74,
     "metadata": {},
     "output_type": "execute_result"
    }
   ],
   "source": [
    "x.mean(0)"
   ]
  },
  {
   "cell_type": "code",
   "execution_count": 75,
   "metadata": {},
   "outputs": [],
   "source": [
    "theta, theta_test, x_raw, x_test_raw = simulator(N, N//10, prior_over_mu)\n",
    "\n",
    "x = (x_raw - x_raw.mean(0) ) / x_raw.std(0)\n",
    "x_test = (x_test_raw - x_test_raw.mean(0) ) / x_test_raw.std(0)"
   ]
  },
  {
   "cell_type": "code",
   "execution_count": 76,
   "metadata": {},
   "outputs": [],
   "source": [
    "dataset = lampe.data.JointDataset(theta, x)\n",
    "dataset_test = lampe.data.JointDataset(theta_test, x_test)\n",
    "_, y_raw = generate_data(N,5)\n",
    "y = (y_raw - y_raw.mean(0) ) / y_raw.std(0)"
   ]
  },
  {
   "cell_type": "markdown",
   "metadata": {},
   "source": [
    "def true_dgp(mus):\n",
    "    \"\"\"True Data Generating Process. Generates samples from N(mu, 2)\n",
    "\n",
    "    Args:\n",
    "        mus (torch.Tensor): mean\n",
    "\n",
    "    Returns:\n",
    "        res (torch.Tensor): tensor of means, std of the samples\n",
    "    \"\"\"\n",
    "    res = torch.empty((mus.shape[0], 2))\n",
    "    for i, mu in enumerate(mus):\n",
    "        \n",
    "        dist=  torch.distributions.Normal(mu, 2)\n",
    "        sample = dist.sample((100, ))\n",
    "        mean, var = torch.mean(sample).item(), torch.var(sample).item()\n",
    "        x = mean, var\n",
    "        res[i] = torch.tensor(x)\n",
    "    return res"
   ]
  },
  {
   "attachments": {},
   "cell_type": "markdown",
   "metadata": {},
   "source": [
    "Simulation (line 1 & 2 of Algorithm 1)"
   ]
  },
  {
   "cell_type": "markdown",
   "metadata": {},
   "source": [
    "def simulator(thetas: torch.Tensor):\n",
    "    \"\"\"Simulator, maps theta -> x = (mean, var)\n",
    "\n",
    "    Args:\n",
    "        thetas (torch.Tensor): Parameters\n",
    "\n",
    "    Returns:\n",
    "        torch.Tensor: Tensor of size (theta.size, 2) of (mean, var)\n",
    "    \"\"\"\n",
    "    N = thetas.size()[0]\n",
    "    x = torch.empty((N, 2))\n",
    "    for i, theta in enumerate(thetas):\n",
    "        dist = torch.distributions.Normal(theta, 1.0)\n",
    "        samples = dist.sample((100,))\n",
    "        means, var = torch.mean(samples), torch.var(samples)\n",
    "        x[i][0], x[i][1] = means, var\n",
    "    return x\n",
    "\n",
    "def scale(quantity):\n",
    "    '''\n",
    "    Standardizes the quantity\n",
    "    '''\n",
    "    means, std = quantity.mean(axis=0), quantity.std(axis=0)\n",
    "    quantity = quantity - means\n",
    "    quantity = quantity/std\n",
    "    return quantity\n",
    "def get_stats(quantity):\n",
    "    mean = quantity.mean(axis=0)\n",
    "    std = quantity.std(axis=0)\n",
    "    return mean, std\n",
    "\n",
    "stats = {}\n",
    "#Raw simulations\n",
    "theta = prior_over_mu.sample((N, ))\n",
    "stats[\"theta\"] = get_stats(theta)\n",
    "x_raw = simulator(theta)\n",
    "stats[\"x\"] = get_stats(x_raw)\n",
    "#Standardized versions\n",
    "\n",
    "x = scale(x_raw)\n",
    "dataset = lampe.data.JointDataset(theta, x)\n",
    "\n",
    "\n",
    "theta_test = scale(prior_over_mu.sample((N//10, )))\n",
    "x_test = scale(simulator(theta_test))\n",
    "dataset_test = lampe.data.JointDataset(theta_test, x_test)\n",
    "\n",
    "'''Creates a 'true' dataset (theta*, x*) ~ p(theta, x)'''\n",
    "\n",
    "\n",
    "thetas_star_raw = mu_dist.sample((N//10, ))\n",
    "stats[\"thetas_star\"] = get_stats(thetas_star_raw)\n",
    "thetas_star = scale(thetas_star_raw)\n",
    "y_star_raw = true_dgp(thetas_star)\n",
    "stats[\"y_star\"] = get_stats(y_star_raw)\n",
    "y_star = scale(y_star_raw)\n",
    "dataset_star = lampe.data.JointDataset(thetas_star.unsqueeze(1), y_star)\n",
    "\n",
    "def noisy_simulator():\n",
    "    \"\"\"Simulator taking the error model into account\n",
    "\n",
    "    Returns:\n",
    "        tuple: x_noisy, theta_noisy, x_noisy_test_raw, theta_noisy_test\n",
    "    \"\"\"\n",
    "    #Sample the parameters theta [mu]\n",
    "\n",
    "    x_noisy_raw, theta_noisy = x_raw.clone(), theta.clone()\n",
    "    x_noisy_test_raw, theta_noisy_test = x_test.clone(), theta_test.clone()\n",
    "\n",
    "    for i, x in enumerate(x_noisy_raw):\n",
    "        spike_dist = torch.distributions.Normal(x, sigma)\n",
    "        slab_dist = torch.distributions.Cauchy(x, tau)\n",
    "        spike = (1 - rho) *spike_dist.sample()\n",
    "        slab = rho * slab_dist.sample()\n",
    "        x_noisy_raw[i] += spike + slab\n",
    "    for i, x in enumerate(x_noisy_test_raw):\n",
    "        spike_dist = torch.distributions.Normal(x, torch.Tensor([sigma]))\n",
    "        slab_dist = torch.distributions.Cauchy(x, torch.Tensor([tau]))\n",
    "        spike = ((1 - rho) *spike_dist.sample((1, )))[0]\n",
    "        slab = (rho * slab_dist.sample((1, )))[0]\n",
    "        x_noisy_test_raw[i] += spike + slab\n",
    "    x_noisy = scale(x_noisy_raw)\n",
    "    return x_noisy, theta_noisy, x_noisy_test_raw, theta_noisy_test\n",
    "\n",
    "x_noisy, thetas_noisy, x_test_noisy, thetas_test_noisy = noisy_simulator()\n",
    "\n",
    "dataset_noisy = lampe.data.JointDataset(thetas_noisy, x_noisy)"
   ]
  },
  {
   "cell_type": "code",
   "execution_count": 77,
   "metadata": {},
   "outputs": [],
   "source": [
    "def train_NPE(flow, data, loss,theta_test, x_test, learning_rate=5*10e-4, max_epochs=50,batch_size=256,patience=5):\n",
    "    \"\"\"Trains a NPE.\n",
    "\n",
    "    Args:\n",
    "        flow (lampe.inference.NPE): A instanciated flow\n",
    "        data (lampe.data.JointDataset): dataset (theta, x)\n",
    "        loss (callable): a loss function\n",
    "        theta_test (torch.Tensor): test batch\n",
    "        x_test (torch.Tensor): test batch\n",
    "        learning_rate (float, optional): Defaults to 5*10e-4.\n",
    "        max_epochs (int, optional): Defaults to 50.\n",
    "        batch_size (int, optional): Defaults to 256.\n",
    "        patience (int, optional): Defaults to 5.\n",
    "\n",
    "    Returns:\n",
    "        lampe.inference.NPE: the trained NPE\n",
    "    \"\"\"\n",
    "    \n",
    "    #Optim\n",
    "    optimizer = torch.optim.Adam(flow.parameters(), learning_rate)\n",
    "    step = lampe.utils.GDStep(optimizer)\n",
    "    #Creates the loader\n",
    "    loader = lampe.data.DataLoader(data, batch_size)\n",
    "    #For early stopping\n",
    "    with torch.no_grad():\n",
    "        min_loss = loss(theta_test,x_test)\n",
    "    min_loss_list = [min_loss]\n",
    "    \n",
    "    flow.train()\n",
    "    batch_norm_x = torch.nn.BatchNorm1d(x_test.shape[1])\n",
    "    batch_norm_theta = torch.nn.BatchNorm1d(theta_test.shape[1])\n",
    "    for epoch in tqdm.tqdm(range(max_epochs)):\n",
    "        \n",
    "        for theta_batch_raw, x_batch_raw in loader:\n",
    "            theta_batch = batch_norm_theta(theta_batch_raw)\n",
    "            x_batch = batch_norm_x(x_batch_raw)\n",
    "            losses = loss(theta_batch, x_batch)\n",
    "            optimizer.zero_grad()\n",
    "            losses.backward()\n",
    "            optimizer.step()\n",
    "            \n",
    "            batch_norm_theta(theta_batch_raw)\n",
    "            batch_norm_x(x_batch_raw)\n",
    "        \n",
    "        #Checking for early stopping\n",
    "        with torch.no_grad():\n",
    "            loss_test = loss(theta_test, x_test)\n",
    "            min_loss_list.append(loss_test)\n",
    "            if len(min_loss_list) - np.argmin(min_loss_list) > patience:\n",
    "                print(f\" Early stop at epoch {epoch}\")\n",
    "                break\n",
    "    flow.eval()\n",
    "    return flow\n",
    "    "
   ]
  },
  {
   "cell_type": "code",
   "execution_count": 78,
   "metadata": {},
   "outputs": [],
   "source": [
    "def train_unconditional(flow, x, x_test, loss, learning_rate=1e-2,max_epochs=50, batch_size=256, patience=5):\n",
    "    \"\"\"Train an unconditional flow\n",
    "\n",
    "    Args:\n",
    "        flow (zuko.flow): A instanciated flow\n",
    "        x (torch.Tensor): \n",
    "        x_test (torch.Tensor): test batch\n",
    "        loss (callable): a loss function\n",
    "        learning_rate (float, optional): Defaults to 1e-3.\n",
    "        max_epochs (int, optional): Defaults to 50.\n",
    "        batch_size (int, optional): Defaults to 256.\n",
    "        patience (int, optional): Defaults to 5.\n",
    "\n",
    "    Returns:\n",
    "        zuko.flow: the trained flow\n",
    "    \"\"\"\n",
    "    \n",
    "    #Optim\n",
    "    optimizer = torch.optim.Adam(flow.parameters(), learning_rate)\n",
    "    \n",
    "    #Creates the loader\n",
    "    loader = torch.utils.data.DataLoader(x, batch_size)\n",
    "    min_loss_list = []\n",
    "    #Early stopping\n",
    "    with torch.no_grad():\n",
    "        min_loss = -loss(x_test)\n",
    "    min_loss_list = [min_loss]\n",
    "    \n",
    "    flow.train()\n",
    "    for epoch in tqdm.tqdm(range(max_epochs)):\n",
    "        \n",
    "        for x_batch in loader:\n",
    "                \n",
    "            losses = loss(x_batch)\n",
    "            optimizer.zero_grad()\n",
    "            losses.backward()\n",
    "            optimizer.step()\n",
    "        #Checking for early stopping\n",
    "        with torch.no_grad():\n",
    "            loss_test = loss(x_test)\n",
    "            min_loss_list.append(loss_test)\n",
    "            if len(min_loss_list) - np.argmin(min_loss_list) > patience:\n",
    "                print(f\"Early stop at epoch {epoch}\")\n",
    "                break\n",
    "    return flow"
   ]
  },
  {
   "attachments": {},
   "cell_type": "markdown",
   "metadata": {},
   "source": [
    "Train NPE q(theta|x) on the simulated dataset {(thetai, xi)}, i=1, ... N\n",
    "Uses a neural spline flow defining the transform on the interval [-5, 5] using 10  spline segments and 5 coupling layers. The base of the flow is a standard Gaussian distribution. "
   ]
  },
  {
   "cell_type": "code",
   "execution_count": 79,
   "metadata": {},
   "outputs": [
    {
     "name": "stderr",
     "output_type": "stream",
     "text": [
      "  8%|▊         | 4/50 [00:26<05:08,  6.70s/it]"
     ]
    },
    {
     "name": "stdout",
     "output_type": "stream",
     "text": [
      " Early stop at epoch 4\n"
     ]
    },
    {
     "name": "stderr",
     "output_type": "stream",
     "text": [
      "\n"
     ]
    },
    {
     "ename": "NameError",
     "evalue": "name 'dataset_noisy' is not defined",
     "output_type": "error",
     "traceback": [
      "\u001b[0;31m---------------------------------------------------------------------------\u001b[0m",
      "\u001b[0;31mNameError\u001b[0m                                 Traceback (most recent call last)",
      "Cell \u001b[0;32mIn[79], line 10\u001b[0m\n\u001b[1;32m      8\u001b[0m q_NPE_noisy \u001b[39m=\u001b[39m lampe\u001b[39m.\u001b[39minference\u001b[39m.\u001b[39mNPE(theta_dim\u001b[39m=\u001b[39m\u001b[39m1\u001b[39m,x_dim\u001b[39m=\u001b[39m\u001b[39m2\u001b[39m,build\u001b[39m=\u001b[39mbuild_nsf)\n\u001b[1;32m      9\u001b[0m loss_NPE_noisy \u001b[39m=\u001b[39m lampe\u001b[39m.\u001b[39minference\u001b[39m.\u001b[39mNPELoss(q_NPE_noisy)\n\u001b[0;32m---> 10\u001b[0m q_NPE_noisy \u001b[39m=\u001b[39m train_NPE(q_NPE_noisy, dataset_noisy, loss_NPE_noisy, thetas_test_noisy,x_test_noisy)\n",
      "\u001b[0;31mNameError\u001b[0m: name 'dataset_noisy' is not defined"
     ]
    }
   ],
   "source": [
    "\n",
    "def build_nsf(features, context):\n",
    "    \"\"\"Callable to instanciate the NPE with NSFs\"\"\"\n",
    "    return zuko.flows.NSF(features, context, bins=10, transforms=5)\n",
    "q_NPE = lampe.inference.NPE(theta_dim = 1, x_dim=2, build=build_nsf)\n",
    "loss_NPE = lampe.inference.NPELoss(q_NPE)\n",
    "q_NPE = train_NPE(q_NPE, dataset, loss_NPE, theta_test, x_test)\n",
    "'''\n",
    "q_NPE_noisy = lampe.inference.NPE(theta_dim=1,x_dim=2,build=build_nsf)\n",
    "loss_NPE_noisy = lampe.inference.NPELoss(q_NPE_noisy)\n",
    "q_NPE_noisy = train_NPE(q_NPE_noisy, dataset_noisy, loss_NPE_noisy, thetas_test_noisy,x_test_noisy)\n",
    "'''"
   ]
  },
  {
   "attachments": {},
   "cell_type": "markdown",
   "metadata": {},
   "source": [
    "### Sampling theta here as in the 'classic' NPE framework (i.e. assuming no error)"
   ]
  },
  {
   "cell_type": "code",
   "execution_count": 82,
   "metadata": {},
   "outputs": [],
   "source": [
    "thetas_NPE = q_NPE.sample(x)"
   ]
  },
  {
   "attachments": {},
   "cell_type": "markdown",
   "metadata": {},
   "source": [
    "Train q(x) on {xi} i=1, ... N (so first gen the x)\n",
    "For q(x) uses of a block neural autoregressive flow, single hidden layer of size 8D, x in R^d"
   ]
  },
  {
   "cell_type": "code",
   "execution_count": 83,
   "metadata": {},
   "outputs": [
    {
     "name": "stderr",
     "output_type": "stream",
     "text": [
      "  8%|▊         | 4/50 [00:09<01:46,  2.32s/it]"
     ]
    },
    {
     "name": "stdout",
     "output_type": "stream",
     "text": [
      "Early stop at epoch 4\n"
     ]
    },
    {
     "name": "stderr",
     "output_type": "stream",
     "text": [
      "\n"
     ]
    }
   ],
   "source": [
    "q_x_NF = zuko.flows.NAF(features = 2, context=0, hidden_features=[8]*2,transforms=1)\n",
    "loss_q_x = lambda x: -q_x_NF().log_prob(x).mean()\n",
    "q_x_NF = train_unconditional(q_x_NF, x, x_test, loss_q_x)"
   ]
  },
  {
   "attachments": {},
   "cell_type": "markdown",
   "metadata": {},
   "source": [
    "Sample x~m from p(x | y0) % p(y0 \\ x) q(x), m = 1, ... M using MCMC"
   ]
  },
  {
   "attachments": {},
   "cell_type": "markdown",
   "metadata": {},
   "source": [
    "Spike and slab"
   ]
  },
  {
   "cell_type": "code",
   "execution_count": 84,
   "metadata": {},
   "outputs": [],
   "source": [
    "M = 100000\n",
    "warm_up_steps = 20000\n",
    "traj_length = 1\n",
    "target_acceptance_prob = 0.95"
   ]
  },
  {
   "cell_type": "code",
   "execution_count": 85,
   "metadata": {},
   "outputs": [],
   "source": [
    "class MHQTransition(lampe.inference.MetropolisHastings):\n",
    "    def q(self, x:torch.Tensor):\n",
    "        return q_x_NF()"
   ]
  },
  {
   "cell_type": "code",
   "execution_count": 86,
   "metadata": {},
   "outputs": [],
   "source": [
    "device = torch.device('cuda' if torch.cuda.is_available() else 'cpu')"
   ]
  },
  {
   "cell_type": "markdown",
   "metadata": {},
   "source": [
    "Suppose we observe y0"
   ]
  },
  {
   "cell_type": "code",
   "execution_count": 87,
   "metadata": {},
   "outputs": [
    {
     "data": {
      "text/plain": [
       "tensor([7.0964, 3.0077])"
      ]
     },
     "execution_count": 87,
     "metadata": {},
     "output_type": "execute_result"
    }
   ],
   "source": [
    "y0 = y[0]\n",
    "y0"
   ]
  },
  {
   "cell_type": "code",
   "execution_count": 88,
   "metadata": {},
   "outputs": [],
   "source": [
    "def p_y_given_x(x):\n",
    "    z = torch.distributions.Bernoulli(rho).sample(x.shape)\n",
    "    res = 1\n",
    "    for j,x_j in enumerate(x):\n",
    "        zj=z[j]\n",
    "        if not zj:\n",
    "            dist=  torch.distributions.Normal(x_j, sigma)\n",
    "        else:\n",
    "            dist = torch.distributions.Cauchy(x_j, tau)\n",
    "        res *= dist.log_prob(y0).exp().sum()\n",
    "    return res\n",
    "\n",
    "def f(x):\n",
    "    qx = q_x_NF().log_prob(x).exp()\n",
    "    pyx = p_y_given_x(x)\n",
    "    return qx*pyx           \n",
    "            "
   ]
  },
  {
   "cell_type": "code",
   "execution_count": 89,
   "metadata": {},
   "outputs": [
    {
     "name": "stderr",
     "output_type": "stream",
     "text": [
      "100000it [04:27, 373.38it/s]\n"
     ]
    }
   ],
   "source": [
    "sampler = lampe.inference.MetropolisHastings(q_x_NF().sample(),f=f)\n",
    "with torch.no_grad():\n",
    "    xm_samples = [s for s in tqdm.tqdm(sampler(M+warm_up_steps,burn=warm_up_steps))]\n",
    "    xm_samples = torch.stack(xm_samples)"
   ]
  },
  {
   "cell_type": "code",
   "execution_count": 90,
   "metadata": {},
   "outputs": [],
   "source": [
    "import sklearn\n",
    "from sklearn.discriminant_analysis import QuadraticDiscriminantAnalysis, LinearDiscriminantAnalysis\n",
    "from sklearn.model_selection import train_test_split\n",
    "from sklearn.svm import SVC\n",
    "def compare(flow,x,file):\n",
    "    class1 = file\n",
    "    post = flow.flow(x).sample()\n",
    "    #post = scale(post)\n",
    "    post_array = post.detach().numpy()\n",
    "    class0 = post_array\n",
    "    class0_labels = np.zeros(len(class0))\n",
    "    class1_labels = np.ones(len(class1))\n",
    "    data = np.concatenate((class0,class1), axis=0)\n",
    "    labels = np.concatenate((class0_labels, class1_labels), axis=0)\n",
    "    X_train, X_test, y_train, y_test = train_test_split(data,labels)\n",
    "\n",
    "    clf = QuadraticDiscriminantAnalysis()\n",
    "    clf.fit(X_train, y_train)\n",
    "\n",
    "    y_pred = clf.predict(X_test)\n",
    "    acc = sklearn.metrics.accuracy_score(y_test,y_pred)\n",
    "    return acc\n",
    "    "
   ]
  },
  {
   "cell_type": "code",
   "execution_count": 91,
   "metadata": {},
   "outputs": [
    {
     "data": {
      "text/plain": [
       "0.9644"
      ]
     },
     "execution_count": 91,
     "metadata": {},
     "output_type": "execute_result"
    }
   ],
   "source": [
    "file = np.load(\"/home/tux/rnpe/robust_samples_paper.npy\", allow_pickle=True)\n",
    "compare(q_NPE,xm_samples,file)"
   ]
  },
  {
   "cell_type": "code",
   "execution_count": 105,
   "metadata": {},
   "outputs": [
    {
     "data": {
      "text/plain": [
       "device(type='cuda', index=0)"
      ]
     },
     "execution_count": 105,
     "metadata": {},
     "output_type": "execute_result"
    }
   ],
   "source": [
    "y0 = y0.to(device)\n",
    "y0.device"
   ]
  },
  {
   "cell_type": "code",
   "execution_count": 112,
   "metadata": {},
   "outputs": [
    {
     "name": "stderr",
     "output_type": "stream",
     "text": [
      "  0%|          | 0/120000 [00:00<?, ?it/s]\n"
     ]
    },
    {
     "ename": "RuntimeError",
     "evalue": "Expected all tensors to be on the same device, but found at least two devices, cuda:0 and cpu!",
     "output_type": "error",
     "traceback": [
      "\u001b[0;31m---------------------------------------------------------------------------\u001b[0m",
      "\u001b[0;31mRuntimeError\u001b[0m                              Traceback (most recent call last)",
      "Cell \u001b[0;32mIn[112], line 36\u001b[0m\n\u001b[1;32m     33\u001b[0m log_prob_accept \u001b[39m=\u001b[39m log_prob_proposal \u001b[39m-\u001b[39m log_prob_current\n\u001b[1;32m     35\u001b[0m \u001b[39m# Accept or reject the proposal\u001b[39;00m\n\u001b[0;32m---> 36\u001b[0m \u001b[39mif\u001b[39;00m log_prob_accept \u001b[39m>\u001b[39;49m torch\u001b[39m.\u001b[39;49mlog(torch\u001b[39m.\u001b[39;49mrand(\u001b[39m1\u001b[39;49m)):\n\u001b[1;32m     37\u001b[0m     x_current \u001b[39m=\u001b[39m x_proposal\n\u001b[1;32m     38\u001b[0m x_samples\u001b[39m.\u001b[39mappend(x_current\u001b[39m.\u001b[39mclone())\n",
      "\u001b[0;31mRuntimeError\u001b[0m: Expected all tensors to be on the same device, but found at least two devices, cuda:0 and cpu!"
     ]
    }
   ],
   "source": [
    "# Define the log-posterior distribution\n",
    "D = x.shape[1]\n",
    "def log_posterior(x, y):\n",
    "    z = torch.distributions.Bernoulli(rho).sample(x.shape)\n",
    "    log_prob = 0\n",
    "    for j, x_j in enumerate(x):\n",
    "        z_j = z[j]\n",
    "        if not z_j:\n",
    "            dist = torch.distributions.Normal(x_j, 0.01)\n",
    "        else:\n",
    "            dist = torch.distributions.Cauchy(x_j, 0.25)\n",
    "        log_prob += dist.log_prob(y).sum()\n",
    "    return log_prob\n",
    "\n",
    "# Define the proposal distribution\n",
    "def proposal(x):\n",
    "    return torch.distributions.Normal(x, 0.1).sample()\n",
    "\n",
    "# Set the initial state and number of iterations\n",
    "x_init = torch.zeros(D)\n",
    "n_iter = M+warm_up_steps\n",
    "\n",
    "# Run the Metropolis-Hastings algorithm\n",
    "x_samples = []\n",
    "x_current = x_init.clone()\n",
    "for i in tqdm.tqdm(range(n_iter)):\n",
    "    # Propose a new state\n",
    "    x_proposal = proposal(x_current)\n",
    "    \n",
    "    # Compute the acceptance probability\n",
    "    log_prob_current = log_posterior(x_current, y0)\n",
    "    log_prob_proposal = log_posterior(x_proposal, y0)\n",
    "    log_prob_accept = log_prob_proposal - log_prob_current\n",
    "    \n",
    "    # Accept or reject the proposal\n",
    "    if log_prob_accept > torch.log(torch.rand(1)):\n",
    "        x_current = x_proposal\n",
    "    x_samples.append(x_current.clone())\n",
    "\n",
    "# Convert the samples to a tensor\n",
    "x_samples = x_samples[warm_up_steps:len(x_samples)]\n",
    "x_samples = torch.stack(x_samples)\n"
   ]
  },
  {
   "cell_type": "code",
   "execution_count": 93,
   "metadata": {},
   "outputs": [
    {
     "data": {
      "text/plain": [
       "0.9999272727272728"
      ]
     },
     "execution_count": 93,
     "metadata": {},
     "output_type": "execute_result"
    }
   ],
   "source": [
    "compare(q_NPE,x_samples,file)"
   ]
  },
  {
   "cell_type": "code",
   "execution_count": 94,
   "metadata": {},
   "outputs": [
    {
     "data": {
      "text/plain": [
       "0.9114181818181818"
      ]
     },
     "execution_count": 94,
     "metadata": {},
     "output_type": "execute_result"
    }
   ],
   "source": [
    "file_xm = np.load(\"/home/tux/rnpe/denoise_xm_paper.npy\")\n",
    "xm_tensor = torch.Tensor(file_xm)\n",
    "compare(q_NPE, xm_tensor, file)"
   ]
  },
  {
   "cell_type": "code",
   "execution_count": 95,
   "metadata": {},
   "outputs": [
    {
     "data": {
      "text/plain": [
       "0.50132"
      ]
     },
     "execution_count": 95,
     "metadata": {},
     "output_type": "execute_result"
    }
   ],
   "source": [
    "file_NPE = np.load(\"/home/tux/rnpe/thetas_NPE.npy\")\n",
    "compare(q_NPE, x, file_NPE) # q(theta | x)"
   ]
  },
  {
   "cell_type": "code",
   "execution_count": 96,
   "metadata": {},
   "outputs": [
    {
     "data": {
      "text/plain": [
       "0.93654"
      ]
     },
     "execution_count": 96,
     "metadata": {},
     "output_type": "execute_result"
    }
   ],
   "source": [
    "def compare_xm(my_xm, xm_paper):\n",
    "    class1 = xm_paper\n",
    "    class0 = my_xm.detach().numpy()\n",
    "    class0_labels = np.zeros(len(class0))\n",
    "    class1_labels = np.ones(len(class1))\n",
    "    data = np.concatenate((class0,class1), axis=0)\n",
    "    labels = np.concatenate((class0_labels, class1_labels), axis=0)\n",
    "    X_train, X_test, y_train, y_test = train_test_split(data,labels)\n",
    "\n",
    "    clf = LinearDiscriminantAnalysis()\n",
    "    clf.fit(X_train, y_train)\n",
    "\n",
    "    y_pred = clf.predict(X_test)\n",
    "    acc = sklearn.metrics.accuracy_score(y_test,y_pred)\n",
    "    return acc\n",
    "\n",
    "compare_xm(xm_samples,file_xm)"
   ]
  },
  {
   "attachments": {},
   "cell_type": "markdown",
   "metadata": {},
   "source": [
    "Sample theta ~q(theta | xm), m = 1, ..., M"
   ]
  },
  {
   "cell_type": "code",
   "execution_count": 97,
   "metadata": {},
   "outputs": [],
   "source": [
    "with torch.no_grad():\n",
    "    thetasm = q_NPE.sample(xm_samples)"
   ]
  },
  {
   "cell_type": "code",
   "execution_count": 98,
   "metadata": {},
   "outputs": [
    {
     "ename": "NameError",
     "evalue": "name 'dataset_star' is not defined",
     "output_type": "error",
     "traceback": [
      "\u001b[0;31m---------------------------------------------------------------------------\u001b[0m",
      "\u001b[0;31mNameError\u001b[0m                                 Traceback (most recent call last)",
      "Cell \u001b[0;32mIn[98], line 3\u001b[0m\n\u001b[1;32m      1\u001b[0m \u001b[39mfrom\u001b[39;00m \u001b[39mlampe\u001b[39;00m\u001b[39m.\u001b[39;00m\u001b[39mdiagnostics\u001b[39;00m \u001b[39mimport\u001b[39;00m expected_coverage_mc, expected_coverage_ni\n\u001b[1;32m      2\u001b[0m \u001b[39mfrom\u001b[39;00m \u001b[39mlampe\u001b[39;00m\u001b[39m.\u001b[39;00m\u001b[39mplots\u001b[39;00m \u001b[39mimport\u001b[39;00m nice_rc, coverage_plot\n\u001b[0;32m----> 3\u001b[0m npe_levels, npe_coverages \u001b[39m=\u001b[39m expected_coverage_mc(q_NPE\u001b[39m.\u001b[39mflow, dataset_star)\n\u001b[1;32m      4\u001b[0m nnpe_levels, nnpe_coverages \u001b[39m=\u001b[39m expected_coverage_mc(q_NPE_noisy\u001b[39m.\u001b[39mflow, dataset_star)\n\u001b[1;32m      6\u001b[0m fig \u001b[39m=\u001b[39m coverage_plot(npe_levels, npe_coverages, legend\u001b[39m=\u001b[39m\u001b[39m'\u001b[39m\u001b[39mNPE\u001b[39m\u001b[39m'\u001b[39m)\n",
      "\u001b[0;31mNameError\u001b[0m: name 'dataset_star' is not defined"
     ]
    }
   ],
   "source": [
    "from lampe.diagnostics import expected_coverage_mc, expected_coverage_ni\n",
    "from lampe.plots import nice_rc, coverage_plot\n",
    "npe_levels, npe_coverages = expected_coverage_mc(q_NPE.flow, dataset_star)\n",
    "nnpe_levels, nnpe_coverages = expected_coverage_mc(q_NPE_noisy.flow, dataset_star)\n",
    "\n",
    "fig = coverage_plot(npe_levels, npe_coverages, legend='NPE')\n",
    "fig = coverage_plot(nnpe_levels, nnpe_coverages, legend='NNPE')"
   ]
  },
  {
   "cell_type": "code",
   "execution_count": null,
   "metadata": {},
   "outputs": [],
   "source": [
    "def compute_log_prob(flow, thetas, x):\n",
    "    res = []\n",
    "    for i, xi in enumerate(x):\n",
    "        log_prob = flow.flow(xi).log_prob(thetas)\n",
    "        res.append(log_prob.detach().item())\n",
    "    return res"
   ]
  },
  {
   "cell_type": "code",
   "execution_count": null,
   "metadata": {},
   "outputs": [
    {
     "ename": "RuntimeError",
     "evalue": "mat1 and mat2 shapes cannot be multiplied (1x5002 and 3x64)",
     "output_type": "error",
     "traceback": [
      "\u001b[0;31m---------------------------------------------------------------------------\u001b[0m",
      "\u001b[0;31mRuntimeError\u001b[0m                              Traceback (most recent call last)",
      "Cell \u001b[0;32mIn[84], line 1\u001b[0m\n\u001b[0;32m----> 1\u001b[0m log_probs_RNPE \u001b[39m=\u001b[39m compute_log_prob(q_NPE, thetas_star, xm_samples)\n\u001b[1;32m      2\u001b[0m log_probs_NPE \u001b[39m=\u001b[39m compute_log_prob(q_NPE, thetas_star, x)\n\u001b[1;32m      3\u001b[0m log_probs_NNPE \u001b[39m=\u001b[39m compute_log_prob(q_NPE_noisy, thetas_star, x_noisy)\n",
      "Cell \u001b[0;32mIn[83], line 4\u001b[0m, in \u001b[0;36mcompute_log_prob\u001b[0;34m(flow, thetas, x)\u001b[0m\n\u001b[1;32m      2\u001b[0m res \u001b[39m=\u001b[39m []\n\u001b[1;32m      3\u001b[0m \u001b[39mfor\u001b[39;00m i, xi \u001b[39min\u001b[39;00m \u001b[39menumerate\u001b[39m(x):\n\u001b[0;32m----> 4\u001b[0m     log_prob \u001b[39m=\u001b[39m flow\u001b[39m.\u001b[39;49mflow(xi)\u001b[39m.\u001b[39;49mlog_prob(thetas)\n\u001b[1;32m      5\u001b[0m     res\u001b[39m.\u001b[39mappend(log_prob\u001b[39m.\u001b[39mdetach()\u001b[39m.\u001b[39mitem())\n\u001b[1;32m      6\u001b[0m \u001b[39mreturn\u001b[39;00m res\n",
      "File \u001b[0;32m~/miniconda3/envs/rnpe_env/lib/python3.9/site-packages/zuko/distributions.py:110\u001b[0m, in \u001b[0;36mNormalizingFlow.log_prob\u001b[0;34m(self, x)\u001b[0m\n\u001b[1;32m    109\u001b[0m \u001b[39mdef\u001b[39;00m \u001b[39mlog_prob\u001b[39m(\u001b[39mself\u001b[39m, x: Tensor) \u001b[39m-\u001b[39m\u001b[39m>\u001b[39m Tensor:\n\u001b[0;32m--> 110\u001b[0m     z, ladj \u001b[39m=\u001b[39m \u001b[39mself\u001b[39;49m\u001b[39m.\u001b[39;49mtransform\u001b[39m.\u001b[39;49mcall_and_ladj(x)\n\u001b[1;32m    111\u001b[0m     ladj \u001b[39m=\u001b[39m _sum_rightmost(ladj, \u001b[39mself\u001b[39m\u001b[39m.\u001b[39mreinterpreted)\n\u001b[1;32m    113\u001b[0m     \u001b[39mreturn\u001b[39;00m \u001b[39mself\u001b[39m\u001b[39m.\u001b[39mbase\u001b[39m.\u001b[39mlog_prob(z) \u001b[39m+\u001b[39m ladj\n",
      "File \u001b[0;32m~/miniconda3/envs/rnpe_env/lib/python3.9/site-packages/zuko/transforms.py:136\u001b[0m, in \u001b[0;36mComposedTransform.call_and_ladj\u001b[0;34m(self, x)\u001b[0m\n\u001b[1;32m    133\u001b[0m acc \u001b[39m=\u001b[39m \u001b[39m0\u001b[39m\n\u001b[1;32m    135\u001b[0m \u001b[39mfor\u001b[39;00m t \u001b[39min\u001b[39;00m \u001b[39mself\u001b[39m\u001b[39m.\u001b[39mtransforms:\n\u001b[0;32m--> 136\u001b[0m     x, ladj \u001b[39m=\u001b[39m t\u001b[39m.\u001b[39;49mcall_and_ladj(x)\n\u001b[1;32m    137\u001b[0m     acc \u001b[39m=\u001b[39m acc \u001b[39m+\u001b[39m _sum_rightmost(ladj, event_dim \u001b[39m-\u001b[39m t\u001b[39m.\u001b[39mdomain\u001b[39m.\u001b[39mevent_dim)\n\u001b[1;32m    138\u001b[0m     event_dim \u001b[39m+\u001b[39m\u001b[39m=\u001b[39m t\u001b[39m.\u001b[39mcodomain\u001b[39m.\u001b[39mevent_dim \u001b[39m-\u001b[39m t\u001b[39m.\u001b[39mdomain\u001b[39m.\u001b[39mevent_dim\n",
      "File \u001b[0;32m~/miniconda3/envs/rnpe_env/lib/python3.9/site-packages/zuko/transforms.py:725\u001b[0m, in \u001b[0;36mAutoregressiveTransform.call_and_ladj\u001b[0;34m(self, x)\u001b[0m\n\u001b[1;32m    724\u001b[0m \u001b[39mdef\u001b[39;00m \u001b[39mcall_and_ladj\u001b[39m(\u001b[39mself\u001b[39m, x: Tensor) \u001b[39m-\u001b[39m\u001b[39m>\u001b[39m Tuple[Tensor, Tensor]:\n\u001b[0;32m--> 725\u001b[0m     y, ladj \u001b[39m=\u001b[39m \u001b[39mself\u001b[39;49m\u001b[39m.\u001b[39;49mmeta(x)\u001b[39m.\u001b[39mcall_and_ladj(x)\n\u001b[1;32m    726\u001b[0m     \u001b[39mreturn\u001b[39;00m y, ladj\u001b[39m.\u001b[39msum(dim\u001b[39m=\u001b[39m\u001b[39m-\u001b[39m\u001b[39m1\u001b[39m)\n",
      "File \u001b[0;32m~/miniconda3/envs/rnpe_env/lib/python3.9/site-packages/zuko/flows.py:310\u001b[0m, in \u001b[0;36mMaskedAutoregressiveTransform.meta\u001b[0;34m(self, y, x)\u001b[0m\n\u001b[1;32m    306\u001b[0m     x \u001b[39m=\u001b[39m torch\u001b[39m.\u001b[39mcat(broadcast(x, y, ignore\u001b[39m=\u001b[39m\u001b[39m1\u001b[39m), dim\u001b[39m=\u001b[39m\u001b[39m-\u001b[39m\u001b[39m1\u001b[39m)\n\u001b[1;32m    308\u001b[0m total \u001b[39m=\u001b[39m \u001b[39msum\u001b[39m(\u001b[39mself\u001b[39m\u001b[39m.\u001b[39msizes)\n\u001b[0;32m--> 310\u001b[0m phi \u001b[39m=\u001b[39m \u001b[39mself\u001b[39;49m\u001b[39m.\u001b[39;49mhyper(x)\n\u001b[1;32m    311\u001b[0m phi \u001b[39m=\u001b[39m phi\u001b[39m.\u001b[39munflatten(\u001b[39m-\u001b[39m\u001b[39m1\u001b[39m, (phi\u001b[39m.\u001b[39mshape[\u001b[39m-\u001b[39m\u001b[39m1\u001b[39m] \u001b[39m/\u001b[39m\u001b[39m/\u001b[39m total, total))\n\u001b[1;32m    312\u001b[0m phi \u001b[39m=\u001b[39m phi\u001b[39m.\u001b[39msplit(\u001b[39mself\u001b[39m\u001b[39m.\u001b[39msizes, \u001b[39m-\u001b[39m\u001b[39m1\u001b[39m)\n",
      "File \u001b[0;32m~/miniconda3/envs/rnpe_env/lib/python3.9/site-packages/torch/nn/modules/module.py:1501\u001b[0m, in \u001b[0;36mModule._call_impl\u001b[0;34m(self, *args, **kwargs)\u001b[0m\n\u001b[1;32m   1496\u001b[0m \u001b[39m# If we don't have any hooks, we want to skip the rest of the logic in\u001b[39;00m\n\u001b[1;32m   1497\u001b[0m \u001b[39m# this function, and just call forward.\u001b[39;00m\n\u001b[1;32m   1498\u001b[0m \u001b[39mif\u001b[39;00m \u001b[39mnot\u001b[39;00m (\u001b[39mself\u001b[39m\u001b[39m.\u001b[39m_backward_hooks \u001b[39mor\u001b[39;00m \u001b[39mself\u001b[39m\u001b[39m.\u001b[39m_backward_pre_hooks \u001b[39mor\u001b[39;00m \u001b[39mself\u001b[39m\u001b[39m.\u001b[39m_forward_hooks \u001b[39mor\u001b[39;00m \u001b[39mself\u001b[39m\u001b[39m.\u001b[39m_forward_pre_hooks\n\u001b[1;32m   1499\u001b[0m         \u001b[39mor\u001b[39;00m _global_backward_pre_hooks \u001b[39mor\u001b[39;00m _global_backward_hooks\n\u001b[1;32m   1500\u001b[0m         \u001b[39mor\u001b[39;00m _global_forward_hooks \u001b[39mor\u001b[39;00m _global_forward_pre_hooks):\n\u001b[0;32m-> 1501\u001b[0m     \u001b[39mreturn\u001b[39;00m forward_call(\u001b[39m*\u001b[39;49margs, \u001b[39m*\u001b[39;49m\u001b[39m*\u001b[39;49mkwargs)\n\u001b[1;32m   1502\u001b[0m \u001b[39m# Do not call functions when jit is used\u001b[39;00m\n\u001b[1;32m   1503\u001b[0m full_backward_hooks, non_full_backward_hooks \u001b[39m=\u001b[39m [], []\n",
      "File \u001b[0;32m~/miniconda3/envs/rnpe_env/lib/python3.9/site-packages/torch/nn/modules/container.py:217\u001b[0m, in \u001b[0;36mSequential.forward\u001b[0;34m(self, input)\u001b[0m\n\u001b[1;32m    215\u001b[0m \u001b[39mdef\u001b[39;00m \u001b[39mforward\u001b[39m(\u001b[39mself\u001b[39m, \u001b[39minput\u001b[39m):\n\u001b[1;32m    216\u001b[0m     \u001b[39mfor\u001b[39;00m module \u001b[39min\u001b[39;00m \u001b[39mself\u001b[39m:\n\u001b[0;32m--> 217\u001b[0m         \u001b[39minput\u001b[39m \u001b[39m=\u001b[39m module(\u001b[39minput\u001b[39;49m)\n\u001b[1;32m    218\u001b[0m     \u001b[39mreturn\u001b[39;00m \u001b[39minput\u001b[39m\n",
      "File \u001b[0;32m~/miniconda3/envs/rnpe_env/lib/python3.9/site-packages/torch/nn/modules/module.py:1501\u001b[0m, in \u001b[0;36mModule._call_impl\u001b[0;34m(self, *args, **kwargs)\u001b[0m\n\u001b[1;32m   1496\u001b[0m \u001b[39m# If we don't have any hooks, we want to skip the rest of the logic in\u001b[39;00m\n\u001b[1;32m   1497\u001b[0m \u001b[39m# this function, and just call forward.\u001b[39;00m\n\u001b[1;32m   1498\u001b[0m \u001b[39mif\u001b[39;00m \u001b[39mnot\u001b[39;00m (\u001b[39mself\u001b[39m\u001b[39m.\u001b[39m_backward_hooks \u001b[39mor\u001b[39;00m \u001b[39mself\u001b[39m\u001b[39m.\u001b[39m_backward_pre_hooks \u001b[39mor\u001b[39;00m \u001b[39mself\u001b[39m\u001b[39m.\u001b[39m_forward_hooks \u001b[39mor\u001b[39;00m \u001b[39mself\u001b[39m\u001b[39m.\u001b[39m_forward_pre_hooks\n\u001b[1;32m   1499\u001b[0m         \u001b[39mor\u001b[39;00m _global_backward_pre_hooks \u001b[39mor\u001b[39;00m _global_backward_hooks\n\u001b[1;32m   1500\u001b[0m         \u001b[39mor\u001b[39;00m _global_forward_hooks \u001b[39mor\u001b[39;00m _global_forward_pre_hooks):\n\u001b[0;32m-> 1501\u001b[0m     \u001b[39mreturn\u001b[39;00m forward_call(\u001b[39m*\u001b[39;49margs, \u001b[39m*\u001b[39;49m\u001b[39m*\u001b[39;49mkwargs)\n\u001b[1;32m   1502\u001b[0m \u001b[39m# Do not call functions when jit is used\u001b[39;00m\n\u001b[1;32m   1503\u001b[0m full_backward_hooks, non_full_backward_hooks \u001b[39m=\u001b[39m [], []\n",
      "File \u001b[0;32m~/miniconda3/envs/rnpe_env/lib/python3.9/site-packages/zuko/nn.py:127\u001b[0m, in \u001b[0;36mMaskedLinear.forward\u001b[0;34m(self, x)\u001b[0m\n\u001b[1;32m    126\u001b[0m \u001b[39mdef\u001b[39;00m \u001b[39mforward\u001b[39m(\u001b[39mself\u001b[39m, x: Tensor) \u001b[39m-\u001b[39m\u001b[39m>\u001b[39m Tensor:\n\u001b[0;32m--> 127\u001b[0m     \u001b[39mreturn\u001b[39;00m F\u001b[39m.\u001b[39;49mlinear(x, \u001b[39mself\u001b[39;49m\u001b[39m.\u001b[39;49mmask \u001b[39m*\u001b[39;49m \u001b[39mself\u001b[39;49m\u001b[39m.\u001b[39;49mweight, \u001b[39mself\u001b[39;49m\u001b[39m.\u001b[39;49mbias)\n",
      "\u001b[0;31mRuntimeError\u001b[0m: mat1 and mat2 shapes cannot be multiplied (1x5002 and 3x64)"
     ]
    }
   ],
   "source": [
    "log_probs_RNPE = compute_log_prob(q_NPE, thetas_star, xm_samples)\n",
    "log_probs_NPE = compute_log_prob(q_NPE, thetas_star, x)\n",
    "log_probs_NNPE = compute_log_prob(q_NPE_noisy, thetas_star, x_noisy)"
   ]
  },
  {
   "cell_type": "code",
   "execution_count": null,
   "metadata": {},
   "outputs": [
    {
     "ename": "AttributeError",
     "evalue": "'Axes' object has no attribute 'set_ylabels'",
     "output_type": "error",
     "traceback": [
      "\u001b[0;31m---------------------------------------------------------------------------\u001b[0m",
      "\u001b[0;31mAttributeError\u001b[0m                            Traceback (most recent call last)",
      "Cell \u001b[0;32mIn[208], line 4\u001b[0m\n\u001b[1;32m      2\u001b[0m ax\u001b[39m.\u001b[39mboxplot([log_probs_RNPE, log_probs_NPE, log_probs_NNPE])\n\u001b[1;32m      3\u001b[0m ax\u001b[39m.\u001b[39mset_xticklabels([\u001b[39m\"\u001b[39m\u001b[39mlog-probs RNPE\u001b[39m\u001b[39m\"\u001b[39m,\u001b[39m\"\u001b[39m\u001b[39mlog-probs NPE\u001b[39m\u001b[39m\"\u001b[39m, \u001b[39m\"\u001b[39m\u001b[39mlog-probs NNPE\u001b[39m\u001b[39m\"\u001b[39m])\n\u001b[0;32m----> 4\u001b[0m ax\u001b[39m.\u001b[39;49mset_ylabels(\u001b[39m\"\u001b[39m\u001b[39mLog-probs\u001b[39m\u001b[39m\"\u001b[39m)\n",
      "\u001b[0;31mAttributeError\u001b[0m: 'Axes' object has no attribute 'set_ylabels'"
     ]
    },
    {
     "data": {
      "image/png": "[encoded data removed]",
      "text/plain": [
       "<Figure size 640x480 with 1 Axes>"
      ]
     },
     "metadata": {},
     "output_type": "display_data"
    }
   ],
   "source": [
    "fig, ax = plt.subplots()\n",
    "ax.boxplot([log_probs_RNPE, log_probs_NPE, log_probs_NNPE])\n"
   ]
  },
  {
   "attachments": {},
   "cell_type": "markdown",
   "metadata": {},
   "source": [
    "Il faut aussi faire les 2 autres simu cad NPE (comme avant) et en mettant directement le modele d'erreur dans le simu"
   ]
  }
 ],
 "metadata": {
  "kernelspec": {
   "display_name": "rnpe_env",
   "language": "python",
   "name": "python3"
  },
  "language_info": {
   "codemirror_mode": {
    "name": "ipython",
    "version": 3
   },
   "file_extension": ".py",
   "mimetype": "text/x-python",
   "name": "python",
   "nbconvert_exporter": "python",
   "pygments_lexer": "ipython3",
   "version": "3.9.16"
  },
  "orig_nbformat": 4
 },
 "nbformat": 4,
 "nbformat_minor": 2
}
