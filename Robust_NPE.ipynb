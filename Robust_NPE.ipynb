{
 "cells": [
  {
   "cell_type": "code",
   "execution_count": 1,
   "metadata": {},
   "outputs": [],
   "source": [
    "import torch\n",
    "import numpy as np\n",
    "from tqdm.notebook import tqdm\n",
    "from torch.utils.data import TensorDataset, DataLoader\n",
    "import zuko"
   ]
  },
  {
   "cell_type": "code",
   "execution_count": 2,
   "metadata": {},
   "outputs": [],
   "source": [
    "mu = 42\n",
    "N = 50000\n",
    "prior_over_mu = torch.distributions.Normal(torch.Tensor([0.0]), torch.Tensor([25.0]))"
   ]
  },
  {
   "attachments": {},
   "cell_type": "markdown",
   "metadata": {},
   "source": [
    "Utils"
   ]
  },
  {
   "cell_type": "code",
   "execution_count": 3,
   "metadata": {},
   "outputs": [],
   "source": [
    "def true_data_generating_process():\n",
    "    dist = torch.distributions.Normal(mu, 1.0)\n",
    "    return dist.sample((100, ))\n",
    "\n",
    "def computing_summary(data):\n",
    "    sample_mean = torch.mean(data)\n",
    "    sample.var = torch.var(data)\n",
    "    return sample_mean,  sample_var\n"
   ]
  },
  {
   "attachments": {},
   "cell_type": "markdown",
   "metadata": {},
   "source": [
    "Simulation (line 1 & 2 of Algorithm 1)"
   ]
  },
  {
   "cell_type": "code",
   "execution_count": 21,
   "metadata": {},
   "outputs": [],
   "source": [
    "def simulator(mu):\n",
    "    dist = torch.distributions.Normal(mu, 2.0)\n",
    "    sample = dist.sample((100, ))\n",
    "    sample_mean = torch.mean(sample)\n",
    "    sample_var = torch.var(sample)\n",
    "    return sample_mean, sample_var\n",
    "\n",
    "\n",
    "def simulate():\n",
    "    thetas_vect = torch.zeros((N, 1))\n",
    "    X_vect = torch.zeros((N, 2))\n",
    "    for i in range(N):\n",
    "        theta_i = prior_over_mu.sample((1, ))\n",
    "        x_i = simulator(theta_i)\n",
    "        thetas_vect[i] = theta_i\n",
    "        X_vect[i][0], X_vect[i][1] = x_i\n",
    "\n",
    "    thetas_test = torch.zeros((N//10, 1))\n",
    "    x_test = torch.zeros((N//10, 2))  \n",
    "    for i in range(N//10):\n",
    "        theta_i_test = prior_over_mu.sample((1, ))\n",
    "        x_i_test = simulator(theta_i_test)\n",
    "        thetas_test[i] = theta_i_test\n",
    "        x_test[i][0], X_vect[i][1] = x_i_test\n",
    "    return X_vect, thetas_vect, x_test, thetas_test\n",
    "X_vect,thetas_vect, x_test, thetas_test = simulate()"
   ]
  },
  {
   "cell_type": "code",
   "execution_count": 5,
   "metadata": {},
   "outputs": [],
   "source": [
    "#flowjax.bijections.transformers import RationalQuadraticSplineTransformer # No jax available ... "
   ]
  },
  {
   "attachments": {},
   "cell_type": "markdown",
   "metadata": {},
   "source": [
    "Train NPE q(theta|x) on the simulated dataset {(thetai, xi)}, i=1, ... N\n",
    "Uses a neural spline flow defining the transform on the interval [-5, 5] using 10  spline segments and 5 coupling layers. The base of the flow is a standard Gaussian distribution. "
   ]
  },
  {
   "cell_type": "code",
   "execution_count": null,
   "metadata": {},
   "outputs": [],
   "source": [
    "\n",
    "q_NPE = zuko.flows.NSF(1,2, hidden_features=[5]*1) #TODO Essayer de comprendre comment il est crée pck là ...\n",
    "q_NPE = zuko.flows.NSF(features=1, context=2, bins=10, transforms=5)"
   ]
  },
  {
   "cell_type": "code",
   "execution_count": 90,
   "metadata": {},
   "outputs": [
    {
     "name": "stdout",
     "output_type": "stream",
     "text": [
      " Epoch = 1\n",
      "Loss on the validation set = 321.25640869140625\n",
      " Epoch = 2\n",
      "Loss on the validation set = 321.30230712890625\n",
      " Epoch = 3\n",
      "Loss on the validation set = 321.2463684082031\n",
      " Epoch = 4\n",
      "Loss on the validation set = 321.22113037109375\n",
      " Epoch = 5\n",
      "Loss on the validation set = 321.2651062011719\n",
      " Epoch = 6\n",
      "Loss on the validation set = 321.23114013671875\n",
      " Epoch = 7\n",
      "Loss on the validation set = 321.2898864746094\n",
      " Epoch = 8\n",
      "Loss on the validation set = 321.2662048339844\n",
      " Epoch = 9\n",
      "Loss on the validation set = 321.3302001953125\n",
      " Epoch = 10\n",
      "Loss on the validation set = 321.24847412109375\n",
      " Epoch = 11\n",
      "Loss on the validation set = 321.3004150390625\n",
      " Epoch = 12\n",
      "Loss on the validation set = 321.323486328125\n",
      " Epoch = 13\n",
      "Loss on the validation set = 321.347412109375\n",
      " Epoch = 14\n",
      "Loss on the validation set = 321.32318115234375\n",
      " Epoch = 15\n",
      "Loss on the validation set = 321.335205078125\n",
      " Epoch = 16\n",
      "Loss on the validation set = 321.3681945800781\n",
      " Epoch = 17\n",
      "Loss on the validation set = 321.3880920410156\n",
      " Epoch = 18\n",
      "Loss on the validation set = 321.3904113769531\n",
      " Epoch = 19\n",
      "Loss on the validation set = 321.33428955078125\n",
      " Epoch = 20\n",
      "Loss on the validation set = 321.40948486328125\n",
      " Epoch = 21\n",
      "Loss on the validation set = 321.4310607910156\n",
      " Epoch = 22\n",
      "Loss on the validation set = 321.42559814453125\n",
      " Epoch = 23\n",
      "Loss on the validation set = 321.4461364746094\n",
      " Epoch = 24\n",
      "Loss on the validation set = 321.4253845214844\n",
      " Epoch = 25\n",
      "Loss on the validation set = 321.4555358886719\n",
      " Epoch = 26\n",
      "Loss on the validation set = 321.45428466796875\n",
      " Epoch = 27\n",
      "Loss on the validation set = 321.49261474609375\n",
      " Epoch = 28\n",
      "Loss on the validation set = 321.4501953125\n",
      " Epoch = 29\n",
      "Loss on the validation set = 321.42828369140625\n",
      " Epoch = 30\n",
      "Loss on the validation set = 321.4913330078125\n",
      " Epoch = 31\n",
      "Loss on the validation set = 321.4773254394531\n",
      " Epoch = 32\n",
      "Loss on the validation set = 321.5044250488281\n",
      " Epoch = 33\n",
      "Loss on the validation set = 321.5069885253906\n",
      " Epoch = 34\n",
      "Loss on the validation set = 321.4533386230469\n",
      " Epoch = 35\n",
      "Loss on the validation set = 321.4468994140625\n",
      " Epoch = 36\n",
      "Loss on the validation set = 321.47515869140625\n",
      " Epoch = 37\n",
      "Loss on the validation set = 321.47491455078125\n",
      " Epoch = 38\n",
      "Loss on the validation set = 321.47412109375\n",
      " Epoch = 39\n",
      "Loss on the validation set = 321.4851989746094\n",
      " Epoch = 40\n",
      "Loss on the validation set = 321.4796142578125\n",
      " Epoch = 41\n",
      "Loss on the validation set = 321.4842224121094\n",
      " Epoch = 42\n",
      "Loss on the validation set = 321.5062561035156\n",
      " Epoch = 43\n",
      "Loss on the validation set = 321.4888000488281\n",
      " Epoch = 44\n",
      "Loss on the validation set = 321.4668273925781\n",
      " Epoch = 45\n",
      "Loss on the validation set = 321.4892272949219\n",
      " Epoch = 46\n",
      "Loss on the validation set = 321.4986572265625\n",
      " Epoch = 47\n",
      "Loss on the validation set = 321.4958190917969\n",
      " Epoch = 48\n",
      "Loss on the validation set = 321.5043640136719\n",
      " Epoch = 49\n",
      "Loss on the validation set = 321.4874572753906\n",
      " Epoch = 50\n",
      "Loss on the validation set = 321.4808349609375\n"
     ]
    }
   ],
   "source": [
    "#Creates the dataset & loaded\n",
    "dataset = TensorDataset(thetas_vect, X_vect)\n",
    "batch_size = 256\n",
    "loader = DataLoader(dataset,batch_size,shuffle=True)\n",
    "#Param for training\n",
    "max_epochs = 50\n",
    "learning_rate_NSF = 5*10e-4\n",
    "epsilon = 1e-3\n",
    "#Optim\n",
    "optimizer = torch.optim.Adam(q_NPE.parameters(), learning_rate_NSF)\n",
    "#Preparing for ealry stop\n",
    "with torch.no_grad():\n",
    "    previous_loss = -q_NPE(x_test).log_prob(thetas_test).mean()\n",
    "counter=1\n",
    "patience = 5\n",
    "\n",
    "#Training\n",
    "for epoch in range(max_epochs):\n",
    "    print(f\" Epoch = {epoch+1}\")\n",
    "    \n",
    "    for batch_idx, batch in enumerate(loader):\n",
    "        thetas_batch, x_batch = batch\n",
    "        loss = -q_NPE(x_batch).log_prob(thetas_batch).mean()\n",
    "        optimizer.zero_grad()\n",
    "        loss.backward()\n",
    "        optimizer.step()\n",
    "    # Checking for improvment\n",
    "    with torch.no_grad():\n",
    "        loss_test = -q_NPE(x_test).log_prob(thetas_test).mean()\n",
    "        if np.abs(loss_test - previous_loss) < epsilon:\n",
    "            counter += 1\n",
    "        if counter == patience:\n",
    "            print(f\"Early stop at iteration {i}\")\n",
    "            break\n",
    "        previous_loss = loss_test\n",
    "    print(f\"Loss on the validation set = {previous_loss}\")"
   ]
  },
  {
   "attachments": {},
   "cell_type": "markdown",
   "metadata": {},
   "source": [
    "Train q(x) on {xi} i=1, ... N (so first gen the x)\n",
    "For q(x) uses of a block neural autoregressive flow, single hidden layer of size 8D, x in R^d"
   ]
  },
  {
   "cell_type": "code",
   "execution_count": 91,
   "metadata": {},
   "outputs": [],
   "source": [
    "def simu_x():\n",
    "    \n",
    "    x = torch.zeros((N, 2))\n",
    "    for i in range(N):\n",
    "        theta_tmp = prior_over_mu.sample((1, ))\n",
    "        xi = simulator(theta_tmp)\n",
    "        x[i][0], x[i][1] = xi\n",
    "    # {xi} i=1, ... N \n",
    "    xtest = torch.zeros((N//10, 2))\n",
    "    for i in range(N//10):\n",
    "        theta_tmp = prior_over_mu.sample((1, ))\n",
    "        xtest[i][0], xtest[i][1] =  simulator(theta_tmp)\n",
    "        return x, x_test\n",
    "x, x_test = simu_x()\n",
    "        \n"
   ]
  },
  {
   "cell_type": "code",
   "execution_count": null,
   "metadata": {},
   "outputs": [],
   "source": []
  },
  {
   "cell_type": "code",
   "execution_count": 92,
   "metadata": {},
   "outputs": [
    {
     "ename": "SyntaxError",
     "evalue": "invalid syntax (1279069519.py, line 6)",
     "output_type": "error",
     "traceback": [
      "\u001b[1;36m  Cell \u001b[1;32mIn[92], line 6\u001b[1;36m\u001b[0m\n\u001b[1;33m    q_x = ??? #Pas trouvé dans le package encore.\u001b[0m\n\u001b[1;37m          ^\u001b[0m\n\u001b[1;31mSyntaxError\u001b[0m\u001b[1;31m:\u001b[0m invalid syntax\n"
     ]
    }
   ],
   "source": [
    "#Preparaing dataset & loader\n",
    "dataset = TensorDataset(x)\n",
    "batch_size = 256\n",
    "loader = DataLoader(dataset,batch_size,shuffle=True)\n",
    "\n",
    "q_x = ??? #Pas trouvé dans le package encore. \n",
    "\n",
    "#Training param\n",
    "max_epochs = 50\n",
    "learning_rate_BNAF = 10-2\n",
    "epsilon = 1e-5\n",
    "#Optim\n",
    "optimizer = torch.optim.Adam(q_x.parameters(), learning_rate_BNAF)\n",
    "#Early stop\n",
    "with torch.no_grad():\n",
    "    previous_loss = -q_x.log_prob(x_test).mean()\n",
    "counter=1\n",
    "patience = 5\n",
    "#Training\n",
    "\n",
    "for epoch in range(max_epochs):\n",
    "    print(f\" Epoch = {epoch+1}\")\n",
    "    \n",
    "    for batch_idx, batch in enumerate(loader):\n",
    "        thetas_batch, x_batch = batch\n",
    "        loss = -q_x.log_prob(x_test).mean()\n",
    "        optimizer.zero_grad()\n",
    "        loss.backward()\n",
    "        optimizer.step()\n",
    "    with torch.no_grad():\n",
    "        loss_test = -q_x.log_prob(x_test).mean()\n",
    "        if np.abs(loss_test - previous_loss) < epsilon:\n",
    "            counter += 1\n",
    "        if counter == patience:\n",
    "            print(f\"Early stop at iteration {i}\")\n",
    "            break\n",
    "        previous_loss = loss_test\n",
    "    print(f\"Loss on the validation set = {previous_loss}\")"
   ]
  },
  {
   "attachments": {},
   "cell_type": "markdown",
   "metadata": {},
   "source": [
    "Sample x~m from p(x | y0) % p(y0 \\ x) q(x), m = 1, ... M using MCMC"
   ]
  },
  {
   "attachments": {},
   "cell_type": "markdown",
   "metadata": {},
   "source": [
    "Spike and slab"
   ]
  },
  {
   "cell_type": "code",
   "execution_count": null,
   "metadata": {},
   "outputs": [],
   "source": [
    "def error_model(y, x):\n",
    "    \"\"\"Spike and slab model, computing p(y | x)\n",
    "\n",
    "    Args:\n",
    "        y (torch.Tensor): An observation\n",
    "        x (torch.Tensor): A context sampled from q(x)\n",
    "\n",
    "    Returns:\n",
    "        float: p(y | x)\n",
    "    \"\"\"\n",
    "    rho = 0.5\n",
    "    sigma = 0.01\n",
    "    tau =0.25\n",
    "    res = 1.0\n",
    "    D = x.size()[0]\n",
    "    for j in range(D):\n",
    "        dist_normal = torch.distributions.Normal(torch.Tensor([x[j]]), torch.Tensor([sigma]))\n",
    "        dist_cauchy = torch.distributions.Cauchy(torch.Tensor([x[j]]), tau)\n",
    "        well_specified_part = (1 - rho) * torch.exp(dist_normal.log_prob(y[j]))\n",
    "        miss_specified_part = rho * torch.exp(dist_cauchy.log_prob(y[j]))\n",
    "        res = res * (well_specified_part + miss_specified_part)\n",
    "        return res"
   ]
  },
  {
   "cell_type": "code",
   "execution_count": null,
   "metadata": {},
   "outputs": [],
   "source": [
    "M = 100000\n",
    "warm_up_steps = 20000\n",
    "traj_lenght = 1\n",
    "target_acceptance_prob = 0.95"
   ]
  },
  {
   "cell_type": "markdown",
   "metadata": {},
   "source": [
    "Il faut aussi faire les 2 autres simu cad NPE (comme avant) et en mettant directement le modele d'erreur dans le simu"
   ]
  },
  {
   "cell_type": "code",
   "execution_count": null,
   "metadata": {},
   "outputs": [],
   "source": [
    "def noisy_simulator():\n",
    "    #Sample the parameters theta [mu]\n",
    "    sigma = 0.01\n",
    "    tau = 0.25\n",
    "    rho = 1/2\n",
    "    X, thetas, X_test, thetas_test = simulate()\n",
    "    res_train, res_test = X.clone(), X_test.clone()\n",
    "    D = X[0].size()[0]\n",
    "    for i, x in enumerate(X):\n",
    "        spike_dist = torch.distributions.Normal(x, torch.Tensor([sigma]))\n",
    "        slab_dist = torch.distributions.Cauchy(x, torch.Tensor([tau]))\n",
    "        spike = ((1 - rho) *spike_dist.sample((1, )))[0]\n",
    "        slab = (rho * slab_dist.sample((1, )))[0]\n",
    "        res_train[i] += spike + slab\n",
    "    for i, x in enumerate(X_test):\n",
    "        spike_dist = torch.distributions.Normal(x, torch.Tensor([sigma]))\n",
    "        slab_dist = torch.distributions.Cauchy(x, torch.Tensor([tau]))\n",
    "        spike = ((1 - rho) *spike_dist.sample((1, )))[0]\n",
    "        slab = (rho * slab_dist.sample((1, )))[0]\n",
    "        res_test[i] += spike + slab\n",
    "    return res_train, thetas, res_test, thetas_test\n",
    "        "
   ]
  },
  {
   "cell_type": "code",
   "execution_count": null,
   "metadata": {},
   "outputs": [],
   "source": [
    "X_noisy, thetas, X_noisy_test, thetas_test = noisy_simulator()"
   ]
  },
  {
   "cell_type": "code",
   "execution_count": null,
   "metadata": {},
   "outputs": [],
   "source": [
    "q_NPE_noisy = zuko.flows.NSF(1,2, hidden_features=[5]*1) \n"
   ]
  },
  {
   "cell_type": "code",
   "execution_count": null,
   "metadata": {},
   "outputs": [
    {
     "name": "stdout",
     "output_type": "stream",
     "text": [
      " Epoch = 1\n",
      "Loss on the validation set = 318.62860107421875\n",
      " Epoch = 2\n",
      "Loss on the validation set = 318.6251525878906\n",
      " Epoch = 3\n",
      "Loss on the validation set = 318.6268615722656\n",
      " Epoch = 4\n",
      "Loss on the validation set = 318.6279602050781\n",
      " Epoch = 5\n",
      "Loss on the validation set = 318.63140869140625\n",
      " Epoch = 6\n",
      "Loss on the validation set = 318.6331481933594\n",
      " Epoch = 7\n",
      "Loss on the validation set = 318.6296691894531\n",
      " Epoch = 8\n",
      "Loss on the validation set = 318.631103515625\n",
      " Epoch = 9\n",
      "Loss on the validation set = 318.629150390625\n",
      " Epoch = 10\n",
      "Loss on the validation set = 318.629150390625\n",
      " Epoch = 11\n",
      "Loss on the validation set = 318.63250732421875\n",
      " Epoch = 12\n",
      "Loss on the validation set = 318.63116455078125\n",
      " Epoch = 13\n",
      "Loss on the validation set = 318.6278381347656\n",
      " Epoch = 14\n",
      "Loss on the validation set = 318.6295471191406\n",
      " Epoch = 15\n",
      "Loss on the validation set = 318.6308288574219\n",
      " Epoch = 16\n",
      "Loss on the validation set = 318.62908935546875\n",
      " Epoch = 17\n",
      "Loss on the validation set = 318.6271057128906\n",
      " Epoch = 18\n",
      "Loss on the validation set = 318.630615234375\n",
      " Epoch = 19\n",
      "Loss on the validation set = 318.6300354003906\n",
      " Epoch = 20\n",
      "Loss on the validation set = 318.62750244140625\n",
      " Epoch = 21\n",
      "Loss on the validation set = 318.62823486328125\n",
      " Epoch = 22\n",
      "Loss on the validation set = 318.6331481933594\n",
      " Epoch = 23\n",
      "Loss on the validation set = 318.6304626464844\n",
      " Epoch = 24\n",
      "Loss on the validation set = 318.6285095214844\n",
      " Epoch = 25\n",
      "Loss on the validation set = 318.6326599121094\n",
      " Epoch = 26\n",
      "Early stop at epoch 25\n"
     ]
    }
   ],
   "source": [
    "#Creates the dataset & loaded\n",
    "dataset = TensorDataset(thetas_vect, X_noisy)\n",
    "batch_size = 256\n",
    "loader = DataLoader(dataset,batch_size,shuffle=True)\n",
    "#Param for training\n",
    "max_epochs = 50\n",
    "learning_rate_NSF = 5*10e-4\n",
    "epsilon = 1e-3\n",
    "#Optim\n",
    "optimizer = torch.optim.Adam(q_NPE_noisy.parameters(), learning_rate_NSF)\n",
    "#Preparing for ealry stop\n",
    "with torch.no_grad():\n",
    "    previous_loss = -q_NPE_noisy(X_noisy_test).log_prob(thetas_test).mean()\n",
    "counter=1\n",
    "patience = 5\n",
    "losses = []\n",
    "#Training\n",
    "for epoch in range(max_epochs):\n",
    "    print(f\" Epoch = {epoch+1}\")\n",
    "    losses_epoch = 0\n",
    "    for batch_idx, batch in enumerate(loader):\n",
    "        \n",
    "        thetas_batch, x_batch = batch\n",
    "        loss = -q_NPE_noisy(x_batch).log_prob(thetas_batch).mean()\n",
    "        optimizer.zero_grad()\n",
    "        loss.backward()\n",
    "        optimizer.step()\n",
    "        losses_epoch += loss.detach().item()\n",
    "    losses.append(losses_epoch)\n",
    "    # Checking for improvment\n",
    "    with torch.no_grad():\n",
    "        loss_test = -q_NPE_noisy(X_noisy_test).log_prob(thetas_test).mean()\n",
    "        if np.abs(loss_test - previous_loss) < epsilon:\n",
    "            counter += 1\n",
    "        if counter == patience:\n",
    "            print(f\"Early stop at epoch {epoch}\")\n",
    "            break\n",
    "        previous_loss = loss_test\n",
    "    print(f\"Loss on the validation set = {previous_loss}\")"
   ]
  },
  {
   "cell_type": "code",
   "execution_count": null,
   "metadata": {},
   "outputs": [
    {
     "data": {
      "text/plain": [
       "[<matplotlib.lines.Line2D at 0x2a396028dc0>]"
      ]
     },
     "execution_count": 78,
     "metadata": {},
     "output_type": "execute_result"
    },
    {
     "data": {
      "image/png": "[encoded data removed]",
      "text/plain": [
       "<Figure size 640x480 with 1 Axes>"
      ]
     },
     "metadata": {},
     "output_type": "display_data"
    }
   ],
   "source": [
    "import matplotlib.pyplot as plt\n",
    "plt.plot(losses)"
   ]
  }
 ],
 "metadata": {
  "kernelspec": {
   "display_name": "sbi_env1",
   "language": "python",
   "name": "python3"
  },
  "language_info": {
   "codemirror_mode": {
    "name": "ipython",
    "version": 3
   },
   "file_extension": ".py",
   "mimetype": "text/x-python",
   "name": "python",
   "nbconvert_exporter": "python",
   "pygments_lexer": "ipython3",
   "version": "3.8.16"
  },
  "orig_nbformat": 4
 },
 "nbformat": 4,
 "nbformat_minor": 2
}
