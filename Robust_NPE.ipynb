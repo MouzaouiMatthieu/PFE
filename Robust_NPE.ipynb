{
 "cells": [
  {
   "cell_type": "code",
   "execution_count": 120,
   "metadata": {},
   "outputs": [],
   "source": [
    "import torch\n",
    "import numpy as np\n",
    "from tqdm.notebook import tqdm\n",
    "from torch.utils.data import TensorDataset, DataLoader\n",
    "import zuko"
   ]
  },
  {
   "cell_type": "code",
   "execution_count": 121,
   "metadata": {},
   "outputs": [],
   "source": [
    "mu = 42\n",
    "N = 50000\n",
    "prior_over_mu = torch.distributions.Normal(torch.Tensor([0.0]), torch.Tensor([25.0]))"
   ]
  },
  {
   "attachments": {},
   "cell_type": "markdown",
   "metadata": {},
   "source": [
    "Utils"
   ]
  },
  {
   "cell_type": "code",
   "execution_count": 122,
   "metadata": {},
   "outputs": [],
   "source": [
    "def true_data_generating_process():\n",
    "    dist = torch.distributions.Normal(mu, 1.0)\n",
    "    return dist.sample((100, ))\n",
    "\n",
    "def computing_summary(data):\n",
    "    sample_mean = torch.mean(data)\n",
    "    sample.var = torch.var(data)\n",
    "    return sample_mean,  sample_var\n"
   ]
  },
  {
   "attachments": {},
   "cell_type": "markdown",
   "metadata": {},
   "source": [
    "Simulation (line 1 & 2 of Algorithm 1)"
   ]
  },
  {
   "cell_type": "code",
   "execution_count": 123,
   "metadata": {},
   "outputs": [],
   "source": [
    "def simulator(mu):\n",
    "    dist = torch.distributions.Normal(mu, 2.0)\n",
    "    sample = dist.sample((100, ))\n",
    "    sample_mean = torch.mean(sample)\n",
    "    sample_var = torch.var(sample)\n",
    "    return sample_mean, sample_var\n",
    "\n",
    "\n",
    "thetas_vect = torch.zeros((N, 1))\n",
    "X_vect = torch.zeros((N, 2))\n",
    "for i in range(N):\n",
    "    theta_i = prior_over_mu.sample((1, ))\n",
    "    x_i = simulator(theta_i)\n",
    "    thetas_vect[i] = theta_i\n",
    "    X_vect[i][0], X_vect[i][1] = x_i\n",
    "\n",
    "thetas_test = torch.zeros((N//10, 1))\n",
    "x_test = torch.zeros((N//10, 2))  \n",
    "for i in range(N//10):\n",
    "    theta_i_test = prior_over_mu.sample((1, ))\n",
    "    x_i_test = simulator(theta_i_test)\n",
    "    thetas_test[i] = theta_i_test\n",
    "    x_test[i][0], X_vect[i][1] = x_i_test"
   ]
  },
  {
   "cell_type": "code",
   "execution_count": 124,
   "metadata": {},
   "outputs": [],
   "source": [
    "#flowjax.bijections.transformers import RationalQuadraticSplineTransformer # No jax available ... "
   ]
  },
  {
   "attachments": {},
   "cell_type": "markdown",
   "metadata": {},
   "source": [
    "Train NPE q(theta|x) on the simulated dataset {(thetai, xi)}, i=1, ... N\n",
    "Uses a neural spline flow defining the transform on the interval [-5, 5] using 10  spline segments and 5 coupling layers. The base of the flow is a standard Gaussian distribution. "
   ]
  },
  {
   "cell_type": "code",
   "execution_count": 125,
   "metadata": {},
   "outputs": [],
   "source": [
    "#D = TensorDataset(thetas_vect,X_vect) #D=  (thetai, xi)\n",
    "\n",
    "#q_NPE = RationalQuadraticSplineTransformer(10, 5)\n",
    "q_NPE = zuko.flows.NSF(1,2, hidden_features=[5]*1) #TODO Essayer de comprendre comment il est crée pck là ..."
   ]
  },
  {
   "cell_type": "code",
   "execution_count": 126,
   "metadata": {},
   "outputs": [],
   "source": [
    "dataset = TensorDataset(thetas_vect, X_vect)\n",
    "batch_size = 256\n",
    "loader = DataLoader(dataset,batch_size,shuffle=True)"
   ]
  },
  {
   "cell_type": "code",
   "execution_count": 127,
   "metadata": {},
   "outputs": [
    {
     "data": {
      "text/plain": [
       "torch.Size([5000, 2])"
      ]
     },
     "execution_count": 127,
     "metadata": {},
     "output_type": "execute_result"
    }
   ],
   "source": [
    "x_test.size()"
   ]
  },
  {
   "cell_type": "code",
   "execution_count": 128,
   "metadata": {},
   "outputs": [
    {
     "data": {
      "text/plain": [
       "torch.Size([5000, 2])"
      ]
     },
     "execution_count": 128,
     "metadata": {},
     "output_type": "execute_result"
    }
   ],
   "source": [
    "x_test.size()"
   ]
  },
  {
   "cell_type": "code",
   "execution_count": 129,
   "metadata": {},
   "outputs": [
    {
     "name": "stdout",
     "output_type": "stream",
     "text": [
      " Epoch = 1\n",
      "Loss on the validation set = 316.3840637207031\n",
      " Epoch = 2\n",
      "Loss on the validation set = 316.1841125488281\n",
      " Epoch = 3\n",
      "Loss on the validation set = 316.193115234375\n",
      " Epoch = 4\n",
      "Loss on the validation set = 316.1728515625\n",
      " Epoch = 5\n",
      "Loss on the validation set = 316.1843566894531\n",
      " Epoch = 6\n",
      "Loss on the validation set = 316.1733093261719\n",
      " Epoch = 7\n",
      "Loss on the validation set = 316.2033386230469\n",
      " Epoch = 8\n",
      "Loss on the validation set = 316.1696472167969\n",
      " Epoch = 9\n",
      "Loss on the validation set = 316.1954040527344\n",
      " Epoch = 10\n",
      "Loss on the validation set = 316.1796569824219\n",
      " Epoch = 11\n",
      "Loss on the validation set = 316.1809387207031\n",
      " Epoch = 12\n",
      "Loss on the validation set = 316.197998046875\n",
      " Epoch = 13\n",
      "Loss on the validation set = 316.19573974609375\n",
      " Epoch = 14\n",
      "Loss on the validation set = 316.1761779785156\n",
      " Epoch = 15\n",
      "Loss on the validation set = 316.1553039550781\n",
      " Epoch = 16\n",
      "Loss on the validation set = 316.176025390625\n",
      " Epoch = 17\n",
      "Loss on the validation set = 316.157958984375\n",
      " Epoch = 18\n",
      "Loss on the validation set = 316.1673583984375\n",
      " Epoch = 19\n",
      "Loss on the validation set = 316.172607421875\n",
      " Epoch = 20\n",
      "Loss on the validation set = 316.1573181152344\n",
      " Epoch = 21\n",
      "Loss on the validation set = 316.1535949707031\n",
      " Epoch = 22\n",
      "Loss on the validation set = 316.151611328125\n",
      " Epoch = 23\n",
      "Loss on the validation set = 316.18377685546875\n",
      " Epoch = 24\n",
      "Loss on the validation set = 316.16986083984375\n",
      " Epoch = 25\n",
      "Loss on the validation set = 316.1827392578125\n",
      " Epoch = 26\n",
      "Loss on the validation set = 316.15826416015625\n",
      " Epoch = 27\n",
      "Loss on the validation set = 316.1556701660156\n",
      " Epoch = 28\n",
      "Loss on the validation set = 316.1567077636719\n",
      " Epoch = 29\n",
      "Loss on the validation set = 316.1738586425781\n",
      " Epoch = 30\n",
      "Loss on the validation set = 316.1697998046875\n",
      " Epoch = 31\n",
      "Loss on the validation set = 316.17333984375\n",
      " Epoch = 32\n",
      "Loss on the validation set = 316.1628723144531\n",
      " Epoch = 33\n",
      "Loss on the validation set = 316.162353515625\n",
      " Epoch = 34\n",
      "Loss on the validation set = 316.1481018066406\n",
      " Epoch = 35\n",
      "Loss on the validation set = 316.13787841796875\n",
      " Epoch = 36\n",
      "Loss on the validation set = 316.1437072753906\n",
      " Epoch = 37\n",
      "Loss on the validation set = 316.148193359375\n",
      " Epoch = 38\n",
      "Loss on the validation set = 316.1483459472656\n",
      " Epoch = 39\n",
      "Loss on the validation set = 316.1376037597656\n",
      " Epoch = 40\n",
      "Loss on the validation set = 316.15545654296875\n",
      " Epoch = 41\n",
      "Loss on the validation set = 316.1483459472656\n",
      " Epoch = 42\n",
      "Loss on the validation set = 316.16204833984375\n",
      " Epoch = 43\n",
      "Loss on the validation set = 316.1690368652344\n",
      " Epoch = 44\n",
      "Loss on the validation set = 316.15447998046875\n",
      " Epoch = 45\n",
      "Loss on the validation set = 316.1563415527344\n",
      " Epoch = 46\n",
      "Loss on the validation set = 316.1602478027344\n",
      " Epoch = 47\n",
      "Loss on the validation set = 316.1358337402344\n",
      " Epoch = 48\n",
      "Loss on the validation set = 316.16558837890625\n",
      " Epoch = 49\n",
      "Loss on the validation set = 316.1512756347656\n",
      " Epoch = 50\n",
      "Loss on the validation set = 316.1462707519531\n"
     ]
    }
   ],
   "source": [
    "max_epochs = 50\n",
    "learning_rate_NSF = 5*10e-4\n",
    "epsilon = 1e-3\n",
    "optimizer = torch.optim.Adam(q_NPE.parameters(), learning_rate_NSF)\n",
    "with torch.no_grad():\n",
    "    previous_loss = -q_NPE(x_test).log_prob(thetas_test).mean()\n",
    "counter=1\n",
    "patience = 5\n",
    "for epoch in range(max_epochs):\n",
    "    print(f\" Epoch = {epoch+1}\")\n",
    "    for batch_idx, batch in enumerate(loader):\n",
    "        thetas_batch, x_batch = batch\n",
    "        #print(q_NPE)\n",
    "        loss = -q_NPE(x_batch).log_prob(thetas_batch).mean()\n",
    "        optimizer.zero_grad()\n",
    "        loss.backward()\n",
    "        optimizer.step()\n",
    "    with torch.no_grad():\n",
    "        loss_test = -q_NPE(x_test).log_prob(thetas_test).mean()\n",
    "        if np.abs(loss_test - previous_loss) < epsilon:\n",
    "            counter += 1\n",
    "        if counter == patience:\n",
    "            print(f\"Early stop at iteration {i}\")\n",
    "            break\n",
    "        previous_loss = loss_test\n",
    "    print(f\"Loss on the validation set = {previous_loss}\")"
   ]
  },
  {
   "attachments": {},
   "cell_type": "markdown",
   "metadata": {},
   "source": [
    "Train q(x) on {xi} i=1, ... N (so first gen the x)\n",
    "For q(x) uses of a block neural autoregressive flow, single hidden layer of size 8D, x in R^d"
   ]
  },
  {
   "cell_type": "code",
   "execution_count": 130,
   "metadata": {},
   "outputs": [],
   "source": [
    "x = torch.zeros((N, 2))\n",
    "for i in range(N):\n",
    "    theta_tmp = prior_over_mu.sample((1, ))\n",
    "    xi = simulator(theta_tmp)\n",
    "    x[i][0], x[i][1] = xi\n",
    "# {xi} i=1, ... N \n",
    "xtest = torch.zeros((N//10, 2))\n",
    "for i in range(N//10):\n",
    "    theta_tmp = prior_over_mu.sample((1, ))\n",
    "    xtest[i][0], xtest[i][1] =  simulator(theta_tmp)\n"
   ]
  },
  {
   "cell_type": "code",
   "execution_count": 131,
   "metadata": {},
   "outputs": [],
   "source": [
    "dataset = TensorDataset(x)\n",
    "batch_size = 256\n",
    "loader = DataLoader(dataset,batch_size,shuffle=True)\n"
   ]
  },
  {
   "cell_type": "code",
   "execution_count": 132,
   "metadata": {},
   "outputs": [
    {
     "ename": "SyntaxError",
     "evalue": "invalid syntax (1650208075.py, line 1)",
     "output_type": "error",
     "traceback": [
      "\u001b[1;36m  Cell \u001b[1;32mIn[132], line 1\u001b[1;36m\u001b[0m\n\u001b[1;33m    q_x = ??? #Pas trouvé dans le package encore.\u001b[0m\n\u001b[1;37m          ^\u001b[0m\n\u001b[1;31mSyntaxError\u001b[0m\u001b[1;31m:\u001b[0m invalid syntax\n"
     ]
    }
   ],
   "source": [
    "q_x = ??? #Pas trouvé dans le package encore. \n",
    "max_epochs = 50\n",
    "learning_rate_BNAF = 10-2\n",
    "epsilon = 1e-5\n",
    "optimizer = torch.optim.Adam(q_x.parameters(), learning_rate_BNAF)\n",
    "with torch.no_grad():\n",
    "    previous_loss = -q_x.log_prob(xtest).mean()\n",
    "counter=1\n",
    "patience = 5\n",
    "for epoch in range(max_epochs):\n",
    "    print(f\" Epoch = {epoch+1}\")\n",
    "    for batch_idx, batch in enumerate(loader):\n",
    "        thetas_batch, x_batch = batch\n",
    "        loss = -q_x.log_prob(xtest).mean()\n",
    "        optimizer.zero_grad()\n",
    "        loss.backward()\n",
    "        optimizer.step()\n",
    "    with torch.no_grad():\n",
    "        loss_test = -q_x.log_prob(xtest).mean()\n",
    "        if np.abs(loss_test - previous_loss) < epsilon:\n",
    "            counter += 1\n",
    "        if counter == patience:\n",
    "            print(f\"Early stop at iteration {i}\")\n",
    "            break\n",
    "        previous_loss = loss_test\n",
    "    print(f\"Loss on the validation set = {previous_loss}\")"
   ]
  },
  {
   "cell_type": "markdown",
   "metadata": {},
   "source": [
    "Il faut aussi faire les 2 autres simu cad NPE (comme avant) et en mettant directement le modele d'erreur dans le simu"
   ]
  }
 ],
 "metadata": {
  "kernelspec": {
   "display_name": "sbi_env1",
   "language": "python",
   "name": "python3"
  },
  "language_info": {
   "codemirror_mode": {
    "name": "ipython",
    "version": 3
   },
   "file_extension": ".py",
   "mimetype": "text/x-python",
   "name": "python",
   "nbconvert_exporter": "python",
   "pygments_lexer": "ipython3",
   "version": "3.8.16"
  },
  "orig_nbformat": 4
 },
 "nbformat": 4,
 "nbformat_minor": 2
}
