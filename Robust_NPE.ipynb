{
 "cells": [
  {
   "cell_type": "code",
   "execution_count": 1030,
   "metadata": {},
   "outputs": [],
   "source": [
    "import torch\n",
    "import numpy as np\n",
    "from torch.utils.data import TensorDataset, DataLoader\n",
    "import zuko\n",
    "import lampe.inference, lampe.utils\n",
    "import matplotlib.pyplot as plt\n",
    "import tqdm\n",
    "import sklearn\n",
    "from sklearn.discriminant_analysis import QuadraticDiscriminantAnalysis, LinearDiscriminantAnalysis\n",
    "from sklearn.model_selection import train_test_split\n",
    "from sklearn.svm import SVC"
   ]
  },
  {
   "cell_type": "code",
   "execution_count": 1031,
   "metadata": {},
   "outputs": [
    {
     "data": {
      "text/plain": [
       "dict_keys(['theta', 'theta_true', 'x', 'y', 'y_raw'])"
      ]
     },
     "execution_count": 1031,
     "metadata": {},
     "output_type": "execute_result"
    }
   ],
   "source": [
    "data_papier = np.load(\"/home/tux/rnpe/data.npy\",allow_pickle=True)\n",
    "data_papier.item().keys()"
   ]
  },
  {
   "cell_type": "code",
   "execution_count": 1032,
   "metadata": {},
   "outputs": [],
   "source": [
    "prior_over_mu = torch.distributions.Normal(torch.zeros(1), torch.ones(1)*5)"
   ]
  },
  {
   "cell_type": "code",
   "execution_count": 1033,
   "metadata": {},
   "outputs": [],
   "source": [
    "mu = data_papier.item()['theta_true'].item()\n",
    "mu = prior_over_mu.sample().item()\n",
    "mu = 0\n",
    "theta_papier = data_papier.item()['theta']\n",
    "\n",
    "x_papier = data_papier.item()['x']\n",
    "\n",
    "y_papier = data_papier.item()['y']\n",
    "\n",
    "y_raw_papier = data_papier.item()['y_raw']"
   ]
  },
  {
   "cell_type": "code",
   "execution_count": 1034,
   "metadata": {},
   "outputs": [
    {
     "data": {
      "text/plain": [
       "0"
      ]
     },
     "execution_count": 1034,
     "metadata": {},
     "output_type": "execute_result"
    }
   ],
   "source": [
    "mu"
   ]
  },
  {
   "cell_type": "code",
   "execution_count": 1035,
   "metadata": {},
   "outputs": [],
   "source": [
    "N = 50000\n",
    "sigma = 0.01\n",
    "tau = 0.25\n",
    "rho = 1/2"
   ]
  },
  {
   "attachments": {},
   "cell_type": "markdown",
   "metadata": {},
   "source": [
    "Utils"
   ]
  },
  {
   "cell_type": "code",
   "execution_count": 1036,
   "metadata": {},
   "outputs": [],
   "source": [
    "def generate_observed_corrupted_data(N, mu, epsilon):\n",
    "    zx = mu + torch.distributions.Normal(0, 1).sample((N, 100))\n",
    "    zy = zx + torch.distributions.Normal(0, epsilon).sample(zx.shape)\n",
    "    y_raw = torch.cat((zy.mean(dim=1, keepdim=True), zy.var(dim=1, keepdim=True)), dim=-1)\n",
    "    return y_raw"
   ]
  },
  {
   "cell_type": "code",
   "execution_count": 1037,
   "metadata": {},
   "outputs": [],
   "source": [
    "def simulator(N_train,N_test, prior):\n",
    "    N = N_train + N_test\n",
    "    theta = prior.sample((N, ))\n",
    "    \n",
    "    sample = torch.distributions.Normal(theta.unsqueeze(1), 1.0).sample((100, ))\n",
    "    \n",
    "    x_raw = torch.cat((sample.mean(dim=0, keepdim=True), sample.var(dim=0, keepdim=True)), dim=2).squeeze_()\n",
    "    \n",
    "    return theta, x_raw"
   ]
  },
  {
   "cell_type": "code",
   "execution_count": 1038,
   "metadata": {},
   "outputs": [],
   "source": [
    "def scale(quantity):\n",
    "    means = quantity.mean(0)\n",
    "    stds = quantity.std(0)\n",
    "    return (quantity-means)/stds, means, stds"
   ]
  },
  {
   "cell_type": "code",
   "execution_count": 1039,
   "metadata": {},
   "outputs": [],
   "source": [
    "theta_raw_f, x_raw_f = simulator(N, N//10, prior_over_mu)\n",
    "x, x_test = x_raw_f.split(N)\n",
    "x, x_mean, x_std = scale(x)\n",
    "x_test, x_test_mean, x_test_std = scale(x_test)\n",
    "theta, theta_test = theta_raw_f.split(N)\n",
    "theta, theta_mean, theta_std = scale(theta)\n",
    "theta_test, theta_test_mean, theta_test_std = scale(theta_test)\n"
   ]
  },
  {
   "cell_type": "code",
   "execution_count": 1040,
   "metadata": {},
   "outputs": [
    {
     "data": {
      "text/plain": [
       "tensor([0.0213, 7.8079])"
      ]
     },
     "execution_count": 1040,
     "metadata": {},
     "output_type": "execute_result"
    }
   ],
   "source": [
    "dataset = lampe.data.JointDataset(theta, x)\n",
    "dataset_test = lampe.data.JointDataset(theta_test, x_test)\n",
    "\n",
    "y_raw = generate_observed_corrupted_data(N, mu, 1)\n",
    "y = (y_raw[0] - x_mean) / x_std\n",
    "y"
   ]
  },
  {
   "attachments": {},
   "cell_type": "markdown",
   "metadata": {},
   "source": [
    "Simulation (line 1 & 2 of Algorithm 1)"
   ]
  },
  {
   "cell_type": "code",
   "execution_count": 1041,
   "metadata": {},
   "outputs": [],
   "source": [
    "def train_NPE(flow, data, loss,theta_test, x_test, learning_rate=5*10e-4, max_epochs=50,batch_size=256,patience=5):\n",
    "    \"\"\"Trains a NPE.\n",
    "\n",
    "    Args:\n",
    "        flow (lampe.inference.NPE): A instanciated flow\n",
    "        data (lampe.data.JointDataset): dataset (theta, x)\n",
    "        loss (callable): a loss function\n",
    "        theta_test (torch.Tensor): test batch\n",
    "        x_test (torch.Tensor): test batch\n",
    "        learning_rate (float, optional): Defaults to 5*10e-4.\n",
    "        max_epochs (int, optional): Defaults to 50.\n",
    "        batch_size (int, optional): Defaults to 256.\n",
    "        patience (int, optional): Defaults to 5.\n",
    "\n",
    "    Returns:\n",
    "        lampe.inference.NPE: the trained NPE\n",
    "    \"\"\"\n",
    "    \n",
    "    #Optim\n",
    "    optimizer = torch.optim.Adam(flow.parameters(), learning_rate)\n",
    "    step = lampe.utils.GDStep(optimizer)\n",
    "    #Creates the loader\n",
    "    loader = lampe.data.DataLoader(data, batch_size)\n",
    "    #For early stopping\n",
    "    with torch.no_grad():\n",
    "        min_loss = loss(theta_test,x_test)\n",
    "    min_loss_list = [min_loss]\n",
    "    \n",
    "    flow.train()\n",
    "    #batch_norm_x = torch.nn.BatchNorm1d(x_test.shape[1])\n",
    "    #batch_norm_theta = torch.nn.BatchNorm1d(theta_test.shape[1])\n",
    "    for epoch in tqdm.tqdm(range(max_epochs)):\n",
    "        \n",
    "        for theta_batch_raw, x_batch_raw in loader:\n",
    "            #theta_batch = batch_norm_theta(theta_batch_raw)\n",
    "            #x_batch = batch_norm_x(x_batch_raw)\n",
    "            theta_batch = theta_batch_raw\n",
    "            x_batch = x_batch_raw\n",
    "            losses = loss(theta_batch, x_batch)\n",
    "            optimizer.zero_grad()\n",
    "            losses.backward()\n",
    "            optimizer.step()\n",
    "            \n",
    "            #batch_norm_theta(theta_batch_raw)\n",
    "            #batch_norm_x(x_batch_raw)\n",
    "        \n",
    "        #Checking for early stopping\n",
    "        with torch.no_grad():\n",
    "            loss_test = loss(theta_test, x_test)\n",
    "            min_loss_list.append(loss_test)\n",
    "            if len(min_loss_list) - np.argmin(min_loss_list) > patience:\n",
    "                print(f\" Early stop at epoch {epoch}\")\n",
    "                break\n",
    "    flow.eval()\n",
    "    return flow"
   ]
  },
  {
   "cell_type": "code",
   "execution_count": 1042,
   "metadata": {},
   "outputs": [],
   "source": [
    "def train_unconditional(flow, x, x_test, loss, learning_rate=1e-2,max_epochs=50, batch_size=256, patience=5):\n",
    "    \"\"\"Train an unconditional flow\n",
    "\n",
    "    Args:\n",
    "        flow (zuko.flow): A instanciated flow\n",
    "        x (torch.Tensor): \n",
    "        x_test (torch.Tensor): test batch\n",
    "        loss (callable): a loss function\n",
    "        learning_rate (float, optional): Defaults to 1e-3.\n",
    "        max_epochs (int, optional): Defaults to 50.\n",
    "        batch_size (int, optional): Defaults to 256.\n",
    "        patience (int, optional): Defaults to 5.\n",
    "\n",
    "    Returns:\n",
    "        zuko.flow: the trained flow\n",
    "    \"\"\"\n",
    "    \n",
    "    #Optim\n",
    "    optimizer = torch.optim.Adam(flow.parameters(), learning_rate)\n",
    "    \n",
    "    #Creates the loader\n",
    "    loader = torch.utils.data.DataLoader(x, batch_size)\n",
    "    min_loss_list = []\n",
    "    #Early stopping\n",
    "    with torch.no_grad():\n",
    "        min_loss = loss(x_test)\n",
    "    min_loss_list = [min_loss]\n",
    "    \n",
    "    flow.train()\n",
    "    for epoch in tqdm.tqdm(range(max_epochs)):\n",
    "        \n",
    "        for x_batch in loader:\n",
    "        \n",
    "            losses = loss(x_batch)\n",
    "            optimizer.zero_grad()\n",
    "            losses.backward()\n",
    "            optimizer.step()\n",
    "        #Checking for early stopping\n",
    "        with torch.no_grad():\n",
    "            loss_test = loss(x_test)\n",
    "            min_loss_list.append(loss_test)\n",
    "            if len(min_loss_list) - np.argmin(min_loss_list) > patience:\n",
    "                print(f\"Early stop at epoch {epoch}\")\n",
    "                break\n",
    "    return flow"
   ]
  },
  {
   "attachments": {},
   "cell_type": "markdown",
   "metadata": {},
   "source": [
    "Train NPE q(theta|x) on the simulated dataset {(thetai, xi)}, i=1, ... N\n",
    "Uses a neural spline flow defining the transform on the interval [-5, 5] using 10  spline segments and 5 coupling layers. The base of the flow is a standard Gaussian distribution. "
   ]
  },
  {
   "cell_type": "code",
   "execution_count": 1043,
   "metadata": {},
   "outputs": [
    {
     "name": "stderr",
     "output_type": "stream",
     "text": [
      "  0%|          | 0/50 [00:00<?, ?it/s]"
     ]
    }
   ],
   "source": [
    "def build_nsf(features, context):\n",
    "    \"\"\"Callable to instanciate the NPE with NSFs\"\"\"\n",
    "    return zuko.flows.NSF(features, context, bins=10, transforms=5)\n",
    "\n",
    "q_NPE = lampe.inference.NPE(theta_dim = 1, x_dim=2, build=build_nsf)\n",
    "loss_NPE = lampe.inference.NPELoss(q_NPE)\n",
    "q_NPE = train_NPE(q_NPE, dataset, loss_NPE, theta_test, x_test)\n",
    "'''\n",
    "q_NPE_noisy = lampe.inference.NPE(theta_dim = 1, x_dim = 2, build=build_nsf)\n",
    "loss_NPE_noisy = lampe.inference.NPELoss(q_NPE_noisy)\n",
    "q_NPE_noisy = train_NPE(q_NPE_noisy, dataset_noisy, loss_NPE_noisy, theta_test_noisy, x_test_noisy)    \n",
    "'''"
   ]
  },
  {
   "cell_type": "code",
   "execution_count": null,
   "metadata": {},
   "outputs": [
    {
     "data": {
      "image/png": "[encoded data removed]",
      "text/plain": [
       "<Figure size 640x480 with 1 Axes>"
      ]
     },
     "metadata": {},
     "output_type": "display_data"
    }
   ],
   "source": [
    "def plot_corruption_effect(epsilons, npe):\n",
    "    d = {}\n",
    "    for epsilon in epsilons:\n",
    "        y = generate_observed_corrupted_data(N,mu,epsilon)[0]\n",
    "        y = (y-x_mean)/x_std\n",
    "        d[epsilon] = npe.sample(y, (N, ))\n",
    "    colors = plt.cm.rainbow_r(np.linspace(0, 1, len(d)))\n",
    "    for i, (epsilon, posterior) in enumerate(d.items()):\n",
    "        plt.hist(posterior.detach().numpy(), bins=200, alpha=0.5, color=colors[i], label=f\"epsilon={epsilon}\", density=True)\n",
    "    plt.legend()\n",
    "    plt.ylim(top=10)\n",
    "    plt.title(f\"Effects of epsilon on q(theta|y), mu = {mu}\")\n",
    "        \n",
    "plot_corruption_effect([1,2,3, 4], q_NPE)\n",
    "        "
   ]
  },
  {
   "attachments": {},
   "cell_type": "markdown",
   "metadata": {},
   "source": [
    "### Sampling theta here as in the 'classic' NPE framework (i.e. assuming no error)"
   ]
  },
  {
   "cell_type": "code",
   "execution_count": null,
   "metadata": {},
   "outputs": [],
   "source": [
    "thetas_NPE = q_NPE.sample(y, (N, ))\n",
    "\n",
    "#thetas_NPE_noisy = q_NPE_noisy.sample(y,(x_noisy.shape[0], ))"
   ]
  },
  {
   "attachments": {},
   "cell_type": "markdown",
   "metadata": {},
   "source": [
    "Train q(x) on {xi} i=1, ... N (so first gen the x)\n",
    "For q(x) uses of a block neural autoregressive flow, single hidden layer of size 8D, x in R^d"
   ]
  },
  {
   "cell_type": "code",
   "execution_count": null,
   "metadata": {},
   "outputs": [
    {
     "name": "stderr",
     "output_type": "stream",
     "text": [
      " 12%|█▏        | 6/50 [00:30<03:43,  5.07s/it]"
     ]
    },
    {
     "name": "stdout",
     "output_type": "stream",
     "text": [
      "Early stop at epoch 6\n"
     ]
    },
    {
     "name": "stderr",
     "output_type": "stream",
     "text": [
      "\n"
     ]
    }
   ],
   "source": [
    "q_x_NF = zuko.flows.NAF(features = 2, context=0, hidden_features=[8]*2)\n",
    "loss_q_x = lambda x: -q_x_NF().log_prob(x).mean()\n",
    "q_x_NF = train_unconditional(q_x_NF, x, x_test, loss_q_x)\n",
    "#q_x_NF = train_unconditional(q_x_NF, x_raw, x_test, loss_q_x)"
   ]
  },
  {
   "attachments": {},
   "cell_type": "markdown",
   "metadata": {},
   "source": [
    "Sample x~m from p(x | y0) % p(y0 \\ x) q(x), m = 1, ... M using MCMC"
   ]
  },
  {
   "attachments": {},
   "cell_type": "markdown",
   "metadata": {},
   "source": [
    "Spike and slab"
   ]
  },
  {
   "cell_type": "code",
   "execution_count": null,
   "metadata": {},
   "outputs": [],
   "source": [
    "M = 100000\n",
    "warm_up_steps = 20000\n",
    "traj_length = 1\n",
    "target_acceptance_prob = 0.95"
   ]
  },
  {
   "cell_type": "code",
   "execution_count": null,
   "metadata": {},
   "outputs": [],
   "source": [
    "class MHQTransition(lampe.inference.MetropolisHastings):\n",
    "    def q(self, x:torch.Tensor):\n",
    "        return q_x_NF()"
   ]
  },
  {
   "attachments": {},
   "cell_type": "markdown",
   "metadata": {},
   "source": [
    "Suppose we observe y0"
   ]
  },
  {
   "cell_type": "code",
   "execution_count": null,
   "metadata": {},
   "outputs": [],
   "source": [
    "y0 = y\n",
    "#y0 = y_raw[0]"
   ]
  },
  {
   "attachments": {},
   "cell_type": "markdown",
   "metadata": {},
   "source": [
    "Sampling thetasm "
   ]
  },
  {
   "attachments": {},
   "cell_type": "markdown",
   "metadata": {},
   "source": [
    "Comparaisons"
   ]
  },
  {
   "cell_type": "code",
   "execution_count": null,
   "metadata": {},
   "outputs": [],
   "source": [
    "def compare(flow,x,file):\n",
    "    class1 = file\n",
    "    post = flow.flow(x).sample((class1.shape[0], ))\n",
    "    print(post.shape)\n",
    "    #post = scale(post)\n",
    "    post_array = post.detach().numpy()\n",
    "    class0 = post_array\n",
    "    class0_labels = np.zeros(len(class0))\n",
    "    class1_labels = np.ones(len(class1))\n",
    "    data = np.concatenate((class0,class1), axis=0)\n",
    "    labels = np.concatenate((class0_labels, class1_labels), axis=0)\n",
    "    X_train, X_test, y_train, y_test = train_test_split(data,labels)\n",
    "\n",
    "    clf = QuadraticDiscriminantAnalysis()\n",
    "    clf.fit(X_train, y_train)\n",
    "\n",
    "    y_pred = clf.predict(X_test)\n",
    "    acc = sklearn.metrics.accuracy_score(y_test,y_pred)\n",
    "    return acc\n",
    "    "
   ]
  },
  {
   "attachments": {},
   "cell_type": "markdown",
   "metadata": {},
   "source": [
    "NPE "
   ]
  },
  {
   "cell_type": "code",
   "execution_count": null,
   "metadata": {},
   "outputs": [
    {
     "data": {
      "image/png": "[encoded data removed]",
      "text/plain": [
       "<Figure size 640x480 with 1 Axes>"
      ]
     },
     "metadata": {},
     "output_type": "display_data"
    }
   ],
   "source": [
    "import seaborn as sns\n",
    "sns.kdeplot(thetas_NPE.squeeze().detach().numpy(),color='red', label='thetas_NPE 1')\n",
    "sns.kdeplot(np.load(\"/home/tux/rnpe/naive_samples_papers.npy\"),color='blue', label='thetas_NPE 2')\n",
    "\n",
    "plt.legend()\n",
    "plt.show()"
   ]
  },
  {
   "attachments": {},
   "cell_type": "markdown",
   "metadata": {},
   "source": [
    "Les thetasm directement"
   ]
  },
  {
   "cell_type": "code",
   "execution_count": null,
   "metadata": {},
   "outputs": [],
   "source": [
    "#file = np.load(\"/home/tux/rnpe/robust_samples_paper.npy\", allow_pickle=True)\n",
    "#compare(q_NPE,xm_samples,file)"
   ]
  },
  {
   "cell_type": "code",
   "execution_count": null,
   "metadata": {},
   "outputs": [],
   "source": [
    "x_props = q_x_NF().sample((warm_up_steps+M, ))"
   ]
  },
  {
   "cell_type": "code",
   "execution_count": null,
   "metadata": {},
   "outputs": [],
   "source": [
    "x_props = x_props[~x_props.isinf().any(dim=1)]"
   ]
  },
  {
   "cell_type": "code",
   "execution_count": null,
   "metadata": {},
   "outputs": [
    {
     "name": "stderr",
     "output_type": "stream",
     "text": [
      "/tmp/ipykernel_3432/596878230.py:24: UserWarning: To copy construct from a tensor, it is recommended to use sourceTensor.clone().detach() or sourceTensor.clone().detach().requires_grad_(True), rather than torch.tensor(sourceTensor).\n",
      "  slab_dist = torch.distributions.Cauchy(torch.tensor(xj.clone().detach()), torch.tensor(tau))\n",
      "  0%|          | 0/120000 [00:00<?, ?it/s]/tmp/ipykernel_3432/596878230.py:18: UserWarning: To copy construct from a tensor, it is recommended to use sourceTensor.clone().detach() or sourceTensor.clone().detach().requires_grad_(True), rather than torch.tensor(sourceTensor).\n",
      "  spike_dist =  torch.distributions.Normal(torch.tensor(xj.clone().detach()), torch.tensor(sigma))\n",
      "100%|██████████| 120000/120000 [00:39<00:00, 3015.31it/s]\n"
     ]
    }
   ],
   "source": [
    "def proposal(x_curr):\n",
    "    random_x = torch.randint(low=0, high= x_props.shape[0], size=(1, ))\n",
    "    return x_props[random_x][0]\n",
    "    #return q_x_NF().sample()\n",
    "    return x_curr + torch.distributions.Normal(0,1).sample(x_curr.shape)\n",
    "\n",
    "\n",
    "def f(y0, x): #% to p(x |y0)\n",
    "    D = 2\n",
    "    res = torch.zeros_like(y0)\n",
    "\n",
    "    \n",
    "    for j in range(D):\n",
    "        xj = x[j]\n",
    "        yj = y0[j]\n",
    "        zj = torch.distributions.Bernoulli(rho).sample()\n",
    "        if not zj:\n",
    "            spike_dist =  torch.distributions.Normal(torch.tensor(xj.clone().detach()), torch.tensor(sigma))\n",
    "            res[j] = torch.exp(spike_dist.log_prob(yj))\n",
    "\n",
    "            \n",
    "        else:\n",
    "            \n",
    "            slab_dist = torch.distributions.Cauchy(torch.tensor(xj.clone().detach()), torch.tensor(tau))\n",
    "            res[j] = torch.exp(slab_dist.log_prob(yj))\n",
    "\n",
    "    return res\n",
    "\n",
    "\n",
    "def mcmc(x0, warm_up_steps, M):\n",
    "    x_curr = x0\n",
    "    my_samples = torch.empty((warm_up_steps+M, x0.shape[0]))\n",
    "    log_f_x_curr = f(y0, x_curr).log()\n",
    "    for i in tqdm.tqdm(range(warm_up_steps+M)):\n",
    "        x_star = proposal(x_curr)\n",
    "        log_f_x_star = f(y0, x_star).log()\n",
    "\n",
    "        log_a = log_f_x_star - log_f_x_curr\n",
    "\n",
    "        a = torch.exp(log_a)\n",
    "\n",
    "    \n",
    "        u = torch.rand(a.shape).to(a)\n",
    "\n",
    "        mask = u < a\n",
    "\n",
    "        x_curr = torch.where(mask, x_star, x_curr)\n",
    "        log_f_x_curr = torch.where(mask, log_f_x_star, log_f_x_curr)\n",
    "    \n",
    "        my_samples[i] = x_curr\n",
    "    my_samples = my_samples[warm_up_steps:]\n",
    "    return my_samples\n",
    "\n",
    "my_samples = mcmc(torch.zeros_like(x[0]), warm_up_steps, M)"
   ]
  },
  {
   "cell_type": "code",
   "execution_count": null,
   "metadata": {},
   "outputs": [],
   "source": [
    "my_samples_unscaled = (my_samples + x_mean) *x_std\n",
    "thetas_m = q_NPE.sample(my_samples)"
   ]
  },
  {
   "cell_type": "code",
   "execution_count": null,
   "metadata": {},
   "outputs": [
    {
     "data": {
      "text/plain": [
       "<Axes: ylabel='Density'>"
      ]
     },
     "execution_count": 1022,
     "metadata": {},
     "output_type": "execute_result"
    },
    {
     "data": {
      "image/png": "[encoded data removed]",
      "text/plain": [
       "<Figure size 640x480 with 1 Axes>"
      ]
     },
     "metadata": {},
     "output_type": "display_data"
    }
   ],
   "source": [
    "sns.kdeplot(thetas_m)\n",
    "sns.kdeplot(thetas_NPE.squeeze(),c='red')"
   ]
  },
  {
   "cell_type": "code",
   "execution_count": null,
   "metadata": {},
   "outputs": [
    {
     "name": "stderr",
     "output_type": "stream",
     "text": [
      "/home/tux/miniconda3/envs/rnpe_env/lib/python3.9/site-packages/matplotlib/cbook/__init__.py:1335: FutureWarning: The input object of type 'Tensor' is an array-like implementing one of the corresponding protocols (`__array__`, `__array_interface__` or `__array_struct__`); but not a sequence (or 0-D). In the future, this object will be coerced as if it was first converted using `np.array(obj)`. To retain the old behaviour, you have to either modify the type 'Tensor', or assign to an empty array created with `np.empty(correct_shape, dtype=object)`.\n",
      "  return np.asarray(x, float)\n"
     ]
    },
    {
     "data": {
      "image/png": "[encoded data removed]",
      "text/plain": [
       "<Figure size 900x300 with 2 Axes>"
      ]
     },
     "metadata": {},
     "output_type": "display_data"
    }
   ],
   "source": [
    "def plot_thetas_scaled(thetas_NPE, thetasm): #,thetas_NPE_noisy\n",
    "    n_bins= 300\n",
    "    fig, (ax1, ax2) = plt.subplots(1,2, figsize=(9, 3))\n",
    "    \n",
    "    ax1.hist(thetas_NPE.squeeze().detach().numpy(),bins=n_bins, alpha=0.5, color='r', label='NPE', density=True)\n",
    "    ax1.hist(thetasm.squeeze().detach().numpy(),bins=n_bins, alpha = 0.5, color='g', label='RNPE', density=True)\n",
    "    mu_sclaled = (mu - theta_mean)/theta_std\n",
    "    ax1.axvline(x=mu_sclaled,color=\"purple\")\n",
    "    ax1.axis(xmin=-4,xmax= 2.5)\n",
    "    ax1.axis(ymax=5)\n",
    "    ax1.legend()\n",
    "    ax1.set_title(\"Posterior density estimation\")\n",
    "    \n",
    "    ax2.hist(((thetas_NPE.squeeze() + theta_mean)*theta_std).detach().numpy(), bins=n_bins,alpha=0.5, color='r', label='NPE',density=True)\n",
    "    ax2.hist(((thetasm.squeeze()+theta_mean)*theta_std).detach().numpy(), bins=n_bins, alpha=0.5, color='g', label='RNPE', density=True)\n",
    "    ax2.axis(xmin=-7,xmax= 7)\n",
    "    ax2.axis(ymax=5)\n",
    "    ax2.axvline(x=mu,color=\"purple\")\n",
    "    ax2.legend()\n",
    "    ax2.set_title(\"Posterior density estimation, rescaled\")\n",
    "    plt.show()\n",
    "\n",
    "plot_thetas_scaled(thetas_NPE, thetas_m)#,thetas_NPE_noisy)\n",
    "#TODO Plot true post"
   ]
  },
  {
   "cell_type": "code",
   "execution_count": null,
   "metadata": {},
   "outputs": [],
   "source": [
    "def plot_log_probs(flow, x, y, theta_star):\n",
    "    \n",
    "    with torch.no_grad():\n",
    "        log_probs_NPE = [flow.flow(xj).log_prob(theta_star) for xj in tqdm.tqdm(x)]\n",
    "        \n",
    "        log_probs_RNPE = [flow.flow(xmj).log_prob(theta_star) for xmj in tqdm.tqdm(my_samples)]\n",
    "        \n",
    "        #log_probs_NNPE = [flow.flow(xnj).log_prob(theta_star) for xnj in tqdm.tqdm(x_noisy)]\n",
    "    \n",
    "    fig, ax = plt.subplots()\n",
    "    boxplot = ax.boxplot([log_probs_NPE, log_probs_RNPE], showmeans=True)\n",
    "    for box in boxplot['boxes']:\n",
    "        box.set(color='black', linewidth=1.5)\n",
    "    for whisker in boxplot['whiskers']:\n",
    "        whisker.set(color='black', linewidth=1.5)\n",
    "    for cap in boxplot['caps']:\n",
    "        cap.set(color='black', linewidth=1.5)\n",
    "    for median in boxplot['medians']:\n",
    "        median.set(color='red', linewidth=1.5)\n",
    "    ax.set_xticklabels(['NPE', 'RNPE'])\n",
    "    ax.set_xlabel('Model')\n",
    "    ax.set_ylabel('Log Probability')\n",
    "    ax.set_title('Log Probability for NPE, RNPE and NNPE models')\n",
    "    plt.show()\n",
    "\n",
    "    ax.set_xticklabels(['NPE', 'RNPE'])\n",
    "    plt.show()\n",
    "    return log_probs_NPE, log_probs_RNPE#, log_probs_NNPE\n",
    "\n",
    "theta_star = torch.tensor(mu).unsqueeze(0)\n",
    "#log_probs_NPE, log_probs_RNPE = plot_log_probs(q_NPE, (y_raw-x_mean)/x_std, my_samples, theta_star)"
   ]
  },
  {
   "cell_type": "code",
   "execution_count": null,
   "metadata": {},
   "outputs": [],
   "source": [
    "x_ = x[:1000,:]"
   ]
  },
  {
   "cell_type": "code",
   "execution_count": null,
   "metadata": {},
   "outputs": [
    {
     "data": {
      "text/plain": [
       "(array([ True]), 0.95)"
      ]
     },
     "execution_count": 1026,
     "metadata": {},
     "output_type": "execute_result"
    }
   ],
   "source": [
    "import numpy as np\n",
    "import scipy.stats as stats\n",
    "\n",
    "def confidence_interval(mu, var, alpha=0.05):\n",
    "    z = stats.norm.ppf(1 - alpha/2)\n",
    "    width = z * np.sqrt(var)\n",
    "    return (mu - width, mu + width)\n",
    "def compute_coverage(flow, theta_star, n_samples=10000, alpha=0.05):\n",
    "    # Generate samples from the flow\n",
    "    samples = flow.sample().detach().numpy()\n",
    "\n",
    "    # Estimate the mean and variance of the samples\n",
    "    mu = np.mean(samples, axis=0)\n",
    "    var = np.var(samples, axis=0, ddof=1)\n",
    "\n",
    "    # Compute the confidence interval for the mean\n",
    "    ci = confidence_interval(mu, var, alpha=alpha)\n",
    "\n",
    "    # Compute the coverage and expected coverage\n",
    "    coverage = (theta_star > ci[0]) and (theta_star < ci[1])\n",
    "    expected_coverage = 1 - alpha\n",
    "\n",
    "    return coverage, expected_coverage\n",
    "compute_coverage(q_NPE.flow(x), mu)\n"
   ]
  },
  {
   "attachments": {},
   "cell_type": "markdown",
   "metadata": {},
   "source": [
    "Sample theta ~q(theta | xm), m = 1, ..., M"
   ]
  },
  {
   "cell_type": "code",
   "execution_count": null,
   "metadata": {},
   "outputs": [],
   "source": [
    "if False:\n",
    "    \n",
    "\n",
    "    from lampe.diagnostics import expected_coverage_mc, expected_coverage_ni\n",
    "    from lampe.plots import nice_rc, coverage_plot\n",
    "\n",
    "    thetas_star_npe = theta_star.expand(x.shape[0])\n",
    "    dataset_npe = lampe.data.JointDataset(thetas_star_npe.unsqueeze(1),x)\n",
    "\n",
    "    thetas_star_rnpe = theta_star.expand(xm_samples.shape[0])\n",
    "    dataset_rnpe = lampe.data.JointDataset(thetas_star_rnpe.unsqueeze(1), xm_samples)\n",
    "\n",
    "    npe_levels, npe_coverages = expected_coverage_mc(q_NPE.flow, dataset_npe)\n",
    "    nnpe_levels, nnpe_coverages = expected_coverage_mc(q_NPE.flow, dataset_rnpe)\n",
    "\n",
    "    fig = coverage_plot(npe_levels, npe_coverages, legend='NPE')\n",
    "    fig = coverage_plot(nnpe_levels, nnpe_coverages, legend='NNPE')"
   ]
  },
  {
   "attachments": {},
   "cell_type": "markdown",
   "metadata": {},
   "source": [
    "Il faut aussi faire les 2 autres simu cad NPE (comme avant) et en mettant directement le modele d'erreur dans le simu"
   ]
  }
 ],
 "metadata": {
  "kernelspec": {
   "display_name": "rnpe_env",
   "language": "python",
   "name": "python3"
  },
  "language_info": {
   "codemirror_mode": {
    "name": "ipython",
    "version": 3
   },
   "file_extension": ".py",
   "mimetype": "text/x-python",
   "name": "python",
   "nbconvert_exporter": "python",
   "pygments_lexer": "ipython3",
   "version": "3.9.16"
  },
  "orig_nbformat": 4
 },
 "nbformat": 4,
 "nbformat_minor": 2
}
