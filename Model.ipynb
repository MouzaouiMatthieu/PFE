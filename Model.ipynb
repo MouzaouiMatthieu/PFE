{
 "cells": [
  {
   "cell_type": "code",
   "execution_count": 1,
   "metadata": {},
   "outputs": [],
   "source": [
    "import torch\n",
    "import matplotlib.pyplot as plt\n",
    "import numpy as np\n",
    "import scipy.integrate as integrate\n",
    "\n",
    "import ipywidgets as widgets\n",
    "from IPython.display import display\n",
    "import pickle\n",
    "\n",
    "\n",
    "import torch\n",
    "from sbi import utils as utils\n",
    "from sbi import analysis as analysis\n",
    "from sbi.inference import SNPE, prepare_for_sbi, simulate_for_sbi\n",
    "from sbi.utils.get_nn_models import posterior_nn\n",
    "import matplotlib.pyplot as plt\n",
    "import seaborn as sns\n",
    "import pandas as pd\n",
    "from functools import partial\n",
    "\n",
    "import zuko\n",
    "import lampe.inference\n",
    "import lampe.utils\n",
    "from tqdm.notebook import tqdm_notebook as tqdm\n",
    "from lampe.utils import GDStep\n",
    "\n",
    "from itertools import islice\n",
    "from lampe.data import JointLoader"
   ]
  },
  {
   "cell_type": "code",
   "execution_count": 2,
   "metadata": {},
   "outputs": [],
   "source": [
    "theta_true = torch.Tensor([0])\n",
    "prior = torch.distributions.Normal(0, 5)\n",
    "N=100"
   ]
  },
  {
   "attachments": {},
   "cell_type": "markdown",
   "metadata": {},
   "source": [
    "# True Posteriors"
   ]
  },
  {
   "attachments": {},
   "cell_type": "markdown",
   "metadata": {},
   "source": [
    "## Observing 2 random variable $ z_1, z_2 \\sim \\mathcal{N}(\\theta, 1) $"
   ]
  },
  {
   "cell_type": "code",
   "execution_count": 3,
   "metadata": {},
   "outputs": [],
   "source": [
    "\n",
    "#Say we observe z1, z2\n",
    "zi = torch.distributions.Normal(theta_true, 1).sample((N,)).squeeze().tolist()\n",
    "z1, z2 = zi[0], zi[1]"
   ]
  },
  {
   "cell_type": "code",
   "execution_count": 4,
   "metadata": {},
   "outputs": [],
   "source": [
    "\n",
    "def posterior_z(theta, z1=z1, z2=z2):\n",
    "    \"\"\"Posterior if we observe z1, z2\"\"\"\n",
    "    def improper_posterior_z(theta, z1=z1, z2=z2):\n",
    "        likelihood_part = -(np.square(theta-z1) + np.square(theta-z2))/2\n",
    "        prior_part = np.square(theta)/50\n",
    "        res = np.exp(likelihood_part)*np.exp(prior_part)\n",
    "        return res\n",
    "    Z_z1_z2, eps = integrate.quad(improper_posterior_z,-15,15) #Integrale of p_impropre(θ|z1,z2)\n",
    "    return improper_posterior_z(theta, z1, z2)/Z_z1_z2\n"
   ]
  },
  {
   "cell_type": "code",
   "execution_count": 5,
   "metadata": {},
   "outputs": [
    {
     "data": {
      "image/png": "[encoded data removed]",
      "text/plain": [
       "<Figure size 640x480 with 1 Axes>"
      ]
     },
     "metadata": {},
     "output_type": "display_data"
    }
   ],
   "source": [
    "theta_grid = np.linspace(-15,15,1000)\n",
    "eval_post = [posterior_z(theta, z1, z2) for theta in theta_grid]\n",
    "fig = plt.figure()\n",
    "plt.plot(theta_grid, eval_post)\n",
    "plt.xlim(left=-5,right=5)\n",
    "plt.title(f\"Posterior when z1,z2 =  {z1:.3f}, {z2:.3f}\")\n",
    "plt.show()"
   ]
  },
  {
   "cell_type": "code",
   "execution_count": 6,
   "metadata": {},
   "outputs": [
    {
     "data": {
      "text/plain": [
       "-0.23221350914123012"
      ]
     },
     "execution_count": 6,
     "metadata": {},
     "output_type": "execute_result"
    }
   ],
   "source": [
    "mu = (z1 +z2) /(2+1/25)\n",
    "var = (2+1/25)**(-1)\n",
    "mu"
   ]
  },
  {
   "cell_type": "code",
   "execution_count": 7,
   "metadata": {},
   "outputs": [
    {
     "data": {
      "application/vnd.jupyter.widget-view+json": {
       "model_id": "285a4bf0b4d549edb8b029cf6a82327d",
       "version_major": 2,
       "version_minor": 0
      },
      "text/plain": [
       "  0%|          | 0/10000 [00:00<?, ?it/s]"
      ]
     },
     "metadata": {},
     "output_type": "display_data"
    }
   ],
   "source": [
    "def uniform_proposal(x, delta=2.0):\n",
    "    return np.random.normal(x)#(x - delta, x + delta)\n",
    "\n",
    "def metropolis_sampler(p, nsamples, proposal=uniform_proposal):\n",
    "    x = 1 # start somewhere\n",
    "\n",
    "    for i in tqdm(range(nsamples)):\n",
    "        trial = proposal(x) # random neighbour from the proposal distribution\n",
    "        acceptance = p(trial)/p(x)\n",
    "\n",
    "        # accept the move conditionally\n",
    "        if np.random.uniform() < acceptance:\n",
    "            x = trial\n",
    "\n",
    "        yield x\n",
    "true_samples = list(metropolis_sampler(posterior_z, 10_000))"
   ]
  },
  {
   "cell_type": "code",
   "execution_count": 8,
   "metadata": {},
   "outputs": [
    {
     "name": "stdout",
     "output_type": "stream",
     "text": [
      " mean samples = -0.2415172862530322 whereas theroretical mean = -0.23221350914123012\n",
      " var samples = 0.5030591720765284 whereas theroretical var = 0.49019607843137253\n"
     ]
    }
   ],
   "source": [
    "print(f\" mean samples = {np.mean(true_samples)} whereas theroretical mean = {mu}\")\n",
    "print(f\" var samples = {np.var(true_samples)} whereas theroretical var = {var}\")"
   ]
  },
  {
   "attachments": {},
   "cell_type": "markdown",
   "metadata": {},
   "source": [
    "## Say we observed the mean of two random variables, $x= \\frac{1}{2}(z_1 + z_2) $"
   ]
  },
  {
   "cell_type": "code",
   "execution_count": 9,
   "metadata": {},
   "outputs": [],
   "source": [
    "x = (z1 + z2)/2"
   ]
  },
  {
   "cell_type": "code",
   "execution_count": 10,
   "metadata": {},
   "outputs": [],
   "source": [
    "def posterior_x(theta, x=x):\n",
    "    \"\"\"Posterior when observing x=mean(z1, z2)\"\"\"\n",
    "    def improper_posterior_x(theta, x=x):\n",
    "        likelihood_part = -np.square(theta - x)\n",
    "        prior_part = -np.square(theta)/50\n",
    "        return np.exp(likelihood_part)*np.exp(prior_part)\n",
    "    z_x, eps = integrate.quad(improper_posterior_x, -15, 15)\n",
    "    return improper_posterior_x(theta,x)/z_x"
   ]
  },
  {
   "cell_type": "code",
   "execution_count": 11,
   "metadata": {},
   "outputs": [
    {
     "data": {
      "image/png": "[encoded data removed]",
      "text/plain": [
       "<Figure size 640x480 with 1 Axes>"
      ]
     },
     "metadata": {},
     "output_type": "display_data"
    }
   ],
   "source": [
    "eval_post_x = [posterior_x(theta, x) for theta in theta_grid]\n",
    "fig = plt.figure()\n",
    "plt.plot(theta_grid, eval_post_x)\n",
    "plt.xlim(left=-5,right=5)\n",
    "plt.title(f\"Posterior when observing x =  {x:.3f}\")\n",
    "plt.show()"
   ]
  },
  {
   "attachments": {},
   "cell_type": "markdown",
   "metadata": {},
   "source": [
    "## Say we observed the mean of N random variables"
   ]
  },
  {
   "cell_type": "code",
   "execution_count": 12,
   "metadata": {},
   "outputs": [
    {
     "data": {
      "image/png": "[encoded data removed]",
      "text/plain": [
       "<Figure size 640x480 with 1 Axes>"
      ]
     },
     "metadata": {},
     "output_type": "display_data"
    }
   ],
   "source": [
    "x = np.mean(zi)\n",
    "\n",
    "\n",
    "def posterior_x_N(theta, x=x):\n",
    "    \"\"\"Posterior when observing x= mean(z1, z2... ,zn)\"\"\"\n",
    "    def impropoer_posterior_x_N(theta, x=x):\n",
    "        likelihood_part = -N*np.square(theta -x)/2\n",
    "        prior_part = -np.square(theta)/50\n",
    "        return np.exp(likelihood_part)*np.exp(prior_part)\n",
    "    z_x_n, eps = integrate.quad(impropoer_posterior_x_N,-15, 15)\n",
    "    return impropoer_posterior_x_N(theta,x)/z_x_n\n",
    "\n",
    "\n",
    "\n",
    "eval_post_x_n = [posterior_x_N(theta, x) for theta in theta_grid]\n",
    "fig = plt.figure()\n",
    "plt.plot(theta_grid, eval_post_x_n)\n",
    "plt.title(f\"Posterior when observing x =  {x:.3f}\")\n",
    "plt.xlim(left=-3,right=3)\n",
    "plt.show()"
   ]
  },
  {
   "attachments": {},
   "cell_type": "markdown",
   "metadata": {},
   "source": [
    "## Suppose we observed the mean and the variance of N random variables"
   ]
  },
  {
   "cell_type": "code",
   "execution_count": 13,
   "metadata": {},
   "outputs": [
    {
     "data": {
      "text/plain": [
       "tensor([0.1117])"
      ]
     },
     "execution_count": 13,
     "metadata": {},
     "output_type": "execute_result"
    }
   ],
   "source": [
    "x1 = np.mean(zi)\n",
    "x2 = np.var(zi)\n",
    "np.abs(x1 - theta_true)"
   ]
  },
  {
   "cell_type": "code",
   "execution_count": 14,
   "metadata": {},
   "outputs": [
    {
     "data": {
      "image/png": "[encoded data removed]",
      "text/plain": [
       "<Figure size 640x480 with 1 Axes>"
      ]
     },
     "metadata": {},
     "output_type": "display_data"
    }
   ],
   "source": [
    "def posterior_summaries(theta, x1=x1, x2=x2):\n",
    "    \"\"\"Posterior when observing x= mean(z1...zn), var(z1...zn)\"\"\"\n",
    "    def impropoer_posterior_summaries(theta,x1=x1,x2=x2):\n",
    "        likelihood_x1_part = -N*np.square(theta - x1)/2\n",
    "        likelihood_x2_part = -N*np.square(1 - x2)\n",
    "        prior_part = -np.square(theta)/50\n",
    "        return np.exp(likelihood_x1_part)*np.exp(likelihood_x2_part)*np.exp(prior_part)+1e-9\n",
    "    z_summaries, eps = integrate.quad(impropoer_posterior_summaries, -25, 25)\n",
    "    return impropoer_posterior_summaries(theta,x1,x2)/z_summaries\n",
    "\n",
    "eval_post_summaries = [posterior_summaries(theta, x1, x2) for theta in theta_grid]\n",
    "fig = plt.figure()\n",
    "plt.plot(theta_grid, eval_post_summaries)\n",
    "plt.title(f\"Posterior when observing x = {x1:.3f}, {x2:.3f}\")\n",
    "plt.xlim(left=-3,right=3)\n",
    "plt.show()"
   ]
  },
  {
   "attachments": {},
   "cell_type": "markdown",
   "metadata": {},
   "source": [
    "## Suppose we observed the variance of N random variables"
   ]
  },
  {
   "cell_type": "code",
   "execution_count": 15,
   "metadata": {},
   "outputs": [],
   "source": [
    "x=np.var(zi)"
   ]
  },
  {
   "cell_type": "code",
   "execution_count": 16,
   "metadata": {},
   "outputs": [
    {
     "data": {
      "image/png": "[encoded data removed]",
      "text/plain": [
       "<Figure size 640x480 with 1 Axes>"
      ]
     },
     "metadata": {},
     "output_type": "display_data"
    }
   ],
   "source": [
    "def posterior_var(theta, x=x):\n",
    "    \"\"\"Posterior when observing x= var(z1...zn)\"\"\"\n",
    "    def improper_posterior_var(theta,x=x):\n",
    "        likelihood_part = -N*np.square(x-1)\n",
    "        prior_part = -np.square(theta)/50\n",
    "        return np.exp(likelihood_part)*np.exp(prior_part)\n",
    "    z_summaries, eps = integrate.quad(improper_posterior_var, -25, 25)\n",
    "    return improper_posterior_var(theta,x)/z_summaries\n",
    "\n",
    "eval_post_var= [posterior_var(theta, x2) for theta in theta_grid]\n",
    "fig = plt.figure()\n",
    "plt.plot(theta_grid, eval_post_var)\n",
    "plt.title(f\"Posterior when observing x = var(z1...zn) = {x2:.3f}\")\n",
    "#plt.xlim(left=-3,right=3)\n",
    "plt.show()"
   ]
  },
  {
   "attachments": {},
   "cell_type": "markdown",
   "metadata": {},
   "source": [
    "## Comparaison"
   ]
  },
  {
   "cell_type": "code",
   "execution_count": 17,
   "metadata": {},
   "outputs": [
    {
     "name": "stderr",
     "output_type": "stream",
     "text": [
      "c:\\Users\\mmmat\\anaconda3\\envs\\sbi_env1\\lib\\site-packages\\matplotlib\\cbook\\__init__.py:1335: FutureWarning: The input object of type 'Tensor' is an array-like implementing one of the corresponding protocols (`__array__`, `__array_interface__` or `__array_struct__`); but not a sequence (or 0-D). In the future, this object will be coerced as if it was first converted using `np.array(obj)`. To retain the old behaviour, you have to either modify the type 'Tensor', or assign to an empty array created with `np.empty(correct_shape, dtype=object)`.\n",
      "  return np.asarray(x, float)\n"
     ]
    },
    {
     "data": {
      "image/png": "[encoded data removed]",
      "text/plain": [
       "<Figure size 640x480 with 1 Axes>"
      ]
     },
     "metadata": {},
     "output_type": "display_data"
    }
   ],
   "source": [
    "fig = plt.figure()\n",
    "plt.xlim(left=-4, right=4)\n",
    "plt.plot(theta_grid, eval_post, label=\" Obs = z1, z2\", linewidth=2.5)\n",
    "plt.plot(theta_grid, eval_post_x, label=\"Obs = (z1 +z2)/2\", linestyle='dashed', linewidth=2.5)\n",
    "plt.plot(theta_grid, eval_post_x_n, label=\"Obs = mean(zi)\", linewidth=2.5)\n",
    "plt.plot(theta_grid, eval_post_summaries, label=\"Obs = (mean(zi), var(zi))\", linestyle=\"dashed\", linewidth=2.5)\n",
    "#plt.plot(theta_grid, eval_post_var, label=\"Obs = var(zi)\", linewidth=2.5)\n",
    "plt.axvline(x=theta_true, ls='--', c='k')\n",
    "fig.legend(bbox_to_anchor=(1.04, 1), loc=\"upper left\")\n",
    "plt.title(\"True posteriors on θ depending on the kind of data observed\")\n",
    "plt.show()\n"
   ]
  },
  {
   "attachments": {},
   "cell_type": "markdown",
   "metadata": {},
   "source": [
    "As expected the last 2 methods yield similar results"
   ]
  },
  {
   "cell_type": "code",
   "execution_count": 18,
   "metadata": {},
   "outputs": [],
   "source": [
    "def get_true_post(summaries, x_star):\n",
    "    if \"two_z\" == summaries:\n",
    "        #We observe z1, z2\n",
    "        post = [posterior_z(theta_i, x_star[0], x_star[1]) for theta_i in theta_grid]\n",
    "        dist = posterior_z\n",
    "    elif \"mean_two_z\"== summaries:\n",
    "        #We observed x = mean(z1, z2)\n",
    "        post = [posterior_x(theta_i,x_star) for theta_i in theta_grid]\n",
    "        dist = posterior_x\n",
    "    elif \"var\"==summaries:\n",
    "        #We observe x=var(z1...zn)\n",
    "        post = [posterior_var(theta_i, x_star) for theta_i in theta_grid]\n",
    "        dist = posterior_var\n",
    "    elif \"var\" in summaries and \"mean\" in summaries:\n",
    "        #We observe x = (x1, x2) = (mean, var)\n",
    "        post = [posterior_summaries(theta_i, x_star[0], x_star[1]) for theta_i in theta_grid]\n",
    "        dist = posterior_summaries\n",
    "\n",
    "    elif \"mean\"==summaries:\n",
    "        #We observe x = mean(z1, ... z100)\n",
    "        post = [posterior_x_N(theta_i, x_star) for theta_i in theta_grid]\n",
    "        dist = posterior_x_N\n",
    "    return post, dist"
   ]
  },
  {
   "attachments": {},
   "cell_type": "markdown",
   "metadata": {},
   "source": [
    "# Now let us compare these true posteriors to the estimations using SBI"
   ]
  },
  {
   "cell_type": "code",
   "execution_count": 19,
   "metadata": {},
   "outputs": [
    {
     "data": {
      "application/vnd.jupyter.widget-view+json": {
       "model_id": "27ee806066e745508ece4549785ecdda",
       "version_major": 2,
       "version_minor": 0
      },
      "text/plain": [
       "Running 50000 simulations.:   0%|          | 0/50000 [00:00<?, ?it/s]"
      ]
     },
     "metadata": {},
     "output_type": "display_data"
    },
    {
     "name": "stdout",
     "output_type": "stream",
     "text": [
      " Neural network successfully converged after 17 epochs."
     ]
    },
    {
     "name": "stderr",
     "output_type": "stream",
     "text": [
      "C:\\Users\\mmmat\\AppData\\Local\\Temp\\ipykernel_22068\\2621513431.py:89: UserWarning: Matplotlib is currently using module://matplotlib_inline.backend_inline, which is a non-GUI backend, so cannot show the figure.\n",
      "  fig.show()\n"
     ]
    },
    {
     "data": {
      "image/png": "[encoded data removed]",
      "text/plain": [
       "<Figure size 800x500 with 1 Axes>"
      ]
     },
     "metadata": {},
     "output_type": "display_data"
    }
   ],
   "source": [
    "\n",
    "\n",
    "torch.manual_seed(42)\n",
    "\n",
    "# define the prior over theta\n",
    "prior = torch.distributions.Normal(\n",
    "    loc=torch.tensor([0.0]), scale=torch.tensor([5.0])\n",
    ")\n",
    "\n",
    "# define the model to work with\n",
    "def gaussian(theta, sigma, summ_stats):\n",
    "    zx = torch.distributions.Normal(loc=theta, scale=sigma).sample((100,))\n",
    "    sx = {}\n",
    "    sx['mean'] = zx.mean()\n",
    "    sx['var'] = zx.var()\n",
    "    sx['raw'] = zx[0]\n",
    "    sx['mean_two_realisations'] = torch.distributions.Normal(loc=theta, scale=sigma).sample((2,)).mean()\n",
    "    ss = []\n",
    "    for st in summ_stats:\n",
    "        ss.append(sx[st])\n",
    "    \n",
    "    return torch.tensor(ss)\n",
    "\n",
    "# choose which summary statistics to consider\n",
    "ss = ['mean', 'var']\n",
    "\n",
    "# fix the standard deviations of the zx\n",
    "sigma_x = 1.0\n",
    "\n",
    "# make sure that prior and model are in SBI format\n",
    "simulator, prior = prepare_for_sbi(\n",
    "    partial(gaussian, sigma=sigma_x, summ_stats=ss),\n",
    "    prior)\n",
    "\n",
    "# instantiate the density estimator to use\n",
    "density_estimator_build_fun = posterior_nn(\n",
    "    model=\"nsf\",\n",
    "    hidden_features=40,\n",
    "    num_transforms=5,\n",
    "    num_bins=10,\n",
    "    num_blocks=2\n",
    ")\n",
    "\n",
    "# instantiate an inference object\n",
    "inference = SNPE(prior=prior, density_estimator=density_estimator_build_fun)\n",
    "\n",
    "# generate the training dataset with simulations\n",
    "theta, x = simulate_for_sbi(simulator, proposal=prior, num_simulations=50_000)\n",
    "# store the simulations in the inference object\n",
    "inference = inference.append_simulations(theta, x)\n",
    "\n",
    "# train the neural spline flow on the simulated data\n",
    "density_estimator = inference.train(training_batch_size=256,\n",
    "                                    stop_after_epochs=5,\n",
    "                                    max_num_epochs=50,\n",
    "                                    learning_rate=5e-4,\n",
    "                                    validation_fraction=0.10)\n",
    "\n",
    "# build the posterior estimator object\n",
    "posterior = inference.build_posterior(density_estimator)\n",
    "\n",
    "# choose the ground truth value of the input parameter\n",
    "mu = torch.tensor([0.0]).view(1,-1)\n",
    "\n",
    "# generate observations\n",
    "x = gaussian(theta=mu, sigma=sigma_x, summ_stats=ss)\n",
    "\n",
    "sigma_y = np.sqrt(2)\n",
    "y = gaussian(theta=mu, sigma=sigma_y, summ_stats=ss)\n",
    "\n",
    "# generate samples via rejection sampling\n",
    "tt = torch.linspace(-2, 2, 1000).view(-1, 1)\n",
    "qx = torch.exp(posterior.log_prob(tt, x=x))\n",
    "qy = torch.exp(posterior.log_prob(tt, x=y))\n",
    "\n",
    "tt = np.linspace(-2, +2, 1000)\n",
    "px = np.exp(-50*(tt - x[0].item())**2) * np.exp(-tt**2/50)\n",
    "dt = tt[1] - tt[0]\n",
    "Z = np.sum(px * dt)\n",
    "px = px / Z\n",
    "\n",
    "fig, ax = plt.subplots(figsize=(8, 5))\n",
    "bins = torch.linspace(-2, +2, 100)\n",
    "dx = bins[1] - bins[0]\n",
    "ax.plot(tt, qx, lw=2.0, c='C0', label='qx')\n",
    "ax.plot(tt, qy, lw=2.0, c='C1', label='qy')\n",
    "ax.plot(tt, px, lw=2.0, c='C2', label='px')\n",
    "ax.axvline(x=mu.item(), ls='--', c='k')\n",
    "ax.set_xlim([-1, +1])\n",
    "ax.legend()\n",
    "fig.show()"
   ]
  },
  {
   "cell_type": "code",
   "execution_count": 20,
   "metadata": {},
   "outputs": [],
   "source": [
    "def generate_data(thetas,sigma_y_2=1):\n",
    "    N=thetas.shape[0]\n",
    "    res = {}\n",
    "    means = torch.zeros((N,1))\n",
    "    means_two_z = torch.zeros((N,1))\n",
    "    means_and_vars = torch.zeros((N,2))\n",
    "    vars = torch.zeros((N,1))\n",
    "    raws = torch.zeros((N,1))\n",
    "    two_z_l = torch.zeros((N,2))\n",
    "    with tqdm(thetas, unit='theta', leave=False,desc=\"Generating data\") as tq:\n",
    "        for i,theta in enumerate(tq):\n",
    "            z = torch.distributions.Normal(theta,1).sample((100,))\n",
    "            mean = z.mean()#.unsqueeze_(0)\n",
    "            var = z.var()#.unsqueeze_(0)\n",
    "            z0, z1 = z[0], z[1]\n",
    "            mean_two_z = torch.mean(torch.stack([z0, z1]))\n",
    "            \n",
    "            means[i] = mean\n",
    "            means_two_z[i] = mean_two_z.unsqueeze_(0)\n",
    "            means_and_vars[i] = torch.stack([mean.unsqueeze_(0),var.unsqueeze_(0)]).squeeze_()\n",
    "            two_z_l[i] = torch.stack([z0,z1]).squeeze_()\n",
    "            vars[i] = var\n",
    "            raws[i] = z0\n",
    "    res[\"mean\"] = {}\n",
    "    res[\"mean\"][\"x\"] = means\n",
    "    res[\"mean_two_z\"] = {}\n",
    "    res[\"mean_two_z\"][\"x\"] = means_two_z\n",
    "    res[\"mean_and_var\"] = {}\n",
    "    res[\"mean_and_var\"][\"x\"] = means_and_vars\n",
    "    res[\"two_z\"] = {}\n",
    "    res[\"two_z\"][\"x\"] = two_z_l\n",
    "    res[\"raw_z\"] = {}\n",
    "    res[\"raw_z\"][\"x\"] = raws\n",
    "    res[\"var\"] = {}\n",
    "    res[\"var\"][\"x\"] = vars\n",
    "    for key in res.keys():\n",
    "        eps_l = []\n",
    "        dist = []\n",
    "        for i in range(20):\n",
    "            eps_l.append(torch.distributions.Normal(torch.zeros_like(res[key][\"x\"]), np.sqrt(sigma_y_2)).sample())\n",
    "            dist.append(eps_l[-1].norm().item())\n",
    "        epsilons = eps_l[np.argmax(dist)]\n",
    "        #epsilons = torch.distributions.Normal(torch.zeros_like(res[key][\"x\"]), np.sqrt(sigma_y_2)).sample()\n",
    "        res[key][\"eps\"] = epsilons\n",
    "    return res"
   ]
  },
  {
   "cell_type": "code",
   "execution_count": 21,
   "metadata": {},
   "outputs": [],
   "source": [
    "M = 20_000 #TODO A changer + tard"
   ]
  },
  {
   "attachments": {},
   "cell_type": "markdown",
   "metadata": {},
   "source": [
    "## Observing the mean $ x = \\frac{1}{N} \\sum_{i=1}^{N}{z_i}$"
   ]
  },
  {
   "cell_type": "code",
   "execution_count": 22,
   "metadata": {},
   "outputs": [
    {
     "data": {
      "application/vnd.jupyter.widget-view+json": {
       "model_id": "44fe29273fd448f9b651c2049475a48b",
       "version_major": 2,
       "version_minor": 0
      },
      "text/plain": [
       "Generating data:   0%|          | 0/20000 [00:00<?, ?theta/s]"
      ]
     },
     "metadata": {},
     "output_type": "display_data"
    },
    {
     "data": {
      "application/vnd.jupyter.widget-view+json": {
       "model_id": "a9f544d70fd04300bf63a258852fc045",
       "version_major": 2,
       "version_minor": 0
      },
      "text/plain": [
       "Generating data:   0%|          | 0/2000 [00:00<?, ?theta/s]"
      ]
     },
     "metadata": {},
     "output_type": "display_data"
    },
    {
     "data": {
      "application/vnd.jupyter.widget-view+json": {
       "model_id": "8da4309994e845928d792f6c44546ef0",
       "version_major": 2,
       "version_minor": 0
      },
      "text/plain": [
       "Training NPE:   0%|          | 0/50 [00:00<?, ?epoch/s]"
      ]
     },
     "metadata": {},
     "output_type": "display_data"
    }
   ],
   "source": [
    "\n",
    "\n",
    "def build_nsf(features, context):\n",
    "    \"\"\"Callable to instanciate the NPE with NSFs\"\"\"\n",
    "    return zuko.flows.NSF(features, context, bins=10, transforms=5)\n",
    "\n",
    "def train_flow(flow, loss, theta, x, theta_test, x_test):\n",
    "    \n",
    "    optimizer = torch.optim.Adam(flow.parameters(), lr=5e-3)\n",
    "    data = lampe.data.JointDataset(theta, x)\n",
    "    loader = lampe.data.DataLoader(data, 256)\n",
    "    \n",
    "    with torch.no_grad():\n",
    "        min_loss = loss(theta_test,x_test)\n",
    "    min_loss_list = [min_loss]\n",
    "    \n",
    "    nsf.train()\n",
    "\n",
    "    with tqdm(range(50), unit='epoch', leave=False, desc=\"Training NPE\") as tq:\n",
    "        for epoch in tq:\n",
    "            flow.train()\n",
    "            for theta_batch, x_batch in loader:\n",
    "                losses = loss(theta_batch, x_batch)\n",
    "                optimizer.zero_grad()\n",
    "                losses.backward()\n",
    "                optimizer.step()\n",
    "            \n",
    "            \n",
    "            #Checking for early stopping\n",
    "            with torch.no_grad():\n",
    "                loss_test = loss(theta_test, x_test)\n",
    "                min_loss_list.append(loss_test)\n",
    "                if len(min_loss_list) - np.argmin(min_loss_list) > 5: #No improvement in loss(test) for the last 5 iterations\n",
    "                    #Early stop  \n",
    "                    tq.container.close()\n",
    "                    break\n",
    "            tq.set_postfix(loss=loss_test.item())\n",
    "    flow.eval()\n",
    "    return flow\n",
    "\n",
    "\n",
    "\n",
    "nsf = lampe.inference.NPE(theta_dim = 1, x_dim=1, build=build_nsf)\n",
    "loss = lampe.inference.NPELoss(nsf)\n",
    "theta = prior.sample((M, ))\n",
    "theta_test = prior.sample((M//10, ))\n",
    "data = generate_data(theta)\n",
    "data_test = generate_data(theta_test)\n",
    "#x = torch.stack([generate_data(theta_i)[\"mean\"][\"x\"] for theta_i in theta])\n",
    "x = data[\"mean\"][\"x\"]\n",
    "#x_test = torch.stack([generate_data(theta_i)[\"mean\"][\"x\"] for theta_i in theta_test])\n",
    "x_test = data_test[\"mean\"][\"x\"]\n",
    "nsf = train_flow(nsf,loss,theta,x, theta_test, x_test)"
   ]
  },
  {
   "cell_type": "code",
   "execution_count": 23,
   "metadata": {},
   "outputs": [
    {
     "data": {
      "application/vnd.jupyter.widget-view+json": {
       "model_id": "a401093f6d6e4c64adbd49c7625ab292",
       "version_major": 2,
       "version_minor": 0
      },
      "text/plain": [
       "Generating data:   0%|          | 0/1 [00:00<?, ?theta/s]"
      ]
     },
     "metadata": {},
     "output_type": "display_data"
    }
   ],
   "source": [
    "x_star = generate_data(theta_true,1)[\"mean\"][\"x\"] #Suppose we observe one x=mean(sample) where sample~N(θ|1)\n",
    "nsf.eval()\n",
    "with torch.no_grad():\n",
    "    samples = nsf.sample(x_star, (10_000,))"
   ]
  },
  {
   "cell_type": "code",
   "execution_count": 24,
   "metadata": {},
   "outputs": [
    {
     "data": {
      "image/png": "[encoded data removed]",
      "text/plain": [
       "<Figure size 640x480 with 1 Axes>"
      ]
     },
     "metadata": {},
     "output_type": "display_data"
    }
   ],
   "source": [
    "plt.hist(samples.squeeze_().numpy(), density=True, bins=200, label=\"Hist of the samples from q( θ|mean(zi))\")\n",
    "x_star.squeeze_()\n",
    "true_post_summaries = [posterior_x_N(theta, x_star.numpy()) for theta in theta_grid]\n",
    "plt.plot(theta_grid, true_post_summaries, label=\"True posterior\")\n",
    "plt.xlim(left=-1,right=1)\n",
    "plt.legend(bbox_to_anchor=(1.04, 1), loc=\"upper left\")\n",
    "plt.title(f\"Posteriors when observing x=mean(zi) = {x_star.item():.3f}\")\n",
    "plt.show()"
   ]
  },
  {
   "attachments": {},
   "cell_type": "markdown",
   "metadata": {},
   "source": [
    "## When taking the observed mean and variance as summaries : $$x = (x_1, x_2),\\\\ x_1=\\frac{1}{N}\\sum_{i=1}^{N}{zi} \\\\ x_2 = \\frac{1}{N}\\sum_{i=1}^N{\\left( z_i-x_1 \\right) }^2$$"
   ]
  },
  {
   "cell_type": "code",
   "execution_count": 25,
   "metadata": {},
   "outputs": [
    {
     "data": {
      "application/vnd.jupyter.widget-view+json": {
       "model_id": "9e2485845f994b8f8a3e6cb46000922d",
       "version_major": 2,
       "version_minor": 0
      },
      "text/plain": [
       "Training NPE:   0%|          | 0/50 [00:00<?, ?epoch/s]"
      ]
     },
     "metadata": {},
     "output_type": "display_data"
    }
   ],
   "source": [
    "nsf = lampe.inference.NPE(theta_dim = 1, x_dim=2, build=build_nsf)\n",
    "loss = lampe.inference.NPELoss(nsf)\n",
    "x =data[\"mean_and_var\"][\"x\"]\n",
    "x_test = data_test[\"mean_and_var\"][\"x\"]\n",
    "nsf = train_flow(nsf,loss,theta,x, theta_test, x_test)"
   ]
  },
  {
   "cell_type": "code",
   "execution_count": 26,
   "metadata": {},
   "outputs": [
    {
     "data": {
      "application/vnd.jupyter.widget-view+json": {
       "model_id": "8ebd7bb0362b4130aa29ae0d16b86413",
       "version_major": 2,
       "version_minor": 0
      },
      "text/plain": [
       "Generating data:   0%|          | 0/1 [00:00<?, ?theta/s]"
      ]
     },
     "metadata": {},
     "output_type": "display_data"
    },
    {
     "data": {
      "image/png": "[encoded data removed]",
      "text/plain": [
       "<Figure size 640x480 with 1 Axes>"
      ]
     },
     "metadata": {},
     "output_type": "display_data"
    }
   ],
   "source": [
    "x_star = generate_data(theta_true, 1)[\"mean_and_var\"][\"x\"]\n",
    "nsf.eval()\n",
    "with torch.no_grad():\n",
    "    samples = nsf.sample(x_star, (10_000,))\n",
    "x_star.squeeze_()\n",
    "plt.hist(samples.squeeze_().numpy(), density=True, bins=200, label=\"Hist of the samples from q( θ|mean(zi), var(zi))\")\n",
    "eval_post_summaries = [posterior_summaries(theta, x_star[0].item(), x_star[1].item()) for theta in theta_grid]\n",
    "plt.plot(theta_grid, eval_post_summaries, label=\"True posterior\")\n",
    "plt.xlim(left=-1,right=1)\n",
    "plt.legend(bbox_to_anchor=(1.04, 1), loc=\"upper left\")\n",
    "plt.title(f\"Posteriors when observing x=mean(zi), var(zi) = {x_star[0].item():.3f}, {x_star[1].item():.3f}\")\n",
    "plt.show()"
   ]
  },
  {
   "attachments": {},
   "cell_type": "markdown",
   "metadata": {},
   "source": [
    "## Observing the mean $ x = \\frac{1}{2} \\left( z_1 + z_2 \\right)$"
   ]
  },
  {
   "cell_type": "code",
   "execution_count": 27,
   "metadata": {},
   "outputs": [
    {
     "data": {
      "application/vnd.jupyter.widget-view+json": {
       "model_id": "4bf5111890c2423cb683fd42ff966598",
       "version_major": 2,
       "version_minor": 0
      },
      "text/plain": [
       "Training NPE:   0%|          | 0/50 [00:00<?, ?epoch/s]"
      ]
     },
     "metadata": {},
     "output_type": "display_data"
    },
    {
     "data": {
      "application/vnd.jupyter.widget-view+json": {
       "model_id": "2c438628dabf4cf78ed3801c831d465a",
       "version_major": 2,
       "version_minor": 0
      },
      "text/plain": [
       "Generating data:   0%|          | 0/1 [00:00<?, ?theta/s]"
      ]
     },
     "metadata": {},
     "output_type": "display_data"
    },
    {
     "data": {
      "text/plain": [
       "tensor(-1.0106)"
      ]
     },
     "execution_count": 27,
     "metadata": {},
     "output_type": "execute_result"
    }
   ],
   "source": [
    "nsf = lampe.inference.NPE(theta_dim = 1, x_dim=1, build=build_nsf)\n",
    "loss = lampe.inference.NPELoss(nsf)\n",
    "\n",
    "x = data[\"mean_two_z\"][\"x\"]\n",
    "x_test = data_test[\"mean_two_z\"][\"x\"]\n",
    "nsf = train_flow(nsf,loss,theta,x, theta_test, x_test)\n",
    "x_star = generate_data(theta_true,1)[\"mean_two_z\"][\"x\"]\n",
    "nsf.eval()\n",
    "with torch.no_grad():\n",
    "    samples = nsf.sample(x_star, (10_000,))\n",
    "x_star.squeeze_()"
   ]
  },
  {
   "cell_type": "code",
   "execution_count": 28,
   "metadata": {},
   "outputs": [
    {
     "data": {
      "image/png": "[encoded data removed]",
      "text/plain": [
       "<Figure size 640x480 with 1 Axes>"
      ]
     },
     "metadata": {},
     "output_type": "display_data"
    }
   ],
   "source": [
    "plt.hist(samples.squeeze_().numpy(), density=True, bins=200, label=\"Hist of the samples from q( θ|mean(z1,z2)\")\n",
    "eval_post_summaries = [posterior_x(theta, x_star.item()) for theta in theta_grid]\n",
    "plt.plot(theta_grid, eval_post_summaries, label=\"True posterior\")\n",
    "plt.xlim(left=-5,right=5)\n",
    "plt.legend(bbox_to_anchor=(1.04, 1), loc=\"upper left\")\n",
    "plt.title(f\"Posteriors when observing x=mean(z1,z2) = {x_star.item():.3f}\")\n",
    "plt.show()"
   ]
  },
  {
   "attachments": {},
   "cell_type": "markdown",
   "metadata": {},
   "source": [
    "## Observing two realisations $ z_1,z_2$"
   ]
  },
  {
   "cell_type": "code",
   "execution_count": 29,
   "metadata": {},
   "outputs": [
    {
     "data": {
      "application/vnd.jupyter.widget-view+json": {
       "model_id": "a50d87643fdf4a1d8b911a85def38e75",
       "version_major": 2,
       "version_minor": 0
      },
      "text/plain": [
       "Training NPE:   0%|          | 0/50 [00:00<?, ?epoch/s]"
      ]
     },
     "metadata": {},
     "output_type": "display_data"
    }
   ],
   "source": [
    "nsf = lampe.inference.NPE(theta_dim = 1, x_dim=2, build=build_nsf)\n",
    "loss = lampe.inference.NPELoss(nsf)\n",
    "x = data[\"two_z\"][\"x\"]\n",
    "x_test = data_test[\"two_z\"][\"x\"]\n",
    "nsf = train_flow(nsf,loss,theta,x, theta_test, x_test)"
   ]
  },
  {
   "cell_type": "code",
   "execution_count": 30,
   "metadata": {},
   "outputs": [
    {
     "data": {
      "application/vnd.jupyter.widget-view+json": {
       "model_id": "448ad2223613455f8f3c29a6d4e63613",
       "version_major": 2,
       "version_minor": 0
      },
      "text/plain": [
       "Generating data:   0%|          | 0/1 [00:00<?, ?theta/s]"
      ]
     },
     "metadata": {},
     "output_type": "display_data"
    },
    {
     "data": {
      "text/plain": [
       "tensor([ 0.0199, -1.1021])"
      ]
     },
     "execution_count": 30,
     "metadata": {},
     "output_type": "execute_result"
    }
   ],
   "source": [
    "x_star = generate_data(theta_true,1)[\"two_z\"][\"x\"]\n",
    "nsf.eval()\n",
    "with torch.no_grad():\n",
    "    samples = nsf.sample(x_star, (10_000,))\n",
    "x_star.squeeze_()"
   ]
  },
  {
   "cell_type": "code",
   "execution_count": 31,
   "metadata": {},
   "outputs": [
    {
     "data": {
      "image/png": "[encoded data removed]",
      "text/plain": [
       "<Figure size 640x480 with 1 Axes>"
      ]
     },
     "metadata": {},
     "output_type": "display_data"
    }
   ],
   "source": [
    "plt.hist(samples.squeeze_().numpy(),density=True, bins=200)\n",
    "eval_post_summaries = [posterior_z(theta, x_star[0].item(), x_star[1].item()) for theta in theta_grid]\n",
    "plt.plot(theta_grid, eval_post_summaries, label=\"True posterior\")\n",
    "plt.xlim(left=-5,right=5)\n",
    "plt.legend(bbox_to_anchor=(1.04, 1), loc=\"upper left\")\n",
    "plt.title(f\"Posteriors when observing z1,z2 = {x_star[0].item():.3f}, {x_star[1].item():.3f}\")\n",
    "plt.show()"
   ]
  },
  {
   "cell_type": "code",
   "execution_count": 32,
   "metadata": {},
   "outputs": [],
   "source": [
    "#TODO Mettre avec obs=var"
   ]
  },
  {
   "cell_type": "code",
   "execution_count": 33,
   "metadata": {},
   "outputs": [],
   "source": [
    "def get_posterior(summaries,theta,theta_test,theta_star,data,data_test,sigma_y_2):\n",
    "    shape_x = lambda x: 2 if x==\"mean_and_var\" or x==\"two_z\" else 1\n",
    "    flow = lampe.inference.NPE(theta_dim= 1, x_dim=shape_x(summaries) , build=build_nsf)\n",
    "    loss = lampe.inference.NPELoss(flow)\n",
    "    x =  data[summaries][\"x\"] \n",
    "    x_test = data_test[summaries][\"x\"]\n",
    "\n",
    "    flow = train_flow(flow, loss, theta, x, theta_test, x_test)\n",
    "    \n",
    "    #Getting new observed data\n",
    "    data_star = generate_data(theta_star,sigma_y_2)\n",
    "    x_star = data_star[summaries][\"x\"]\n",
    "    y_star = data_star[summaries][\"eps\"] + x_star\n",
    "    flow.eval()\n",
    "    #Getting samples from the trained flow\n",
    "    with torch.no_grad():\n",
    "        samples = flow.sample(x_star, (10_000,))\n",
    "    x_star.squeeze_()\n",
    "    #Getting the true posterior\n",
    "    true_post_density, true_post_dist = get_true_post(summaries, x_star)\n",
    "    \n",
    "    y_star = data_star[summaries][\"eps\"] + x_star\n",
    "    with torch.no_grad():\n",
    "        samples_y = flow.sample(y_star, (10_000, ))\n",
    "    _, true_post_dist_y = get_true_post(summaries, y_star.squeeze_())\n",
    "\n",
    "    return true_post_density, samples, samples_y, true_post_dist, true_post_dist_y\n",
    "    \n"
   ]
  },
  {
   "cell_type": "code",
   "execution_count": 34,
   "metadata": {},
   "outputs": [],
   "source": [
    "M=50_000"
   ]
  },
  {
   "cell_type": "code",
   "execution_count": 44,
   "metadata": {},
   "outputs": [],
   "source": [
    "def prepare_ax_posteriors(sigma_2):\n",
    "    plt.close()\n",
    "    sigma_y_2 = (sigma_2-1)\n",
    "    summaries = [\"two_z\", \"mean_two_z\", \"mean\", \"mean_and_var\",\"var\"]\n",
    "    fig, ax = plt.subplots(3, 2, figsize=(10,10))\n",
    "    i=0\n",
    "    theta = prior.sample((M,))\n",
    "    theta_test= prior.sample((M//10,))\n",
    "    data = generate_data(theta,sigma_y_2)\n",
    "    data_test = generate_data(theta_test,sigma_y_2)\n",
    "    true_posts = {}\n",
    "    samples_x = {}\n",
    "    samples_y = {}\n",
    "    true_dists = {}\n",
    "    true_post_dists_y={}\n",
    "    with tqdm(summaries, unit='summary statistic', leave=False,desc=\"Summaries\") as tq:\n",
    "        for summary in tq:\n",
    "            tq.set_postfix(summary=summary)\n",
    "            temp_posts, temp_samples, temp_samples_y, temp_true_post_dist, temp_true_post_dist_y, temp_dist = [], [], [], [], [], []\n",
    "            with tqdm(range(10), unit=\"run\",leave=False, desc=\"Taking the most far appart qx qy\") as tq_i:\n",
    "                tq_i.set_postfix()\n",
    "                a, b, c, d, e = get_posterior(summary,theta,theta_test, theta_true,data,data_test, sigma_y_2=sigma_y_2)\n",
    "                theta = prior.sample((M,))\n",
    "                theta_test= prior.sample((M//10,))\n",
    "                data = generate_data(theta,sigma_y_2)\n",
    "                data_test = generate_data(theta_test,sigma_y_2)\n",
    "                temp_dist.append( torch.norm(b-c))\n",
    "                temp_posts.append(a)\n",
    "                temp_samples.append(b)\n",
    "                temp_samples_y.append(c)\n",
    "                temp_true_post_dist.append(d)\n",
    "                temp_true_post_dist_y.append(e)\n",
    "                \n",
    "            argmax = np.argmax(temp_dist)\n",
    "            true_post, samples, sample_y, true_post_dist, true_post_dist_y = temp_posts[argmax], temp_samples[argmax], temp_samples_y[argmax], temp_true_post_dist[argmax], temp_true_post_dist_y[argmax]\n",
    "            row = i // 2  \n",
    "            col = i % 2 \n",
    "            \n",
    "            hist1 = ax[row, col].hist(samples.squeeze_().numpy(), density=True, bins=200, label=\"SBI Posterior q(θ|x)\", alpha=0.80)\n",
    "            ax[row, col].plot(theta_grid, true_post, label=\"True posterior p(θ|x)\")\n",
    "            hist2 = ax[row, col].hist(sample_y.squeeze_().numpy(), density=True, bins=200, label=\"SBI Posterior q(θ|y)\", alpha=0.5)\n",
    "            ax[row, col].axvline(x=theta_true, ls='--', c='k')\n",
    "        # ax[row, col].set_xlim(-1, 1)\n",
    "            #if \"mean_two_realisations\" in summary:\n",
    "            #   ax[row, col].set_xlim(-3,3)\n",
    "            ax[row, col].set_title(f\"using {summary} as summary\")  \n",
    "            lower_bound = min(min(samples), min(sample_y)) -2\n",
    "            upper_bound = max(max(samples), max(sample_y)) +2\n",
    "            ax[row, col].set_xlim(lower_bound, upper_bound)\n",
    "            #ax[row, col].set_xlim(-3,3)\n",
    "            ax[row, col].legend()\n",
    "            i += 1\n",
    "            samples_x[summary] = samples\n",
    "            samples_y[summary] = sample_y\n",
    "            true_posts[summary] = true_post\n",
    "            true_dists[summary] = true_post_dist\n",
    "            true_post_dists_y[summary] = true_post_dist_y\n",
    "    fig.suptitle(f\"Posteriors with sigma² = {sigma_2}\")\n",
    "    return fig, true_posts, samples_x, samples_y, true_dists,true_post_dists_y\n"
   ]
  },
  {
   "cell_type": "code",
   "execution_count": 46,
   "metadata": {},
   "outputs": [
    {
     "data": {
      "application/vnd.jupyter.widget-view+json": {
       "model_id": "4b4d776e362c4dfb96a34f0001c19ea3",
       "version_major": 2,
       "version_minor": 0
      },
      "text/plain": [
       "Sigmas:   0%|          | 0/16 [00:00<?, ?Sigma/s]"
      ]
     },
     "metadata": {},
     "output_type": "display_data"
    },
    {
     "data": {
      "application/vnd.jupyter.widget-view+json": {
       "model_id": "927faa223b4649ceb515f0ad1780e3dc",
       "version_major": 2,
       "version_minor": 0
      },
      "text/plain": [
       "Generating data:   0%|          | 0/50000 [00:00<?, ?theta/s]"
      ]
     },
     "metadata": {},
     "output_type": "display_data"
    },
    {
     "data": {
      "application/vnd.jupyter.widget-view+json": {
       "model_id": "27d0d8047ef247ff9fc9c104ba78f878",
       "version_major": 2,
       "version_minor": 0
      },
      "text/plain": [
       "Generating data:   0%|          | 0/5000 [00:00<?, ?theta/s]"
      ]
     },
     "metadata": {},
     "output_type": "display_data"
    },
    {
     "data": {
      "application/vnd.jupyter.widget-view+json": {
       "model_id": "3c68463ff3374416a02b1c30012b6213",
       "version_major": 2,
       "version_minor": 0
      },
      "text/plain": [
       "Summaries:   0%|          | 0/5 [00:00<?, ?summary statistic/s]"
      ]
     },
     "metadata": {},
     "output_type": "display_data"
    },
    {
     "data": {
      "application/vnd.jupyter.widget-view+json": {
       "model_id": "3f7ae6abf576404baa1b5e664cea2bdc",
       "version_major": 2,
       "version_minor": 0
      },
      "text/plain": [
       "Taking the most far appart qx qy:   0%|          | 0/10 [00:00<?, ?run/s]"
      ]
     },
     "metadata": {},
     "output_type": "display_data"
    },
    {
     "data": {
      "application/vnd.jupyter.widget-view+json": {
       "model_id": "c32abfd974854fc19def5dfb8f354012",
       "version_major": 2,
       "version_minor": 0
      },
      "text/plain": [
       "Training NPE:   0%|          | 0/50 [00:00<?, ?epoch/s]"
      ]
     },
     "metadata": {},
     "output_type": "display_data"
    },
    {
     "data": {
      "application/vnd.jupyter.widget-view+json": {
       "model_id": "50efcf99e09640c8babb71555a16a1c8",
       "version_major": 2,
       "version_minor": 0
      },
      "text/plain": [
       "Generating data:   0%|          | 0/1 [00:00<?, ?theta/s]"
      ]
     },
     "metadata": {},
     "output_type": "display_data"
    },
    {
     "data": {
      "application/vnd.jupyter.widget-view+json": {
       "model_id": "cbf94a642e85429bba832f692c79cccb",
       "version_major": 2,
       "version_minor": 0
      },
      "text/plain": [
       "Generating data:   0%|          | 0/50000 [00:00<?, ?theta/s]"
      ]
     },
     "metadata": {},
     "output_type": "display_data"
    },
    {
     "data": {
      "application/vnd.jupyter.widget-view+json": {
       "model_id": "3e288ffe891f4cf1a01d4945a80616f2",
       "version_major": 2,
       "version_minor": 0
      },
      "text/plain": [
       "Generating data:   0%|          | 0/5000 [00:00<?, ?theta/s]"
      ]
     },
     "metadata": {},
     "output_type": "display_data"
    },
    {
     "name": "stderr",
     "output_type": "stream",
     "text": [
      "c:\\Users\\mmmat\\anaconda3\\envs\\sbi_env1\\lib\\site-packages\\matplotlib\\cbook\\__init__.py:1335: FutureWarning: The input object of type 'Tensor' is an array-like implementing one of the corresponding protocols (`__array__`, `__array_interface__` or `__array_struct__`); but not a sequence (or 0-D). In the future, this object will be coerced as if it was first converted using `np.array(obj)`. To retain the old behaviour, you have to either modify the type 'Tensor', or assign to an empty array created with `np.empty(correct_shape, dtype=object)`.\n",
      "  return np.asarray(x, float)\n"
     ]
    },
    {
     "data": {
      "application/vnd.jupyter.widget-view+json": {
       "model_id": "224c1f39ff2f41cfa50ddb3509161012",
       "version_major": 2,
       "version_minor": 0
      },
      "text/plain": [
       "Taking the most far appart qx qy:   0%|          | 0/10 [00:00<?, ?run/s]"
      ]
     },
     "metadata": {},
     "output_type": "display_data"
    },
    {
     "data": {
      "application/vnd.jupyter.widget-view+json": {
       "model_id": "30697b7dc2ae4b4a97c8f6b4a416d134",
       "version_major": 2,
       "version_minor": 0
      },
      "text/plain": [
       "Training NPE:   0%|          | 0/50 [00:00<?, ?epoch/s]"
      ]
     },
     "metadata": {},
     "output_type": "display_data"
    },
    {
     "data": {
      "application/vnd.jupyter.widget-view+json": {
       "model_id": "95306df204f341588d048d42ca169acc",
       "version_major": 2,
       "version_minor": 0
      },
      "text/plain": [
       "Generating data:   0%|          | 0/1 [00:00<?, ?theta/s]"
      ]
     },
     "metadata": {},
     "output_type": "display_data"
    },
    {
     "data": {
      "application/vnd.jupyter.widget-view+json": {
       "model_id": "2c2a467f795d4db2b70e4a2e0ec9d8cf",
       "version_major": 2,
       "version_minor": 0
      },
      "text/plain": [
       "Generating data:   0%|          | 0/50000 [00:00<?, ?theta/s]"
      ]
     },
     "metadata": {},
     "output_type": "display_data"
    },
    {
     "data": {
      "application/vnd.jupyter.widget-view+json": {
       "model_id": "c2c8591023154ddca322d69a8db7c312",
       "version_major": 2,
       "version_minor": 0
      },
      "text/plain": [
       "Generating data:   0%|          | 0/5000 [00:00<?, ?theta/s]"
      ]
     },
     "metadata": {},
     "output_type": "display_data"
    },
    {
     "data": {
      "application/vnd.jupyter.widget-view+json": {
       "model_id": "c50a9932740848188272d9fb6be93c16",
       "version_major": 2,
       "version_minor": 0
      },
      "text/plain": [
       "Taking the most far appart qx qy:   0%|          | 0/10 [00:00<?, ?run/s]"
      ]
     },
     "metadata": {},
     "output_type": "display_data"
    },
    {
     "data": {
      "application/vnd.jupyter.widget-view+json": {
       "model_id": "9ac49edb5ccb4efd87cc65487147821b",
       "version_major": 2,
       "version_minor": 0
      },
      "text/plain": [
       "Training NPE:   0%|          | 0/50 [00:00<?, ?epoch/s]"
      ]
     },
     "metadata": {},
     "output_type": "display_data"
    },
    {
     "data": {
      "application/vnd.jupyter.widget-view+json": {
       "model_id": "ae11bdbaf2a24660828f593e84e59613",
       "version_major": 2,
       "version_minor": 0
      },
      "text/plain": [
       "Generating data:   0%|          | 0/1 [00:00<?, ?theta/s]"
      ]
     },
     "metadata": {},
     "output_type": "display_data"
    },
    {
     "data": {
      "application/vnd.jupyter.widget-view+json": {
       "model_id": "7fdab194c6ab4138bce2692d4aa58701",
       "version_major": 2,
       "version_minor": 0
      },
      "text/plain": [
       "Generating data:   0%|          | 0/50000 [00:00<?, ?theta/s]"
      ]
     },
     "metadata": {},
     "output_type": "display_data"
    },
    {
     "data": {
      "application/vnd.jupyter.widget-view+json": {
       "model_id": "6523a46b71fe44fa8968ff42facf8be4",
       "version_major": 2,
       "version_minor": 0
      },
      "text/plain": [
       "Generating data:   0%|          | 0/5000 [00:00<?, ?theta/s]"
      ]
     },
     "metadata": {},
     "output_type": "display_data"
    },
    {
     "data": {
      "application/vnd.jupyter.widget-view+json": {
       "model_id": "c15aa49f8f4a440f8947f23749373af4",
       "version_major": 2,
       "version_minor": 0
      },
      "text/plain": [
       "Taking the most far appart qx qy:   0%|          | 0/10 [00:00<?, ?run/s]"
      ]
     },
     "metadata": {},
     "output_type": "display_data"
    },
    {
     "data": {
      "application/vnd.jupyter.widget-view+json": {
       "model_id": "247a7a55c8904a049bbc4c0c659fc2a9",
       "version_major": 2,
       "version_minor": 0
      },
      "text/plain": [
       "Training NPE:   0%|          | 0/50 [00:00<?, ?epoch/s]"
      ]
     },
     "metadata": {},
     "output_type": "display_data"
    },
    {
     "data": {
      "application/vnd.jupyter.widget-view+json": {
       "model_id": "f7fad7ae6f8f450ea2332b7dc1072197",
       "version_major": 2,
       "version_minor": 0
      },
      "text/plain": [
       "Generating data:   0%|          | 0/1 [00:00<?, ?theta/s]"
      ]
     },
     "metadata": {},
     "output_type": "display_data"
    },
    {
     "data": {
      "application/vnd.jupyter.widget-view+json": {
       "model_id": "77e44e251908412b9df752eb366a660d",
       "version_major": 2,
       "version_minor": 0
      },
      "text/plain": [
       "Generating data:   0%|          | 0/50000 [00:00<?, ?theta/s]"
      ]
     },
     "metadata": {},
     "output_type": "display_data"
    },
    {
     "data": {
      "application/vnd.jupyter.widget-view+json": {
       "model_id": "321489471ffe4e31a35db694bfac901e",
       "version_major": 2,
       "version_minor": 0
      },
      "text/plain": [
       "Generating data:   0%|          | 0/5000 [00:00<?, ?theta/s]"
      ]
     },
     "metadata": {},
     "output_type": "display_data"
    },
    {
     "data": {
      "application/vnd.jupyter.widget-view+json": {
       "model_id": "1c89fb4652564e189c1a22ecc8af4b0f",
       "version_major": 2,
       "version_minor": 0
      },
      "text/plain": [
       "Taking the most far appart qx qy:   0%|          | 0/10 [00:00<?, ?run/s]"
      ]
     },
     "metadata": {},
     "output_type": "display_data"
    },
    {
     "data": {
      "application/vnd.jupyter.widget-view+json": {
       "model_id": "3d51092214af406ba4899437ac08db36",
       "version_major": 2,
       "version_minor": 0
      },
      "text/plain": [
       "Training NPE:   0%|          | 0/50 [00:00<?, ?epoch/s]"
      ]
     },
     "metadata": {},
     "output_type": "display_data"
    },
    {
     "data": {
      "application/vnd.jupyter.widget-view+json": {
       "model_id": "8f654f98e96a44d782ede1be0d9c9247",
       "version_major": 2,
       "version_minor": 0
      },
      "text/plain": [
       "Generating data:   0%|          | 0/1 [00:00<?, ?theta/s]"
      ]
     },
     "metadata": {},
     "output_type": "display_data"
    },
    {
     "data": {
      "application/vnd.jupyter.widget-view+json": {
       "model_id": "d995dabe4a1f427a98fbdd1bcc976b48",
       "version_major": 2,
       "version_minor": 0
      },
      "text/plain": [
       "Generating data:   0%|          | 0/50000 [00:00<?, ?theta/s]"
      ]
     },
     "metadata": {},
     "output_type": "display_data"
    },
    {
     "data": {
      "application/vnd.jupyter.widget-view+json": {
       "model_id": "39c2af741d0a4cd5b3706de1c139715e",
       "version_major": 2,
       "version_minor": 0
      },
      "text/plain": [
       "Generating data:   0%|          | 0/5000 [00:00<?, ?theta/s]"
      ]
     },
     "metadata": {},
     "output_type": "display_data"
    },
    {
     "data": {
      "application/vnd.jupyter.widget-view+json": {
       "model_id": "79c86e3d8e5341298c56acbb21458e12",
       "version_major": 2,
       "version_minor": 0
      },
      "text/plain": [
       "Generating data:   0%|          | 0/50000 [00:00<?, ?theta/s]"
      ]
     },
     "metadata": {},
     "output_type": "display_data"
    },
    {
     "data": {
      "application/vnd.jupyter.widget-view+json": {
       "model_id": "cbacf6b516144a7286b4d98e2e8b788c",
       "version_major": 2,
       "version_minor": 0
      },
      "text/plain": [
       "Generating data:   0%|          | 0/5000 [00:00<?, ?theta/s]"
      ]
     },
     "metadata": {},
     "output_type": "display_data"
    },
    {
     "data": {
      "application/vnd.jupyter.widget-view+json": {
       "model_id": "f05a628e168b4ca3972d58d30c9673c9",
       "version_major": 2,
       "version_minor": 0
      },
      "text/plain": [
       "Summaries:   0%|          | 0/5 [00:00<?, ?summary statistic/s]"
      ]
     },
     "metadata": {},
     "output_type": "display_data"
    },
    {
     "data": {
      "application/vnd.jupyter.widget-view+json": {
       "model_id": "3c51aed413a347b698a1ba2acf88dfea",
       "version_major": 2,
       "version_minor": 0
      },
      "text/plain": [
       "Taking the most far appart qx qy:   0%|          | 0/10 [00:00<?, ?run/s]"
      ]
     },
     "metadata": {},
     "output_type": "display_data"
    },
    {
     "data": {
      "application/vnd.jupyter.widget-view+json": {
       "model_id": "06f83429097848ee9a7a71b41b0d750b",
       "version_major": 2,
       "version_minor": 0
      },
      "text/plain": [
       "Training NPE:   0%|          | 0/50 [00:00<?, ?epoch/s]"
      ]
     },
     "metadata": {},
     "output_type": "display_data"
    },
    {
     "data": {
      "application/vnd.jupyter.widget-view+json": {
       "model_id": "1be68181f7da4437bafb7863c6519af9",
       "version_major": 2,
       "version_minor": 0
      },
      "text/plain": [
       "Generating data:   0%|          | 0/1 [00:00<?, ?theta/s]"
      ]
     },
     "metadata": {},
     "output_type": "display_data"
    },
    {
     "data": {
      "application/vnd.jupyter.widget-view+json": {
       "model_id": "8f85ba19d6494902b202869b9b719d72",
       "version_major": 2,
       "version_minor": 0
      },
      "text/plain": [
       "Generating data:   0%|          | 0/50000 [00:00<?, ?theta/s]"
      ]
     },
     "metadata": {},
     "output_type": "display_data"
    },
    {
     "data": {
      "application/vnd.jupyter.widget-view+json": {
       "model_id": "51b369fcddcf49eba0a86b029e4f8a27",
       "version_major": 2,
       "version_minor": 0
      },
      "text/plain": [
       "Generating data:   0%|          | 0/5000 [00:00<?, ?theta/s]"
      ]
     },
     "metadata": {},
     "output_type": "display_data"
    },
    {
     "data": {
      "application/vnd.jupyter.widget-view+json": {
       "model_id": "ee41bbdda2f74ea1aa0ee7a7564bccf8",
       "version_major": 2,
       "version_minor": 0
      },
      "text/plain": [
       "Taking the most far appart qx qy:   0%|          | 0/10 [00:00<?, ?run/s]"
      ]
     },
     "metadata": {},
     "output_type": "display_data"
    },
    {
     "data": {
      "application/vnd.jupyter.widget-view+json": {
       "model_id": "354b71c2777a46d4bfad924e2ff3c920",
       "version_major": 2,
       "version_minor": 0
      },
      "text/plain": [
       "Training NPE:   0%|          | 0/50 [00:00<?, ?epoch/s]"
      ]
     },
     "metadata": {},
     "output_type": "display_data"
    },
    {
     "data": {
      "application/vnd.jupyter.widget-view+json": {
       "model_id": "e6bf812484f94d1c99de0952a1ded8fa",
       "version_major": 2,
       "version_minor": 0
      },
      "text/plain": [
       "Generating data:   0%|          | 0/1 [00:00<?, ?theta/s]"
      ]
     },
     "metadata": {},
     "output_type": "display_data"
    },
    {
     "data": {
      "application/vnd.jupyter.widget-view+json": {
       "model_id": "c747547943c04948b9844aef05a40ae0",
       "version_major": 2,
       "version_minor": 0
      },
      "text/plain": [
       "Generating data:   0%|          | 0/50000 [00:00<?, ?theta/s]"
      ]
     },
     "metadata": {},
     "output_type": "display_data"
    },
    {
     "data": {
      "application/vnd.jupyter.widget-view+json": {
       "model_id": "6737904c604c4d8488e17108f6e9b974",
       "version_major": 2,
       "version_minor": 0
      },
      "text/plain": [
       "Generating data:   0%|          | 0/5000 [00:00<?, ?theta/s]"
      ]
     },
     "metadata": {},
     "output_type": "display_data"
    },
    {
     "data": {
      "application/vnd.jupyter.widget-view+json": {
       "model_id": "ea362207ea9e49f197786e8c0bc7c927",
       "version_major": 2,
       "version_minor": 0
      },
      "text/plain": [
       "Taking the most far appart qx qy:   0%|          | 0/10 [00:00<?, ?run/s]"
      ]
     },
     "metadata": {},
     "output_type": "display_data"
    },
    {
     "data": {
      "application/vnd.jupyter.widget-view+json": {
       "model_id": "6fdb065f8b7a43d4922515aa567facb3",
       "version_major": 2,
       "version_minor": 0
      },
      "text/plain": [
       "Training NPE:   0%|          | 0/50 [00:00<?, ?epoch/s]"
      ]
     },
     "metadata": {},
     "output_type": "display_data"
    },
    {
     "data": {
      "application/vnd.jupyter.widget-view+json": {
       "model_id": "76d389310b484430b3a5f2f4c42caddd",
       "version_major": 2,
       "version_minor": 0
      },
      "text/plain": [
       "Generating data:   0%|          | 0/1 [00:00<?, ?theta/s]"
      ]
     },
     "metadata": {},
     "output_type": "display_data"
    },
    {
     "data": {
      "application/vnd.jupyter.widget-view+json": {
       "model_id": "877b4d4bcb634cd68d6ef59027524d0e",
       "version_major": 2,
       "version_minor": 0
      },
      "text/plain": [
       "Generating data:   0%|          | 0/50000 [00:00<?, ?theta/s]"
      ]
     },
     "metadata": {},
     "output_type": "display_data"
    },
    {
     "data": {
      "application/vnd.jupyter.widget-view+json": {
       "model_id": "cb7fb45b0ce54383baf532bd334ff1d5",
       "version_major": 2,
       "version_minor": 0
      },
      "text/plain": [
       "Generating data:   0%|          | 0/5000 [00:00<?, ?theta/s]"
      ]
     },
     "metadata": {},
     "output_type": "display_data"
    },
    {
     "data": {
      "application/vnd.jupyter.widget-view+json": {
       "model_id": "1bd71925c3a84ee2a4e2f873fc099eb9",
       "version_major": 2,
       "version_minor": 0
      },
      "text/plain": [
       "Taking the most far appart qx qy:   0%|          | 0/10 [00:00<?, ?run/s]"
      ]
     },
     "metadata": {},
     "output_type": "display_data"
    },
    {
     "data": {
      "application/vnd.jupyter.widget-view+json": {
       "model_id": "44e116850a6b403a85457b7fcb3c74e0",
       "version_major": 2,
       "version_minor": 0
      },
      "text/plain": [
       "Training NPE:   0%|          | 0/50 [00:00<?, ?epoch/s]"
      ]
     },
     "metadata": {},
     "output_type": "display_data"
    },
    {
     "data": {
      "application/vnd.jupyter.widget-view+json": {
       "model_id": "8aff7ebe18f74aeebbfbdeb41e44a21e",
       "version_major": 2,
       "version_minor": 0
      },
      "text/plain": [
       "Generating data:   0%|          | 0/1 [00:00<?, ?theta/s]"
      ]
     },
     "metadata": {},
     "output_type": "display_data"
    },
    {
     "data": {
      "application/vnd.jupyter.widget-view+json": {
       "model_id": "520772e8f6ca4b91b33eecd9ce63a0a4",
       "version_major": 2,
       "version_minor": 0
      },
      "text/plain": [
       "Generating data:   0%|          | 0/50000 [00:00<?, ?theta/s]"
      ]
     },
     "metadata": {},
     "output_type": "display_data"
    },
    {
     "data": {
      "application/vnd.jupyter.widget-view+json": {
       "model_id": "ca5cb19c34914578bcf3a9de7b49a90f",
       "version_major": 2,
       "version_minor": 0
      },
      "text/plain": [
       "Generating data:   0%|          | 0/5000 [00:00<?, ?theta/s]"
      ]
     },
     "metadata": {},
     "output_type": "display_data"
    },
    {
     "data": {
      "application/vnd.jupyter.widget-view+json": {
       "model_id": "543be5e1a25e4f198510cae8894d11b9",
       "version_major": 2,
       "version_minor": 0
      },
      "text/plain": [
       "Taking the most far appart qx qy:   0%|          | 0/10 [00:00<?, ?run/s]"
      ]
     },
     "metadata": {},
     "output_type": "display_data"
    },
    {
     "data": {
      "application/vnd.jupyter.widget-view+json": {
       "model_id": "d3602ba0206a4a7f99ead0013f2fcc85",
       "version_major": 2,
       "version_minor": 0
      },
      "text/plain": [
       "Training NPE:   0%|          | 0/50 [00:00<?, ?epoch/s]"
      ]
     },
     "metadata": {},
     "output_type": "display_data"
    },
    {
     "data": {
      "application/vnd.jupyter.widget-view+json": {
       "model_id": "c923c4e78cc741f6a46652fcce72df06",
       "version_major": 2,
       "version_minor": 0
      },
      "text/plain": [
       "Generating data:   0%|          | 0/1 [00:00<?, ?theta/s]"
      ]
     },
     "metadata": {},
     "output_type": "display_data"
    },
    {
     "data": {
      "application/vnd.jupyter.widget-view+json": {
       "model_id": "f5cc3de13dc9418dbcb3f1ab03ab05a9",
       "version_major": 2,
       "version_minor": 0
      },
      "text/plain": [
       "Generating data:   0%|          | 0/50000 [00:00<?, ?theta/s]"
      ]
     },
     "metadata": {},
     "output_type": "display_data"
    },
    {
     "data": {
      "application/vnd.jupyter.widget-view+json": {
       "model_id": "6f09e4e59ad044fe9c4958a874866ae3",
       "version_major": 2,
       "version_minor": 0
      },
      "text/plain": [
       "Generating data:   0%|          | 0/5000 [00:00<?, ?theta/s]"
      ]
     },
     "metadata": {},
     "output_type": "display_data"
    },
    {
     "data": {
      "application/vnd.jupyter.widget-view+json": {
       "model_id": "5a96cc4a0258474c82bf5e51a1f00774",
       "version_major": 2,
       "version_minor": 0
      },
      "text/plain": [
       "Generating data:   0%|          | 0/50000 [00:00<?, ?theta/s]"
      ]
     },
     "metadata": {},
     "output_type": "display_data"
    },
    {
     "data": {
      "application/vnd.jupyter.widget-view+json": {
       "model_id": "2d4ff53865c24211b23f2f63a31c0b11",
       "version_major": 2,
       "version_minor": 0
      },
      "text/plain": [
       "Generating data:   0%|          | 0/5000 [00:00<?, ?theta/s]"
      ]
     },
     "metadata": {},
     "output_type": "display_data"
    },
    {
     "data": {
      "application/vnd.jupyter.widget-view+json": {
       "model_id": "85bf2db9d32a492991e15671f98fb9dd",
       "version_major": 2,
       "version_minor": 0
      },
      "text/plain": [
       "Summaries:   0%|          | 0/5 [00:00<?, ?summary statistic/s]"
      ]
     },
     "metadata": {},
     "output_type": "display_data"
    },
    {
     "data": {
      "application/vnd.jupyter.widget-view+json": {
       "model_id": "8fd3f0494efe42daa76e8aaedb9b0e8b",
       "version_major": 2,
       "version_minor": 0
      },
      "text/plain": [
       "Taking the most far appart qx qy:   0%|          | 0/10 [00:00<?, ?run/s]"
      ]
     },
     "metadata": {},
     "output_type": "display_data"
    },
    {
     "data": {
      "application/vnd.jupyter.widget-view+json": {
       "model_id": "4e95bcc275d4403cb0ac4ab5133733c7",
       "version_major": 2,
       "version_minor": 0
      },
      "text/plain": [
       "Training NPE:   0%|          | 0/50 [00:00<?, ?epoch/s]"
      ]
     },
     "metadata": {},
     "output_type": "display_data"
    },
    {
     "data": {
      "application/vnd.jupyter.widget-view+json": {
       "model_id": "b7936471ecc74de084c05f6e5e32755f",
       "version_major": 2,
       "version_minor": 0
      },
      "text/plain": [
       "Generating data:   0%|          | 0/1 [00:00<?, ?theta/s]"
      ]
     },
     "metadata": {},
     "output_type": "display_data"
    },
    {
     "data": {
      "application/vnd.jupyter.widget-view+json": {
       "model_id": "6c384e1c284249678710f435a33bd4cf",
       "version_major": 2,
       "version_minor": 0
      },
      "text/plain": [
       "Generating data:   0%|          | 0/50000 [00:00<?, ?theta/s]"
      ]
     },
     "metadata": {},
     "output_type": "display_data"
    },
    {
     "data": {
      "application/vnd.jupyter.widget-view+json": {
       "model_id": "a3a2666a8e15485e8daf010c2ce4b675",
       "version_major": 2,
       "version_minor": 0
      },
      "text/plain": [
       "Generating data:   0%|          | 0/5000 [00:00<?, ?theta/s]"
      ]
     },
     "metadata": {},
     "output_type": "display_data"
    },
    {
     "data": {
      "application/vnd.jupyter.widget-view+json": {
       "model_id": "7b135d0d5a0f435b8fc3f0443a85e51a",
       "version_major": 2,
       "version_minor": 0
      },
      "text/plain": [
       "Taking the most far appart qx qy:   0%|          | 0/10 [00:00<?, ?run/s]"
      ]
     },
     "metadata": {},
     "output_type": "display_data"
    },
    {
     "data": {
      "application/vnd.jupyter.widget-view+json": {
       "model_id": "6c3671f30a0e4bf8a8986c626e267d56",
       "version_major": 2,
       "version_minor": 0
      },
      "text/plain": [
       "Training NPE:   0%|          | 0/50 [00:00<?, ?epoch/s]"
      ]
     },
     "metadata": {},
     "output_type": "display_data"
    },
    {
     "data": {
      "application/vnd.jupyter.widget-view+json": {
       "model_id": "b6e6401239734603bdf98944c243e602",
       "version_major": 2,
       "version_minor": 0
      },
      "text/plain": [
       "Generating data:   0%|          | 0/1 [00:00<?, ?theta/s]"
      ]
     },
     "metadata": {},
     "output_type": "display_data"
    },
    {
     "data": {
      "application/vnd.jupyter.widget-view+json": {
       "model_id": "a793b1c9fbe64cb49570c0a646d95b41",
       "version_major": 2,
       "version_minor": 0
      },
      "text/plain": [
       "Generating data:   0%|          | 0/50000 [00:00<?, ?theta/s]"
      ]
     },
     "metadata": {},
     "output_type": "display_data"
    },
    {
     "data": {
      "application/vnd.jupyter.widget-view+json": {
       "model_id": "06209b2082fa41658c4d1fd7d5b3b0d9",
       "version_major": 2,
       "version_minor": 0
      },
      "text/plain": [
       "Generating data:   0%|          | 0/5000 [00:00<?, ?theta/s]"
      ]
     },
     "metadata": {},
     "output_type": "display_data"
    },
    {
     "data": {
      "application/vnd.jupyter.widget-view+json": {
       "model_id": "c09f9862217b437a8f5f0878b67b1fec",
       "version_major": 2,
       "version_minor": 0
      },
      "text/plain": [
       "Taking the most far appart qx qy:   0%|          | 0/10 [00:00<?, ?run/s]"
      ]
     },
     "metadata": {},
     "output_type": "display_data"
    },
    {
     "data": {
      "application/vnd.jupyter.widget-view+json": {
       "model_id": "9cb432905d0342abb506eced39628597",
       "version_major": 2,
       "version_minor": 0
      },
      "text/plain": [
       "Training NPE:   0%|          | 0/50 [00:00<?, ?epoch/s]"
      ]
     },
     "metadata": {},
     "output_type": "display_data"
    },
    {
     "data": {
      "application/vnd.jupyter.widget-view+json": {
       "model_id": "4fd450f9dbe14b77ac17da8e6429dcc8",
       "version_major": 2,
       "version_minor": 0
      },
      "text/plain": [
       "Generating data:   0%|          | 0/1 [00:00<?, ?theta/s]"
      ]
     },
     "metadata": {},
     "output_type": "display_data"
    },
    {
     "data": {
      "application/vnd.jupyter.widget-view+json": {
       "model_id": "6c33751cb06641b78b893aacfdfc7aac",
       "version_major": 2,
       "version_minor": 0
      },
      "text/plain": [
       "Generating data:   0%|          | 0/50000 [00:00<?, ?theta/s]"
      ]
     },
     "metadata": {},
     "output_type": "display_data"
    },
    {
     "data": {
      "application/vnd.jupyter.widget-view+json": {
       "model_id": "33ea466ed6f74e6282479067dded321e",
       "version_major": 2,
       "version_minor": 0
      },
      "text/plain": [
       "Generating data:   0%|          | 0/5000 [00:00<?, ?theta/s]"
      ]
     },
     "metadata": {},
     "output_type": "display_data"
    },
    {
     "data": {
      "application/vnd.jupyter.widget-view+json": {
       "model_id": "fa9a61898dca4d258ffda0b5be5a3985",
       "version_major": 2,
       "version_minor": 0
      },
      "text/plain": [
       "Taking the most far appart qx qy:   0%|          | 0/10 [00:00<?, ?run/s]"
      ]
     },
     "metadata": {},
     "output_type": "display_data"
    },
    {
     "data": {
      "application/vnd.jupyter.widget-view+json": {
       "model_id": "1cc7298834fc43d6b85b499031ca1ee0",
       "version_major": 2,
       "version_minor": 0
      },
      "text/plain": [
       "Training NPE:   0%|          | 0/50 [00:00<?, ?epoch/s]"
      ]
     },
     "metadata": {},
     "output_type": "display_data"
    },
    {
     "data": {
      "application/vnd.jupyter.widget-view+json": {
       "model_id": "3bd85bc04a4646158509fff36ba320b1",
       "version_major": 2,
       "version_minor": 0
      },
      "text/plain": [
       "Generating data:   0%|          | 0/1 [00:00<?, ?theta/s]"
      ]
     },
     "metadata": {},
     "output_type": "display_data"
    },
    {
     "data": {
      "application/vnd.jupyter.widget-view+json": {
       "model_id": "d4a4bde739c7403ab3e11691a3a21e52",
       "version_major": 2,
       "version_minor": 0
      },
      "text/plain": [
       "Generating data:   0%|          | 0/50000 [00:00<?, ?theta/s]"
      ]
     },
     "metadata": {},
     "output_type": "display_data"
    },
    {
     "data": {
      "application/vnd.jupyter.widget-view+json": {
       "model_id": "98cf805d098d4092aac87c912cdd6fcd",
       "version_major": 2,
       "version_minor": 0
      },
      "text/plain": [
       "Generating data:   0%|          | 0/5000 [00:00<?, ?theta/s]"
      ]
     },
     "metadata": {},
     "output_type": "display_data"
    },
    {
     "data": {
      "application/vnd.jupyter.widget-view+json": {
       "model_id": "7aa0cc604f1748b68879e7541da093d2",
       "version_major": 2,
       "version_minor": 0
      },
      "text/plain": [
       "Taking the most far appart qx qy:   0%|          | 0/10 [00:00<?, ?run/s]"
      ]
     },
     "metadata": {},
     "output_type": "display_data"
    },
    {
     "data": {
      "application/vnd.jupyter.widget-view+json": {
       "model_id": "523e9f966d244710a67518ea7933d2fc",
       "version_major": 2,
       "version_minor": 0
      },
      "text/plain": [
       "Training NPE:   0%|          | 0/50 [00:00<?, ?epoch/s]"
      ]
     },
     "metadata": {},
     "output_type": "display_data"
    },
    {
     "data": {
      "application/vnd.jupyter.widget-view+json": {
       "model_id": "75755cac850147d199a8774909f4bef5",
       "version_major": 2,
       "version_minor": 0
      },
      "text/plain": [
       "Generating data:   0%|          | 0/1 [00:00<?, ?theta/s]"
      ]
     },
     "metadata": {},
     "output_type": "display_data"
    },
    {
     "data": {
      "application/vnd.jupyter.widget-view+json": {
       "model_id": "ccbae45fe51249a49456b82c613ea498",
       "version_major": 2,
       "version_minor": 0
      },
      "text/plain": [
       "Generating data:   0%|          | 0/50000 [00:00<?, ?theta/s]"
      ]
     },
     "metadata": {},
     "output_type": "display_data"
    },
    {
     "data": {
      "application/vnd.jupyter.widget-view+json": {
       "model_id": "c0a64b7e3e254c32b7abe29b354e6c62",
       "version_major": 2,
       "version_minor": 0
      },
      "text/plain": [
       "Generating data:   0%|          | 0/5000 [00:00<?, ?theta/s]"
      ]
     },
     "metadata": {},
     "output_type": "display_data"
    },
    {
     "data": {
      "application/vnd.jupyter.widget-view+json": {
       "model_id": "4703497eb2ea484eafc60d91de326629",
       "version_major": 2,
       "version_minor": 0
      },
      "text/plain": [
       "Generating data:   0%|          | 0/50000 [00:00<?, ?theta/s]"
      ]
     },
     "metadata": {},
     "output_type": "display_data"
    },
    {
     "data": {
      "application/vnd.jupyter.widget-view+json": {
       "model_id": "46b0966b63af4d17acda940c33e9babc",
       "version_major": 2,
       "version_minor": 0
      },
      "text/plain": [
       "Generating data:   0%|          | 0/5000 [00:00<?, ?theta/s]"
      ]
     },
     "metadata": {},
     "output_type": "display_data"
    },
    {
     "data": {
      "application/vnd.jupyter.widget-view+json": {
       "model_id": "85b8c2b7a90d434e91a45213f1ac5930",
       "version_major": 2,
       "version_minor": 0
      },
      "text/plain": [
       "Summaries:   0%|          | 0/5 [00:00<?, ?summary statistic/s]"
      ]
     },
     "metadata": {},
     "output_type": "display_data"
    },
    {
     "data": {
      "application/vnd.jupyter.widget-view+json": {
       "model_id": "38cc4e71a50a455daa490f37c9f6611d",
       "version_major": 2,
       "version_minor": 0
      },
      "text/plain": [
       "Taking the most far appart qx qy:   0%|          | 0/10 [00:00<?, ?run/s]"
      ]
     },
     "metadata": {},
     "output_type": "display_data"
    },
    {
     "data": {
      "application/vnd.jupyter.widget-view+json": {
       "model_id": "defc2ed90a6546ab9373dab462062a53",
       "version_major": 2,
       "version_minor": 0
      },
      "text/plain": [
       "Training NPE:   0%|          | 0/50 [00:00<?, ?epoch/s]"
      ]
     },
     "metadata": {},
     "output_type": "display_data"
    },
    {
     "data": {
      "application/vnd.jupyter.widget-view+json": {
       "model_id": "353d0d8e85194608b37e0774b1681ad7",
       "version_major": 2,
       "version_minor": 0
      },
      "text/plain": [
       "Generating data:   0%|          | 0/1 [00:00<?, ?theta/s]"
      ]
     },
     "metadata": {},
     "output_type": "display_data"
    },
    {
     "data": {
      "application/vnd.jupyter.widget-view+json": {
       "model_id": "20a481460b0c41ddb981824b985b786b",
       "version_major": 2,
       "version_minor": 0
      },
      "text/plain": [
       "Generating data:   0%|          | 0/50000 [00:00<?, ?theta/s]"
      ]
     },
     "metadata": {},
     "output_type": "display_data"
    },
    {
     "data": {
      "application/vnd.jupyter.widget-view+json": {
       "model_id": "0e6b76ee9aa6411481211dd125d966a9",
       "version_major": 2,
       "version_minor": 0
      },
      "text/plain": [
       "Generating data:   0%|          | 0/5000 [00:00<?, ?theta/s]"
      ]
     },
     "metadata": {},
     "output_type": "display_data"
    },
    {
     "data": {
      "application/vnd.jupyter.widget-view+json": {
       "model_id": "2cc1f9e1348f4346beb66b16559266bd",
       "version_major": 2,
       "version_minor": 0
      },
      "text/plain": [
       "Taking the most far appart qx qy:   0%|          | 0/10 [00:00<?, ?run/s]"
      ]
     },
     "metadata": {},
     "output_type": "display_data"
    },
    {
     "data": {
      "application/vnd.jupyter.widget-view+json": {
       "model_id": "81650635e15e43dea44af50869ab1acd",
       "version_major": 2,
       "version_minor": 0
      },
      "text/plain": [
       "Training NPE:   0%|          | 0/50 [00:00<?, ?epoch/s]"
      ]
     },
     "metadata": {},
     "output_type": "display_data"
    },
    {
     "data": {
      "application/vnd.jupyter.widget-view+json": {
       "model_id": "f82b2060d7e446cf9bac47dac6420056",
       "version_major": 2,
       "version_minor": 0
      },
      "text/plain": [
       "Generating data:   0%|          | 0/1 [00:00<?, ?theta/s]"
      ]
     },
     "metadata": {},
     "output_type": "display_data"
    },
    {
     "data": {
      "application/vnd.jupyter.widget-view+json": {
       "model_id": "b59e898ebf594b4c973010f59da27e96",
       "version_major": 2,
       "version_minor": 0
      },
      "text/plain": [
       "Generating data:   0%|          | 0/50000 [00:00<?, ?theta/s]"
      ]
     },
     "metadata": {},
     "output_type": "display_data"
    },
    {
     "data": {
      "application/vnd.jupyter.widget-view+json": {
       "model_id": "bec45c954a46466faaecbd10d0c7bde1",
       "version_major": 2,
       "version_minor": 0
      },
      "text/plain": [
       "Generating data:   0%|          | 0/5000 [00:00<?, ?theta/s]"
      ]
     },
     "metadata": {},
     "output_type": "display_data"
    },
    {
     "data": {
      "application/vnd.jupyter.widget-view+json": {
       "model_id": "28ef02e857c8452090e0c8406e583f83",
       "version_major": 2,
       "version_minor": 0
      },
      "text/plain": [
       "Taking the most far appart qx qy:   0%|          | 0/10 [00:00<?, ?run/s]"
      ]
     },
     "metadata": {},
     "output_type": "display_data"
    },
    {
     "data": {
      "application/vnd.jupyter.widget-view+json": {
       "model_id": "482bbf782a124e03a039e1e289c3ebfe",
       "version_major": 2,
       "version_minor": 0
      },
      "text/plain": [
       "Training NPE:   0%|          | 0/50 [00:00<?, ?epoch/s]"
      ]
     },
     "metadata": {},
     "output_type": "display_data"
    },
    {
     "data": {
      "application/vnd.jupyter.widget-view+json": {
       "model_id": "bfe2e198caed4cbdb562bcab781f1134",
       "version_major": 2,
       "version_minor": 0
      },
      "text/plain": [
       "Generating data:   0%|          | 0/1 [00:00<?, ?theta/s]"
      ]
     },
     "metadata": {},
     "output_type": "display_data"
    },
    {
     "data": {
      "application/vnd.jupyter.widget-view+json": {
       "model_id": "984b3b5625ee4e84879498f33da67998",
       "version_major": 2,
       "version_minor": 0
      },
      "text/plain": [
       "Generating data:   0%|          | 0/50000 [00:00<?, ?theta/s]"
      ]
     },
     "metadata": {},
     "output_type": "display_data"
    },
    {
     "data": {
      "application/vnd.jupyter.widget-view+json": {
       "model_id": "1c1af4eb0b5b464a98e7603285030255",
       "version_major": 2,
       "version_minor": 0
      },
      "text/plain": [
       "Generating data:   0%|          | 0/5000 [00:00<?, ?theta/s]"
      ]
     },
     "metadata": {},
     "output_type": "display_data"
    },
    {
     "data": {
      "application/vnd.jupyter.widget-view+json": {
       "model_id": "fd5561e8e67d46d98dc1430c4f5f277c",
       "version_major": 2,
       "version_minor": 0
      },
      "text/plain": [
       "Taking the most far appart qx qy:   0%|          | 0/10 [00:00<?, ?run/s]"
      ]
     },
     "metadata": {},
     "output_type": "display_data"
    },
    {
     "data": {
      "application/vnd.jupyter.widget-view+json": {
       "model_id": "558f04e5dc86486299f10a859f115b33",
       "version_major": 2,
       "version_minor": 0
      },
      "text/plain": [
       "Training NPE:   0%|          | 0/50 [00:00<?, ?epoch/s]"
      ]
     },
     "metadata": {},
     "output_type": "display_data"
    },
    {
     "data": {
      "application/vnd.jupyter.widget-view+json": {
       "model_id": "dc7d150d9f304ac09ae3ab93065e3b6d",
       "version_major": 2,
       "version_minor": 0
      },
      "text/plain": [
       "Generating data:   0%|          | 0/1 [00:00<?, ?theta/s]"
      ]
     },
     "metadata": {},
     "output_type": "display_data"
    },
    {
     "data": {
      "application/vnd.jupyter.widget-view+json": {
       "model_id": "2a7d21efba714db3a4eaf4709a0c2e72",
       "version_major": 2,
       "version_minor": 0
      },
      "text/plain": [
       "Generating data:   0%|          | 0/50000 [00:00<?, ?theta/s]"
      ]
     },
     "metadata": {},
     "output_type": "display_data"
    },
    {
     "data": {
      "application/vnd.jupyter.widget-view+json": {
       "model_id": "d57b792431a24eb39af81e67775ae8e8",
       "version_major": 2,
       "version_minor": 0
      },
      "text/plain": [
       "Generating data:   0%|          | 0/5000 [00:00<?, ?theta/s]"
      ]
     },
     "metadata": {},
     "output_type": "display_data"
    },
    {
     "data": {
      "application/vnd.jupyter.widget-view+json": {
       "model_id": "9a8ac4a58611495eaeab2adbe3478965",
       "version_major": 2,
       "version_minor": 0
      },
      "text/plain": [
       "Taking the most far appart qx qy:   0%|          | 0/10 [00:00<?, ?run/s]"
      ]
     },
     "metadata": {},
     "output_type": "display_data"
    },
    {
     "data": {
      "application/vnd.jupyter.widget-view+json": {
       "model_id": "5de7580b03744073bce2572b6ef6f939",
       "version_major": 2,
       "version_minor": 0
      },
      "text/plain": [
       "Training NPE:   0%|          | 0/50 [00:00<?, ?epoch/s]"
      ]
     },
     "metadata": {},
     "output_type": "display_data"
    },
    {
     "data": {
      "application/vnd.jupyter.widget-view+json": {
       "model_id": "68b556f44c8f4b2ca79a976f56af0754",
       "version_major": 2,
       "version_minor": 0
      },
      "text/plain": [
       "Generating data:   0%|          | 0/1 [00:00<?, ?theta/s]"
      ]
     },
     "metadata": {},
     "output_type": "display_data"
    },
    {
     "data": {
      "application/vnd.jupyter.widget-view+json": {
       "model_id": "5e40b2f6ef6042b6930f4eaa6d63aa92",
       "version_major": 2,
       "version_minor": 0
      },
      "text/plain": [
       "Generating data:   0%|          | 0/50000 [00:00<?, ?theta/s]"
      ]
     },
     "metadata": {},
     "output_type": "display_data"
    },
    {
     "data": {
      "application/vnd.jupyter.widget-view+json": {
       "model_id": "49e7e584857c40e390f804798b585c8f",
       "version_major": 2,
       "version_minor": 0
      },
      "text/plain": [
       "Generating data:   0%|          | 0/5000 [00:00<?, ?theta/s]"
      ]
     },
     "metadata": {},
     "output_type": "display_data"
    },
    {
     "data": {
      "application/vnd.jupyter.widget-view+json": {
       "model_id": "9c7dc207f6ad47dfa83093e87f6177bc",
       "version_major": 2,
       "version_minor": 0
      },
      "text/plain": [
       "Generating data:   0%|          | 0/50000 [00:00<?, ?theta/s]"
      ]
     },
     "metadata": {},
     "output_type": "display_data"
    },
    {
     "data": {
      "application/vnd.jupyter.widget-view+json": {
       "model_id": "9ccf9db965f0444b85d6a7cb611e6016",
       "version_major": 2,
       "version_minor": 0
      },
      "text/plain": [
       "Generating data:   0%|          | 0/5000 [00:00<?, ?theta/s]"
      ]
     },
     "metadata": {},
     "output_type": "display_data"
    },
    {
     "data": {
      "application/vnd.jupyter.widget-view+json": {
       "model_id": "1a2ef4ce4a8b4ba7b3bad5ae1f77a0bf",
       "version_major": 2,
       "version_minor": 0
      },
      "text/plain": [
       "Summaries:   0%|          | 0/5 [00:00<?, ?summary statistic/s]"
      ]
     },
     "metadata": {},
     "output_type": "display_data"
    },
    {
     "data": {
      "application/vnd.jupyter.widget-view+json": {
       "model_id": "235f70110b734be98ba9803869a17abf",
       "version_major": 2,
       "version_minor": 0
      },
      "text/plain": [
       "Taking the most far appart qx qy:   0%|          | 0/10 [00:00<?, ?run/s]"
      ]
     },
     "metadata": {},
     "output_type": "display_data"
    },
    {
     "data": {
      "application/vnd.jupyter.widget-view+json": {
       "model_id": "332391fd2f6541c9b90c8aa99b06a1d7",
       "version_major": 2,
       "version_minor": 0
      },
      "text/plain": [
       "Training NPE:   0%|          | 0/50 [00:00<?, ?epoch/s]"
      ]
     },
     "metadata": {},
     "output_type": "display_data"
    },
    {
     "data": {
      "application/vnd.jupyter.widget-view+json": {
       "model_id": "c09734ff775541de9e27b71b31f839d1",
       "version_major": 2,
       "version_minor": 0
      },
      "text/plain": [
       "Generating data:   0%|          | 0/1 [00:00<?, ?theta/s]"
      ]
     },
     "metadata": {},
     "output_type": "display_data"
    },
    {
     "data": {
      "application/vnd.jupyter.widget-view+json": {
       "model_id": "c139eb09ecee4d57b27e1da72f4b88ea",
       "version_major": 2,
       "version_minor": 0
      },
      "text/plain": [
       "Generating data:   0%|          | 0/50000 [00:00<?, ?theta/s]"
      ]
     },
     "metadata": {},
     "output_type": "display_data"
    },
    {
     "data": {
      "application/vnd.jupyter.widget-view+json": {
       "model_id": "eb0e151d7b1d42d6bba7007e9a4eab62",
       "version_major": 2,
       "version_minor": 0
      },
      "text/plain": [
       "Generating data:   0%|          | 0/5000 [00:00<?, ?theta/s]"
      ]
     },
     "metadata": {},
     "output_type": "display_data"
    },
    {
     "data": {
      "application/vnd.jupyter.widget-view+json": {
       "model_id": "92226761991c47edb53c2efa9e38176c",
       "version_major": 2,
       "version_minor": 0
      },
      "text/plain": [
       "Taking the most far appart qx qy:   0%|          | 0/10 [00:00<?, ?run/s]"
      ]
     },
     "metadata": {},
     "output_type": "display_data"
    },
    {
     "data": {
      "application/vnd.jupyter.widget-view+json": {
       "model_id": "1a2e50da577849229917999d83af39c8",
       "version_major": 2,
       "version_minor": 0
      },
      "text/plain": [
       "Training NPE:   0%|          | 0/50 [00:00<?, ?epoch/s]"
      ]
     },
     "metadata": {},
     "output_type": "display_data"
    },
    {
     "data": {
      "application/vnd.jupyter.widget-view+json": {
       "model_id": "b7de2e7018094ce1976ecc4d9c43a6e9",
       "version_major": 2,
       "version_minor": 0
      },
      "text/plain": [
       "Generating data:   0%|          | 0/1 [00:00<?, ?theta/s]"
      ]
     },
     "metadata": {},
     "output_type": "display_data"
    },
    {
     "data": {
      "application/vnd.jupyter.widget-view+json": {
       "model_id": "e8066fb24fff403ca43c0145bd1bb107",
       "version_major": 2,
       "version_minor": 0
      },
      "text/plain": [
       "Generating data:   0%|          | 0/50000 [00:00<?, ?theta/s]"
      ]
     },
     "metadata": {},
     "output_type": "display_data"
    },
    {
     "data": {
      "application/vnd.jupyter.widget-view+json": {
       "model_id": "f43ee4a0d9914929a7e24ad8313cd3ec",
       "version_major": 2,
       "version_minor": 0
      },
      "text/plain": [
       "Generating data:   0%|          | 0/5000 [00:00<?, ?theta/s]"
      ]
     },
     "metadata": {},
     "output_type": "display_data"
    },
    {
     "data": {
      "application/vnd.jupyter.widget-view+json": {
       "model_id": "2e5a5cfde6214025bbf3f56c67c03d51",
       "version_major": 2,
       "version_minor": 0
      },
      "text/plain": [
       "Taking the most far appart qx qy:   0%|          | 0/10 [00:00<?, ?run/s]"
      ]
     },
     "metadata": {},
     "output_type": "display_data"
    },
    {
     "data": {
      "application/vnd.jupyter.widget-view+json": {
       "model_id": "840825c7c6e04f44bdf4541fe1447e24",
       "version_major": 2,
       "version_minor": 0
      },
      "text/plain": [
       "Training NPE:   0%|          | 0/50 [00:00<?, ?epoch/s]"
      ]
     },
     "metadata": {},
     "output_type": "display_data"
    },
    {
     "data": {
      "application/vnd.jupyter.widget-view+json": {
       "model_id": "be67c32f41da44a9b9c4b85728f736b7",
       "version_major": 2,
       "version_minor": 0
      },
      "text/plain": [
       "Generating data:   0%|          | 0/1 [00:00<?, ?theta/s]"
      ]
     },
     "metadata": {},
     "output_type": "display_data"
    },
    {
     "data": {
      "application/vnd.jupyter.widget-view+json": {
       "model_id": "99ebcc52a6a940059d05fddb4da8d340",
       "version_major": 2,
       "version_minor": 0
      },
      "text/plain": [
       "Generating data:   0%|          | 0/50000 [00:00<?, ?theta/s]"
      ]
     },
     "metadata": {},
     "output_type": "display_data"
    },
    {
     "data": {
      "application/vnd.jupyter.widget-view+json": {
       "model_id": "2a06488bd4d54b908254ebdf24aaa0ee",
       "version_major": 2,
       "version_minor": 0
      },
      "text/plain": [
       "Generating data:   0%|          | 0/5000 [00:00<?, ?theta/s]"
      ]
     },
     "metadata": {},
     "output_type": "display_data"
    },
    {
     "data": {
      "application/vnd.jupyter.widget-view+json": {
       "model_id": "75b424d25a234c3f9bd72cd17d702ed8",
       "version_major": 2,
       "version_minor": 0
      },
      "text/plain": [
       "Taking the most far appart qx qy:   0%|          | 0/10 [00:00<?, ?run/s]"
      ]
     },
     "metadata": {},
     "output_type": "display_data"
    },
    {
     "data": {
      "application/vnd.jupyter.widget-view+json": {
       "model_id": "42dc7a53e20748fb962f76153b3332ce",
       "version_major": 2,
       "version_minor": 0
      },
      "text/plain": [
       "Training NPE:   0%|          | 0/50 [00:00<?, ?epoch/s]"
      ]
     },
     "metadata": {},
     "output_type": "display_data"
    },
    {
     "data": {
      "application/vnd.jupyter.widget-view+json": {
       "model_id": "27b435179ac54ff8b493e5292d19919f",
       "version_major": 2,
       "version_minor": 0
      },
      "text/plain": [
       "Generating data:   0%|          | 0/1 [00:00<?, ?theta/s]"
      ]
     },
     "metadata": {},
     "output_type": "display_data"
    },
    {
     "data": {
      "application/vnd.jupyter.widget-view+json": {
       "model_id": "cea72b1af8044b9987e523621ef5d6d9",
       "version_major": 2,
       "version_minor": 0
      },
      "text/plain": [
       "Generating data:   0%|          | 0/50000 [00:00<?, ?theta/s]"
      ]
     },
     "metadata": {},
     "output_type": "display_data"
    },
    {
     "data": {
      "application/vnd.jupyter.widget-view+json": {
       "model_id": "d861ab33a48146dcbace4feeddfe9452",
       "version_major": 2,
       "version_minor": 0
      },
      "text/plain": [
       "Generating data:   0%|          | 0/5000 [00:00<?, ?theta/s]"
      ]
     },
     "metadata": {},
     "output_type": "display_data"
    },
    {
     "data": {
      "application/vnd.jupyter.widget-view+json": {
       "model_id": "1c7b5e2a1b9e430ebbb255944dc7ef6d",
       "version_major": 2,
       "version_minor": 0
      },
      "text/plain": [
       "Taking the most far appart qx qy:   0%|          | 0/10 [00:00<?, ?run/s]"
      ]
     },
     "metadata": {},
     "output_type": "display_data"
    },
    {
     "data": {
      "application/vnd.jupyter.widget-view+json": {
       "model_id": "6928a77339f74737917f7f94dba5181b",
       "version_major": 2,
       "version_minor": 0
      },
      "text/plain": [
       "Training NPE:   0%|          | 0/50 [00:00<?, ?epoch/s]"
      ]
     },
     "metadata": {},
     "output_type": "display_data"
    },
    {
     "data": {
      "application/vnd.jupyter.widget-view+json": {
       "model_id": "9a12edcb63924ef38486c94368f787c6",
       "version_major": 2,
       "version_minor": 0
      },
      "text/plain": [
       "Generating data:   0%|          | 0/1 [00:00<?, ?theta/s]"
      ]
     },
     "metadata": {},
     "output_type": "display_data"
    },
    {
     "data": {
      "application/vnd.jupyter.widget-view+json": {
       "model_id": "ac880174e95a4dd091a19aed02fde3fd",
       "version_major": 2,
       "version_minor": 0
      },
      "text/plain": [
       "Generating data:   0%|          | 0/50000 [00:00<?, ?theta/s]"
      ]
     },
     "metadata": {},
     "output_type": "display_data"
    },
    {
     "data": {
      "application/vnd.jupyter.widget-view+json": {
       "model_id": "55da99c199ba4fb0bce4da5810f4aa09",
       "version_major": 2,
       "version_minor": 0
      },
      "text/plain": [
       "Generating data:   0%|          | 0/5000 [00:00<?, ?theta/s]"
      ]
     },
     "metadata": {},
     "output_type": "display_data"
    },
    {
     "data": {
      "application/vnd.jupyter.widget-view+json": {
       "model_id": "c42de8f08daf4db59b36dc184a986254",
       "version_major": 2,
       "version_minor": 0
      },
      "text/plain": [
       "Generating data:   0%|          | 0/50000 [00:00<?, ?theta/s]"
      ]
     },
     "metadata": {},
     "output_type": "display_data"
    },
    {
     "data": {
      "application/vnd.jupyter.widget-view+json": {
       "model_id": "b1ee66c769434e4b8379929f7c98677b",
       "version_major": 2,
       "version_minor": 0
      },
      "text/plain": [
       "Generating data:   0%|          | 0/5000 [00:00<?, ?theta/s]"
      ]
     },
     "metadata": {},
     "output_type": "display_data"
    },
    {
     "data": {
      "application/vnd.jupyter.widget-view+json": {
       "model_id": "22fedf0bcaa74159980c76fd59dbfb32",
       "version_major": 2,
       "version_minor": 0
      },
      "text/plain": [
       "Summaries:   0%|          | 0/5 [00:00<?, ?summary statistic/s]"
      ]
     },
     "metadata": {},
     "output_type": "display_data"
    },
    {
     "data": {
      "application/vnd.jupyter.widget-view+json": {
       "model_id": "32cb170afdf2414b8c2c95fa3186ed02",
       "version_major": 2,
       "version_minor": 0
      },
      "text/plain": [
       "Taking the most far appart qx qy:   0%|          | 0/10 [00:00<?, ?run/s]"
      ]
     },
     "metadata": {},
     "output_type": "display_data"
    },
    {
     "data": {
      "application/vnd.jupyter.widget-view+json": {
       "model_id": "eaefc621811f4706b9cc939f674198e2",
       "version_major": 2,
       "version_minor": 0
      },
      "text/plain": [
       "Training NPE:   0%|          | 0/50 [00:00<?, ?epoch/s]"
      ]
     },
     "metadata": {},
     "output_type": "display_data"
    },
    {
     "data": {
      "application/vnd.jupyter.widget-view+json": {
       "model_id": "95486ac4465a4790a79dd6dda7f7bbb8",
       "version_major": 2,
       "version_minor": 0
      },
      "text/plain": [
       "Generating data:   0%|          | 0/1 [00:00<?, ?theta/s]"
      ]
     },
     "metadata": {},
     "output_type": "display_data"
    },
    {
     "data": {
      "application/vnd.jupyter.widget-view+json": {
       "model_id": "e4b7e49e4ccd4ec98f970cb4081ac54b",
       "version_major": 2,
       "version_minor": 0
      },
      "text/plain": [
       "Generating data:   0%|          | 0/50000 [00:00<?, ?theta/s]"
      ]
     },
     "metadata": {},
     "output_type": "display_data"
    },
    {
     "data": {
      "application/vnd.jupyter.widget-view+json": {
       "model_id": "71d420e840e8484d8da6b07c0f0497ea",
       "version_major": 2,
       "version_minor": 0
      },
      "text/plain": [
       "Generating data:   0%|          | 0/5000 [00:00<?, ?theta/s]"
      ]
     },
     "metadata": {},
     "output_type": "display_data"
    },
    {
     "data": {
      "application/vnd.jupyter.widget-view+json": {
       "model_id": "3a4a0ec225514fd4b3ddc1e1e4a40630",
       "version_major": 2,
       "version_minor": 0
      },
      "text/plain": [
       "Taking the most far appart qx qy:   0%|          | 0/10 [00:00<?, ?run/s]"
      ]
     },
     "metadata": {},
     "output_type": "display_data"
    },
    {
     "data": {
      "application/vnd.jupyter.widget-view+json": {
       "model_id": "6c69139ef93e4cdd9258464a94c58ed3",
       "version_major": 2,
       "version_minor": 0
      },
      "text/plain": [
       "Training NPE:   0%|          | 0/50 [00:00<?, ?epoch/s]"
      ]
     },
     "metadata": {},
     "output_type": "display_data"
    },
    {
     "data": {
      "application/vnd.jupyter.widget-view+json": {
       "model_id": "140c516a107d4fe88c4ffb9ffc580fcd",
       "version_major": 2,
       "version_minor": 0
      },
      "text/plain": [
       "Generating data:   0%|          | 0/1 [00:00<?, ?theta/s]"
      ]
     },
     "metadata": {},
     "output_type": "display_data"
    },
    {
     "data": {
      "application/vnd.jupyter.widget-view+json": {
       "model_id": "136f170e3b3b40d0905c7e58ff5091dc",
       "version_major": 2,
       "version_minor": 0
      },
      "text/plain": [
       "Generating data:   0%|          | 0/50000 [00:00<?, ?theta/s]"
      ]
     },
     "metadata": {},
     "output_type": "display_data"
    },
    {
     "data": {
      "application/vnd.jupyter.widget-view+json": {
       "model_id": "56b6a4cf80f8455f8387bf5b0d1a8e53",
       "version_major": 2,
       "version_minor": 0
      },
      "text/plain": [
       "Generating data:   0%|          | 0/5000 [00:00<?, ?theta/s]"
      ]
     },
     "metadata": {},
     "output_type": "display_data"
    },
    {
     "data": {
      "application/vnd.jupyter.widget-view+json": {
       "model_id": "8590e54a68c04bd79c5fefca8054c433",
       "version_major": 2,
       "version_minor": 0
      },
      "text/plain": [
       "Taking the most far appart qx qy:   0%|          | 0/10 [00:00<?, ?run/s]"
      ]
     },
     "metadata": {},
     "output_type": "display_data"
    },
    {
     "data": {
      "application/vnd.jupyter.widget-view+json": {
       "model_id": "7a7f93eac8b3422a9389ba60d1f2b5a9",
       "version_major": 2,
       "version_minor": 0
      },
      "text/plain": [
       "Training NPE:   0%|          | 0/50 [00:00<?, ?epoch/s]"
      ]
     },
     "metadata": {},
     "output_type": "display_data"
    },
    {
     "data": {
      "application/vnd.jupyter.widget-view+json": {
       "model_id": "de8333850cd24c509ed95384898d7330",
       "version_major": 2,
       "version_minor": 0
      },
      "text/plain": [
       "Generating data:   0%|          | 0/1 [00:00<?, ?theta/s]"
      ]
     },
     "metadata": {},
     "output_type": "display_data"
    },
    {
     "data": {
      "application/vnd.jupyter.widget-view+json": {
       "model_id": "df7573de61d9405d8ed8622441e11116",
       "version_major": 2,
       "version_minor": 0
      },
      "text/plain": [
       "Generating data:   0%|          | 0/50000 [00:00<?, ?theta/s]"
      ]
     },
     "metadata": {},
     "output_type": "display_data"
    },
    {
     "data": {
      "application/vnd.jupyter.widget-view+json": {
       "model_id": "040027ba78a94a11afc65d13e6f715c2",
       "version_major": 2,
       "version_minor": 0
      },
      "text/plain": [
       "Generating data:   0%|          | 0/5000 [00:00<?, ?theta/s]"
      ]
     },
     "metadata": {},
     "output_type": "display_data"
    },
    {
     "data": {
      "application/vnd.jupyter.widget-view+json": {
       "model_id": "ddbc4595728a4b729787158e0d2f779c",
       "version_major": 2,
       "version_minor": 0
      },
      "text/plain": [
       "Taking the most far appart qx qy:   0%|          | 0/10 [00:00<?, ?run/s]"
      ]
     },
     "metadata": {},
     "output_type": "display_data"
    },
    {
     "data": {
      "application/vnd.jupyter.widget-view+json": {
       "model_id": "c2cf9bab8df2478babd7c6e9f579f08f",
       "version_major": 2,
       "version_minor": 0
      },
      "text/plain": [
       "Training NPE:   0%|          | 0/50 [00:00<?, ?epoch/s]"
      ]
     },
     "metadata": {},
     "output_type": "display_data"
    },
    {
     "data": {
      "application/vnd.jupyter.widget-view+json": {
       "model_id": "8dcb4c7b2ce74f2a8bd646e903a41e5f",
       "version_major": 2,
       "version_minor": 0
      },
      "text/plain": [
       "Generating data:   0%|          | 0/1 [00:00<?, ?theta/s]"
      ]
     },
     "metadata": {},
     "output_type": "display_data"
    },
    {
     "data": {
      "application/vnd.jupyter.widget-view+json": {
       "model_id": "1863dff9fa54407291a41ad11924ace9",
       "version_major": 2,
       "version_minor": 0
      },
      "text/plain": [
       "Generating data:   0%|          | 0/50000 [00:00<?, ?theta/s]"
      ]
     },
     "metadata": {},
     "output_type": "display_data"
    },
    {
     "data": {
      "application/vnd.jupyter.widget-view+json": {
       "model_id": "53a50714ba734778b734e9f2cd76885a",
       "version_major": 2,
       "version_minor": 0
      },
      "text/plain": [
       "Generating data:   0%|          | 0/5000 [00:00<?, ?theta/s]"
      ]
     },
     "metadata": {},
     "output_type": "display_data"
    },
    {
     "data": {
      "application/vnd.jupyter.widget-view+json": {
       "model_id": "28a14506166d4f2a9de705d46f0d06e0",
       "version_major": 2,
       "version_minor": 0
      },
      "text/plain": [
       "Taking the most far appart qx qy:   0%|          | 0/10 [00:00<?, ?run/s]"
      ]
     },
     "metadata": {},
     "output_type": "display_data"
    },
    {
     "data": {
      "application/vnd.jupyter.widget-view+json": {
       "model_id": "52362ffc824440c3a546f3a4a3eb4678",
       "version_major": 2,
       "version_minor": 0
      },
      "text/plain": [
       "Training NPE:   0%|          | 0/50 [00:00<?, ?epoch/s]"
      ]
     },
     "metadata": {},
     "output_type": "display_data"
    },
    {
     "data": {
      "application/vnd.jupyter.widget-view+json": {
       "model_id": "bd9053abe4334c3bbe4b64eaed4b2149",
       "version_major": 2,
       "version_minor": 0
      },
      "text/plain": [
       "Generating data:   0%|          | 0/1 [00:00<?, ?theta/s]"
      ]
     },
     "metadata": {},
     "output_type": "display_data"
    },
    {
     "data": {
      "application/vnd.jupyter.widget-view+json": {
       "model_id": "4f0acd5d567c42ee974d84de9773b848",
       "version_major": 2,
       "version_minor": 0
      },
      "text/plain": [
       "Generating data:   0%|          | 0/50000 [00:00<?, ?theta/s]"
      ]
     },
     "metadata": {},
     "output_type": "display_data"
    },
    {
     "data": {
      "application/vnd.jupyter.widget-view+json": {
       "model_id": "00cd71642fca437a9310680215d439db",
       "version_major": 2,
       "version_minor": 0
      },
      "text/plain": [
       "Generating data:   0%|          | 0/5000 [00:00<?, ?theta/s]"
      ]
     },
     "metadata": {},
     "output_type": "display_data"
    },
    {
     "data": {
      "application/vnd.jupyter.widget-view+json": {
       "model_id": "e2de6bf367a44581ab1be1e039f808d8",
       "version_major": 2,
       "version_minor": 0
      },
      "text/plain": [
       "Generating data:   0%|          | 0/50000 [00:00<?, ?theta/s]"
      ]
     },
     "metadata": {},
     "output_type": "display_data"
    },
    {
     "data": {
      "application/vnd.jupyter.widget-view+json": {
       "model_id": "8a4f0fbf99564efba4ba72e2c924bd5f",
       "version_major": 2,
       "version_minor": 0
      },
      "text/plain": [
       "Generating data:   0%|          | 0/5000 [00:00<?, ?theta/s]"
      ]
     },
     "metadata": {},
     "output_type": "display_data"
    },
    {
     "data": {
      "application/vnd.jupyter.widget-view+json": {
       "model_id": "5c1218a1413740e8acc32c7e76577b42",
       "version_major": 2,
       "version_minor": 0
      },
      "text/plain": [
       "Summaries:   0%|          | 0/5 [00:00<?, ?summary statistic/s]"
      ]
     },
     "metadata": {},
     "output_type": "display_data"
    },
    {
     "data": {
      "application/vnd.jupyter.widget-view+json": {
       "model_id": "a49e45df62d649bbb1245e0a8bf52008",
       "version_major": 2,
       "version_minor": 0
      },
      "text/plain": [
       "Taking the most far appart qx qy:   0%|          | 0/10 [00:00<?, ?run/s]"
      ]
     },
     "metadata": {},
     "output_type": "display_data"
    },
    {
     "data": {
      "application/vnd.jupyter.widget-view+json": {
       "model_id": "92273e6c24fa4bc4a19e2102dd5839b8",
       "version_major": 2,
       "version_minor": 0
      },
      "text/plain": [
       "Training NPE:   0%|          | 0/50 [00:00<?, ?epoch/s]"
      ]
     },
     "metadata": {},
     "output_type": "display_data"
    },
    {
     "data": {
      "application/vnd.jupyter.widget-view+json": {
       "model_id": "93b98e8250c54313be303d01c10c8c1b",
       "version_major": 2,
       "version_minor": 0
      },
      "text/plain": [
       "Generating data:   0%|          | 0/1 [00:00<?, ?theta/s]"
      ]
     },
     "metadata": {},
     "output_type": "display_data"
    },
    {
     "data": {
      "application/vnd.jupyter.widget-view+json": {
       "model_id": "00d6d180341a45f8a1e4045e38e4401c",
       "version_major": 2,
       "version_minor": 0
      },
      "text/plain": [
       "Generating data:   0%|          | 0/50000 [00:00<?, ?theta/s]"
      ]
     },
     "metadata": {},
     "output_type": "display_data"
    },
    {
     "data": {
      "application/vnd.jupyter.widget-view+json": {
       "model_id": "a9d75292b27d422a9e66fad148b628c1",
       "version_major": 2,
       "version_minor": 0
      },
      "text/plain": [
       "Generating data:   0%|          | 0/5000 [00:00<?, ?theta/s]"
      ]
     },
     "metadata": {},
     "output_type": "display_data"
    },
    {
     "data": {
      "application/vnd.jupyter.widget-view+json": {
       "model_id": "81a205b9364241d49a198a193a5b59cf",
       "version_major": 2,
       "version_minor": 0
      },
      "text/plain": [
       "Taking the most far appart qx qy:   0%|          | 0/10 [00:00<?, ?run/s]"
      ]
     },
     "metadata": {},
     "output_type": "display_data"
    },
    {
     "data": {
      "application/vnd.jupyter.widget-view+json": {
       "model_id": "3179ce28bc1b4741afa4d63728acb2c7",
       "version_major": 2,
       "version_minor": 0
      },
      "text/plain": [
       "Training NPE:   0%|          | 0/50 [00:00<?, ?epoch/s]"
      ]
     },
     "metadata": {},
     "output_type": "display_data"
    },
    {
     "data": {
      "application/vnd.jupyter.widget-view+json": {
       "model_id": "44df4c43b86046ecbccbe659bdd3cd77",
       "version_major": 2,
       "version_minor": 0
      },
      "text/plain": [
       "Generating data:   0%|          | 0/1 [00:00<?, ?theta/s]"
      ]
     },
     "metadata": {},
     "output_type": "display_data"
    },
    {
     "data": {
      "application/vnd.jupyter.widget-view+json": {
       "model_id": "4971ec7fd66945f4bea6bf57213ee727",
       "version_major": 2,
       "version_minor": 0
      },
      "text/plain": [
       "Generating data:   0%|          | 0/50000 [00:00<?, ?theta/s]"
      ]
     },
     "metadata": {},
     "output_type": "display_data"
    },
    {
     "data": {
      "application/vnd.jupyter.widget-view+json": {
       "model_id": "0b5c69c0847948e28f34a88c4992ba67",
       "version_major": 2,
       "version_minor": 0
      },
      "text/plain": [
       "Generating data:   0%|          | 0/5000 [00:00<?, ?theta/s]"
      ]
     },
     "metadata": {},
     "output_type": "display_data"
    },
    {
     "data": {
      "application/vnd.jupyter.widget-view+json": {
       "model_id": "56ada7e6625d4546863b5adc7b731feb",
       "version_major": 2,
       "version_minor": 0
      },
      "text/plain": [
       "Taking the most far appart qx qy:   0%|          | 0/10 [00:00<?, ?run/s]"
      ]
     },
     "metadata": {},
     "output_type": "display_data"
    },
    {
     "data": {
      "application/vnd.jupyter.widget-view+json": {
       "model_id": "51a51b9ce38f42b2916912c3078a8b10",
       "version_major": 2,
       "version_minor": 0
      },
      "text/plain": [
       "Training NPE:   0%|          | 0/50 [00:00<?, ?epoch/s]"
      ]
     },
     "metadata": {},
     "output_type": "display_data"
    },
    {
     "data": {
      "application/vnd.jupyter.widget-view+json": {
       "model_id": "59da2d7fbf5f45a8be31bd838207632c",
       "version_major": 2,
       "version_minor": 0
      },
      "text/plain": [
       "Generating data:   0%|          | 0/1 [00:00<?, ?theta/s]"
      ]
     },
     "metadata": {},
     "output_type": "display_data"
    },
    {
     "data": {
      "application/vnd.jupyter.widget-view+json": {
       "model_id": "fdd0cb77acd04423ad03fbc2dcee7fef",
       "version_major": 2,
       "version_minor": 0
      },
      "text/plain": [
       "Generating data:   0%|          | 0/50000 [00:00<?, ?theta/s]"
      ]
     },
     "metadata": {},
     "output_type": "display_data"
    },
    {
     "data": {
      "application/vnd.jupyter.widget-view+json": {
       "model_id": "5dd1da50f9bb45a28da1a17e81c92e7f",
       "version_major": 2,
       "version_minor": 0
      },
      "text/plain": [
       "Generating data:   0%|          | 0/5000 [00:00<?, ?theta/s]"
      ]
     },
     "metadata": {},
     "output_type": "display_data"
    },
    {
     "data": {
      "application/vnd.jupyter.widget-view+json": {
       "model_id": "fcec549d7cde4a5bac596a1361331394",
       "version_major": 2,
       "version_minor": 0
      },
      "text/plain": [
       "Taking the most far appart qx qy:   0%|          | 0/10 [00:00<?, ?run/s]"
      ]
     },
     "metadata": {},
     "output_type": "display_data"
    },
    {
     "data": {
      "application/vnd.jupyter.widget-view+json": {
       "model_id": "80cf209e1cb446729eb55174d4929f28",
       "version_major": 2,
       "version_minor": 0
      },
      "text/plain": [
       "Training NPE:   0%|          | 0/50 [00:00<?, ?epoch/s]"
      ]
     },
     "metadata": {},
     "output_type": "display_data"
    },
    {
     "data": {
      "application/vnd.jupyter.widget-view+json": {
       "model_id": "33d8d136d05945469940e953b3b4be82",
       "version_major": 2,
       "version_minor": 0
      },
      "text/plain": [
       "Generating data:   0%|          | 0/1 [00:00<?, ?theta/s]"
      ]
     },
     "metadata": {},
     "output_type": "display_data"
    },
    {
     "data": {
      "application/vnd.jupyter.widget-view+json": {
       "model_id": "9bab289602a948a8b70a49fa9e36fb0d",
       "version_major": 2,
       "version_minor": 0
      },
      "text/plain": [
       "Generating data:   0%|          | 0/50000 [00:00<?, ?theta/s]"
      ]
     },
     "metadata": {},
     "output_type": "display_data"
    },
    {
     "data": {
      "application/vnd.jupyter.widget-view+json": {
       "model_id": "4e292902720b4ae4ac3a9e0d3bdd517c",
       "version_major": 2,
       "version_minor": 0
      },
      "text/plain": [
       "Generating data:   0%|          | 0/5000 [00:00<?, ?theta/s]"
      ]
     },
     "metadata": {},
     "output_type": "display_data"
    },
    {
     "data": {
      "application/vnd.jupyter.widget-view+json": {
       "model_id": "33e23189b2c34a558fd100613d0f9431",
       "version_major": 2,
       "version_minor": 0
      },
      "text/plain": [
       "Taking the most far appart qx qy:   0%|          | 0/10 [00:00<?, ?run/s]"
      ]
     },
     "metadata": {},
     "output_type": "display_data"
    },
    {
     "data": {
      "application/vnd.jupyter.widget-view+json": {
       "model_id": "69267bc72fbc4b5aba2833abe56f7ef0",
       "version_major": 2,
       "version_minor": 0
      },
      "text/plain": [
       "Training NPE:   0%|          | 0/50 [00:00<?, ?epoch/s]"
      ]
     },
     "metadata": {},
     "output_type": "display_data"
    },
    {
     "data": {
      "application/vnd.jupyter.widget-view+json": {
       "model_id": "bad67ec8f75b48cf846807cd84a94d57",
       "version_major": 2,
       "version_minor": 0
      },
      "text/plain": [
       "Generating data:   0%|          | 0/1 [00:00<?, ?theta/s]"
      ]
     },
     "metadata": {},
     "output_type": "display_data"
    },
    {
     "data": {
      "application/vnd.jupyter.widget-view+json": {
       "model_id": "e1855296bd4e4264966ff4ebe150b357",
       "version_major": 2,
       "version_minor": 0
      },
      "text/plain": [
       "Generating data:   0%|          | 0/50000 [00:00<?, ?theta/s]"
      ]
     },
     "metadata": {},
     "output_type": "display_data"
    },
    {
     "data": {
      "application/vnd.jupyter.widget-view+json": {
       "model_id": "76fd339a862e407b928d83d1106b1a95",
       "version_major": 2,
       "version_minor": 0
      },
      "text/plain": [
       "Generating data:   0%|          | 0/5000 [00:00<?, ?theta/s]"
      ]
     },
     "metadata": {},
     "output_type": "display_data"
    },
    {
     "data": {
      "application/vnd.jupyter.widget-view+json": {
       "model_id": "3f66af4bec674bc7ad6ae7dbc52fc820",
       "version_major": 2,
       "version_minor": 0
      },
      "text/plain": [
       "Generating data:   0%|          | 0/50000 [00:00<?, ?theta/s]"
      ]
     },
     "metadata": {},
     "output_type": "display_data"
    },
    {
     "data": {
      "application/vnd.jupyter.widget-view+json": {
       "model_id": "2cbc041b94b0412fb12edfe5296e2be5",
       "version_major": 2,
       "version_minor": 0
      },
      "text/plain": [
       "Generating data:   0%|          | 0/5000 [00:00<?, ?theta/s]"
      ]
     },
     "metadata": {},
     "output_type": "display_data"
    },
    {
     "data": {
      "application/vnd.jupyter.widget-view+json": {
       "model_id": "2b4e6fd103484a4da56c7b15c8f36399",
       "version_major": 2,
       "version_minor": 0
      },
      "text/plain": [
       "Summaries:   0%|          | 0/5 [00:00<?, ?summary statistic/s]"
      ]
     },
     "metadata": {},
     "output_type": "display_data"
    },
    {
     "data": {
      "application/vnd.jupyter.widget-view+json": {
       "model_id": "05171ab8e9874a138ffe96cd8923002f",
       "version_major": 2,
       "version_minor": 0
      },
      "text/plain": [
       "Taking the most far appart qx qy:   0%|          | 0/10 [00:00<?, ?run/s]"
      ]
     },
     "metadata": {},
     "output_type": "display_data"
    },
    {
     "data": {
      "application/vnd.jupyter.widget-view+json": {
       "model_id": "ab9789f33df045c28eed9e9269220d0c",
       "version_major": 2,
       "version_minor": 0
      },
      "text/plain": [
       "Training NPE:   0%|          | 0/50 [00:00<?, ?epoch/s]"
      ]
     },
     "metadata": {},
     "output_type": "display_data"
    },
    {
     "data": {
      "application/vnd.jupyter.widget-view+json": {
       "model_id": "3d462bdb80ce4bb7b63da9b8889e2958",
       "version_major": 2,
       "version_minor": 0
      },
      "text/plain": [
       "Generating data:   0%|          | 0/1 [00:00<?, ?theta/s]"
      ]
     },
     "metadata": {},
     "output_type": "display_data"
    },
    {
     "data": {
      "application/vnd.jupyter.widget-view+json": {
       "model_id": "e52e999f5cd44839afc7bebbf98eca7f",
       "version_major": 2,
       "version_minor": 0
      },
      "text/plain": [
       "Generating data:   0%|          | 0/50000 [00:00<?, ?theta/s]"
      ]
     },
     "metadata": {},
     "output_type": "display_data"
    },
    {
     "data": {
      "application/vnd.jupyter.widget-view+json": {
       "model_id": "bf2a8b8f56144ec1947d89802e2c4c81",
       "version_major": 2,
       "version_minor": 0
      },
      "text/plain": [
       "Generating data:   0%|          | 0/5000 [00:00<?, ?theta/s]"
      ]
     },
     "metadata": {},
     "output_type": "display_data"
    },
    {
     "data": {
      "application/vnd.jupyter.widget-view+json": {
       "model_id": "5c4b298102a94d0dbc5df78de3267bd6",
       "version_major": 2,
       "version_minor": 0
      },
      "text/plain": [
       "Taking the most far appart qx qy:   0%|          | 0/10 [00:00<?, ?run/s]"
      ]
     },
     "metadata": {},
     "output_type": "display_data"
    },
    {
     "data": {
      "application/vnd.jupyter.widget-view+json": {
       "model_id": "327c2b20e04e412b86e5df2c7cba5966",
       "version_major": 2,
       "version_minor": 0
      },
      "text/plain": [
       "Training NPE:   0%|          | 0/50 [00:00<?, ?epoch/s]"
      ]
     },
     "metadata": {},
     "output_type": "display_data"
    },
    {
     "data": {
      "application/vnd.jupyter.widget-view+json": {
       "model_id": "7d023c422bf14823acaa40a8917fb9dd",
       "version_major": 2,
       "version_minor": 0
      },
      "text/plain": [
       "Generating data:   0%|          | 0/1 [00:00<?, ?theta/s]"
      ]
     },
     "metadata": {},
     "output_type": "display_data"
    },
    {
     "data": {
      "application/vnd.jupyter.widget-view+json": {
       "model_id": "3bc20c7783c74d8aa8abdb817888c829",
       "version_major": 2,
       "version_minor": 0
      },
      "text/plain": [
       "Generating data:   0%|          | 0/50000 [00:00<?, ?theta/s]"
      ]
     },
     "metadata": {},
     "output_type": "display_data"
    },
    {
     "data": {
      "application/vnd.jupyter.widget-view+json": {
       "model_id": "c0d7de0413314d5688e1170aca42e636",
       "version_major": 2,
       "version_minor": 0
      },
      "text/plain": [
       "Generating data:   0%|          | 0/5000 [00:00<?, ?theta/s]"
      ]
     },
     "metadata": {},
     "output_type": "display_data"
    },
    {
     "data": {
      "application/vnd.jupyter.widget-view+json": {
       "model_id": "8a490459821d40e9ad3e7d443518fc3d",
       "version_major": 2,
       "version_minor": 0
      },
      "text/plain": [
       "Taking the most far appart qx qy:   0%|          | 0/10 [00:00<?, ?run/s]"
      ]
     },
     "metadata": {},
     "output_type": "display_data"
    },
    {
     "data": {
      "application/vnd.jupyter.widget-view+json": {
       "model_id": "272636165173444f8f24ae40ffe7e55a",
       "version_major": 2,
       "version_minor": 0
      },
      "text/plain": [
       "Training NPE:   0%|          | 0/50 [00:00<?, ?epoch/s]"
      ]
     },
     "metadata": {},
     "output_type": "display_data"
    },
    {
     "data": {
      "application/vnd.jupyter.widget-view+json": {
       "model_id": "82f671c7cae640e5bdffec3af8cf572d",
       "version_major": 2,
       "version_minor": 0
      },
      "text/plain": [
       "Generating data:   0%|          | 0/1 [00:00<?, ?theta/s]"
      ]
     },
     "metadata": {},
     "output_type": "display_data"
    },
    {
     "data": {
      "application/vnd.jupyter.widget-view+json": {
       "model_id": "ec04b251d2c940cabf08dc912c39ace6",
       "version_major": 2,
       "version_minor": 0
      },
      "text/plain": [
       "Generating data:   0%|          | 0/50000 [00:00<?, ?theta/s]"
      ]
     },
     "metadata": {},
     "output_type": "display_data"
    },
    {
     "data": {
      "application/vnd.jupyter.widget-view+json": {
       "model_id": "8c570300ea664222a6774137fa882a1f",
       "version_major": 2,
       "version_minor": 0
      },
      "text/plain": [
       "Generating data:   0%|          | 0/5000 [00:00<?, ?theta/s]"
      ]
     },
     "metadata": {},
     "output_type": "display_data"
    },
    {
     "data": {
      "application/vnd.jupyter.widget-view+json": {
       "model_id": "bc73a23694814a29a2e127867adca43a",
       "version_major": 2,
       "version_minor": 0
      },
      "text/plain": [
       "Taking the most far appart qx qy:   0%|          | 0/10 [00:00<?, ?run/s]"
      ]
     },
     "metadata": {},
     "output_type": "display_data"
    },
    {
     "data": {
      "application/vnd.jupyter.widget-view+json": {
       "model_id": "74eafa727ae34393aedf91490c633514",
       "version_major": 2,
       "version_minor": 0
      },
      "text/plain": [
       "Training NPE:   0%|          | 0/50 [00:00<?, ?epoch/s]"
      ]
     },
     "metadata": {},
     "output_type": "display_data"
    },
    {
     "data": {
      "application/vnd.jupyter.widget-view+json": {
       "model_id": "f3282ba84dd14b09b01a55496f2494a8",
       "version_major": 2,
       "version_minor": 0
      },
      "text/plain": [
       "Generating data:   0%|          | 0/1 [00:00<?, ?theta/s]"
      ]
     },
     "metadata": {},
     "output_type": "display_data"
    },
    {
     "data": {
      "application/vnd.jupyter.widget-view+json": {
       "model_id": "13eeafb844e54b0db9b50c8f9a5b71d6",
       "version_major": 2,
       "version_minor": 0
      },
      "text/plain": [
       "Generating data:   0%|          | 0/50000 [00:00<?, ?theta/s]"
      ]
     },
     "metadata": {},
     "output_type": "display_data"
    },
    {
     "data": {
      "application/vnd.jupyter.widget-view+json": {
       "model_id": "1065379a1a494991a8115ba23c317bcd",
       "version_major": 2,
       "version_minor": 0
      },
      "text/plain": [
       "Generating data:   0%|          | 0/5000 [00:00<?, ?theta/s]"
      ]
     },
     "metadata": {},
     "output_type": "display_data"
    },
    {
     "data": {
      "application/vnd.jupyter.widget-view+json": {
       "model_id": "1c132369aca84e5eb356e589b8de26d4",
       "version_major": 2,
       "version_minor": 0
      },
      "text/plain": [
       "Taking the most far appart qx qy:   0%|          | 0/10 [00:00<?, ?run/s]"
      ]
     },
     "metadata": {},
     "output_type": "display_data"
    },
    {
     "data": {
      "application/vnd.jupyter.widget-view+json": {
       "model_id": "a321630868a142729a3907108c1bbbd6",
       "version_major": 2,
       "version_minor": 0
      },
      "text/plain": [
       "Training NPE:   0%|          | 0/50 [00:00<?, ?epoch/s]"
      ]
     },
     "metadata": {},
     "output_type": "display_data"
    },
    {
     "data": {
      "application/vnd.jupyter.widget-view+json": {
       "model_id": "d49272db30b64354b5db95c5b9a8b1b1",
       "version_major": 2,
       "version_minor": 0
      },
      "text/plain": [
       "Generating data:   0%|          | 0/1 [00:00<?, ?theta/s]"
      ]
     },
     "metadata": {},
     "output_type": "display_data"
    },
    {
     "data": {
      "application/vnd.jupyter.widget-view+json": {
       "model_id": "cba7685c49b04d8d980537860118ad95",
       "version_major": 2,
       "version_minor": 0
      },
      "text/plain": [
       "Generating data:   0%|          | 0/50000 [00:00<?, ?theta/s]"
      ]
     },
     "metadata": {},
     "output_type": "display_data"
    },
    {
     "data": {
      "application/vnd.jupyter.widget-view+json": {
       "model_id": "a83b45dfd72341a5878a1f90e6ec0bbc",
       "version_major": 2,
       "version_minor": 0
      },
      "text/plain": [
       "Generating data:   0%|          | 0/5000 [00:00<?, ?theta/s]"
      ]
     },
     "metadata": {},
     "output_type": "display_data"
    },
    {
     "data": {
      "application/vnd.jupyter.widget-view+json": {
       "model_id": "181af4b7593546408cc88ca229459359",
       "version_major": 2,
       "version_minor": 0
      },
      "text/plain": [
       "Generating data:   0%|          | 0/50000 [00:00<?, ?theta/s]"
      ]
     },
     "metadata": {},
     "output_type": "display_data"
    },
    {
     "data": {
      "application/vnd.jupyter.widget-view+json": {
       "model_id": "4e56509f92084200b676b40ad8166d8f",
       "version_major": 2,
       "version_minor": 0
      },
      "text/plain": [
       "Generating data:   0%|          | 0/5000 [00:00<?, ?theta/s]"
      ]
     },
     "metadata": {},
     "output_type": "display_data"
    },
    {
     "data": {
      "application/vnd.jupyter.widget-view+json": {
       "model_id": "0fe508e91b264d6fb7eec037ab82c6cc",
       "version_major": 2,
       "version_minor": 0
      },
      "text/plain": [
       "Summaries:   0%|          | 0/5 [00:00<?, ?summary statistic/s]"
      ]
     },
     "metadata": {},
     "output_type": "display_data"
    },
    {
     "data": {
      "application/vnd.jupyter.widget-view+json": {
       "model_id": "08fe85e2a46549aba0beb9783b084c12",
       "version_major": 2,
       "version_minor": 0
      },
      "text/plain": [
       "Taking the most far appart qx qy:   0%|          | 0/10 [00:00<?, ?run/s]"
      ]
     },
     "metadata": {},
     "output_type": "display_data"
    },
    {
     "data": {
      "application/vnd.jupyter.widget-view+json": {
       "model_id": "f2bad680f51a4bc0a9821a7f038bcd60",
       "version_major": 2,
       "version_minor": 0
      },
      "text/plain": [
       "Training NPE:   0%|          | 0/50 [00:00<?, ?epoch/s]"
      ]
     },
     "metadata": {},
     "output_type": "display_data"
    },
    {
     "data": {
      "application/vnd.jupyter.widget-view+json": {
       "model_id": "157516af88c142949c5ac9916c01914b",
       "version_major": 2,
       "version_minor": 0
      },
      "text/plain": [
       "Generating data:   0%|          | 0/1 [00:00<?, ?theta/s]"
      ]
     },
     "metadata": {},
     "output_type": "display_data"
    },
    {
     "data": {
      "application/vnd.jupyter.widget-view+json": {
       "model_id": "e6ab6acbe95642c5928b633cac04676c",
       "version_major": 2,
       "version_minor": 0
      },
      "text/plain": [
       "Generating data:   0%|          | 0/50000 [00:00<?, ?theta/s]"
      ]
     },
     "metadata": {},
     "output_type": "display_data"
    },
    {
     "data": {
      "application/vnd.jupyter.widget-view+json": {
       "model_id": "025209acf64e4ef891ff4ab55fb8da13",
       "version_major": 2,
       "version_minor": 0
      },
      "text/plain": [
       "Generating data:   0%|          | 0/5000 [00:00<?, ?theta/s]"
      ]
     },
     "metadata": {},
     "output_type": "display_data"
    },
    {
     "data": {
      "application/vnd.jupyter.widget-view+json": {
       "model_id": "91e0c76b968e4bd390095780d6b035f3",
       "version_major": 2,
       "version_minor": 0
      },
      "text/plain": [
       "Taking the most far appart qx qy:   0%|          | 0/10 [00:00<?, ?run/s]"
      ]
     },
     "metadata": {},
     "output_type": "display_data"
    },
    {
     "data": {
      "application/vnd.jupyter.widget-view+json": {
       "model_id": "7908f192fe2b49fabdb14dcf272c234d",
       "version_major": 2,
       "version_minor": 0
      },
      "text/plain": [
       "Training NPE:   0%|          | 0/50 [00:00<?, ?epoch/s]"
      ]
     },
     "metadata": {},
     "output_type": "display_data"
    },
    {
     "data": {
      "application/vnd.jupyter.widget-view+json": {
       "model_id": "4f564abe838d4b2dacc290c049dc2b91",
       "version_major": 2,
       "version_minor": 0
      },
      "text/plain": [
       "Generating data:   0%|          | 0/1 [00:00<?, ?theta/s]"
      ]
     },
     "metadata": {},
     "output_type": "display_data"
    },
    {
     "data": {
      "application/vnd.jupyter.widget-view+json": {
       "model_id": "10dded652cd0471084ab64e9bfc43a39",
       "version_major": 2,
       "version_minor": 0
      },
      "text/plain": [
       "Generating data:   0%|          | 0/50000 [00:00<?, ?theta/s]"
      ]
     },
     "metadata": {},
     "output_type": "display_data"
    },
    {
     "data": {
      "application/vnd.jupyter.widget-view+json": {
       "model_id": "17489369c7e1476297bbc9006bfdb36b",
       "version_major": 2,
       "version_minor": 0
      },
      "text/plain": [
       "Generating data:   0%|          | 0/5000 [00:00<?, ?theta/s]"
      ]
     },
     "metadata": {},
     "output_type": "display_data"
    },
    {
     "data": {
      "application/vnd.jupyter.widget-view+json": {
       "model_id": "8ceebf86bc6842e381f9619272ed984b",
       "version_major": 2,
       "version_minor": 0
      },
      "text/plain": [
       "Taking the most far appart qx qy:   0%|          | 0/10 [00:00<?, ?run/s]"
      ]
     },
     "metadata": {},
     "output_type": "display_data"
    },
    {
     "data": {
      "application/vnd.jupyter.widget-view+json": {
       "model_id": "a3de3834114948bba8ee0967cbaa57c4",
       "version_major": 2,
       "version_minor": 0
      },
      "text/plain": [
       "Training NPE:   0%|          | 0/50 [00:00<?, ?epoch/s]"
      ]
     },
     "metadata": {},
     "output_type": "display_data"
    },
    {
     "data": {
      "application/vnd.jupyter.widget-view+json": {
       "model_id": "b382e758da6142d485b6b9a6304e940d",
       "version_major": 2,
       "version_minor": 0
      },
      "text/plain": [
       "Generating data:   0%|          | 0/1 [00:00<?, ?theta/s]"
      ]
     },
     "metadata": {},
     "output_type": "display_data"
    },
    {
     "data": {
      "application/vnd.jupyter.widget-view+json": {
       "model_id": "3544c42db1284b5692ecfedc29c061d5",
       "version_major": 2,
       "version_minor": 0
      },
      "text/plain": [
       "Generating data:   0%|          | 0/50000 [00:00<?, ?theta/s]"
      ]
     },
     "metadata": {},
     "output_type": "display_data"
    },
    {
     "data": {
      "application/vnd.jupyter.widget-view+json": {
       "model_id": "828a332158c1424fa56917ef057a6ddf",
       "version_major": 2,
       "version_minor": 0
      },
      "text/plain": [
       "Generating data:   0%|          | 0/5000 [00:00<?, ?theta/s]"
      ]
     },
     "metadata": {},
     "output_type": "display_data"
    },
    {
     "data": {
      "application/vnd.jupyter.widget-view+json": {
       "model_id": "23673504ee69481197adced409017aaa",
       "version_major": 2,
       "version_minor": 0
      },
      "text/plain": [
       "Taking the most far appart qx qy:   0%|          | 0/10 [00:00<?, ?run/s]"
      ]
     },
     "metadata": {},
     "output_type": "display_data"
    },
    {
     "data": {
      "application/vnd.jupyter.widget-view+json": {
       "model_id": "56210043b05b46459a4b8eb9c7eb04ca",
       "version_major": 2,
       "version_minor": 0
      },
      "text/plain": [
       "Training NPE:   0%|          | 0/50 [00:00<?, ?epoch/s]"
      ]
     },
     "metadata": {},
     "output_type": "display_data"
    },
    {
     "data": {
      "application/vnd.jupyter.widget-view+json": {
       "model_id": "04161ff84c414fb1b7e01803202ec88a",
       "version_major": 2,
       "version_minor": 0
      },
      "text/plain": [
       "Generating data:   0%|          | 0/1 [00:00<?, ?theta/s]"
      ]
     },
     "metadata": {},
     "output_type": "display_data"
    },
    {
     "data": {
      "application/vnd.jupyter.widget-view+json": {
       "model_id": "88fef551d2234c2b996b3fa0c8f6baee",
       "version_major": 2,
       "version_minor": 0
      },
      "text/plain": [
       "Generating data:   0%|          | 0/50000 [00:00<?, ?theta/s]"
      ]
     },
     "metadata": {},
     "output_type": "display_data"
    },
    {
     "data": {
      "application/vnd.jupyter.widget-view+json": {
       "model_id": "aea4ac86e1374b33b644797550514f3f",
       "version_major": 2,
       "version_minor": 0
      },
      "text/plain": [
       "Generating data:   0%|          | 0/5000 [00:00<?, ?theta/s]"
      ]
     },
     "metadata": {},
     "output_type": "display_data"
    },
    {
     "data": {
      "application/vnd.jupyter.widget-view+json": {
       "model_id": "c8ef8dac418d4523917945e8acb76db9",
       "version_major": 2,
       "version_minor": 0
      },
      "text/plain": [
       "Taking the most far appart qx qy:   0%|          | 0/10 [00:00<?, ?run/s]"
      ]
     },
     "metadata": {},
     "output_type": "display_data"
    },
    {
     "data": {
      "application/vnd.jupyter.widget-view+json": {
       "model_id": "eb27b55bb62a475d9e9bbc23297c00ee",
       "version_major": 2,
       "version_minor": 0
      },
      "text/plain": [
       "Training NPE:   0%|          | 0/50 [00:00<?, ?epoch/s]"
      ]
     },
     "metadata": {},
     "output_type": "display_data"
    },
    {
     "data": {
      "application/vnd.jupyter.widget-view+json": {
       "model_id": "4830ec09b39046e496ff1db54b624da6",
       "version_major": 2,
       "version_minor": 0
      },
      "text/plain": [
       "Generating data:   0%|          | 0/1 [00:00<?, ?theta/s]"
      ]
     },
     "metadata": {},
     "output_type": "display_data"
    },
    {
     "data": {
      "application/vnd.jupyter.widget-view+json": {
       "model_id": "dea49d1c55134f5ebbdb6db42d6cff45",
       "version_major": 2,
       "version_minor": 0
      },
      "text/plain": [
       "Generating data:   0%|          | 0/50000 [00:00<?, ?theta/s]"
      ]
     },
     "metadata": {},
     "output_type": "display_data"
    },
    {
     "data": {
      "application/vnd.jupyter.widget-view+json": {
       "model_id": "bb4aa994a0e3457894d70b3740a6ce4b",
       "version_major": 2,
       "version_minor": 0
      },
      "text/plain": [
       "Generating data:   0%|          | 0/5000 [00:00<?, ?theta/s]"
      ]
     },
     "metadata": {},
     "output_type": "display_data"
    },
    {
     "data": {
      "application/vnd.jupyter.widget-view+json": {
       "model_id": "77ab734ff9724ec093f024aa8a26c594",
       "version_major": 2,
       "version_minor": 0
      },
      "text/plain": [
       "Generating data:   0%|          | 0/50000 [00:00<?, ?theta/s]"
      ]
     },
     "metadata": {},
     "output_type": "display_data"
    },
    {
     "data": {
      "application/vnd.jupyter.widget-view+json": {
       "model_id": "7774a1b83b9b4185b31576cda93199b1",
       "version_major": 2,
       "version_minor": 0
      },
      "text/plain": [
       "Generating data:   0%|          | 0/5000 [00:00<?, ?theta/s]"
      ]
     },
     "metadata": {},
     "output_type": "display_data"
    },
    {
     "data": {
      "application/vnd.jupyter.widget-view+json": {
       "model_id": "d35b478e1c3e43629dcfbd5d4432cc6e",
       "version_major": 2,
       "version_minor": 0
      },
      "text/plain": [
       "Summaries:   0%|          | 0/5 [00:00<?, ?summary statistic/s]"
      ]
     },
     "metadata": {},
     "output_type": "display_data"
    },
    {
     "data": {
      "application/vnd.jupyter.widget-view+json": {
       "model_id": "0fd2e2fb81124706bebd1a8db1335862",
       "version_major": 2,
       "version_minor": 0
      },
      "text/plain": [
       "Taking the most far appart qx qy:   0%|          | 0/10 [00:00<?, ?run/s]"
      ]
     },
     "metadata": {},
     "output_type": "display_data"
    },
    {
     "data": {
      "application/vnd.jupyter.widget-view+json": {
       "model_id": "c1141f4af361483a85ef4d2952d6a535",
       "version_major": 2,
       "version_minor": 0
      },
      "text/plain": [
       "Training NPE:   0%|          | 0/50 [00:00<?, ?epoch/s]"
      ]
     },
     "metadata": {},
     "output_type": "display_data"
    },
    {
     "data": {
      "application/vnd.jupyter.widget-view+json": {
       "model_id": "c7e786f5e41a4e0db037222e136ea713",
       "version_major": 2,
       "version_minor": 0
      },
      "text/plain": [
       "Generating data:   0%|          | 0/1 [00:00<?, ?theta/s]"
      ]
     },
     "metadata": {},
     "output_type": "display_data"
    },
    {
     "data": {
      "application/vnd.jupyter.widget-view+json": {
       "model_id": "508685221bc341909ee6673be8fe9f4a",
       "version_major": 2,
       "version_minor": 0
      },
      "text/plain": [
       "Generating data:   0%|          | 0/50000 [00:00<?, ?theta/s]"
      ]
     },
     "metadata": {},
     "output_type": "display_data"
    },
    {
     "data": {
      "application/vnd.jupyter.widget-view+json": {
       "model_id": "925769891ad3496ab521eb48464da46c",
       "version_major": 2,
       "version_minor": 0
      },
      "text/plain": [
       "Generating data:   0%|          | 0/5000 [00:00<?, ?theta/s]"
      ]
     },
     "metadata": {},
     "output_type": "display_data"
    },
    {
     "data": {
      "application/vnd.jupyter.widget-view+json": {
       "model_id": "46c7e50aa43745e09053cf614d8852ca",
       "version_major": 2,
       "version_minor": 0
      },
      "text/plain": [
       "Taking the most far appart qx qy:   0%|          | 0/10 [00:00<?, ?run/s]"
      ]
     },
     "metadata": {},
     "output_type": "display_data"
    },
    {
     "data": {
      "application/vnd.jupyter.widget-view+json": {
       "model_id": "145308c76cf54a9db06ec6de3999f803",
       "version_major": 2,
       "version_minor": 0
      },
      "text/plain": [
       "Training NPE:   0%|          | 0/50 [00:00<?, ?epoch/s]"
      ]
     },
     "metadata": {},
     "output_type": "display_data"
    },
    {
     "data": {
      "application/vnd.jupyter.widget-view+json": {
       "model_id": "35a87d3e523a467ab8dc456034f136af",
       "version_major": 2,
       "version_minor": 0
      },
      "text/plain": [
       "Generating data:   0%|          | 0/1 [00:00<?, ?theta/s]"
      ]
     },
     "metadata": {},
     "output_type": "display_data"
    },
    {
     "data": {
      "application/vnd.jupyter.widget-view+json": {
       "model_id": "5cad1a909c614d4d896745b6aaa23e61",
       "version_major": 2,
       "version_minor": 0
      },
      "text/plain": [
       "Generating data:   0%|          | 0/50000 [00:00<?, ?theta/s]"
      ]
     },
     "metadata": {},
     "output_type": "display_data"
    },
    {
     "data": {
      "application/vnd.jupyter.widget-view+json": {
       "model_id": "40570802497a4d23b0c805ce352ca7c5",
       "version_major": 2,
       "version_minor": 0
      },
      "text/plain": [
       "Generating data:   0%|          | 0/5000 [00:00<?, ?theta/s]"
      ]
     },
     "metadata": {},
     "output_type": "display_data"
    },
    {
     "data": {
      "application/vnd.jupyter.widget-view+json": {
       "model_id": "3960109b39aa4e859b554e2ffd1da5cd",
       "version_major": 2,
       "version_minor": 0
      },
      "text/plain": [
       "Taking the most far appart qx qy:   0%|          | 0/10 [00:00<?, ?run/s]"
      ]
     },
     "metadata": {},
     "output_type": "display_data"
    },
    {
     "data": {
      "application/vnd.jupyter.widget-view+json": {
       "model_id": "8aaee93bf802493faf6dc30555a77c93",
       "version_major": 2,
       "version_minor": 0
      },
      "text/plain": [
       "Training NPE:   0%|          | 0/50 [00:00<?, ?epoch/s]"
      ]
     },
     "metadata": {},
     "output_type": "display_data"
    },
    {
     "data": {
      "application/vnd.jupyter.widget-view+json": {
       "model_id": "ea03f74726a4400888cf8b57e0a713cb",
       "version_major": 2,
       "version_minor": 0
      },
      "text/plain": [
       "Generating data:   0%|          | 0/1 [00:00<?, ?theta/s]"
      ]
     },
     "metadata": {},
     "output_type": "display_data"
    },
    {
     "data": {
      "application/vnd.jupyter.widget-view+json": {
       "model_id": "19839ba8f77449909e3b88af3c527e5b",
       "version_major": 2,
       "version_minor": 0
      },
      "text/plain": [
       "Generating data:   0%|          | 0/50000 [00:00<?, ?theta/s]"
      ]
     },
     "metadata": {},
     "output_type": "display_data"
    },
    {
     "data": {
      "application/vnd.jupyter.widget-view+json": {
       "model_id": "7287952587cd4f589a692a1901860f1f",
       "version_major": 2,
       "version_minor": 0
      },
      "text/plain": [
       "Generating data:   0%|          | 0/5000 [00:00<?, ?theta/s]"
      ]
     },
     "metadata": {},
     "output_type": "display_data"
    },
    {
     "data": {
      "application/vnd.jupyter.widget-view+json": {
       "model_id": "8da9d0dda65e484f8f6da11bec7da77f",
       "version_major": 2,
       "version_minor": 0
      },
      "text/plain": [
       "Taking the most far appart qx qy:   0%|          | 0/10 [00:00<?, ?run/s]"
      ]
     },
     "metadata": {},
     "output_type": "display_data"
    },
    {
     "data": {
      "application/vnd.jupyter.widget-view+json": {
       "model_id": "f7874a089db74cb69431eee8343231b9",
       "version_major": 2,
       "version_minor": 0
      },
      "text/plain": [
       "Training NPE:   0%|          | 0/50 [00:00<?, ?epoch/s]"
      ]
     },
     "metadata": {},
     "output_type": "display_data"
    },
    {
     "data": {
      "application/vnd.jupyter.widget-view+json": {
       "model_id": "e502d582287d4a6fb701abb1de7755c3",
       "version_major": 2,
       "version_minor": 0
      },
      "text/plain": [
       "Generating data:   0%|          | 0/1 [00:00<?, ?theta/s]"
      ]
     },
     "metadata": {},
     "output_type": "display_data"
    },
    {
     "data": {
      "application/vnd.jupyter.widget-view+json": {
       "model_id": "473da98830c94a01aeef942814a429fb",
       "version_major": 2,
       "version_minor": 0
      },
      "text/plain": [
       "Generating data:   0%|          | 0/50000 [00:00<?, ?theta/s]"
      ]
     },
     "metadata": {},
     "output_type": "display_data"
    },
    {
     "data": {
      "application/vnd.jupyter.widget-view+json": {
       "model_id": "6a9773af9fb0475b91893dabeae672ba",
       "version_major": 2,
       "version_minor": 0
      },
      "text/plain": [
       "Generating data:   0%|          | 0/5000 [00:00<?, ?theta/s]"
      ]
     },
     "metadata": {},
     "output_type": "display_data"
    },
    {
     "data": {
      "application/vnd.jupyter.widget-view+json": {
       "model_id": "163cb4dc5c1a45ff948b0c978ad28b22",
       "version_major": 2,
       "version_minor": 0
      },
      "text/plain": [
       "Taking the most far appart qx qy:   0%|          | 0/10 [00:00<?, ?run/s]"
      ]
     },
     "metadata": {},
     "output_type": "display_data"
    },
    {
     "data": {
      "application/vnd.jupyter.widget-view+json": {
       "model_id": "6b77e11fa15944518439a4c4e1d358a0",
       "version_major": 2,
       "version_minor": 0
      },
      "text/plain": [
       "Training NPE:   0%|          | 0/50 [00:00<?, ?epoch/s]"
      ]
     },
     "metadata": {},
     "output_type": "display_data"
    },
    {
     "data": {
      "application/vnd.jupyter.widget-view+json": {
       "model_id": "1464da5e131442838ecbe0130fa533b2",
       "version_major": 2,
       "version_minor": 0
      },
      "text/plain": [
       "Generating data:   0%|          | 0/1 [00:00<?, ?theta/s]"
      ]
     },
     "metadata": {},
     "output_type": "display_data"
    },
    {
     "data": {
      "application/vnd.jupyter.widget-view+json": {
       "model_id": "e5a9b78086564f72884595f68ae53cd9",
       "version_major": 2,
       "version_minor": 0
      },
      "text/plain": [
       "Generating data:   0%|          | 0/50000 [00:00<?, ?theta/s]"
      ]
     },
     "metadata": {},
     "output_type": "display_data"
    },
    {
     "data": {
      "application/vnd.jupyter.widget-view+json": {
       "model_id": "5ec32a83342f480985d8350052c0d0a3",
       "version_major": 2,
       "version_minor": 0
      },
      "text/plain": [
       "Generating data:   0%|          | 0/5000 [00:00<?, ?theta/s]"
      ]
     },
     "metadata": {},
     "output_type": "display_data"
    },
    {
     "data": {
      "application/vnd.jupyter.widget-view+json": {
       "model_id": "6286f75255fa4eb9807531cba1edb0e8",
       "version_major": 2,
       "version_minor": 0
      },
      "text/plain": [
       "Generating data:   0%|          | 0/50000 [00:00<?, ?theta/s]"
      ]
     },
     "metadata": {},
     "output_type": "display_data"
    },
    {
     "data": {
      "application/vnd.jupyter.widget-view+json": {
       "model_id": "91aaebaafcf141658f2c198dc3b9fed1",
       "version_major": 2,
       "version_minor": 0
      },
      "text/plain": [
       "Generating data:   0%|          | 0/5000 [00:00<?, ?theta/s]"
      ]
     },
     "metadata": {},
     "output_type": "display_data"
    },
    {
     "data": {
      "application/vnd.jupyter.widget-view+json": {
       "model_id": "c56a723cbb254de3b5d6995297051f7b",
       "version_major": 2,
       "version_minor": 0
      },
      "text/plain": [
       "Summaries:   0%|          | 0/5 [00:00<?, ?summary statistic/s]"
      ]
     },
     "metadata": {},
     "output_type": "display_data"
    },
    {
     "data": {
      "application/vnd.jupyter.widget-view+json": {
       "model_id": "ea40971175dc4103b6d55ab08e72c939",
       "version_major": 2,
       "version_minor": 0
      },
      "text/plain": [
       "Taking the most far appart qx qy:   0%|          | 0/10 [00:00<?, ?run/s]"
      ]
     },
     "metadata": {},
     "output_type": "display_data"
    },
    {
     "data": {
      "application/vnd.jupyter.widget-view+json": {
       "model_id": "a22d5671d0b040a5b1fcb018a2229876",
       "version_major": 2,
       "version_minor": 0
      },
      "text/plain": [
       "Training NPE:   0%|          | 0/50 [00:00<?, ?epoch/s]"
      ]
     },
     "metadata": {},
     "output_type": "display_data"
    },
    {
     "data": {
      "application/vnd.jupyter.widget-view+json": {
       "model_id": "2253eff153e74118bb57cb352713429b",
       "version_major": 2,
       "version_minor": 0
      },
      "text/plain": [
       "Generating data:   0%|          | 0/1 [00:00<?, ?theta/s]"
      ]
     },
     "metadata": {},
     "output_type": "display_data"
    },
    {
     "data": {
      "application/vnd.jupyter.widget-view+json": {
       "model_id": "771ff22322844719826aae8f1ff31cc4",
       "version_major": 2,
       "version_minor": 0
      },
      "text/plain": [
       "Generating data:   0%|          | 0/50000 [00:00<?, ?theta/s]"
      ]
     },
     "metadata": {},
     "output_type": "display_data"
    },
    {
     "data": {
      "application/vnd.jupyter.widget-view+json": {
       "model_id": "c45ed0291473435290a06c28f36d0ac9",
       "version_major": 2,
       "version_minor": 0
      },
      "text/plain": [
       "Generating data:   0%|          | 0/5000 [00:00<?, ?theta/s]"
      ]
     },
     "metadata": {},
     "output_type": "display_data"
    },
    {
     "data": {
      "application/vnd.jupyter.widget-view+json": {
       "model_id": "811a9aa55f794b7cb0a240fde7fd5c3c",
       "version_major": 2,
       "version_minor": 0
      },
      "text/plain": [
       "Taking the most far appart qx qy:   0%|          | 0/10 [00:00<?, ?run/s]"
      ]
     },
     "metadata": {},
     "output_type": "display_data"
    },
    {
     "data": {
      "application/vnd.jupyter.widget-view+json": {
       "model_id": "eee6d20c953a4889a53fec180facb8b8",
       "version_major": 2,
       "version_minor": 0
      },
      "text/plain": [
       "Training NPE:   0%|          | 0/50 [00:00<?, ?epoch/s]"
      ]
     },
     "metadata": {},
     "output_type": "display_data"
    },
    {
     "data": {
      "application/vnd.jupyter.widget-view+json": {
       "model_id": "3b4da1ea8cf6416bada425e21c4335cd",
       "version_major": 2,
       "version_minor": 0
      },
      "text/plain": [
       "Generating data:   0%|          | 0/1 [00:00<?, ?theta/s]"
      ]
     },
     "metadata": {},
     "output_type": "display_data"
    },
    {
     "data": {
      "application/vnd.jupyter.widget-view+json": {
       "model_id": "1f0b63717b86477b9916ba23c219c293",
       "version_major": 2,
       "version_minor": 0
      },
      "text/plain": [
       "Generating data:   0%|          | 0/50000 [00:00<?, ?theta/s]"
      ]
     },
     "metadata": {},
     "output_type": "display_data"
    },
    {
     "data": {
      "application/vnd.jupyter.widget-view+json": {
       "model_id": "33b1cfa101ee4501a6018108d0ec7086",
       "version_major": 2,
       "version_minor": 0
      },
      "text/plain": [
       "Generating data:   0%|          | 0/5000 [00:00<?, ?theta/s]"
      ]
     },
     "metadata": {},
     "output_type": "display_data"
    },
    {
     "data": {
      "application/vnd.jupyter.widget-view+json": {
       "model_id": "e070b86b009c494eb3ee203845df2f6d",
       "version_major": 2,
       "version_minor": 0
      },
      "text/plain": [
       "Taking the most far appart qx qy:   0%|          | 0/10 [00:00<?, ?run/s]"
      ]
     },
     "metadata": {},
     "output_type": "display_data"
    },
    {
     "data": {
      "application/vnd.jupyter.widget-view+json": {
       "model_id": "97877393e1ab414caafb881ce79d36fd",
       "version_major": 2,
       "version_minor": 0
      },
      "text/plain": [
       "Training NPE:   0%|          | 0/50 [00:00<?, ?epoch/s]"
      ]
     },
     "metadata": {},
     "output_type": "display_data"
    },
    {
     "data": {
      "application/vnd.jupyter.widget-view+json": {
       "model_id": "c3cb22a0ec444a7995c6eb62a3359e29",
       "version_major": 2,
       "version_minor": 0
      },
      "text/plain": [
       "Generating data:   0%|          | 0/1 [00:00<?, ?theta/s]"
      ]
     },
     "metadata": {},
     "output_type": "display_data"
    },
    {
     "data": {
      "application/vnd.jupyter.widget-view+json": {
       "model_id": "c61a50fccf204869a4011b5f5374a051",
       "version_major": 2,
       "version_minor": 0
      },
      "text/plain": [
       "Generating data:   0%|          | 0/50000 [00:00<?, ?theta/s]"
      ]
     },
     "metadata": {},
     "output_type": "display_data"
    },
    {
     "data": {
      "application/vnd.jupyter.widget-view+json": {
       "model_id": "12957a36ea9a4874b815413f15de16bf",
       "version_major": 2,
       "version_minor": 0
      },
      "text/plain": [
       "Generating data:   0%|          | 0/5000 [00:00<?, ?theta/s]"
      ]
     },
     "metadata": {},
     "output_type": "display_data"
    },
    {
     "data": {
      "application/vnd.jupyter.widget-view+json": {
       "model_id": "b2281c05c330472599175d2c1d9b16d7",
       "version_major": 2,
       "version_minor": 0
      },
      "text/plain": [
       "Taking the most far appart qx qy:   0%|          | 0/10 [00:00<?, ?run/s]"
      ]
     },
     "metadata": {},
     "output_type": "display_data"
    },
    {
     "data": {
      "application/vnd.jupyter.widget-view+json": {
       "model_id": "60acc3c393e643c4983efaa19e509265",
       "version_major": 2,
       "version_minor": 0
      },
      "text/plain": [
       "Training NPE:   0%|          | 0/50 [00:00<?, ?epoch/s]"
      ]
     },
     "metadata": {},
     "output_type": "display_data"
    },
    {
     "data": {
      "application/vnd.jupyter.widget-view+json": {
       "model_id": "9591b3b0b97647b7befafe0aad77d1e2",
       "version_major": 2,
       "version_minor": 0
      },
      "text/plain": [
       "Generating data:   0%|          | 0/1 [00:00<?, ?theta/s]"
      ]
     },
     "metadata": {},
     "output_type": "display_data"
    },
    {
     "data": {
      "application/vnd.jupyter.widget-view+json": {
       "model_id": "f06134d4e27a4549895188df0b49d161",
       "version_major": 2,
       "version_minor": 0
      },
      "text/plain": [
       "Generating data:   0%|          | 0/50000 [00:00<?, ?theta/s]"
      ]
     },
     "metadata": {},
     "output_type": "display_data"
    },
    {
     "data": {
      "application/vnd.jupyter.widget-view+json": {
       "model_id": "3625538d582b4c429d5a469a4a3c0877",
       "version_major": 2,
       "version_minor": 0
      },
      "text/plain": [
       "Generating data:   0%|          | 0/5000 [00:00<?, ?theta/s]"
      ]
     },
     "metadata": {},
     "output_type": "display_data"
    },
    {
     "data": {
      "application/vnd.jupyter.widget-view+json": {
       "model_id": "c640d35d82254dbcb3bfcf0bac930070",
       "version_major": 2,
       "version_minor": 0
      },
      "text/plain": [
       "Taking the most far appart qx qy:   0%|          | 0/10 [00:00<?, ?run/s]"
      ]
     },
     "metadata": {},
     "output_type": "display_data"
    },
    {
     "data": {
      "application/vnd.jupyter.widget-view+json": {
       "model_id": "53a1ab5a80c14f3eaca943d395670dae",
       "version_major": 2,
       "version_minor": 0
      },
      "text/plain": [
       "Training NPE:   0%|          | 0/50 [00:00<?, ?epoch/s]"
      ]
     },
     "metadata": {},
     "output_type": "display_data"
    },
    {
     "data": {
      "application/vnd.jupyter.widget-view+json": {
       "model_id": "a68307acdd714b0a8e01e0de8158fc3b",
       "version_major": 2,
       "version_minor": 0
      },
      "text/plain": [
       "Generating data:   0%|          | 0/1 [00:00<?, ?theta/s]"
      ]
     },
     "metadata": {},
     "output_type": "display_data"
    },
    {
     "data": {
      "application/vnd.jupyter.widget-view+json": {
       "model_id": "423ebafff9974b8ea6e650d286babf4a",
       "version_major": 2,
       "version_minor": 0
      },
      "text/plain": [
       "Generating data:   0%|          | 0/50000 [00:00<?, ?theta/s]"
      ]
     },
     "metadata": {},
     "output_type": "display_data"
    },
    {
     "data": {
      "application/vnd.jupyter.widget-view+json": {
       "model_id": "198e70f34c3a4473a788861d41f60d57",
       "version_major": 2,
       "version_minor": 0
      },
      "text/plain": [
       "Generating data:   0%|          | 0/5000 [00:00<?, ?theta/s]"
      ]
     },
     "metadata": {},
     "output_type": "display_data"
    },
    {
     "data": {
      "application/vnd.jupyter.widget-view+json": {
       "model_id": "2298b6a4a1074bfa9981ef3b5e031983",
       "version_major": 2,
       "version_minor": 0
      },
      "text/plain": [
       "Generating data:   0%|          | 0/50000 [00:00<?, ?theta/s]"
      ]
     },
     "metadata": {},
     "output_type": "display_data"
    },
    {
     "data": {
      "application/vnd.jupyter.widget-view+json": {
       "model_id": "5c1c91ccbe8049048171b6a1f12fb78b",
       "version_major": 2,
       "version_minor": 0
      },
      "text/plain": [
       "Generating data:   0%|          | 0/5000 [00:00<?, ?theta/s]"
      ]
     },
     "metadata": {},
     "output_type": "display_data"
    },
    {
     "data": {
      "application/vnd.jupyter.widget-view+json": {
       "model_id": "1dbefa47fbb5441fab5d8f61edebef10",
       "version_major": 2,
       "version_minor": 0
      },
      "text/plain": [
       "Summaries:   0%|          | 0/5 [00:00<?, ?summary statistic/s]"
      ]
     },
     "metadata": {},
     "output_type": "display_data"
    },
    {
     "data": {
      "application/vnd.jupyter.widget-view+json": {
       "model_id": "fd3eb55cff764e36b99ee26fc3a95301",
       "version_major": 2,
       "version_minor": 0
      },
      "text/plain": [
       "Taking the most far appart qx qy:   0%|          | 0/10 [00:00<?, ?run/s]"
      ]
     },
     "metadata": {},
     "output_type": "display_data"
    },
    {
     "data": {
      "application/vnd.jupyter.widget-view+json": {
       "model_id": "c3b2c312c17944aead58eac00b3241cd",
       "version_major": 2,
       "version_minor": 0
      },
      "text/plain": [
       "Training NPE:   0%|          | 0/50 [00:00<?, ?epoch/s]"
      ]
     },
     "metadata": {},
     "output_type": "display_data"
    },
    {
     "data": {
      "application/vnd.jupyter.widget-view+json": {
       "model_id": "f280e062166648f8b7dcc7f3ec554a52",
       "version_major": 2,
       "version_minor": 0
      },
      "text/plain": [
       "Generating data:   0%|          | 0/1 [00:00<?, ?theta/s]"
      ]
     },
     "metadata": {},
     "output_type": "display_data"
    },
    {
     "data": {
      "application/vnd.jupyter.widget-view+json": {
       "model_id": "e786e4cce6f04ef48412d4bcd0fc257f",
       "version_major": 2,
       "version_minor": 0
      },
      "text/plain": [
       "Generating data:   0%|          | 0/50000 [00:00<?, ?theta/s]"
      ]
     },
     "metadata": {},
     "output_type": "display_data"
    },
    {
     "data": {
      "application/vnd.jupyter.widget-view+json": {
       "model_id": "75b4f98aea484d748b668dab70757de4",
       "version_major": 2,
       "version_minor": 0
      },
      "text/plain": [
       "Generating data:   0%|          | 0/5000 [00:00<?, ?theta/s]"
      ]
     },
     "metadata": {},
     "output_type": "display_data"
    },
    {
     "data": {
      "application/vnd.jupyter.widget-view+json": {
       "model_id": "3f152aad9922422f95ee831329cc00f9",
       "version_major": 2,
       "version_minor": 0
      },
      "text/plain": [
       "Taking the most far appart qx qy:   0%|          | 0/10 [00:00<?, ?run/s]"
      ]
     },
     "metadata": {},
     "output_type": "display_data"
    },
    {
     "data": {
      "application/vnd.jupyter.widget-view+json": {
       "model_id": "520c73f546da4d17ba673222cb8184c2",
       "version_major": 2,
       "version_minor": 0
      },
      "text/plain": [
       "Training NPE:   0%|          | 0/50 [00:00<?, ?epoch/s]"
      ]
     },
     "metadata": {},
     "output_type": "display_data"
    },
    {
     "data": {
      "application/vnd.jupyter.widget-view+json": {
       "model_id": "b549653b3d5646bda4ae1ddb0f76c3c7",
       "version_major": 2,
       "version_minor": 0
      },
      "text/plain": [
       "Generating data:   0%|          | 0/1 [00:00<?, ?theta/s]"
      ]
     },
     "metadata": {},
     "output_type": "display_data"
    },
    {
     "data": {
      "application/vnd.jupyter.widget-view+json": {
       "model_id": "d1778df937dc43d7887f5871f9ac3796",
       "version_major": 2,
       "version_minor": 0
      },
      "text/plain": [
       "Generating data:   0%|          | 0/50000 [00:00<?, ?theta/s]"
      ]
     },
     "metadata": {},
     "output_type": "display_data"
    },
    {
     "data": {
      "application/vnd.jupyter.widget-view+json": {
       "model_id": "df9af86fc182424b8ff448db8a9f5e59",
       "version_major": 2,
       "version_minor": 0
      },
      "text/plain": [
       "Generating data:   0%|          | 0/5000 [00:00<?, ?theta/s]"
      ]
     },
     "metadata": {},
     "output_type": "display_data"
    },
    {
     "data": {
      "application/vnd.jupyter.widget-view+json": {
       "model_id": "90d9fddea0544344989e6dae7de40ba1",
       "version_major": 2,
       "version_minor": 0
      },
      "text/plain": [
       "Taking the most far appart qx qy:   0%|          | 0/10 [00:00<?, ?run/s]"
      ]
     },
     "metadata": {},
     "output_type": "display_data"
    },
    {
     "data": {
      "application/vnd.jupyter.widget-view+json": {
       "model_id": "06fdaca01acd48708f6e9cd3ee76a69e",
       "version_major": 2,
       "version_minor": 0
      },
      "text/plain": [
       "Training NPE:   0%|          | 0/50 [00:00<?, ?epoch/s]"
      ]
     },
     "metadata": {},
     "output_type": "display_data"
    },
    {
     "data": {
      "application/vnd.jupyter.widget-view+json": {
       "model_id": "b9b5fca675e64ac98084ae7aa014dd22",
       "version_major": 2,
       "version_minor": 0
      },
      "text/plain": [
       "Generating data:   0%|          | 0/1 [00:00<?, ?theta/s]"
      ]
     },
     "metadata": {},
     "output_type": "display_data"
    },
    {
     "data": {
      "application/vnd.jupyter.widget-view+json": {
       "model_id": "412ec3b163664e99b3b0c9a7a9e2a6a9",
       "version_major": 2,
       "version_minor": 0
      },
      "text/plain": [
       "Generating data:   0%|          | 0/50000 [00:00<?, ?theta/s]"
      ]
     },
     "metadata": {},
     "output_type": "display_data"
    },
    {
     "data": {
      "application/vnd.jupyter.widget-view+json": {
       "model_id": "35bf558fc52341b4b164473057adffac",
       "version_major": 2,
       "version_minor": 0
      },
      "text/plain": [
       "Generating data:   0%|          | 0/5000 [00:00<?, ?theta/s]"
      ]
     },
     "metadata": {},
     "output_type": "display_data"
    },
    {
     "data": {
      "application/vnd.jupyter.widget-view+json": {
       "model_id": "80deea8483754c9895bbf87548d25c2c",
       "version_major": 2,
       "version_minor": 0
      },
      "text/plain": [
       "Taking the most far appart qx qy:   0%|          | 0/10 [00:00<?, ?run/s]"
      ]
     },
     "metadata": {},
     "output_type": "display_data"
    },
    {
     "data": {
      "application/vnd.jupyter.widget-view+json": {
       "model_id": "5922a4e25e574600a321d6614ee92a51",
       "version_major": 2,
       "version_minor": 0
      },
      "text/plain": [
       "Training NPE:   0%|          | 0/50 [00:00<?, ?epoch/s]"
      ]
     },
     "metadata": {},
     "output_type": "display_data"
    },
    {
     "data": {
      "application/vnd.jupyter.widget-view+json": {
       "model_id": "3e6ccf358f4e4c878abc44f6e72b382d",
       "version_major": 2,
       "version_minor": 0
      },
      "text/plain": [
       "Generating data:   0%|          | 0/1 [00:00<?, ?theta/s]"
      ]
     },
     "metadata": {},
     "output_type": "display_data"
    },
    {
     "data": {
      "application/vnd.jupyter.widget-view+json": {
       "model_id": "5b88f4fa767f4964ada3506cb637dd3f",
       "version_major": 2,
       "version_minor": 0
      },
      "text/plain": [
       "Generating data:   0%|          | 0/50000 [00:00<?, ?theta/s]"
      ]
     },
     "metadata": {},
     "output_type": "display_data"
    },
    {
     "data": {
      "application/vnd.jupyter.widget-view+json": {
       "model_id": "104ecc51c3c04610bf9105796513b59b",
       "version_major": 2,
       "version_minor": 0
      },
      "text/plain": [
       "Generating data:   0%|          | 0/5000 [00:00<?, ?theta/s]"
      ]
     },
     "metadata": {},
     "output_type": "display_data"
    },
    {
     "data": {
      "application/vnd.jupyter.widget-view+json": {
       "model_id": "b2857aa057b249818b7c61923c779fc7",
       "version_major": 2,
       "version_minor": 0
      },
      "text/plain": [
       "Taking the most far appart qx qy:   0%|          | 0/10 [00:00<?, ?run/s]"
      ]
     },
     "metadata": {},
     "output_type": "display_data"
    },
    {
     "data": {
      "application/vnd.jupyter.widget-view+json": {
       "model_id": "bf653cc26659402a926dc3e98eedaef1",
       "version_major": 2,
       "version_minor": 0
      },
      "text/plain": [
       "Training NPE:   0%|          | 0/50 [00:00<?, ?epoch/s]"
      ]
     },
     "metadata": {},
     "output_type": "display_data"
    },
    {
     "data": {
      "application/vnd.jupyter.widget-view+json": {
       "model_id": "fa7f396f15154ed2800dcbe1cbf0cca0",
       "version_major": 2,
       "version_minor": 0
      },
      "text/plain": [
       "Generating data:   0%|          | 0/1 [00:00<?, ?theta/s]"
      ]
     },
     "metadata": {},
     "output_type": "display_data"
    },
    {
     "data": {
      "application/vnd.jupyter.widget-view+json": {
       "model_id": "30ed9c0e9d5145569b97d36e93a0f1c1",
       "version_major": 2,
       "version_minor": 0
      },
      "text/plain": [
       "Generating data:   0%|          | 0/50000 [00:00<?, ?theta/s]"
      ]
     },
     "metadata": {},
     "output_type": "display_data"
    },
    {
     "data": {
      "application/vnd.jupyter.widget-view+json": {
       "model_id": "cadeb216ce9545759af88b05f5b28ccb",
       "version_major": 2,
       "version_minor": 0
      },
      "text/plain": [
       "Generating data:   0%|          | 0/5000 [00:00<?, ?theta/s]"
      ]
     },
     "metadata": {},
     "output_type": "display_data"
    },
    {
     "data": {
      "application/vnd.jupyter.widget-view+json": {
       "model_id": "ee6f4d907529469593815aedfc446781",
       "version_major": 2,
       "version_minor": 0
      },
      "text/plain": [
       "Generating data:   0%|          | 0/50000 [00:00<?, ?theta/s]"
      ]
     },
     "metadata": {},
     "output_type": "display_data"
    },
    {
     "data": {
      "application/vnd.jupyter.widget-view+json": {
       "model_id": "5bba804d705d4a8a9047681ecba69126",
       "version_major": 2,
       "version_minor": 0
      },
      "text/plain": [
       "Generating data:   0%|          | 0/5000 [00:00<?, ?theta/s]"
      ]
     },
     "metadata": {},
     "output_type": "display_data"
    },
    {
     "data": {
      "application/vnd.jupyter.widget-view+json": {
       "model_id": "dd92d39b1473493496d43f2b00650a24",
       "version_major": 2,
       "version_minor": 0
      },
      "text/plain": [
       "Summaries:   0%|          | 0/5 [00:00<?, ?summary statistic/s]"
      ]
     },
     "metadata": {},
     "output_type": "display_data"
    },
    {
     "data": {
      "application/vnd.jupyter.widget-view+json": {
       "model_id": "5b321878101741fabb2448d4fc104539",
       "version_major": 2,
       "version_minor": 0
      },
      "text/plain": [
       "Taking the most far appart qx qy:   0%|          | 0/10 [00:00<?, ?run/s]"
      ]
     },
     "metadata": {},
     "output_type": "display_data"
    },
    {
     "data": {
      "application/vnd.jupyter.widget-view+json": {
       "model_id": "5a81985f78ec426fb9191593cfc20d1e",
       "version_major": 2,
       "version_minor": 0
      },
      "text/plain": [
       "Training NPE:   0%|          | 0/50 [00:00<?, ?epoch/s]"
      ]
     },
     "metadata": {},
     "output_type": "display_data"
    },
    {
     "data": {
      "application/vnd.jupyter.widget-view+json": {
       "model_id": "22a31abdba434bdbaa592f4072e8598f",
       "version_major": 2,
       "version_minor": 0
      },
      "text/plain": [
       "Generating data:   0%|          | 0/1 [00:00<?, ?theta/s]"
      ]
     },
     "metadata": {},
     "output_type": "display_data"
    },
    {
     "data": {
      "application/vnd.jupyter.widget-view+json": {
       "model_id": "c27adda2d14c466b8d09905f982f7b4e",
       "version_major": 2,
       "version_minor": 0
      },
      "text/plain": [
       "Generating data:   0%|          | 0/50000 [00:00<?, ?theta/s]"
      ]
     },
     "metadata": {},
     "output_type": "display_data"
    },
    {
     "data": {
      "application/vnd.jupyter.widget-view+json": {
       "model_id": "8a21fd65d37d4118aa6aa848958e4095",
       "version_major": 2,
       "version_minor": 0
      },
      "text/plain": [
       "Generating data:   0%|          | 0/5000 [00:00<?, ?theta/s]"
      ]
     },
     "metadata": {},
     "output_type": "display_data"
    },
    {
     "data": {
      "application/vnd.jupyter.widget-view+json": {
       "model_id": "e278531bdb62481a9cdb8c6e537a7d63",
       "version_major": 2,
       "version_minor": 0
      },
      "text/plain": [
       "Taking the most far appart qx qy:   0%|          | 0/10 [00:00<?, ?run/s]"
      ]
     },
     "metadata": {},
     "output_type": "display_data"
    },
    {
     "data": {
      "application/vnd.jupyter.widget-view+json": {
       "model_id": "48def77849244cf69bf07dba5287d01f",
       "version_major": 2,
       "version_minor": 0
      },
      "text/plain": [
       "Training NPE:   0%|          | 0/50 [00:00<?, ?epoch/s]"
      ]
     },
     "metadata": {},
     "output_type": "display_data"
    },
    {
     "data": {
      "application/vnd.jupyter.widget-view+json": {
       "model_id": "7f948497ce474bf3bed6c8a19f5f87bf",
       "version_major": 2,
       "version_minor": 0
      },
      "text/plain": [
       "Generating data:   0%|          | 0/1 [00:00<?, ?theta/s]"
      ]
     },
     "metadata": {},
     "output_type": "display_data"
    },
    {
     "data": {
      "application/vnd.jupyter.widget-view+json": {
       "model_id": "7ffddec94a8f42709446dd68fd6ddd74",
       "version_major": 2,
       "version_minor": 0
      },
      "text/plain": [
       "Generating data:   0%|          | 0/50000 [00:00<?, ?theta/s]"
      ]
     },
     "metadata": {},
     "output_type": "display_data"
    },
    {
     "data": {
      "application/vnd.jupyter.widget-view+json": {
       "model_id": "c54acc48938a4dd18d2dc6f777278fdf",
       "version_major": 2,
       "version_minor": 0
      },
      "text/plain": [
       "Generating data:   0%|          | 0/5000 [00:00<?, ?theta/s]"
      ]
     },
     "metadata": {},
     "output_type": "display_data"
    },
    {
     "data": {
      "application/vnd.jupyter.widget-view+json": {
       "model_id": "a68333b4d84144a7925a41d8a3d89345",
       "version_major": 2,
       "version_minor": 0
      },
      "text/plain": [
       "Taking the most far appart qx qy:   0%|          | 0/10 [00:00<?, ?run/s]"
      ]
     },
     "metadata": {},
     "output_type": "display_data"
    },
    {
     "data": {
      "application/vnd.jupyter.widget-view+json": {
       "model_id": "3f9ce5b20d5943e7a33831b72bf9272c",
       "version_major": 2,
       "version_minor": 0
      },
      "text/plain": [
       "Training NPE:   0%|          | 0/50 [00:00<?, ?epoch/s]"
      ]
     },
     "metadata": {},
     "output_type": "display_data"
    },
    {
     "data": {
      "application/vnd.jupyter.widget-view+json": {
       "model_id": "c5bf8b3e14b245aa9bafe66afe135056",
       "version_major": 2,
       "version_minor": 0
      },
      "text/plain": [
       "Generating data:   0%|          | 0/1 [00:00<?, ?theta/s]"
      ]
     },
     "metadata": {},
     "output_type": "display_data"
    },
    {
     "data": {
      "application/vnd.jupyter.widget-view+json": {
       "model_id": "bbd27cad8888473b8d6de64f116f5999",
       "version_major": 2,
       "version_minor": 0
      },
      "text/plain": [
       "Generating data:   0%|          | 0/50000 [00:00<?, ?theta/s]"
      ]
     },
     "metadata": {},
     "output_type": "display_data"
    },
    {
     "data": {
      "application/vnd.jupyter.widget-view+json": {
       "model_id": "523870066ce34e60b69ceee3c20fc38e",
       "version_major": 2,
       "version_minor": 0
      },
      "text/plain": [
       "Generating data:   0%|          | 0/5000 [00:00<?, ?theta/s]"
      ]
     },
     "metadata": {},
     "output_type": "display_data"
    },
    {
     "data": {
      "application/vnd.jupyter.widget-view+json": {
       "model_id": "47f0c629bd434cb68f10e3ab9c2aa4e4",
       "version_major": 2,
       "version_minor": 0
      },
      "text/plain": [
       "Taking the most far appart qx qy:   0%|          | 0/10 [00:00<?, ?run/s]"
      ]
     },
     "metadata": {},
     "output_type": "display_data"
    },
    {
     "data": {
      "application/vnd.jupyter.widget-view+json": {
       "model_id": "730f0076988a4ff988417fdee27aef60",
       "version_major": 2,
       "version_minor": 0
      },
      "text/plain": [
       "Training NPE:   0%|          | 0/50 [00:00<?, ?epoch/s]"
      ]
     },
     "metadata": {},
     "output_type": "display_data"
    },
    {
     "data": {
      "application/vnd.jupyter.widget-view+json": {
       "model_id": "cc038a96d544480e98ea42dc1e212fa5",
       "version_major": 2,
       "version_minor": 0
      },
      "text/plain": [
       "Generating data:   0%|          | 0/1 [00:00<?, ?theta/s]"
      ]
     },
     "metadata": {},
     "output_type": "display_data"
    },
    {
     "data": {
      "application/vnd.jupyter.widget-view+json": {
       "model_id": "1de588f59b8b408099e62aa4877940ac",
       "version_major": 2,
       "version_minor": 0
      },
      "text/plain": [
       "Generating data:   0%|          | 0/50000 [00:00<?, ?theta/s]"
      ]
     },
     "metadata": {},
     "output_type": "display_data"
    },
    {
     "data": {
      "application/vnd.jupyter.widget-view+json": {
       "model_id": "c640e57bf3c54d619e1c33907e62de62",
       "version_major": 2,
       "version_minor": 0
      },
      "text/plain": [
       "Generating data:   0%|          | 0/5000 [00:00<?, ?theta/s]"
      ]
     },
     "metadata": {},
     "output_type": "display_data"
    },
    {
     "data": {
      "application/vnd.jupyter.widget-view+json": {
       "model_id": "3a1f61babc22457ebefe90b5ff4032b4",
       "version_major": 2,
       "version_minor": 0
      },
      "text/plain": [
       "Taking the most far appart qx qy:   0%|          | 0/10 [00:00<?, ?run/s]"
      ]
     },
     "metadata": {},
     "output_type": "display_data"
    },
    {
     "data": {
      "application/vnd.jupyter.widget-view+json": {
       "model_id": "db0a656692eb46d490d813725b47ab5f",
       "version_major": 2,
       "version_minor": 0
      },
      "text/plain": [
       "Training NPE:   0%|          | 0/50 [00:00<?, ?epoch/s]"
      ]
     },
     "metadata": {},
     "output_type": "display_data"
    },
    {
     "data": {
      "application/vnd.jupyter.widget-view+json": {
       "model_id": "4ff8ac3ef597403faa07b3ea72b0daca",
       "version_major": 2,
       "version_minor": 0
      },
      "text/plain": [
       "Generating data:   0%|          | 0/1 [00:00<?, ?theta/s]"
      ]
     },
     "metadata": {},
     "output_type": "display_data"
    },
    {
     "data": {
      "application/vnd.jupyter.widget-view+json": {
       "model_id": "0f19a2148da14d6492d17971ed95dd85",
       "version_major": 2,
       "version_minor": 0
      },
      "text/plain": [
       "Generating data:   0%|          | 0/50000 [00:00<?, ?theta/s]"
      ]
     },
     "metadata": {},
     "output_type": "display_data"
    },
    {
     "data": {
      "application/vnd.jupyter.widget-view+json": {
       "model_id": "203f800dacec41afad5f4565863c5c60",
       "version_major": 2,
       "version_minor": 0
      },
      "text/plain": [
       "Generating data:   0%|          | 0/5000 [00:00<?, ?theta/s]"
      ]
     },
     "metadata": {},
     "output_type": "display_data"
    },
    {
     "data": {
      "application/vnd.jupyter.widget-view+json": {
       "model_id": "6b9b9b500d7c497a8fc286e9835a9e78",
       "version_major": 2,
       "version_minor": 0
      },
      "text/plain": [
       "Generating data:   0%|          | 0/50000 [00:00<?, ?theta/s]"
      ]
     },
     "metadata": {},
     "output_type": "display_data"
    },
    {
     "data": {
      "application/vnd.jupyter.widget-view+json": {
       "model_id": "09b2ac8d79de4e64b5dd47d8e7bd07fa",
       "version_major": 2,
       "version_minor": 0
      },
      "text/plain": [
       "Generating data:   0%|          | 0/5000 [00:00<?, ?theta/s]"
      ]
     },
     "metadata": {},
     "output_type": "display_data"
    },
    {
     "data": {
      "application/vnd.jupyter.widget-view+json": {
       "model_id": "2be81b5589424299b9eeed8b64f6885b",
       "version_major": 2,
       "version_minor": 0
      },
      "text/plain": [
       "Summaries:   0%|          | 0/5 [00:00<?, ?summary statistic/s]"
      ]
     },
     "metadata": {},
     "output_type": "display_data"
    },
    {
     "data": {
      "application/vnd.jupyter.widget-view+json": {
       "model_id": "0bd6f1fdab0e49699e7f1f577b9686bd",
       "version_major": 2,
       "version_minor": 0
      },
      "text/plain": [
       "Taking the most far appart qx qy:   0%|          | 0/10 [00:00<?, ?run/s]"
      ]
     },
     "metadata": {},
     "output_type": "display_data"
    },
    {
     "data": {
      "application/vnd.jupyter.widget-view+json": {
       "model_id": "a9250e04c32e473aa77ac447ef161583",
       "version_major": 2,
       "version_minor": 0
      },
      "text/plain": [
       "Training NPE:   0%|          | 0/50 [00:00<?, ?epoch/s]"
      ]
     },
     "metadata": {},
     "output_type": "display_data"
    },
    {
     "data": {
      "application/vnd.jupyter.widget-view+json": {
       "model_id": "32bc1e71b9434f49aa2553add1b99d8a",
       "version_major": 2,
       "version_minor": 0
      },
      "text/plain": [
       "Generating data:   0%|          | 0/1 [00:00<?, ?theta/s]"
      ]
     },
     "metadata": {},
     "output_type": "display_data"
    },
    {
     "data": {
      "application/vnd.jupyter.widget-view+json": {
       "model_id": "fa26556e70254f61bb961bfce47d204c",
       "version_major": 2,
       "version_minor": 0
      },
      "text/plain": [
       "Generating data:   0%|          | 0/50000 [00:00<?, ?theta/s]"
      ]
     },
     "metadata": {},
     "output_type": "display_data"
    },
    {
     "data": {
      "application/vnd.jupyter.widget-view+json": {
       "model_id": "183670f3b674485b91957672ac6f12c1",
       "version_major": 2,
       "version_minor": 0
      },
      "text/plain": [
       "Generating data:   0%|          | 0/5000 [00:00<?, ?theta/s]"
      ]
     },
     "metadata": {},
     "output_type": "display_data"
    },
    {
     "data": {
      "application/vnd.jupyter.widget-view+json": {
       "model_id": "55ec91e77d604e109a2fb27c51b60f1d",
       "version_major": 2,
       "version_minor": 0
      },
      "text/plain": [
       "Taking the most far appart qx qy:   0%|          | 0/10 [00:00<?, ?run/s]"
      ]
     },
     "metadata": {},
     "output_type": "display_data"
    },
    {
     "data": {
      "application/vnd.jupyter.widget-view+json": {
       "model_id": "70e333b88c4f47ef91ea537774bfb8f3",
       "version_major": 2,
       "version_minor": 0
      },
      "text/plain": [
       "Training NPE:   0%|          | 0/50 [00:00<?, ?epoch/s]"
      ]
     },
     "metadata": {},
     "output_type": "display_data"
    },
    {
     "data": {
      "application/vnd.jupyter.widget-view+json": {
       "model_id": "d5a1bd2e281245cb946871e8c3dabbcf",
       "version_major": 2,
       "version_minor": 0
      },
      "text/plain": [
       "Generating data:   0%|          | 0/1 [00:00<?, ?theta/s]"
      ]
     },
     "metadata": {},
     "output_type": "display_data"
    },
    {
     "data": {
      "application/vnd.jupyter.widget-view+json": {
       "model_id": "4d2fdfb55d2146639351a519d9ef7b1b",
       "version_major": 2,
       "version_minor": 0
      },
      "text/plain": [
       "Generating data:   0%|          | 0/50000 [00:00<?, ?theta/s]"
      ]
     },
     "metadata": {},
     "output_type": "display_data"
    },
    {
     "data": {
      "application/vnd.jupyter.widget-view+json": {
       "model_id": "5a7a783be1134eac88af7d31c545decf",
       "version_major": 2,
       "version_minor": 0
      },
      "text/plain": [
       "Generating data:   0%|          | 0/5000 [00:00<?, ?theta/s]"
      ]
     },
     "metadata": {},
     "output_type": "display_data"
    },
    {
     "data": {
      "application/vnd.jupyter.widget-view+json": {
       "model_id": "71fb87864d4047bfb5e7efd2e52d0521",
       "version_major": 2,
       "version_minor": 0
      },
      "text/plain": [
       "Taking the most far appart qx qy:   0%|          | 0/10 [00:00<?, ?run/s]"
      ]
     },
     "metadata": {},
     "output_type": "display_data"
    },
    {
     "data": {
      "application/vnd.jupyter.widget-view+json": {
       "model_id": "d66e8196759a45c986c91fa74b72139f",
       "version_major": 2,
       "version_minor": 0
      },
      "text/plain": [
       "Training NPE:   0%|          | 0/50 [00:00<?, ?epoch/s]"
      ]
     },
     "metadata": {},
     "output_type": "display_data"
    },
    {
     "data": {
      "application/vnd.jupyter.widget-view+json": {
       "model_id": "ba88fbcc49ec43c1a7b4cfae9b638c51",
       "version_major": 2,
       "version_minor": 0
      },
      "text/plain": [
       "Generating data:   0%|          | 0/1 [00:00<?, ?theta/s]"
      ]
     },
     "metadata": {},
     "output_type": "display_data"
    },
    {
     "data": {
      "application/vnd.jupyter.widget-view+json": {
       "model_id": "172849a2dc9648048d1e6fd719932542",
       "version_major": 2,
       "version_minor": 0
      },
      "text/plain": [
       "Generating data:   0%|          | 0/50000 [00:00<?, ?theta/s]"
      ]
     },
     "metadata": {},
     "output_type": "display_data"
    },
    {
     "data": {
      "application/vnd.jupyter.widget-view+json": {
       "model_id": "de5ead2ab59846a2a65c1d4dcbf15a7f",
       "version_major": 2,
       "version_minor": 0
      },
      "text/plain": [
       "Generating data:   0%|          | 0/5000 [00:00<?, ?theta/s]"
      ]
     },
     "metadata": {},
     "output_type": "display_data"
    },
    {
     "data": {
      "application/vnd.jupyter.widget-view+json": {
       "model_id": "e0eea8ff589e40a59e653bba7b5a83fe",
       "version_major": 2,
       "version_minor": 0
      },
      "text/plain": [
       "Taking the most far appart qx qy:   0%|          | 0/10 [00:00<?, ?run/s]"
      ]
     },
     "metadata": {},
     "output_type": "display_data"
    },
    {
     "data": {
      "application/vnd.jupyter.widget-view+json": {
       "model_id": "6572566ebb82421b88f5812a0693bd21",
       "version_major": 2,
       "version_minor": 0
      },
      "text/plain": [
       "Training NPE:   0%|          | 0/50 [00:00<?, ?epoch/s]"
      ]
     },
     "metadata": {},
     "output_type": "display_data"
    },
    {
     "data": {
      "application/vnd.jupyter.widget-view+json": {
       "model_id": "3ac076d298e047248d00013fbe2f4698",
       "version_major": 2,
       "version_minor": 0
      },
      "text/plain": [
       "Generating data:   0%|          | 0/1 [00:00<?, ?theta/s]"
      ]
     },
     "metadata": {},
     "output_type": "display_data"
    },
    {
     "data": {
      "application/vnd.jupyter.widget-view+json": {
       "model_id": "dfdc31f52b3b43f9998cabffd771df49",
       "version_major": 2,
       "version_minor": 0
      },
      "text/plain": [
       "Generating data:   0%|          | 0/50000 [00:00<?, ?theta/s]"
      ]
     },
     "metadata": {},
     "output_type": "display_data"
    },
    {
     "data": {
      "application/vnd.jupyter.widget-view+json": {
       "model_id": "679114916f9f4b7fa4ca3d7e49d461aa",
       "version_major": 2,
       "version_minor": 0
      },
      "text/plain": [
       "Generating data:   0%|          | 0/5000 [00:00<?, ?theta/s]"
      ]
     },
     "metadata": {},
     "output_type": "display_data"
    },
    {
     "data": {
      "application/vnd.jupyter.widget-view+json": {
       "model_id": "44857681b8a14a7c9c41769dbfcab02b",
       "version_major": 2,
       "version_minor": 0
      },
      "text/plain": [
       "Taking the most far appart qx qy:   0%|          | 0/10 [00:00<?, ?run/s]"
      ]
     },
     "metadata": {},
     "output_type": "display_data"
    },
    {
     "data": {
      "application/vnd.jupyter.widget-view+json": {
       "model_id": "348555bfd25b486ba4d4037cf2e7d7e6",
       "version_major": 2,
       "version_minor": 0
      },
      "text/plain": [
       "Training NPE:   0%|          | 0/50 [00:00<?, ?epoch/s]"
      ]
     },
     "metadata": {},
     "output_type": "display_data"
    },
    {
     "data": {
      "application/vnd.jupyter.widget-view+json": {
       "model_id": "1ab97ed43fee4aacaf373458a68564ad",
       "version_major": 2,
       "version_minor": 0
      },
      "text/plain": [
       "Generating data:   0%|          | 0/1 [00:00<?, ?theta/s]"
      ]
     },
     "metadata": {},
     "output_type": "display_data"
    },
    {
     "data": {
      "application/vnd.jupyter.widget-view+json": {
       "model_id": "4b1dac357f594220b15658d8abf1adf0",
       "version_major": 2,
       "version_minor": 0
      },
      "text/plain": [
       "Generating data:   0%|          | 0/50000 [00:00<?, ?theta/s]"
      ]
     },
     "metadata": {},
     "output_type": "display_data"
    },
    {
     "data": {
      "application/vnd.jupyter.widget-view+json": {
       "model_id": "d1cf30ccf9fc45949352bc5e6472e6cc",
       "version_major": 2,
       "version_minor": 0
      },
      "text/plain": [
       "Generating data:   0%|          | 0/5000 [00:00<?, ?theta/s]"
      ]
     },
     "metadata": {},
     "output_type": "display_data"
    },
    {
     "data": {
      "application/vnd.jupyter.widget-view+json": {
       "model_id": "753218b784954570b2e91cc0493cb865",
       "version_major": 2,
       "version_minor": 0
      },
      "text/plain": [
       "Generating data:   0%|          | 0/50000 [00:00<?, ?theta/s]"
      ]
     },
     "metadata": {},
     "output_type": "display_data"
    },
    {
     "data": {
      "application/vnd.jupyter.widget-view+json": {
       "model_id": "ef48c8cd185548a7a4ed4b44fa02d86c",
       "version_major": 2,
       "version_minor": 0
      },
      "text/plain": [
       "Generating data:   0%|          | 0/5000 [00:00<?, ?theta/s]"
      ]
     },
     "metadata": {},
     "output_type": "display_data"
    },
    {
     "data": {
      "application/vnd.jupyter.widget-view+json": {
       "model_id": "2891468220014d35960f8998eb4aed42",
       "version_major": 2,
       "version_minor": 0
      },
      "text/plain": [
       "Summaries:   0%|          | 0/5 [00:00<?, ?summary statistic/s]"
      ]
     },
     "metadata": {},
     "output_type": "display_data"
    },
    {
     "data": {
      "application/vnd.jupyter.widget-view+json": {
       "model_id": "a81b85dd2f9747108cce59c75926cec9",
       "version_major": 2,
       "version_minor": 0
      },
      "text/plain": [
       "Taking the most far appart qx qy:   0%|          | 0/10 [00:00<?, ?run/s]"
      ]
     },
     "metadata": {},
     "output_type": "display_data"
    },
    {
     "data": {
      "application/vnd.jupyter.widget-view+json": {
       "model_id": "006eb190f1944f46aefb06a623f1e576",
       "version_major": 2,
       "version_minor": 0
      },
      "text/plain": [
       "Training NPE:   0%|          | 0/50 [00:00<?, ?epoch/s]"
      ]
     },
     "metadata": {},
     "output_type": "display_data"
    },
    {
     "data": {
      "application/vnd.jupyter.widget-view+json": {
       "model_id": "187bb7eef030421caf859ae1984b5fec",
       "version_major": 2,
       "version_minor": 0
      },
      "text/plain": [
       "Generating data:   0%|          | 0/1 [00:00<?, ?theta/s]"
      ]
     },
     "metadata": {},
     "output_type": "display_data"
    },
    {
     "data": {
      "application/vnd.jupyter.widget-view+json": {
       "model_id": "b7f08ae2919a4674a9d6ec030c23e6de",
       "version_major": 2,
       "version_minor": 0
      },
      "text/plain": [
       "Generating data:   0%|          | 0/50000 [00:00<?, ?theta/s]"
      ]
     },
     "metadata": {},
     "output_type": "display_data"
    },
    {
     "data": {
      "application/vnd.jupyter.widget-view+json": {
       "model_id": "5339d34ffb5648c0a59f8a09c78a5ef0",
       "version_major": 2,
       "version_minor": 0
      },
      "text/plain": [
       "Generating data:   0%|          | 0/5000 [00:00<?, ?theta/s]"
      ]
     },
     "metadata": {},
     "output_type": "display_data"
    },
    {
     "data": {
      "application/vnd.jupyter.widget-view+json": {
       "model_id": "f18d9e26427b44f188b168315fe35501",
       "version_major": 2,
       "version_minor": 0
      },
      "text/plain": [
       "Taking the most far appart qx qy:   0%|          | 0/10 [00:00<?, ?run/s]"
      ]
     },
     "metadata": {},
     "output_type": "display_data"
    },
    {
     "data": {
      "application/vnd.jupyter.widget-view+json": {
       "model_id": "a635334b371945ab8572ddf0fcb74402",
       "version_major": 2,
       "version_minor": 0
      },
      "text/plain": [
       "Training NPE:   0%|          | 0/50 [00:00<?, ?epoch/s]"
      ]
     },
     "metadata": {},
     "output_type": "display_data"
    },
    {
     "data": {
      "application/vnd.jupyter.widget-view+json": {
       "model_id": "cb40dba4c669447aae3aed276af1081c",
       "version_major": 2,
       "version_minor": 0
      },
      "text/plain": [
       "Generating data:   0%|          | 0/1 [00:00<?, ?theta/s]"
      ]
     },
     "metadata": {},
     "output_type": "display_data"
    },
    {
     "data": {
      "application/vnd.jupyter.widget-view+json": {
       "model_id": "6899cf7e59544e938ef265ff4c78c3aa",
       "version_major": 2,
       "version_minor": 0
      },
      "text/plain": [
       "Generating data:   0%|          | 0/50000 [00:00<?, ?theta/s]"
      ]
     },
     "metadata": {},
     "output_type": "display_data"
    },
    {
     "data": {
      "application/vnd.jupyter.widget-view+json": {
       "model_id": "3abe62a438bf4c3ca2bd629fb43efb72",
       "version_major": 2,
       "version_minor": 0
      },
      "text/plain": [
       "Generating data:   0%|          | 0/5000 [00:00<?, ?theta/s]"
      ]
     },
     "metadata": {},
     "output_type": "display_data"
    },
    {
     "data": {
      "application/vnd.jupyter.widget-view+json": {
       "model_id": "13048a716b854750b8d763eabd853c3c",
       "version_major": 2,
       "version_minor": 0
      },
      "text/plain": [
       "Taking the most far appart qx qy:   0%|          | 0/10 [00:00<?, ?run/s]"
      ]
     },
     "metadata": {},
     "output_type": "display_data"
    },
    {
     "data": {
      "application/vnd.jupyter.widget-view+json": {
       "model_id": "fff2411aaa944ca9a20a04e6e1ce9af6",
       "version_major": 2,
       "version_minor": 0
      },
      "text/plain": [
       "Training NPE:   0%|          | 0/50 [00:00<?, ?epoch/s]"
      ]
     },
     "metadata": {},
     "output_type": "display_data"
    },
    {
     "data": {
      "application/vnd.jupyter.widget-view+json": {
       "model_id": "010307c6d1784feb8eb045f98319b4ed",
       "version_major": 2,
       "version_minor": 0
      },
      "text/plain": [
       "Generating data:   0%|          | 0/1 [00:00<?, ?theta/s]"
      ]
     },
     "metadata": {},
     "output_type": "display_data"
    },
    {
     "data": {
      "application/vnd.jupyter.widget-view+json": {
       "model_id": "fdaa09b6849e45be94b91d063eb8c5c2",
       "version_major": 2,
       "version_minor": 0
      },
      "text/plain": [
       "Generating data:   0%|          | 0/50000 [00:00<?, ?theta/s]"
      ]
     },
     "metadata": {},
     "output_type": "display_data"
    },
    {
     "data": {
      "application/vnd.jupyter.widget-view+json": {
       "model_id": "6c7fc517615b4746bd61965d28e66910",
       "version_major": 2,
       "version_minor": 0
      },
      "text/plain": [
       "Generating data:   0%|          | 0/5000 [00:00<?, ?theta/s]"
      ]
     },
     "metadata": {},
     "output_type": "display_data"
    },
    {
     "data": {
      "application/vnd.jupyter.widget-view+json": {
       "model_id": "ba6947128e8649b38da7daf1cdfb7bf8",
       "version_major": 2,
       "version_minor": 0
      },
      "text/plain": [
       "Taking the most far appart qx qy:   0%|          | 0/10 [00:00<?, ?run/s]"
      ]
     },
     "metadata": {},
     "output_type": "display_data"
    },
    {
     "data": {
      "application/vnd.jupyter.widget-view+json": {
       "model_id": "fca83bf5ea6b4d198e5c52ab1233782c",
       "version_major": 2,
       "version_minor": 0
      },
      "text/plain": [
       "Training NPE:   0%|          | 0/50 [00:00<?, ?epoch/s]"
      ]
     },
     "metadata": {},
     "output_type": "display_data"
    },
    {
     "data": {
      "application/vnd.jupyter.widget-view+json": {
       "model_id": "60a92a37e8f949b0a7e14ca4e899adc5",
       "version_major": 2,
       "version_minor": 0
      },
      "text/plain": [
       "Generating data:   0%|          | 0/1 [00:00<?, ?theta/s]"
      ]
     },
     "metadata": {},
     "output_type": "display_data"
    },
    {
     "data": {
      "application/vnd.jupyter.widget-view+json": {
       "model_id": "5c10d6ced4714c8cb1febed1da53c35d",
       "version_major": 2,
       "version_minor": 0
      },
      "text/plain": [
       "Generating data:   0%|          | 0/50000 [00:00<?, ?theta/s]"
      ]
     },
     "metadata": {},
     "output_type": "display_data"
    },
    {
     "data": {
      "application/vnd.jupyter.widget-view+json": {
       "model_id": "18715828e7874f388397cc65b4c19e9c",
       "version_major": 2,
       "version_minor": 0
      },
      "text/plain": [
       "Generating data:   0%|          | 0/5000 [00:00<?, ?theta/s]"
      ]
     },
     "metadata": {},
     "output_type": "display_data"
    },
    {
     "data": {
      "application/vnd.jupyter.widget-view+json": {
       "model_id": "b48b69132476426f8825047924d179d8",
       "version_major": 2,
       "version_minor": 0
      },
      "text/plain": [
       "Taking the most far appart qx qy:   0%|          | 0/10 [00:00<?, ?run/s]"
      ]
     },
     "metadata": {},
     "output_type": "display_data"
    },
    {
     "data": {
      "application/vnd.jupyter.widget-view+json": {
       "model_id": "2c9e2a9a89c54f878c69f156e05bf4fc",
       "version_major": 2,
       "version_minor": 0
      },
      "text/plain": [
       "Training NPE:   0%|          | 0/50 [00:00<?, ?epoch/s]"
      ]
     },
     "metadata": {},
     "output_type": "display_data"
    },
    {
     "data": {
      "application/vnd.jupyter.widget-view+json": {
       "model_id": "c52db5c869f448898e08bf9937e824d2",
       "version_major": 2,
       "version_minor": 0
      },
      "text/plain": [
       "Generating data:   0%|          | 0/1 [00:00<?, ?theta/s]"
      ]
     },
     "metadata": {},
     "output_type": "display_data"
    },
    {
     "data": {
      "application/vnd.jupyter.widget-view+json": {
       "model_id": "6782b17e237d4afd82176cf05680051f",
       "version_major": 2,
       "version_minor": 0
      },
      "text/plain": [
       "Generating data:   0%|          | 0/50000 [00:00<?, ?theta/s]"
      ]
     },
     "metadata": {},
     "output_type": "display_data"
    },
    {
     "data": {
      "application/vnd.jupyter.widget-view+json": {
       "model_id": "a4207ca4d3014e40b23911256526c78c",
       "version_major": 2,
       "version_minor": 0
      },
      "text/plain": [
       "Generating data:   0%|          | 0/5000 [00:00<?, ?theta/s]"
      ]
     },
     "metadata": {},
     "output_type": "display_data"
    },
    {
     "data": {
      "application/vnd.jupyter.widget-view+json": {
       "model_id": "3f71f0b26d244047acf32b0c00a93b51",
       "version_major": 2,
       "version_minor": 0
      },
      "text/plain": [
       "Generating data:   0%|          | 0/50000 [00:00<?, ?theta/s]"
      ]
     },
     "metadata": {},
     "output_type": "display_data"
    },
    {
     "data": {
      "application/vnd.jupyter.widget-view+json": {
       "model_id": "09bd3892d2e14b3592adab9394b2ec94",
       "version_major": 2,
       "version_minor": 0
      },
      "text/plain": [
       "Generating data:   0%|          | 0/5000 [00:00<?, ?theta/s]"
      ]
     },
     "metadata": {},
     "output_type": "display_data"
    },
    {
     "data": {
      "application/vnd.jupyter.widget-view+json": {
       "model_id": "e16c03b54e4a4a43806fb666f8e45c10",
       "version_major": 2,
       "version_minor": 0
      },
      "text/plain": [
       "Summaries:   0%|          | 0/5 [00:00<?, ?summary statistic/s]"
      ]
     },
     "metadata": {},
     "output_type": "display_data"
    },
    {
     "data": {
      "application/vnd.jupyter.widget-view+json": {
       "model_id": "0bed327affc547479be09524379e452d",
       "version_major": 2,
       "version_minor": 0
      },
      "text/plain": [
       "Taking the most far appart qx qy:   0%|          | 0/10 [00:00<?, ?run/s]"
      ]
     },
     "metadata": {},
     "output_type": "display_data"
    },
    {
     "data": {
      "application/vnd.jupyter.widget-view+json": {
       "model_id": "35ad25e466684cf2b4f4273cfece07ca",
       "version_major": 2,
       "version_minor": 0
      },
      "text/plain": [
       "Training NPE:   0%|          | 0/50 [00:00<?, ?epoch/s]"
      ]
     },
     "metadata": {},
     "output_type": "display_data"
    },
    {
     "data": {
      "application/vnd.jupyter.widget-view+json": {
       "model_id": "ef66fa18cf2f4d659fffac5cf5691459",
       "version_major": 2,
       "version_minor": 0
      },
      "text/plain": [
       "Generating data:   0%|          | 0/1 [00:00<?, ?theta/s]"
      ]
     },
     "metadata": {},
     "output_type": "display_data"
    },
    {
     "data": {
      "application/vnd.jupyter.widget-view+json": {
       "model_id": "37ba8d90036d4a8888c752fcd4db5728",
       "version_major": 2,
       "version_minor": 0
      },
      "text/plain": [
       "Generating data:   0%|          | 0/50000 [00:00<?, ?theta/s]"
      ]
     },
     "metadata": {},
     "output_type": "display_data"
    },
    {
     "data": {
      "application/vnd.jupyter.widget-view+json": {
       "model_id": "35e60147d8a7476ea037268a2e3030cb",
       "version_major": 2,
       "version_minor": 0
      },
      "text/plain": [
       "Generating data:   0%|          | 0/5000 [00:00<?, ?theta/s]"
      ]
     },
     "metadata": {},
     "output_type": "display_data"
    },
    {
     "data": {
      "application/vnd.jupyter.widget-view+json": {
       "model_id": "1a7bbe1f063f45148526d8519f013533",
       "version_major": 2,
       "version_minor": 0
      },
      "text/plain": [
       "Taking the most far appart qx qy:   0%|          | 0/10 [00:00<?, ?run/s]"
      ]
     },
     "metadata": {},
     "output_type": "display_data"
    },
    {
     "data": {
      "application/vnd.jupyter.widget-view+json": {
       "model_id": "a206f873923e4ae78df4e265ba074a2b",
       "version_major": 2,
       "version_minor": 0
      },
      "text/plain": [
       "Training NPE:   0%|          | 0/50 [00:00<?, ?epoch/s]"
      ]
     },
     "metadata": {},
     "output_type": "display_data"
    },
    {
     "data": {
      "application/vnd.jupyter.widget-view+json": {
       "model_id": "a3e05dac372e4b848d3ae4edebb13d06",
       "version_major": 2,
       "version_minor": 0
      },
      "text/plain": [
       "Generating data:   0%|          | 0/1 [00:00<?, ?theta/s]"
      ]
     },
     "metadata": {},
     "output_type": "display_data"
    },
    {
     "data": {
      "application/vnd.jupyter.widget-view+json": {
       "model_id": "0586f29b972a4a10b18a63c5d3f74d71",
       "version_major": 2,
       "version_minor": 0
      },
      "text/plain": [
       "Generating data:   0%|          | 0/50000 [00:00<?, ?theta/s]"
      ]
     },
     "metadata": {},
     "output_type": "display_data"
    },
    {
     "data": {
      "application/vnd.jupyter.widget-view+json": {
       "model_id": "943f9a801325449ebd842227060dcf7d",
       "version_major": 2,
       "version_minor": 0
      },
      "text/plain": [
       "Generating data:   0%|          | 0/5000 [00:00<?, ?theta/s]"
      ]
     },
     "metadata": {},
     "output_type": "display_data"
    },
    {
     "data": {
      "application/vnd.jupyter.widget-view+json": {
       "model_id": "a88313c50c5c4d9babc90561bb994910",
       "version_major": 2,
       "version_minor": 0
      },
      "text/plain": [
       "Taking the most far appart qx qy:   0%|          | 0/10 [00:00<?, ?run/s]"
      ]
     },
     "metadata": {},
     "output_type": "display_data"
    },
    {
     "data": {
      "application/vnd.jupyter.widget-view+json": {
       "model_id": "f9189fc62a0644b180b6731eda58b54c",
       "version_major": 2,
       "version_minor": 0
      },
      "text/plain": [
       "Training NPE:   0%|          | 0/50 [00:00<?, ?epoch/s]"
      ]
     },
     "metadata": {},
     "output_type": "display_data"
    },
    {
     "data": {
      "application/vnd.jupyter.widget-view+json": {
       "model_id": "fd677ca765fa4dbab0b8c2eb44584858",
       "version_major": 2,
       "version_minor": 0
      },
      "text/plain": [
       "Generating data:   0%|          | 0/1 [00:00<?, ?theta/s]"
      ]
     },
     "metadata": {},
     "output_type": "display_data"
    },
    {
     "data": {
      "application/vnd.jupyter.widget-view+json": {
       "model_id": "d380f8f88d954bd694cc75e194e0654d",
       "version_major": 2,
       "version_minor": 0
      },
      "text/plain": [
       "Generating data:   0%|          | 0/50000 [00:00<?, ?theta/s]"
      ]
     },
     "metadata": {},
     "output_type": "display_data"
    },
    {
     "data": {
      "application/vnd.jupyter.widget-view+json": {
       "model_id": "921cf9e6f7cd4e9f90caac1d44e26cc5",
       "version_major": 2,
       "version_minor": 0
      },
      "text/plain": [
       "Generating data:   0%|          | 0/5000 [00:00<?, ?theta/s]"
      ]
     },
     "metadata": {},
     "output_type": "display_data"
    },
    {
     "data": {
      "application/vnd.jupyter.widget-view+json": {
       "model_id": "a2da9c33f7774e529a9ad427fb341816",
       "version_major": 2,
       "version_minor": 0
      },
      "text/plain": [
       "Taking the most far appart qx qy:   0%|          | 0/10 [00:00<?, ?run/s]"
      ]
     },
     "metadata": {},
     "output_type": "display_data"
    },
    {
     "data": {
      "application/vnd.jupyter.widget-view+json": {
       "model_id": "6e3d88ad3c2d427fbb37119de83b798e",
       "version_major": 2,
       "version_minor": 0
      },
      "text/plain": [
       "Training NPE:   0%|          | 0/50 [00:00<?, ?epoch/s]"
      ]
     },
     "metadata": {},
     "output_type": "display_data"
    },
    {
     "data": {
      "application/vnd.jupyter.widget-view+json": {
       "model_id": "0cce44a325a143d7a3772b04b2a8a586",
       "version_major": 2,
       "version_minor": 0
      },
      "text/plain": [
       "Generating data:   0%|          | 0/1 [00:00<?, ?theta/s]"
      ]
     },
     "metadata": {},
     "output_type": "display_data"
    },
    {
     "data": {
      "application/vnd.jupyter.widget-view+json": {
       "model_id": "a7f578b8b1c64c458f498246b086d683",
       "version_major": 2,
       "version_minor": 0
      },
      "text/plain": [
       "Generating data:   0%|          | 0/50000 [00:00<?, ?theta/s]"
      ]
     },
     "metadata": {},
     "output_type": "display_data"
    },
    {
     "data": {
      "application/vnd.jupyter.widget-view+json": {
       "model_id": "d40bf3eba8a54cdaa2ee7953c008d05a",
       "version_major": 2,
       "version_minor": 0
      },
      "text/plain": [
       "Generating data:   0%|          | 0/5000 [00:00<?, ?theta/s]"
      ]
     },
     "metadata": {},
     "output_type": "display_data"
    },
    {
     "data": {
      "application/vnd.jupyter.widget-view+json": {
       "model_id": "7cf55e207303436893751eeec99905a7",
       "version_major": 2,
       "version_minor": 0
      },
      "text/plain": [
       "Taking the most far appart qx qy:   0%|          | 0/10 [00:00<?, ?run/s]"
      ]
     },
     "metadata": {},
     "output_type": "display_data"
    },
    {
     "data": {
      "application/vnd.jupyter.widget-view+json": {
       "model_id": "d9f443d178b44a58b689c4d860700b19",
       "version_major": 2,
       "version_minor": 0
      },
      "text/plain": [
       "Training NPE:   0%|          | 0/50 [00:00<?, ?epoch/s]"
      ]
     },
     "metadata": {},
     "output_type": "display_data"
    },
    {
     "data": {
      "application/vnd.jupyter.widget-view+json": {
       "model_id": "cfcf075ecff045cb8d67eef47ace95b5",
       "version_major": 2,
       "version_minor": 0
      },
      "text/plain": [
       "Generating data:   0%|          | 0/1 [00:00<?, ?theta/s]"
      ]
     },
     "metadata": {},
     "output_type": "display_data"
    },
    {
     "data": {
      "application/vnd.jupyter.widget-view+json": {
       "model_id": "a751474de7eb49a28e8bc1fe9b83c416",
       "version_major": 2,
       "version_minor": 0
      },
      "text/plain": [
       "Generating data:   0%|          | 0/50000 [00:00<?, ?theta/s]"
      ]
     },
     "metadata": {},
     "output_type": "display_data"
    },
    {
     "data": {
      "application/vnd.jupyter.widget-view+json": {
       "model_id": "2275c9ed174540a492950c5efd6b4e4e",
       "version_major": 2,
       "version_minor": 0
      },
      "text/plain": [
       "Generating data:   0%|          | 0/5000 [00:00<?, ?theta/s]"
      ]
     },
     "metadata": {},
     "output_type": "display_data"
    }
   ],
   "source": [
    "results = {}\n",
    "sigmas_2 = [1,2,3,4]\n",
    "sigmas_2 = np.arange(1,5,0.25)\n",
    "with tqdm(sigmas_2, unit='Sigma', desc=\"Sigmas\") as tq:\n",
    "    for sigma_2 in tq:\n",
    "        results[sigma_2] = {}\n",
    "        tq.set_postfix({\"sigma²\":sigma_2})\n",
    "        results[sigma_2][\"figure\"], results[sigma_2][\"true_post\"], results[sigma_2][\"samples\"], results[sigma_2][\"samples_y\"], results[sigma_2][\"true_dist\"], results[sigma_2][\"true_dist_y\"]  = prepare_ax_posteriors(sigma_2)\n",
    "        plt.close()"
   ]
  },
  {
   "cell_type": "code",
   "execution_count": 47,
   "metadata": {},
   "outputs": [
    {
     "data": {
      "application/vnd.jupyter.widget-view+json": {
       "model_id": "5df2006ad6344a63ab5cf02a507ac45e",
       "version_major": 2,
       "version_minor": 0
      },
      "text/plain": [
       "interactive(children=(Dropdown(description='sigma_2', options=(1.0, 1.25, 1.5, 1.75, 2.0, 2.25, 2.5, 2.75, 3.0…"
      ]
     },
     "metadata": {},
     "output_type": "display_data"
    }
   ],
   "source": [
    "@widgets.interact(sigma_2=sigmas_2)\n",
    "def plot_posteriors_widget(sigma_2=1):\n",
    "    plt.close()\n",
    "    return results[sigma_2][\"figure\"]"
   ]
  },
  {
   "cell_type": "code",
   "execution_count": 48,
   "metadata": {},
   "outputs": [],
   "source": [
    "def mcmc(density,n_samples):\n",
    "    \n",
    "    def metropolis_sampler(p, nsamples, ):\n",
    "        x = 1 # start somewhere\n",
    "        proposal = lambda x: np.random.normal(x)\n",
    "        for i in range(nsamples):\n",
    "            trial = proposal(x) # random neighbour from the proposal distribution\n",
    "            acceptance = p(trial)/p(x)\n",
    "            # accept the move conditionally\n",
    "            if np.random.uniform() < acceptance:\n",
    "                x = trial\n",
    "            yield x\n",
    "    samples = list(metropolis_sampler(density, n_samples))\n",
    "    return samples"
   ]
  },
  {
   "cell_type": "code",
   "execution_count": 49,
   "metadata": {},
   "outputs": [],
   "source": [
    "def compute_distances(samples_true_distribution, flow_samples):\n",
    "    #samples_true_distribution = mcmc(true_density,10_000)\n",
    "    mu_true_distribution = np.mean(samples_true_distribution)\n",
    "    std_true_distribution = np.std(samples_true_distribution)\n",
    "    \n",
    "    flow_mean = torch.mean(flow_samples).item()\n",
    "    flow_std = torch.std(flow_samples).item()\n",
    "    \n",
    "    distance = np.square(mu_true_distribution - flow_mean) + np.square(np.log(std_true_distribution/flow_std))\n",
    "    return distance"
   ]
  },
  {
   "cell_type": "code",
   "execution_count": 50,
   "metadata": {},
   "outputs": [],
   "source": [
    "distances = {}\n",
    "for summary in results[1][\"true_dist\"].keys():\n",
    "    distances[summary] = {}\n",
    "    for sample_type in [\"samples\",\"samples_y\"]:\n",
    "        dist = [compute_distances(results[sigma_2][\"true_post\"][summary], results[sigma_2][sample_type][summary]) for sigma_2 in sigmas_2]\n",
    "        distances[summary][sample_type] = dist\n"
   ]
  },
  {
   "cell_type": "code",
   "execution_count": 51,
   "metadata": {},
   "outputs": [
    {
     "name": "stdout",
     "output_type": "stream",
     "text": [
      "[1.1810191968229728, 0.8700311716383342, 1.2574336062202878, 0.7565150198882443, 0.8059469831504128, 0.9437529771277124, 1.2770601078032173, 1.0625606129061456, 1.036329593056226, 1.008271840718752, 0.8939055490248584, 0.7884185000691146, 0.8597741517275602, 0.972210368560817, 0.7367569917743781, 0.6691096338114292]\n"
     ]
    },
    {
     "data": {
      "image/png": "[encoded data removed]",
      "text/plain": [
       "<Figure size 1000x1000 with 6 Axes>"
      ]
     },
     "metadata": {},
     "output_type": "display_data"
    }
   ],
   "source": [
    "fig, ax = plt.subplots(3, 2, figsize=(10,10))\n",
    "i=0\n",
    "for summary in results[1][\"true_dist\"].keys():\n",
    "    row = i // 2  \n",
    "    col = i % 2 \n",
    "    distances_x = distances[summary][\"samples\"]\n",
    "    distances_y = distances[summary][\"samples_y\"]\n",
    "    ax[row][col].plot(sigmas_2,distances_x)#,label=\"distance between q(θ|x) and p(θ|x)\")\n",
    "    ax[row][col].plot(sigmas_2,distances_y,linestyle='dashed')#,label=\"distance between q(θ|x) and p(θ|x)\")\n",
    "    ax[row][col].set_title(f\"Distances when observing {summary}\")\n",
    "    if summary==\"mean_and_var\":\n",
    "        print(distances_x)\n",
    "\n",
    "    i+=1\n",
    "labels = [\"distance between q(θ|x) and p(θ|x)\", \"distance between q(θ|x) and p(θ|x)\"]\n",
    "fig.legend(labels, loc=\"lower center\", ncol=2, frameon=False, bbox_to_anchor=(1.04, 1), prop={'size': 10}, facecolor='white', handlelength=1.0, handleheight=1.0)\n",
    "plt.show()"
   ]
  },
  {
   "cell_type": "code",
   "execution_count": 57,
   "metadata": {},
   "outputs": [],
   "source": [
    "np.save(\"results_1_to_5\",results)"
   ]
  },
  {
   "cell_type": "code",
   "execution_count": 52,
   "metadata": {},
   "outputs": [
    {
     "data": {
      "text/plain": [
       "<matplotlib.legend.Legend at 0x1f2d3e451c0>"
      ]
     },
     "execution_count": 52,
     "metadata": {},
     "output_type": "execute_result"
    },
    {
     "data": {
      "image/png": "[encoded data removed]",
      "text/plain": [
       "<Figure size 640x480 with 1 Axes>"
      ]
     },
     "metadata": {},
     "output_type": "display_data"
    }
   ],
   "source": [
    "dist_y = distances[\"mean\"][\"samples_y\"]\n",
    "dist_x = distances[\"mean\"][\"samples\"]\n",
    "\n",
    "plt.plot(sigmas_2,dist_y, label=\" y\")\n",
    "plt.plot(sigmas_2, dist_x, label=\"x\")\n",
    "plt.legend()"
   ]
  },
  {
   "cell_type": "code",
   "execution_count": 53,
   "metadata": {},
   "outputs": [
    {
     "ename": "SyntaxError",
     "evalue": "invalid syntax (1814866518.py, line 1)",
     "output_type": "error",
     "traceback": [
      "\u001b[1;36m  Cell \u001b[1;32mIn[53], line 1\u001b[1;36m\u001b[0m\n\u001b[1;33m    todo :\u001b[0m\n\u001b[1;37m           ^\u001b[0m\n\u001b[1;31mSyntaxError\u001b[0m\u001b[1;31m:\u001b[0m invalid syntax\n"
     ]
    }
   ],
   "source": [
    "todo : \n",
    "    graph selons les sigma? (ps changer xlim, prendre genre le min? ou un percentil?)\n",
    "    voir en scalant les data si on perd"
   ]
  }
 ],
 "metadata": {
  "kernelspec": {
   "display_name": "sbi_env1",
   "language": "python",
   "name": "python3"
  },
  "language_info": {
   "codemirror_mode": {
    "name": "ipython",
    "version": 3
   },
   "file_extension": ".py",
   "mimetype": "text/x-python",
   "name": "python",
   "nbconvert_exporter": "python",
   "pygments_lexer": "ipython3",
   "version": "3.8.16"
  },
  "orig_nbformat": 4
 },
 "nbformat": 4,
 "nbformat_minor": 2
}
